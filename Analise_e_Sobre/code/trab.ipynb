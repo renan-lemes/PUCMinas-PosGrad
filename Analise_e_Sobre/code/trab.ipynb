{
 "cells": [
  {
   "cell_type": "markdown",
   "metadata": {},
   "source": [
    "### Trabalho de Análise de sobrevivência \n",
    "\n",
    "##### Nome : Renan Lemes Leepkaln\n",
    "\n"
   ]
  },
  {
   "cell_type": "markdown",
   "metadata": {},
   "source": [
    "#### Sobre:\n",
    "\n",
    "O conjunto de dados “addicts.csv” vem de um estudo realizado por Caplehorn \n",
    "et al. (“Methadone Dosage and Retention of Patients in Maintenance Treatment” \n",
    "Med. J. Aust., 1991). Esses dados incluem o tempo em dias gasto pelo paciente \n",
    "viciado em heroína desde a entrada até a saída de uma das duas clínicas (A ou \n",
    "B), a dose máxima diária de metadona usada (em mg/dia) e se ele teve registro \n",
    "ou não de prisão. \n",
    "Pensando que o \"tempo de sobrevida\" é o tempo desde a entrada do paciente \n",
    "até a sua saída na clínica, responda as perguntas.\n",
    "\n",
    "\n",
    "link ref : <https://www.kaggle.com/code/henriquebas/people-analytics-turnover-python-lifelines>"
   ]
  },
  {
   "cell_type": "markdown",
   "metadata": {},
   "source": [
    "Pensando que o \"tempo de sobrevida\" é o tempo desde a entrada do paciente \n",
    "até a sua saída na clínica, responda as perguntas.\n",
    "\n",
    "\n",
    "**PARTE I**\n",
    "\n",
    "\n",
    "Vamos fazer uma análise do tempo de sobrevida dos pacientes no geral (sem \n",
    "incluir covariável)\n",
    "\n",
    "\n",
    "a. Dê o gráfico das estimativas de Kaplan-Meier (EKM) para o tempo de \n",
    "sobrevida;\n",
    "\n",
    "\n",
    "b. Qual o tempo mediano de sobrevivência desses pacientes? Qual o \n",
    "intervalo de confiança de 95%?\n",
    "\n",
    "\n",
    "c. Qual a probabilidade de um paciente sobreviver 350 dias? Qual o \n",
    "intervalo de confiança de 95%?"
   ]
  },
  {
   "cell_type": "code",
   "execution_count": 1,
   "metadata": {},
   "outputs": [],
   "source": [
    "## importando as libs gerais \n",
    "\n",
    "import pandas as pd\n",
    "import numpy as np\n",
    "import csv\n",
    "\n",
    "import matplotlib.pyplot as plt\n",
    "import seaborn as sns\n",
    "\n"
   ]
  },
  {
   "cell_type": "code",
   "execution_count": 2,
   "metadata": {},
   "outputs": [
    {
     "name": "stderr",
     "output_type": "stream",
     "text": [
      "DEPRECATION: Loading egg at c:\\python311\\lib\\site-packages\\vboxapi-1.0-py3.11.egg is deprecated. pip 24.3 will enforce this behaviour change. A possible replacement is to use pip for package installation.. Discussion can be found at https://github.com/pypa/pip/issues/12330\n",
      "ERROR: Could not find a version that satisfies the requirement lifeline (from versions: none)\n",
      "ERROR: No matching distribution found for lifeline\n",
      "\n",
      "[notice] A new release of pip is available: 23.3.2 -> 24.1.2\n",
      "[notice] To update, run: python.exe -m pip install --upgrade pip\n"
     ]
    }
   ],
   "source": [
    "!pip install lifeline"
   ]
  },
  {
   "cell_type": "code",
   "execution_count": 8,
   "metadata": {},
   "outputs": [
    {
     "name": "stdout",
     "output_type": "stream",
     "text": [
      "Requirement already satisfied: pip in c:\\users\\renan lemes\\appdata\\roaming\\python\\python311\\site-packages (23.3.2)\n",
      "Collecting pip\n",
      "  Using cached pip-24.1.2-py3-none-any.whl.metadata (3.6 kB)\n",
      "Using cached pip-24.1.2-py3-none-any.whl (1.8 MB)\n"
     ]
    },
    {
     "name": "stderr",
     "output_type": "stream",
     "text": [
      "DEPRECATION: Loading egg at c:\\python311\\lib\\site-packages\\vboxapi-1.0-py3.11.egg is deprecated. pip 24.3 will enforce this behaviour change. A possible replacement is to use pip for package installation.. Discussion can be found at https://github.com/pypa/pip/issues/12330\n",
      "ERROR: To modify pip, please run the following command:\n",
      "C:\\Python311\\python.exe -m pip install --upgrade pip\n",
      "\n",
      "[notice] A new release of pip is available: 23.3.2 -> 24.1.2\n",
      "[notice] To update, run: python.exe -m pip install --upgrade pip\n"
     ]
    }
   ],
   "source": [
    "!pip install --upgrade pip"
   ]
  },
  {
   "cell_type": "code",
   "execution_count": null,
   "metadata": {},
   "outputs": [],
   "source": []
  },
  {
   "cell_type": "code",
   "execution_count": 3,
   "metadata": {},
   "outputs": [
    {
     "ename": "ModuleNotFoundError",
     "evalue": "No module named 'lifeline'",
     "output_type": "error",
     "traceback": [
      "\u001b[1;31m---------------------------------------------------------------------------\u001b[0m",
      "\u001b[1;31mModuleNotFoundError\u001b[0m                       Traceback (most recent call last)",
      "Cell \u001b[1;32mIn[3], line 1\u001b[0m\n\u001b[1;32m----> 1\u001b[0m \u001b[38;5;28;01mimport\u001b[39;00m \u001b[38;5;21;01mlifeline\u001b[39;00m\n",
      "\u001b[1;31mModuleNotFoundError\u001b[0m: No module named 'lifeline'"
     ]
    }
   ],
   "source": [
    "import lifeline"
   ]
  },
  {
   "cell_type": "code",
   "execution_count": null,
   "metadata": {},
   "outputs": [],
   "source": []
  },
  {
   "cell_type": "code",
   "execution_count": null,
   "metadata": {},
   "outputs": [],
   "source": []
  },
  {
   "cell_type": "markdown",
   "metadata": {},
   "source": [
    "----"
   ]
  },
  {
   "cell_type": "markdown",
   "metadata": {},
   "source": [
    "**PARTE II**\n",
    "\n",
    "\n",
    "Vamos fazer uma análise do tempo de sobrevida dos pacientes por \"clínica\" e \n",
    "\"prisão\"\n",
    "\n",
    "\n",
    "d. Qual o gráfico das estimativas de Kaplan-Meier (EKM) para o tempo de \n",
    "sobrevida separada por \"clínica\"? E por \"prisão\"?\n",
    "\n",
    "\n",
    "e. Qual o tempo mediano de sobrevivência dos pacientes da clínica A? E \n",
    "da clínica B?\n",
    "\n",
    "\n",
    "f. Qual o tempo mediano de sobrevivência dos pacientes que tiveram \n",
    "alguma prisão? E daqueles que não tiveram prisão?\n",
    "\n",
    "\n",
    "g. Qual a probabilidade de um paciente da clínica A sobreviver 550 dias?\n",
    " \n",
    "h. Qual a probabilidade de um paciente que teve prisão sobreviver 550 \n",
    "dias? \n",
    "\n",
    "i. Pelo teste de log-rank, há diferença significativa nas EKM entre as \n",
    "clínicas? E entre a covariável prisão?\n"
   ]
  },
  {
   "cell_type": "code",
   "execution_count": null,
   "metadata": {},
   "outputs": [],
   "source": []
  },
  {
   "cell_type": "code",
   "execution_count": null,
   "metadata": {},
   "outputs": [],
   "source": []
  },
  {
   "cell_type": "code",
   "execution_count": null,
   "metadata": {},
   "outputs": [],
   "source": []
  },
  {
   "cell_type": "markdown",
   "metadata": {},
   "source": [
    "----"
   ]
  },
  {
   "cell_type": "markdown",
   "metadata": {},
   "source": [
    "**PARTE III - Modelo de Regressão Exponencial**\n",
    "\n",
    "Ajuste o modelo de regressão exponencial com todas as covariáveis\n",
    " $$ln(T) = b0 + b1 \\cdot Clinica + b2 \\cdot Prision + b3 \\cdot Dose $$\n",
    "\n",
    "j. Há alguma covariável que não tem significância estatística? Qual?\n",
    "Ajuste o modelo com apenas \"clínica\" e \"dose\"\n",
    " $$ ln(T) = b0 + b1 \\cdot Clinica + b2 \\cdot Dose $$\n",
    "Use o modelo obtido em \"j\", para responder (k), (L) e (m)\n",
    "\n",
    "k. qual o tempo mediano de sobrevida de um paciente da clínica A que usa \n",
    "80 mg/dia, sabendo que o percentil (100 - p)% é dado por\n",
    " $$ tp = -ln(1 - p) \\cdot e^{XB} $$\n",
    "\n",
    "l. Qual a interpretação prática dos coeficientes b1 e b2?\n",
    "\n",
    "m. Sabendo que a função sobrevivência para modelo de regressão \n",
    "exponencial é\n",
    "$$ S(t,x) = e^{-t/e^{XB}}$$\n",
    "\n",
    "qual a probabilidade de um paciente da clínica A que está usando 80 mg/dia de \n",
    "dose sair da clínica depois de 400 dias?"
   ]
  },
  {
   "cell_type": "code",
   "execution_count": null,
   "metadata": {},
   "outputs": [],
   "source": []
  },
  {
   "cell_type": "code",
   "execution_count": null,
   "metadata": {},
   "outputs": [],
   "source": []
  },
  {
   "cell_type": "code",
   "execution_count": null,
   "metadata": {},
   "outputs": [],
   "source": []
  },
  {
   "cell_type": "markdown",
   "metadata": {},
   "source": [
    "------"
   ]
  },
  {
   "cell_type": "markdown",
   "metadata": {},
   "source": [
    "**PARTE IV - Modelo de Regressão de Cox**\n",
    "\n",
    "Ajuste o modelo de Cox com apenas clínica e dose\n",
    " $$ h(t,x) = h0(t)\\cdot e^{ b1*Clinica + b2*Dose }$$\n",
    " \n",
    "n. qual a interpretação prática dos coeficientes b1 e b2?\n",
    "\n",
    "o. qual o intervalo de 95% de confiança para a razão de risco 𝑒𝑥𝑝{𝑏1} da \n",
    "covariável clínica? Esse efeito é significativo estatisticamente?\n",
    "\n",
    "p. qual o intervalo de 95% de confiança para a razão de risco 𝑒𝑥𝑝{𝑏2} da \n",
    "covariável dose? Esse efeito é significativo estatisticamente?\n",
    "\n",
    "q. Analise a qualidade de ajuste do modelo de Cox usando o 𝑅\n",
    "2.\n",
    "\n",
    "r. Analise a suposição de proporcionalidade das taxas de falhas usando os \n",
    "resíduos de Schoenfeld."
   ]
  },
  {
   "cell_type": "code",
   "execution_count": null,
   "metadata": {},
   "outputs": [],
   "source": []
  },
  {
   "cell_type": "code",
   "execution_count": null,
   "metadata": {},
   "outputs": [],
   "source": []
  }
 ],
 "metadata": {
  "kernelspec": {
   "display_name": "Python 3",
   "language": "python",
   "name": "python3"
  },
  "language_info": {
   "codemirror_mode": {
    "name": "ipython",
    "version": 3
   },
   "file_extension": ".py",
   "mimetype": "text/x-python",
   "name": "python",
   "nbconvert_exporter": "python",
   "pygments_lexer": "ipython3",
   "version": "3.11.0"
  }
 },
 "nbformat": 4,
 "nbformat_minor": 2
}
