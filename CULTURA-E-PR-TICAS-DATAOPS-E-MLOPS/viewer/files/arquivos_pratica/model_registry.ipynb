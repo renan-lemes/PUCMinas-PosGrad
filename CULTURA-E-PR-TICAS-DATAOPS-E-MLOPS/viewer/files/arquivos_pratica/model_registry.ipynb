{
  "cells": [
    {
      "cell_type": "markdown",
      "metadata": {
        "id": "cL8iUNRkKnnN"
      },
      "source": [
        "## Instalando o MLflow"
      ]
    },
    {
      "cell_type": "code",
      "execution_count": null,
      "metadata": {
        "id": "8ZqLomD1JbEn"
      },
      "outputs": [],
      "source": [
        "!pip install mlflow==2.2.2 -q"
      ]
    },
    {
      "cell_type": "markdown",
      "metadata": {
        "id": "jAnzWtfqKsfI"
      },
      "source": [
        "## import das bibliotecas"
      ]
    },
    {
      "cell_type": "code",
      "execution_count": null,
      "metadata": {
        "id": "MAn3URFmJihs"
      },
      "outputs": [],
      "source": [
        "import os\n",
        "import mlflow\n",
        "import numpy as np"
      ]
    },
    {
      "cell_type": "markdown",
      "metadata": {
        "id": "PhBP5HFCKvYb"
      },
      "source": [
        "## Configurando o MLflow"
      ]
    },
    {
      "cell_type": "code",
      "execution_count": null,
      "metadata": {
        "id": "Bu43IC6oJj1L"
      },
      "outputs": [],
      "source": [
        "MLFLOW_TRACKING_URI = ''\n",
        "MLFLOW_TRACKING_USERNAME = ''\n",
        "MLFLOW_TRACKING_PASSWORD = ''\n",
        "os.environ['MLFLOW_TRACKING_USERNAME'] = MLFLOW_TRACKING_USERNAME\n",
        "os.environ['MLFLOW_TRACKING_PASSWORD'] = MLFLOW_TRACKING_PASSWORD\n",
        "\n",
        "mlflow.set_tracking_uri(MLFLOW_TRACKING_URI)"
      ]
    },
    {
      "cell_type": "markdown",
      "metadata": {
        "id": "dbFFAEaGK0lX"
      },
      "source": [
        "## Criando um client para comunicar com o registro no DagsHub"
      ]
    },
    {
      "cell_type": "code",
      "execution_count": null,
      "metadata": {
        "id": "wax9ipKjKShr"
      },
      "outputs": [],
      "source": [
        "client = mlflow.MlflowClient(tracking_uri=MLFLOW_TRACKING_URI)"
      ]
    },
    {
      "cell_type": "code",
      "execution_count": null,
      "metadata": {
        "id": "fWlu0lRiLp3u"
      },
      "outputs": [],
      "source": [
        "client"
      ]
    },
    {
      "cell_type": "markdown",
      "metadata": {
        "id": "m1NMo6kfLBtq"
      },
      "source": [
        "## Recebendo o modelo registrado e suas versões"
      ]
    },
    {
      "cell_type": "code",
      "execution_count": null,
      "metadata": {
        "id": "8oSsyfv0K6j5"
      },
      "outputs": [],
      "source": [
        "registered_model = client.get_registered_model('MODEL_NAME')"
      ]
    },
    {
      "cell_type": "code",
      "execution_count": null,
      "metadata": {
        "id": "e2DDK_6_LPi5"
      },
      "outputs": [],
      "source": [
        "registered_model.latest_versions"
      ]
    },
    {
      "cell_type": "markdown",
      "metadata": {
        "id": "DfBd2wRdLRPC"
      },
      "source": [
        "## Obtendo o id da execução do modelo"
      ]
    },
    {
      "cell_type": "code",
      "execution_count": null,
      "metadata": {
        "id": "HG-BzNlkK9oC"
      },
      "outputs": [],
      "source": [
        "run_id = registered_model.latest_versions[-1].run_id"
      ]
    },
    {
      "cell_type": "markdown",
      "metadata": {
        "id": "WORhnvgnLYrX"
      },
      "source": [
        "## Carregando o modelo"
      ]
    },
    {
      "cell_type": "code",
      "execution_count": null,
      "metadata": {
        "id": "xa1ZTR6OK_hg"
      },
      "outputs": [],
      "source": [
        "logged_model = f'runs:/{run_id}/model'\n",
        "loaded_model = mlflow.pyfunc.load_model(logged_model)"
      ]
    },
    {
      "cell_type": "markdown",
      "metadata": {
        "id": "IQBbf3xULc1A"
      },
      "source": [
        "## Fazendo uma predição com o modelo carregadO"
      ]
    },
    {
      "cell_type": "code",
      "execution_count": null,
      "metadata": {
        "id": "SwbDW9aLJziQ"
      },
      "outputs": [],
      "source": [
        "accelerations = 0\n",
        "fetal_movement = 0\n",
        "uterine_contractions = 0\n",
        "severe_decelerations = 0"
      ]
    },
    {
      "cell_type": "code",
      "execution_count": null,
      "metadata": {
        "id": "s-Ed15fsJv5k"
      },
      "outputs": [],
      "source": [
        "received_data = np.array([\n",
        "        accelerations,\n",
        "        fetal_movement,\n",
        "        uterine_contractions,\n",
        "        severe_decelerations,\n",
        "    ]).reshape(1, -1)"
      ]
    },
    {
      "cell_type": "code",
      "execution_count": null,
      "metadata": {
        "id": "Mpc1_Y57J_xV"
      },
      "outputs": [],
      "source": [
        "received_data"
      ]
    },
    {
      "cell_type": "code",
      "execution_count": null,
      "metadata": {
        "id": "lV6gcA8dJmX0"
      },
      "outputs": [],
      "source": [
        "loaded_model.predict(received_data)"
      ]
    },
    {
      "cell_type": "code",
      "execution_count": null,
      "metadata": {
        "id": "k3qYyLsyKDVb"
      },
      "outputs": [],
      "source": []
    }
  ],
  "metadata": {
    "colab": {
      "provenance": []
    },
    "kernelspec": {
      "display_name": "Python 3",
      "name": "python3"
    },
    "language_info": {
      "name": "python",
      "version": "3.11.0"
    }
  },
  "nbformat": 4,
  "nbformat_minor": 0
}
