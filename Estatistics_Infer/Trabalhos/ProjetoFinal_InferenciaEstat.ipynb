{
 "cells": [
  {
   "cell_type": "markdown",
   "id": "40436d15",
   "metadata": {},
   "source": [
    "## 1. ocd_patient_dataset\n",
    "\n",
    "Objetivo: Verificar se há diferença no escore Y-BOCS para obsessões entre pacientes dos sexos feminino e masculino dado um nível de significância de 5%. \n",
    "\n",
    "**Hipóteses:**\n",
    "\n",
    "- H0: Não há diferença significativa nas médias dos escores Y-BOCS entre os sexos (μ_female - μ_male = 0).\n",
    "- H1: Há diferença significativa nas médias dos escores Y-BOCS entre os sexos (μ_female - μ_male ≠ 0)."
   ]
  },
  {
   "cell_type": "code",
   "execution_count": 302,
   "id": "86987d31",
   "metadata": {},
   "outputs": [
    {
     "name": "stdout",
     "output_type": "stream",
     "text": [
      "C:\\Users\\user\\Documents\\MBA_PUC_MINAS_Estatistica_Descritiva_Calculo_Probabilidades_Turma 1\\TrabalhoFinal_InferenciaEstatistica\n"
     ]
    }
   ],
   "source": [
    "import os\n",
    "os.chdir(\"C:\\\\Users\\\\user\\\\Documents\\\\MBA_PUC_MINAS_Estatistica_Descritiva_Calculo_Probabilidades_Turma 1\\\\TrabalhoFinal_InferenciaEstatistica\\\\\")\n",
    "print(os.getcwd())"
   ]
  },
  {
   "cell_type": "code",
   "execution_count": 326,
   "id": "b9c465e0",
   "metadata": {},
   "outputs": [
    {
     "data": {
      "text/html": [
       "<div>\n",
       "<style scoped>\n",
       "    .dataframe tbody tr th:only-of-type {\n",
       "        vertical-align: middle;\n",
       "    }\n",
       "\n",
       "    .dataframe tbody tr th {\n",
       "        vertical-align: top;\n",
       "    }\n",
       "\n",
       "    .dataframe thead th {\n",
       "        text-align: right;\n",
       "    }\n",
       "</style>\n",
       "<table border=\"1\" class=\"dataframe\">\n",
       "  <thead>\n",
       "    <tr style=\"text-align: right;\">\n",
       "      <th></th>\n",
       "      <th>Patient ID</th>\n",
       "      <th>Age</th>\n",
       "      <th>Gender</th>\n",
       "      <th>Ethnicity</th>\n",
       "      <th>Marital Status</th>\n",
       "      <th>Education Level</th>\n",
       "      <th>OCD Diagnosis Date</th>\n",
       "      <th>Duration of Symptoms (months)</th>\n",
       "      <th>Previous Diagnoses</th>\n",
       "      <th>Family History of OCD</th>\n",
       "      <th>Obsession Type</th>\n",
       "      <th>Compulsion Type</th>\n",
       "      <th>Y-BOCS Score (Obsessions)</th>\n",
       "      <th>Y-BOCS Score (Compulsions)</th>\n",
       "      <th>Depression Diagnosis</th>\n",
       "      <th>Anxiety Diagnosis</th>\n",
       "      <th>Medications</th>\n",
       "    </tr>\n",
       "  </thead>\n",
       "  <tbody>\n",
       "    <tr>\n",
       "      <th>0</th>\n",
       "      <td>1018</td>\n",
       "      <td>32</td>\n",
       "      <td>Female</td>\n",
       "      <td>African</td>\n",
       "      <td>Single</td>\n",
       "      <td>Some College</td>\n",
       "      <td>2016-07-15</td>\n",
       "      <td>203</td>\n",
       "      <td>MDD</td>\n",
       "      <td>No</td>\n",
       "      <td>Harm-related</td>\n",
       "      <td>Checking</td>\n",
       "      <td>17</td>\n",
       "      <td>10</td>\n",
       "      <td>Yes</td>\n",
       "      <td>Yes</td>\n",
       "      <td>SNRI</td>\n",
       "    </tr>\n",
       "    <tr>\n",
       "      <th>1</th>\n",
       "      <td>2406</td>\n",
       "      <td>69</td>\n",
       "      <td>Male</td>\n",
       "      <td>African</td>\n",
       "      <td>Divorced</td>\n",
       "      <td>Some College</td>\n",
       "      <td>2017-04-28</td>\n",
       "      <td>180</td>\n",
       "      <td>None</td>\n",
       "      <td>Yes</td>\n",
       "      <td>Harm-related</td>\n",
       "      <td>Washing</td>\n",
       "      <td>21</td>\n",
       "      <td>25</td>\n",
       "      <td>Yes</td>\n",
       "      <td>Yes</td>\n",
       "      <td>SSRI</td>\n",
       "    </tr>\n",
       "    <tr>\n",
       "      <th>2</th>\n",
       "      <td>1188</td>\n",
       "      <td>57</td>\n",
       "      <td>Male</td>\n",
       "      <td>Hispanic</td>\n",
       "      <td>Divorced</td>\n",
       "      <td>College Degree</td>\n",
       "      <td>2018-02-02</td>\n",
       "      <td>173</td>\n",
       "      <td>MDD</td>\n",
       "      <td>No</td>\n",
       "      <td>Contamination</td>\n",
       "      <td>Checking</td>\n",
       "      <td>3</td>\n",
       "      <td>4</td>\n",
       "      <td>No</td>\n",
       "      <td>No</td>\n",
       "      <td>Benzodiazepine</td>\n",
       "    </tr>\n",
       "    <tr>\n",
       "      <th>3</th>\n",
       "      <td>6200</td>\n",
       "      <td>27</td>\n",
       "      <td>Female</td>\n",
       "      <td>Hispanic</td>\n",
       "      <td>Married</td>\n",
       "      <td>College Degree</td>\n",
       "      <td>2014-08-25</td>\n",
       "      <td>126</td>\n",
       "      <td>PTSD</td>\n",
       "      <td>Yes</td>\n",
       "      <td>Symmetry</td>\n",
       "      <td>Washing</td>\n",
       "      <td>14</td>\n",
       "      <td>28</td>\n",
       "      <td>Yes</td>\n",
       "      <td>Yes</td>\n",
       "      <td>SSRI</td>\n",
       "    </tr>\n",
       "    <tr>\n",
       "      <th>4</th>\n",
       "      <td>5824</td>\n",
       "      <td>56</td>\n",
       "      <td>Female</td>\n",
       "      <td>Hispanic</td>\n",
       "      <td>Married</td>\n",
       "      <td>High School</td>\n",
       "      <td>2022-02-20</td>\n",
       "      <td>168</td>\n",
       "      <td>PTSD</td>\n",
       "      <td>Yes</td>\n",
       "      <td>Hoarding</td>\n",
       "      <td>Ordering</td>\n",
       "      <td>39</td>\n",
       "      <td>18</td>\n",
       "      <td>No</td>\n",
       "      <td>No</td>\n",
       "      <td>None</td>\n",
       "    </tr>\n",
       "  </tbody>\n",
       "</table>\n",
       "</div>"
      ],
      "text/plain": [
       "   Patient ID  Age  Gender Ethnicity Marital Status Education Level  \\\n",
       "0        1018   32  Female   African         Single    Some College   \n",
       "1        2406   69    Male   African       Divorced    Some College   \n",
       "2        1188   57    Male  Hispanic       Divorced  College Degree   \n",
       "3        6200   27  Female  Hispanic        Married  College Degree   \n",
       "4        5824   56  Female  Hispanic        Married     High School   \n",
       "\n",
       "  OCD Diagnosis Date  Duration of Symptoms (months) Previous Diagnoses  \\\n",
       "0         2016-07-15                            203                MDD   \n",
       "1         2017-04-28                            180               None   \n",
       "2         2018-02-02                            173                MDD   \n",
       "3         2014-08-25                            126               PTSD   \n",
       "4         2022-02-20                            168               PTSD   \n",
       "\n",
       "  Family History of OCD Obsession Type Compulsion Type  \\\n",
       "0                    No   Harm-related        Checking   \n",
       "1                   Yes   Harm-related         Washing   \n",
       "2                    No  Contamination        Checking   \n",
       "3                   Yes       Symmetry         Washing   \n",
       "4                   Yes       Hoarding        Ordering   \n",
       "\n",
       "   Y-BOCS Score (Obsessions)  Y-BOCS Score (Compulsions) Depression Diagnosis  \\\n",
       "0                         17                          10                  Yes   \n",
       "1                         21                          25                  Yes   \n",
       "2                          3                           4                   No   \n",
       "3                         14                          28                  Yes   \n",
       "4                         39                          18                   No   \n",
       "\n",
       "  Anxiety Diagnosis     Medications  \n",
       "0               Yes            SNRI  \n",
       "1               Yes            SSRI  \n",
       "2                No  Benzodiazepine  \n",
       "3               Yes            SSRI  \n",
       "4                No            None  "
      ]
     },
     "execution_count": 326,
     "metadata": {},
     "output_type": "execute_result"
    }
   ],
   "source": [
    "import pandas as pd\n",
    "data = pd.read_csv('ocd_patient_dataset.csv', sep=',')\n",
    "data.head()"
   ]
  },
  {
   "cell_type": "code",
   "execution_count": 327,
   "id": "7ff7b844",
   "metadata": {},
   "outputs": [],
   "source": [
    "df = pd.DataFrame(data[['Gender','Y-BOCS Score (Obsessions)']])"
   ]
  },
  {
   "cell_type": "code",
   "execution_count": 304,
   "id": "d19b10e0",
   "metadata": {},
   "outputs": [
    {
     "data": {
      "text/html": [
       "<div>\n",
       "<style scoped>\n",
       "    .dataframe tbody tr th:only-of-type {\n",
       "        vertical-align: middle;\n",
       "    }\n",
       "\n",
       "    .dataframe tbody tr th {\n",
       "        vertical-align: top;\n",
       "    }\n",
       "\n",
       "    .dataframe thead th {\n",
       "        text-align: right;\n",
       "    }\n",
       "</style>\n",
       "<table border=\"1\" class=\"dataframe\">\n",
       "  <thead>\n",
       "    <tr style=\"text-align: right;\">\n",
       "      <th></th>\n",
       "      <th>Gender</th>\n",
       "      <th>Y-BOCS Score (Obsessions)</th>\n",
       "    </tr>\n",
       "  </thead>\n",
       "  <tbody>\n",
       "    <tr>\n",
       "      <th>0</th>\n",
       "      <td>Female</td>\n",
       "      <td>17</td>\n",
       "    </tr>\n",
       "    <tr>\n",
       "      <th>1</th>\n",
       "      <td>Male</td>\n",
       "      <td>21</td>\n",
       "    </tr>\n",
       "    <tr>\n",
       "      <th>2</th>\n",
       "      <td>Male</td>\n",
       "      <td>3</td>\n",
       "    </tr>\n",
       "    <tr>\n",
       "      <th>3</th>\n",
       "      <td>Female</td>\n",
       "      <td>14</td>\n",
       "    </tr>\n",
       "    <tr>\n",
       "      <th>4</th>\n",
       "      <td>Female</td>\n",
       "      <td>39</td>\n",
       "    </tr>\n",
       "  </tbody>\n",
       "</table>\n",
       "</div>"
      ],
      "text/plain": [
       "   Gender  Y-BOCS Score (Obsessions)\n",
       "0  Female                         17\n",
       "1    Male                         21\n",
       "2    Male                          3\n",
       "3  Female                         14\n",
       "4  Female                         39"
      ]
     },
     "execution_count": 304,
     "metadata": {},
     "output_type": "execute_result"
    }
   ],
   "source": [
    "df.head()"
   ]
  },
  {
   "cell_type": "code",
   "execution_count": 305,
   "id": "ba3bad1a",
   "metadata": {},
   "outputs": [
    {
     "data": {
      "text/plain": [
       "(1500, 2)"
      ]
     },
     "execution_count": 305,
     "metadata": {},
     "output_type": "execute_result"
    }
   ],
   "source": [
    "df.shape"
   ]
  },
  {
   "cell_type": "code",
   "execution_count": 306,
   "id": "cf5bfedc",
   "metadata": {},
   "outputs": [
    {
     "data": {
      "text/html": [
       "<div>\n",
       "<style scoped>\n",
       "    .dataframe tbody tr th:only-of-type {\n",
       "        vertical-align: middle;\n",
       "    }\n",
       "\n",
       "    .dataframe tbody tr th {\n",
       "        vertical-align: top;\n",
       "    }\n",
       "\n",
       "    .dataframe thead th {\n",
       "        text-align: right;\n",
       "    }\n",
       "</style>\n",
       "<table border=\"1\" class=\"dataframe\">\n",
       "  <thead>\n",
       "    <tr style=\"text-align: right;\">\n",
       "      <th></th>\n",
       "      <th>Y-BOCS Score (Obsessions)</th>\n",
       "    </tr>\n",
       "  </thead>\n",
       "  <tbody>\n",
       "    <tr>\n",
       "      <th>count</th>\n",
       "      <td>1500.000000</td>\n",
       "    </tr>\n",
       "    <tr>\n",
       "      <th>mean</th>\n",
       "      <td>20.048000</td>\n",
       "    </tr>\n",
       "    <tr>\n",
       "      <th>std</th>\n",
       "      <td>11.823884</td>\n",
       "    </tr>\n",
       "    <tr>\n",
       "      <th>min</th>\n",
       "      <td>0.000000</td>\n",
       "    </tr>\n",
       "    <tr>\n",
       "      <th>25%</th>\n",
       "      <td>10.000000</td>\n",
       "    </tr>\n",
       "    <tr>\n",
       "      <th>50%</th>\n",
       "      <td>20.000000</td>\n",
       "    </tr>\n",
       "    <tr>\n",
       "      <th>75%</th>\n",
       "      <td>31.000000</td>\n",
       "    </tr>\n",
       "    <tr>\n",
       "      <th>max</th>\n",
       "      <td>40.000000</td>\n",
       "    </tr>\n",
       "  </tbody>\n",
       "</table>\n",
       "</div>"
      ],
      "text/plain": [
       "       Y-BOCS Score (Obsessions)\n",
       "count                1500.000000\n",
       "mean                   20.048000\n",
       "std                    11.823884\n",
       "min                     0.000000\n",
       "25%                    10.000000\n",
       "50%                    20.000000\n",
       "75%                    31.000000\n",
       "max                    40.000000"
      ]
     },
     "execution_count": 306,
     "metadata": {},
     "output_type": "execute_result"
    }
   ],
   "source": [
    "df.describe()"
   ]
  },
  {
   "cell_type": "code",
   "execution_count": 307,
   "id": "a404e187",
   "metadata": {},
   "outputs": [
    {
     "data": {
      "text/plain": [
       "Gender                       0.0\n",
       "Y-BOCS Score (Obsessions)    0.0\n",
       "dtype: float64"
      ]
     },
     "execution_count": 307,
     "metadata": {},
     "output_type": "execute_result"
    }
   ],
   "source": [
    "df.isnull().sum().sort_index()/len(df)"
   ]
  },
  {
   "cell_type": "code",
   "execution_count": 308,
   "id": "71f7767a",
   "metadata": {},
   "outputs": [
    {
     "data": {
      "text/plain": [
       "Gender                       0.0\n",
       "Y-BOCS Score (Obsessions)    0.0\n",
       "dtype: float64"
      ]
     },
     "execution_count": 308,
     "metadata": {},
     "output_type": "execute_result"
    }
   ],
   "source": [
    "df.isna().sum().sort_index()/len(df)"
   ]
  },
  {
   "cell_type": "code",
   "execution_count": 309,
   "id": "643885e5",
   "metadata": {},
   "outputs": [
    {
     "data": {
      "text/plain": [
       "0"
      ]
     },
     "execution_count": 309,
     "metadata": {},
     "output_type": "execute_result"
    }
   ],
   "source": [
    "(df['Y-BOCS Score (Obsessions)'] < 0).sum()"
   ]
  },
  {
   "cell_type": "code",
   "execution_count": 310,
   "id": "b9877d3d",
   "metadata": {},
   "outputs": [
    {
     "data": {
      "text/plain": [
       "array(['Female', 'Male'], dtype=object)"
      ]
     },
     "execution_count": 310,
     "metadata": {},
     "output_type": "execute_result"
    }
   ],
   "source": [
    "df['Gender'].unique()"
   ]
  },
  {
   "cell_type": "code",
   "execution_count": 311,
   "id": "319d7015",
   "metadata": {},
   "outputs": [
    {
     "name": "stdout",
     "output_type": "stream",
     "text": [
      "    Valor  Frequência\n",
      "1  Female         747\n",
      "0    Male         753\n"
     ]
    }
   ],
   "source": [
    "tabela_frequencia  = df['Gender'].value_counts().reset_index()\n",
    "tabela_frequencia.columns = ['Valor', 'Frequência']\n",
    "tabela_frequencia = tabela_frequencia.sort_values(by='Valor')\n",
    "print(tabela_frequencia)"
   ]
  },
  {
   "cell_type": "code",
   "execution_count": 312,
   "id": "ac08045f",
   "metadata": {},
   "outputs": [],
   "source": [
    "escores_female = df[df['Gender'] == 'Female']['Y-BOCS Score (Obsessions)']\n",
    "escores_male = df[df['Gender'] == 'Male']['Y-BOCS Score (Obsessions)']"
   ]
  },
  {
   "cell_type": "code",
   "execution_count": 313,
   "id": "e835231b",
   "metadata": {},
   "outputs": [
    {
     "data": {
      "text/plain": [
       "(0    17\n",
       " 3    14\n",
       " 4    39\n",
       " 5    26\n",
       " 6    12\n",
       " Name: Y-BOCS Score (Obsessions), dtype: int64,\n",
       " 1     21\n",
       " 2      3\n",
       " 7     31\n",
       " 8     37\n",
       " 15    17\n",
       " Name: Y-BOCS Score (Obsessions), dtype: int64)"
      ]
     },
     "execution_count": 313,
     "metadata": {},
     "output_type": "execute_result"
    }
   ],
   "source": [
    "escores_female.head(), escores_male.head()"
   ]
  },
  {
   "cell_type": "markdown",
   "id": "ac72cc28",
   "metadata": {},
   "source": [
    "## Análise de ajuste de uma distribuição normal"
   ]
  },
  {
   "cell_type": "code",
   "execution_count": 314,
   "id": "873af3dc",
   "metadata": {},
   "outputs": [
    {
     "data": {
      "image/png": "[encoded data removed]",
      "text/plain": [
       "<Figure size 1900x500 with 2 Axes>"
      ]
     },
     "metadata": {},
     "output_type": "display_data"
    }
   ],
   "source": [
    "from scipy.stats import norm, skew\n",
    "from scipy import stats\n",
    "import warnings\n",
    "\n",
    "warnings.filterwarnings(\"ignore\")\n",
    "\n",
    "(mu, sigma) = norm.fit(escores_female)\n",
    "f, (ax1,ax2) = plt.subplots(1, 2, figsize=(19, 5))\n",
    "\n",
    "ax1 = sns.distplot(escores_female , fit=norm, ax=ax1)\n",
    "ax1.legend([f'Distributição Normal ($\\mu=$ {mu:.3f} and $\\sigma=$ {sigma:.3f})'], loc='best')\n",
    "ax1.set_ylabel('Frequencia')\n",
    "ax1.set_title(f'Distribuição - escores Female')\n",
    "   \n",
    "# Usando probplot para o gráfico de probabilidade\n",
    "stats.probplot(escores_female, plot=ax2)\n",
    "f.show();  "
   ]
  },
  {
   "cell_type": "code",
   "execution_count": 288,
   "id": "f9a48c2b",
   "metadata": {},
   "outputs": [
    {
     "data": {
      "image/png": "[encoded data removed]",
      "text/plain": [
       "<Figure size 1900x500 with 2 Axes>"
      ]
     },
     "metadata": {},
     "output_type": "display_data"
    }
   ],
   "source": [
    "(mu, sigma) = norm.fit(escores_male)\n",
    "f, (ax1,ax2) = plt.subplots(1, 2, figsize=(19, 5))\n",
    "\n",
    "ax1 = sns.distplot(escores_male , fit=norm, ax=ax1)\n",
    "ax1.legend([f'Distributição Normal ($\\mu=$ {mu:.3f} and $\\sigma=$ {sigma:.3f})'], loc='best')\n",
    "ax1.set_ylabel('Frequencia')\n",
    "ax1.set_title(f'Distribuição - escores Male')\n",
    "   \n",
    "# Usando probplot para o gráfico de probabilidade\n",
    "stats.probplot(escores_male, plot=ax2)\n",
    "f.show();  "
   ]
  },
  {
   "cell_type": "markdown",
   "id": "9d7e5af6",
   "metadata": {},
   "source": [
    "## Teste de Normalidade e Homogeneidade"
   ]
  },
  {
   "cell_type": "code",
   "execution_count": 315,
   "id": "9932f9dc",
   "metadata": {},
   "outputs": [
    {
     "name": "stdout",
     "output_type": "stream",
     "text": [
      "p_valor_feminino: 2.353719060204252e-14, p_valor_masculino: 3.466535911472138e-15, p_valor_variancias: 0.46910653120857493\n",
      "Os pressupostos para o teste t de Student não foram atendidos. Seguir com teste não paramétrico.\n"
     ]
    }
   ],
   "source": [
    "#Teste de Shapiro para normalizada\n",
    "_, p_valor_feminino = shapiro(escores_female)\n",
    "_, p_valor_masculino = shapiro(escores_male)\n",
    "\n",
    "# Teste de Levene para homogeneidade das variâncias\n",
    "_, p_valor_variancias = levene(escores_female, escores_male)\n",
    "\n",
    "print(f'p_valor_feminino: {p_valor_feminino}, p_valor_masculino: {p_valor_masculino}, p_valor_variancias: {p_valor_variancias}')\n",
    "\n",
    "#Avaliação de pressupostos (normalidade e homogeneidade das variâncias)\n",
    "if p_valor_feminino > 0.05 and p_valor_masculino > 0.05 and p_valor_variancias > 0.05:\n",
    "    \n",
    "    # Realizar o teste t de Student\n",
    "    resultado_teste_t, valor_p = ttest_ind(escores_female, escores_male)\n",
    "    \n",
    "    # Exibir o resultado do teste\n",
    "    print(f'Teste t de Student: {\"Diferença significativa\" if valor_p < nivel_significancia else \"Sem diferença significativa\"}')\n",
    "    print(f'Estatísticas: {resultado_teste_t}, Valor p: {valor_p}')\n",
    "else:\n",
    "    print('Os pressupostos para o teste t de Student não foram atendidos. Seguir com teste não paramétrico.')\n"
   ]
  },
  {
   "cell_type": "markdown",
   "id": "4ed89e5d",
   "metadata": {},
   "source": [
    "## Teste de Mann-Whitney U:\n",
    "\n",
    "Não assume uma distribuição específica para os dados."
   ]
  },
  {
   "cell_type": "code",
   "execution_count": 316,
   "id": "5cd8e6d4",
   "metadata": {},
   "outputs": [
    {
     "name": "stdout",
     "output_type": "stream",
     "text": [
      "Teste de Mann-Whitney U: Sem diferença significativa\n",
      "Estatísticas: 285168.0, Valor p: 0.6399821232917488\n"
     ]
    }
   ],
   "source": [
    "from scipy.stats import mannwhitneyu\n",
    "\n",
    "# Teste de Mann-Whitney U\n",
    "estatisticas, valor_p = mannwhitneyu(escores_female, escores_male)\n",
    "\n",
    "print(f'Teste de Mann-Whitney U: {\"Diferença significativa\" if valor_p < nivel_significancia else \"Sem diferença significativa\"}')\n",
    "print(f'Estatísticas: {estatisticas}, Valor p: {valor_p}')\n"
   ]
  },
  {
   "cell_type": "markdown",
   "id": "9d7f3504",
   "metadata": {},
   "source": [
    "**Com base nos resultados do teste de Mann-Whitney U, não há evidência estatística suficiente para afirmar que há uma diferença significativa nos escores entre os grupos feminino e masculino.**"
   ]
  },
  {
   "cell_type": "markdown",
   "id": "a0a0c334",
   "metadata": {},
   "source": [
    "## 2. Sleep_health_and_lifestyle_dataset \n",
    "Objetivo:  Avaliar se existe diferença na proporção de pessoas que possuem ou não o distúrbio do sono (Insônia) para as diferenças ocupações na base de dados. Use o nível de significância de 5% e caso encontre diferenças, relate em quais das ocupações vemos essa diferença significativa\n",
    "\n",
    "- H0: As proporções de pessoas com e sem insônia são iguais para todas as ocupações.\n",
    "- H1: As proporções de pessoas com e sem insônia são diferentes para pelo menos uma ocupação."
   ]
  },
  {
   "cell_type": "code",
   "execution_count": 419,
   "id": "05d3b12c",
   "metadata": {},
   "outputs": [
    {
     "data": {
      "text/html": [
       "<div>\n",
       "<style scoped>\n",
       "    .dataframe tbody tr th:only-of-type {\n",
       "        vertical-align: middle;\n",
       "    }\n",
       "\n",
       "    .dataframe tbody tr th {\n",
       "        vertical-align: top;\n",
       "    }\n",
       "\n",
       "    .dataframe thead th {\n",
       "        text-align: right;\n",
       "    }\n",
       "</style>\n",
       "<table border=\"1\" class=\"dataframe\">\n",
       "  <thead>\n",
       "    <tr style=\"text-align: right;\">\n",
       "      <th></th>\n",
       "      <th>Person ID</th>\n",
       "      <th>Gender</th>\n",
       "      <th>Age</th>\n",
       "      <th>Occupation</th>\n",
       "      <th>Sleep Duration</th>\n",
       "      <th>Quality of Sleep</th>\n",
       "      <th>Physical Activity Level</th>\n",
       "      <th>Stress Level</th>\n",
       "      <th>BMI Category</th>\n",
       "      <th>Blood Pressure</th>\n",
       "      <th>Heart Rate</th>\n",
       "      <th>Daily Steps</th>\n",
       "      <th>Sleep Disorder</th>\n",
       "    </tr>\n",
       "  </thead>\n",
       "  <tbody>\n",
       "    <tr>\n",
       "      <th>0</th>\n",
       "      <td>2</td>\n",
       "      <td>Male</td>\n",
       "      <td>28</td>\n",
       "      <td>Doctor</td>\n",
       "      <td>6.2</td>\n",
       "      <td>6</td>\n",
       "      <td>60</td>\n",
       "      <td>8</td>\n",
       "      <td>Normal</td>\n",
       "      <td>125/80</td>\n",
       "      <td>75</td>\n",
       "      <td>10000</td>\n",
       "      <td>No</td>\n",
       "    </tr>\n",
       "    <tr>\n",
       "      <th>1</th>\n",
       "      <td>3</td>\n",
       "      <td>Male</td>\n",
       "      <td>28</td>\n",
       "      <td>Doctor</td>\n",
       "      <td>6.2</td>\n",
       "      <td>6</td>\n",
       "      <td>60</td>\n",
       "      <td>8</td>\n",
       "      <td>Normal</td>\n",
       "      <td>125/80</td>\n",
       "      <td>75</td>\n",
       "      <td>10000</td>\n",
       "      <td>No</td>\n",
       "    </tr>\n",
       "    <tr>\n",
       "      <th>2</th>\n",
       "      <td>7</td>\n",
       "      <td>Male</td>\n",
       "      <td>29</td>\n",
       "      <td>Teacher</td>\n",
       "      <td>6.3</td>\n",
       "      <td>6</td>\n",
       "      <td>40</td>\n",
       "      <td>7</td>\n",
       "      <td>Obese</td>\n",
       "      <td>140/90</td>\n",
       "      <td>82</td>\n",
       "      <td>3500</td>\n",
       "      <td>Insomnia</td>\n",
       "    </tr>\n",
       "    <tr>\n",
       "      <th>3</th>\n",
       "      <td>8</td>\n",
       "      <td>Male</td>\n",
       "      <td>29</td>\n",
       "      <td>Doctor</td>\n",
       "      <td>7.8</td>\n",
       "      <td>7</td>\n",
       "      <td>75</td>\n",
       "      <td>6</td>\n",
       "      <td>Normal</td>\n",
       "      <td>120/80</td>\n",
       "      <td>70</td>\n",
       "      <td>8000</td>\n",
       "      <td>No</td>\n",
       "    </tr>\n",
       "    <tr>\n",
       "      <th>4</th>\n",
       "      <td>9</td>\n",
       "      <td>Male</td>\n",
       "      <td>29</td>\n",
       "      <td>Doctor</td>\n",
       "      <td>7.8</td>\n",
       "      <td>7</td>\n",
       "      <td>75</td>\n",
       "      <td>6</td>\n",
       "      <td>Normal</td>\n",
       "      <td>120/80</td>\n",
       "      <td>70</td>\n",
       "      <td>8000</td>\n",
       "      <td>No</td>\n",
       "    </tr>\n",
       "  </tbody>\n",
       "</table>\n",
       "</div>"
      ],
      "text/plain": [
       "   Person ID Gender  Age Occupation  Sleep Duration  Quality of Sleep  \\\n",
       "0          2   Male   28     Doctor             6.2                 6   \n",
       "1          3   Male   28     Doctor             6.2                 6   \n",
       "2          7   Male   29    Teacher             6.3                 6   \n",
       "3          8   Male   29     Doctor             7.8                 7   \n",
       "4          9   Male   29     Doctor             7.8                 7   \n",
       "\n",
       "   Physical Activity Level  Stress Level BMI Category Blood Pressure  \\\n",
       "0                       60             8       Normal         125/80   \n",
       "1                       60             8       Normal         125/80   \n",
       "2                       40             7        Obese         140/90   \n",
       "3                       75             6       Normal         120/80   \n",
       "4                       75             6       Normal         120/80   \n",
       "\n",
       "   Heart Rate  Daily Steps Sleep Disorder  \n",
       "0          75        10000             No  \n",
       "1          75        10000             No  \n",
       "2          82         3500       Insomnia  \n",
       "3          70         8000             No  \n",
       "4          70         8000             No  "
      ]
     },
     "execution_count": 419,
     "metadata": {},
     "output_type": "execute_result"
    }
   ],
   "source": [
    "data2 = pd.read_csv('Sleep_health_and_lifestyle_dataset.csv', sep=',')\n",
    "data2.head()"
   ]
  },
  {
   "cell_type": "code",
   "execution_count": 420,
   "id": "73921043",
   "metadata": {},
   "outputs": [],
   "source": [
    "df = pd.DataFrame(data2[['Occupation','Sleep Disorder']])"
   ]
  },
  {
   "cell_type": "code",
   "execution_count": 421,
   "id": "49beb8f1",
   "metadata": {},
   "outputs": [
    {
     "data": {
      "text/html": [
       "<div>\n",
       "<style scoped>\n",
       "    .dataframe tbody tr th:only-of-type {\n",
       "        vertical-align: middle;\n",
       "    }\n",
       "\n",
       "    .dataframe tbody tr th {\n",
       "        vertical-align: top;\n",
       "    }\n",
       "\n",
       "    .dataframe thead th {\n",
       "        text-align: right;\n",
       "    }\n",
       "</style>\n",
       "<table border=\"1\" class=\"dataframe\">\n",
       "  <thead>\n",
       "    <tr style=\"text-align: right;\">\n",
       "      <th></th>\n",
       "      <th>Occupation</th>\n",
       "      <th>Sleep Disorder</th>\n",
       "    </tr>\n",
       "  </thead>\n",
       "  <tbody>\n",
       "    <tr>\n",
       "      <th>0</th>\n",
       "      <td>Doctor</td>\n",
       "      <td>No</td>\n",
       "    </tr>\n",
       "    <tr>\n",
       "      <th>1</th>\n",
       "      <td>Doctor</td>\n",
       "      <td>No</td>\n",
       "    </tr>\n",
       "    <tr>\n",
       "      <th>2</th>\n",
       "      <td>Teacher</td>\n",
       "      <td>Insomnia</td>\n",
       "    </tr>\n",
       "    <tr>\n",
       "      <th>3</th>\n",
       "      <td>Doctor</td>\n",
       "      <td>No</td>\n",
       "    </tr>\n",
       "    <tr>\n",
       "      <th>4</th>\n",
       "      <td>Doctor</td>\n",
       "      <td>No</td>\n",
       "    </tr>\n",
       "  </tbody>\n",
       "</table>\n",
       "</div>"
      ],
      "text/plain": [
       "  Occupation Sleep Disorder\n",
       "0     Doctor             No\n",
       "1     Doctor             No\n",
       "2    Teacher       Insomnia\n",
       "3     Doctor             No\n",
       "4     Doctor             No"
      ]
     },
     "execution_count": 421,
     "metadata": {},
     "output_type": "execute_result"
    }
   ],
   "source": [
    "df.head()"
   ]
  },
  {
   "cell_type": "code",
   "execution_count": 422,
   "id": "c661d5f2",
   "metadata": {},
   "outputs": [
    {
     "data": {
      "text/html": [
       "<div>\n",
       "<style scoped>\n",
       "    .dataframe tbody tr th:only-of-type {\n",
       "        vertical-align: middle;\n",
       "    }\n",
       "\n",
       "    .dataframe tbody tr th {\n",
       "        vertical-align: top;\n",
       "    }\n",
       "\n",
       "    .dataframe thead th {\n",
       "        text-align: right;\n",
       "    }\n",
       "</style>\n",
       "<table border=\"1\" class=\"dataframe\">\n",
       "  <thead>\n",
       "    <tr style=\"text-align: right;\">\n",
       "      <th></th>\n",
       "      <th>Occupation</th>\n",
       "      <th>Sleep Disorder</th>\n",
       "    </tr>\n",
       "  </thead>\n",
       "  <tbody>\n",
       "    <tr>\n",
       "      <th>count</th>\n",
       "      <td>289</td>\n",
       "      <td>289</td>\n",
       "    </tr>\n",
       "    <tr>\n",
       "      <th>unique</th>\n",
       "      <td>7</td>\n",
       "      <td>2</td>\n",
       "    </tr>\n",
       "    <tr>\n",
       "      <th>top</th>\n",
       "      <td>Doctor</td>\n",
       "      <td>No</td>\n",
       "    </tr>\n",
       "    <tr>\n",
       "      <th>freq</th>\n",
       "      <td>67</td>\n",
       "      <td>213</td>\n",
       "    </tr>\n",
       "  </tbody>\n",
       "</table>\n",
       "</div>"
      ],
      "text/plain": [
       "       Occupation Sleep Disorder\n",
       "count         289            289\n",
       "unique          7              2\n",
       "top        Doctor             No\n",
       "freq           67            213"
      ]
     },
     "execution_count": 422,
     "metadata": {},
     "output_type": "execute_result"
    }
   ],
   "source": [
    "df.describe()"
   ]
  },
  {
   "cell_type": "code",
   "execution_count": 423,
   "id": "73c2f76e",
   "metadata": {},
   "outputs": [
    {
     "data": {
      "text/plain": [
       "Occupation        0.0\n",
       "Sleep Disorder    0.0\n",
       "dtype: float64"
      ]
     },
     "execution_count": 423,
     "metadata": {},
     "output_type": "execute_result"
    }
   ],
   "source": [
    "df.isnull().sum().sort_index()/len(df)"
   ]
  },
  {
   "cell_type": "code",
   "execution_count": 424,
   "id": "aa53079f",
   "metadata": {},
   "outputs": [
    {
     "data": {
      "text/plain": [
       "Occupation        0.0\n",
       "Sleep Disorder    0.0\n",
       "dtype: float64"
      ]
     },
     "execution_count": 424,
     "metadata": {},
     "output_type": "execute_result"
    }
   ],
   "source": [
    "df.isna().sum().sort_index()/len(df)"
   ]
  },
  {
   "cell_type": "code",
   "execution_count": 427,
   "id": "5bbf4dfd",
   "metadata": {},
   "outputs": [
    {
     "data": {
      "text/plain": [
       "array(['Doctor', 'Teacher', 'Nurse', 'Engineer', 'Accountant', 'Lawyer',\n",
       "       'Salesperson'], dtype=object)"
      ]
     },
     "execution_count": 427,
     "metadata": {},
     "output_type": "execute_result"
    }
   ],
   "source": [
    "df['Occupation'].unique()"
   ]
  },
  {
   "cell_type": "code",
   "execution_count": 428,
   "id": "4f0e9c39",
   "metadata": {},
   "outputs": [
    {
     "data": {
      "text/plain": [
       "array(['No', 'Insomnia'], dtype=object)"
      ]
     },
     "execution_count": 428,
     "metadata": {},
     "output_type": "execute_result"
    }
   ],
   "source": [
    "df['Sleep Disorder'].unique()"
   ]
  },
  {
   "cell_type": "code",
   "execution_count": 429,
   "id": "6bc86ec2",
   "metadata": {},
   "outputs": [
    {
     "name": "stdout",
     "output_type": "stream",
     "text": [
      "         Valor  Frequência\n",
      "3   Accountant          37\n",
      "0       Doctor          67\n",
      "1     Engineer          62\n",
      "2       Lawyer          44\n",
      "6        Nurse          12\n",
      "5  Salesperson          31\n",
      "4      Teacher          36\n"
     ]
    }
   ],
   "source": [
    "tabela_frequencia_occup  = df['Occupation'].value_counts().reset_index()\n",
    "tabela_frequencia_occup.columns = ['Valor', 'Frequência']\n",
    "tabela_frequencia_occup = tabela_frequencia_occup.sort_values(by='Valor')\n",
    "print(tabela_frequencia_occup)"
   ]
  },
  {
   "cell_type": "code",
   "execution_count": 430,
   "id": "a0c94ffe",
   "metadata": {},
   "outputs": [
    {
     "name": "stdout",
     "output_type": "stream",
     "text": [
      "      Valor  Frequência\n",
      "1  Insomnia          76\n",
      "0        No         213\n"
     ]
    }
   ],
   "source": [
    "tabela_frequencia_slp  = df['Sleep Disorder'].value_counts().reset_index()\n",
    "tabela_frequencia_slp.columns = ['Valor', 'Frequência']\n",
    "tabela_frequencia_slp = tabela_frequencia_slp.sort_values(by='Valor')\n",
    "print(tabela_frequencia_slp)"
   ]
  },
  {
   "cell_type": "code",
   "execution_count": 432,
   "id": "63f8f6ce",
   "metadata": {},
   "outputs": [
    {
     "data": {
      "text/html": [
       "<div>\n",
       "<style scoped>\n",
       "    .dataframe tbody tr th:only-of-type {\n",
       "        vertical-align: middle;\n",
       "    }\n",
       "\n",
       "    .dataframe tbody tr th {\n",
       "        vertical-align: top;\n",
       "    }\n",
       "\n",
       "    .dataframe thead th {\n",
       "        text-align: right;\n",
       "    }\n",
       "</style>\n",
       "<table border=\"1\" class=\"dataframe\">\n",
       "  <thead>\n",
       "    <tr style=\"text-align: right;\">\n",
       "      <th>Occupation</th>\n",
       "      <th>Accountant</th>\n",
       "      <th>Doctor</th>\n",
       "      <th>Engineer</th>\n",
       "      <th>Lawyer</th>\n",
       "      <th>Nurse</th>\n",
       "      <th>Salesperson</th>\n",
       "      <th>Teacher</th>\n",
       "    </tr>\n",
       "    <tr>\n",
       "      <th>Sleep Disorder</th>\n",
       "      <th></th>\n",
       "      <th></th>\n",
       "      <th></th>\n",
       "      <th></th>\n",
       "      <th></th>\n",
       "      <th></th>\n",
       "      <th></th>\n",
       "    </tr>\n",
       "  </thead>\n",
       "  <tbody>\n",
       "    <tr>\n",
       "      <th>Insomnia</th>\n",
       "      <td>7</td>\n",
       "      <td>3</td>\n",
       "      <td>5</td>\n",
       "      <td>2</td>\n",
       "      <td>3</td>\n",
       "      <td>29</td>\n",
       "      <td>27</td>\n",
       "    </tr>\n",
       "    <tr>\n",
       "      <th>No</th>\n",
       "      <td>30</td>\n",
       "      <td>64</td>\n",
       "      <td>57</td>\n",
       "      <td>42</td>\n",
       "      <td>9</td>\n",
       "      <td>2</td>\n",
       "      <td>9</td>\n",
       "    </tr>\n",
       "  </tbody>\n",
       "</table>\n",
       "</div>"
      ],
      "text/plain": [
       "Occupation      Accountant  Doctor  Engineer  Lawyer  Nurse  Salesperson  \\\n",
       "Sleep Disorder                                                             \n",
       "Insomnia                 7       3         5       2      3           29   \n",
       "No                      30      64        57      42      9            2   \n",
       "\n",
       "Occupation      Teacher  \n",
       "Sleep Disorder           \n",
       "Insomnia             27  \n",
       "No                    9  "
      ]
     },
     "execution_count": 432,
     "metadata": {},
     "output_type": "execute_result"
    }
   ],
   "source": [
    "# Tabela de contingência\n",
    "contingency_table = pd.crosstab(df['Sleep Disorder'], df['Occupation'])\n",
    "contingency_table"
   ]
  },
  {
   "cell_type": "markdown",
   "id": "3eaee2bf",
   "metadata": {},
   "source": [
    "## Aplicação do teste qui-quadrado para independência \n",
    "\n",
    "Apropriada quando se trabalha com variáveis categóricas e deseja-se avaliar se a ocorrência de uma categoria em uma variável é independente da ocorrência de uma categoria em outra variável. "
   ]
  },
  {
   "cell_type": "code",
   "execution_count": 434,
   "id": "f5e99ba4",
   "metadata": {},
   "outputs": [
    {
     "name": "stdout",
     "output_type": "stream",
     "text": [
      "Chi-square statistic: 155.27672811256065\n",
      "P-value: 5.9210138109735935e-31\n",
      "Há uma diferença significativa nas proporções entre as ocupações.\n",
      "\n",
      "Sleep Disorder  Insomnia        No\n",
      "Occupation                        \n",
      "Accountant      0.189189  0.810811\n",
      "Doctor          0.044776  0.955224\n",
      "Engineer        0.080645  0.919355\n",
      "Lawyer          0.045455  0.954545\n",
      "Nurse           0.250000  0.750000\n",
      "Salesperson     0.935484  0.064516\n",
      "Teacher         0.750000  0.250000\n"
     ]
    }
   ],
   "source": [
    "import pandas as pd\n",
    "from scipy.stats import chi2_contingency\n",
    "\n",
    "# Tabela de contingência\n",
    "contingency_table = pd.crosstab(df['Sleep Disorder'], df['Occupation'])\n",
    "\n",
    "#Verifica frequencias esperadas\n",
    "expected_frequencies = chi2_contingency(contingency_table)[3]\n",
    "\n",
    "if (expected_frequencies < 1).any():\n",
    "    print(\"Algumas células têm frequências esperadas abaixo de 1\")\n",
    "\n",
    "# Teste qui-quadrado de independência (Variáveis categoricas)\n",
    "chi2, p, _, _ = chi2_contingency(contingency_table)\n",
    "\n",
    "print(f'Chi-square statistic: {chi2}')\n",
    "print(f'P-value: {p}')\n",
    "\n",
    "if p < 0.05:\n",
    "    print('Há uma diferença significativa nas proporções entre as ocupações.\\n')\n",
    "    \n",
    "    # Se houver uma diferença significativa calculamos as proporções de insônia em cada ocupação.\n",
    "    proportions = df.groupby('Occupation')['Sleep Disorder'].value_counts(normalize=True).unstack()\n",
    "    print(proportions)\n",
    "else:\n",
    "    print('Não há evidências de diferença significativa nas proporções entre as ocupações.')"
   ]
  },
  {
   "cell_type": "markdown",
   "id": "c683f95b",
   "metadata": {},
   "source": [
    "## 3. treinamentoVendedores.csv\n",
    "\n",
    "Objetivo: Determine ao nível de 2% de significância, se o método da empresa VendaPro Academy é realmente superior ao método convencional da empresa.\n",
    "\n",
    "- H0: Não há diferença significativa entre as médias das duas amostras.\n",
    "- H1: Há uma diferença significativa entre as médias das duas amostras. "
   ]
  },
  {
   "cell_type": "code",
   "execution_count": 458,
   "id": "ca7f08b0",
   "metadata": {},
   "outputs": [],
   "source": [
    "data3 = pd.read_csv('treinamentoVendedores.csv', sep=',')\n",
    "data3.head()\n",
    "df = data3.copy()"
   ]
  },
  {
   "cell_type": "markdown",
   "id": "379d2398",
   "metadata": {},
   "source": [
    "## Aplicação de teste t pareado\n",
    "\n",
    "Apropriado quando você temos pares de observações relacionadas (no caso, os tempos de trabalho para cada funcionário nos dois métodos). "
   ]
  },
  {
   "cell_type": "markdown",
   "id": "02c96355",
   "metadata": {},
   "source": [
    "**Avaliação dos pressupostos:**"
   ]
  },
  {
   "cell_type": "markdown",
   "id": "68e8f115",
   "metadata": {},
   "source": [
    "**1. normalidade das diferenças**"
   ]
  },
  {
   "cell_type": "code",
   "execution_count": 459,
   "id": "e3eb1125",
   "metadata": {},
   "outputs": [
    {
     "name": "stdout",
     "output_type": "stream",
     "text": [
      "A diferença entre os métodos tem uma distribuição normal (não rejeita H0 de normalidade).\n"
     ]
    }
   ],
   "source": [
    "#Shapiro\n",
    "_, normalidade_p_value = stats.shapiro(df['Convencional'] - df['VendaPro'])\n",
    "\n",
    "# Nível de significância\n",
    "alpha = 0.05\n",
    "\n",
    "# Avaliação da normalidade das diferenças\n",
    "if normalidade_p_value > alpha:\n",
    "    print(\"A diferença entre os métodos tem uma distribuição normal (não rejeita H0 de normalidade).\")\n",
    "else:\n",
    "    print(\"A diferença entre os métodos não tem uma distribuição normal (rejeita H0 de normalidade).\")"
   ]
  },
  {
   "cell_type": "markdown",
   "id": "7d990488",
   "metadata": {},
   "source": [
    "**2. homogeneidade das variâncias das diferenças**"
   ]
  },
  {
   "cell_type": "code",
   "execution_count": 460,
   "id": "73d72921",
   "metadata": {},
   "outputs": [
    {
     "name": "stdout",
     "output_type": "stream",
     "text": [
      "As variâncias das diferenças são homogêneas (não rejeita H0 de homogeneidade de variâncias).\n"
     ]
    }
   ],
   "source": [
    "#levene\n",
    "homogeneidade_p_value = stats.levene(df['Convencional'], df['VendaPro']).pvalue\n",
    "\n",
    "# Nível de significância\n",
    "alpha = 0.05\n",
    "\n",
    "# Avaliação da homogeneidade das variâncias das diferenças\n",
    "if homogeneidade_p_value > alpha:\n",
    "    print(\"As variâncias das diferenças são homogêneas (não rejeita H0 de homogeneidade de variâncias).\")\n",
    "else:\n",
    "    print(\"As variâncias das diferenças não são homogêneas (rejeita H0 de homogeneidade de variâncias).\")"
   ]
  },
  {
   "cell_type": "markdown",
   "id": "0d023f81",
   "metadata": {},
   "source": [
    "## Realização do teste t pareado após os pressupostos serem atendidos"
   ]
  },
  {
   "cell_type": "code",
   "execution_count": 461,
   "id": "baebe24a",
   "metadata": {},
   "outputs": [
    {
     "name": "stdout",
     "output_type": "stream",
     "text": [
      "Rejeita a hipótese nula. Existe evidência estatística de que o método VendaPro Academy é superior ao método convencional.\n"
     ]
    }
   ],
   "source": [
    "import pandas as pd\n",
    "from scipy import stats\n",
    "\n",
    "if normalidade_p_value > alpha and homogeneidade_p_value > alpha:\n",
    "    t_statistic, p_value = stats.ttest_rel(df['Convencional'], df['VendaPro'])\n",
    "    \n",
    "    # Verifica a significância estatística\n",
    "    if p_value < alpha:\n",
    "        print(\"Rejeita a hipótese nula. Existe evidência estatística de que o método VendaPro Academy é superior ao método convencional.\")\n",
    "    else:\n",
    "        print(\"Não há evidência estatística suficiente para rejeitar a hipótese nula. Não podemos afirmar que um método é superior ao outro.\")\n",
    "else:\n",
    "    print(\"Não é apropriado realizar o teste t pareado devido às violações dos pressupostos.\")"
   ]
  },
  {
   "cell_type": "markdown",
   "id": "c4fbc15c",
   "metadata": {},
   "source": [
    "## 4. Musicas.csv\n",
    "\n",
    "Objetivo: O objetivo central deste estudo é testar a hipótese de que existe uma diferença significativa no tempo, em horas, que as pessoas dedicam diariamente à audição de música, com base em seus gêneros musicais favoritos. Utilizar o nível de significância de 5% para verificar essa hipótese.\n",
    "\n",
    "- H0: Não há diferença significativa no tempo médio dedicado à audição de música entre os diferentes gêneros musicais.\n",
    "- H1: Existe uma diferença significativa no tempo médio dedicado à audição de música entre os diferentes gêneros musicais."
   ]
  },
  {
   "cell_type": "code",
   "execution_count": 462,
   "id": "9f95a50e",
   "metadata": {},
   "outputs": [
    {
     "data": {
      "text/html": [
       "<div>\n",
       "<style scoped>\n",
       "    .dataframe tbody tr th:only-of-type {\n",
       "        vertical-align: middle;\n",
       "    }\n",
       "\n",
       "    .dataframe tbody tr th {\n",
       "        vertical-align: top;\n",
       "    }\n",
       "\n",
       "    .dataframe thead th {\n",
       "        text-align: right;\n",
       "    }\n",
       "</style>\n",
       "<table border=\"1\" class=\"dataframe\">\n",
       "  <thead>\n",
       "    <tr style=\"text-align: right;\">\n",
       "      <th></th>\n",
       "      <th>Timestamp</th>\n",
       "      <th>Age</th>\n",
       "      <th>Primary streaming service</th>\n",
       "      <th>Hours per day</th>\n",
       "      <th>While working</th>\n",
       "      <th>Instrumentalist</th>\n",
       "      <th>Composer</th>\n",
       "      <th>Fav genre</th>\n",
       "      <th>Exploratory</th>\n",
       "      <th>Foreign languages</th>\n",
       "      <th>...</th>\n",
       "      <th>Frequency [R&amp;B]</th>\n",
       "      <th>Frequency [Rap]</th>\n",
       "      <th>Frequency [Rock]</th>\n",
       "      <th>Frequency [Video game music]</th>\n",
       "      <th>Anxiety</th>\n",
       "      <th>Depression</th>\n",
       "      <th>Insomnia</th>\n",
       "      <th>OCD</th>\n",
       "      <th>Music effects</th>\n",
       "      <th>Permissions</th>\n",
       "    </tr>\n",
       "  </thead>\n",
       "  <tbody>\n",
       "    <tr>\n",
       "      <th>0</th>\n",
       "      <td>8/27/2022 19:57:31</td>\n",
       "      <td>63.0</td>\n",
       "      <td>Pandora</td>\n",
       "      <td>1.5</td>\n",
       "      <td>Yes</td>\n",
       "      <td>No</td>\n",
       "      <td>No</td>\n",
       "      <td>Rock</td>\n",
       "      <td>Yes</td>\n",
       "      <td>No</td>\n",
       "      <td>...</td>\n",
       "      <td>Sometimes</td>\n",
       "      <td>Rarely</td>\n",
       "      <td>Very frequently</td>\n",
       "      <td>Rarely</td>\n",
       "      <td>7.0</td>\n",
       "      <td>2.0</td>\n",
       "      <td>2.0</td>\n",
       "      <td>1.0</td>\n",
       "      <td>NaN</td>\n",
       "      <td>I understand.</td>\n",
       "    </tr>\n",
       "    <tr>\n",
       "      <th>1</th>\n",
       "      <td>8/27/2022 21:28:18</td>\n",
       "      <td>18.0</td>\n",
       "      <td>Spotify</td>\n",
       "      <td>4.0</td>\n",
       "      <td>No</td>\n",
       "      <td>No</td>\n",
       "      <td>No</td>\n",
       "      <td>Video game music</td>\n",
       "      <td>No</td>\n",
       "      <td>Yes</td>\n",
       "      <td>...</td>\n",
       "      <td>Never</td>\n",
       "      <td>Rarely</td>\n",
       "      <td>Rarely</td>\n",
       "      <td>Very frequently</td>\n",
       "      <td>7.0</td>\n",
       "      <td>7.0</td>\n",
       "      <td>10.0</td>\n",
       "      <td>2.0</td>\n",
       "      <td>No effect</td>\n",
       "      <td>I understand.</td>\n",
       "    </tr>\n",
       "    <tr>\n",
       "      <th>2</th>\n",
       "      <td>8/27/2022 21:54:47</td>\n",
       "      <td>18.0</td>\n",
       "      <td>Spotify</td>\n",
       "      <td>4.0</td>\n",
       "      <td>Yes</td>\n",
       "      <td>No</td>\n",
       "      <td>No</td>\n",
       "      <td>R&amp;B</td>\n",
       "      <td>Yes</td>\n",
       "      <td>No</td>\n",
       "      <td>...</td>\n",
       "      <td>Very frequently</td>\n",
       "      <td>Very frequently</td>\n",
       "      <td>Never</td>\n",
       "      <td>Rarely</td>\n",
       "      <td>7.0</td>\n",
       "      <td>2.0</td>\n",
       "      <td>5.0</td>\n",
       "      <td>9.0</td>\n",
       "      <td>Improve</td>\n",
       "      <td>I understand.</td>\n",
       "    </tr>\n",
       "    <tr>\n",
       "      <th>3</th>\n",
       "      <td>8/27/2022 22:00:29</td>\n",
       "      <td>18.0</td>\n",
       "      <td>YouTube Music</td>\n",
       "      <td>3.0</td>\n",
       "      <td>Yes</td>\n",
       "      <td>Yes</td>\n",
       "      <td>No</td>\n",
       "      <td>Video game music</td>\n",
       "      <td>Yes</td>\n",
       "      <td>Yes</td>\n",
       "      <td>...</td>\n",
       "      <td>Rarely</td>\n",
       "      <td>Never</td>\n",
       "      <td>Never</td>\n",
       "      <td>Sometimes</td>\n",
       "      <td>4.0</td>\n",
       "      <td>8.0</td>\n",
       "      <td>6.0</td>\n",
       "      <td>0.0</td>\n",
       "      <td>Improve</td>\n",
       "      <td>I understand.</td>\n",
       "    </tr>\n",
       "    <tr>\n",
       "      <th>4</th>\n",
       "      <td>8/27/2022 22:18:59</td>\n",
       "      <td>21.0</td>\n",
       "      <td>Spotify</td>\n",
       "      <td>1.0</td>\n",
       "      <td>Yes</td>\n",
       "      <td>No</td>\n",
       "      <td>No</td>\n",
       "      <td>K pop</td>\n",
       "      <td>Yes</td>\n",
       "      <td>Yes</td>\n",
       "      <td>...</td>\n",
       "      <td>Sometimes</td>\n",
       "      <td>Rarely</td>\n",
       "      <td>Never</td>\n",
       "      <td>Rarely</td>\n",
       "      <td>5.0</td>\n",
       "      <td>3.0</td>\n",
       "      <td>5.0</td>\n",
       "      <td>3.0</td>\n",
       "      <td>Improve</td>\n",
       "      <td>I understand.</td>\n",
       "    </tr>\n",
       "  </tbody>\n",
       "</table>\n",
       "<p>5 rows × 33 columns</p>\n",
       "</div>"
      ],
      "text/plain": [
       "            Timestamp   Age Primary streaming service  Hours per day  \\\n",
       "0  8/27/2022 19:57:31  63.0                   Pandora            1.5   \n",
       "1  8/27/2022 21:28:18  18.0                   Spotify            4.0   \n",
       "2  8/27/2022 21:54:47  18.0                   Spotify            4.0   \n",
       "3  8/27/2022 22:00:29  18.0             YouTube Music            3.0   \n",
       "4  8/27/2022 22:18:59  21.0                   Spotify            1.0   \n",
       "\n",
       "  While working Instrumentalist Composer         Fav genre Exploratory  \\\n",
       "0           Yes              No       No              Rock         Yes   \n",
       "1            No              No       No  Video game music          No   \n",
       "2           Yes              No       No               R&B         Yes   \n",
       "3           Yes             Yes       No  Video game music         Yes   \n",
       "4           Yes              No       No             K pop         Yes   \n",
       "\n",
       "  Foreign languages  ...  Frequency [R&B]  Frequency [Rap] Frequency [Rock]  \\\n",
       "0                No  ...        Sometimes           Rarely  Very frequently   \n",
       "1               Yes  ...            Never           Rarely           Rarely   \n",
       "2                No  ...  Very frequently  Very frequently            Never   \n",
       "3               Yes  ...           Rarely            Never            Never   \n",
       "4               Yes  ...        Sometimes           Rarely            Never   \n",
       "\n",
       "  Frequency [Video game music] Anxiety Depression Insomnia  OCD Music effects  \\\n",
       "0                       Rarely     7.0        2.0      2.0  1.0           NaN   \n",
       "1              Very frequently     7.0        7.0     10.0  2.0     No effect   \n",
       "2                       Rarely     7.0        2.0      5.0  9.0       Improve   \n",
       "3                    Sometimes     4.0        8.0      6.0  0.0       Improve   \n",
       "4                       Rarely     5.0        3.0      5.0  3.0       Improve   \n",
       "\n",
       "     Permissions  \n",
       "0  I understand.  \n",
       "1  I understand.  \n",
       "2  I understand.  \n",
       "3  I understand.  \n",
       "4  I understand.  \n",
       "\n",
       "[5 rows x 33 columns]"
      ]
     },
     "execution_count": 462,
     "metadata": {},
     "output_type": "execute_result"
    }
   ],
   "source": [
    "data4 = pd.read_csv('Musicas.csv', sep=',')\n",
    "data4.head()"
   ]
  },
  {
   "cell_type": "code",
   "execution_count": 463,
   "id": "7e724149",
   "metadata": {},
   "outputs": [],
   "source": [
    "df = pd.DataFrame(data4[['Fav genre','Hours per day']])"
   ]
  },
  {
   "cell_type": "code",
   "execution_count": 477,
   "id": "123aeaac",
   "metadata": {},
   "outputs": [
    {
     "data": {
      "text/html": [
       "<div>\n",
       "<style scoped>\n",
       "    .dataframe tbody tr th:only-of-type {\n",
       "        vertical-align: middle;\n",
       "    }\n",
       "\n",
       "    .dataframe tbody tr th {\n",
       "        vertical-align: top;\n",
       "    }\n",
       "\n",
       "    .dataframe thead th {\n",
       "        text-align: right;\n",
       "    }\n",
       "</style>\n",
       "<table border=\"1\" class=\"dataframe\">\n",
       "  <thead>\n",
       "    <tr style=\"text-align: right;\">\n",
       "      <th></th>\n",
       "      <th>Fav genre</th>\n",
       "      <th>Hours per day</th>\n",
       "    </tr>\n",
       "  </thead>\n",
       "  <tbody>\n",
       "    <tr>\n",
       "      <th>0</th>\n",
       "      <td>Rock</td>\n",
       "      <td>1.5</td>\n",
       "    </tr>\n",
       "    <tr>\n",
       "      <th>1</th>\n",
       "      <td>Video game music</td>\n",
       "      <td>4.0</td>\n",
       "    </tr>\n",
       "    <tr>\n",
       "      <th>2</th>\n",
       "      <td>R&amp;B</td>\n",
       "      <td>4.0</td>\n",
       "    </tr>\n",
       "    <tr>\n",
       "      <th>3</th>\n",
       "      <td>Video game music</td>\n",
       "      <td>3.0</td>\n",
       "    </tr>\n",
       "    <tr>\n",
       "      <th>4</th>\n",
       "      <td>K pop</td>\n",
       "      <td>1.0</td>\n",
       "    </tr>\n",
       "  </tbody>\n",
       "</table>\n",
       "</div>"
      ],
      "text/plain": [
       "          Fav genre  Hours per day\n",
       "0              Rock            1.5\n",
       "1  Video game music            4.0\n",
       "2               R&B            4.0\n",
       "3  Video game music            3.0\n",
       "4             K pop            1.0"
      ]
     },
     "execution_count": 477,
     "metadata": {},
     "output_type": "execute_result"
    }
   ],
   "source": [
    "df.head()"
   ]
  },
  {
   "cell_type": "code",
   "execution_count": 465,
   "id": "e03beb33",
   "metadata": {},
   "outputs": [
    {
     "data": {
      "text/plain": [
       "Fav genre        0.0\n",
       "Hours per day    0.0\n",
       "dtype: float64"
      ]
     },
     "execution_count": 465,
     "metadata": {},
     "output_type": "execute_result"
    }
   ],
   "source": [
    "df.isnull().sum().sort_index()/len(df)"
   ]
  },
  {
   "cell_type": "code",
   "execution_count": 466,
   "id": "08189108",
   "metadata": {},
   "outputs": [
    {
     "data": {
      "text/plain": [
       "Fav genre        0.0\n",
       "Hours per day    0.0\n",
       "dtype: float64"
      ]
     },
     "execution_count": 466,
     "metadata": {},
     "output_type": "execute_result"
    }
   ],
   "source": [
    "df.isna().sum().sort_index()/len(df)"
   ]
  },
  {
   "cell_type": "code",
   "execution_count": 467,
   "id": "a601faa1",
   "metadata": {},
   "outputs": [
    {
     "data": {
      "text/plain": [
       "array(['Rock', 'Video game music', 'R&B', 'K pop', 'Country', 'EDM',\n",
       "       'Hip hop', 'Pop', 'Rap', 'Classical', 'Metal', 'Folk'],\n",
       "      dtype=object)"
      ]
     },
     "execution_count": 467,
     "metadata": {},
     "output_type": "execute_result"
    }
   ],
   "source": [
    "df['Fav genre'].unique()"
   ]
  },
  {
   "cell_type": "code",
   "execution_count": 469,
   "id": "9afb38ae",
   "metadata": {},
   "outputs": [
    {
     "data": {
      "text/plain": [
       "array([ 1.5 ,  4.  ,  3.  ,  1.  ,  6.  ,  8.  ,  2.  , 12.  , 24.  ,\n",
       "        5.  ,  0.5 ,  0.25,  0.  ,  7.  , 10.  ,  2.5 ,  9.  ,  0.7 ,\n",
       "        4.5 , 20.  , 15.  , 14.  , 13.  ,  0.1 , 11.  , 18.  ])"
      ]
     },
     "execution_count": 469,
     "metadata": {},
     "output_type": "execute_result"
    }
   ],
   "source": [
    "df['Hours per day'].unique()"
   ]
  },
  {
   "cell_type": "code",
   "execution_count": 472,
   "id": "c6d4677d",
   "metadata": {},
   "outputs": [
    {
     "name": "stdout",
     "output_type": "stream",
     "text": [
      "               Valor  Frequência\n",
      "3          Classical          53\n",
      "10           Country          25\n",
      "5                EDM          37\n",
      "8               Folk          30\n",
      "7            Hip hop          35\n",
      "9              K pop          26\n",
      "2              Metal          88\n",
      "1                Pop         114\n",
      "6                R&B          35\n",
      "11               Rap          22\n",
      "0               Rock         188\n",
      "4   Video game music          44\n"
     ]
    }
   ],
   "source": [
    "tabela_frequencia_FavGenre  = df['Fav genre'].value_counts().reset_index()\n",
    "tabela_frequencia_FavGenre.columns = ['Valor', 'Frequência']\n",
    "tabela_frequencia_FavGenre = tabela_frequencia_FavGenre.sort_values(by='Valor')\n",
    "print(tabela_frequencia_FavGenre)"
   ]
  },
  {
   "cell_type": "code",
   "execution_count": 475,
   "id": "edcaf86a",
   "metadata": {},
   "outputs": [
    {
     "name": "stdout",
     "output_type": "stream",
     "text": [
      "    Valor  Frequência\n",
      "12   0.00           6\n",
      "23   0.10           1\n",
      "16   0.25           2\n",
      "7    0.50          20\n",
      "18   0.70           1\n",
      "2    1.00         112\n",
      "9    1.50          17\n",
      "0    2.00         167\n",
      "13   2.50           5\n",
      "1    3.00         116\n",
      "3    4.00          78\n",
      "19   4.50           1\n",
      "4    5.00          49\n",
      "5    6.00          45\n",
      "10   7.00          13\n",
      "6    8.00          25\n",
      "15   9.00           3\n",
      "8   10.00          19\n",
      "24  11.00           1\n",
      "11  12.00           7\n",
      "22  13.00           1\n",
      "21  14.00           1\n",
      "17  15.00           2\n",
      "25  18.00           1\n",
      "20  20.00           1\n",
      "14  24.00           3\n"
     ]
    }
   ],
   "source": [
    "tabela_frequencia_Hours  = df['Hours per day'].value_counts().reset_index()\n",
    "tabela_frequencia_Hours.columns = ['Valor', 'Frequência']\n",
    "tabela_frequencia_Hours = tabela_frequencia_Hours.sort_values(by='Valor')\n",
    "print(tabela_frequencia_Hours)"
   ]
  },
  {
   "cell_type": "markdown",
   "id": "bb9463f0",
   "metadata": {},
   "source": [
    "### Dado que estamos lidando com mais de dois grupos (gêneros musicais), será realizado a Análise de Variância (ANOVA)."
   ]
  },
  {
   "cell_type": "code",
   "execution_count": 480,
   "id": "6f219e94",
   "metadata": {},
   "outputs": [
    {
     "name": "stdout",
     "output_type": "stream",
     "text": [
      "Estatística F: 1.1077876244156475\n",
      "Valor-p: 0.3570210527640474\n",
      "Falha em rejeitar a hipótese nula: Não há evidências suficientes para afirmar uma diferença significativa.\n"
     ]
    }
   ],
   "source": [
    "# Realiza a ANOVA\n",
    "result = stats.f_oneway(\n",
    "    df['Hours per day'][df['Fav genre'] == 'Rock'],\n",
    "    df['Hours per day'][df['Fav genre'] == 'Video game music'],\n",
    "    df['Hours per day'][df['Fav genre'] == 'R&B'],\n",
    "    df['Hours per day'][df['Fav genre'] == 'K pop'],\n",
    "    df['Hours per day'][df['Fav genre'] == 'Country'],\n",
    "    df['Hours per day'][df['Fav genre'] == 'EDM'],\n",
    "    df['Hours per day'][df['Fav genre'] == 'Hip hop']\n",
    ")\n",
    "\n",
    "# Exibe os resultados\n",
    "print(\"Estatística F:\", result.statistic)\n",
    "print(\"Valor-p:\", result.pvalue)\n",
    "\n",
    "# Compara o valor-p com o nível de significância (5%)\n",
    "alpha = 0.05\n",
    "if result.pvalue < alpha:\n",
    "    print(\"Rejeitar a hipótese nula: Existe uma diferença significativa.\")\n",
    "else:\n",
    "    print(\"Falha em rejeitar a hipótese nula: Não há evidências suficientes para afirmar uma diferença significativa.\")\n"
   ]
  },
  {
   "cell_type": "markdown",
   "id": "4e0a00a7",
   "metadata": {},
   "source": [
    "**Como a ANOVA não dirá exatamente quais grupos são diferentes entre si, apenas se há uma diferença significativa e como o teste resultou em uma diferença significativa, será realizado o teste de Tukey para identificar quais grupos são diferentes.**"
   ]
  },
  {
   "cell_type": "code",
   "execution_count": 493,
   "id": "ad8c96d5",
   "metadata": {},
   "outputs": [],
   "source": [
    "import pandas as pd\n",
    "from statsmodels.stats.multicomp import pairwise_tukeyhsd\n",
    "\n",
    "# Aplica o teste de Tukey para comparações múltiplas\n",
    "tukey_results = pairwise_tukeyhsd(df['Hours per day'], df['Fav genre'])\n",
    "\n",
    "# Cria um DataFrame com os resultados do teste de Tukey\n",
    "tukey_df = pd.DataFrame(data=tukey_results._results_table.data[1:], columns=tukey_results._results_table.data[0])"
   ]
  },
  {
   "cell_type": "code",
   "execution_count": 495,
   "id": "afe035d5",
   "metadata": {},
   "outputs": [
    {
     "data": {
      "text/html": [
       "<div>\n",
       "<style scoped>\n",
       "    .dataframe tbody tr th:only-of-type {\n",
       "        vertical-align: middle;\n",
       "    }\n",
       "\n",
       "    .dataframe tbody tr th {\n",
       "        vertical-align: top;\n",
       "    }\n",
       "\n",
       "    .dataframe thead th {\n",
       "        text-align: right;\n",
       "    }\n",
       "</style>\n",
       "<table border=\"1\" class=\"dataframe\">\n",
       "  <thead>\n",
       "    <tr style=\"text-align: right;\">\n",
       "      <th></th>\n",
       "      <th>group1</th>\n",
       "      <th>group2</th>\n",
       "      <th>meandiff</th>\n",
       "      <th>p-adj</th>\n",
       "      <th>lower</th>\n",
       "      <th>upper</th>\n",
       "      <th>reject</th>\n",
       "    </tr>\n",
       "  </thead>\n",
       "  <tbody>\n",
       "    <tr>\n",
       "      <th>0</th>\n",
       "      <td>Classical</td>\n",
       "      <td>Country</td>\n",
       "      <td>0.5379</td>\n",
       "      <td>0.9998</td>\n",
       "      <td>-1.8172</td>\n",
       "      <td>2.8931</td>\n",
       "      <td>False</td>\n",
       "    </tr>\n",
       "    <tr>\n",
       "      <th>1</th>\n",
       "      <td>Classical</td>\n",
       "      <td>EDM</td>\n",
       "      <td>1.7125</td>\n",
       "      <td>0.2280</td>\n",
       "      <td>-0.3670</td>\n",
       "      <td>3.7920</td>\n",
       "      <td>False</td>\n",
       "    </tr>\n",
       "    <tr>\n",
       "      <th>2</th>\n",
       "      <td>Classical</td>\n",
       "      <td>Folk</td>\n",
       "      <td>0.3546</td>\n",
       "      <td>1.0000</td>\n",
       "      <td>-1.8632</td>\n",
       "      <td>2.5724</td>\n",
       "      <td>False</td>\n",
       "    </tr>\n",
       "    <tr>\n",
       "      <th>3</th>\n",
       "      <td>Classical</td>\n",
       "      <td>Hip hop</td>\n",
       "      <td>1.0465</td>\n",
       "      <td>0.9002</td>\n",
       "      <td>-1.0677</td>\n",
       "      <td>3.1607</td>\n",
       "      <td>False</td>\n",
       "    </tr>\n",
       "    <tr>\n",
       "      <th>4</th>\n",
       "      <td>Classical</td>\n",
       "      <td>K pop</td>\n",
       "      <td>1.1179</td>\n",
       "      <td>0.9168</td>\n",
       "      <td>-1.2062</td>\n",
       "      <td>3.4421</td>\n",
       "      <td>False</td>\n",
       "    </tr>\n",
       "  </tbody>\n",
       "</table>\n",
       "</div>"
      ],
      "text/plain": [
       "      group1   group2  meandiff   p-adj   lower   upper  reject\n",
       "0  Classical  Country    0.5379  0.9998 -1.8172  2.8931   False\n",
       "1  Classical      EDM    1.7125  0.2280 -0.3670  3.7920   False\n",
       "2  Classical     Folk    0.3546  1.0000 -1.8632  2.5724   False\n",
       "3  Classical  Hip hop    1.0465  0.9002 -1.0677  3.1607   False\n",
       "4  Classical    K pop    1.1179  0.9168 -1.2062  3.4421   False"
      ]
     },
     "execution_count": 495,
     "metadata": {},
     "output_type": "execute_result"
    }
   ],
   "source": [
    "tukey_df.head()"
   ]
  },
  {
   "cell_type": "code",
   "execution_count": 497,
   "id": "26420946",
   "metadata": {},
   "outputs": [
    {
     "data": {
      "text/html": [
       "<div>\n",
       "<style scoped>\n",
       "    .dataframe tbody tr th:only-of-type {\n",
       "        vertical-align: middle;\n",
       "    }\n",
       "\n",
       "    .dataframe tbody tr th {\n",
       "        vertical-align: top;\n",
       "    }\n",
       "\n",
       "    .dataframe thead th {\n",
       "        text-align: right;\n",
       "    }\n",
       "</style>\n",
       "<table border=\"1\" class=\"dataframe\">\n",
       "  <thead>\n",
       "    <tr style=\"text-align: right;\">\n",
       "      <th></th>\n",
       "      <th>group1</th>\n",
       "      <th>group2</th>\n",
       "      <th>meandiff</th>\n",
       "      <th>p-adj</th>\n",
       "      <th>lower</th>\n",
       "      <th>upper</th>\n",
       "      <th>reject</th>\n",
       "    </tr>\n",
       "  </thead>\n",
       "  <tbody>\n",
       "    <tr>\n",
       "      <th>57</th>\n",
       "      <td>Pop</td>\n",
       "      <td>Rap</td>\n",
       "      <td>2.4103</td>\n",
       "      <td>0.025</td>\n",
       "      <td>0.1499</td>\n",
       "      <td>4.6707</td>\n",
       "      <td>True</td>\n",
       "    </tr>\n",
       "  </tbody>\n",
       "</table>\n",
       "</div>"
      ],
      "text/plain": [
       "   group1 group2  meandiff  p-adj   lower   upper  reject\n",
       "57    Pop    Rap    2.4103  0.025  0.1499  4.6707    True"
      ]
     },
     "execution_count": 497,
     "metadata": {},
     "output_type": "execute_result"
    }
   ],
   "source": [
    "tukey_df[tukey_df['reject'] == True]"
   ]
  },
  {
   "cell_type": "markdown",
   "id": "d347538b",
   "metadata": {},
   "source": [
    "**Há uma diferença significativa entre os grupos \"Pop\" e \"Rap\".**"
   ]
  },
  {
   "cell_type": "markdown",
   "id": "25c1eb67",
   "metadata": {},
   "source": [
    "## 5. Treinador.csv\n",
    "\n",
    "Objetivo: Validar se existe essa diferença significativa do comportamento do treinador no tempo de corrida das equipes, use o nível de significância de 5%. Se sim, entre quais tipos de comportamentos vemos um tempo menor para finalização da corrida?\n"
   ]
  },
  {
   "cell_type": "code",
   "execution_count": 499,
   "id": "e2fb7c45",
   "metadata": {},
   "outputs": [
    {
     "data": {
      "text/html": [
       "<div>\n",
       "<style scoped>\n",
       "    .dataframe tbody tr th:only-of-type {\n",
       "        vertical-align: middle;\n",
       "    }\n",
       "\n",
       "    .dataframe tbody tr th {\n",
       "        vertical-align: top;\n",
       "    }\n",
       "\n",
       "    .dataframe thead th {\n",
       "        text-align: right;\n",
       "    }\n",
       "</style>\n",
       "<table border=\"1\" class=\"dataframe\">\n",
       "  <thead>\n",
       "    <tr style=\"text-align: right;\">\n",
       "      <th></th>\n",
       "      <th>Equipe</th>\n",
       "      <th>Semana</th>\n",
       "      <th>Tipo de Treinador</th>\n",
       "      <th>Tempo de Corrida</th>\n",
       "    </tr>\n",
       "  </thead>\n",
       "  <tbody>\n",
       "    <tr>\n",
       "      <th>0</th>\n",
       "      <td>1</td>\n",
       "      <td>1</td>\n",
       "      <td>Motivador</td>\n",
       "      <td>42.483571</td>\n",
       "    </tr>\n",
       "    <tr>\n",
       "      <th>1</th>\n",
       "      <td>1</td>\n",
       "      <td>1</td>\n",
       "      <td>Rigoroso</td>\n",
       "      <td>46.308678</td>\n",
       "    </tr>\n",
       "    <tr>\n",
       "      <th>2</th>\n",
       "      <td>1</td>\n",
       "      <td>1</td>\n",
       "      <td>Colaborador</td>\n",
       "      <td>53.238443</td>\n",
       "    </tr>\n",
       "    <tr>\n",
       "      <th>3</th>\n",
       "      <td>1</td>\n",
       "      <td>1</td>\n",
       "      <td>Analítico</td>\n",
       "      <td>47.615149</td>\n",
       "    </tr>\n",
       "    <tr>\n",
       "      <th>4</th>\n",
       "      <td>2</td>\n",
       "      <td>1</td>\n",
       "      <td>Motivador</td>\n",
       "      <td>38.829233</td>\n",
       "    </tr>\n",
       "  </tbody>\n",
       "</table>\n",
       "</div>"
      ],
      "text/plain": [
       "   Equipe  Semana Tipo de Treinador  Tempo de Corrida\n",
       "0       1       1         Motivador         42.483571\n",
       "1       1       1          Rigoroso         46.308678\n",
       "2       1       1       Colaborador         53.238443\n",
       "3       1       1         Analítico         47.615149\n",
       "4       2       1         Motivador         38.829233"
      ]
     },
     "execution_count": 499,
     "metadata": {},
     "output_type": "execute_result"
    }
   ],
   "source": [
    "data5 = pd.read_csv('ImpactoTreinador.csv', sep=',')\n",
    "data5.head()"
   ]
  },
  {
   "cell_type": "code",
   "execution_count": 500,
   "id": "faccd53b",
   "metadata": {},
   "outputs": [],
   "source": [
    "df = pd.DataFrame(data5[['Tipo de Treinador','Tempo de Corrida']])"
   ]
  },
  {
   "cell_type": "code",
   "execution_count": 501,
   "id": "11a8d290",
   "metadata": {},
   "outputs": [
    {
     "data": {
      "text/html": [
       "<div>\n",
       "<style scoped>\n",
       "    .dataframe tbody tr th:only-of-type {\n",
       "        vertical-align: middle;\n",
       "    }\n",
       "\n",
       "    .dataframe tbody tr th {\n",
       "        vertical-align: top;\n",
       "    }\n",
       "\n",
       "    .dataframe thead th {\n",
       "        text-align: right;\n",
       "    }\n",
       "</style>\n",
       "<table border=\"1\" class=\"dataframe\">\n",
       "  <thead>\n",
       "    <tr style=\"text-align: right;\">\n",
       "      <th></th>\n",
       "      <th>Tipo de Treinador</th>\n",
       "      <th>Tempo de Corrida</th>\n",
       "    </tr>\n",
       "  </thead>\n",
       "  <tbody>\n",
       "    <tr>\n",
       "      <th>0</th>\n",
       "      <td>Motivador</td>\n",
       "      <td>42.483571</td>\n",
       "    </tr>\n",
       "    <tr>\n",
       "      <th>1</th>\n",
       "      <td>Rigoroso</td>\n",
       "      <td>46.308678</td>\n",
       "    </tr>\n",
       "    <tr>\n",
       "      <th>2</th>\n",
       "      <td>Colaborador</td>\n",
       "      <td>53.238443</td>\n",
       "    </tr>\n",
       "    <tr>\n",
       "      <th>3</th>\n",
       "      <td>Analítico</td>\n",
       "      <td>47.615149</td>\n",
       "    </tr>\n",
       "    <tr>\n",
       "      <th>4</th>\n",
       "      <td>Motivador</td>\n",
       "      <td>38.829233</td>\n",
       "    </tr>\n",
       "  </tbody>\n",
       "</table>\n",
       "</div>"
      ],
      "text/plain": [
       "  Tipo de Treinador  Tempo de Corrida\n",
       "0         Motivador         42.483571\n",
       "1          Rigoroso         46.308678\n",
       "2       Colaborador         53.238443\n",
       "3         Analítico         47.615149\n",
       "4         Motivador         38.829233"
      ]
     },
     "execution_count": 501,
     "metadata": {},
     "output_type": "execute_result"
    }
   ],
   "source": [
    "df.head()"
   ]
  },
  {
   "cell_type": "code",
   "execution_count": 502,
   "id": "567bd662",
   "metadata": {},
   "outputs": [
    {
     "data": {
      "text/plain": [
       "Tempo de Corrida     0.0\n",
       "Tipo de Treinador    0.0\n",
       "dtype: float64"
      ]
     },
     "execution_count": 502,
     "metadata": {},
     "output_type": "execute_result"
    }
   ],
   "source": [
    "df.isnull().sum().sort_index()/len(df)"
   ]
  },
  {
   "cell_type": "code",
   "execution_count": 503,
   "id": "ac4f551d",
   "metadata": {},
   "outputs": [
    {
     "data": {
      "text/plain": [
       "Tempo de Corrida     0.0\n",
       "Tipo de Treinador    0.0\n",
       "dtype: float64"
      ]
     },
     "execution_count": 503,
     "metadata": {},
     "output_type": "execute_result"
    }
   ],
   "source": [
    "df.isna().sum().sort_index()/len(df)"
   ]
  },
  {
   "cell_type": "code",
   "execution_count": 504,
   "id": "83520340",
   "metadata": {},
   "outputs": [
    {
     "data": {
      "text/plain": [
       "array(['Motivador', 'Rigoroso', 'Colaborador', 'Analítico'], dtype=object)"
      ]
     },
     "execution_count": 504,
     "metadata": {},
     "output_type": "execute_result"
    }
   ],
   "source": [
    "df['Tipo de Treinador'].unique()"
   ]
  },
  {
   "cell_type": "markdown",
   "id": "d3830d67",
   "metadata": {},
   "source": [
    "### Dado que estamos lidando com mais de dois grupos (tipo de treinador), será realizado a Análise de Variância (ANOVA)."
   ]
  },
  {
   "cell_type": "code",
   "execution_count": 506,
   "id": "0baf0513",
   "metadata": {},
   "outputs": [
    {
     "name": "stdout",
     "output_type": "stream",
     "text": [
      "Rejeitar H0: Há diferença significativa no tempo de corrida entre os tipos de treinadores.\n"
     ]
    }
   ],
   "source": [
    "import scipy.stats as stats\n",
    "\n",
    "tempo_motivador = df[df['Tipo de Treinador'] == 'Motivador']['Tempo de Corrida']\n",
    "tempo_rigoroso = df[df['Tipo de Treinador'] == 'Rigoroso']['Tempo de Corrida']\n",
    "tempo_colaborador = df[df['Tipo de Treinador'] == 'Colaborador']['Tempo de Corrida']\n",
    "tempo_analitico = df[df['Tipo de Treinador'] == 'Analítico']['Tempo de Corrida']\n",
    "\n",
    "# Realiza o teste t\n",
    "statistic, p_value = stats.f_oneway(tempo_motivador, tempo_rigoroso, tempo_colaborador, tempo_analitico)\n",
    "\n",
    "# Nível de significância\n",
    "alpha = 0.05\n",
    "\n",
    "# Avalia o valor p\n",
    "if p_value < alpha:\n",
    "    print(\"Rejeitar H0: Há diferença significativa no tempo de corrida entre os tipos de treinadores.\")\n",
    "else:\n",
    "    print(\"Não rejeitar H0: Não há evidência de diferença significativa no tempo de corrida entre os tipos de treinadores.\")"
   ]
  },
  {
   "cell_type": "code",
   "execution_count": 508,
   "id": "abec3f35",
   "metadata": {},
   "outputs": [],
   "source": [
    "import pandas as pd\n",
    "from statsmodels.stats.multicomp import pairwise_tukeyhsd\n",
    "\n",
    "# Aplica o teste de Tukey para comparações múltiplas\n",
    "tukey_results = pairwise_tukeyhsd(df['Tempo de Corrida'], df['Tipo de Treinador'])\n",
    "\n",
    "# Cria um DataFrame com os resultados do teste de Tukey\n",
    "tukey_df = pd.DataFrame(data=tukey_results._results_table.data[1:], columns=tukey_results._results_table.data[0])"
   ]
  },
  {
   "cell_type": "code",
   "execution_count": 512,
   "id": "30caf327",
   "metadata": {},
   "outputs": [
    {
     "data": {
      "text/html": [
       "<div>\n",
       "<style scoped>\n",
       "    .dataframe tbody tr th:only-of-type {\n",
       "        vertical-align: middle;\n",
       "    }\n",
       "\n",
       "    .dataframe tbody tr th {\n",
       "        vertical-align: top;\n",
       "    }\n",
       "\n",
       "    .dataframe thead th {\n",
       "        text-align: right;\n",
       "    }\n",
       "</style>\n",
       "<table border=\"1\" class=\"dataframe\">\n",
       "  <thead>\n",
       "    <tr style=\"text-align: right;\">\n",
       "      <th></th>\n",
       "      <th>group1</th>\n",
       "      <th>group2</th>\n",
       "      <th>meandiff</th>\n",
       "      <th>p-adj</th>\n",
       "      <th>lower</th>\n",
       "      <th>upper</th>\n",
       "      <th>reject</th>\n",
       "    </tr>\n",
       "  </thead>\n",
       "  <tbody>\n",
       "    <tr>\n",
       "      <th>0</th>\n",
       "      <td>Analítico</td>\n",
       "      <td>Colaborador</td>\n",
       "      <td>8.7142</td>\n",
       "      <td>0.0000</td>\n",
       "      <td>4.3268</td>\n",
       "      <td>13.1016</td>\n",
       "      <td>True</td>\n",
       "    </tr>\n",
       "    <tr>\n",
       "      <th>1</th>\n",
       "      <td>Analítico</td>\n",
       "      <td>Motivador</td>\n",
       "      <td>-1.4272</td>\n",
       "      <td>0.8246</td>\n",
       "      <td>-5.8146</td>\n",
       "      <td>2.9602</td>\n",
       "      <td>False</td>\n",
       "    </tr>\n",
       "    <tr>\n",
       "      <th>2</th>\n",
       "      <td>Analítico</td>\n",
       "      <td>Rigoroso</td>\n",
       "      <td>4.0770</td>\n",
       "      <td>0.0775</td>\n",
       "      <td>-0.3104</td>\n",
       "      <td>8.4644</td>\n",
       "      <td>False</td>\n",
       "    </tr>\n",
       "    <tr>\n",
       "      <th>3</th>\n",
       "      <td>Colaborador</td>\n",
       "      <td>Motivador</td>\n",
       "      <td>-10.1414</td>\n",
       "      <td>0.0000</td>\n",
       "      <td>-14.5288</td>\n",
       "      <td>-5.7540</td>\n",
       "      <td>True</td>\n",
       "    </tr>\n",
       "    <tr>\n",
       "      <th>4</th>\n",
       "      <td>Colaborador</td>\n",
       "      <td>Rigoroso</td>\n",
       "      <td>-4.6372</td>\n",
       "      <td>0.0344</td>\n",
       "      <td>-9.0246</td>\n",
       "      <td>-0.2498</td>\n",
       "      <td>True</td>\n",
       "    </tr>\n",
       "    <tr>\n",
       "      <th>5</th>\n",
       "      <td>Motivador</td>\n",
       "      <td>Rigoroso</td>\n",
       "      <td>5.5042</td>\n",
       "      <td>0.0084</td>\n",
       "      <td>1.1168</td>\n",
       "      <td>9.8916</td>\n",
       "      <td>True</td>\n",
       "    </tr>\n",
       "  </tbody>\n",
       "</table>\n",
       "</div>"
      ],
      "text/plain": [
       "        group1       group2  meandiff   p-adj    lower    upper  reject\n",
       "0    Analítico  Colaborador    8.7142  0.0000   4.3268  13.1016    True\n",
       "1    Analítico    Motivador   -1.4272  0.8246  -5.8146   2.9602   False\n",
       "2    Analítico     Rigoroso    4.0770  0.0775  -0.3104   8.4644   False\n",
       "3  Colaborador    Motivador  -10.1414  0.0000 -14.5288  -5.7540    True\n",
       "4  Colaborador     Rigoroso   -4.6372  0.0344  -9.0246  -0.2498    True\n",
       "5    Motivador     Rigoroso    5.5042  0.0084   1.1168   9.8916    True"
      ]
     },
     "execution_count": 512,
     "metadata": {},
     "output_type": "execute_result"
    }
   ],
   "source": [
    "tukey_df"
   ]
  },
  {
   "cell_type": "code",
   "execution_count": 510,
   "id": "b8eb26ba",
   "metadata": {},
   "outputs": [
    {
     "data": {
      "text/html": [
       "<div>\n",
       "<style scoped>\n",
       "    .dataframe tbody tr th:only-of-type {\n",
       "        vertical-align: middle;\n",
       "    }\n",
       "\n",
       "    .dataframe tbody tr th {\n",
       "        vertical-align: top;\n",
       "    }\n",
       "\n",
       "    .dataframe thead th {\n",
       "        text-align: right;\n",
       "    }\n",
       "</style>\n",
       "<table border=\"1\" class=\"dataframe\">\n",
       "  <thead>\n",
       "    <tr style=\"text-align: right;\">\n",
       "      <th></th>\n",
       "      <th>group1</th>\n",
       "      <th>group2</th>\n",
       "      <th>meandiff</th>\n",
       "      <th>p-adj</th>\n",
       "      <th>lower</th>\n",
       "      <th>upper</th>\n",
       "      <th>reject</th>\n",
       "    </tr>\n",
       "  </thead>\n",
       "  <tbody>\n",
       "    <tr>\n",
       "      <th>0</th>\n",
       "      <td>Analítico</td>\n",
       "      <td>Colaborador</td>\n",
       "      <td>8.7142</td>\n",
       "      <td>0.0000</td>\n",
       "      <td>4.3268</td>\n",
       "      <td>13.1016</td>\n",
       "      <td>True</td>\n",
       "    </tr>\n",
       "    <tr>\n",
       "      <th>3</th>\n",
       "      <td>Colaborador</td>\n",
       "      <td>Motivador</td>\n",
       "      <td>-10.1414</td>\n",
       "      <td>0.0000</td>\n",
       "      <td>-14.5288</td>\n",
       "      <td>-5.7540</td>\n",
       "      <td>True</td>\n",
       "    </tr>\n",
       "    <tr>\n",
       "      <th>4</th>\n",
       "      <td>Colaborador</td>\n",
       "      <td>Rigoroso</td>\n",
       "      <td>-4.6372</td>\n",
       "      <td>0.0344</td>\n",
       "      <td>-9.0246</td>\n",
       "      <td>-0.2498</td>\n",
       "      <td>True</td>\n",
       "    </tr>\n",
       "    <tr>\n",
       "      <th>5</th>\n",
       "      <td>Motivador</td>\n",
       "      <td>Rigoroso</td>\n",
       "      <td>5.5042</td>\n",
       "      <td>0.0084</td>\n",
       "      <td>1.1168</td>\n",
       "      <td>9.8916</td>\n",
       "      <td>True</td>\n",
       "    </tr>\n",
       "  </tbody>\n",
       "</table>\n",
       "</div>"
      ],
      "text/plain": [
       "        group1       group2  meandiff   p-adj    lower    upper  reject\n",
       "0    Analítico  Colaborador    8.7142  0.0000   4.3268  13.1016    True\n",
       "3  Colaborador    Motivador  -10.1414  0.0000 -14.5288  -5.7540    True\n",
       "4  Colaborador     Rigoroso   -4.6372  0.0344  -9.0246  -0.2498    True\n",
       "5    Motivador     Rigoroso    5.5042  0.0084   1.1168   9.8916    True"
      ]
     },
     "execution_count": 510,
     "metadata": {},
     "output_type": "execute_result"
    }
   ],
   "source": [
    "tukey_df[tukey_df['reject'] == True]"
   ]
  }
 ],
 "metadata": {
  "kernelspec": {
   "display_name": "Python 3 (ipykernel)",
   "language": "python",
   "name": "python3"
  },
  "language_info": {
   "codemirror_mode": {
    "name": "ipython",
    "version": 3
   },
   "file_extension": ".py",
   "mimetype": "text/x-python",
   "name": "python",
   "nbconvert_exporter": "python",
   "pygments_lexer": "ipython3",
   "version": "3.11.5"
  }
 },
 "nbformat": 4,
 "nbformat_minor": 5
}
