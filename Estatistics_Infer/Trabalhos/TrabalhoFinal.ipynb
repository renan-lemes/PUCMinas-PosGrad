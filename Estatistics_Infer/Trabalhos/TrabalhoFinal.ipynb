{
 "cells": [
  {
   "cell_type": "markdown",
   "metadata": {},
   "source": [
    "# <div align=\"center\">Trabalho Final </div>\n",
    "# <div align=\"center\">Inferência Estatística </div> \n",
    "\n",
    "\n",
    "### Grupo.\n",
    "#### Aluno: Renan Lemes Leepkaln\n",
    "#### Aluno: Valdiclei Costa Marinho"
   ]
  },
  {
   "cell_type": "markdown",
   "metadata": {},
   "source": [
    "## <div align=\"center\">Exercício 1</div>"
   ]
  },
  {
   "cell_type": "markdown",
   "metadata": {},
   "source": [
    "##### Utilizar a base  “ocd_patient_dataset.csv” é um conjunto dedados de pacientes com TOC que possui dados demográficos e clínicos quecontém informações abrangentes sobre 1.500 indivíduos com diagnóstico detranstorno obsessivo-compulsivo (TOC). Observação: o conjunto de dados é inteiramente fictício e não deve ser usado para quaisquer fins clínicos ou de pesquisa reais. Use um nível de significância de 5% para testar a afirmativa de que existe diferença no Score (Pontuação) Y-BOCS (Obsessões) entre pacientes dos sexo feminino e masculino. Com base neste resultado, podemos concluir que existe diferença?"
   ]
  },
  {
   "cell_type": "markdown",
   "metadata": {},
   "source": [
    "#### <div align=\"center\">**Hipóteses:**</div>\n",
    "$$\n",
    "    H_0 : \\mu_{female} - \\mu_{male} = 0 \\newline \n",
    "    H_1 : \\mu_{female} - \\mu_{male} \\neq 0\n",
    "$$"
   ]
  },
  {
   "cell_type": "code",
   "execution_count": 2,
   "metadata": {},
   "outputs": [],
   "source": [
    "## Libs para tratamento de dados\n",
    "import pandas as pd\n",
    "import numpy as np\n",
    "\n",
    "## Libs para Analise\n",
    "from scipy.stats import norm, skew\n",
    "from scipy import stats\n",
    "from scipy.stats import shapiro, levene, mannwhitneyu, chi2_contingency,kruskal\n",
    "import pingouin as pg\n",
    "from statsmodels.stats.multicomp import pairwise_tukeyhsd\n",
    "\n",
    "\n",
    "## Libs para graficos\n",
    "import matplotlib.pyplot as plt\n",
    "\n",
    "plt.style.use(\"default\")\n",
    "import seaborn as sns\n",
    "\n",
    "## Lib para ignorar os aviso\n",
    "import warnings\n",
    "\n",
    "warnings.filterwarnings(\"ignore\")"
   ]
  },
  {
   "cell_type": "code",
   "execution_count": 3,
   "metadata": {},
   "outputs": [
    {
     "data": {
      "text/html": [
       "<div>\n",
       "<style scoped>\n",
       "    .dataframe tbody tr th:only-of-type {\n",
       "        vertical-align: middle;\n",
       "    }\n",
       "\n",
       "    .dataframe tbody tr th {\n",
       "        vertical-align: top;\n",
       "    }\n",
       "\n",
       "    .dataframe thead th {\n",
       "        text-align: right;\n",
       "    }\n",
       "</style>\n",
       "<table border=\"1\" class=\"dataframe\">\n",
       "  <thead>\n",
       "    <tr style=\"text-align: right;\">\n",
       "      <th></th>\n",
       "      <th>Patient ID</th>\n",
       "      <th>Age</th>\n",
       "      <th>Gender</th>\n",
       "      <th>Ethnicity</th>\n",
       "      <th>Marital Status</th>\n",
       "      <th>Education Level</th>\n",
       "      <th>OCD Diagnosis Date</th>\n",
       "      <th>Duration of Symptoms (months)</th>\n",
       "      <th>Previous Diagnoses</th>\n",
       "      <th>Family History of OCD</th>\n",
       "      <th>Obsession Type</th>\n",
       "      <th>Compulsion Type</th>\n",
       "      <th>Y-BOCS Score (Obsessions)</th>\n",
       "      <th>Y-BOCS Score (Compulsions)</th>\n",
       "      <th>Depression Diagnosis</th>\n",
       "      <th>Anxiety Diagnosis</th>\n",
       "      <th>Medications</th>\n",
       "    </tr>\n",
       "  </thead>\n",
       "  <tbody>\n",
       "    <tr>\n",
       "      <th>0</th>\n",
       "      <td>1018</td>\n",
       "      <td>32</td>\n",
       "      <td>Female</td>\n",
       "      <td>African</td>\n",
       "      <td>Single</td>\n",
       "      <td>Some College</td>\n",
       "      <td>2016-07-15</td>\n",
       "      <td>203</td>\n",
       "      <td>MDD</td>\n",
       "      <td>No</td>\n",
       "      <td>Harm-related</td>\n",
       "      <td>Checking</td>\n",
       "      <td>17</td>\n",
       "      <td>10</td>\n",
       "      <td>Yes</td>\n",
       "      <td>Yes</td>\n",
       "      <td>SNRI</td>\n",
       "    </tr>\n",
       "    <tr>\n",
       "      <th>1</th>\n",
       "      <td>2406</td>\n",
       "      <td>69</td>\n",
       "      <td>Male</td>\n",
       "      <td>African</td>\n",
       "      <td>Divorced</td>\n",
       "      <td>Some College</td>\n",
       "      <td>2017-04-28</td>\n",
       "      <td>180</td>\n",
       "      <td>None</td>\n",
       "      <td>Yes</td>\n",
       "      <td>Harm-related</td>\n",
       "      <td>Washing</td>\n",
       "      <td>21</td>\n",
       "      <td>25</td>\n",
       "      <td>Yes</td>\n",
       "      <td>Yes</td>\n",
       "      <td>SSRI</td>\n",
       "    </tr>\n",
       "    <tr>\n",
       "      <th>2</th>\n",
       "      <td>1188</td>\n",
       "      <td>57</td>\n",
       "      <td>Male</td>\n",
       "      <td>Hispanic</td>\n",
       "      <td>Divorced</td>\n",
       "      <td>College Degree</td>\n",
       "      <td>2018-02-02</td>\n",
       "      <td>173</td>\n",
       "      <td>MDD</td>\n",
       "      <td>No</td>\n",
       "      <td>Contamination</td>\n",
       "      <td>Checking</td>\n",
       "      <td>3</td>\n",
       "      <td>4</td>\n",
       "      <td>No</td>\n",
       "      <td>No</td>\n",
       "      <td>Benzodiazepine</td>\n",
       "    </tr>\n",
       "    <tr>\n",
       "      <th>3</th>\n",
       "      <td>6200</td>\n",
       "      <td>27</td>\n",
       "      <td>Female</td>\n",
       "      <td>Hispanic</td>\n",
       "      <td>Married</td>\n",
       "      <td>College Degree</td>\n",
       "      <td>2014-08-25</td>\n",
       "      <td>126</td>\n",
       "      <td>PTSD</td>\n",
       "      <td>Yes</td>\n",
       "      <td>Symmetry</td>\n",
       "      <td>Washing</td>\n",
       "      <td>14</td>\n",
       "      <td>28</td>\n",
       "      <td>Yes</td>\n",
       "      <td>Yes</td>\n",
       "      <td>SSRI</td>\n",
       "    </tr>\n",
       "    <tr>\n",
       "      <th>4</th>\n",
       "      <td>5824</td>\n",
       "      <td>56</td>\n",
       "      <td>Female</td>\n",
       "      <td>Hispanic</td>\n",
       "      <td>Married</td>\n",
       "      <td>High School</td>\n",
       "      <td>2022-02-20</td>\n",
       "      <td>168</td>\n",
       "      <td>PTSD</td>\n",
       "      <td>Yes</td>\n",
       "      <td>Hoarding</td>\n",
       "      <td>Ordering</td>\n",
       "      <td>39</td>\n",
       "      <td>18</td>\n",
       "      <td>No</td>\n",
       "      <td>No</td>\n",
       "      <td>None</td>\n",
       "    </tr>\n",
       "  </tbody>\n",
       "</table>\n",
       "</div>"
      ],
      "text/plain": [
       "   Patient ID  Age  Gender Ethnicity Marital Status Education Level  \\\n",
       "0        1018   32  Female   African         Single    Some College   \n",
       "1        2406   69    Male   African       Divorced    Some College   \n",
       "2        1188   57    Male  Hispanic       Divorced  College Degree   \n",
       "3        6200   27  Female  Hispanic        Married  College Degree   \n",
       "4        5824   56  Female  Hispanic        Married     High School   \n",
       "\n",
       "  OCD Diagnosis Date  Duration of Symptoms (months) Previous Diagnoses  \\\n",
       "0         2016-07-15                            203                MDD   \n",
       "1         2017-04-28                            180               None   \n",
       "2         2018-02-02                            173                MDD   \n",
       "3         2014-08-25                            126               PTSD   \n",
       "4         2022-02-20                            168               PTSD   \n",
       "\n",
       "  Family History of OCD Obsession Type Compulsion Type  \\\n",
       "0                    No   Harm-related        Checking   \n",
       "1                   Yes   Harm-related         Washing   \n",
       "2                    No  Contamination        Checking   \n",
       "3                   Yes       Symmetry         Washing   \n",
       "4                   Yes       Hoarding        Ordering   \n",
       "\n",
       "   Y-BOCS Score (Obsessions)  Y-BOCS Score (Compulsions) Depression Diagnosis  \\\n",
       "0                         17                          10                  Yes   \n",
       "1                         21                          25                  Yes   \n",
       "2                          3                           4                   No   \n",
       "3                         14                          28                  Yes   \n",
       "4                         39                          18                   No   \n",
       "\n",
       "  Anxiety Diagnosis     Medications  \n",
       "0               Yes            SNRI  \n",
       "1               Yes            SSRI  \n",
       "2                No  Benzodiazepine  \n",
       "3               Yes            SSRI  \n",
       "4                No            None  "
      ]
     },
     "execution_count": 3,
     "metadata": {},
     "output_type": "execute_result"
    }
   ],
   "source": [
    "data = pd.read_csv(\"ocd_patient_dataset.csv\", sep=\",\")\n",
    "\n",
    "data.head()"
   ]
  },
  {
   "cell_type": "code",
   "execution_count": 4,
   "metadata": {},
   "outputs": [],
   "source": [
    "## Pegando apenas Sexo e Score \n",
    "df = pd.DataFrame(data[[\"Gender\", \"Y-BOCS Score (Obsessions)\"]])"
   ]
  },
  {
   "cell_type": "code",
   "execution_count": 5,
   "metadata": {},
   "outputs": [
    {
     "data": {
      "text/plain": [
       "(1500, 2)"
      ]
     },
     "execution_count": 5,
     "metadata": {},
     "output_type": "execute_result"
    }
   ],
   "source": [
    "df.shape"
   ]
  },
  {
   "cell_type": "code",
   "execution_count": 6,
   "metadata": {},
   "outputs": [
    {
     "data": {
      "text/html": [
       "<div>\n",
       "<style scoped>\n",
       "    .dataframe tbody tr th:only-of-type {\n",
       "        vertical-align: middle;\n",
       "    }\n",
       "\n",
       "    .dataframe tbody tr th {\n",
       "        vertical-align: top;\n",
       "    }\n",
       "\n",
       "    .dataframe thead th {\n",
       "        text-align: right;\n",
       "    }\n",
       "</style>\n",
       "<table border=\"1\" class=\"dataframe\">\n",
       "  <thead>\n",
       "    <tr style=\"text-align: right;\">\n",
       "      <th></th>\n",
       "      <th>Y-BOCS Score (Obsessions)</th>\n",
       "    </tr>\n",
       "  </thead>\n",
       "  <tbody>\n",
       "    <tr>\n",
       "      <th>count</th>\n",
       "      <td>1500.000000</td>\n",
       "    </tr>\n",
       "    <tr>\n",
       "      <th>mean</th>\n",
       "      <td>20.048000</td>\n",
       "    </tr>\n",
       "    <tr>\n",
       "      <th>std</th>\n",
       "      <td>11.823884</td>\n",
       "    </tr>\n",
       "    <tr>\n",
       "      <th>min</th>\n",
       "      <td>0.000000</td>\n",
       "    </tr>\n",
       "    <tr>\n",
       "      <th>25%</th>\n",
       "      <td>10.000000</td>\n",
       "    </tr>\n",
       "    <tr>\n",
       "      <th>50%</th>\n",
       "      <td>20.000000</td>\n",
       "    </tr>\n",
       "    <tr>\n",
       "      <th>75%</th>\n",
       "      <td>31.000000</td>\n",
       "    </tr>\n",
       "    <tr>\n",
       "      <th>max</th>\n",
       "      <td>40.000000</td>\n",
       "    </tr>\n",
       "  </tbody>\n",
       "</table>\n",
       "</div>"
      ],
      "text/plain": [
       "       Y-BOCS Score (Obsessions)\n",
       "count                1500.000000\n",
       "mean                   20.048000\n",
       "std                    11.823884\n",
       "min                     0.000000\n",
       "25%                    10.000000\n",
       "50%                    20.000000\n",
       "75%                    31.000000\n",
       "max                    40.000000"
      ]
     },
     "execution_count": 6,
     "metadata": {},
     "output_type": "execute_result"
    }
   ],
   "source": [
    "df.describe()"
   ]
  },
  {
   "cell_type": "code",
   "execution_count": 7,
   "metadata": {},
   "outputs": [
    {
     "data": {
      "text/plain": [
       "Gender                       0.0\n",
       "Y-BOCS Score (Obsessions)    0.0\n",
       "dtype: float64"
      ]
     },
     "execution_count": 7,
     "metadata": {},
     "output_type": "execute_result"
    }
   ],
   "source": [
    "## Verificando se tem valor nulo e vendo em %\n",
    "df.isnull().sum().sort_index() / len(df)"
   ]
  },
  {
   "cell_type": "code",
   "execution_count": 8,
   "metadata": {},
   "outputs": [
    {
     "data": {
      "text/plain": [
       "Gender                       0.0\n",
       "Y-BOCS Score (Obsessions)    0.0\n",
       "dtype: float64"
      ]
     },
     "execution_count": 8,
     "metadata": {},
     "output_type": "execute_result"
    }
   ],
   "source": [
    "## Vereficando se tem valores NaN em %\n",
    "df.isna().sum().sort_index() / len(df)"
   ]
  },
  {
   "cell_type": "code",
   "execution_count": 9,
   "metadata": {},
   "outputs": [
    {
     "data": {
      "text/plain": [
       "0"
      ]
     },
     "execution_count": 9,
     "metadata": {},
     "output_type": "execute_result"
    }
   ],
   "source": [
    "(df[\"Y-BOCS Score (Obsessions)\"] < 0).sum()"
   ]
  },
  {
   "cell_type": "code",
   "execution_count": 10,
   "metadata": {},
   "outputs": [
    {
     "data": {
      "text/plain": [
       "array(['Female', 'Male'], dtype=object)"
      ]
     },
     "execution_count": 10,
     "metadata": {},
     "output_type": "execute_result"
    }
   ],
   "source": [
    "df[\"Gender\"].unique()"
   ]
  },
  {
   "cell_type": "code",
   "execution_count": 11,
   "metadata": {},
   "outputs": [
    {
     "data": {
      "text/html": [
       "<div>\n",
       "<style scoped>\n",
       "    .dataframe tbody tr th:only-of-type {\n",
       "        vertical-align: middle;\n",
       "    }\n",
       "\n",
       "    .dataframe tbody tr th {\n",
       "        vertical-align: top;\n",
       "    }\n",
       "\n",
       "    .dataframe thead th {\n",
       "        text-align: right;\n",
       "    }\n",
       "</style>\n",
       "<table border=\"1\" class=\"dataframe\">\n",
       "  <thead>\n",
       "    <tr style=\"text-align: right;\">\n",
       "      <th></th>\n",
       "      <th>Valor</th>\n",
       "      <th>Frequência</th>\n",
       "    </tr>\n",
       "  </thead>\n",
       "  <tbody>\n",
       "    <tr>\n",
       "      <th>1</th>\n",
       "      <td>Female</td>\n",
       "      <td>747</td>\n",
       "    </tr>\n",
       "    <tr>\n",
       "      <th>0</th>\n",
       "      <td>Male</td>\n",
       "      <td>753</td>\n",
       "    </tr>\n",
       "  </tbody>\n",
       "</table>\n",
       "</div>"
      ],
      "text/plain": [
       "    Valor  Frequência\n",
       "1  Female         747\n",
       "0    Male         753"
      ]
     },
     "execution_count": 11,
     "metadata": {},
     "output_type": "execute_result"
    }
   ],
   "source": [
    "tabela_frequencia = df[\"Gender\"].value_counts().reset_index()\n",
    "tabela_frequencia.columns = [\"Valor\", \"Frequência\"]\n",
    "tabela_frequencia = tabela_frequencia.sort_values(by=\"Valor\")\n",
    "tabela_frequencia"
   ]
  },
  {
   "cell_type": "code",
   "execution_count": 12,
   "metadata": {},
   "outputs": [],
   "source": [
    "escores_female = df[df[\"Gender\"] == \"Female\"][\"Y-BOCS Score (Obsessions)\"]\n",
    "escores_male = df[df[\"Gender\"] == \"Male\"][\"Y-BOCS Score (Obsessions)\"]"
   ]
  },
  {
   "cell_type": "code",
   "execution_count": 13,
   "metadata": {},
   "outputs": [
    {
     "data": {
      "text/html": [
       "<div>\n",
       "<style scoped>\n",
       "    .dataframe tbody tr th:only-of-type {\n",
       "        vertical-align: middle;\n",
       "    }\n",
       "\n",
       "    .dataframe tbody tr th {\n",
       "        vertical-align: top;\n",
       "    }\n",
       "\n",
       "    .dataframe thead th {\n",
       "        text-align: right;\n",
       "    }\n",
       "</style>\n",
       "<table border=\"1\" class=\"dataframe\">\n",
       "  <thead>\n",
       "    <tr style=\"text-align: right;\">\n",
       "      <th></th>\n",
       "      <th>Y-BOCS Score (Obsessions)</th>\n",
       "    </tr>\n",
       "  </thead>\n",
       "  <tbody>\n",
       "    <tr>\n",
       "      <th>0</th>\n",
       "      <td>17</td>\n",
       "    </tr>\n",
       "    <tr>\n",
       "      <th>3</th>\n",
       "      <td>14</td>\n",
       "    </tr>\n",
       "    <tr>\n",
       "      <th>4</th>\n",
       "      <td>39</td>\n",
       "    </tr>\n",
       "    <tr>\n",
       "      <th>5</th>\n",
       "      <td>26</td>\n",
       "    </tr>\n",
       "    <tr>\n",
       "      <th>6</th>\n",
       "      <td>12</td>\n",
       "    </tr>\n",
       "  </tbody>\n",
       "</table>\n",
       "</div>"
      ],
      "text/plain": [
       "   Y-BOCS Score (Obsessions)\n",
       "0                         17\n",
       "3                         14\n",
       "4                         39\n",
       "5                         26\n",
       "6                         12"
      ]
     },
     "metadata": {},
     "output_type": "display_data"
    },
    {
     "data": {
      "text/html": [
       "<div>\n",
       "<style scoped>\n",
       "    .dataframe tbody tr th:only-of-type {\n",
       "        vertical-align: middle;\n",
       "    }\n",
       "\n",
       "    .dataframe tbody tr th {\n",
       "        vertical-align: top;\n",
       "    }\n",
       "\n",
       "    .dataframe thead th {\n",
       "        text-align: right;\n",
       "    }\n",
       "</style>\n",
       "<table border=\"1\" class=\"dataframe\">\n",
       "  <thead>\n",
       "    <tr style=\"text-align: right;\">\n",
       "      <th></th>\n",
       "      <th>Y-BOCS Score (Obsessions)</th>\n",
       "    </tr>\n",
       "  </thead>\n",
       "  <tbody>\n",
       "    <tr>\n",
       "      <th>1</th>\n",
       "      <td>21</td>\n",
       "    </tr>\n",
       "    <tr>\n",
       "      <th>2</th>\n",
       "      <td>3</td>\n",
       "    </tr>\n",
       "    <tr>\n",
       "      <th>7</th>\n",
       "      <td>31</td>\n",
       "    </tr>\n",
       "    <tr>\n",
       "      <th>8</th>\n",
       "      <td>37</td>\n",
       "    </tr>\n",
       "    <tr>\n",
       "      <th>15</th>\n",
       "      <td>17</td>\n",
       "    </tr>\n",
       "  </tbody>\n",
       "</table>\n",
       "</div>"
      ],
      "text/plain": [
       "    Y-BOCS Score (Obsessions)\n",
       "1                          21\n",
       "2                           3\n",
       "7                          31\n",
       "8                          37\n",
       "15                         17"
      ]
     },
     "metadata": {},
     "output_type": "display_data"
    }
   ],
   "source": [
    "display(escores_female.to_frame().head(), escores_male.to_frame().head())"
   ]
  },
  {
   "cell_type": "markdown",
   "metadata": {},
   "source": [
    "### <div align=\"center\">Análise de ajuste de uma distribuição normal </div>"
   ]
  },
  {
   "cell_type": "code",
   "execution_count": 14,
   "metadata": {},
   "outputs": [
    {
     "data": {
      "image/png": "[encoded data removed]",
      "text/plain": [
       "<Figure size 1900x500 with 2 Axes>"
      ]
     },
     "metadata": {},
     "output_type": "display_data"
    }
   ],
   "source": [
    "(mu, sigma) = norm.fit(escores_female)\n",
    "f, (ax1, ax2) = plt.subplots(1, 2, figsize=(19, 5))\n",
    "\n",
    "ax1 = sns.distplot(escores_female, fit=norm, ax=ax1)\n",
    "ax1.legend(\n",
    "    [f\"Distributição Normal ($\\mu=$ {mu:.3f} and $\\sigma=$ {sigma:.3f})\"], loc=\"best\"\n",
    ")\n",
    "ax1.set_ylabel(\"Frequencia\")\n",
    "ax1.set_title(f\"Distribuição - escores Female\")\n",
    "\n",
    "# Usando probplot para o gráfico de probabilidade\n",
    "stats.probplot(escores_female, plot=ax2)\n",
    "f.show()"
   ]
  },
  {
   "cell_type": "code",
   "execution_count": 15,
   "metadata": {},
   "outputs": [
    {
     "data": {
      "image/png": "[encoded data removed]",
      "text/plain": [
       "<Figure size 1900x500 with 2 Axes>"
      ]
     },
     "metadata": {},
     "output_type": "display_data"
    }
   ],
   "source": [
    "(mu, sigma) = norm.fit(escores_male)\n",
    "f, (ax1, ax2) = plt.subplots(1, 2, figsize=(19, 5))\n",
    "\n",
    "ax1 = sns.distplot(escores_male, fit=norm, ax=ax1)\n",
    "ax1.legend(\n",
    "    [f\"Distributição Normal ($\\mu=$ {mu:.3f} and $\\sigma=$ {sigma:.3f})\"], loc=\"best\"\n",
    ")\n",
    "ax1.set_ylabel(\"Frequencia\")\n",
    "ax1.set_title(f\"Distribuição - escores Male\")\n",
    "\n",
    "# Usando probplot para o gráfico de probabilidade\n",
    "stats.probplot(escores_male, plot=ax2)\n",
    "f.show()"
   ]
  },
  {
   "cell_type": "markdown",
   "metadata": {},
   "source": [
    "### <div align=\"center\">Teste de Normalidade e Homogeneidade </div>"
   ]
  },
  {
   "cell_type": "code",
   "execution_count": 16,
   "metadata": {},
   "outputs": [
    {
     "name": "stdout",
     "output_type": "stream",
     "text": [
      "p_valor_feminino: 2.3539514860449785e-14, p_valor_masculino: 3.466535911472138e-15, p_valor_variancias: 0.46910653120857493\n",
      "Os pressupostos para o teste t de Student não foram atendidos. Seguir com teste não paramétrico.\n"
     ]
    }
   ],
   "source": [
    "# Teste de Shapiro para normalizada\n",
    "_, p_valor_feminino = shapiro(escores_female)\n",
    "_, p_valor_masculino = shapiro(escores_male)\n",
    "\n",
    "# Teste de Levene para homogeneidade das variâncias\n",
    "_, p_valor_variancias = levene(escores_female, escores_male)\n",
    "\n",
    "print(\n",
    "    f\"p_valor_feminino: {p_valor_feminino}, p_valor_masculino: {p_valor_masculino}, p_valor_variancias: {p_valor_variancias}\"\n",
    ")\n",
    "\n",
    "# Avaliação de pressupostos (normalidade e homogeneidade das variâncias)\n",
    "if p_valor_feminino > 0.05 and p_valor_masculino > 0.05 and p_valor_variancias > 0.05:\n",
    "    # Realizar o teste t de Student\n",
    "    resultado_teste_t, valor_p = ttest_ind(escores_female, escores_male)\n",
    "\n",
    "    # Exibir o resultado do teste\n",
    "    print(\n",
    "        f'Teste t de Student: {\"Diferença significativa\" if valor_p < nivel_significancia else \"Sem diferença significativa\"}'\n",
    "    )\n",
    "    print(f\"Estatísticas: {resultado_teste_t}, Valor p: {valor_p}\")\n",
    "else:\n",
    "    print(\n",
    "        \"Os pressupostos para o teste t de Student não foram atendidos. Seguir com teste não paramétrico.\"\n",
    "    )"
   ]
  },
  {
   "cell_type": "markdown",
   "metadata": {},
   "source": [
    "### <div align=\"center\">Teste de Mann-Whitney U: </div>\n",
    "\n",
    "Não assume uma distribuição específica para os dados."
   ]
  },
  {
   "cell_type": "code",
   "execution_count": 17,
   "metadata": {},
   "outputs": [
    {
     "name": "stdout",
     "output_type": "stream",
     "text": [
      "Teste de Mann-Whitney U: Sem diferença significativa\n",
      "Estatísticas: 285168.0, Valor p: 0.6399821232917488\n"
     ]
    }
   ],
   "source": [
    "# Teste de Mann-Whitney U\n",
    "estatisticas, valor_p = mannwhitneyu(escores_female, escores_male)\n",
    "\n",
    "nivel_significancia = 0.05\n",
    "\n",
    "print(\n",
    "    f'Teste de Mann-Whitney U: {\"Diferença significativa\" if valor_p < nivel_significancia else \"Sem diferença significativa\"}'\n",
    ")\n",
    "print(f\"Estatísticas: {estatisticas}, Valor p: {valor_p}\")"
   ]
  },
  {
   "cell_type": "markdown",
   "metadata": {},
   "source": [
    "**Resposta** : $\\newline$\n",
    "Com base nos resultados do teste de Mann-Whitney U, não há evidência estatística suficiente para afirmar que há uma diferença significativa nos escores entre os grupos feminino e masculino."
   ]
  },
  {
   "cell_type": "markdown",
   "metadata": {},
   "source": [
    "-----"
   ]
  },
  {
   "cell_type": "markdown",
   "metadata": {},
   "source": [
    "## <div align=\"center\">Exercício 2</div>"
   ]
  },
  {
   "cell_type": "markdown",
   "metadata": {},
   "source": [
    "##### O conjunto de dados “Sleep_health_and_lifestyle_dataset.csv” compreende 400 linhas e 13 colunas, cobrindo uma ampla gama de variáveis relacionadas ao sono e hábitos diários. Inclui detalhes como sexo, idade, ocupação, duração do sono, qualidade do sono, nível de atividade física, níveis de estresse, categoria de IMC, pressão arterial, frequência cardíaca, passos diários e presença ou ausência do distúrbio do sono (Insônia). O nosso objetivo é avaliar se existe diferença na proporção de pessoas que possuem ou não o distúrbio do sono (Insônia) para as diferenças ocupações na base de dados. Use o nível de significância de 5% e caso encontre diferenças, relate em quais das ocupações vemos essa diferença significativa."
   ]
  },
  {
   "cell_type": "markdown",
   "metadata": {},
   "source": [
    "*Objetivo*:  \n",
    "Avaliar se existe diferença na proporção de pessoas que possuem ou não o distúrbio do sono (Insônia) para as diferenças ocupações na base de dados. Use o nível de significância de 5% e caso encontre diferenças, relate em quais das ocupações vemos essa diferença significativa."
   ]
  },
  {
   "cell_type": "markdown",
   "metadata": {},
   "source": [
    "#### <div align=\"center\">**Hipóteses:**</div>\n",
    "$$\n",
    "    H_0 : \\text{as proporções de pessoas com e sem insônia são iguais para todas as ocupações.} \\newline \n",
    "    H_1 : \\text{as proporções de pessoas com e sem insônia são diferentes para pelo menos uma ocupação.}\n",
    "$$"
   ]
  },
  {
   "cell_type": "code",
   "execution_count": 18,
   "metadata": {},
   "outputs": [
    {
     "data": {
      "text/html": [
       "<div>\n",
       "<style scoped>\n",
       "    .dataframe tbody tr th:only-of-type {\n",
       "        vertical-align: middle;\n",
       "    }\n",
       "\n",
       "    .dataframe tbody tr th {\n",
       "        vertical-align: top;\n",
       "    }\n",
       "\n",
       "    .dataframe thead th {\n",
       "        text-align: right;\n",
       "    }\n",
       "</style>\n",
       "<table border=\"1\" class=\"dataframe\">\n",
       "  <thead>\n",
       "    <tr style=\"text-align: right;\">\n",
       "      <th></th>\n",
       "      <th>Person ID</th>\n",
       "      <th>Gender</th>\n",
       "      <th>Age</th>\n",
       "      <th>Occupation</th>\n",
       "      <th>Sleep Duration</th>\n",
       "      <th>Quality of Sleep</th>\n",
       "      <th>Physical Activity Level</th>\n",
       "      <th>Stress Level</th>\n",
       "      <th>BMI Category</th>\n",
       "      <th>Blood Pressure</th>\n",
       "      <th>Heart Rate</th>\n",
       "      <th>Daily Steps</th>\n",
       "      <th>Sleep Disorder</th>\n",
       "    </tr>\n",
       "  </thead>\n",
       "  <tbody>\n",
       "    <tr>\n",
       "      <th>0</th>\n",
       "      <td>2</td>\n",
       "      <td>Male</td>\n",
       "      <td>28</td>\n",
       "      <td>Doctor</td>\n",
       "      <td>6.2</td>\n",
       "      <td>6</td>\n",
       "      <td>60</td>\n",
       "      <td>8</td>\n",
       "      <td>Normal</td>\n",
       "      <td>125/80</td>\n",
       "      <td>75</td>\n",
       "      <td>10000</td>\n",
       "      <td>No</td>\n",
       "    </tr>\n",
       "    <tr>\n",
       "      <th>1</th>\n",
       "      <td>3</td>\n",
       "      <td>Male</td>\n",
       "      <td>28</td>\n",
       "      <td>Doctor</td>\n",
       "      <td>6.2</td>\n",
       "      <td>6</td>\n",
       "      <td>60</td>\n",
       "      <td>8</td>\n",
       "      <td>Normal</td>\n",
       "      <td>125/80</td>\n",
       "      <td>75</td>\n",
       "      <td>10000</td>\n",
       "      <td>No</td>\n",
       "    </tr>\n",
       "    <tr>\n",
       "      <th>2</th>\n",
       "      <td>7</td>\n",
       "      <td>Male</td>\n",
       "      <td>29</td>\n",
       "      <td>Teacher</td>\n",
       "      <td>6.3</td>\n",
       "      <td>6</td>\n",
       "      <td>40</td>\n",
       "      <td>7</td>\n",
       "      <td>Obese</td>\n",
       "      <td>140/90</td>\n",
       "      <td>82</td>\n",
       "      <td>3500</td>\n",
       "      <td>Insomnia</td>\n",
       "    </tr>\n",
       "    <tr>\n",
       "      <th>3</th>\n",
       "      <td>8</td>\n",
       "      <td>Male</td>\n",
       "      <td>29</td>\n",
       "      <td>Doctor</td>\n",
       "      <td>7.8</td>\n",
       "      <td>7</td>\n",
       "      <td>75</td>\n",
       "      <td>6</td>\n",
       "      <td>Normal</td>\n",
       "      <td>120/80</td>\n",
       "      <td>70</td>\n",
       "      <td>8000</td>\n",
       "      <td>No</td>\n",
       "    </tr>\n",
       "    <tr>\n",
       "      <th>4</th>\n",
       "      <td>9</td>\n",
       "      <td>Male</td>\n",
       "      <td>29</td>\n",
       "      <td>Doctor</td>\n",
       "      <td>7.8</td>\n",
       "      <td>7</td>\n",
       "      <td>75</td>\n",
       "      <td>6</td>\n",
       "      <td>Normal</td>\n",
       "      <td>120/80</td>\n",
       "      <td>70</td>\n",
       "      <td>8000</td>\n",
       "      <td>No</td>\n",
       "    </tr>\n",
       "  </tbody>\n",
       "</table>\n",
       "</div>"
      ],
      "text/plain": [
       "   Person ID Gender  Age Occupation  Sleep Duration  Quality of Sleep  \\\n",
       "0          2   Male   28     Doctor             6.2                 6   \n",
       "1          3   Male   28     Doctor             6.2                 6   \n",
       "2          7   Male   29    Teacher             6.3                 6   \n",
       "3          8   Male   29     Doctor             7.8                 7   \n",
       "4          9   Male   29     Doctor             7.8                 7   \n",
       "\n",
       "   Physical Activity Level  Stress Level BMI Category Blood Pressure  \\\n",
       "0                       60             8       Normal         125/80   \n",
       "1                       60             8       Normal         125/80   \n",
       "2                       40             7        Obese         140/90   \n",
       "3                       75             6       Normal         120/80   \n",
       "4                       75             6       Normal         120/80   \n",
       "\n",
       "   Heart Rate  Daily Steps Sleep Disorder  \n",
       "0          75        10000             No  \n",
       "1          75        10000             No  \n",
       "2          82         3500       Insomnia  \n",
       "3          70         8000             No  \n",
       "4          70         8000             No  "
      ]
     },
     "execution_count": 18,
     "metadata": {},
     "output_type": "execute_result"
    }
   ],
   "source": [
    "data2 = pd.read_csv(\"Sleep_health_and_lifestyle_dataset.csv\", sep=\",\")\n",
    "data2.head()"
   ]
  },
  {
   "cell_type": "code",
   "execution_count": 19,
   "metadata": {},
   "outputs": [
    {
     "data": {
      "text/html": [
       "<div>\n",
       "<style scoped>\n",
       "    .dataframe tbody tr th:only-of-type {\n",
       "        vertical-align: middle;\n",
       "    }\n",
       "\n",
       "    .dataframe tbody tr th {\n",
       "        vertical-align: top;\n",
       "    }\n",
       "\n",
       "    .dataframe thead th {\n",
       "        text-align: right;\n",
       "    }\n",
       "</style>\n",
       "<table border=\"1\" class=\"dataframe\">\n",
       "  <thead>\n",
       "    <tr style=\"text-align: right;\">\n",
       "      <th></th>\n",
       "      <th>Occupation</th>\n",
       "      <th>Sleep Disorder</th>\n",
       "    </tr>\n",
       "  </thead>\n",
       "  <tbody>\n",
       "    <tr>\n",
       "      <th>0</th>\n",
       "      <td>Doctor</td>\n",
       "      <td>No</td>\n",
       "    </tr>\n",
       "    <tr>\n",
       "      <th>1</th>\n",
       "      <td>Doctor</td>\n",
       "      <td>No</td>\n",
       "    </tr>\n",
       "    <tr>\n",
       "      <th>2</th>\n",
       "      <td>Teacher</td>\n",
       "      <td>Insomnia</td>\n",
       "    </tr>\n",
       "    <tr>\n",
       "      <th>3</th>\n",
       "      <td>Doctor</td>\n",
       "      <td>No</td>\n",
       "    </tr>\n",
       "    <tr>\n",
       "      <th>4</th>\n",
       "      <td>Doctor</td>\n",
       "      <td>No</td>\n",
       "    </tr>\n",
       "  </tbody>\n",
       "</table>\n",
       "</div>"
      ],
      "text/plain": [
       "  Occupation Sleep Disorder\n",
       "0     Doctor             No\n",
       "1     Doctor             No\n",
       "2    Teacher       Insomnia\n",
       "3     Doctor             No\n",
       "4     Doctor             No"
      ]
     },
     "execution_count": 19,
     "metadata": {},
     "output_type": "execute_result"
    }
   ],
   "source": [
    "df = pd.DataFrame(data2[[\"Occupation\", \"Sleep Disorder\"]])\n",
    "df.head()"
   ]
  },
  {
   "cell_type": "code",
   "execution_count": 20,
   "metadata": {},
   "outputs": [
    {
     "data": {
      "text/html": [
       "<div>\n",
       "<style scoped>\n",
       "    .dataframe tbody tr th:only-of-type {\n",
       "        vertical-align: middle;\n",
       "    }\n",
       "\n",
       "    .dataframe tbody tr th {\n",
       "        vertical-align: top;\n",
       "    }\n",
       "\n",
       "    .dataframe thead th {\n",
       "        text-align: right;\n",
       "    }\n",
       "</style>\n",
       "<table border=\"1\" class=\"dataframe\">\n",
       "  <thead>\n",
       "    <tr style=\"text-align: right;\">\n",
       "      <th></th>\n",
       "      <th>Occupation</th>\n",
       "      <th>Sleep Disorder</th>\n",
       "    </tr>\n",
       "  </thead>\n",
       "  <tbody>\n",
       "    <tr>\n",
       "      <th>count</th>\n",
       "      <td>289</td>\n",
       "      <td>289</td>\n",
       "    </tr>\n",
       "    <tr>\n",
       "      <th>unique</th>\n",
       "      <td>7</td>\n",
       "      <td>2</td>\n",
       "    </tr>\n",
       "    <tr>\n",
       "      <th>top</th>\n",
       "      <td>Doctor</td>\n",
       "      <td>No</td>\n",
       "    </tr>\n",
       "    <tr>\n",
       "      <th>freq</th>\n",
       "      <td>67</td>\n",
       "      <td>213</td>\n",
       "    </tr>\n",
       "  </tbody>\n",
       "</table>\n",
       "</div>"
      ],
      "text/plain": [
       "       Occupation Sleep Disorder\n",
       "count         289            289\n",
       "unique          7              2\n",
       "top        Doctor             No\n",
       "freq           67            213"
      ]
     },
     "execution_count": 20,
     "metadata": {},
     "output_type": "execute_result"
    }
   ],
   "source": [
    "df.describe()"
   ]
  },
  {
   "cell_type": "code",
   "execution_count": 21,
   "metadata": {},
   "outputs": [
    {
     "data": {
      "text/plain": [
       "Occupation        0.0\n",
       "Sleep Disorder    0.0\n",
       "dtype: float64"
      ]
     },
     "execution_count": 21,
     "metadata": {},
     "output_type": "execute_result"
    }
   ],
   "source": [
    "df.isnull().sum().sort_index() / len(df)"
   ]
  },
  {
   "cell_type": "code",
   "execution_count": 22,
   "metadata": {},
   "outputs": [
    {
     "data": {
      "text/plain": [
       "Occupation        0.0\n",
       "Sleep Disorder    0.0\n",
       "dtype: float64"
      ]
     },
     "execution_count": 22,
     "metadata": {},
     "output_type": "execute_result"
    }
   ],
   "source": [
    "df.isna().sum().sort_index() / len(df)"
   ]
  },
  {
   "cell_type": "code",
   "execution_count": 23,
   "metadata": {},
   "outputs": [
    {
     "data": {
      "text/plain": [
       "array(['Doctor', 'Teacher', 'Nurse', 'Engineer', 'Accountant', 'Lawyer',\n",
       "       'Salesperson'], dtype=object)"
      ]
     },
     "execution_count": 23,
     "metadata": {},
     "output_type": "execute_result"
    }
   ],
   "source": [
    "df[\"Occupation\"].unique()"
   ]
  },
  {
   "cell_type": "code",
   "execution_count": 24,
   "metadata": {},
   "outputs": [
    {
     "data": {
      "text/plain": [
       "array(['No', 'Insomnia'], dtype=object)"
      ]
     },
     "execution_count": 24,
     "metadata": {},
     "output_type": "execute_result"
    }
   ],
   "source": [
    "df[\"Sleep Disorder\"].unique()"
   ]
  },
  {
   "cell_type": "code",
   "execution_count": 25,
   "metadata": {},
   "outputs": [
    {
     "name": "stdout",
     "output_type": "stream",
     "text": [
      "         Valor  Frequência\n",
      "3   Accountant          37\n",
      "0       Doctor          67\n",
      "1     Engineer          62\n",
      "2       Lawyer          44\n",
      "6        Nurse          12\n",
      "5  Salesperson          31\n",
      "4      Teacher          36\n"
     ]
    }
   ],
   "source": [
    "tabela_frequencia_occup = df[\"Occupation\"].value_counts().reset_index()\n",
    "tabela_frequencia_occup.columns = [\"Valor\", \"Frequência\"]\n",
    "tabela_frequencia_occup = tabela_frequencia_occup.sort_values(by=\"Valor\")\n",
    "print(tabela_frequencia_occup)"
   ]
  },
  {
   "cell_type": "code",
   "execution_count": 26,
   "metadata": {},
   "outputs": [
    {
     "name": "stdout",
     "output_type": "stream",
     "text": [
      "      Valor  Frequência\n",
      "1  Insomnia          76\n",
      "0        No         213\n"
     ]
    }
   ],
   "source": [
    "tabela_frequencia_slp = df[\"Sleep Disorder\"].value_counts().reset_index()\n",
    "tabela_frequencia_slp.columns = [\"Valor\", \"Frequência\"]\n",
    "tabela_frequencia_slp = tabela_frequencia_slp.sort_values(by=\"Valor\")\n",
    "print(tabela_frequencia_slp)"
   ]
  },
  {
   "cell_type": "code",
   "execution_count": 27,
   "metadata": {},
   "outputs": [
    {
     "data": {
      "text/html": [
       "<div>\n",
       "<style scoped>\n",
       "    .dataframe tbody tr th:only-of-type {\n",
       "        vertical-align: middle;\n",
       "    }\n",
       "\n",
       "    .dataframe tbody tr th {\n",
       "        vertical-align: top;\n",
       "    }\n",
       "\n",
       "    .dataframe thead th {\n",
       "        text-align: right;\n",
       "    }\n",
       "</style>\n",
       "<table border=\"1\" class=\"dataframe\">\n",
       "  <thead>\n",
       "    <tr style=\"text-align: right;\">\n",
       "      <th>Occupation</th>\n",
       "      <th>Accountant</th>\n",
       "      <th>Doctor</th>\n",
       "      <th>Engineer</th>\n",
       "      <th>Lawyer</th>\n",
       "      <th>Nurse</th>\n",
       "      <th>Salesperson</th>\n",
       "      <th>Teacher</th>\n",
       "    </tr>\n",
       "    <tr>\n",
       "      <th>Sleep Disorder</th>\n",
       "      <th></th>\n",
       "      <th></th>\n",
       "      <th></th>\n",
       "      <th></th>\n",
       "      <th></th>\n",
       "      <th></th>\n",
       "      <th></th>\n",
       "    </tr>\n",
       "  </thead>\n",
       "  <tbody>\n",
       "    <tr>\n",
       "      <th>Insomnia</th>\n",
       "      <td>7</td>\n",
       "      <td>3</td>\n",
       "      <td>5</td>\n",
       "      <td>2</td>\n",
       "      <td>3</td>\n",
       "      <td>29</td>\n",
       "      <td>27</td>\n",
       "    </tr>\n",
       "    <tr>\n",
       "      <th>No</th>\n",
       "      <td>30</td>\n",
       "      <td>64</td>\n",
       "      <td>57</td>\n",
       "      <td>42</td>\n",
       "      <td>9</td>\n",
       "      <td>2</td>\n",
       "      <td>9</td>\n",
       "    </tr>\n",
       "  </tbody>\n",
       "</table>\n",
       "</div>"
      ],
      "text/plain": [
       "Occupation      Accountant  Doctor  Engineer  Lawyer  Nurse  Salesperson  \\\n",
       "Sleep Disorder                                                             \n",
       "Insomnia                 7       3         5       2      3           29   \n",
       "No                      30      64        57      42      9            2   \n",
       "\n",
       "Occupation      Teacher  \n",
       "Sleep Disorder           \n",
       "Insomnia             27  \n",
       "No                    9  "
      ]
     },
     "execution_count": 27,
     "metadata": {},
     "output_type": "execute_result"
    }
   ],
   "source": [
    "# Tabela de contingência\n",
    "contingency_table = pd.crosstab(df[\"Sleep Disorder\"], df[\"Occupation\"])\n",
    "contingency_table"
   ]
  },
  {
   "cell_type": "markdown",
   "metadata": {},
   "source": [
    "## Aplicação do teste qui-quadrado para independência \n",
    "\n",
    "Apropriada quando se trabalha com variáveis categóricas e deseja-se avaliar se a ocorrência de uma categoria em uma variável é independente da ocorrência de uma categoria em outra variável. "
   ]
  },
  {
   "cell_type": "code",
   "execution_count": 28,
   "metadata": {},
   "outputs": [
    {
     "name": "stdout",
     "output_type": "stream",
     "text": [
      "Chi-square statistic: 155.27672811256065\n",
      "P-value: 5.9210138109735935e-31\n",
      "Há uma diferença significativa nas proporções entre as ocupações.\n",
      "\n",
      "Sleep Disorder  Insomnia        No\n",
      "Occupation                        \n",
      "Accountant      0.189189  0.810811\n",
      "Doctor          0.044776  0.955224\n",
      "Engineer        0.080645  0.919355\n",
      "Lawyer          0.045455  0.954545\n",
      "Nurse           0.250000  0.750000\n",
      "Salesperson     0.935484  0.064516\n",
      "Teacher         0.750000  0.250000\n"
     ]
    }
   ],
   "source": [
    "# Tabela de contingência\n",
    "contingency_table = pd.crosstab(df[\"Sleep Disorder\"], df[\"Occupation\"])\n",
    "\n",
    "# Verifica frequencias esperadas\n",
    "expected_frequencies = chi2_contingency(contingency_table)[3]\n",
    "\n",
    "if (expected_frequencies < 1).any():\n",
    "    print(\"Algumas células têm frequências esperadas abaixo de 1\")\n",
    "\n",
    "# Teste qui-quadrado de independência (Variáveis categoricas)\n",
    "chi2, p, _, _ = chi2_contingency(contingency_table)\n",
    "\n",
    "print(f\"Chi-square statistic: {chi2}\")\n",
    "print(f\"P-value: {p}\")\n",
    "\n",
    "if p < 0.05:\n",
    "    print(\"Há uma diferença significativa nas proporções entre as ocupações.\\n\")\n",
    "\n",
    "    # Se houver uma diferença significativa calculamos as proporções de insônia em cada ocupação.\n",
    "    proportions = (df.groupby(\"Occupation\")[\"Sleep Disorder\"].value_counts(normalize=True).unstack())\n",
    "    print(proportions)\n",
    "else:\n",
    "    print(\n",
    "        \"Não há evidências de diferença significativa nas proporções entre as ocupações.\"\n",
    "    )"
   ]
  },
  {
   "cell_type": "markdown",
   "metadata": {},
   "source": [
    "**Resposta** : $\\newline$\n",
    "Sim há uma diferença significativa nas proporções entre as ocupações."
   ]
  },
  {
   "cell_type": "markdown",
   "metadata": {},
   "source": [
    "----"
   ]
  },
  {
   "cell_type": "markdown",
   "metadata": {},
   "source": [
    "## <div align=\"center\">Exercício 3</div>"
   ]
  },
  {
   "cell_type": "markdown",
   "metadata": {},
   "source": [
    "##### Uma empresa de tecnologia está constantemente analisando o mercado e buscando novas formas de converter os clientes (fechar contratos). Pensando nisso, ela investiu em uma empresa de treinamento de vendedores (VendaPro Academy) que diz que o seu método de vendas é superior aos métodos convencionais. Para verificar essa hipótese, a empresa de tecnologia vai avaliar o desempenho dos funcionários. Vamos comparar o desempenho de 35 vendedores ao utilizar o método convencional de vendas e o método obtido pelo treinamento com a empresa VendaPro Academy, medindo o tempo de trabalho em horas necessário para alcançar uma meta de 10 contratos vendidos. Os dados estão na base de dados “treinamentoVendedores.csv”. Determine ao nível de 2% de significância, se o método da empresa VendaPro Academy é realmente superior ao método convencional da empresa."
   ]
  },
  {
   "cell_type": "markdown",
   "metadata": {},
   "source": [
    "*Objetivo*: Determine ao nível de 2% de significância, se o método da empresa VendaPro Academy é realmente superior ao método convencional da empresa."
   ]
  },
  {
   "cell_type": "markdown",
   "metadata": {},
   "source": [
    "#### <div align=\"center\">**Hipóteses:**</div>\n",
    "$$\n",
    "    H_0 : \\overline{x}_1 - \\overline{x}_2 = 0 \\newline\n",
    "    H_1 : \\overline{x}_1 - \\overline{x}_2 > 0\n",
    "$$\n",
    "$$\n",
    "    H_0 : \\text{Não há diferença significativa entre as médias das duas amostras.} \\newline \n",
    "    H_1 : \\text{Há uma diferença significativa entre as médias das duas amostras. }\n",
    "$$"
   ]
  },
  {
   "cell_type": "code",
   "execution_count": 29,
   "metadata": {},
   "outputs": [
    {
     "data": {
      "text/html": [
       "<div>\n",
       "<style scoped>\n",
       "    .dataframe tbody tr th:only-of-type {\n",
       "        vertical-align: middle;\n",
       "    }\n",
       "\n",
       "    .dataframe tbody tr th {\n",
       "        vertical-align: top;\n",
       "    }\n",
       "\n",
       "    .dataframe thead th {\n",
       "        text-align: right;\n",
       "    }\n",
       "</style>\n",
       "<table border=\"1\" class=\"dataframe\">\n",
       "  <thead>\n",
       "    <tr style=\"text-align: right;\">\n",
       "      <th></th>\n",
       "      <th>Funcionário</th>\n",
       "      <th>Convencional</th>\n",
       "      <th>VendaPro</th>\n",
       "    </tr>\n",
       "  </thead>\n",
       "  <tbody>\n",
       "    <tr>\n",
       "      <th>0</th>\n",
       "      <td>1</td>\n",
       "      <td>52.483571</td>\n",
       "      <td>38.895782</td>\n",
       "    </tr>\n",
       "    <tr>\n",
       "      <th>1</th>\n",
       "      <td>2</td>\n",
       "      <td>49.308678</td>\n",
       "      <td>46.044318</td>\n",
       "    </tr>\n",
       "    <tr>\n",
       "      <th>2</th>\n",
       "      <td>3</td>\n",
       "      <td>53.238443</td>\n",
       "      <td>35.201649</td>\n",
       "    </tr>\n",
       "    <tr>\n",
       "      <th>3</th>\n",
       "      <td>4</td>\n",
       "      <td>57.615149</td>\n",
       "      <td>38.359070</td>\n",
       "    </tr>\n",
       "    <tr>\n",
       "      <th>4</th>\n",
       "      <td>5</td>\n",
       "      <td>48.829233</td>\n",
       "      <td>45.984306</td>\n",
       "    </tr>\n",
       "  </tbody>\n",
       "</table>\n",
       "</div>"
      ],
      "text/plain": [
       "   Funcionário  Convencional   VendaPro\n",
       "0            1     52.483571  38.895782\n",
       "1            2     49.308678  46.044318\n",
       "2            3     53.238443  35.201649\n",
       "3            4     57.615149  38.359070\n",
       "4            5     48.829233  45.984306"
      ]
     },
     "execution_count": 29,
     "metadata": {},
     "output_type": "execute_result"
    }
   ],
   "source": [
    "data3 = pd.read_csv(\"treinamentoVendedores.csv\", sep=\",\")\n",
    "data3.head()\n",
    "df = data3.copy()\n",
    "df.head()"
   ]
  },
  {
   "cell_type": "markdown",
   "metadata": {},
   "source": [
    "### Aplicação de teste t pareado\n",
    "\n",
    "Apropriado quando você temos pares de observações relacionadas (no caso, os tempos de trabalho para cada funcionário nos dois métodos). "
   ]
  },
  {
   "cell_type": "markdown",
   "metadata": {},
   "source": [
    "**Avaliação dos pressupostos:**"
   ]
  },
  {
   "cell_type": "markdown",
   "metadata": {},
   "source": [
    "**1. normalidade das diferenças**"
   ]
  },
  {
   "cell_type": "code",
   "execution_count": 30,
   "metadata": {},
   "outputs": [
    {
     "name": "stdout",
     "output_type": "stream",
     "text": [
      "A diferença entre os métodos tem uma distribuição normal (não rejeita H0 de normalidade).\n"
     ]
    }
   ],
   "source": [
    "# Shapiro\n",
    "_, normalidade_p_value = stats.shapiro(df[\"Convencional\"] - df[\"VendaPro\"])\n",
    "\n",
    "# Nível de significância\n",
    "alpha = 0.05\n",
    "\n",
    "# Avaliação da normalidade das diferenças\n",
    "if normalidade_p_value > alpha:\n",
    "    print(\n",
    "        \"A diferença entre os métodos tem uma distribuição normal (não rejeita H0 de normalidade).\"\n",
    "    )\n",
    "else:\n",
    "    print(\n",
    "        \"A diferença entre os métodos não tem uma distribuição normal (rejeita H0 de normalidade).\"\n",
    "    )"
   ]
  },
  {
   "cell_type": "markdown",
   "metadata": {},
   "source": [
    "**2. homogeneidade das variâncias das diferenças**"
   ]
  },
  {
   "cell_type": "code",
   "execution_count": 31,
   "metadata": {},
   "outputs": [
    {
     "name": "stdout",
     "output_type": "stream",
     "text": [
      "As variâncias das diferenças são homogêneas (não rejeita H0 de homogeneidade de variâncias).\n"
     ]
    }
   ],
   "source": [
    "# levene\n",
    "homogeneidade_p_value = stats.levene(df[\"Convencional\"], df[\"VendaPro\"]).pvalue\n",
    "\n",
    "# Nível de significância\n",
    "alpha = 0.05\n",
    "\n",
    "# Avaliação da homogeneidade das variâncias das diferenças\n",
    "if homogeneidade_p_value > alpha:\n",
    "    print(\n",
    "        \"As variâncias das diferenças são homogêneas (não rejeita H0 de homogeneidade de variâncias).\"\n",
    "    )\n",
    "else:\n",
    "    print(\n",
    "        \"As variâncias das diferenças não são homogêneas (rejeita H0 de homogeneidade de variâncias).\"\n",
    "    )"
   ]
  },
  {
   "cell_type": "markdown",
   "metadata": {},
   "source": [
    "### Realização do teste t pareado após os pressupostos serem atendidos"
   ]
  },
  {
   "cell_type": "code",
   "execution_count": 32,
   "metadata": {},
   "outputs": [
    {
     "name": "stdout",
     "output_type": "stream",
     "text": [
      "Rejeita a hipótese nula. Existe evidência estatística de que o método VendaPro Academy é superior ao método convencional.\n"
     ]
    }
   ],
   "source": [
    "if normalidade_p_value > alpha and homogeneidade_p_value > alpha:\n",
    "    t_statistic, p_value = stats.ttest_rel(df[\"Convencional\"], df[\"VendaPro\"])\n",
    "\n",
    "    # Verifica a significância estatística\n",
    "    if p_value < alpha:\n",
    "        print(\n",
    "            \"Rejeita a hipótese nula. Existe evidência estatística de que o método VendaPro Academy é superior ao método convencional.\"\n",
    "        )\n",
    "    else:\n",
    "        print(\n",
    "            \"Não há evidência estatística suficiente para rejeitar a hipótese nula. Não podemos afirmar que um método é superior ao outro.\"\n",
    "        )\n",
    "else:\n",
    "    print(\n",
    "        \"Não é apropriado realizar o teste t pareado devido às violações dos pressupostos.\"\n",
    "    )"
   ]
  },
  {
   "cell_type": "markdown",
   "metadata": {},
   "source": [
    "**Resposta** : $\\newline$\n",
    "Por tanto o método VendaPro e melhor que o método convencional."
   ]
  },
  {
   "cell_type": "markdown",
   "metadata": {},
   "source": [
    "----"
   ]
  },
  {
   "cell_type": "markdown",
   "metadata": {},
   "source": [
    "## <div align=\"center\">Exercício 4</div>"
   ]
  },
  {
   "cell_type": "markdown",
   "metadata": {},
   "source": [
    "##### Em um mundo onde a música desempenha um papel fundamental nas experiências diárias, a imersão em uma variedade de gêneros musicais tornou-se uma parte intrínseca da vida cotidiana. Com a ascensão de plataformas de streaming e a facilidade de acesso à música, as pessoas desfrutam da liberdade de escolher seus gêneros preferidos e dedicar tempo considerável à apreciação das composições que ressoam com suas emoções. Este fenômeno despertou um interesse significativo em compreender o tempo dedicado diariamente às músicas favoritas das pessoas, bem como explorar se existem diferenças notáveis nos hábitos de escuta entre os diversos gêneros musicais. No conjunto de dados \"Musicas.csv\", encontramos informações detalhadas sobre usuários de várias idades, incluindo dados sobre seus hábitos musicais, como o gênero favorito e o tempo diário dedicado à audição musical. O objetivo central deste estudo é testar a hipótese de que existe uma diferença significativa no tempo, em horas, que as pessoas dedicam diariamente à audição de música, com base em seus gêneros musicais favoritos. Use as colunas: (Fav genre - gênero favorito e Hours per day - horas por dia). Use o nível de significância de 5% para verificar essa hipótese."
   ]
  },
  {
   "cell_type": "markdown",
   "metadata": {},
   "source": [
    "*Objetivo*: O objetivo central deste estudo é testar a hipótese de que existe uma diferença significativa no tempo, em horas, que as pessoas dedicam diariamente à audição de música, com base em seus gêneros musicais favoritos. Utilizar o nível de significância de 5% para verificar essa hipótese."
   ]
  },
  {
   "cell_type": "markdown",
   "metadata": {},
   "source": [
    "#### <div align=\"center\">**Hipóteses:**</div>\n",
    "\n",
    "$$\n",
    "    H_0 : \\text{Não há diferença significativa no tempo médio dedicado à audição de música entre os diferentes gêneros musicais.} \\newline \n",
    "    H_1 : \\text{Existe uma diferença significativa no tempo médio dedicado à audição de música entre os diferentes gêneros musicais}\n",
    "$$"
   ]
  },
  {
   "cell_type": "code",
   "execution_count": 33,
   "metadata": {},
   "outputs": [
    {
     "data": {
      "text/html": [
       "<div>\n",
       "<style scoped>\n",
       "    .dataframe tbody tr th:only-of-type {\n",
       "        vertical-align: middle;\n",
       "    }\n",
       "\n",
       "    .dataframe tbody tr th {\n",
       "        vertical-align: top;\n",
       "    }\n",
       "\n",
       "    .dataframe thead th {\n",
       "        text-align: right;\n",
       "    }\n",
       "</style>\n",
       "<table border=\"1\" class=\"dataframe\">\n",
       "  <thead>\n",
       "    <tr style=\"text-align: right;\">\n",
       "      <th></th>\n",
       "      <th>Timestamp</th>\n",
       "      <th>Age</th>\n",
       "      <th>Primary streaming service</th>\n",
       "      <th>Hours per day</th>\n",
       "      <th>While working</th>\n",
       "      <th>Instrumentalist</th>\n",
       "      <th>Composer</th>\n",
       "      <th>Fav genre</th>\n",
       "      <th>Exploratory</th>\n",
       "      <th>Foreign languages</th>\n",
       "      <th>...</th>\n",
       "      <th>Frequency [R&amp;B]</th>\n",
       "      <th>Frequency [Rap]</th>\n",
       "      <th>Frequency [Rock]</th>\n",
       "      <th>Frequency [Video game music]</th>\n",
       "      <th>Anxiety</th>\n",
       "      <th>Depression</th>\n",
       "      <th>Insomnia</th>\n",
       "      <th>OCD</th>\n",
       "      <th>Music effects</th>\n",
       "      <th>Permissions</th>\n",
       "    </tr>\n",
       "  </thead>\n",
       "  <tbody>\n",
       "    <tr>\n",
       "      <th>0</th>\n",
       "      <td>8/27/2022 19:57:31</td>\n",
       "      <td>63.0</td>\n",
       "      <td>Pandora</td>\n",
       "      <td>1.5</td>\n",
       "      <td>Yes</td>\n",
       "      <td>No</td>\n",
       "      <td>No</td>\n",
       "      <td>Rock</td>\n",
       "      <td>Yes</td>\n",
       "      <td>No</td>\n",
       "      <td>...</td>\n",
       "      <td>Sometimes</td>\n",
       "      <td>Rarely</td>\n",
       "      <td>Very frequently</td>\n",
       "      <td>Rarely</td>\n",
       "      <td>7.0</td>\n",
       "      <td>2.0</td>\n",
       "      <td>2.0</td>\n",
       "      <td>1.0</td>\n",
       "      <td>NaN</td>\n",
       "      <td>I understand.</td>\n",
       "    </tr>\n",
       "    <tr>\n",
       "      <th>1</th>\n",
       "      <td>8/27/2022 21:28:18</td>\n",
       "      <td>18.0</td>\n",
       "      <td>Spotify</td>\n",
       "      <td>4.0</td>\n",
       "      <td>No</td>\n",
       "      <td>No</td>\n",
       "      <td>No</td>\n",
       "      <td>Video game music</td>\n",
       "      <td>No</td>\n",
       "      <td>Yes</td>\n",
       "      <td>...</td>\n",
       "      <td>Never</td>\n",
       "      <td>Rarely</td>\n",
       "      <td>Rarely</td>\n",
       "      <td>Very frequently</td>\n",
       "      <td>7.0</td>\n",
       "      <td>7.0</td>\n",
       "      <td>10.0</td>\n",
       "      <td>2.0</td>\n",
       "      <td>No effect</td>\n",
       "      <td>I understand.</td>\n",
       "    </tr>\n",
       "    <tr>\n",
       "      <th>2</th>\n",
       "      <td>8/27/2022 21:54:47</td>\n",
       "      <td>18.0</td>\n",
       "      <td>Spotify</td>\n",
       "      <td>4.0</td>\n",
       "      <td>Yes</td>\n",
       "      <td>No</td>\n",
       "      <td>No</td>\n",
       "      <td>R&amp;B</td>\n",
       "      <td>Yes</td>\n",
       "      <td>No</td>\n",
       "      <td>...</td>\n",
       "      <td>Very frequently</td>\n",
       "      <td>Very frequently</td>\n",
       "      <td>Never</td>\n",
       "      <td>Rarely</td>\n",
       "      <td>7.0</td>\n",
       "      <td>2.0</td>\n",
       "      <td>5.0</td>\n",
       "      <td>9.0</td>\n",
       "      <td>Improve</td>\n",
       "      <td>I understand.</td>\n",
       "    </tr>\n",
       "    <tr>\n",
       "      <th>3</th>\n",
       "      <td>8/27/2022 22:00:29</td>\n",
       "      <td>18.0</td>\n",
       "      <td>YouTube Music</td>\n",
       "      <td>3.0</td>\n",
       "      <td>Yes</td>\n",
       "      <td>Yes</td>\n",
       "      <td>No</td>\n",
       "      <td>Video game music</td>\n",
       "      <td>Yes</td>\n",
       "      <td>Yes</td>\n",
       "      <td>...</td>\n",
       "      <td>Rarely</td>\n",
       "      <td>Never</td>\n",
       "      <td>Never</td>\n",
       "      <td>Sometimes</td>\n",
       "      <td>4.0</td>\n",
       "      <td>8.0</td>\n",
       "      <td>6.0</td>\n",
       "      <td>0.0</td>\n",
       "      <td>Improve</td>\n",
       "      <td>I understand.</td>\n",
       "    </tr>\n",
       "    <tr>\n",
       "      <th>4</th>\n",
       "      <td>8/27/2022 22:18:59</td>\n",
       "      <td>21.0</td>\n",
       "      <td>Spotify</td>\n",
       "      <td>1.0</td>\n",
       "      <td>Yes</td>\n",
       "      <td>No</td>\n",
       "      <td>No</td>\n",
       "      <td>K pop</td>\n",
       "      <td>Yes</td>\n",
       "      <td>Yes</td>\n",
       "      <td>...</td>\n",
       "      <td>Sometimes</td>\n",
       "      <td>Rarely</td>\n",
       "      <td>Never</td>\n",
       "      <td>Rarely</td>\n",
       "      <td>5.0</td>\n",
       "      <td>3.0</td>\n",
       "      <td>5.0</td>\n",
       "      <td>3.0</td>\n",
       "      <td>Improve</td>\n",
       "      <td>I understand.</td>\n",
       "    </tr>\n",
       "  </tbody>\n",
       "</table>\n",
       "<p>5 rows × 33 columns</p>\n",
       "</div>"
      ],
      "text/plain": [
       "            Timestamp   Age Primary streaming service  Hours per day  \\\n",
       "0  8/27/2022 19:57:31  63.0                   Pandora            1.5   \n",
       "1  8/27/2022 21:28:18  18.0                   Spotify            4.0   \n",
       "2  8/27/2022 21:54:47  18.0                   Spotify            4.0   \n",
       "3  8/27/2022 22:00:29  18.0             YouTube Music            3.0   \n",
       "4  8/27/2022 22:18:59  21.0                   Spotify            1.0   \n",
       "\n",
       "  While working Instrumentalist Composer         Fav genre Exploratory  \\\n",
       "0           Yes              No       No              Rock         Yes   \n",
       "1            No              No       No  Video game music          No   \n",
       "2           Yes              No       No               R&B         Yes   \n",
       "3           Yes             Yes       No  Video game music         Yes   \n",
       "4           Yes              No       No             K pop         Yes   \n",
       "\n",
       "  Foreign languages  ...  Frequency [R&B]  Frequency [Rap] Frequency [Rock]  \\\n",
       "0                No  ...        Sometimes           Rarely  Very frequently   \n",
       "1               Yes  ...            Never           Rarely           Rarely   \n",
       "2                No  ...  Very frequently  Very frequently            Never   \n",
       "3               Yes  ...           Rarely            Never            Never   \n",
       "4               Yes  ...        Sometimes           Rarely            Never   \n",
       "\n",
       "  Frequency [Video game music] Anxiety Depression Insomnia  OCD Music effects  \\\n",
       "0                       Rarely     7.0        2.0      2.0  1.0           NaN   \n",
       "1              Very frequently     7.0        7.0     10.0  2.0     No effect   \n",
       "2                       Rarely     7.0        2.0      5.0  9.0       Improve   \n",
       "3                    Sometimes     4.0        8.0      6.0  0.0       Improve   \n",
       "4                       Rarely     5.0        3.0      5.0  3.0       Improve   \n",
       "\n",
       "     Permissions  \n",
       "0  I understand.  \n",
       "1  I understand.  \n",
       "2  I understand.  \n",
       "3  I understand.  \n",
       "4  I understand.  \n",
       "\n",
       "[5 rows x 33 columns]"
      ]
     },
     "execution_count": 33,
     "metadata": {},
     "output_type": "execute_result"
    }
   ],
   "source": [
    "data4 = pd.read_csv(\"Musicas.csv\", sep=\",\")\n",
    "data4.head()"
   ]
  },
  {
   "cell_type": "code",
   "execution_count": 34,
   "metadata": {},
   "outputs": [
    {
     "data": {
      "text/html": [
       "<div>\n",
       "<style scoped>\n",
       "    .dataframe tbody tr th:only-of-type {\n",
       "        vertical-align: middle;\n",
       "    }\n",
       "\n",
       "    .dataframe tbody tr th {\n",
       "        vertical-align: top;\n",
       "    }\n",
       "\n",
       "    .dataframe thead th {\n",
       "        text-align: right;\n",
       "    }\n",
       "</style>\n",
       "<table border=\"1\" class=\"dataframe\">\n",
       "  <thead>\n",
       "    <tr style=\"text-align: right;\">\n",
       "      <th></th>\n",
       "      <th>Fav genre</th>\n",
       "      <th>Hours per day</th>\n",
       "    </tr>\n",
       "  </thead>\n",
       "  <tbody>\n",
       "    <tr>\n",
       "      <th>0</th>\n",
       "      <td>Rock</td>\n",
       "      <td>1.5</td>\n",
       "    </tr>\n",
       "    <tr>\n",
       "      <th>1</th>\n",
       "      <td>Video game music</td>\n",
       "      <td>4.0</td>\n",
       "    </tr>\n",
       "    <tr>\n",
       "      <th>2</th>\n",
       "      <td>R&amp;B</td>\n",
       "      <td>4.0</td>\n",
       "    </tr>\n",
       "    <tr>\n",
       "      <th>3</th>\n",
       "      <td>Video game music</td>\n",
       "      <td>3.0</td>\n",
       "    </tr>\n",
       "    <tr>\n",
       "      <th>4</th>\n",
       "      <td>K pop</td>\n",
       "      <td>1.0</td>\n",
       "    </tr>\n",
       "  </tbody>\n",
       "</table>\n",
       "</div>"
      ],
      "text/plain": [
       "          Fav genre  Hours per day\n",
       "0              Rock            1.5\n",
       "1  Video game music            4.0\n",
       "2               R&B            4.0\n",
       "3  Video game music            3.0\n",
       "4             K pop            1.0"
      ]
     },
     "execution_count": 34,
     "metadata": {},
     "output_type": "execute_result"
    }
   ],
   "source": [
    "df = pd.DataFrame(data4[[\"Fav genre\", \"Hours per day\"]])\n",
    "df.head()"
   ]
  },
  {
   "cell_type": "code",
   "execution_count": 35,
   "metadata": {},
   "outputs": [
    {
     "data": {
      "text/plain": [
       "Fav genre        0.0\n",
       "Hours per day    0.0\n",
       "dtype: float64"
      ]
     },
     "execution_count": 35,
     "metadata": {},
     "output_type": "execute_result"
    }
   ],
   "source": [
    "df.isnull().sum().sort_index() / len(df)"
   ]
  },
  {
   "cell_type": "code",
   "execution_count": 36,
   "metadata": {},
   "outputs": [
    {
     "data": {
      "text/plain": [
       "Fav genre        0.0\n",
       "Hours per day    0.0\n",
       "dtype: float64"
      ]
     },
     "execution_count": 36,
     "metadata": {},
     "output_type": "execute_result"
    }
   ],
   "source": [
    "df.isna().sum().sort_index() / len(df)"
   ]
  },
  {
   "cell_type": "code",
   "execution_count": 37,
   "metadata": {},
   "outputs": [
    {
     "data": {
      "text/plain": [
       "array(['Rock', 'Video game music', 'R&B', 'K pop', 'Country', 'EDM',\n",
       "       'Hip hop', 'Pop', 'Rap', 'Classical', 'Metal', 'Folk'],\n",
       "      dtype=object)"
      ]
     },
     "execution_count": 37,
     "metadata": {},
     "output_type": "execute_result"
    }
   ],
   "source": [
    "df[\"Fav genre\"].unique()"
   ]
  },
  {
   "cell_type": "code",
   "execution_count": 38,
   "metadata": {},
   "outputs": [
    {
     "data": {
      "text/plain": [
       "array([ 1.5 ,  4.  ,  3.  ,  1.  ,  6.  ,  8.  ,  2.  , 12.  , 24.  ,\n",
       "        5.  ,  0.5 ,  0.25,  0.  ,  7.  , 10.  ,  2.5 ,  9.  ,  0.7 ,\n",
       "        4.5 , 20.  , 15.  , 14.  , 13.  ,  0.1 , 11.  , 18.  ])"
      ]
     },
     "execution_count": 38,
     "metadata": {},
     "output_type": "execute_result"
    }
   ],
   "source": [
    "df[\"Hours per day\"].unique()"
   ]
  },
  {
   "cell_type": "code",
   "execution_count": 39,
   "metadata": {},
   "outputs": [
    {
     "data": {
      "text/html": [
       "<div>\n",
       "<style scoped>\n",
       "    .dataframe tbody tr th:only-of-type {\n",
       "        vertical-align: middle;\n",
       "    }\n",
       "\n",
       "    .dataframe tbody tr th {\n",
       "        vertical-align: top;\n",
       "    }\n",
       "\n",
       "    .dataframe thead th {\n",
       "        text-align: right;\n",
       "    }\n",
       "</style>\n",
       "<table border=\"1\" class=\"dataframe\">\n",
       "  <thead>\n",
       "    <tr style=\"text-align: right;\">\n",
       "      <th></th>\n",
       "      <th>Valor</th>\n",
       "      <th>Frequência</th>\n",
       "    </tr>\n",
       "  </thead>\n",
       "  <tbody>\n",
       "    <tr>\n",
       "      <th>3</th>\n",
       "      <td>Classical</td>\n",
       "      <td>53</td>\n",
       "    </tr>\n",
       "    <tr>\n",
       "      <th>10</th>\n",
       "      <td>Country</td>\n",
       "      <td>25</td>\n",
       "    </tr>\n",
       "    <tr>\n",
       "      <th>5</th>\n",
       "      <td>EDM</td>\n",
       "      <td>37</td>\n",
       "    </tr>\n",
       "    <tr>\n",
       "      <th>8</th>\n",
       "      <td>Folk</td>\n",
       "      <td>30</td>\n",
       "    </tr>\n",
       "    <tr>\n",
       "      <th>7</th>\n",
       "      <td>Hip hop</td>\n",
       "      <td>35</td>\n",
       "    </tr>\n",
       "  </tbody>\n",
       "</table>\n",
       "</div>"
      ],
      "text/plain": [
       "        Valor  Frequência\n",
       "3   Classical          53\n",
       "10    Country          25\n",
       "5         EDM          37\n",
       "8        Folk          30\n",
       "7     Hip hop          35"
      ]
     },
     "execution_count": 39,
     "metadata": {},
     "output_type": "execute_result"
    }
   ],
   "source": [
    "tabela_frequencia_FavGenre = df[\"Fav genre\"].value_counts().reset_index()\n",
    "tabela_frequencia_FavGenre.columns = [\"Valor\", \"Frequência\"]\n",
    "tabela_frequencia_FavGenre = tabela_frequencia_FavGenre.sort_values(by=\"Valor\")\n",
    "tabela_frequencia_FavGenre.head()"
   ]
  },
  {
   "cell_type": "code",
   "execution_count": 40,
   "metadata": {},
   "outputs": [
    {
     "data": {
      "text/html": [
       "<div>\n",
       "<style scoped>\n",
       "    .dataframe tbody tr th:only-of-type {\n",
       "        vertical-align: middle;\n",
       "    }\n",
       "\n",
       "    .dataframe tbody tr th {\n",
       "        vertical-align: top;\n",
       "    }\n",
       "\n",
       "    .dataframe thead th {\n",
       "        text-align: right;\n",
       "    }\n",
       "</style>\n",
       "<table border=\"1\" class=\"dataframe\">\n",
       "  <thead>\n",
       "    <tr style=\"text-align: right;\">\n",
       "      <th></th>\n",
       "      <th>Valor</th>\n",
       "      <th>Frequência</th>\n",
       "    </tr>\n",
       "  </thead>\n",
       "  <tbody>\n",
       "    <tr>\n",
       "      <th>12</th>\n",
       "      <td>0.00</td>\n",
       "      <td>6</td>\n",
       "    </tr>\n",
       "    <tr>\n",
       "      <th>23</th>\n",
       "      <td>0.10</td>\n",
       "      <td>1</td>\n",
       "    </tr>\n",
       "    <tr>\n",
       "      <th>16</th>\n",
       "      <td>0.25</td>\n",
       "      <td>2</td>\n",
       "    </tr>\n",
       "    <tr>\n",
       "      <th>7</th>\n",
       "      <td>0.50</td>\n",
       "      <td>20</td>\n",
       "    </tr>\n",
       "    <tr>\n",
       "      <th>18</th>\n",
       "      <td>0.70</td>\n",
       "      <td>1</td>\n",
       "    </tr>\n",
       "  </tbody>\n",
       "</table>\n",
       "</div>"
      ],
      "text/plain": [
       "    Valor  Frequência\n",
       "12   0.00           6\n",
       "23   0.10           1\n",
       "16   0.25           2\n",
       "7    0.50          20\n",
       "18   0.70           1"
      ]
     },
     "execution_count": 40,
     "metadata": {},
     "output_type": "execute_result"
    }
   ],
   "source": [
    "tabela_frequencia_Hours = df[\"Hours per day\"].value_counts().reset_index()\n",
    "tabela_frequencia_Hours.columns = [\"Valor\", \"Frequência\"]\n",
    "tabela_frequencia_Hours = tabela_frequencia_Hours.sort_values(by=\"Valor\")\n",
    "tabela_frequencia_Hours.head()"
   ]
  },
  {
   "cell_type": "markdown",
   "metadata": {},
   "source": [
    "**Shapiro-Wilk para normalidade por grupo de gênero musical**"
   ]
  },
  {
   "cell_type": "code",
   "execution_count": 41,
   "metadata": {},
   "outputs": [
    {
     "name": "stdout",
     "output_type": "stream",
     "text": [
      "Rock\n",
      "--------------------------------------------------\n",
      "Shapiro-Wilk Test for Rock : p-value: 2.0905416353880454e-16\n",
      "Os dados de Rock: não seguem uma distribuição normal.\n",
      "\n",
      "Video game music\n",
      "--------------------------------------------------\n",
      "Shapiro-Wilk Test for Video game music : p-value: 1.3959829630039167e-05\n",
      "Os dados de Video game music: não seguem uma distribuição normal.\n",
      "\n",
      "R&B\n",
      "--------------------------------------------------\n",
      "Shapiro-Wilk Test for R&B : p-value: 0.00018480031576473266\n",
      "Os dados de R&B: não seguem uma distribuição normal.\n",
      "\n",
      "K pop\n",
      "--------------------------------------------------\n",
      "Shapiro-Wilk Test for K pop : p-value: 0.00015500000154133886\n",
      "Os dados de K pop: não seguem uma distribuição normal.\n",
      "\n",
      "Country\n",
      "--------------------------------------------------\n",
      "Shapiro-Wilk Test for Country : p-value: 0.013172503560781479\n",
      "Os dados de Country: não seguem uma distribuição normal.\n",
      "\n",
      "EDM\n",
      "--------------------------------------------------\n",
      "Shapiro-Wilk Test for EDM : p-value: 2.3577184038003907e-05\n",
      "Os dados de EDM: não seguem uma distribuição normal.\n",
      "\n",
      "Hip hop\n",
      "--------------------------------------------------\n",
      "Shapiro-Wilk Test for Hip hop : p-value: 4.8147030611289665e-05\n",
      "Os dados de Hip hop: não seguem uma distribuição normal.\n",
      "\n",
      "Pop\n",
      "--------------------------------------------------\n",
      "Shapiro-Wilk Test for Pop : p-value: 1.2543287242205992e-10\n",
      "Os dados de Pop: não seguem uma distribuição normal.\n",
      "\n",
      "Rap\n",
      "--------------------------------------------------\n",
      "Shapiro-Wilk Test for Rap : p-value: 1.7921630615092e-06\n",
      "Os dados de Rap: não seguem uma distribuição normal.\n",
      "\n",
      "Classical\n",
      "--------------------------------------------------\n",
      "Shapiro-Wilk Test for Classical : p-value: 0.004821876063942909\n",
      "Os dados de Classical: não seguem uma distribuição normal.\n",
      "\n",
      "Metal\n",
      "--------------------------------------------------\n",
      "Shapiro-Wilk Test for Metal : p-value: 3.1908054864970836e-08\n",
      "Os dados de Metal: não seguem uma distribuição normal.\n",
      "\n",
      "Folk\n",
      "--------------------------------------------------\n",
      "Shapiro-Wilk Test for Folk : p-value: 0.024532876908779144\n",
      "Os dados de Folk: não seguem uma distribuição normal.\n",
      "\n"
     ]
    }
   ],
   "source": [
    "# Shapiro-Wilk para normalidade por grupo de gênero musical\n",
    "for genre in df[\"Fav genre\"].unique():\n",
    "    print(genre)\n",
    "    print(\"--------------------------------------------------\")\n",
    "    genre_data = df[df[\"Fav genre\"] == genre][\"Hours per day\"]\n",
    "    stat, p_value = shapiro(genre_data)\n",
    "    print(f\"Shapiro-Wilk Test for {genre} : p-value: {p_value}\")\n",
    "    if p_value > 0.05:\n",
    "        print(f\"Os dados de {genre}: parecem seguir uma distribuição normal.\")\n",
    "    else:\n",
    "        print(f\"Os dados de {genre}: não seguem uma distribuição normal.\\n\")"
   ]
  },
  {
   "cell_type": "markdown",
   "metadata": {},
   "source": [
    "**Levene para homogeneidade das variâncias**"
   ]
  },
  {
   "cell_type": "code",
   "execution_count": 42,
   "metadata": {},
   "outputs": [
    {
     "name": "stdout",
     "output_type": "stream",
     "text": [
      "Levene Test - p-value: 0.48529179962978475\n",
      "As variâncias são homogêneas.\n"
     ]
    }
   ],
   "source": [
    "stat, p_value = levene(\n",
    "    df[df[\"Fav genre\"] == \"Rock\"][\"Hours per day\"],\n",
    "    df[df[\"Fav genre\"] == \"Video game music\"][\"Hours per day\"],\n",
    "    df[df[\"Fav genre\"] == \"R&B\"][\"Hours per day\"],\n",
    "    df[df[\"Fav genre\"] == \"K pop\"][\"Hours per day\"],\n",
    ")\n",
    "print(f\"Levene Test - p-value: {p_value}\")\n",
    "if p_value > 0.05:\n",
    "    print(\"As variâncias são homogêneas.\")\n",
    "else:\n",
    "    print(\"As variâncias não são homogêneas.\")"
   ]
  },
  {
   "cell_type": "markdown",
   "metadata": {},
   "source": [
    "**Como os dados não seguiram uma distribuição normal, será utilizado um teste Não-Paramétrico: kruskal**"
   ]
  },
  {
   "cell_type": "code",
   "execution_count": 43,
   "metadata": {},
   "outputs": [
    {
     "name": "stdout",
     "output_type": "stream",
     "text": [
      "Kruskal-Wallis H-Statistic: 4.659647402961016\n",
      "Kruskal-Wallis p-value: 0.19848454803469903\n",
      "Não há evidências suficientes para rejeitar a hipótese nula. Não há diferença significativa nos tempos médios de audição entre os gêneros musicais.\n"
     ]
    }
   ],
   "source": [
    "# Kruskal-Wallis para comparar os grupos\n",
    "h_statistic, p_value = kruskal(\n",
    "    df[df[\"Fav genre\"] == \"Rock\"][\"Hours per day\"],\n",
    "    df[df[\"Fav genre\"] == \"Video game music\"][\"Hours per day\"],\n",
    "    df[df[\"Fav genre\"] == \"R&B\"][\"Hours per day\"],\n",
    "    df[df[\"Fav genre\"] == \"K pop\"][\"Hours per day\"],\n",
    ")\n",
    "\n",
    "# Análise dos resultados\n",
    "print(f\"Kruskal-Wallis H-Statistic: {h_statistic:}\")\n",
    "print(f\"Kruskal-Wallis p-value: {p_value:}\")\n",
    "\n",
    "if p_value < 0.05:\n",
    "    print(\n",
    "        \"Rejeitamos a hipótese nula. Há uma diferença significativa nos tempos médios de audição entre os gêneros musicais.\"\n",
    "    )\n",
    "else:\n",
    "    print(\n",
    "        \"Não há evidências suficientes para rejeitar a hipótese nula. Não há diferença significativa nos tempos médios de audição entre os gêneros musicais.\"\n",
    "    )"
   ]
  },
  {
   "cell_type": "code",
   "execution_count": 44,
   "metadata": {},
   "outputs": [
    {
     "data": {
      "text/html": [
       "<div>\n",
       "<style scoped>\n",
       "    .dataframe tbody tr th:only-of-type {\n",
       "        vertical-align: middle;\n",
       "    }\n",
       "\n",
       "    .dataframe tbody tr th {\n",
       "        vertical-align: top;\n",
       "    }\n",
       "\n",
       "    .dataframe thead th {\n",
       "        text-align: right;\n",
       "    }\n",
       "</style>\n",
       "<table border=\"1\" class=\"dataframe\">\n",
       "  <thead>\n",
       "    <tr style=\"text-align: right;\">\n",
       "      <th></th>\n",
       "      <th>Source</th>\n",
       "      <th>ddof1</th>\n",
       "      <th>H</th>\n",
       "      <th>p-unc</th>\n",
       "    </tr>\n",
       "  </thead>\n",
       "  <tbody>\n",
       "    <tr>\n",
       "      <th>Kruskal</th>\n",
       "      <td>Fav genre</td>\n",
       "      <td>11</td>\n",
       "      <td>17.024857</td>\n",
       "      <td>0.107142</td>\n",
       "    </tr>\n",
       "  </tbody>\n",
       "</table>\n",
       "</div>"
      ],
      "text/plain": [
       "            Source  ddof1          H     p-unc\n",
       "Kruskal  Fav genre     11  17.024857  0.107142"
      ]
     },
     "execution_count": 44,
     "metadata": {},
     "output_type": "execute_result"
    }
   ],
   "source": [
    "# Realizando usando a Lib pingouin\n",
    "\n",
    "result = pg.kruskal(data=df, dv=\"Hours per day\", between=\"Fav genre\")\n",
    "\n",
    "# Resultados\n",
    "result"
   ]
  },
  {
   "cell_type": "code",
   "execution_count": 45,
   "metadata": {},
   "outputs": [
    {
     "data": {
      "image/png": "[encoded data removed]",
      "text/plain": [
       "<Figure size 1500x800 with 1 Axes>"
      ]
     },
     "metadata": {},
     "output_type": "display_data"
    }
   ],
   "source": [
    "sns.set(style=\"whitegrid\")\n",
    "plt.figure(figsize=(15, 8))\n",
    "sns.barplot(\n",
    "    x=\"Fav genre\", y=\"Hours per day\", data=df, ci=None, capsize=0.1, palette=\"viridis\"\n",
    ")\n",
    "sns.swarmplot(x=\"Fav genre\", y=\"Hours per day\", data=df, color=\"0.2\")\n",
    "plt.title(\"Diferenças Significativas entre Grupos\")\n",
    "plt.show()"
   ]
  },
  {
   "cell_type": "markdown",
   "metadata": {},
   "source": [
    "**Resposta** : $\\newline$\n",
    "Não há diferença significativa nos tempos médios de audição entre os gêneros musicais."
   ]
  },
  {
   "cell_type": "markdown",
   "metadata": {},
   "source": [
    "----"
   ]
  },
  {
   "cell_type": "markdown",
   "metadata": {},
   "source": [
    "## <div align=\"center\">Exercício 5</div>"
   ]
  },
  {
   "cell_type": "markdown",
   "metadata": {},
   "source": [
    "##### O sucesso de uma equipe esportiva não se limita apenas às habilidades físicas dos atletas, mas também é influenciado por fatores psicológicos, incluindo o estilo de treinamento adotado pelo treinador. Diferentes treinadores têm abordagens únicas para motivar, orientar e interagir com seus atletas. Pensando nisso, um estudo foi feito durante um ano para explorar o impacto do comportamento do treinador no desempenho de equipes de atletas, para isso, avaliou-se o desempenho de equipes para diferentes tipos de treinadores que treinaram a equipe durante dois meses cada um. A hipótese em teste é que o comportamento do treinador durante o treinamento pode ter um efeito significativo no desempenho das equipes na corrida. Acredita-se que certos tipos de treinadores podem influenciar positivamente os resultados, enquanto outros podem ter diferentes implicações no desempenho dos atletas. Entenda como impacto positivo, uma diminuição no tempo que as equipes levaram para finalizar a corrida. Use a base de dados “Treinador.csv” e conclua se existe essa diferença significativa do comportamento do treinador no tempo de corrida das equipes, use o nível de significância de 5%. Com base nos resultados conseguimos identificar uma diferença? Se sim, entre quais tipos de comportamentos vemos um tempo menor para finalização da corrida?"
   ]
  },
  {
   "cell_type": "markdown",
   "metadata": {},
   "source": [
    "*Objetivo*: Validar se existe essa diferença significativa do comportamento do treinador no tempo de corrida das equipes, use o nível de significância de 5%. Se sim, entre quais tipos de comportamentos vemos um tempo menor para finalização da corrida?"
   ]
  },
  {
   "cell_type": "markdown",
   "metadata": {},
   "source": [
    "#### <div align=\"center\">**Hipóteses:**</div>\n",
    "\n",
    "$$\n",
    "    H_0 : \\text{Não há efeito significativo do comportamento do treinador no desempenho da equipe na corrida.} \\newline \n",
    "    H_1 : \\text{Existe um efeito significativo do comportamento do treinador no desempenho da equipe na corrida.}\n",
    "$$"
   ]
  },
  {
   "cell_type": "code",
   "execution_count": 46,
   "metadata": {},
   "outputs": [
    {
     "data": {
      "text/html": [
       "<div>\n",
       "<style scoped>\n",
       "    .dataframe tbody tr th:only-of-type {\n",
       "        vertical-align: middle;\n",
       "    }\n",
       "\n",
       "    .dataframe tbody tr th {\n",
       "        vertical-align: top;\n",
       "    }\n",
       "\n",
       "    .dataframe thead th {\n",
       "        text-align: right;\n",
       "    }\n",
       "</style>\n",
       "<table border=\"1\" class=\"dataframe\">\n",
       "  <thead>\n",
       "    <tr style=\"text-align: right;\">\n",
       "      <th></th>\n",
       "      <th>Equipe</th>\n",
       "      <th>Semana</th>\n",
       "      <th>Tipo de Treinador</th>\n",
       "      <th>Tempo de Corrida</th>\n",
       "    </tr>\n",
       "  </thead>\n",
       "  <tbody>\n",
       "    <tr>\n",
       "      <th>0</th>\n",
       "      <td>1</td>\n",
       "      <td>1</td>\n",
       "      <td>Motivador</td>\n",
       "      <td>42.483571</td>\n",
       "    </tr>\n",
       "    <tr>\n",
       "      <th>1</th>\n",
       "      <td>1</td>\n",
       "      <td>1</td>\n",
       "      <td>Rigoroso</td>\n",
       "      <td>46.308678</td>\n",
       "    </tr>\n",
       "    <tr>\n",
       "      <th>2</th>\n",
       "      <td>1</td>\n",
       "      <td>1</td>\n",
       "      <td>Colaborador</td>\n",
       "      <td>53.238443</td>\n",
       "    </tr>\n",
       "    <tr>\n",
       "      <th>3</th>\n",
       "      <td>1</td>\n",
       "      <td>1</td>\n",
       "      <td>Analítico</td>\n",
       "      <td>47.615149</td>\n",
       "    </tr>\n",
       "    <tr>\n",
       "      <th>4</th>\n",
       "      <td>2</td>\n",
       "      <td>1</td>\n",
       "      <td>Motivador</td>\n",
       "      <td>38.829233</td>\n",
       "    </tr>\n",
       "  </tbody>\n",
       "</table>\n",
       "</div>"
      ],
      "text/plain": [
       "   Equipe  Semana Tipo de Treinador  Tempo de Corrida\n",
       "0       1       1         Motivador         42.483571\n",
       "1       1       1          Rigoroso         46.308678\n",
       "2       1       1       Colaborador         53.238443\n",
       "3       1       1         Analítico         47.615149\n",
       "4       2       1         Motivador         38.829233"
      ]
     },
     "execution_count": 46,
     "metadata": {},
     "output_type": "execute_result"
    }
   ],
   "source": [
    "data5 = pd.read_csv(\"ImpactoTreinador.csv\", sep=\",\")\n",
    "data5.head()"
   ]
  },
  {
   "cell_type": "code",
   "execution_count": 47,
   "metadata": {},
   "outputs": [],
   "source": [
    "df = pd.DataFrame(data5[[\"Tipo de Treinador\", \"Tempo de Corrida\"]])"
   ]
  },
  {
   "cell_type": "code",
   "execution_count": 48,
   "metadata": {},
   "outputs": [
    {
     "data": {
      "text/html": [
       "<div>\n",
       "<style scoped>\n",
       "    .dataframe tbody tr th:only-of-type {\n",
       "        vertical-align: middle;\n",
       "    }\n",
       "\n",
       "    .dataframe tbody tr th {\n",
       "        vertical-align: top;\n",
       "    }\n",
       "\n",
       "    .dataframe thead th {\n",
       "        text-align: right;\n",
       "    }\n",
       "</style>\n",
       "<table border=\"1\" class=\"dataframe\">\n",
       "  <thead>\n",
       "    <tr style=\"text-align: right;\">\n",
       "      <th></th>\n",
       "      <th>Tipo de Treinador</th>\n",
       "      <th>Tempo de Corrida</th>\n",
       "    </tr>\n",
       "  </thead>\n",
       "  <tbody>\n",
       "    <tr>\n",
       "      <th>0</th>\n",
       "      <td>Motivador</td>\n",
       "      <td>42.483571</td>\n",
       "    </tr>\n",
       "    <tr>\n",
       "      <th>1</th>\n",
       "      <td>Rigoroso</td>\n",
       "      <td>46.308678</td>\n",
       "    </tr>\n",
       "    <tr>\n",
       "      <th>2</th>\n",
       "      <td>Colaborador</td>\n",
       "      <td>53.238443</td>\n",
       "    </tr>\n",
       "    <tr>\n",
       "      <th>3</th>\n",
       "      <td>Analítico</td>\n",
       "      <td>47.615149</td>\n",
       "    </tr>\n",
       "    <tr>\n",
       "      <th>4</th>\n",
       "      <td>Motivador</td>\n",
       "      <td>38.829233</td>\n",
       "    </tr>\n",
       "  </tbody>\n",
       "</table>\n",
       "</div>"
      ],
      "text/plain": [
       "  Tipo de Treinador  Tempo de Corrida\n",
       "0         Motivador         42.483571\n",
       "1          Rigoroso         46.308678\n",
       "2       Colaborador         53.238443\n",
       "3         Analítico         47.615149\n",
       "4         Motivador         38.829233"
      ]
     },
     "execution_count": 48,
     "metadata": {},
     "output_type": "execute_result"
    }
   ],
   "source": [
    "df.head()"
   ]
  },
  {
   "cell_type": "code",
   "execution_count": 49,
   "metadata": {},
   "outputs": [
    {
     "data": {
      "text/plain": [
       "Tempo de Corrida     0.0\n",
       "Tipo de Treinador    0.0\n",
       "dtype: float64"
      ]
     },
     "execution_count": 49,
     "metadata": {},
     "output_type": "execute_result"
    }
   ],
   "source": [
    "df.isnull().sum().sort_index() / len(df)"
   ]
  },
  {
   "cell_type": "code",
   "execution_count": 50,
   "metadata": {},
   "outputs": [
    {
     "data": {
      "text/plain": [
       "Tempo de Corrida     0.0\n",
       "Tipo de Treinador    0.0\n",
       "dtype: float64"
      ]
     },
     "execution_count": 50,
     "metadata": {},
     "output_type": "execute_result"
    }
   ],
   "source": [
    "df.isna().sum().sort_index() / len(df)"
   ]
  },
  {
   "cell_type": "code",
   "execution_count": 51,
   "metadata": {},
   "outputs": [
    {
     "data": {
      "text/plain": [
       "array(['Motivador', 'Rigoroso', 'Colaborador', 'Analítico'], dtype=object)"
      ]
     },
     "execution_count": 51,
     "metadata": {},
     "output_type": "execute_result"
    }
   ],
   "source": [
    "df[\"Tipo de Treinador\"].unique()"
   ]
  },
  {
   "cell_type": "markdown",
   "metadata": {},
   "source": [
    "**Análise de pressupostos**"
   ]
  },
  {
   "cell_type": "code",
   "execution_count": 52,
   "metadata": {},
   "outputs": [
    {
     "name": "stdout",
     "output_type": "stream",
     "text": [
      "Motivador\n",
      "--------------------------------------------------\n",
      "Shapiro-Wilk Test for Motivador - p-value: 0.9863467812538147\n",
      "Os dados de Motivador parecem seguir uma distribuição normal.\n",
      "\n",
      "Rigoroso\n",
      "--------------------------------------------------\n",
      "Shapiro-Wilk Test for Rigoroso - p-value: 0.06602644920349121\n",
      "Os dados de Rigoroso parecem seguir uma distribuição normal.\n",
      "\n",
      "Colaborador\n",
      "--------------------------------------------------\n",
      "Shapiro-Wilk Test for Colaborador - p-value: 0.9958397150039673\n",
      "Os dados de Colaborador parecem seguir uma distribuição normal.\n",
      "\n",
      "Analítico\n",
      "--------------------------------------------------\n",
      "Shapiro-Wilk Test for Analítico - p-value: 0.5084320306777954\n",
      "Os dados de Analítico parecem seguir uma distribuição normal.\n",
      "\n",
      "\n",
      "Levene Test - p-value: 0.4352\n",
      "As variâncias são homogêneas.\n"
     ]
    }
   ],
   "source": [
    "# Shapiro-Wilk para normalidade por Tempo de Corrida\n",
    "for tp_treinador in df[\"Tipo de Treinador\"].unique():\n",
    "    print(tp_treinador)\n",
    "    print(\"--------------------------------------------------\")\n",
    "    treinador_data = df[df[\"Tipo de Treinador\"] == tp_treinador][\"Tempo de Corrida\"]\n",
    "    stat, p_value = shapiro(treinador_data)\n",
    "    print(f\"Shapiro-Wilk Test for {tp_treinador} - p-value: {p_value}\")\n",
    "    if p_value > 0.05:\n",
    "        print(f\"Os dados de {tp_treinador} parecem seguir uma distribuição normal.\\n\")\n",
    "    else:\n",
    "        print(f\"Os dados de {tp_treinador} não seguem uma distribuição normal.\\n\")\n",
    "\n",
    "# Levene para homogeneidade das variâncias\n",
    "stat, p_value = levene(\n",
    "    df[df[\"Tipo de Treinador\"] == \"Motivador\"][\"Tempo de Corrida\"],\n",
    "    df[df[\"Tipo de Treinador\"] == \"Rigoroso\"][\"Tempo de Corrida\"],\n",
    "    df[df[\"Tipo de Treinador\"] == \"Colaborador\"][\"Tempo de Corrida\"],\n",
    "    df[df[\"Tipo de Treinador\"] == \"Analítico\"][\"Tempo de Corrida\"],\n",
    ")\n",
    "print(f\"\\nLevene Test - p-value: {p_value:.4f}\")\n",
    "if p_value > 0.05:\n",
    "    print(\"As variâncias são homogêneas.\")\n",
    "else:\n",
    "    print(\"As variâncias não são homogêneas.\")"
   ]
  },
  {
   "cell_type": "markdown",
   "metadata": {},
   "source": [
    "**Dado que estamos lidando com mais de dois grupos (tipo de treinador), será realizado a Análise de Variância (ANOVA)**"
   ]
  },
  {
   "cell_type": "code",
   "execution_count": 53,
   "metadata": {},
   "outputs": [
    {
     "name": "stdout",
     "output_type": "stream",
     "text": [
      "Rejeitar H0: Há diferença significativa no tempo de corrida entre os tipos de treinadores.\n"
     ]
    }
   ],
   "source": [
    "tempo_motivador = df[df[\"Tipo de Treinador\"] == \"Motivador\"][\"Tempo de Corrida\"]\n",
    "tempo_rigoroso = df[df[\"Tipo de Treinador\"] == \"Rigoroso\"][\"Tempo de Corrida\"]\n",
    "tempo_colaborador = df[df[\"Tipo de Treinador\"] == \"Colaborador\"][\"Tempo de Corrida\"]\n",
    "tempo_analitico = df[df[\"Tipo de Treinador\"] == \"Analítico\"][\"Tempo de Corrida\"]\n",
    "\n",
    "# Realiza o teste t\n",
    "statistic, p_value = stats.f_oneway(\n",
    "    tempo_motivador, tempo_rigoroso, tempo_colaborador, tempo_analitico\n",
    ")\n",
    "\n",
    "# Nível de significância\n",
    "alpha = 0.05\n",
    "\n",
    "# Avalia o valor p\n",
    "if p_value < alpha:\n",
    "    print(\n",
    "        \"Rejeitar H0: Há diferença significativa no tempo de corrida entre os tipos de treinadores.\"\n",
    "    )\n",
    "else:\n",
    "    print(\n",
    "        \"Não rejeitar H0: Não há evidência de diferença significativa no tempo de corrida entre os tipos de treinadores.\"\n",
    "    )"
   ]
  },
  {
   "cell_type": "code",
   "execution_count": 54,
   "metadata": {},
   "outputs": [],
   "source": [
    "# Aplica o teste de Tukey para comparações múltiplas\n",
    "tukey_results = pairwise_tukeyhsd(df[\"Tempo de Corrida\"], df[\"Tipo de Treinador\"])\n",
    "\n",
    "# Cria um DataFrame com os resultados do teste de Tukey\n",
    "tukey_df = pd.DataFrame(\n",
    "    data=tukey_results._results_table.data[1:],\n",
    "    columns=tukey_results._results_table.data[0],\n",
    ")"
   ]
  },
  {
   "cell_type": "code",
   "execution_count": 55,
   "metadata": {},
   "outputs": [
    {
     "data": {
      "text/html": [
       "<div>\n",
       "<style scoped>\n",
       "    .dataframe tbody tr th:only-of-type {\n",
       "        vertical-align: middle;\n",
       "    }\n",
       "\n",
       "    .dataframe tbody tr th {\n",
       "        vertical-align: top;\n",
       "    }\n",
       "\n",
       "    .dataframe thead th {\n",
       "        text-align: right;\n",
       "    }\n",
       "</style>\n",
       "<table border=\"1\" class=\"dataframe\">\n",
       "  <thead>\n",
       "    <tr style=\"text-align: right;\">\n",
       "      <th></th>\n",
       "      <th>group1</th>\n",
       "      <th>group2</th>\n",
       "      <th>meandiff</th>\n",
       "      <th>p-adj</th>\n",
       "      <th>lower</th>\n",
       "      <th>upper</th>\n",
       "      <th>reject</th>\n",
       "    </tr>\n",
       "  </thead>\n",
       "  <tbody>\n",
       "    <tr>\n",
       "      <th>0</th>\n",
       "      <td>Analítico</td>\n",
       "      <td>Colaborador</td>\n",
       "      <td>8.7142</td>\n",
       "      <td>0.0000</td>\n",
       "      <td>4.3268</td>\n",
       "      <td>13.1016</td>\n",
       "      <td>True</td>\n",
       "    </tr>\n",
       "    <tr>\n",
       "      <th>1</th>\n",
       "      <td>Analítico</td>\n",
       "      <td>Motivador</td>\n",
       "      <td>-1.4272</td>\n",
       "      <td>0.8246</td>\n",
       "      <td>-5.8146</td>\n",
       "      <td>2.9602</td>\n",
       "      <td>False</td>\n",
       "    </tr>\n",
       "    <tr>\n",
       "      <th>2</th>\n",
       "      <td>Analítico</td>\n",
       "      <td>Rigoroso</td>\n",
       "      <td>4.0770</td>\n",
       "      <td>0.0775</td>\n",
       "      <td>-0.3104</td>\n",
       "      <td>8.4644</td>\n",
       "      <td>False</td>\n",
       "    </tr>\n",
       "    <tr>\n",
       "      <th>3</th>\n",
       "      <td>Colaborador</td>\n",
       "      <td>Motivador</td>\n",
       "      <td>-10.1414</td>\n",
       "      <td>0.0000</td>\n",
       "      <td>-14.5288</td>\n",
       "      <td>-5.7540</td>\n",
       "      <td>True</td>\n",
       "    </tr>\n",
       "    <tr>\n",
       "      <th>4</th>\n",
       "      <td>Colaborador</td>\n",
       "      <td>Rigoroso</td>\n",
       "      <td>-4.6372</td>\n",
       "      <td>0.0344</td>\n",
       "      <td>-9.0246</td>\n",
       "      <td>-0.2498</td>\n",
       "      <td>True</td>\n",
       "    </tr>\n",
       "    <tr>\n",
       "      <th>5</th>\n",
       "      <td>Motivador</td>\n",
       "      <td>Rigoroso</td>\n",
       "      <td>5.5042</td>\n",
       "      <td>0.0084</td>\n",
       "      <td>1.1168</td>\n",
       "      <td>9.8916</td>\n",
       "      <td>True</td>\n",
       "    </tr>\n",
       "  </tbody>\n",
       "</table>\n",
       "</div>"
      ],
      "text/plain": [
       "        group1       group2  meandiff   p-adj    lower    upper  reject\n",
       "0    Analítico  Colaborador    8.7142  0.0000   4.3268  13.1016    True\n",
       "1    Analítico    Motivador   -1.4272  0.8246  -5.8146   2.9602   False\n",
       "2    Analítico     Rigoroso    4.0770  0.0775  -0.3104   8.4644   False\n",
       "3  Colaborador    Motivador  -10.1414  0.0000 -14.5288  -5.7540    True\n",
       "4  Colaborador     Rigoroso   -4.6372  0.0344  -9.0246  -0.2498    True\n",
       "5    Motivador     Rigoroso    5.5042  0.0084   1.1168   9.8916    True"
      ]
     },
     "execution_count": 55,
     "metadata": {},
     "output_type": "execute_result"
    }
   ],
   "source": [
    "tukey_df"
   ]
  },
  {
   "cell_type": "code",
   "execution_count": 56,
   "metadata": {},
   "outputs": [
    {
     "data": {
      "text/html": [
       "<div>\n",
       "<style scoped>\n",
       "    .dataframe tbody tr th:only-of-type {\n",
       "        vertical-align: middle;\n",
       "    }\n",
       "\n",
       "    .dataframe tbody tr th {\n",
       "        vertical-align: top;\n",
       "    }\n",
       "\n",
       "    .dataframe thead th {\n",
       "        text-align: right;\n",
       "    }\n",
       "</style>\n",
       "<table border=\"1\" class=\"dataframe\">\n",
       "  <thead>\n",
       "    <tr style=\"text-align: right;\">\n",
       "      <th></th>\n",
       "      <th>group1</th>\n",
       "      <th>group2</th>\n",
       "      <th>meandiff</th>\n",
       "      <th>p-adj</th>\n",
       "      <th>lower</th>\n",
       "      <th>upper</th>\n",
       "      <th>reject</th>\n",
       "    </tr>\n",
       "  </thead>\n",
       "  <tbody>\n",
       "    <tr>\n",
       "      <th>0</th>\n",
       "      <td>Analítico</td>\n",
       "      <td>Colaborador</td>\n",
       "      <td>8.7142</td>\n",
       "      <td>0.0000</td>\n",
       "      <td>4.3268</td>\n",
       "      <td>13.1016</td>\n",
       "      <td>True</td>\n",
       "    </tr>\n",
       "    <tr>\n",
       "      <th>3</th>\n",
       "      <td>Colaborador</td>\n",
       "      <td>Motivador</td>\n",
       "      <td>-10.1414</td>\n",
       "      <td>0.0000</td>\n",
       "      <td>-14.5288</td>\n",
       "      <td>-5.7540</td>\n",
       "      <td>True</td>\n",
       "    </tr>\n",
       "    <tr>\n",
       "      <th>4</th>\n",
       "      <td>Colaborador</td>\n",
       "      <td>Rigoroso</td>\n",
       "      <td>-4.6372</td>\n",
       "      <td>0.0344</td>\n",
       "      <td>-9.0246</td>\n",
       "      <td>-0.2498</td>\n",
       "      <td>True</td>\n",
       "    </tr>\n",
       "    <tr>\n",
       "      <th>5</th>\n",
       "      <td>Motivador</td>\n",
       "      <td>Rigoroso</td>\n",
       "      <td>5.5042</td>\n",
       "      <td>0.0084</td>\n",
       "      <td>1.1168</td>\n",
       "      <td>9.8916</td>\n",
       "      <td>True</td>\n",
       "    </tr>\n",
       "  </tbody>\n",
       "</table>\n",
       "</div>"
      ],
      "text/plain": [
       "        group1       group2  meandiff   p-adj    lower    upper  reject\n",
       "0    Analítico  Colaborador    8.7142  0.0000   4.3268  13.1016    True\n",
       "3  Colaborador    Motivador  -10.1414  0.0000 -14.5288  -5.7540    True\n",
       "4  Colaborador     Rigoroso   -4.6372  0.0344  -9.0246  -0.2498    True\n",
       "5    Motivador     Rigoroso    5.5042  0.0084   1.1168   9.8916    True"
      ]
     },
     "execution_count": 56,
     "metadata": {},
     "output_type": "execute_result"
    }
   ],
   "source": [
    "tukey_df[tukey_df[\"reject\"] == True]"
   ]
  },
  {
   "cell_type": "markdown",
   "metadata": {},
   "source": [
    "**Resposta** : $\\newline$\n",
    "* Com base nos resultados, as diferenças entre Colaborador e Rigoroso, Motivador e Rigoroso, Analítico e Colaborador, Colaborador e Motivador são consideradas significativas. \n",
    "* Não há evidência suficiente para afirmar uma diferença significativa entre Analítico e Motivador, e Analítico e Rigoroso, embora haja uma tendência para o grupo Analítico e Rigoroso."
   ]
  },
  {
   "cell_type": "markdown",
   "metadata": {},
   "source": [
    "----"
   ]
  },
  {
   "cell_type": "markdown",
   "metadata": {},
   "source": [
    "# Celebrando o Natal e as Festas de Final de Ano 🎄🎉\n",
    "\n",
    "## 🎅 Mensagem Afestiva\n",
    "\n",
    "Desejamos a você professora um Feliz Natal e um Próspero Ano Novo! Que esta temporada de festas esteja repleta de alegria, amor e momentos especiais com amigos e familiares. ⭐🎉\n"
   ]
  }
 ],
 "metadata": {
  "kernelspec": {
   "display_name": "base",
   "language": "python",
   "name": "python3"
  },
  "language_info": {
   "codemirror_mode": {
    "name": "ipython",
    "version": 3
   },
   "file_extension": ".py",
   "mimetype": "text/x-python",
   "name": "python",
   "nbconvert_exporter": "python",
   "pygments_lexer": "ipython3",
   "version": "3.9.12"
  }
 },
 "nbformat": 4,
 "nbformat_minor": 2
}
