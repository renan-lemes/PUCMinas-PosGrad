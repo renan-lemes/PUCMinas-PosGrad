{
 "cells": [
  {
   "cell_type": "markdown",
   "metadata": {},
   "source": [
    "## Lista de Exercícios 3\n",
    "#### Inferência Estatística"
   ]
  },
  {
   "cell_type": "markdown",
   "metadata": {},
   "source": [
    "1.Descreva a diferença entre os testes de hipóteses paramétricos e não\n",
    "paramétricos. Porque optamos primeiro por usar testes paramétricos?\n",
    "(3 pts)\n",
    "###### Resposta:\n",
    "Normalmente, optamos por testes paramétricos quando as suposições para sua aplicação são atendidas, como a assumida distribuição normal ou aproximadamente normal dos dados. A escolha por testes paramétricos se deve ao fato de que eles tendem a ter mais poder estatístico quando as condições são satisfeitas. No entanto, é importante ressaltar que essa preferência está condicionada ao atendimento das suposições paramétricas, e quando essas suposições não são atendidas, os testes não paramétricos oferecem uma alternativa robusta. A principal diferença entre os dois está relacionada às suposições sobre a distribuição da população, sendo que os testes não paramétricos não dependem da distribuição normal dos dados.\n"
   ]
  },
  {
   "cell_type": "markdown",
   "metadata": {},
   "source": [
    "____"
   ]
  },
  {
   "cell_type": "markdown",
   "metadata": {},
   "source": [
    "2.Um fabricante de telefones deseja competir no mercado de telefones\n",
    "touchscreen. Ele sabe que o produto líder tem bateria que dura apenas 5\n",
    "horas. O fabricante afirma que, embora o novo telefone touchscreen seja\n",
    "mais caro, sua bateria dura mais do que o do produto líder (mais de 10\n",
    "horas). Para testar a afirmação desse fabricante, um pesquisador obtém\n",
    "amostras de 45 unidades do novo telefone e descobre que a vida útil da\n",
    "bateria da amostra é em média de 10,5 horas com um desvio padrão da\n",
    "amostra de 1,4 horas.\n",
    "(3 pts)\n",
    "\n",
    "Amostra: [12.53, 12.23, 12.06, 10.54, 12.1, 10.8, 8.21, 8.79, 10.66, 10.98,\n",
    "10.07, 10.51, 10.52, 9.92, 10.87, 8.17, 10.25, 10.84, 11.75, 11.36,\n",
    "9.67, 12.19, 10.35, 11.9, 9.14, 9.84, 9.4, 12.65, 8.93, 12.41,\n",
    "8.65, 11.14, 12.01, 7.9, 10.64, 10.02, 8.07, 11.21, 10.45, 10.95,\n",
    "11.83, 10.17, 12.26, 9.46, 7.43]\n",
    "\n",
    "* Especifique as hipóteses nula e alternativa apropriadas\n",
    "* Calcule a Estatística de teste e o p-valor. Faça as validações\n",
    "necessárias para utilizar o teste.\n",
    "* Com um nível de significância de 5%, qual é a conclusão do teste?"
   ]
  },
  {
   "cell_type": "code",
   "execution_count": 4,
   "metadata": {},
   "outputs": [],
   "source": [
    "amostras = [\n",
    "    12.53,\n",
    "    12.23,\n",
    "    12.06,\n",
    "    10.54,\n",
    "    12.1,\n",
    "    10.8,\n",
    "    8.21,\n",
    "    8.79,\n",
    "    10.66,\n",
    "    10.98,\n",
    "    10.07,\n",
    "    10.51,\n",
    "    10.52,\n",
    "    9.92,\n",
    "    10.87,\n",
    "    8.17,\n",
    "    10.25,\n",
    "    10.84,\n",
    "    11.75,\n",
    "    11.36,\n",
    "    9.67,\n",
    "    12.19,\n",
    "    10.35,\n",
    "    11.9,\n",
    "    9.14,\n",
    "    9.84,\n",
    "    9.4,\n",
    "    12.65,\n",
    "    8.93,\n",
    "    12.41,\n",
    "    8.65,\n",
    "    11.14,\n",
    "    12.01,\n",
    "    7.9,\n",
    "    10.64,\n",
    "    10.02,\n",
    "    8.07,\n",
    "    11.21,\n",
    "    10.45,\n",
    "    10.95,\n",
    "    11.83,\n",
    "    10.17,\n",
    "    12.26,\n",
    "    9.46,\n",
    "    7.43,\n",
    "]"
   ]
  },
  {
   "cell_type": "markdown",
   "metadata": {},
   "source": [
    "#### Teste de hipotese\n",
    "$$ H_0 : \\mu = 10 \\newline\n",
    "   H_1 : \\mu > 10 \n",
    "$$\n",
    "$$\n",
    "   Z = \\frac{\\overline{x} - \\mu_0}{\\frac{\\sigma}{\\sqrt{n}}}\n",
    "$$\n"
   ]
  },
  {
   "cell_type": "code",
   "execution_count": 15,
   "metadata": {},
   "outputs": [
    {
     "name": "stdout",
     "output_type": "stream",
     "text": [
      "Estatística de Teste Z: 2.396\n",
      "P-valor: 0.008\n",
      "Conclusão do Teste: Rejeitar a hipótese nula\n"
     ]
    }
   ],
   "source": [
    "\n",
    "import scipy.stats as st\n",
    "\n",
    "media_amostral = 10.5  ## media amostral\n",
    "desvio_prad_pop = 1.4  ## desvio padrao populacional\n",
    "media_hip = 10  ## media hipotese\n",
    "n = len(amostras)\n",
    "nivel_signi = 0.05  ## nivel de significancia\n",
    "\n",
    "Z = (media_amostral - media_hip) / (desvio_prad_pop / (n**0.5))  ## sqrt(n) = n ** 0.5\n",
    "\n",
    "p_valor = 1 - st.norm.cdf(Z)\n",
    "\n",
    "if p_valor < nivel_signi:\n",
    "    conclusao = \"Rejeitar a hipótese nula\"\n",
    "else:\n",
    "    conclusao = \"Não rejeitar a hipótese nula\"\n",
    "\n",
    "# Saída\n",
    "print(f\"Estatística de Teste Z: {round(Z, 3)}\")\n",
    "print(f\"P-valor: {round(p_valor, 3)}\")\n",
    "print(f\"Conclusão do Teste: {conclusao}\")"
   ]
  },
  {
   "cell_type": "markdown",
   "metadata": {},
   "source": [
    "-----"
   ]
  },
  {
   "cell_type": "markdown",
   "metadata": {},
   "source": [
    "3.Um estudo recente da Allstate Insurance Co. descobriu que 82% dos\n",
    "adolescentes americanos usam celulares enquanto dirigem. Em 2010, o\n",
    "estado de Massachusetts promulgou uma lei que proíbe o uso de telefone\n",
    "celular por motoristas menores de 18 anos. Um analista gostaria de\n",
    "determinar se a lei diminuiu a proporção de motoristas com menos de 18\n",
    "anos que usam celular enquanto dirigem. (3 pts)\n",
    "* Especifique as hipóteses nula e alternativa.\n",
    "* Suponha que uma amostra de 200 motoristas com menos de 18 anos\n",
    "resulte em 150 que ainda usam celular enquanto dirigem. Calcule a\n",
    "Estatística de teste e o p-valor. Faça as validações necessárias para\n",
    "utilizar o teste.\n",
    "* Com α = 0,05, a lei foi eficaz?"
   ]
  },
  {
   "cell_type": "markdown",
   "metadata": {},
   "source": [
    "#### Teste de hipotese\n",
    "$$ H_0 : p = 0.82 \\newline\n",
    "   H_1 : p < 0.82 \n",
    "$$\n",
    "$$\n",
    "   Z = \\frac{\\hat{p} - p_0}{\\sqrt{\\frac{\\hat{p} (1 - \\hat{p})}{n}}}\n",
    "$$\n"
   ]
  },
  {
   "cell_type": "code",
   "execution_count": 16,
   "metadata": {},
   "outputs": [
    {
     "name": "stdout",
     "output_type": "stream",
     "text": [
      "Estatística de Teste Z: -2.576735608413084\n",
      "P-valor: 0.0082923597113993\n",
      "Conclusão do Teste: Rejeitar a hipótese nula\n"
     ]
    }
   ],
   "source": [
    "prop_amost = 150 / 200\n",
    "prop_hip = 0.82\n",
    "\n",
    "n = 200\n",
    "\n",
    "nivel_signi = 0.05\n",
    "\n",
    "Z = (prop_amost - prop_hip) / ((prop_hip * (1 - prop_hip) / n) ** 0.5)\n",
    "\n",
    "if p_valor < nivel_signi:\n",
    "    conclusao = \"Rejeitar a hipótese nula\"\n",
    "else:\n",
    "    conclusao = \"Não rejeitar a hipótese nula\"\n",
    "\n",
    "\n",
    "print(f\"Estatística de Teste Z: {Z}\")\n",
    "print(f\"P-valor: {p_valor}\")\n",
    "print(f\"Conclusão do Teste: {conclusao}\")"
   ]
  },
  {
   "cell_type": "markdown",
   "metadata": {},
   "source": [
    "------"
   ]
  },
  {
   "cell_type": "markdown",
   "metadata": {},
   "source": [
    "4.A vida média de uma amostra de 100 lâmpadas de certa marca é de 1.598\n",
    "horas aproximadamente. Por similaridade com outros processos de\n",
    "fabricação, sabe-se que o desvio padrão é igual a 120 Horas. Desejamos\n",
    "testar se a duração média de todas as lâmpadas dessa marca é diferente de\n",
    "1.600 horas. (3 pts)\n",
    "\n",
    "Amostra = [1647.59, 1687.1, 1673.78, 1473.45, 1416.26, 1650.44, 1584.19,\n",
    "1598.89, 1563.98, 1519.6, 1424.55, 1674.44, 1619.96, 1560.52, 1486.71, 1545.91,\n",
    "1910.67, 1741.09, 1532.24, 1593.26, 1663.64, 1576.65, 1445.8, 1534.2, 1568.34,\n",
    "1524.93, 1578.27, 1760.9, 1572.98, 1629.74, 1773.92, 1580.99, 1569.87, 1469.23,\n",
    "1487.92, 1720.54, 1631.08, 1460.43, 1555.71, 1723.44, 1568.48, 1543.65, 1543.78,\n",
    "1609.93, 1599.63, 1709.23, 1434.94, 1669.04, 1388.75, 1501.29, 1623.75, 1542.41,\n",
    "1617.93, 1861.44, 1557.13, 1432.54, 1766.31, 1678.37, 1463.46, 1647.16, 1611.37,\n",
    "1537.3, 1617.04, 1630.58, 1618.38, 1575.04, 1774.63, 1739.11, 1693.14, 1714.35,\n",
    "1698.93, 1572, 1532.64, 1418.22, 1567.97, 1470.45, 1563.12, 1639.74, 1766.52,\n",
    "1672.85, 1534.74, 1375.84, 1601.11, 1650.86, 1749.66, 1630.23, 1546.1, 1697.13,\n",
    "1600.64, 1646.69, 1654.1, 1666.44, 1633.33, 1490.66, 1551.56, 1434.63, 1472.35,\n",
    "1734.77, 1586.06, 1604.09]\n",
    "\n",
    "* Especifique as hipóteses nula e alternativa apropriadas. Faça as\n",
    "validações necessárias para utilizar o teste.\n",
    "* Calcule a Estatística de teste e o p-valor.\n",
    "* Com um nível de significância de 5%, qual é a conclusão do teste?"
   ]
  },
  {
   "cell_type": "markdown",
   "metadata": {},
   "source": [
    "#### Teste de hipotese\n",
    "$$ H_0 : \\mu = 1600 \\newline\n",
    "   H_1 : \\mu \\neq 1600 \n",
    "$$\n",
    "$$\n",
    "   Z = \\frac{\\overline{X} - \\mu_0}{\\frac{\\sigma}{\\sqrt{n}}}\n",
    "$$\n"
   ]
  },
  {
   "cell_type": "code",
   "execution_count": 18,
   "metadata": {},
   "outputs": [],
   "source": [
    "amostras = [\n",
    "    1647.59,\n",
    "    1687.1,\n",
    "    1673.78,\n",
    "    1473.45,\n",
    "    1416.26,\n",
    "    1650.44,\n",
    "    1584.19,\n",
    "    1598.89,\n",
    "    1563.98,\n",
    "    1519.6,\n",
    "    1424.55,\n",
    "    1674.44,\n",
    "    1619.96,\n",
    "    1560.52,\n",
    "    1486.71,\n",
    "    1545.91,\n",
    "    1910.67,\n",
    "    1741.09,\n",
    "    1532.24,\n",
    "    1593.26,\n",
    "    1663.64,\n",
    "    1576.65,\n",
    "    1445.8,\n",
    "    1534.2,\n",
    "    1568.34,\n",
    "    1524.93,\n",
    "    1578.27,\n",
    "    1760.9,\n",
    "    1572.98,\n",
    "    1629.74,\n",
    "    1773.92,\n",
    "    1580.99,\n",
    "    1569.87,\n",
    "    1469.23,\n",
    "    1487.92,\n",
    "    1720.54,\n",
    "    1631.08,\n",
    "    1460.43,\n",
    "    1555.71,\n",
    "    1723.44,\n",
    "    1568.48,\n",
    "    1543.65,\n",
    "    1543.78,\n",
    "    1609.93,\n",
    "    1599.63,\n",
    "    1709.23,\n",
    "    1434.94,\n",
    "    1669.04,\n",
    "    1388.75,\n",
    "    1501.29,\n",
    "    1623.75,\n",
    "    1542.41,\n",
    "    1617.93,\n",
    "    1861.44,\n",
    "    1557.13,\n",
    "    1432.54,\n",
    "    1766.31,\n",
    "    1678.37,\n",
    "    1463.46,\n",
    "    1647.16,\n",
    "    1611.37,\n",
    "    1537.3,\n",
    "    1617.04,\n",
    "    1630.58,\n",
    "    1618.38,\n",
    "    1575.04,\n",
    "    1774.63,\n",
    "    1739.11,\n",
    "    1693.14,\n",
    "    1714.35,\n",
    "    1698.93,\n",
    "    1572,\n",
    "    1532.64,\n",
    "    1418.22,\n",
    "    1567.97,\n",
    "    1470.45,\n",
    "    1563.12,\n",
    "    1639.74,\n",
    "    1766.52,\n",
    "    1672.85,\n",
    "    1534.74,\n",
    "    1375.84,\n",
    "    1601.11,\n",
    "    1650.86,\n",
    "    1749.66,\n",
    "    1630.23,\n",
    "    1546.1,\n",
    "    1697.13,\n",
    "    1600.64,\n",
    "    1646.69,\n",
    "    1654.1,\n",
    "    1666.44,\n",
    "    1633.33,\n",
    "    1490.66,\n",
    "    1551.56,\n",
    "    1434.63,\n",
    "    1472.35,\n",
    "    1734.77,\n",
    "    1586.06,\n",
    "    1604.09,\n",
    "]"
   ]
  },
  {
   "cell_type": "code",
   "execution_count": 20,
   "metadata": {},
   "outputs": [
    {
     "name": "stdout",
     "output_type": "stream",
     "text": [
      "Estatística de Teste Z: -0.194\n",
      "P-valor: 0.846\n",
      "Conclusão do Teste: Não rejeitar a hipótese nula\n"
     ]
    }
   ],
   "source": [
    "media_amost = np.mean(amostras)\n",
    "media_hip = 1600\n",
    "desvio_prad = 120\n",
    "n = len(amostras)\n",
    "\n",
    "nivel_signi = 0.05\n",
    "\n",
    "Z = (media_amost - media_hip) / (desvio_prad / (n**0.5))\n",
    "\n",
    "prob = st.norm.cdf(np.abs(Z))  ## usei modulo apenas para deixar possitivo\n",
    "\n",
    "p_valor = 2 * (1 - prob)  ## 2 * por ser um teste bicaldal\n",
    "\n",
    "if p_valor < nivel_signi:\n",
    "    conclusao = \"Rejeitar a hipótese nula\"\n",
    "else:\n",
    "    conclusao = \"Não rejeitar a hipótese nula\"\n",
    "\n",
    "\n",
    "print(f\"Estatística de Teste Z: {round(Z, 3)}\")\n",
    "print(f\"P-valor: {round(p_valor, 3)}\")\n",
    "print(f\"Conclusão do Teste: {conclusao}\")"
   ]
  },
  {
   "cell_type": "markdown",
   "metadata": {},
   "source": [
    "------"
   ]
  },
  {
   "cell_type": "markdown",
   "metadata": {},
   "source": [
    "5.O mundo industrial compartilha um objetivo comum: melhorar a qualidade\n",
    "pela redução da variação. Os engenheiros de controle da qualidade desejam\n",
    "garantir que um produto tem uma média aceitável, mas desejam também,\n",
    "produzir itens de qualidade consistente, de modo que existirão menos\n",
    "defeitos. Uma empresa tem produzido latas de refrigerante com\n",
    "quantidades que têm desvio padrão de 0,051. Uma nova máquina de\n",
    "engarrafamento que foi construída com o objetivo de melhorar ainda mais o\n",
    "processo(ou seja, reduzir ainda mais a variabilidade) é testada, e uma\n",
    "amostra aleatória simples de 24 latas resulta nas quantidades listadas\n",
    "abaixo. (3 pts)\n",
    "\n",
    "Amostra = [11.98, 11.98, 11.99, 11.98, 11.90, 12.02, 11.99, 11.93,\n",
    "12.02, 12.02, 12.02, 11.98, 12.01, 12.00, 11.99, 11.95,\n",
    "11.95, 11.96, 11.96, 12.02, 11.99, 12.07, 11.93, 12.05]\n",
    "\n",
    "* Especifique as hipóteses nula e alternativa apropriadas e faça o teste\n",
    "de hipótese.\n",
    "* Faça as validações necessárias para utilizar o teste.\n",
    "* Com um nível de significância de 5%, qual é a conclusão do teste?"
   ]
  },
  {
   "cell_type": "markdown",
   "metadata": {},
   "source": [
    "#### Teste de hipotese\n",
    "$$ H_0 : \\sigma^2_{antes} = \\sigma^2_{depois} \\newline\n",
    "   H_1 : \\sigma^2_{antes} < \\sigma^2_{depois} \n",
    "$$\n",
    "$$\n",
    "   F = \\frac{S^2_{antes}}{S^2_{depois}} \n",
    "$$\n"
   ]
  },
  {
   "cell_type": "code",
   "execution_count": 21,
   "metadata": {},
   "outputs": [],
   "source": [
    "amostras = [\n",
    "    11.98,\n",
    "    11.98,\n",
    "    11.99,\n",
    "    11.98,\n",
    "    11.90,\n",
    "    12.02,\n",
    "    11.99,\n",
    "    11.93,\n",
    "    12.02,\n",
    "    12.02,\n",
    "    12.02,\n",
    "    11.98,\n",
    "    12.01,\n",
    "    12.00,\n",
    "    11.99,\n",
    "    11.95,\n",
    "    11.95,\n",
    "    11.96,\n",
    "    11.96,\n",
    "    12.02,\n",
    "    11.99,\n",
    "    12.07,\n",
    "    11.93,\n",
    "    12.05,\n",
    "]"
   ]
  },
  {
   "cell_type": "code",
   "execution_count": 22,
   "metadata": {},
   "outputs": [
    {
     "name": "stdout",
     "output_type": "stream",
     "text": [
      "Estatística de Teste (F): 0.593347597635246\n",
      "P-Valor: 0.7929175922149019\n",
      "Decisão: Aceitar H0\n"
     ]
    }
   ],
   "source": [
    "amostras = np.array(amostras)\n",
    "\n",
    "vari_antes = np.var(amostras, ddof=1)\n",
    "vari_depois = 0.051**2\n",
    "\n",
    "nivel_signi = 0.05\n",
    "\n",
    "F = vari_antes / vari_depois\n",
    "\n",
    "grau_antes = len(amostras) - 1\n",
    "grau_depois = 1\n",
    "\n",
    "p_valor = 1 - st.f.cdf(F, grau_antes, grau_depois)\n",
    "\n",
    "if p_valor < nivel_signi:\n",
    "    decisao = \"Rejeitar H0\"\n",
    "else:\n",
    "    decisao = \"Aceitar H0\"\n",
    "\n",
    "# Resultados\n",
    "print(f\"Estatística de Teste (F): {F}\")\n",
    "print(f\"P-Valor: {p_valor}\")\n",
    "print(f\"Decisão: {decisao}\")"
   ]
  },
  {
   "cell_type": "markdown",
   "metadata": {},
   "source": [
    "_____"
   ]
  },
  {
   "cell_type": "markdown",
   "metadata": {},
   "source": [
    "6.Entre 2200 passageiros de carro do sexo masculino com a idade acima de 8\n",
    "anos, 72% usam cinto de segurança, entre 2380 passageiros de carro do\n",
    "sexo feminino com idade acima de 8 anos, 84% usam cinto de segurança.\n",
    "Use o nível de significância de 5%, para testar a afirmativa que ambos os\n",
    "sexos têm a mesma taxa no uso de cinto de segurança. Com base no\n",
    "resultado parece haver uma diferença entre os sexos? Escreva as hipóteses\n",
    "do teste, as suposições são atendidas? (3 pts)"
   ]
  },
  {
   "cell_type": "markdown",
   "metadata": {},
   "source": [
    "#### Teste de hipotese\n",
    "$$ H_0 : p_{masc} = p_{femi} \\newline\n",
    "   H_1 : p_{masc} \\neq p_{femi} \n",
    "$$\n",
    "$$\n",
    "   Z = \\frac{\\hat{p_{masc}} - \\hat{p_{femi}}}{\\sqrt{ \\hat{p} (1 = \\hat{p}) (\\frac{1}{n_{masc}}} + \\frac{1}{n_{femi}} ) } \n",
    "$$\n"
   ]
  },
  {
   "cell_type": "code",
   "execution_count": 33,
   "metadata": {},
   "outputs": [
    {
     "name": "stdout",
     "output_type": "stream",
     "text": [
      "Estatística de Teste (Z): -9.833\n",
      "P-Valor: 0.0\n",
      "Decisão: Rejeitar H0\n"
     ]
    }
   ],
   "source": [
    "n_masc = 2200\n",
    "p_masc = 0.72\n",
    "\n",
    "n_femi = 2380\n",
    "p_femi = 0.84\n",
    "\n",
    "nivel_signi = 0.05\n",
    "\n",
    "p_combinado = (n_masc * p_masc + n_femi * p_femi) / (n_masc + n_femi)\n",
    "\n",
    "Z = (p_masc - p_femi) / np.sqrt(p_combinado * (1 - p_combinado) * (1 / n_masc + 1 / n_femi))\n",
    "\n",
    "prob = st.norm.cdf(np.abs(Z))\n",
    "\n",
    "p_valor = 2 * (1 - prob)\n",
    "\n",
    "if p_valor < nivel_signi:\n",
    "    decisao = \"Rejeitar H0\"\n",
    "else:\n",
    "    decisao = \"Aceitar H0\"\n",
    "\n",
    "# Resultados\n",
    "print(f\"Estatística de Teste (Z): {round(Z,3)}\")\n",
    "print(f\"P-Valor: {p_valor}\")\n",
    "print(f\"Decisão: {decisao}\")"
   ]
  },
  {
   "cell_type": "markdown",
   "metadata": {},
   "source": [
    "-----"
   ]
  },
  {
   "cell_type": "markdown",
   "metadata": {},
   "source": [
    "7.Uma distribuidora de combustível deseja verificar se um novo tipo de gasolina\n",
    "é eficaz na revitalização de motores velhos. Com esse objetivo, seleciona 12\n",
    "automóveis de um mesmo modelo com mais de 8 anos de uso, e após\n",
    "regular os motores, verifica o consumo de combustível. Em seguida, os\n",
    "carros são abastecidos com o novo tipo de combustível durante 15 semanas,\n",
    "e uma nova aferição do consumo é feita. Considere as medições da tabela\n",
    "abaixo, escreva as hipóteses e verifique através de um teste de hipótese se o\n",
    "rendimento médio é de fato superior para esse novo combustível ao nível de\n",
    "5% de significância. Verifique a suposição necessária. (3 pts)\n",
    "\n"
   ]
  },
  {
   "cell_type": "markdown",
   "metadata": {},
   "source": [
    "#### Teste de hipotese\n",
    "$$ H_0 : \\mu_{antes} = \\mu_{depois} \\newline\n",
    "   H_1 : \\mu_{antes} < \\mu_{depois} \n",
    "$$\n",
    "\n"
   ]
  },
  {
   "cell_type": "code",
   "execution_count": 32,
   "metadata": {},
   "outputs": [],
   "source": [
    "import pandas as pd\n",
    "\n",
    "\n",
    "df = pd.DataFrame({\n",
    "    \"Automovel\":[1,2,3,4,5,6,7,8,9,10,11,12],\n",
    "    \"Consumo_antes\":[8.1, 7.9, 6.8, 7.8, 7.6, 7.9, 5.7, 8.4, 8.0, 9.5, 8.0, 6.8],\n",
    "    \"Consumo_depois\":[11.6, 8.8, 9.9, 9.5, 11.6, 9.1, 10.6, 10.8, 13.4, 10.6, 10.5, 11.4]\n",
    "})"
   ]
  },
  {
   "cell_type": "code",
   "execution_count": 34,
   "metadata": {},
   "outputs": [
    {
     "data": {
      "text/html": [
       "<div>\n",
       "<style scoped>\n",
       "    .dataframe tbody tr th:only-of-type {\n",
       "        vertical-align: middle;\n",
       "    }\n",
       "\n",
       "    .dataframe tbody tr th {\n",
       "        vertical-align: top;\n",
       "    }\n",
       "\n",
       "    .dataframe thead th {\n",
       "        text-align: right;\n",
       "    }\n",
       "</style>\n",
       "<table border=\"1\" class=\"dataframe\">\n",
       "  <thead>\n",
       "    <tr style=\"text-align: right;\">\n",
       "      <th></th>\n",
       "      <th>Automovel</th>\n",
       "      <th>Consumo_antes</th>\n",
       "      <th>Consumo_depois</th>\n",
       "    </tr>\n",
       "  </thead>\n",
       "  <tbody>\n",
       "    <tr>\n",
       "      <th>0</th>\n",
       "      <td>1</td>\n",
       "      <td>8.1</td>\n",
       "      <td>11.6</td>\n",
       "    </tr>\n",
       "    <tr>\n",
       "      <th>1</th>\n",
       "      <td>2</td>\n",
       "      <td>7.9</td>\n",
       "      <td>8.8</td>\n",
       "    </tr>\n",
       "    <tr>\n",
       "      <th>2</th>\n",
       "      <td>3</td>\n",
       "      <td>6.8</td>\n",
       "      <td>9.9</td>\n",
       "    </tr>\n",
       "    <tr>\n",
       "      <th>3</th>\n",
       "      <td>4</td>\n",
       "      <td>7.8</td>\n",
       "      <td>9.5</td>\n",
       "    </tr>\n",
       "    <tr>\n",
       "      <th>4</th>\n",
       "      <td>5</td>\n",
       "      <td>7.6</td>\n",
       "      <td>11.6</td>\n",
       "    </tr>\n",
       "  </tbody>\n",
       "</table>\n",
       "</div>"
      ],
      "text/plain": [
       "   Automovel  Consumo_antes  Consumo_depois\n",
       "0          1            8.1            11.6\n",
       "1          2            7.9             8.8\n",
       "2          3            6.8             9.9\n",
       "3          4            7.8             9.5\n",
       "4          5            7.6            11.6"
      ]
     },
     "execution_count": 34,
     "metadata": {},
     "output_type": "execute_result"
    }
   ],
   "source": [
    "df.head()"
   ]
  },
  {
   "cell_type": "code",
   "execution_count": 45,
   "metadata": {},
   "outputs": [
    {
     "name": "stdout",
     "output_type": "stream",
     "text": [
      "Estatística de Teste (t): 6.539586006960168\n",
      "P-Valor: 4.194603259445353e-05\n",
      "Decisão: Rejeitar H0\n"
     ]
    }
   ],
   "source": [
    "from scipy.stats import ttest_rel\n",
    "\n",
    "nivel_signi = 0.05\n",
    "\n",
    "\n",
    "t_stat, p_valor = ttest_rel(df[\"Consumo_depois\"], df[\"Consumo_antes\"])\n",
    "\n",
    "\n",
    "if p_valor < nivel_signi:\n",
    "    decisao = \"Rejeitar H0\"\n",
    "else:\n",
    "    decisao = \"Aceitar H0\"\n",
    "\n",
    "print(f\"Estatística de Teste (t): {t_stat}\")\n",
    "print(f\"P-Valor: {p_valor}\")\n",
    "print(f\"Decisão: {decisao}\")"
   ]
  },
  {
   "cell_type": "markdown",
   "metadata": {},
   "source": [
    "-------"
   ]
  },
  {
   "cell_type": "markdown",
   "metadata": {},
   "source": [
    "8.Digitadores são treinados em uma empresa em duas turmas distintas. Na\n",
    "primeira, denominada turma J, utiliza-se o método japonês de ensino, na\n",
    "segunda turma, denominada turma A, utiliza-se um método alemão.\n",
    "Deseja-se comparar os dois métodos e para tanto, 16 alunos de cada turma\n",
    "foram escolhidos aleatoriamente e uma mesma tarefa foi atribuída a cada\n",
    "um. Ao final do experimento, o tempo gasto na realização da tarefa, para\n",
    "cada aluno foi anotado. No processo, dois computadores utilizados por\n",
    "alunos da turma J e três da turma A, apresentaram problemas que impediram\n",
    "a realização da tarefa, por isso o tamanho da amostra foi reduzido.\n",
    "Apesar de não conhecidas, as variâncias populacionais para as duas\n",
    "turmas são consideradas iguais com base em estudos anteriores. Ao\n",
    "nível de 5%, teste a hipótese para checar se existe diferença significativa no\n",
    "tempo médio de realização da tarefa para as duas turmas. (Sabe-se, que o\n",
    "tempo médio para realização das tarefas tem distribuição normal.) Os dados\n",
    "obtidos foram: (3 pts)\n",
    "\n"
   ]
  },
  {
   "cell_type": "markdown",
   "metadata": {},
   "source": [
    "$$\n",
    "    H_0 : \\text{As medias das duas turmas são iguais} \\newline\n",
    "    H_1 : \\text{As medias das duas turmas sao diferentes}\n",
    "$$"
   ]
  },
  {
   "cell_type": "code",
   "execution_count": 49,
   "metadata": {},
   "outputs": [],
   "source": [
    "df = {\n",
    "    \"Turma_J\": [10, 13, 9, 10, 14, 13, 10, 15, 12, 10, 9, 10, 13, 14],\n",
    "    \"Turma_A\": [\n",
    "        15,\n",
    "        12,\n",
    "        18,\n",
    "        16,\n",
    "        15,\n",
    "        17,\n",
    "        17,\n",
    "        15,\n",
    "        16,\n",
    "        17,\n",
    "        11,\n",
    "        17,\n",
    "        14,\n",
    "        None,\n",
    "    ],  \n",
    "}\n",
    "\n",
    "df = pd.DataFrame(df)\n"
   ]
  },
  {
   "cell_type": "code",
   "execution_count": 51,
   "metadata": {},
   "outputs": [
    {
     "data": {
      "text/html": [
       "<div>\n",
       "<style scoped>\n",
       "    .dataframe tbody tr th:only-of-type {\n",
       "        vertical-align: middle;\n",
       "    }\n",
       "\n",
       "    .dataframe tbody tr th {\n",
       "        vertical-align: top;\n",
       "    }\n",
       "\n",
       "    .dataframe thead th {\n",
       "        text-align: right;\n",
       "    }\n",
       "</style>\n",
       "<table border=\"1\" class=\"dataframe\">\n",
       "  <thead>\n",
       "    <tr style=\"text-align: right;\">\n",
       "      <th></th>\n",
       "      <th>Turma_J</th>\n",
       "      <th>Turma_A</th>\n",
       "    </tr>\n",
       "  </thead>\n",
       "  <tbody>\n",
       "    <tr>\n",
       "      <th>0</th>\n",
       "      <td>10</td>\n",
       "      <td>15.0</td>\n",
       "    </tr>\n",
       "    <tr>\n",
       "      <th>1</th>\n",
       "      <td>13</td>\n",
       "      <td>12.0</td>\n",
       "    </tr>\n",
       "    <tr>\n",
       "      <th>2</th>\n",
       "      <td>9</td>\n",
       "      <td>18.0</td>\n",
       "    </tr>\n",
       "    <tr>\n",
       "      <th>3</th>\n",
       "      <td>10</td>\n",
       "      <td>16.0</td>\n",
       "    </tr>\n",
       "    <tr>\n",
       "      <th>4</th>\n",
       "      <td>14</td>\n",
       "      <td>15.0</td>\n",
       "    </tr>\n",
       "    <tr>\n",
       "      <th>5</th>\n",
       "      <td>13</td>\n",
       "      <td>17.0</td>\n",
       "    </tr>\n",
       "    <tr>\n",
       "      <th>6</th>\n",
       "      <td>10</td>\n",
       "      <td>17.0</td>\n",
       "    </tr>\n",
       "    <tr>\n",
       "      <th>7</th>\n",
       "      <td>15</td>\n",
       "      <td>15.0</td>\n",
       "    </tr>\n",
       "    <tr>\n",
       "      <th>8</th>\n",
       "      <td>12</td>\n",
       "      <td>16.0</td>\n",
       "    </tr>\n",
       "    <tr>\n",
       "      <th>9</th>\n",
       "      <td>10</td>\n",
       "      <td>17.0</td>\n",
       "    </tr>\n",
       "    <tr>\n",
       "      <th>10</th>\n",
       "      <td>9</td>\n",
       "      <td>11.0</td>\n",
       "    </tr>\n",
       "    <tr>\n",
       "      <th>11</th>\n",
       "      <td>10</td>\n",
       "      <td>17.0</td>\n",
       "    </tr>\n",
       "    <tr>\n",
       "      <th>12</th>\n",
       "      <td>13</td>\n",
       "      <td>14.0</td>\n",
       "    </tr>\n",
       "    <tr>\n",
       "      <th>13</th>\n",
       "      <td>14</td>\n",
       "      <td>NaN</td>\n",
       "    </tr>\n",
       "  </tbody>\n",
       "</table>\n",
       "</div>"
      ],
      "text/plain": [
       "    Turma_J  Turma_A\n",
       "0        10     15.0\n",
       "1        13     12.0\n",
       "2         9     18.0\n",
       "3        10     16.0\n",
       "4        14     15.0\n",
       "5        13     17.0\n",
       "6        10     17.0\n",
       "7        15     15.0\n",
       "8        12     16.0\n",
       "9        10     17.0\n",
       "10        9     11.0\n",
       "11       10     17.0\n",
       "12       13     14.0\n",
       "13       14      NaN"
      ]
     },
     "execution_count": 51,
     "metadata": {},
     "output_type": "execute_result"
    }
   ],
   "source": [
    "df"
   ]
  },
  {
   "cell_type": "code",
   "execution_count": 56,
   "metadata": {},
   "outputs": [
    {
     "name": "stdout",
     "output_type": "stream",
     "text": [
      "Estatística de Teste (t): -4.992159751668121\n",
      "P-Valor: 4.2402796229429034e-05\n",
      "Decisão: Rejeitar H0\n"
     ]
    }
   ],
   "source": [
    "from scipy.stats import ttest_ind\n",
    "\n",
    "nivel_signi = 0.05\n",
    "\n",
    "df = df.dropna()  ## como e apenas uma linha então resolvi dropala com o valor faltante\n",
    "\n",
    "t_stat, p_valor = ttest_ind(df[\"Turma_J\"], df[\"Turma_A\"])\n",
    "\n",
    "if p_valor < nivel_signi:\n",
    "    decisao = \"Rejeitar H0\"\n",
    "else:\n",
    "    decisao = \"Aceitar H0\"\n",
    "\n",
    "\n",
    "print(f\"Estatística de Teste (t): {t_stat}\")\n",
    "print(f\"P-Valor: {p_valor}\")\n",
    "print(f\"Decisão: {decisao}\")"
   ]
  },
  {
   "cell_type": "markdown",
   "metadata": {},
   "source": [
    "------"
   ]
  },
  {
   "cell_type": "markdown",
   "metadata": {},
   "source": [
    "9.Queremos verificar o efeito do tipo de impermeabilização em lajes de\n",
    "concreto. As quantidades de água que passaram pela laje, em cada tipo de\n",
    "concreto, foram medidas obtendo-se os valores da tabela abaixo.\n",
    "Teste ao nível de 5% de significância a impermeabilidade média dos tipos de\n",
    "concreto. Escreva as hipóteses do teste e valide as suposições necessárias.\n",
    "Qual a conclusão podemos obter? (3 pts)\n",
    "\n"
   ]
  },
  {
   "cell_type": "markdown",
   "metadata": {},
   "source": [
    "$$\n",
    "    H_0 : \\text{As médias de impermeabilidade dos quatros tipos de concretos são iguais} \\newline\n",
    "    H_1 : \\text{Pelo menos uma das médias e diferente}\n",
    "$$"
   ]
  },
  {
   "cell_type": "code",
   "execution_count": 82,
   "metadata": {},
   "outputs": [],
   "source": [
    "df = pd.DataFrame(\n",
    "    {\n",
    "        \"Tipo_I\": [56, 55, 62, 59, 60],\n",
    "        \"Tipo_II\": [64, 61, 50, 55, 56],\n",
    "        \"Tipo_III\": [45, 46, 45, 39, 43],\n",
    "        \"Tipo_IV\": [42, 39, 45, 43, 41],\n",
    "    }\n",
    ")"
   ]
  },
  {
   "cell_type": "code",
   "execution_count": 83,
   "metadata": {},
   "outputs": [
    {
     "data": {
      "text/html": [
       "<div>\n",
       "<style scoped>\n",
       "    .dataframe tbody tr th:only-of-type {\n",
       "        vertical-align: middle;\n",
       "    }\n",
       "\n",
       "    .dataframe tbody tr th {\n",
       "        vertical-align: top;\n",
       "    }\n",
       "\n",
       "    .dataframe thead th {\n",
       "        text-align: right;\n",
       "    }\n",
       "</style>\n",
       "<table border=\"1\" class=\"dataframe\">\n",
       "  <thead>\n",
       "    <tr style=\"text-align: right;\">\n",
       "      <th></th>\n",
       "      <th>Tipo_I</th>\n",
       "      <th>Tipo_II</th>\n",
       "      <th>Tipo_III</th>\n",
       "      <th>Tipo_IV</th>\n",
       "    </tr>\n",
       "  </thead>\n",
       "  <tbody>\n",
       "    <tr>\n",
       "      <th>0</th>\n",
       "      <td>56</td>\n",
       "      <td>64</td>\n",
       "      <td>45</td>\n",
       "      <td>42</td>\n",
       "    </tr>\n",
       "    <tr>\n",
       "      <th>1</th>\n",
       "      <td>55</td>\n",
       "      <td>61</td>\n",
       "      <td>46</td>\n",
       "      <td>39</td>\n",
       "    </tr>\n",
       "    <tr>\n",
       "      <th>2</th>\n",
       "      <td>62</td>\n",
       "      <td>50</td>\n",
       "      <td>45</td>\n",
       "      <td>45</td>\n",
       "    </tr>\n",
       "    <tr>\n",
       "      <th>3</th>\n",
       "      <td>59</td>\n",
       "      <td>55</td>\n",
       "      <td>39</td>\n",
       "      <td>43</td>\n",
       "    </tr>\n",
       "    <tr>\n",
       "      <th>4</th>\n",
       "      <td>60</td>\n",
       "      <td>56</td>\n",
       "      <td>43</td>\n",
       "      <td>41</td>\n",
       "    </tr>\n",
       "  </tbody>\n",
       "</table>\n",
       "</div>"
      ],
      "text/plain": [
       "   Tipo_I  Tipo_II  Tipo_III  Tipo_IV\n",
       "0      56       64        45       42\n",
       "1      55       61        46       39\n",
       "2      62       50        45       45\n",
       "3      59       55        39       43\n",
       "4      60       56        43       41"
      ]
     },
     "execution_count": 83,
     "metadata": {},
     "output_type": "execute_result"
    }
   ],
   "source": [
    "df"
   ]
  },
  {
   "cell_type": "code",
   "execution_count": 84,
   "metadata": {},
   "outputs": [],
   "source": [
    "df = pd.melt(df, var_name=\"Tipo\", value_name=\"Impermeabilidade\") ## Alterando o tipo do dataframe, especifico para impermeabilidade"
   ]
  },
  {
   "cell_type": "code",
   "execution_count": 85,
   "metadata": {},
   "outputs": [
    {
     "data": {
      "text/html": [
       "<div>\n",
       "<style scoped>\n",
       "    .dataframe tbody tr th:only-of-type {\n",
       "        vertical-align: middle;\n",
       "    }\n",
       "\n",
       "    .dataframe tbody tr th {\n",
       "        vertical-align: top;\n",
       "    }\n",
       "\n",
       "    .dataframe thead th {\n",
       "        text-align: right;\n",
       "    }\n",
       "</style>\n",
       "<table border=\"1\" class=\"dataframe\">\n",
       "  <thead>\n",
       "    <tr style=\"text-align: right;\">\n",
       "      <th></th>\n",
       "      <th>Tipo</th>\n",
       "      <th>Impermeabilidade</th>\n",
       "    </tr>\n",
       "  </thead>\n",
       "  <tbody>\n",
       "    <tr>\n",
       "      <th>0</th>\n",
       "      <td>Tipo_I</td>\n",
       "      <td>56</td>\n",
       "    </tr>\n",
       "    <tr>\n",
       "      <th>1</th>\n",
       "      <td>Tipo_I</td>\n",
       "      <td>55</td>\n",
       "    </tr>\n",
       "    <tr>\n",
       "      <th>2</th>\n",
       "      <td>Tipo_I</td>\n",
       "      <td>62</td>\n",
       "    </tr>\n",
       "    <tr>\n",
       "      <th>3</th>\n",
       "      <td>Tipo_I</td>\n",
       "      <td>59</td>\n",
       "    </tr>\n",
       "    <tr>\n",
       "      <th>4</th>\n",
       "      <td>Tipo_I</td>\n",
       "      <td>60</td>\n",
       "    </tr>\n",
       "    <tr>\n",
       "      <th>5</th>\n",
       "      <td>Tipo_II</td>\n",
       "      <td>64</td>\n",
       "    </tr>\n",
       "    <tr>\n",
       "      <th>6</th>\n",
       "      <td>Tipo_II</td>\n",
       "      <td>61</td>\n",
       "    </tr>\n",
       "    <tr>\n",
       "      <th>7</th>\n",
       "      <td>Tipo_II</td>\n",
       "      <td>50</td>\n",
       "    </tr>\n",
       "    <tr>\n",
       "      <th>8</th>\n",
       "      <td>Tipo_II</td>\n",
       "      <td>55</td>\n",
       "    </tr>\n",
       "    <tr>\n",
       "      <th>9</th>\n",
       "      <td>Tipo_II</td>\n",
       "      <td>56</td>\n",
       "    </tr>\n",
       "    <tr>\n",
       "      <th>10</th>\n",
       "      <td>Tipo_III</td>\n",
       "      <td>45</td>\n",
       "    </tr>\n",
       "    <tr>\n",
       "      <th>11</th>\n",
       "      <td>Tipo_III</td>\n",
       "      <td>46</td>\n",
       "    </tr>\n",
       "    <tr>\n",
       "      <th>12</th>\n",
       "      <td>Tipo_III</td>\n",
       "      <td>45</td>\n",
       "    </tr>\n",
       "    <tr>\n",
       "      <th>13</th>\n",
       "      <td>Tipo_III</td>\n",
       "      <td>39</td>\n",
       "    </tr>\n",
       "    <tr>\n",
       "      <th>14</th>\n",
       "      <td>Tipo_III</td>\n",
       "      <td>43</td>\n",
       "    </tr>\n",
       "    <tr>\n",
       "      <th>15</th>\n",
       "      <td>Tipo_IV</td>\n",
       "      <td>42</td>\n",
       "    </tr>\n",
       "    <tr>\n",
       "      <th>16</th>\n",
       "      <td>Tipo_IV</td>\n",
       "      <td>39</td>\n",
       "    </tr>\n",
       "    <tr>\n",
       "      <th>17</th>\n",
       "      <td>Tipo_IV</td>\n",
       "      <td>45</td>\n",
       "    </tr>\n",
       "    <tr>\n",
       "      <th>18</th>\n",
       "      <td>Tipo_IV</td>\n",
       "      <td>43</td>\n",
       "    </tr>\n",
       "    <tr>\n",
       "      <th>19</th>\n",
       "      <td>Tipo_IV</td>\n",
       "      <td>41</td>\n",
       "    </tr>\n",
       "  </tbody>\n",
       "</table>\n",
       "</div>"
      ],
      "text/plain": [
       "        Tipo  Impermeabilidade\n",
       "0     Tipo_I                56\n",
       "1     Tipo_I                55\n",
       "2     Tipo_I                62\n",
       "3     Tipo_I                59\n",
       "4     Tipo_I                60\n",
       "5    Tipo_II                64\n",
       "6    Tipo_II                61\n",
       "7    Tipo_II                50\n",
       "8    Tipo_II                55\n",
       "9    Tipo_II                56\n",
       "10  Tipo_III                45\n",
       "11  Tipo_III                46\n",
       "12  Tipo_III                45\n",
       "13  Tipo_III                39\n",
       "14  Tipo_III                43\n",
       "15   Tipo_IV                42\n",
       "16   Tipo_IV                39\n",
       "17   Tipo_IV                45\n",
       "18   Tipo_IV                43\n",
       "19   Tipo_IV                41"
      ]
     },
     "execution_count": 85,
     "metadata": {},
     "output_type": "execute_result"
    }
   ],
   "source": [
    "df"
   ]
  },
  {
   "cell_type": "code",
   "execution_count": 87,
   "metadata": {},
   "outputs": [
    {
     "name": "stdout",
     "output_type": "stream",
     "text": [
      "          sum_sq    df          F        PR(>F)\n",
      "Tipo      1135.0   3.0  29.790026  8.775406e-07\n",
      "Residual   203.2  16.0        NaN           NaN\n",
      "Rejeitar H0: Pelo menos uma média é diferente.\n"
     ]
    }
   ],
   "source": [
    "from statsmodels.stats import anova\n",
    "import statsmodels.api as sm\n",
    "from statsmodels.formula.api import ols\n",
    "\n",
    "nivel_signi = 0.01\n",
    "\n",
    "\n",
    "model = ols(\"Impermeabilidade ~ Tipo\", data=df).fit()\n",
    "\n",
    "resultado = sm.stats.anova_lm(model, typ=2)\n",
    "\n",
    "print(resultado)\n",
    "\n",
    "if p_value < nivel_signi:\n",
    "    print(\"Rejeitar H0: Pelo menos uma média é diferente.\")\n",
    "else:\n",
    "    print(\"Não rejeitar H0: Não há evidências suficientes para afirmar que as médias são diferentes.\")"
   ]
  },
  {
   "cell_type": "markdown",
   "metadata": {},
   "source": [
    "-----"
   ]
  },
  {
   "cell_type": "markdown",
   "metadata": {},
   "source": [
    "10.Um órgão educacional do governo decidiu comparar o desempenho de notas\n",
    "obtidas por estudantes de escola particular e pública, a suposição é de que\n",
    "as notas de escola pública são menores que as notas obtidas por estudantes\n",
    "de escolas particulares. Para testar essa hipótese, foram selecionadas dias\n",
    "mostras de estudantes que prestaram vestibular, suas médias gerais foram\n",
    "categorizadas em 4 grupos e portanto obteve-se os dados abaixo: (3 pts).\n",
    "Teste a hipótese que as duas populações são homogêneas, para o nível de\n",
    "significância de 1%.\n",
    "\n"
   ]
  },
  {
   "cell_type": "markdown",
   "metadata": {},
   "source": [
    "$$\n",
    "    H_0: \\text{As médias populacionais são iguais} \\newline\n",
    "    H_1 : \\text{As médias populacionais são diferentes}\n",
    "$$"
   ]
  },
  {
   "cell_type": "code",
   "execution_count": 89,
   "metadata": {},
   "outputs": [
    {
     "data": {
      "text/html": [
       "<div>\n",
       "<style scoped>\n",
       "    .dataframe tbody tr th:only-of-type {\n",
       "        vertical-align: middle;\n",
       "    }\n",
       "\n",
       "    .dataframe tbody tr th {\n",
       "        vertical-align: top;\n",
       "    }\n",
       "\n",
       "    .dataframe thead th {\n",
       "        text-align: right;\n",
       "    }\n",
       "</style>\n",
       "<table border=\"1\" class=\"dataframe\">\n",
       "  <thead>\n",
       "    <tr style=\"text-align: right;\">\n",
       "      <th></th>\n",
       "      <th>Escola</th>\n",
       "      <th>0-2.5</th>\n",
       "      <th>2.5-5.0</th>\n",
       "      <th>5.0-7.5</th>\n",
       "      <th>7.5-10</th>\n",
       "      <th>Total</th>\n",
       "    </tr>\n",
       "  </thead>\n",
       "  <tbody>\n",
       "    <tr>\n",
       "      <th>0</th>\n",
       "      <td>Publica</td>\n",
       "      <td>15</td>\n",
       "      <td>22</td>\n",
       "      <td>18</td>\n",
       "      <td>3</td>\n",
       "      <td>58</td>\n",
       "    </tr>\n",
       "    <tr>\n",
       "      <th>1</th>\n",
       "      <td>Particular</td>\n",
       "      <td>6</td>\n",
       "      <td>10</td>\n",
       "      <td>20</td>\n",
       "      <td>6</td>\n",
       "      <td>42</td>\n",
       "    </tr>\n",
       "    <tr>\n",
       "      <th>2</th>\n",
       "      <td>Total</td>\n",
       "      <td>21</td>\n",
       "      <td>32</td>\n",
       "      <td>38</td>\n",
       "      <td>9</td>\n",
       "      <td>100</td>\n",
       "    </tr>\n",
       "  </tbody>\n",
       "</table>\n",
       "</div>"
      ],
      "text/plain": [
       "       Escola  0-2.5  2.5-5.0  5.0-7.5  7.5-10  Total\n",
       "0     Publica     15       22       18       3     58\n",
       "1  Particular      6       10       20       6     42\n",
       "2       Total     21       32       38       9    100"
      ]
     },
     "execution_count": 89,
     "metadata": {},
     "output_type": "execute_result"
    }
   ],
   "source": [
    "df = pd.DataFrame(\n",
    "    {\n",
    "        \"Escola\": [\"Publica\", \"Particular\", \"Total\"],\n",
    "        \"0-2.5\": [15, 6, 21],\n",
    "        \"2.5-5.0\": [22, 10, 32],\n",
    "        \"5.0-7.5\": [18, 20, 38],\n",
    "        \"7.5-10\": [3, 6, 9],\n",
    "        \"Total\": [58, 42, 100],\n",
    "    }\n",
    ")\n",
    "\n",
    "df.head()"
   ]
  },
  {
   "cell_type": "code",
   "execution_count": 90,
   "metadata": {},
   "outputs": [
    {
     "data": {
      "text/plain": [
       "array([15, 22, 18,  3], dtype=int64)"
      ]
     },
     "execution_count": 90,
     "metadata": {},
     "output_type": "execute_result"
    }
   ],
   "source": [
    "df.loc[df[\"Escola\"] == \"Publica\"].loc[:, [\"0-2.5\", \"2.5-5.0\", \"5.0-7.5\", \"7.5-10\"]].values.flatten()"
   ]
  },
  {
   "cell_type": "code",
   "execution_count": 91,
   "metadata": {},
   "outputs": [
    {
     "name": "stdout",
     "output_type": "stream",
     "text": [
      "Não rejeitar H0: Não há evidências suficientes para afirmar que as médias são diferentes.\n"
     ]
    }
   ],
   "source": [
    "notas_publicas = df.loc[df[\"Escola\"] == \"Publica\"].loc[:, [\"0-2.5\", \"2.5-5.0\", \"5.0-7.5\", \"7.5-10\"]].values.flatten()\n",
    "notas_particulares = df.loc[df[\"Escola\"] == \"Particular\"].loc[:, [\"0-2.5\", \"2.5-5.0\", \"5.0-7.5\", \"7.5-10\"]].values.flatten()\n",
    "\n",
    "t_stat, p_value = ttest_ind(notas_publicas, notas_particulares, equal_var=False)\n",
    "\n",
    "nivel_signi = 0.05\n",
    "\n",
    "if p_value < nivel_signi:\n",
    "    print(\"Rejeitar H0: As médias são diferentes, há evidências de diferença significativa entre as escolas.\")\n",
    "else:\n",
    "    print(\"Não rejeitar H0: Não há evidências suficientes para afirmar que as médias são diferentes.\")\n"
   ]
  },
  {
   "cell_type": "code",
   "execution_count": null,
   "metadata": {},
   "outputs": [],
   "source": []
  }
 ],
 "metadata": {
  "kernelspec": {
   "display_name": "base",
   "language": "python",
   "name": "python3"
  },
  "language_info": {
   "codemirror_mode": {
    "name": "ipython",
    "version": 3
   },
   "file_extension": ".py",
   "mimetype": "text/x-python",
   "name": "python",
   "nbconvert_exporter": "python",
   "pygments_lexer": "ipython3",
   "version": "3.9.12"
  }
 },
 "nbformat": 4,
 "nbformat_minor": 2
}
