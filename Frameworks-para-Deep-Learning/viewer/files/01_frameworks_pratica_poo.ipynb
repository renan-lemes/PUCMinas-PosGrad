{
  "nbformat": 4,
  "nbformat_minor": 0,
  "metadata": {
    "colab": {
      "provenance": []
    },
    "kernelspec": {
      "name": "python3",
      "display_name": "Python 3"
    },
    "language_info": {
      "name": "python"
    }
  },
  "cells": [
    {
      "cell_type": "markdown",
      "source": [
        "# **FRAMEWORKS DE DEEPLEARNING**\n",
        "# **Prática 01 - Introdução**\n",
        "**Autor**: Renan Santos Mendes\n",
        "\n",
        "**Email**: renansantosmendes@gmail.com\n",
        "\n",
        "**Descrição**: Neste notebook serão abordados os principais conceitos utilizados em POO"
      ],
      "metadata": {
        "id": "xFWQA3wRvZjA"
      }
    },
    {
      "cell_type": "markdown",
      "source": [
        "# Classes e Objetos\n",
        "#### Uma classe é uma estrutura que define atributos e métodos para objetos do mesmo tipo. Um objeto é uma instância de uma classe. Aqui está um exemplo de uma classe básica e como criar objetos a partir dela"
      ],
      "metadata": {
        "id": "FdfRf5lQhU3V"
      }
    },
    {
      "cell_type": "code",
      "source": [
        "class Carro(object):\n",
        "...\n",
        "\n",
        "meu_carro = Carro('Ford', 'Mustang', 2022)\n",
        "print(meu_carro.marca)\n",
        "meu_carro.acelerar()"
      ],
      "metadata": {
        "id": "Ks2b2jlf4Mxk"
      },
      "execution_count": null,
      "outputs": []
    },
    {
      "cell_type": "markdown",
      "source": [
        "# Herança\n",
        "#### A herança permite criar uma classe que é uma versão modificada de uma classe existente. A nova classe herda todos os atributos e métodos da classe pai e pode adicionar ou substituir métodos e atributos. Aqui está um exemplo de uma classe que herda da classe `Carro`:"
      ],
      "metadata": {
        "id": "4uV8_SKciQTt"
      }
    },
    {
      "cell_type": "code",
      "execution_count": null,
      "metadata": {
        "id": "wjlVFNpBvYQa"
      },
      "outputs": [],
      "source": [
        "class CarroEsportivo(...):\n",
        "    ...\n",
        "\n",
        "meu_carro_esportivo = CarroEsportivo('Ferrari', 'LaFerrari', 2022, 350)\n",
        "print(meu_carro_esportivo.modelo)\n",
        "meu_carro_esportivo.correr()"
      ]
    },
    {
      "cell_type": "markdown",
      "source": [
        "# Encapsulamento\n",
        "#### O encapsulamento permite esconder detalhes de implementação de uma classe, tornando seus atributos e métodos privados. Os métodos e atributos privados só podem ser acessados dentro da classe. Aqui está um exemplo de uma classe com encapsulamento"
      ],
      "metadata": {
        "id": "oIMJJM9WieM_"
      }
    },
    {
      "cell_type": "code",
      "source": [
        "class Pessoa(object):\n",
        "    ...\n",
        "\n",
        "pessoa = Pessoa('João', 30)\n",
        "pessoa.dados()\n",
        "pessoa.__dados_privados()"
      ],
      "metadata": {
        "id": "JM3q5FJ3iGBH"
      },
      "execution_count": null,
      "outputs": []
    },
    {
      "cell_type": "code",
      "source": [
        "pessoa._Pessoa__senha"
      ],
      "metadata": {
        "id": "trNiJal6OPXY"
      },
      "execution_count": null,
      "outputs": []
    },
    {
      "cell_type": "code",
      "source": [],
      "metadata": {
        "id": "MTX4VF6asJ4s"
      },
      "execution_count": null,
      "outputs": []
    }
  ]
}