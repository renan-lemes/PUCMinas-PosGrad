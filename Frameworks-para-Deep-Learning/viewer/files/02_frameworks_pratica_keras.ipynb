{
  "nbformat": 4,
  "nbformat_minor": 0,
  "metadata": {
    "colab": {
      "provenance": []
    },
    "kernelspec": {
      "name": "python3",
      "display_name": "Python 3"
    },
    "language_info": {
      "name": "python"
    }
  },
  "cells": [
    {
      "cell_type": "markdown",
      "source": [
        "# **FRAMEWORKS DE DEEPLEARNING**\n",
        "# **Prática - Keras**\n",
        "**Autor**: Renan Santos Mendes\n",
        "\n",
        "**Email**: renansantosmendes@gmail.com\n",
        "\n",
        "**Descrição**: Este notebook apresenta um exemplo de uma rede neural profunda com mais de uma camada para um problema de classificação.\n",
        "\n",
        "\n",
        "# **Saúde Fetal**\n",
        "\n",
        "As Cardiotocografias (CTGs) são opções simples e de baixo custo para avaliar a saúde fetal, permitindo que os profissionais de saúde atuem na prevenção da mortalidade infantil e materna. O próprio equipamento funciona enviando pulsos de ultrassom e lendo sua resposta, lançando luz sobre a frequência cardíaca fetal (FCF), movimentos fetais, contrações uterinas e muito mais.\n",
        "\n",
        "Este conjunto de dados contém 2126 registros de características extraídas de exames de Cardiotocografias, que foram então classificados por três obstetras especialistas em 3 classes:\n",
        "\n",
        "- Normal\n",
        "- Suspeito\n",
        "- Patológico"
      ],
      "metadata": {
        "id": "yYryuRDeqbxK"
      }
    },
    {
      "cell_type": "markdown",
      "source": [
        "# 1 - Importando os módulos necessários"
      ],
      "metadata": {
        "id": "4WgsLeJngPb1"
      }
    },
    {
      "cell_type": "code",
      "source": [
        "import os\n",
        "import tensorflow\n",
        "import tensorflow as tf\n",
        "from tensorflow import keras\n",
        "from keras.models import Sequential\n",
        "from keras.layers import Dense, Activation, InputLayer, Dropout\n",
        "from keras.utils import to_categorical\n",
        "from keras.callbacks import EarlyStopping\n",
        "from keras.regularizers import l1, l2\n",
        "\n",
        "import os\n",
        "import random\n",
        "import numpy as np\n",
        "import random as python_random\n",
        "import pandas as pd\n",
        "import matplotlib.pyplot as plt\n",
        "import plotly.express as px\n",
        "from sklearn import preprocessing\n",
        "from sklearn.preprocessing import StandardScaler\n",
        "from sklearn.model_selection import train_test_split"
      ],
      "metadata": {
        "id": "55YREGWfhXuu"
      },
      "execution_count": null,
      "outputs": []
    },
    {
      "cell_type": "markdown",
      "source": [
        "# Definindo funções adicionais"
      ],
      "metadata": {
        "id": "NFTzaAkEr-IP"
      }
    },
    {
      "cell_type": "code",
      "source": [
        "def plot_convergence(hist, metric):\n",
        "\n",
        "  df = pd.DataFrame(hist.history)\n",
        "  fig = px.line(df,\n",
        "                x=np.arange(df[metric].shape[0]),\n",
        "                y=[f'{metric}', f'val_{metric}'])\n",
        "  fig.show()\n",
        "\n",
        "def reset_seeds():\n",
        "   os.environ['PYTHONHASHSEED']=str(42)\n",
        "   tf.random.set_seed(42)\n",
        "   np.random.seed(42)\n",
        "   random.seed(42)"
      ],
      "metadata": {
        "id": "OgKUlrlbozyR"
      },
      "execution_count": null,
      "outputs": []
    },
    {
      "cell_type": "markdown",
      "source": [
        "# 2 - Fazendo a leitura do dataset e atribuindo às respectivas variáveis"
      ],
      "metadata": {
        "id": "I5uGdrdeh0QG"
      }
    },
    {
      "cell_type": "code",
      "source": [
        "data = pd.read_csv('https://raw.githubusercontent.com/renansantosmendes/lectures-cdas-2023/master/fetal_health.csv')"
      ],
      "metadata": {
        "id": "95168wcThmD2"
      },
      "execution_count": null,
      "outputs": []
    },
    {
      "cell_type": "markdown",
      "source": [
        "# 3 - Preparando o dado antes de iniciar o treino do modelo"
      ],
      "metadata": {
        "id": "1eQEA-fzgQ0G"
      }
    },
    {
      "cell_type": "code",
      "source": [
        "X=data.drop([\"fetal_health\"], axis=1)\n",
        "y=data[\"fetal_health\"] - 1\n",
        "\n",
        "columns_names = list(X.columns)\n",
        "X_df = preprocessing.StandardScaler().fit_transform(X)\n",
        "X_df = pd.DataFrame(X_df, columns=columns_names)\n",
        "\n",
        "X_train, X_test, y_train, y_test = train_test_split(X_df, y, test_size=0.3, random_state=42)\n",
        "\n",
        "y_train=keras.utils.to_categorical(y_train)\n",
        "y_test=keras.utils.to_categorical(y_test)"
      ],
      "metadata": {
        "id": "jBK7SgPxh7YY"
      },
      "execution_count": null,
      "outputs": []
    },
    {
      "cell_type": "markdown",
      "source": [
        "# 4 - Criando o modelo e adicionando as camadas"
      ],
      "metadata": {
        "id": "54CmcOG1gRn9"
      }
    },
    {
      "cell_type": "code",
      "source": [
        "reset_seeds()\n",
        "..."
      ],
      "metadata": {
        "id": "4y2kKy_EkLGt"
      },
      "execution_count": null,
      "outputs": []
    },
    {
      "cell_type": "markdown",
      "source": [
        "# 5 - Compilando o modelo\n"
      ],
      "metadata": {
        "id": "E0JmDrz6iQDw"
      }
    },
    {
      "cell_type": "code",
      "source": [
        "..."
      ],
      "metadata": {
        "id": "7IeY0b4i1gQj"
      },
      "execution_count": null,
      "outputs": []
    },
    {
      "cell_type": "markdown",
      "source": [
        "# 6 - Executando o treino do modelo"
      ],
      "metadata": {
        "id": "MoHbKkvCim-p"
      }
    },
    {
      "cell_type": "code",
      "source": [
        "%%time\n",
        "hist = ..."
      ],
      "metadata": {
        "id": "w8IX2tHI2VX4"
      },
      "execution_count": null,
      "outputs": []
    },
    {
      "cell_type": "markdown",
      "source": [
        "# 6.1 Avaliando o modelo"
      ],
      "metadata": {
        "id": "0pqwOl0Oc7nE"
      }
    },
    {
      "cell_type": "markdown",
      "source": [
        "# 6.2 Plotando a acurácia do modelo"
      ],
      "metadata": {
        "id": "dEfh_F2NdMS4"
      }
    },
    {
      "cell_type": "code",
      "source": [
        "plot_convergence(hist, 'loss')"
      ],
      "metadata": {
        "id": "x90V9p6lMDWI"
      },
      "execution_count": null,
      "outputs": []
    },
    {
      "cell_type": "code",
      "source": [],
      "metadata": {
        "id": "XObrAPUNQ3Cv"
      },
      "execution_count": null,
      "outputs": []
    },
    {
      "cell_type": "markdown",
      "source": [
        "# DagsHub\n",
        "<img src=\"https://api.flatworld.co/wp-content/uploads/2020/10/DAGsHub-Logo.png\" height=100>\n",
        "\n",
        "\n",
        "DagsHub é uma plataforma de colaboração e compartilhamento de código voltada para a comunidade de Ciência de Dados e Machine Learning. É uma plataforma que permite que os desenvolvedores, cientistas de dados e pesquisadores compartilhem seus projetos, coletem feedback de outros usuários, colaborem em projetos em equipe e gerenciem seu fluxo de trabalho de desenvolvimento de forma mais eficiente.\n",
        "\n",
        "A plataforma é baseada em Git e Git-LFS, o que significa que o controle de versão e o gerenciamento de arquivos são suportados nativamente. Além disso, o DagsHub oferece uma série de recursos adicionais que visam melhorar a experiência de desenvolvimento de projetos de Ciência de Dados e Machine Learning, como integração com ferramentas de treinamento de modelos, ambientes de execução, Jupyter notebooks e fluxos de trabalho de DAGs (gráficos acíclicos direcionados).\n",
        "\n",
        "\n",
        "Com o DagsHub, os usuários podem compartilhar seus projetos publicamente ou limitar o acesso a equipes específicas, criando uma comunidade de colaboração de dados e Machine Learning mais ampla. A plataforma também incentiva a colaboração em projetos de código aberto, com recursos para facilitar a contribuição e a revisão de código pelos usuários.\n",
        "\n",
        "Em resumo, o DagsHub é uma plataforma completa para compartilhamento, colaboração e gerenciamento de projetos de Ciência de Dados e Machine Learning, que tem como objetivo tornar o trabalho em equipe mais fácil e eficiente para os usuários.\n",
        "\n",
        "### [Link](https://dagshub.com/) para acesso."
      ],
      "metadata": {
        "id": "YKZtrzVuNaY3"
      }
    },
    {
      "cell_type": "code",
      "source": [
        "!pip install mlflow dagshub"
      ],
      "metadata": {
        "id": "t-QNqjomNayr"
      },
      "execution_count": null,
      "outputs": []
    },
    {
      "cell_type": "code",
      "source": [
        "import mlflow\n",
        "import dagshub\n",
        "\n",
        "mlflow.tensorflow.autolog()\n",
        "dagshub.init(\"repository_name\",\"username\")"
      ],
      "metadata": {
        "id": "ShSp4GXzNdxy"
      },
      "execution_count": null,
      "outputs": []
    }
  ]
}