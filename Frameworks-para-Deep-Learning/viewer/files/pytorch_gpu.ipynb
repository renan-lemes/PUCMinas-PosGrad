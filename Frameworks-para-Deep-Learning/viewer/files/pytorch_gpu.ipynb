{
 "cells": [
  {
   "cell_type": "markdown",
   "id": "28388ea0",
   "metadata": {},
   "source": [
    "# 1 - Instalar o PyTorch e o CUDA:\n",
    "Certifique-se de ter o PyTorch instalado e configurado corretamente com suporte ao CUDA, que é a plataforma de computação paralela da NVIDIA usada para executar cálculos em GPUs NVIDIA."
   ]
  },
  {
   "cell_type": "code",
   "execution_count": null,
   "id": "0314c8c8",
   "metadata": {},
   "outputs": [],
   "source": [
    "!pip install torch torchvision torchaudio --index-url https://download.pytorch.org/whl/cu118"
   ]
  },
  {
   "cell_type": "markdown",
   "id": "501448dd",
   "metadata": {},
   "source": [
    "Verifique a instalação da GPU com o comando abaixo. Se a GPU estiver disponível, você verá informações sobre o dispositivo CUDA."
   ]
  },
  {
   "cell_type": "code",
   "execution_count": null,
   "id": "e6b5330a",
   "metadata": {},
   "outputs": [],
   "source": []
  },
  {
   "cell_type": "markdown",
   "id": "2f96a986",
   "metadata": {},
   "source": [
    "# 2 - Inicializar Tensores na GPU:\n",
    "Para tirar proveito da GPU, você precisa criar tensores diretamente na GPU. Você pode fazer isso especificando o dispositivo ao criar o tensor."
   ]
  },
  {
   "cell_type": "code",
   "execution_count": null,
   "id": "f179af70",
   "metadata": {},
   "outputs": [],
   "source": []
  },
  {
   "cell_type": "markdown",
   "id": "bc349521",
   "metadata": {},
   "source": [
    "Ou você pode mover um tensor existente para a GPU usando o método `to()`."
   ]
  },
  {
   "cell_type": "code",
   "execution_count": null,
   "id": "c92e11d3",
   "metadata": {},
   "outputs": [],
   "source": [
    "\n"
   ]
  },
  {
   "cell_type": "markdown",
   "id": "5d6a8334",
   "metadata": {},
   "source": [
    "# 3 - Mover Modelos para a GPU:\n",
    "Se você estiver treinando um modelo, você também deve mover o modelo para a GPU. Faça isso chamando o método to() no modelo."
   ]
  },
  {
   "cell_type": "code",
   "execution_count": null,
   "id": "a571b6fa",
   "metadata": {},
   "outputs": [],
   "source": [
    "import torch.nn as nn\n",
    "\n",
    "class MyModel(nn.Module):\n",
    "    def __init__(self):\n",
    "        super(MeuModelo, self).__init__()\n",
    "        self.camada = nn.Linear(10, 5)\n",
    "\n",
    "    def forward(self, x):\n",
    "        return self.camada(x)\n",
    "\n",
    "..."
   ]
  },
  {
   "cell_type": "markdown",
   "id": "93377476",
   "metadata": {},
   "source": [
    "Isso move todos os parâmetros do modelo para a GPU."
   ]
  },
  {
   "cell_type": "markdown",
   "id": "717e3722",
   "metadata": {},
   "source": [
    "# 4 - Treinar na GPU:\n",
    "Quando você executa operações em tensores na GPU, o PyTorch automaticamente executa essas operações na GPU. Certifique-se de que os dados de entrada e os rótulos também estejam na GPU."
   ]
  },
  {
   "cell_type": "code",
   "execution_count": null,
   "id": "c9cc4d2d",
   "metadata": {},
   "outputs": [],
   "source": [
    "dados_de_treino = dados_de_treino.to(device)\n",
    "rotulos_de_treino = rotulos_de_treino.to(device)\n",
    "\n",
    "# Treinar seu modelo\n",
    "saida = modelo(dados_de_treino)\n",
    "perda = criterio(saida, rotulos_de_treino)\n",
    "perda.backward()"
   ]
  },
  {
   "cell_type": "markdown",
   "id": "c064f577",
   "metadata": {},
   "source": [
    "## Treinando um simples modelo na GPU"
   ]
  },
  {
   "cell_type": "markdown",
   "id": "76cf67e4",
   "metadata": {},
   "source": [
    "Vamos criar um exemplo simples com dados aleatórios, um modelo básico e treinamento na GPU usando PyTorch. Neste exemplo, usaremos um modelo de regressão linear simples."
   ]
  },
  {
   "cell_type": "markdown",
   "id": "25e65f26",
   "metadata": {},
   "source": [
    "### Definições iniciais"
   ]
  },
  {
   "cell_type": "code",
   "execution_count": null,
   "id": "bfac0d45",
   "metadata": {},
   "outputs": [],
   "source": [
    "import torch\n",
    "import torch.nn as nn\n",
    "import torch.optim as optim\n",
    "import numpy as np\n",
    "import warnings\n",
    "warnings.filterwarnings(\"ignore\")\n",
    "\n",
    "# Gerar dados aleatórios\n",
    "np.random.seed(42)\n",
    "torch.manual_seed(42)\n",
    "\n",
    "# Dados\n",
    "num_samples = 1000\n",
    "input_size = 5\n",
    "output_size = 1"
   ]
  },
  {
   "cell_type": "markdown",
   "id": "3afcef62",
   "metadata": {},
   "source": [
    "### Criação dos dados de treino"
   ]
  },
  {
   "cell_type": "code",
   "execution_count": null,
   "id": "fe6aa951",
   "metadata": {},
   "outputs": [],
   "source": [
    "X_train = torch.rand((num_samples, input_size)).float()\n",
    "y_train = 3 * X_train[:, 0] - 2 * X_train[:, 1] + 1.5 * X_train[:, 2] + torch.randn(num_samples)"
   ]
  },
  {
   "cell_type": "markdown",
   "id": "e1ac841c",
   "metadata": {},
   "source": [
    "### Definição do modelo"
   ]
  },
  {
   "cell_type": "code",
   "execution_count": null,
   "id": "157eb74c",
   "metadata": {},
   "outputs": [],
   "source": [
    "class LinearRegression(nn.Module):\n",
    "    def __init__(self, input_size, output_size):\n",
    "        super().__init__()\n",
    "        self.camada = nn.Linear(input_size, output_size)\n",
    "\n",
    "    def forward(self, x):\n",
    "        return self.camada(x)"
   ]
  },
  {
   "cell_type": "code",
   "execution_count": null,
   "id": "b9d2ade1",
   "metadata": {},
   "outputs": [],
   "source": [
    "modelo = LinearRegression(input_size, output_size)\n",
    "device = torch.device(\"cuda\" if torch.cuda.is_available() else \"cpu\")\n",
    "criterio = nn.MSELoss()\n",
    "otimizador = optim.SGD(modelo.parameters(), lr=0.01)\n",
    "\n",
    "#enviar o modelo para GPU\n",
    "...\n",
    "\n",
    "#enviar dados para GPU\n",
    "...\n",
    "\n",
    "num_epochs = 1000\n",
    "\n",
    "for epoch in range(num_epochs):\n",
    "    # Forward pass\n",
    "    saida = modelo(dados_de_treino)\n",
    "    perda = criterio(saida, rotulos_de_treino)\n",
    "\n",
    "    # Backward pass e otimização\n",
    "    otimizador.zero_grad()\n",
    "    perda.backward()\n",
    "    otimizador.step()\n",
    "\n",
    "    if (epoch + 1) % 100 == 0:\n",
    "        print(f'Época [{epoch + 1}/{num_epochs}], Perda: {perda.item():.4f}')\n",
    "\n",
    "# Avaliação do modelo\n",
    "modelo.eval()\n",
    "X_test = torch.rand((10, input_size)).float().to(device)\n",
    "previsoes = modelo(X_test)\n",
    "print(\"\\nPrevisões do Modelo:\")\n",
    "print(previsoes.detach().cpu().numpy())"
   ]
  },
  {
   "cell_type": "markdown",
   "id": "65956e67",
   "metadata": {},
   "source": [
    "Este exemplo cria dados de treinamento com uma relação linear específica, define um modelo de regressão linear, move o modelo e os dados para a GPU (se disponível), e realiza o treinamento usando a GPU. Note que este é um exemplo muito simples e pode não refletir um cenário real, mas é útil para entender o processo básico de treinamento na GPU com PyTorch."
   ]
  },
  {
   "cell_type": "code",
   "execution_count": null,
   "id": "cc21dd29",
   "metadata": {},
   "outputs": [],
   "source": []
  }
 ],
 "metadata": {
  "kernelspec": {
   "display_name": "Python 3",
   "language": "python",
   "name": "python3"
  },
  "language_info": {
   "codemirror_mode": {
    "name": "ipython",
    "version": 3
   },
   "file_extension": ".py",
   "mimetype": "text/x-python",
   "name": "python",
   "nbconvert_exporter": "python",
   "pygments_lexer": "ipython3",
   "version": "3.8.3"
  }
 },
 "nbformat": 4,
 "nbformat_minor": 5
}
