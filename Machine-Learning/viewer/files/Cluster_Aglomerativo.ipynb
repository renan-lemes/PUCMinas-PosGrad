{
  "cells": [
    {
      "cell_type": "markdown",
      "metadata": {
        "id": "7BcK0juwdT_h"
      },
      "source": [
        "# Agrupamento\n",
        "---\n",
        "**Aula Prática 13**: Agrupamento utilizando Aglomerativo\n",
        "\n",
        "\n",
        "**Objetivo**: Realizar o agrupamento de um banco de dados\n",
        "\n",
        "\n",
        "Banco de dados:\n",
        "Iremos utilizar um banco de dados sintético\n",
        "\n",
        "\n",
        "--------------------------------------------------------------\n",
        "# Aglomerativo\n",
        "\n",
        "\n",
        "Para realizar a aplicação do modelo Aglomerativo utilizaremos a função do sklearn.\n",
        "\n",
        "\n",
        "```python\n",
        "from sklearn.cluster import AgglomerativeClustering\n",
        "\n",
        "\n",
        "agg = AgglomerativeClustering(n_cluster=3)\n",
        "y_pred = agg.fit_predict(X)\n",
        "```\n",
        "\n",
        "\n",
        "Para o AgglomerativeClustering é possível passar o número de clusters que serão gerados (n_cluster) ou é possível passar a distância maxima aceita entre clusters (distance_threshold).\n",
        "\n",
        "Outros parâmetros:\n",
        "* metric: métrica de distância a ser usada. Default: euclidiana.\n",
        "* linkage: método de ligação dos clusters. Default: Ward\n",
        "\n",
        "O objeto y_pred irá conter o rótulo do cluster de cada observação.\n",
        "\n",
        "\n",
        "Para avaliar a qualidade do agrupamento:\n",
        "\n",
        "\n",
        "1. Quando se possui os rótulos:\n",
        "Utilizar os métodos ARI e NMI\n",
        "\n",
        "\n",
        "```python\n",
        "from sklearn.metrics.cluster import adjusted_rand_score normalized_mutual_info_score\n",
        "adjusted_rand_score(y_real, y_pred)\n",
        "normalized_mutual_info_score(y_real, y_pred)\n",
        "```\n",
        "\n",
        "\n",
        "Quanto mais próximo de 1 melhor.\n",
        "\n",
        "\n",
        "2. Quando não se possui os rótulos:\n",
        "Utilizar o silhouette score\n",
        "```python\n",
        "from sklearn.metrics.cluster import silhouette_score\n",
        "silhouette_score(X, y_pred)\n",
        "```\n",
        "\n",
        "\n",
        "Quanto mais próximo de 1 indicativo de grupos bons, quanto mais próximos de -1 indicativo de agrupamentos ruins (misturados)\n",
        "\n",
        "\n"
      ]
    },
    {
      "cell_type": "markdown",
      "metadata": {
        "id": "QHuW78hwbtWq"
      },
      "source": [
        "## Agrupamento para dados simples"
      ]
    },
    {
      "cell_type": "code",
      "execution_count": null,
      "metadata": {
        "id": "ZBmZZsPSHQKp"
      },
      "outputs": [],
      "source": [
        "from sklearn.datasets import make_moons, make_blobs\n",
        "from sklearn.cluster import AgglomerativeClustering\n",
        "import plotly.express as px"
      ]
    },
    {
      "cell_type": "code",
      "execution_count": null,
      "metadata": {
        "id": "qSUiwranQUp2"
      },
      "outputs": [],
      "source": [
        "X_varied, y_varied = make_blobs(n_samples=200,\n",
        "                                cluster_std=[1.0, 2.5, 0.5],\n",
        "                                random_state=170)"
      ]
    },
    {
      "cell_type": "code",
      "execution_count": null,
      "metadata": {
        "id": "rRXav5xlfUhB"
      },
      "outputs": [],
      "source": [
        "px.scatter(x=X_varied[:, 0], y=X_varied[:, 1], color=y_varied.astype(str))"
      ]
    },
    {
      "cell_type": "code",
      "execution_count": null,
      "metadata": {
        "id": "gB-r9JA_Qd_p"
      },
      "outputs": [],
      "source": [
        "y_pred = AgglomerativeClustering(n_clusters=3).fit_predict(X_varied)"
      ]
    },
    {
      "cell_type": "code",
      "execution_count": null,
      "metadata": {
        "id": "2SQKSW6VQxEk"
      },
      "outputs": [],
      "source": [
        "px.scatter(x=X_varied[:, 0], y=X_varied[:, 1], color=y_pred.astype(str))"
      ]
    },
    {
      "cell_type": "markdown",
      "metadata": {
        "id": "KLl6CaZjbxpU"
      },
      "source": [
        "## Avaliação"
      ]
    },
    {
      "cell_type": "code",
      "execution_count": null,
      "metadata": {
        "id": "JqOyTBsjSRd-"
      },
      "outputs": [],
      "source": [
        "from sklearn.metrics.cluster import adjusted_rand_score, silhouette_score, normalized_mutual_info_score"
      ]
    },
    {
      "cell_type": "code",
      "execution_count": null,
      "metadata": {
        "id": "RLZiLyCpSYUj"
      },
      "outputs": [],
      "source": [
        "adjusted_rand_score(y_varied, y_pred)"
      ]
    },
    {
      "cell_type": "code",
      "execution_count": null,
      "metadata": {
        "id": "BweuusfsTMgz"
      },
      "outputs": [],
      "source": [
        "normalized_mutual_info_score(y_varied, y_pred)"
      ]
    },
    {
      "cell_type": "code",
      "execution_count": null,
      "metadata": {
        "id": "N7ZqgewwSnKp"
      },
      "outputs": [],
      "source": [
        "silhouette_score(X_varied, y_pred)"
      ]
    },
    {
      "cell_type": "code",
      "execution_count": null,
      "metadata": {
        "id": "17oCnS50Reeu"
      },
      "outputs": [],
      "source": [
        "y_pred = AgglomerativeClustering(n_clusters=3, linkage='ward').fit_predict(X_varied)\n",
        "px.scatter(x=X_varied[:, 0], y=X_varied[:, 1], color=y_pred.astype(str))"
      ]
    },
    {
      "cell_type": "code",
      "execution_count": null,
      "metadata": {
        "id": "86PLTPtAR2Yw"
      },
      "outputs": [],
      "source": [
        "y_pred = AgglomerativeClustering(n_clusters=3, linkage='complete').fit_predict(X_varied)\n",
        "px.scatter(x=X_varied[:, 0], y=X_varied[:, 1], color=y_pred.astype(str))"
      ]
    },
    {
      "cell_type": "code",
      "execution_count": null,
      "metadata": {
        "id": "26kJrWJddUlO"
      },
      "outputs": [],
      "source": [
        "y_pred = AgglomerativeClustering(n_clusters=3, linkage='average').fit_predict(X_varied)\n",
        "px.scatter(x=X_varied[:, 0], y=X_varied[:, 1], color=y_pred.astype(str))"
      ]
    },
    {
      "cell_type": "markdown",
      "metadata": {
        "id": "uf5EPFejb8WO"
      },
      "source": [
        "## Agrupamento dados complexos"
      ]
    },
    {
      "cell_type": "code",
      "execution_count": null,
      "metadata": {
        "id": "YBLbVWw_SD9X"
      },
      "outputs": [],
      "source": [
        "X, y = make_moons(n_samples=200, noise=0.05, random_state=0)\n",
        "agg = AgglomerativeClustering(n_clusters=2)\n",
        "y_pred = agg.fit_predict(X)\n",
        "px.scatter(x=X[:, 0], y=X[:, 1], color=y_pred.astype(str))"
      ]
    },
    {
      "cell_type": "code",
      "execution_count": null,
      "metadata": {
        "id": "NlE2P0NuSAXA"
      },
      "outputs": [],
      "source": [
        "adjusted_rand_score(y, y_pred)"
      ]
    },
    {
      "cell_type": "code",
      "execution_count": null,
      "metadata": {
        "id": "qMNJ943ETPHd"
      },
      "outputs": [],
      "source": [
        "normalized_mutual_info_score(y, y_pred)"
      ]
    },
    {
      "cell_type": "code",
      "execution_count": null,
      "metadata": {
        "id": "M_PicmyPS2VL"
      },
      "outputs": [],
      "source": [
        "silhouette_score(X, y_pred)"
      ]
    },
    {
      "cell_type": "markdown",
      "metadata": {
        "id": "XlqMhexidnLI"
      },
      "source": [
        "## Analisando hierarquia"
      ]
    },
    {
      "cell_type": "code",
      "execution_count": null,
      "metadata": {
        "id": "l71rPPxidppU"
      },
      "outputs": [],
      "source": [
        "from scipy.cluster.hierarchy import linkage"
      ]
    },
    {
      "cell_type": "code",
      "execution_count": null,
      "metadata": {
        "id": "sBPnF6G8dt9h"
      },
      "outputs": [],
      "source": [
        "X_varied, y_varied = make_blobs(n_samples=200,\n",
        "                                cluster_std=[1.0, 2.5, 0.5],\n",
        "                                random_state=170)"
      ]
    },
    {
      "cell_type": "code",
      "execution_count": null,
      "metadata": {
        "id": "13BVQHszejZ8"
      },
      "outputs": [],
      "source": [
        "import plotly.figure_factory as ff"
      ]
    },
    {
      "cell_type": "code",
      "execution_count": null,
      "metadata": {
        "id": "6VO4xzModxK-"
      },
      "outputs": [],
      "source": [
        "ff.create_dendrogram(\n",
        "    X_varied, orientation='bottom',\n",
        "    linkagefun=lambda x: linkage(X_varied, 'ward', metric='euclidean')\n",
        ")"
      ]
    },
    {
      "cell_type": "code",
      "execution_count": null,
      "metadata": {
        "id": "i1ZvU9CcfLJK"
      },
      "outputs": [],
      "source": [
        "ff.create_dendrogram(\n",
        "    X_varied, orientation='bottom',\n",
        "    linkagefun=lambda x: linkage(X_varied, 'complete', metric='euclidean')\n",
        ")"
      ]
    }
  ],
  "metadata": {
    "colab": {
      "provenance": []
    },
    "kernelspec": {
      "display_name": "Python 3",
      "name": "python3"
    },
    "language_info": {
      "name": "python"
    }
  },
  "nbformat": 4,
  "nbformat_minor": 0
}
