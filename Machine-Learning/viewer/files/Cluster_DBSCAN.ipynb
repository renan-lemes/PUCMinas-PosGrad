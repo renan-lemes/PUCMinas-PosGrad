{
  "nbformat": 4,
  "nbformat_minor": 0,
  "metadata": {
    "colab": {
      "provenance": []
    },
    "kernelspec": {
      "name": "python3",
      "display_name": "Python 3"
    },
    "language_info": {
      "name": "python"
    }
  },
  "cells": [
    {
      "cell_type": "markdown",
      "source": [
        "#Agrupamento\n",
        "---\n",
        "**Aula Prática 14**: Agrupamento utilizando DBSCAN\n",
        "\n",
        "\n",
        "**Objetivo**: Realizar o agrupamento de um banco de dados\n",
        "\n",
        "\n",
        "Banco de dados:\n",
        "Iremos utilizar um banco de dados sintético\n",
        "\n",
        "\n",
        "--------------------------------------------------------------\n",
        "# DBSCAN\n",
        "\n",
        "\n",
        "Para realizar a aplicação do modelo DBSCAN utilizaremos a função do sklearn.\n",
        "\n",
        "\n",
        "```python\n",
        "from sklearn.cluster import DBSCAN\n",
        "\n",
        "\n",
        "dbscan = DBSCAN()\n",
        "y_pred = dbscan.fit_predict(X)\n",
        "```\n",
        "\n",
        "\n",
        "Para o DBSCAN é necessário passar os parâmetros min_samples e eps. O objeto y_pred irá conter o rótulo do cluster de cada observação.\n",
        "\n",
        "\n",
        "Para avaliar a qualidade do agrupamento:\n",
        "\n",
        "\n",
        "1. Quando se possui os rótulos:\n",
        "Utilizar os métodos ARI e NMI\n",
        "\n",
        "\n",
        "```python\n",
        "from sklearn.metrics.cluster import adjusted_rand_score normalized_mutual_info_score\n",
        "adjusted_rand_score(y_real, y_pred)\n",
        "normalized_mutual_info_score(y_real, y_pred)\n",
        "```\n",
        "\n",
        "\n",
        "Quanto mais próximo de 1 melhor.\n",
        "\n",
        "\n",
        "2. Quando não se possui os rótulos:\n",
        "Utilizar o silhouette score\n",
        "```python\n",
        "from sklearn.metrics.cluster import silhouette_score\n",
        "silhouette_score(X, y_pred)\n",
        "```\n",
        "\n",
        "\n",
        "Quanto mais próximo de 1 indicativo de grupos bons, quanto mais próximos de -1 indicativo de agrupamentos ruins (misturados)\n",
        "\n",
        "\n"
      ],
      "metadata": {
        "id": "7BcK0juwdT_h"
      }
    },
    {
      "cell_type": "markdown",
      "source": [
        "## Agrupamento para dados simples"
      ],
      "metadata": {
        "id": "QHuW78hwbtWq"
      }
    },
    {
      "cell_type": "code",
      "execution_count": null,
      "metadata": {
        "id": "ZBmZZsPSHQKp"
      },
      "outputs": [],
      "source": [
        "from sklearn.datasets import make_moons, make_blobs\n",
        "from sklearn.cluster import DBSCAN\n",
        "import plotly.express as px"
      ]
    },
    {
      "cell_type": "code",
      "source": [
        "X_varied, y_varied = make_blobs(n_samples=200,\n",
        "                                cluster_std=[1.0, 2.5, 0.5],\n",
        "                                random_state=170)"
      ],
      "metadata": {
        "id": "qSUiwranQUp2"
      },
      "execution_count": null,
      "outputs": []
    },
    {
      "cell_type": "code",
      "source": [
        "px.scatter(x=X_varied[:, 0], y=X_varied[:, 1], color=y_varied.astype(str))"
      ],
      "metadata": {
        "id": "OSC6sOMyfnWC"
      },
      "execution_count": null,
      "outputs": []
    },
    {
      "cell_type": "code",
      "source": [
        "y_pred = DBSCAN().fit_predict(X_varied)"
      ],
      "metadata": {
        "id": "gB-r9JA_Qd_p"
      },
      "execution_count": null,
      "outputs": []
    },
    {
      "cell_type": "code",
      "source": [
        "px.scatter(x=X_varied[:, 0], y=X_varied[:, 1], color=y_pred.astype(str))"
      ],
      "metadata": {
        "id": "2SQKSW6VQxEk"
      },
      "execution_count": null,
      "outputs": []
    },
    {
      "cell_type": "markdown",
      "source": [
        "## Avaliação"
      ],
      "metadata": {
        "id": "KLl6CaZjbxpU"
      }
    },
    {
      "cell_type": "code",
      "source": [
        "from sklearn.metrics.cluster import adjusted_rand_score, silhouette_score, normalized_mutual_info_score"
      ],
      "metadata": {
        "id": "JqOyTBsjSRd-"
      },
      "execution_count": null,
      "outputs": []
    },
    {
      "cell_type": "code",
      "source": [
        "adjusted_rand_score(y_varied, y_pred)"
      ],
      "metadata": {
        "id": "RLZiLyCpSYUj"
      },
      "execution_count": null,
      "outputs": []
    },
    {
      "cell_type": "code",
      "source": [
        "normalized_mutual_info_score(y_varied, y_pred)"
      ],
      "metadata": {
        "id": "BweuusfsTMgz"
      },
      "execution_count": null,
      "outputs": []
    },
    {
      "cell_type": "code",
      "source": [
        "silhouette_score(X_varied, y_pred)"
      ],
      "metadata": {
        "id": "N7ZqgewwSnKp"
      },
      "execution_count": null,
      "outputs": []
    },
    {
      "cell_type": "code",
      "source": [
        "y_pred = DBSCAN(min_samples=5, eps=1).fit_predict(X_varied)\n",
        "px.scatter(x=X_varied[:, 0], y=X_varied[:, 1], color=y_pred.astype(str))"
      ],
      "metadata": {
        "id": "17oCnS50Reeu"
      },
      "execution_count": null,
      "outputs": []
    },
    {
      "cell_type": "code",
      "source": [
        "y_pred = DBSCAN(min_samples=5, eps=1.5).fit_predict(X_varied)\n",
        "px.scatter(x=X_varied[:, 0], y=X_varied[:, 1], color=y_pred.astype(str))"
      ],
      "metadata": {
        "id": "86PLTPtAR2Yw"
      },
      "execution_count": null,
      "outputs": []
    },
    {
      "cell_type": "code",
      "source": [
        "y_pred = DBSCAN(min_samples=5, eps=1.75).fit_predict(X_varied)\n",
        "px.scatter(x=X_varied[:, 0], y=X_varied[:, 1], color=y_pred.astype(str))"
      ],
      "metadata": {
        "id": "c5IN7jQrSh9k"
      },
      "execution_count": null,
      "outputs": []
    },
    {
      "cell_type": "code",
      "source": [
        "y_pred = DBSCAN(min_samples=10, eps=1.75).fit_predict(X_varied)\n",
        "px.scatter(x=X_varied[:, 0], y=X_varied[:, 1], color=y_pred.astype(str))"
      ],
      "metadata": {
        "id": "E2lHU0TziFgF"
      },
      "execution_count": null,
      "outputs": []
    },
    {
      "cell_type": "markdown",
      "source": [
        "## Agrupamento dados complexos"
      ],
      "metadata": {
        "id": "uf5EPFejb8WO"
      }
    },
    {
      "cell_type": "code",
      "source": [
        "from sklearn.preprocessing import StandardScaler"
      ],
      "metadata": {
        "id": "AEa4QgKBiujH"
      },
      "execution_count": null,
      "outputs": []
    },
    {
      "cell_type": "code",
      "source": [
        "X, y = make_moons(n_samples=200, noise=0.05, random_state=0)\n",
        "scaler = StandardScaler()\n",
        "scaler.fit(X)\n",
        "X_scaled = scaler.transform(X)\n",
        "dbscan = DBSCAN()\n",
        "y_pred = dbscan.fit_predict(X_scaled)\n",
        "px.scatter(x=X[:, 0], y=X[:, 1], color=y_pred.astype(str))"
      ],
      "metadata": {
        "id": "YBLbVWw_SD9X"
      },
      "execution_count": null,
      "outputs": []
    },
    {
      "cell_type": "code",
      "source": [
        "adjusted_rand_score(y, y_pred)"
      ],
      "metadata": {
        "id": "NlE2P0NuSAXA"
      },
      "execution_count": null,
      "outputs": []
    },
    {
      "cell_type": "code",
      "source": [
        "normalized_mutual_info_score(y, y_pred)"
      ],
      "metadata": {
        "id": "qMNJ943ETPHd"
      },
      "execution_count": null,
      "outputs": []
    },
    {
      "cell_type": "code",
      "source": [
        "silhouette_score(X_scaled, y_pred)"
      ],
      "metadata": {
        "id": "M_PicmyPS2VL"
      },
      "execution_count": null,
      "outputs": []
    }
  ]
}