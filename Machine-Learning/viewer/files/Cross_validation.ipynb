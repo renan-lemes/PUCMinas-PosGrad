{
  "nbformat": 4,
  "nbformat_minor": 0,
  "metadata": {
    "colab": {
      "provenance": []
    },
    "kernelspec": {
      "name": "python3",
      "display_name": "Python 3"
    },
    "language_info": {
      "name": "python"
    }
  },
  "cells": [
    {
      "cell_type": "markdown",
      "source": [
        "#Validação cruzada e tunning de hiperparametro\n",
        "---\n",
        "**Aula Prática 19**: Validação cruzada e tunning de hiperparâmetro\n",
        "\n",
        "\n",
        "**Objetivo**: Identificar o melhor conjunto de hiperparâmetros com validação cruzada.\n",
        "\n",
        "\n",
        "Banco de dados:\n",
        "\n",
        "\n",
        "**Breast cancer wisconsin dataset**\n",
        "\n",
        "\n",
        "Disponível via sklearn\n",
        "\n",
        "\n",
        "> Features are computed from a digitized image of a fine needle aspirate (FNA) of a breast mass.  They describe characteristics of the cell nuclei present in the image.\n",
        ">\n",
        "> 1) ID number\n",
        ">\n",
        "> 2) Diagnosis (0 = malignant, 1 = benign)\n",
        ">\n",
        "> 3-32)\n",
        ">\n",
        "> Ten real-valued features are computed for each cell nucleus:\n",
        ">\n",
        "> a) radius (mean of distances from center to points on the perimeter)\n",
        ">\n",
        "> b) texture (standard deviation of gray-scale values)\n",
        ">\n",
        "> c) perimeter\n",
        ">\n",
        "> d) area\n",
        ">\n",
        "> e) smoothness (local variation in radius lengths)\n",
        ">\n",
        "> f) compactness (perimeter^2 / area - 1.0)\n",
        ">\n",
        "> g) concavity (severity of concave portions of the contour)\n",
        ">\n",
        "> h) concave points (number of concave portions of the contour)\n",
        ">\n",
        "> i) symmetry\n",
        ">\n",
        "> j) fractal dimension (\"coastline approximation\" - 1)"
      ],
      "metadata": {
        "id": "zxHUgPSFM1fc"
      }
    },
    {
      "cell_type": "markdown",
      "source": [
        "##Import das principais funções e leitura dos dados\n",
        "\n",
        "\n",
        "---\n",
        "\n"
      ],
      "metadata": {
        "id": "w1NLIkJMRP4U"
      }
    },
    {
      "cell_type": "code",
      "source": [
        "import pandas as pd\n",
        "import numpy as np\n",
        "from sklearn import datasets"
      ],
      "metadata": {
        "id": "Wfg5H5k7QUoz"
      },
      "execution_count": null,
      "outputs": []
    },
    {
      "cell_type": "code",
      "source": [
        "data = datasets.load_breast_cancer()"
      ],
      "metadata": {
        "id": "cz13V0q4Q5ZJ"
      },
      "execution_count": null,
      "outputs": []
    },
    {
      "cell_type": "code",
      "source": [
        "df = pd.DataFrame(data.data, columns=data.feature_names)"
      ],
      "metadata": {
        "id": "39H8czgiIvdT"
      },
      "execution_count": null,
      "outputs": []
    },
    {
      "cell_type": "code",
      "source": [
        "target = pd.DataFrame(data.target, columns=['Target'])\n",
        "df = pd.concat([df, target], axis=1)"
      ],
      "metadata": {
        "id": "do_VDG4RJICz"
      },
      "execution_count": null,
      "outputs": []
    },
    {
      "cell_type": "code",
      "source": [
        "df.head()"
      ],
      "metadata": {
        "id": "gE2hH2_8SHHZ"
      },
      "execution_count": null,
      "outputs": []
    },
    {
      "cell_type": "code",
      "source": [
        "df.shape"
      ],
      "metadata": {
        "id": "K94v4s0lSNC4"
      },
      "execution_count": null,
      "outputs": []
    },
    {
      "cell_type": "code",
      "source": [
        "df.dtypes"
      ],
      "metadata": {
        "id": "iyj0P08tSR5M"
      },
      "execution_count": null,
      "outputs": []
    },
    {
      "cell_type": "code",
      "source": [
        "df.describe().T"
      ],
      "metadata": {
        "id": "D4JMYa2ZJSto"
      },
      "execution_count": null,
      "outputs": []
    },
    {
      "cell_type": "markdown",
      "source": [
        "### Separação do banco entre treino e teste\n",
        "O primeiro passo para se treinar um modelo é separar o banco entre treino e teste. Para isso utilizaremos a função train_test_split\n",
        "\n",
        "\n",
        "\n",
        "\n",
        "``` python\n",
        "from sklearn.model_selection import train_test_split\n",
        "X_train, X_test, Y_train, Y_test = train_test_split(X, Y, test_size=.3, random_state=15)\n",
        "```\n",
        "No exemplo acima X é um dataframe contendo as features do modelo e Y um dataframe com a variável target.\n",
        "\n",
        "\n",
        "\n",
        "\n",
        "O parâmetro test_size controla o percentual de dados que será utilizado para teste.\n",
        "\n",
        "\n",
        "\n",
        "\n",
        "O parâmetro random_state controla a aleatoriedade da geração do dado, permitindo que ao executar o código seja gerado os mesmos bancos de treino e teste.\n",
        "\n",
        "\n",
        "\n",
        "\n",
        "É importante separar o banco entre treino e teste, pois utilizaremos o banco de treino para treinar modelos e o banco de teste para avaliar os modelos.\n",
        "\n",
        "\n",
        "### Validação cruzada\n",
        "Para realizar a validação cruzada separamos o banco de treino em pequenos grupos chamados folds, cada um será utilizado como um banco de treino para avaliarmos a consistência do modelo.\n",
        "\n",
        "\n",
        "``` python\n",
        "from sklearn.model_selection import cross_validate\n",
        "scoring = ['precision_macro', 'recall_macro']\n",
        "scores = cross_validate(model, X_train, Y_train, scoring=scoring)\n",
        "```\n",
        "\n",
        "\n",
        "### Tuning de hiperparâmetro\n",
        "Para achar o hiperparâmetro que dê o melhor resultado devemos testar diferentes combinações de hiperparâmetro para achar o melhor. Há três algoritmos para fazer:\n",
        "\n",
        "\n",
        "* GridSearch: Busca por todos os possíveis valores passados pelo usuário.\n",
        "* RandomSerch: Busca aleatória em um intervalo de valores determinado\n",
        "* BayesianOptimization: Busca através de um otimizador.\n",
        "\n",
        "\n",
        "No código a seguir iremos utilizar o GridSearch com validação cruzada\n",
        "\n",
        "\n",
        "``` python\n",
        "from sklearn.model_selection import GridSearchCV\n",
        "parameters = {'parâmetro 1' : [0.1, 0.03, 0.01],\n",
        "              'parâmetro 2': [100, 500, 50]}\n",
        "\n",
        "\n",
        "clf = GridSearchCV(model, parameters)\n",
        "clf.fit(X_train, Y_train)\n",
        "clf.best_params_\n",
        "pd.DataFrame(clf.cv_results_)\n",
        "```\n",
        "\n",
        "No código a seguir iremos utilizar o RandomSearch com validação cruzada\n",
        "\n",
        "\n",
        "``` python\n",
        "from sklearn.model_selection import RandomizedSearchCV\n",
        "parameters = {'parâmetro 1' : scipy.stats.expon(scale=.1),\n",
        "              'parâmetro 2': scipy.stats.uniform(50, 500)}\n",
        "\n",
        "\n",
        "clf = RandomizedSearchCV(model, parameters)\n",
        "clf.fit(X_train, Y_train)\n",
        "clf.best_params_\n",
        "pd.DataFrame(clf.cv_results_)\n",
        "```"
      ],
      "metadata": {
        "id": "M9mSwwoqRbef"
      }
    },
    {
      "cell_type": "code",
      "source": [
        "X = pd.DataFrame(data.data, columns=data.feature_names)\n",
        "Y = data.target"
      ],
      "metadata": {
        "id": "G4pgJuxgN_XX"
      },
      "execution_count": null,
      "outputs": []
    },
    {
      "cell_type": "markdown",
      "source": [
        "### Exercício:\n",
        "\n",
        "\n",
        "* Separe o banco entre treino e teste. Use 30% do banco para teste. Faça a quebra com todas as variáveis.\n",
        "* Utilizando um classificador xgboost faça:\n",
        "* Faça a validação cruzada do modelo, qual o valor médio de precisão macro\n",
        "* Faça uma busca, utilizando grid search, nos parâmetros learning_rate com valores de 0.1, 0.05 e 0.01 e n_estimators com valores de 100, 500, 50. Qual é a melhor configuração?\n",
        "* Aplique essa configuração no modelo e avalie os resultados."
      ],
      "metadata": {
        "id": "ZuLvLvD8-8xc"
      }
    },
    {
      "cell_type": "markdown",
      "source": [
        "#### Solução"
      ],
      "metadata": {
        "id": "idl1fuKB-1TJ"
      }
    },
    {
      "cell_type": "code",
      "source": [],
      "metadata": {
        "id": "57LQqQvhhaz8"
      },
      "execution_count": null,
      "outputs": []
    },
    {
      "cell_type": "markdown",
      "source": [
        "### Exercício:\n",
        "\n",
        "\n",
        "* Utilizando um classificador xgboost faça:\n",
        "* Faça uma busca, utilizando random search, nos parâmetros learning_rate com distribuição exponencial com parâmetro 0.01 e n_estimators com distribuição uniforme de 50 a 500 (utilizar a distribuição randint). Qual é a melhor configuração? Faça o número de tentativas igual a 9\n",
        "* Aplique essa configuração no modelo e avalie os resultados."
      ],
      "metadata": {
        "id": "yNyITAXo-_5e"
      }
    },
    {
      "cell_type": "markdown",
      "source": [
        "#### Solução"
      ],
      "metadata": {
        "id": "lhnw5Epr_kIF"
      }
    },
    {
      "cell_type": "code",
      "source": [],
      "metadata": {
        "id": "Wtn9NviCAHsN"
      },
      "execution_count": null,
      "outputs": []
    },
    {
      "cell_type": "markdown",
      "source": [
        "* Utilizando um classificador RandomForest faça:\n",
        "* Faça uma busca, utilizando random search, nos parâmetros max_depth com distribuição uniforme discreta de 2 a 10 e n_estimators com distribuição uniforme de 50 a 500. Qual é a melhor configuração? Faça o número de tentativas igual a 9\n",
        "* Aplique essa configuração no modelo e avalie os resultados."
      ],
      "metadata": {
        "id": "Auj6uwIu_ley"
      }
    },
    {
      "cell_type": "markdown",
      "source": [
        "#### Solução"
      ],
      "metadata": {
        "id": "Z3H4JCkSAHM8"
      }
    },
    {
      "cell_type": "code",
      "source": [],
      "metadata": {
        "id": "2cdg9WaE_k61"
      },
      "execution_count": null,
      "outputs": []
    },
    {
      "cell_type": "markdown",
      "source": [
        "Optuna\n",
        "\n",
        "Para utilizar a otimização bayesiana iremos usar o pacote Optuna.\n",
        "\n",
        "Para a utilização desse pacote devemos considerar os seguinte passos:\n",
        "1. Definir uma função objetivo\n",
        "2. Criar sugestão dos valores do hiperparâmetro utilizando o módulo trial\n",
        "3. Criar um objeto de estudo\n",
        "\n",
        "``` python\n",
        "import optuna\n",
        "\n",
        "# 1. Define an objective function to be maximized.\n",
        "def objective(trial):\n",
        "\n",
        "    # 2. Suggest values for the hyperparameters using a trial object.\n",
        "    rf_max_depth = trial.suggest_int('rf_max_depth', 2, 32, log=True)\n",
        "    classifier_obj = sklearn.ensemble.RandomForestClassifier(max_depth=rf_max_depth, n_estimators=10)\n",
        "    ...\n",
        "    return accuracy\n",
        "\n",
        "# 3. Create a study object and optimize the objective function.\n",
        "study = optuna.create_study(direction='maximize')\n",
        "study.optimize(objective, n_trials=100)\n",
        "```\n",
        "\n"
      ],
      "metadata": {
        "id": "kRCIUJn6ANBu"
      }
    },
    {
      "cell_type": "markdown",
      "source": [
        "* Utilizando um classificador xgboost faça:\n",
        "* Faça uma busca, utilizando optuna, nos parâmetros learning_rate com distribuição log uniform de 0.01 a 0.1 e n_estimators com distribuição uniforme de 50 a 500. Qual é a melhor configuração? Faça o número de tentativas igual a 9\n",
        "* Aplique essa configuração no modelo e avalie os resultados.\n",
        "\n",
        "[Link com documentação dos trial](https://optuna.readthedocs.io/en/stable/reference/generated/optuna.trial.Trial.html#optuna.trial.Trial.suggest_float)"
      ],
      "metadata": {
        "id": "NlUmZJA3GZQN"
      }
    },
    {
      "cell_type": "markdown",
      "source": [
        "#### Solução"
      ],
      "metadata": {
        "id": "2DXDp2BJHV8G"
      }
    },
    {
      "cell_type": "code",
      "source": [],
      "metadata": {
        "id": "fZ-J5DtNGWWv"
      },
      "execution_count": null,
      "outputs": []
    }
  ]
}