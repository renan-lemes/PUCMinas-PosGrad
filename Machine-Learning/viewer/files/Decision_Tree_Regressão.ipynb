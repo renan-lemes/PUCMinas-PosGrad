{
  "nbformat": 4,
  "nbformat_minor": 0,
  "metadata": {
    "colab": {
      "provenance": []
    },
    "kernelspec": {
      "name": "python3",
      "display_name": "Python 3"
    },
    "language_info": {
      "name": "python"
    }
  },
  "cells": [
    {
      "cell_type": "markdown",
      "source": [
        "#Regressão - Treino do modelo\n",
        "---\n",
        "**Aula Prática 06**: Decision Tree Regressão\n",
        "\n",
        "**Objetivo**: Treinar um modelo de regressão\n",
        "\n",
        "**Preço de carros usados**\n",
        "\n",
        "[Disponivel no kaggle](https://www.kaggle.com/datasets/rishabhkarn/used-car-dataset/data)\n",
        "\n",
        "[Disponível para download](https://drive.google.com/file/d/1Ny6GypPH4AtJi6CJHmEUEI3KN11hDuGG/view?usp=drive_link)\n",
        "\n",
        "Usaremos o dado tratado na aula 2"
      ],
      "metadata": {
        "id": "wPe4zyAkaXU3"
      }
    },
    {
      "cell_type": "markdown",
      "source": [
        "##Import das principais funções e leitura dos dados\n",
        "\n",
        "\n",
        "---"
      ],
      "metadata": {
        "id": "K-LIzm41ax3o"
      }
    },
    {
      "cell_type": "code",
      "source": [
        "import pandas as pd #pacote para leitura dos dados\n",
        "import numpy as np\n",
        "import plotly.express as px"
      ],
      "metadata": {
        "id": "IeClxXVaazlo"
      },
      "execution_count": null,
      "outputs": []
    },
    {
      "cell_type": "code",
      "source": [
        "path = 'dado_tratado.csv'\n",
        "df = pd.read_csv(path)"
      ],
      "metadata": {
        "id": "5UxZr9mRauW0"
      },
      "execution_count": null,
      "outputs": []
    },
    {
      "cell_type": "code",
      "source": [
        "df.head()"
      ],
      "metadata": {
        "id": "AHmnJLO_awNY"
      },
      "execution_count": null,
      "outputs": []
    },
    {
      "cell_type": "markdown",
      "source": [
        "## Treino de modelo de decision tree\n",
        "\n",
        "---\n",
        "\n",
        "Para treinar um modelo de regressão utilizaremos o pacote sklearn.\n",
        "\n",
        "### Separação do banco entre treino e teste\n",
        "O primeiro passo para se treinar um modelo é separar o banco entre treino e teste. Para isso utilizaremos a função train_test_split\n",
        "\n",
        "``` python\n",
        "from sklearn.model_selection import train_test_split\n",
        "X_train, X_test, Y_train, Y_test = train_test_split(X, Y, test_size=.3, random_state=15)\n",
        "```\n",
        "No exemplo acima X é um dataframe contendo as features do modelo e Y um dataframe com a variável target.\n",
        "\n",
        "\n",
        "O parâmetro test_size controla o percentual de dados que será utilizado para teste.\n",
        "\n",
        "\n",
        "O parâmetro random_state controla a aleatoriedade da geração do dado, permitindo que ao reexecutar o código seja gerado os mesmos bancos de treino e teste.\n",
        "\n",
        "\n",
        "É importante separar o banco entre treino e teste, pois utilizaremos o banco de treino para treinar modelos e o banco de teste para avaliar os modelos.\n",
        "\n",
        "\n",
        "### Treino do modelo\n",
        "Agora que já possuímos os dados de treino e teste vamos treinar o nosso modelo de regressão para isso utilizaremos o módulo DecisionTreeRegressor\n",
        "\n",
        "\n",
        "``` python\n",
        "from sklearn.tree import DecisionTreeRegressor\n",
        "model = DecisionTreeRegressor()\n",
        "model.fit(X_train, Y_train)\n",
        "```\n",
        "\n",
        "No código acima o objeto model é do tipo DecisionTreeRegressor, nele iremos fazer o ajuste do nosso modelo, realizar predições e também ficará armazenado a árvore de decisão.\n",
        "\n",
        "``` python\n",
        "# Para fazer predições\n",
        "model.predict(X_test)\n",
        "# Para acessar a importancia\n",
        "model.feature_importances_\n",
        "\n",
        "```\n",
        "Alguns parâmetros da Decision Tree:\n",
        "* criterion: critério para quebra de um nó. Default é squared_error, mas também pode ser friedman_mse e absolute_error\n",
        "* max_depth: profundidade da árvore. Default é None, isso faz com que as folhas sejam puras (observações menor que min_samples_split)\n",
        "* min_samples_split: minimo de amostra para separação. Default: 2\n",
        "* min_samples_leaf: Minimo de amostras em cada folha. Só será considerado quebra com no minimo esse tamanho de amostra. Default: 1.\n",
        "* random_state: semente para aleatoriedade.\n",
        "\n",
        "\n",
        "### Avaliação do modelo\n",
        "Para avaliar o modelo treinado utilizaremos as métricas vistas na aula teórica.\n",
        "\n",
        "\n",
        "``` python\n",
        "from sklearn.metrics import mean_squared_error, mean_absolute_error, r2_score\n",
        "\n",
        "# Erro médio quadrado\n",
        "mean_squared_error(Y_test, Y_predict)\n",
        "\n",
        "# Erro médio absoluto\n",
        "mean_absolute_error(Y_test, Y_predict)\n",
        "\n",
        "# R2 score\n",
        "r2_score(Y_test, Y_predict)\n",
        "```\n",
        "\n",
        "### Primeiro modelo\n",
        "---\n",
        "\n",
        "Exercício:\n",
        "\n",
        "\n",
        "* Separe o banco entre treino e teste. Use 30% do banco para teste. Faça a quebra com todas as variáveis.\n",
        "\n",
        "\n",
        "* Treine um modelo.\n",
        "* Faça as análises de apuração do modelo\n"
      ],
      "metadata": {
        "id": "78Da9a7-NfBV"
      }
    },
    {
      "cell_type": "code",
      "source": [
        "df = df.drop(columns=['max_power'])\n",
        "df=df[df.transmission_tratado_None==0]\n",
        "df = df.drop(columns=['ownsership_tratado_None', 'transmission_tratado_None'])\n",
        "df = df[df.price < 90]"
      ],
      "metadata": {
        "id": "n_Y11PquZDqL"
      },
      "execution_count": null,
      "outputs": []
    },
    {
      "cell_type": "code",
      "source": [
        "var = [col for col in df.columns if col!='price']"
      ],
      "metadata": {
        "id": "MnaBUV9YUYga"
      },
      "execution_count": null,
      "outputs": []
    },
    {
      "cell_type": "code",
      "source": [
        "from sklearn.model_selection import train_test_split\n",
        "\n",
        "X_train, X_test, Y_train, Y_test = train_test_split(df[var],\n",
        "                                                    df['price'],\n",
        "                                                    test_size=.3,\n",
        "                                                    random_state=15)"
      ],
      "metadata": {
        "id": "-Wh3VNw_UeO7"
      },
      "execution_count": null,
      "outputs": []
    },
    {
      "cell_type": "code",
      "source": [
        "X_train.head()"
      ],
      "metadata": {
        "id": "QMNpo3g-DCGl"
      },
      "execution_count": null,
      "outputs": []
    },
    {
      "cell_type": "code",
      "source": [
        "Y_train"
      ],
      "metadata": {
        "id": "dCC-Bz8JDNiI"
      },
      "execution_count": null,
      "outputs": []
    },
    {
      "cell_type": "code",
      "source": [
        "from sklearn.tree import DecisionTreeRegressor\n",
        "model = DecisionTreeRegressor(random_state=15)\n",
        "model.fit(X_train, Y_train)"
      ],
      "metadata": {
        "id": "PpoCeOGQUp5w"
      },
      "execution_count": null,
      "outputs": []
    },
    {
      "cell_type": "code",
      "source": [
        "df_imp = pd.DataFrame(model.feature_importances_.T, index=var, columns=['Importancia'])\n",
        "df_imp.sort_values('Importancia', ascending=False)"
      ],
      "metadata": {
        "id": "j8gkQeowUks4"
      },
      "execution_count": null,
      "outputs": []
    },
    {
      "cell_type": "code",
      "source": [
        "px.bar(df_imp.sort_values('Importancia'))"
      ],
      "metadata": {
        "id": "BjSLjYj2VmnI"
      },
      "execution_count": null,
      "outputs": []
    },
    {
      "cell_type": "code",
      "source": [
        "from sklearn.metrics import mean_squared_error, mean_absolute_error, r2_score"
      ],
      "metadata": {
        "id": "FROgaBWzU7K9"
      },
      "execution_count": null,
      "outputs": []
    },
    {
      "cell_type": "code",
      "source": [
        "predict = model.predict(X_test)"
      ],
      "metadata": {
        "id": "PLEKbdjkU9YX"
      },
      "execution_count": null,
      "outputs": []
    },
    {
      "cell_type": "code",
      "source": [
        "mean_squared_error(Y_test, predict)"
      ],
      "metadata": {
        "id": "lytjX41NU06T"
      },
      "execution_count": null,
      "outputs": []
    },
    {
      "cell_type": "code",
      "source": [
        "mean_absolute_error(Y_test, predict)"
      ],
      "metadata": {
        "id": "kgG746uqUwFb"
      },
      "execution_count": null,
      "outputs": []
    },
    {
      "cell_type": "code",
      "source": [
        "px.scatter(x=Y_test, y=model.predict(X_test))"
      ],
      "metadata": {
        "id": "5-p0YGmQU8XP"
      },
      "execution_count": null,
      "outputs": []
    },
    {
      "cell_type": "markdown",
      "source": [
        "Exercício:\n",
        "* Treine um novo modelo porém com max_depth = 4"
      ],
      "metadata": {
        "id": "O6w_wq0_WTzG"
      }
    },
    {
      "cell_type": "code",
      "source": [
        "from sklearn.tree import DecisionTreeRegressor\n",
        "model = DecisionTreeRegressor(random_state=15, max_depth=2)\n",
        "model.fit(X_train, Y_train)"
      ],
      "metadata": {
        "id": "1tpiCBdAWXMp"
      },
      "execution_count": null,
      "outputs": []
    },
    {
      "cell_type": "code",
      "source": [
        "predict = model.predict(X_test)"
      ],
      "metadata": {
        "id": "yrgsE6kgWaB6"
      },
      "execution_count": null,
      "outputs": []
    },
    {
      "cell_type": "code",
      "source": [
        "px.scatter(x=Y_test, y=model.predict(X_test))"
      ],
      "metadata": {
        "id": "bH0qQRRtWbGq"
      },
      "execution_count": null,
      "outputs": []
    },
    {
      "cell_type": "code",
      "source": [
        "mean_absolute_error(Y_test, predict)"
      ],
      "metadata": {
        "id": "F_3B96t4WgBU"
      },
      "execution_count": null,
      "outputs": []
    }
  ]
}