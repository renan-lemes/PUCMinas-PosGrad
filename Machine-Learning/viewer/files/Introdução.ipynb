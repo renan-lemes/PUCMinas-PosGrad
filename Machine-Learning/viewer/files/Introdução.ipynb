{
  "cells": [
    {
      "cell_type": "markdown",
      "metadata": {
        "id": "zxHUgPSFM1fc"
      },
      "source": [
        "# Introdução Machine Learning\n",
        "---\n",
        "**Aula Prática 01**: Tratamento de dados\n",
        "\n",
        "**Objetivo**: Análise exploratória dos dados e tratamento deles.\n",
        "\n",
        "Banco de dados:\n",
        "\n",
        "Preço de carros usados\n",
        "\n",
        "[Disponível no kaggle](https://www.kaggle.com/datasets/rishabhkarn/used-car-dataset/data)\n",
        "\n",
        "[Disponível para download](https://drive.google.com/file/d/1Ny6GypPH4AtJi6CJHmEUEI3KN11hDuGG/view?usp=drive_link)\n",
        "\n",
        "Descrição dos dados:\n",
        "* car_name: nome do carro\n",
        "* registration_year: ano de registro\n",
        "* insurance_validity: tipo de seguro\n",
        "* fuel_type: tipo de combustível\n",
        "* seats: número de assentos\n",
        "* kms_drive: total km dirigidos\n",
        "* ownsership: número de proprietários\n",
        "* transmission: tipo de câmbio\n",
        "* manufacturing_year: ano de fabricação\n",
        "* mileage(kmpl): km por litro\n",
        "* engine (cc): tamanho do motor\n",
        "* max_power(bhp): potência do carro\n",
        "* torque(Nm): torque do motor\n",
        "* price (in lakhs): preço em lakhs (medida indiana para 100.000)"
      ]
    },
    {
      "cell_type": "markdown",
      "metadata": {
        "id": "w1NLIkJMRP4U"
      },
      "source": [
        "##Import das principais funções e leitura dos dados\n",
        "\n",
        "\n",
        "---\n",
        "\n"
      ]
    },
    {
      "cell_type": "code",
      "execution_count": null,
      "metadata": {
        "id": "Wfg5H5k7QUoz"
      },
      "outputs": [],
      "source": [
        "import pandas as pd #pacote para leitura dos dados\n",
        "import numpy as np"
      ]
    },
    {
      "cell_type": "code",
      "execution_count": null,
      "metadata": {
        "id": "0gve6slKQttI"
      },
      "outputs": [],
      "source": [
        "#opção 1 -> montar o drive no colab e acessar o arquivo\n",
        "#from google.colab import drive\n",
        "#drive.mount('/content/drive')\n",
        "\n",
        "\n",
        "#opção 2 -> fazer download e fazer upload por aqui\n",
        "from google.colab import files\n",
        "uploaded = files.upload()"
      ]
    },
    {
      "cell_type": "code",
      "execution_count": null,
      "metadata": {
        "id": "cz13V0q4Q5ZJ"
      },
      "outputs": [],
      "source": [
        "path = 'Used Car Dataset.csv'\n",
        "df = pd.read_csv(path)"
      ]
    },
    {
      "cell_type": "code",
      "execution_count": null,
      "metadata": {
        "id": "gE2hH2_8SHHZ"
      },
      "outputs": [],
      "source": [
        "df.head()"
      ]
    },
    {
      "cell_type": "code",
      "execution_count": null,
      "metadata": {
        "id": "K94v4s0lSNC4"
      },
      "outputs": [],
      "source": [
        "df.shape"
      ]
    },
    {
      "cell_type": "code",
      "execution_count": null,
      "metadata": {
        "id": "iyj0P08tSR5M"
      },
      "outputs": [],
      "source": [
        "df.dtypes"
      ]
    },
    {
      "cell_type": "markdown",
      "metadata": {
        "id": "M9mSwwoqRbef"
      },
      "source": [
        "##Exploratória dos dados\n",
        "---\n",
        "Sugestões de análise exploratória\n",
        "\n",
        "* Para dados contínuos ou inteiros utilizar a função describe do pandas para obter estatísticas descritivas.\n",
        "* Utilizar visualizações como boxplot e histograma para dados numéricos\n",
        "* Utilizar visualizações como gráfico de barras para dados categóricos\n",
        "* Utilizar a função value_counts do pandas para contar a frequência de cada categoria\n",
        "* Realizar análise de correlação\n",
        "* Criar gráficos com mais de uma variável\n",
        "\n",
        "**Pergunta**\n",
        "\n",
        "Qual das nossas variáveis são contínuas e quais são categóricas?"
      ]
    },
    {
      "cell_type": "code",
      "execution_count": null,
      "metadata": {
        "id": "UWC__L7nVt2F"
      },
      "outputs": [],
      "source": [
        "#renomear as colunas\n",
        "\n",
        "df = df.rename(columns = {'mileage(kmpl)':'mileage',\n",
        "                          'engine(cc)':'engine',\n",
        "                          'max_power(bhp)': 'max_power',\n",
        "                          'torque(Nm)': 'torque',\n",
        "                          'price(in lakhs)': 'price'})\n",
        "\n",
        "df.drop(columns='Unnamed: 0', inplace=True)"
      ]
    },
    {
      "cell_type": "markdown",
      "metadata": {
        "id": "7TlDTGg6USn2"
      },
      "source": [
        "### Descritivas\n",
        "\n",
        "Funções no pandas para descrição dos dados\n",
        "\n",
        "``` python\n",
        "#Descritiva dos dados\n",
        "df['col_numerica'].describe()\n",
        "\n",
        "df[['col_numerica_1', 'col_numerica_2']].describe()\n",
        "\n",
        "df['col_numerica'].mean()\n",
        "df['col_numerica'].median()\n",
        "df['col_numerica'].var()\n",
        "df['col_numerica'].quantile([.9, .95, .99])\n",
        "\n",
        "\n",
        "df['col_categorica'].value_counts()\n",
        "#Contagem normalizada (soma deve dar 100)\n",
        "df['col_categorica'].value_counts(normalize=True)\n",
        "```\n",
        "\n",
        "**Utilizando estes comandos responda as perguntas:**\n",
        "* Qual a média da variável mileage?\n",
        "* Alguma variável apresenta presença de outliers (valores discrepantes)?\n",
        "* Quantas categorias há na variável fuel_type? Qual é a mais presente?"
      ]
    },
    {
      "cell_type": "code",
      "execution_count": null,
      "metadata": {
        "id": "1Ie7LDD8WjcY"
      },
      "outputs": [],
      "source": []
    },
    {
      "cell_type": "markdown",
      "metadata": {
        "id": "4zsvZC5pWwLJ"
      },
      "source": [
        "### Visualização\n",
        "\n",
        "Iremos utilizar o pacote plotly\n",
        "\n",
        "``` python\n",
        "import plotly.express as px\n",
        "\n",
        "#Gráfico de violino (boxplot + distribuição)\n",
        "px.violin(data_frame=df, x='column')\n",
        "px.violin(data_frame=df, x='column', color='column_cat')\n",
        "px.violin(data_frame=df, x='column', box=True)\n",
        "\n",
        "#Histograma dos dados\n",
        "px.histogram(data_frame=df, x='column')\n",
        "px.histogram(data_frame=df, marginal='box')\n",
        "\n",
        "#Gráfico de barras\n",
        "px.bar(data_frame=df, x='column')\n",
        "```\n",
        "\n",
        "**Utilizando estes comandos responda as perguntas:**\n",
        "\n",
        "* Há outlier na variável mileage? Há um volume grande de outliers?\n",
        "* A distribuição de kms_driven é a mesma por fuel_type (remova a categoria em que fuel_type=5 seats)?\n",
        "* Para a variável ownership qual a categoria mais frequente?"
      ]
    },
    {
      "cell_type": "code",
      "execution_count": null,
      "metadata": {
        "id": "FIhqwLtTW9GM"
      },
      "outputs": [],
      "source": [
        "import plotly.express as px\n",
        "?px.violin"
      ]
    },
    {
      "cell_type": "code",
      "execution_count": null,
      "metadata": {
        "id": "x3jbycWCiinK"
      },
      "outputs": [],
      "source": []
    },
    {
      "cell_type": "markdown",
      "metadata": {
        "id": "l9VkWDAtZ4F3"
      },
      "source": [
        "Para realizar análises que relaciona os dados utilize os comandos\n",
        "\n",
        "```python\n",
        "#Scatter plot de duas variáveis\n",
        "px.scatter(data_frame=df, x='column', y='column')\n",
        "px.scatter(data_frame=df, x='column', y='column', marginal_x='histogram', marginal_y='box')\n",
        "\n",
        "#Análise de correlação\n",
        "df.corr()\n",
        "```\n",
        "\n"
      ]
    },
    {
      "cell_type": "code",
      "execution_count": null,
      "metadata": {
        "id": "Yx98SMIUaqda"
      },
      "outputs": [],
      "source": [
        "px.scatter(data_frame=df,\n",
        "           x='kms_driven',\n",
        "           y='torque',\n",
        "           marginal_y='box',\n",
        "           marginal_x='histogram')"
      ]
    },
    {
      "cell_type": "code",
      "execution_count": null,
      "metadata": {
        "id": "1D0cNNpZahLx"
      },
      "outputs": [],
      "source": [
        "df.corr(numeric_only=True)"
      ]
    },
    {
      "cell_type": "markdown",
      "metadata": {
        "id": "SG0KLtcaRHfV"
      },
      "source": [
        "##Tratamento dos dados\n",
        "---\n",
        "\n",
        "* Dados duplicados\n",
        "* Dados faltantes\n",
        "* Dados estranhos\n",
        "\n",
        "```python\n",
        "# Indicativo se o dado é duplicado ou não\n",
        "df.duplicated()\n",
        "# Indicativo se o dado é duplicado ou não com referência a uma coluna\n",
        "df.duplicated(['colunas'])\n",
        "\n",
        "# Indicativo se o dado é na ou nulo\n",
        "df.isna()\n",
        "df.isnull()\n",
        "\n",
        "# Preencher dado faltante\n",
        "df['coluna'].fillna(valor)\n",
        "```\n",
        "\n",
        "Responda:\n",
        "* Há dados duplicados no banco? Quantos\n",
        "* Há campos com dados faltantes? Quais campos? Quantos?\n",
        "\n",
        "Faça:\n",
        "* Remova as duplicadas do dado\n",
        "* Preencha os na com a mediana\n",
        "* Remova as categorias estranhas para ownsership"
      ]
    },
    {
      "cell_type": "code",
      "execution_count": null,
      "metadata": {
        "id": "bkAnk3AbMKim"
      },
      "outputs": [],
      "source": []
    }
  ],
  "metadata": {
    "colab": {
      "provenance": [],
      "toc_visible": true
    },
    "kernelspec": {
      "display_name": "Python 3",
      "name": "python3"
    },
    "language_info": {
      "name": "python"
    }
  },
  "nbformat": 4,
  "nbformat_minor": 0
}
