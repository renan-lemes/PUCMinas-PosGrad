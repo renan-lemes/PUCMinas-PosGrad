{
  "nbformat": 4,
  "nbformat_minor": 0,
  "metadata": {
    "colab": {
      "provenance": [],
      "toc_visible": true
    },
    "kernelspec": {
      "name": "python3",
      "display_name": "Python 3"
    },
    "language_info": {
      "name": "python"
    }
  },
  "cells": [
    {
      "cell_type": "markdown",
      "source": [
        "#Regressão -Preparação de features\n",
        "---\n",
        "**Aula Prática 02**: Preparamento de features\n",
        "\n",
        "\n",
        "**Objetivo**: Preparar features para serem treinadas em um modelo.\n",
        "\n",
        "\n",
        "Banco de dados:\n",
        "\n",
        "\n",
        "Preço de carros usados\n",
        "\n",
        "\n",
        "[Disponivel no kaggle](https://www.kaggle.com/datasets/rishabhkarn/used-car-dataset/data)\n",
        "\n",
        "\n",
        "[Disponível para download](https://drive.google.com/file/d/1Ny6GypPH4AtJi6CJHmEUEI3KN11hDuGG/view?usp=drive_link)\n",
        "\n",
        "\n",
        "Descrição dos dados:\n",
        "* car_name: nome do carro\n",
        "* registration_year: ano de registro\n",
        "* insurance_validity: tipo de seguro\n",
        "* fuel_type: tipo de combustivel\n",
        "* seats: número de assentos\n",
        "* kms_drive: total km dirigidos\n",
        "* ownsership: número de proprietarios\n",
        "* transmission: tipo de cambio\n",
        "* manufacturing_year: ano de fabricação\n",
        "* mileage(kmpl): km por litro\n",
        "* engine (cc): tamanho do motor\n",
        "* max_power(bhp): potência do carro\n",
        "* torque(Nm): torque do motor\n",
        "* price (in lakhs): preço em lakhs (medida indiana para 100.000)"
      ],
      "metadata": {
        "id": "ZxfDg8mmPiGi"
      }
    },
    {
      "cell_type": "markdown",
      "source": [
        "##Import das principais funções e leitura dos dados\n",
        "\n",
        "\n",
        "---\n"
      ],
      "metadata": {
        "id": "h_zic1TnPvO4"
      }
    },
    {
      "cell_type": "code",
      "execution_count": null,
      "metadata": {
        "id": "8hv3yiY4Phor"
      },
      "outputs": [],
      "source": [
        "import pandas as pd #pacote para leitura dos dados\n",
        "import numpy as np"
      ]
    },
    {
      "cell_type": "code",
      "source": [
        "#opção 1 -> montar o drive no colab e acessar o arquivo\n",
        "#from google.colab import drive\n",
        "#drive.mount('/content/drive')\n",
        "\n",
        "\n",
        "#opção 2 -> fazer download e fazer upload por aqui\n",
        "from google.colab import files\n",
        "uploaded = files.upload()"
      ],
      "metadata": {
        "id": "XtXVWvXfPzlU"
      },
      "execution_count": null,
      "outputs": []
    },
    {
      "cell_type": "code",
      "source": [
        "path = 'Used Car Dataset.csv'\n",
        "df = pd.read_csv(path)"
      ],
      "metadata": {
        "id": "JlkujkTeP1V5"
      },
      "execution_count": null,
      "outputs": []
    },
    {
      "cell_type": "code",
      "source": [
        "df.head()"
      ],
      "metadata": {
        "colab": {
          "base_uri": "https://localhost:8080/",
          "height": 556
        },
        "id": "HxlNboKCP3bh",
        "outputId": "96df2359-d2c3-4183-da1c-077ffb685bdc"
      },
      "execution_count": null,
      "outputs": [
        {
          "output_type": "execute_result",
          "data": {
            "text/plain": [
              "   Unnamed: 0                                           car_name  \\\n",
              "0           0                    2017 Mercedes-Benz S-Class S400   \n",
              "1           1  2020 Nissan Magnite Turbo CVT XV Premium Opt BSVI   \n",
              "2           2                       2018 BMW X1 sDrive 20d xLine   \n",
              "3           3                           2019 Kia Seltos GTX Plus   \n",
              "4           4                    2019 Skoda Superb LK 1.8 TSI AT   \n",
              "\n",
              "  registration_year insurance_validity fuel_type  seats  kms_driven  \\\n",
              "0            Jul-17      Comprehensive    Petrol      5       56000   \n",
              "1            Jan-21      Comprehensive    Petrol      5       30615   \n",
              "2            Sep-18      Comprehensive    Diesel      5       24000   \n",
              "3            Dec-19      Comprehensive    Petrol      5       18378   \n",
              "4            Aug-19      Comprehensive    Petrol      5       44900   \n",
              "\n",
              "    ownsership transmission manufacturing_year  mileage(kmpl)  engine(cc)  \\\n",
              "0  First Owner    Automatic               2017           7.81      2996.0   \n",
              "1  First Owner    Automatic               2020          17.40       999.0   \n",
              "2  First Owner    Automatic               2018          20.68      1995.0   \n",
              "3  First Owner       Manual               2019          16.50      1353.0   \n",
              "4  First Owner    Automatic               2019          14.67      1798.0   \n",
              "\n",
              "   max_power(bhp)  torque(Nm)  price(in lakhs)  \n",
              "0          2996.0       333.0            63.75  \n",
              "1           999.0      9863.0             8.99  \n",
              "2          1995.0       188.0            23.75  \n",
              "3          1353.0     13808.0            13.56  \n",
              "4          1798.0     17746.0            24.00  "
            ],
            "text/html": [
              "\n",
              "  <div id=\"df-8c016a8c-96f2-4d2c-9d32-cbfcaac436c8\" class=\"colab-df-container\">\n",
              "    <div>\n",
              "<style scoped>\n",
              "    .dataframe tbody tr th:only-of-type {\n",
              "        vertical-align: middle;\n",
              "    }\n",
              "\n",
              "    .dataframe tbody tr th {\n",
              "        vertical-align: top;\n",
              "    }\n",
              "\n",
              "    .dataframe thead th {\n",
              "        text-align: right;\n",
              "    }\n",
              "</style>\n",
              "<table border=\"1\" class=\"dataframe\">\n",
              "  <thead>\n",
              "    <tr style=\"text-align: right;\">\n",
              "      <th></th>\n",
              "      <th>Unnamed: 0</th>\n",
              "      <th>car_name</th>\n",
              "      <th>registration_year</th>\n",
              "      <th>insurance_validity</th>\n",
              "      <th>fuel_type</th>\n",
              "      <th>seats</th>\n",
              "      <th>kms_driven</th>\n",
              "      <th>ownsership</th>\n",
              "      <th>transmission</th>\n",
              "      <th>manufacturing_year</th>\n",
              "      <th>mileage(kmpl)</th>\n",
              "      <th>engine(cc)</th>\n",
              "      <th>max_power(bhp)</th>\n",
              "      <th>torque(Nm)</th>\n",
              "      <th>price(in lakhs)</th>\n",
              "    </tr>\n",
              "  </thead>\n",
              "  <tbody>\n",
              "    <tr>\n",
              "      <th>0</th>\n",
              "      <td>0</td>\n",
              "      <td>2017 Mercedes-Benz S-Class S400</td>\n",
              "      <td>Jul-17</td>\n",
              "      <td>Comprehensive</td>\n",
              "      <td>Petrol</td>\n",
              "      <td>5</td>\n",
              "      <td>56000</td>\n",
              "      <td>First Owner</td>\n",
              "      <td>Automatic</td>\n",
              "      <td>2017</td>\n",
              "      <td>7.81</td>\n",
              "      <td>2996.0</td>\n",
              "      <td>2996.0</td>\n",
              "      <td>333.0</td>\n",
              "      <td>63.75</td>\n",
              "    </tr>\n",
              "    <tr>\n",
              "      <th>1</th>\n",
              "      <td>1</td>\n",
              "      <td>2020 Nissan Magnite Turbo CVT XV Premium Opt BSVI</td>\n",
              "      <td>Jan-21</td>\n",
              "      <td>Comprehensive</td>\n",
              "      <td>Petrol</td>\n",
              "      <td>5</td>\n",
              "      <td>30615</td>\n",
              "      <td>First Owner</td>\n",
              "      <td>Automatic</td>\n",
              "      <td>2020</td>\n",
              "      <td>17.40</td>\n",
              "      <td>999.0</td>\n",
              "      <td>999.0</td>\n",
              "      <td>9863.0</td>\n",
              "      <td>8.99</td>\n",
              "    </tr>\n",
              "    <tr>\n",
              "      <th>2</th>\n",
              "      <td>2</td>\n",
              "      <td>2018 BMW X1 sDrive 20d xLine</td>\n",
              "      <td>Sep-18</td>\n",
              "      <td>Comprehensive</td>\n",
              "      <td>Diesel</td>\n",
              "      <td>5</td>\n",
              "      <td>24000</td>\n",
              "      <td>First Owner</td>\n",
              "      <td>Automatic</td>\n",
              "      <td>2018</td>\n",
              "      <td>20.68</td>\n",
              "      <td>1995.0</td>\n",
              "      <td>1995.0</td>\n",
              "      <td>188.0</td>\n",
              "      <td>23.75</td>\n",
              "    </tr>\n",
              "    <tr>\n",
              "      <th>3</th>\n",
              "      <td>3</td>\n",
              "      <td>2019 Kia Seltos GTX Plus</td>\n",
              "      <td>Dec-19</td>\n",
              "      <td>Comprehensive</td>\n",
              "      <td>Petrol</td>\n",
              "      <td>5</td>\n",
              "      <td>18378</td>\n",
              "      <td>First Owner</td>\n",
              "      <td>Manual</td>\n",
              "      <td>2019</td>\n",
              "      <td>16.50</td>\n",
              "      <td>1353.0</td>\n",
              "      <td>1353.0</td>\n",
              "      <td>13808.0</td>\n",
              "      <td>13.56</td>\n",
              "    </tr>\n",
              "    <tr>\n",
              "      <th>4</th>\n",
              "      <td>4</td>\n",
              "      <td>2019 Skoda Superb LK 1.8 TSI AT</td>\n",
              "      <td>Aug-19</td>\n",
              "      <td>Comprehensive</td>\n",
              "      <td>Petrol</td>\n",
              "      <td>5</td>\n",
              "      <td>44900</td>\n",
              "      <td>First Owner</td>\n",
              "      <td>Automatic</td>\n",
              "      <td>2019</td>\n",
              "      <td>14.67</td>\n",
              "      <td>1798.0</td>\n",
              "      <td>1798.0</td>\n",
              "      <td>17746.0</td>\n",
              "      <td>24.00</td>\n",
              "    </tr>\n",
              "  </tbody>\n",
              "</table>\n",
              "</div>\n",
              "    <div class=\"colab-df-buttons\">\n",
              "\n",
              "  <div class=\"colab-df-container\">\n",
              "    <button class=\"colab-df-convert\" onclick=\"convertToInteractive('df-8c016a8c-96f2-4d2c-9d32-cbfcaac436c8')\"\n",
              "            title=\"Convert this dataframe to an interactive table.\"\n",
              "            style=\"display:none;\">\n",
              "\n",
              "  <svg xmlns=\"http://www.w3.org/2000/svg\" height=\"24px\" viewBox=\"0 -960 960 960\">\n",
              "    <path d=\"M120-120v-720h720v720H120Zm60-500h600v-160H180v160Zm220 220h160v-160H400v160Zm0 220h160v-160H400v160ZM180-400h160v-160H180v160Zm440 0h160v-160H620v160ZM180-180h160v-160H180v160Zm440 0h160v-160H620v160Z\"/>\n",
              "  </svg>\n",
              "    </button>\n",
              "\n",
              "  <style>\n",
              "    .colab-df-container {\n",
              "      display:flex;\n",
              "      gap: 12px;\n",
              "    }\n",
              "\n",
              "    .colab-df-convert {\n",
              "      background-color: #E8F0FE;\n",
              "      border: none;\n",
              "      border-radius: 50%;\n",
              "      cursor: pointer;\n",
              "      display: none;\n",
              "      fill: #1967D2;\n",
              "      height: 32px;\n",
              "      padding: 0 0 0 0;\n",
              "      width: 32px;\n",
              "    }\n",
              "\n",
              "    .colab-df-convert:hover {\n",
              "      background-color: #E2EBFA;\n",
              "      box-shadow: 0px 1px 2px rgba(60, 64, 67, 0.3), 0px 1px 3px 1px rgba(60, 64, 67, 0.15);\n",
              "      fill: #174EA6;\n",
              "    }\n",
              "\n",
              "    .colab-df-buttons div {\n",
              "      margin-bottom: 4px;\n",
              "    }\n",
              "\n",
              "    [theme=dark] .colab-df-convert {\n",
              "      background-color: #3B4455;\n",
              "      fill: #D2E3FC;\n",
              "    }\n",
              "\n",
              "    [theme=dark] .colab-df-convert:hover {\n",
              "      background-color: #434B5C;\n",
              "      box-shadow: 0px 1px 3px 1px rgba(0, 0, 0, 0.15);\n",
              "      filter: drop-shadow(0px 1px 2px rgba(0, 0, 0, 0.3));\n",
              "      fill: #FFFFFF;\n",
              "    }\n",
              "  </style>\n",
              "\n",
              "    <script>\n",
              "      const buttonEl =\n",
              "        document.querySelector('#df-8c016a8c-96f2-4d2c-9d32-cbfcaac436c8 button.colab-df-convert');\n",
              "      buttonEl.style.display =\n",
              "        google.colab.kernel.accessAllowed ? 'block' : 'none';\n",
              "\n",
              "      async function convertToInteractive(key) {\n",
              "        const element = document.querySelector('#df-8c016a8c-96f2-4d2c-9d32-cbfcaac436c8');\n",
              "        const dataTable =\n",
              "          await google.colab.kernel.invokeFunction('convertToInteractive',\n",
              "                                                    [key], {});\n",
              "        if (!dataTable) return;\n",
              "\n",
              "        const docLinkHtml = 'Like what you see? Visit the ' +\n",
              "          '<a target=\"_blank\" href=https://colab.research.google.com/notebooks/data_table.ipynb>data table notebook</a>'\n",
              "          + ' to learn more about interactive tables.';\n",
              "        element.innerHTML = '';\n",
              "        dataTable['output_type'] = 'display_data';\n",
              "        await google.colab.output.renderOutput(dataTable, element);\n",
              "        const docLink = document.createElement('div');\n",
              "        docLink.innerHTML = docLinkHtml;\n",
              "        element.appendChild(docLink);\n",
              "      }\n",
              "    </script>\n",
              "  </div>\n",
              "\n",
              "\n",
              "<div id=\"df-1fd1a435-fb85-48e0-a684-d97646c8cc5b\">\n",
              "  <button class=\"colab-df-quickchart\" onclick=\"quickchart('df-1fd1a435-fb85-48e0-a684-d97646c8cc5b')\"\n",
              "            title=\"Suggest charts\"\n",
              "            style=\"display:none;\">\n",
              "\n",
              "<svg xmlns=\"http://www.w3.org/2000/svg\" height=\"24px\"viewBox=\"0 0 24 24\"\n",
              "     width=\"24px\">\n",
              "    <g>\n",
              "        <path d=\"M19 3H5c-1.1 0-2 .9-2 2v14c0 1.1.9 2 2 2h14c1.1 0 2-.9 2-2V5c0-1.1-.9-2-2-2zM9 17H7v-7h2v7zm4 0h-2V7h2v10zm4 0h-2v-4h2v4z\"/>\n",
              "    </g>\n",
              "</svg>\n",
              "  </button>\n",
              "\n",
              "<style>\n",
              "  .colab-df-quickchart {\n",
              "      --bg-color: #E8F0FE;\n",
              "      --fill-color: #1967D2;\n",
              "      --hover-bg-color: #E2EBFA;\n",
              "      --hover-fill-color: #174EA6;\n",
              "      --disabled-fill-color: #AAA;\n",
              "      --disabled-bg-color: #DDD;\n",
              "  }\n",
              "\n",
              "  [theme=dark] .colab-df-quickchart {\n",
              "      --bg-color: #3B4455;\n",
              "      --fill-color: #D2E3FC;\n",
              "      --hover-bg-color: #434B5C;\n",
              "      --hover-fill-color: #FFFFFF;\n",
              "      --disabled-bg-color: #3B4455;\n",
              "      --disabled-fill-color: #666;\n",
              "  }\n",
              "\n",
              "  .colab-df-quickchart {\n",
              "    background-color: var(--bg-color);\n",
              "    border: none;\n",
              "    border-radius: 50%;\n",
              "    cursor: pointer;\n",
              "    display: none;\n",
              "    fill: var(--fill-color);\n",
              "    height: 32px;\n",
              "    padding: 0;\n",
              "    width: 32px;\n",
              "  }\n",
              "\n",
              "  .colab-df-quickchart:hover {\n",
              "    background-color: var(--hover-bg-color);\n",
              "    box-shadow: 0 1px 2px rgba(60, 64, 67, 0.3), 0 1px 3px 1px rgba(60, 64, 67, 0.15);\n",
              "    fill: var(--button-hover-fill-color);\n",
              "  }\n",
              "\n",
              "  .colab-df-quickchart-complete:disabled,\n",
              "  .colab-df-quickchart-complete:disabled:hover {\n",
              "    background-color: var(--disabled-bg-color);\n",
              "    fill: var(--disabled-fill-color);\n",
              "    box-shadow: none;\n",
              "  }\n",
              "\n",
              "  .colab-df-spinner {\n",
              "    border: 2px solid var(--fill-color);\n",
              "    border-color: transparent;\n",
              "    border-bottom-color: var(--fill-color);\n",
              "    animation:\n",
              "      spin 1s steps(1) infinite;\n",
              "  }\n",
              "\n",
              "  @keyframes spin {\n",
              "    0% {\n",
              "      border-color: transparent;\n",
              "      border-bottom-color: var(--fill-color);\n",
              "      border-left-color: var(--fill-color);\n",
              "    }\n",
              "    20% {\n",
              "      border-color: transparent;\n",
              "      border-left-color: var(--fill-color);\n",
              "      border-top-color: var(--fill-color);\n",
              "    }\n",
              "    30% {\n",
              "      border-color: transparent;\n",
              "      border-left-color: var(--fill-color);\n",
              "      border-top-color: var(--fill-color);\n",
              "      border-right-color: var(--fill-color);\n",
              "    }\n",
              "    40% {\n",
              "      border-color: transparent;\n",
              "      border-right-color: var(--fill-color);\n",
              "      border-top-color: var(--fill-color);\n",
              "    }\n",
              "    60% {\n",
              "      border-color: transparent;\n",
              "      border-right-color: var(--fill-color);\n",
              "    }\n",
              "    80% {\n",
              "      border-color: transparent;\n",
              "      border-right-color: var(--fill-color);\n",
              "      border-bottom-color: var(--fill-color);\n",
              "    }\n",
              "    90% {\n",
              "      border-color: transparent;\n",
              "      border-bottom-color: var(--fill-color);\n",
              "    }\n",
              "  }\n",
              "</style>\n",
              "\n",
              "  <script>\n",
              "    async function quickchart(key) {\n",
              "      const quickchartButtonEl =\n",
              "        document.querySelector('#' + key + ' button');\n",
              "      quickchartButtonEl.disabled = true;  // To prevent multiple clicks.\n",
              "      quickchartButtonEl.classList.add('colab-df-spinner');\n",
              "      try {\n",
              "        const charts = await google.colab.kernel.invokeFunction(\n",
              "            'suggestCharts', [key], {});\n",
              "      } catch (error) {\n",
              "        console.error('Error during call to suggestCharts:', error);\n",
              "      }\n",
              "      quickchartButtonEl.classList.remove('colab-df-spinner');\n",
              "      quickchartButtonEl.classList.add('colab-df-quickchart-complete');\n",
              "    }\n",
              "    (() => {\n",
              "      let quickchartButtonEl =\n",
              "        document.querySelector('#df-1fd1a435-fb85-48e0-a684-d97646c8cc5b button');\n",
              "      quickchartButtonEl.style.display =\n",
              "        google.colab.kernel.accessAllowed ? 'block' : 'none';\n",
              "    })();\n",
              "  </script>\n",
              "</div>\n",
              "\n",
              "    </div>\n",
              "  </div>\n"
            ],
            "application/vnd.google.colaboratory.intrinsic+json": {
              "type": "dataframe",
              "variable_name": "df",
              "summary": "{\n  \"name\": \"df\",\n  \"rows\": 1553,\n  \"fields\": [\n    {\n      \"column\": \"Unnamed: 0\",\n      \"properties\": {\n        \"dtype\": \"number\",\n        \"std\": 448,\n        \"min\": 0,\n        \"max\": 1552,\n        \"num_unique_values\": 1553,\n        \"samples\": [\n          1522,\n          270,\n          353\n        ],\n        \"semantic_type\": \"\",\n        \"description\": \"\"\n      }\n    },\n    {\n      \"column\": \"car_name\",\n      \"properties\": {\n        \"dtype\": \"string\",\n        \"num_unique_values\": 925,\n        \"samples\": [\n          \"2016 Hyundai Creta 1.6 SX Automatic\",\n          \"2016 Toyota Etios 1.4 VXD\",\n          \"2018 Jaguar XE 2.0L Diesel Portfolio\"\n        ],\n        \"semantic_type\": \"\",\n        \"description\": \"\"\n      }\n    },\n    {\n      \"column\": \"registration_year\",\n      \"properties\": {\n        \"dtype\": \"category\",\n        \"num_unique_values\": 178,\n        \"samples\": [\n          \"Oct-10\",\n          \"Nov-14\",\n          \"Feb-15\"\n        ],\n        \"semantic_type\": \"\",\n        \"description\": \"\"\n      }\n    },\n    {\n      \"column\": \"insurance_validity\",\n      \"properties\": {\n        \"dtype\": \"category\",\n        \"num_unique_values\": 6,\n        \"samples\": [\n          \"Comprehensive\",\n          \"Third Party insurance\",\n          \"Not Available\"\n        ],\n        \"semantic_type\": \"\",\n        \"description\": \"\"\n      }\n    },\n    {\n      \"column\": \"fuel_type\",\n      \"properties\": {\n        \"dtype\": \"category\",\n        \"num_unique_values\": 4,\n        \"samples\": [\n          \"Diesel\",\n          \"5 Seats\",\n          \"Petrol\"\n        ],\n        \"semantic_type\": \"\",\n        \"description\": \"\"\n      }\n    },\n    {\n      \"column\": \"seats\",\n      \"properties\": {\n        \"dtype\": \"number\",\n        \"std\": 2403,\n        \"min\": 4,\n        \"max\": 67000,\n        \"num_unique_values\": 6,\n        \"samples\": [\n          5,\n          6,\n          67000\n        ],\n        \"semantic_type\": \"\",\n        \"description\": \"\"\n      }\n    },\n    {\n      \"column\": \"kms_driven\",\n      \"properties\": {\n        \"dtype\": \"number\",\n        \"std\": 40067,\n        \"min\": 620,\n        \"max\": 810000,\n        \"num_unique_values\": 710,\n        \"samples\": [\n          50900,\n          44275,\n          87900\n        ],\n        \"semantic_type\": \"\",\n        \"description\": \"\"\n      }\n    },\n    {\n      \"column\": \"ownsership\",\n      \"properties\": {\n        \"dtype\": \"category\",\n        \"num_unique_values\": 22,\n        \"samples\": [\n          \"First Owner\",\n          \"2013\",\n          \"1998 cc\"\n        ],\n        \"semantic_type\": \"\",\n        \"description\": \"\"\n      }\n    },\n    {\n      \"column\": \"transmission\",\n      \"properties\": {\n        \"dtype\": \"category\",\n        \"num_unique_values\": 13,\n        \"samples\": [\n          \"2015\",\n          \"Power Windows Front\",\n          \"Automatic\"\n        ],\n        \"semantic_type\": \"\",\n        \"description\": \"\"\n      }\n    },\n    {\n      \"column\": \"manufacturing_year\",\n      \"properties\": {\n        \"dtype\": \"category\",\n        \"num_unique_values\": 19,\n        \"samples\": [\n          \"2017\",\n          \"2021\",\n          \"2016\"\n        ],\n        \"semantic_type\": \"\",\n        \"description\": \"\"\n      }\n    },\n    {\n      \"column\": \"mileage(kmpl)\",\n      \"properties\": {\n        \"dtype\": \"number\",\n        \"std\": 585.9642952992934,\n        \"min\": 7.81,\n        \"max\": 3996.0,\n        \"num_unique_values\": 332,\n        \"samples\": [\n          16.8,\n          14.5,\n          15.04\n        ],\n        \"semantic_type\": \"\",\n        \"description\": \"\"\n      }\n    },\n    {\n      \"column\": \"engine(cc)\",\n      \"properties\": {\n        \"dtype\": \"number\",\n        \"std\": 218562947745.45035,\n        \"min\": 5.0,\n        \"max\": 3258640000000.0,\n        \"num_unique_values\": 147,\n        \"samples\": [\n          7102.0,\n          11841.0,\n          207.0\n        ],\n        \"semantic_type\": \"\",\n        \"description\": \"\"\n      }\n    },\n    {\n      \"column\": \"max_power(bhp)\",\n      \"properties\": {\n        \"dtype\": \"number\",\n        \"std\": 218562947745.45035,\n        \"min\": 5.0,\n        \"max\": 3258640000000.0,\n        \"num_unique_values\": 147,\n        \"samples\": [\n          7102.0,\n          11841.0,\n          207.0\n        ],\n        \"semantic_type\": \"\",\n        \"description\": \"\"\n      }\n    },\n    {\n      \"column\": \"torque(Nm)\",\n      \"properties\": {\n        \"dtype\": \"number\",\n        \"std\": 96662.40752155363,\n        \"min\": 5.0,\n        \"max\": 1464800.0,\n        \"num_unique_values\": 281,\n        \"samples\": [\n          1144.0,\n          621.0,\n          4733.0\n        ],\n        \"semantic_type\": \"\",\n        \"description\": \"\"\n      }\n    },\n    {\n      \"column\": \"price(in lakhs)\",\n      \"properties\": {\n        \"dtype\": \"number\",\n        \"std\": 3478.8550901405197,\n        \"min\": 1.0,\n        \"max\": 95000.0,\n        \"num_unique_values\": 630,\n        \"samples\": [\n          4.79,\n          2.26,\n          2.72\n        ],\n        \"semantic_type\": \"\",\n        \"description\": \"\"\n      }\n    }\n  ]\n}"
            }
          },
          "metadata": {},
          "execution_count": 119
        }
      ]
    },
    {
      "cell_type": "code",
      "source": [
        "df.dtypes"
      ],
      "metadata": {
        "colab": {
          "base_uri": "https://localhost:8080/"
        },
        "id": "qYJeYrsoP31w",
        "outputId": "7b8306a2-f568-405d-8abb-11f4d062181c"
      },
      "execution_count": null,
      "outputs": [
        {
          "output_type": "execute_result",
          "data": {
            "text/plain": [
              "Unnamed: 0              int64\n",
              "car_name               object\n",
              "registration_year      object\n",
              "insurance_validity     object\n",
              "fuel_type              object\n",
              "seats                   int64\n",
              "kms_driven              int64\n",
              "ownsership             object\n",
              "transmission           object\n",
              "manufacturing_year     object\n",
              "mileage(kmpl)         float64\n",
              "engine(cc)            float64\n",
              "max_power(bhp)        float64\n",
              "torque(Nm)            float64\n",
              "price(in lakhs)       float64\n",
              "dtype: object"
            ]
          },
          "metadata": {},
          "execution_count": 120
        }
      ]
    },
    {
      "cell_type": "code",
      "source": [
        "df = df.rename(columns = {'mileage(kmpl)':'mileage',\n",
        "                          'engine(cc)':'engine',\n",
        "                          'max_power(bhp)': 'max_power',\n",
        "                          'torque(Nm)': 'torque',\n",
        "                          'price(in lakhs)': 'price'})\n",
        "\n",
        "df.drop(columns='Unnamed: 0', inplace=True)"
      ],
      "metadata": {
        "id": "Qp0CrUoNQCW-"
      },
      "execution_count": null,
      "outputs": []
    },
    {
      "cell_type": "markdown",
      "source": [
        "## Preparação de dados numéricos\n",
        "---\n",
        "Para o processamento das variáveis numéricas faremos o seguinte:\n",
        "\n",
        "\n",
        "1. Imputação/exclusão em dados faltantes\n",
        "\n",
        "```python\n",
        "# Preencher dado faltante\n",
        "df['coluna'].fillna(valor)\n",
        "```\n",
        "\n",
        "Exercícios:\n",
        "\n",
        "Preencha as variáveis que possuem dados faltantes com a mediana das observações."
      ],
      "metadata": {
        "id": "XSlctAGxP7UE"
      }
    },
    {
      "cell_type": "code",
      "source": [
        "df.dtypes"
      ],
      "metadata": {
        "colab": {
          "base_uri": "https://localhost:8080/"
        },
        "id": "TFBkPSBTS-LG",
        "outputId": "7fe223b6-5c85-4da6-f19a-37c1dc2a50de"
      },
      "execution_count": null,
      "outputs": [
        {
          "output_type": "execute_result",
          "data": {
            "text/plain": [
              "car_name               object\n",
              "registration_year      object\n",
              "insurance_validity     object\n",
              "fuel_type              object\n",
              "seats                   int64\n",
              "kms_driven              int64\n",
              "ownsership             object\n",
              "transmission           object\n",
              "manufacturing_year     object\n",
              "mileage               float64\n",
              "engine                float64\n",
              "max_power             float64\n",
              "torque                float64\n",
              "price                 float64\n",
              "dtype: object"
            ]
          },
          "metadata": {},
          "execution_count": 122
        }
      ]
    },
    {
      "cell_type": "code",
      "source": [
        "var_numerica = ['seats', 'kms_driven', 'mileage', 'engine', 'max_power', 'torque']"
      ],
      "metadata": {
        "id": "J3SVWH3DS8Je"
      },
      "execution_count": null,
      "outputs": []
    },
    {
      "cell_type": "code",
      "source": [],
      "metadata": {
        "id": "RjLMcnQdZoHK"
      },
      "execution_count": null,
      "outputs": []
    },
    {
      "cell_type": "markdown",
      "source": [
        "## Preparação de dados categóricos\n",
        "\n",
        "\n",
        "---\n",
        "Para o processamento das variáveis categóricas faremos o seguinte:\n",
        "\n",
        "\n",
        "1. Transformação de variáveis numéricas que representam a categoria:\n",
        "  a. Dummy\n",
        "  b. One hot encoding\n",
        "\n",
        "\n",
        "\n",
        "\n",
        "---\n",
        "### Variáveis Dummy\n",
        "\n",
        "\n",
        "Variáveis Dummy é uma representação de uma variável categórica com k categorias em k-1 variáveis, todas as novas variáveis são binárias.\n",
        "\n",
        "\n",
        "Exemplo:\n",
        "Variável faixa de idade\n",
        "\n",
        "\n",
        "|Variável original|18-30|30-50|50+|\n",
        "|---|---|---|---|\n",
        "|0-18|0|0|0|\n",
        "|18-30|1|0|0|\n",
        "|30-50|0|1|0|\n",
        "|50+|0|0|1|\n",
        "\n",
        "\n",
        "Para criar variáveis dummy iremos utilizar a função get_dummy do pacote Pandas\n",
        "\n",
        "\n",
        "Exemplo:\n",
        "``` python\n",
        "import pandas as pd\n",
        "df_dummy = pd.get_dummy(df, drop_first=True)\n",
        "```\n",
        " Exercícios:\n",
        "\n",
        "\n",
        "Crie uma variável dummy para o conjunto de dados? Notou algum problema na criação das dummys?"
      ],
      "metadata": {
        "id": "g4UtckgAQQva"
      }
    },
    {
      "cell_type": "code",
      "source": [
        "df.dtypes"
      ],
      "metadata": {
        "colab": {
          "base_uri": "https://localhost:8080/"
        },
        "id": "-vMO_CesTqke",
        "outputId": "bc4e0172-0ac7-4eb9-998d-8fccc75fe06b"
      },
      "execution_count": null,
      "outputs": [
        {
          "output_type": "execute_result",
          "data": {
            "text/plain": [
              "car_name               object\n",
              "registration_year      object\n",
              "insurance_validity     object\n",
              "fuel_type              object\n",
              "seats                   int64\n",
              "kms_driven              int64\n",
              "ownsership             object\n",
              "transmission           object\n",
              "manufacturing_year     object\n",
              "mileage               float64\n",
              "engine                float64\n",
              "max_power             float64\n",
              "torque                float64\n",
              "price                 float64\n",
              "dtype: object"
            ]
          },
          "metadata": {},
          "execution_count": 126
        }
      ]
    },
    {
      "cell_type": "code",
      "source": [
        "var_cat = ['registration_year',\n",
        "           'fuel_type',\n",
        "           'ownsership',\n",
        "           'transmission']"
      ],
      "metadata": {
        "id": "jC9YRvb6To0R"
      },
      "execution_count": null,
      "outputs": []
    },
    {
      "cell_type": "code",
      "source": [
        "var_cat + var_numerica"
      ],
      "metadata": {
        "colab": {
          "base_uri": "https://localhost:8080/"
        },
        "id": "AH9WV-CAT_F3",
        "outputId": "632f4c43-8287-4051-c528-eefe7083b8a5"
      },
      "execution_count": null,
      "outputs": [
        {
          "output_type": "execute_result",
          "data": {
            "text/plain": [
              "['registration_year',\n",
              " 'fuel_type',\n",
              " 'ownsership',\n",
              " 'transmission',\n",
              " 'seats',\n",
              " 'kms_driven',\n",
              " 'mileage',\n",
              " 'engine',\n",
              " 'max_power',\n",
              " 'torque']"
            ]
          },
          "metadata": {},
          "execution_count": 128
        }
      ]
    },
    {
      "cell_type": "code",
      "source": [],
      "metadata": {
        "id": "aJeHMHMtZrCD"
      },
      "execution_count": null,
      "outputs": []
    },
    {
      "cell_type": "markdown",
      "source": [
        "### Limpeza das categorias"
      ],
      "metadata": {
        "id": "JRPJx7USUC7X"
      }
    },
    {
      "cell_type": "code",
      "source": [
        "df[var_cat[0]].value_counts()"
      ],
      "metadata": {
        "colab": {
          "base_uri": "https://localhost:8080/"
        },
        "id": "wZ4zIRSfUMSQ",
        "outputId": "9a73f27c-3723-4a4e-996e-a7fd42ad0c12"
      },
      "execution_count": null,
      "outputs": [
        {
          "output_type": "execute_result",
          "data": {
            "text/plain": [
              "2017      40\n",
              "Jul-18    38\n",
              "Aug-18    29\n",
              "Jul-17    29\n",
              "May-17    26\n",
              "          ..\n",
              "Jul-10     1\n",
              "May-12     1\n",
              "Feb-13     1\n",
              "Nov-11     1\n",
              "Apr-14     1\n",
              "Name: registration_year, Length: 178, dtype: int64"
            ]
          },
          "metadata": {},
          "execution_count": 131
        }
      ]
    },
    {
      "cell_type": "code",
      "source": [
        "def gera_data(registration_year):\n",
        "  if len(registration_year)!=4:\n",
        "    try:\n",
        "      return '20' + registration_year.split('-')[1]\n",
        "    except:\n",
        "      return '200000'\n",
        "  return registration_year"
      ],
      "metadata": {
        "id": "72z5Yq72UrK1"
      },
      "execution_count": null,
      "outputs": []
    },
    {
      "cell_type": "code",
      "source": [
        "df[var_cat[0]].apply(gera_data).value_counts()"
      ],
      "metadata": {
        "colab": {
          "base_uri": "https://localhost:8080/"
        },
        "id": "_cpHs0KiUOKO",
        "outputId": "660421be-518a-475a-99bf-28520fb456a8"
      },
      "execution_count": null,
      "outputs": [
        {
          "output_type": "execute_result",
          "data": {
            "text/plain": [
              "2018      235\n",
              "2017      217\n",
              "2019      181\n",
              "2016      137\n",
              "2015      132\n",
              "2020      128\n",
              "2021      111\n",
              "2014      105\n",
              "2022      103\n",
              "2012       51\n",
              "2013       47\n",
              "2023       46\n",
              "2011       29\n",
              "2010       17\n",
              "2009       11\n",
              "200000      2\n",
              "2007        1\n",
              "Name: registration_year, dtype: int64"
            ]
          },
          "metadata": {},
          "execution_count": 133
        }
      ]
    },
    {
      "cell_type": "code",
      "source": [
        "df['registration_tratada'] = df[var_cat[0]].apply(gera_data).astype(int)"
      ],
      "metadata": {
        "id": "mP6umMOOUOFC"
      },
      "execution_count": null,
      "outputs": []
    },
    {
      "cell_type": "code",
      "source": [
        "def categoria_idade(registration_year):\n",
        "  if registration_year < 2010:\n",
        "    return 'antes_2010'\n",
        "  elif registration_year < 2020:\n",
        "    return 'antes 2020'\n",
        "  elif registration_year < 2030:\n",
        "    return 'depois 2020'\n",
        "  else:\n",
        "    return 'None'"
      ],
      "metadata": {
        "id": "QplDfdzrVN9s"
      },
      "execution_count": null,
      "outputs": []
    },
    {
      "cell_type": "code",
      "source": [
        "df['registration_tratada'].apply(categoria_idade).value_counts(dropna=False)"
      ],
      "metadata": {
        "colab": {
          "base_uri": "https://localhost:8080/"
        },
        "id": "Rv29JuftVdzO",
        "outputId": "bf681d9a-496c-4746-cf2b-134a13446562"
      },
      "execution_count": null,
      "outputs": [
        {
          "output_type": "execute_result",
          "data": {
            "text/plain": [
              "antes 2020     1151\n",
              "depois 2020     388\n",
              "antes_2010       12\n",
              "None              2\n",
              "Name: registration_tratada, dtype: int64"
            ]
          },
          "metadata": {},
          "execution_count": 136
        }
      ]
    },
    {
      "cell_type": "code",
      "source": [
        "df['registration_tratada'] = df['registration_tratada'].apply(categoria_idade)"
      ],
      "metadata": {
        "id": "kEn-01EUXj-d"
      },
      "execution_count": null,
      "outputs": []
    },
    {
      "cell_type": "code",
      "source": [
        "df[var_cat[1]].value_counts(dropna=False)"
      ],
      "metadata": {
        "colab": {
          "base_uri": "https://localhost:8080/"
        },
        "id": "mQo5rAZXV8pR",
        "outputId": "66358ba7-f606-4ca4-fe6e-81e64fdbd549"
      },
      "execution_count": null,
      "outputs": [
        {
          "output_type": "execute_result",
          "data": {
            "text/plain": [
              "Petrol     1013\n",
              "Diesel      516\n",
              "CNG          22\n",
              "5 Seats       2\n",
              "Name: fuel_type, dtype: int64"
            ]
          },
          "metadata": {},
          "execution_count": 138
        }
      ]
    },
    {
      "cell_type": "code",
      "source": [
        "df = df[df[var_cat[1]] != '5 Seats']"
      ],
      "metadata": {
        "id": "A5jWXaC1WQJb"
      },
      "execution_count": null,
      "outputs": []
    },
    {
      "cell_type": "code",
      "source": [
        "df[var_cat[2]].value_counts()"
      ],
      "metadata": {
        "colab": {
          "base_uri": "https://localhost:8080/"
        },
        "id": "-9Vj_ZiWWVj4",
        "outputId": "0ff34861-4f3e-441b-dc0a-3e73b3a5e55d"
      },
      "execution_count": null,
      "outputs": [
        {
          "output_type": "execute_result",
          "data": {
            "text/plain": [
              "First Owner     1240\n",
              "Second Owner     240\n",
              "1995 cc           24\n",
              "Third Owner       21\n",
              "1498 cc            3\n",
              "999 cc             2\n",
              "Fifth Owner        2\n",
              "1497 cc            2\n",
              "1451 cc            2\n",
              "998 cc             2\n",
              "1461 cc            2\n",
              "2993 cc            2\n",
              "1998 cc            1\n",
              "1996 cc            1\n",
              "1950 cc            1\n",
              "1199 cc            1\n",
              "1248 cc            1\n",
              "1197 cc            1\n",
              "1984 cc            1\n",
              "2999 cc            1\n",
              "1968 cc            1\n",
              "Name: ownsership, dtype: int64"
            ]
          },
          "metadata": {},
          "execution_count": 140
        }
      ]
    },
    {
      "cell_type": "code",
      "source": [
        "def tratamento_ownsership(ownsership):\n",
        "  if ownsership in ['First Owner', 'Second Owner', 'Third Owner', 'Fifth Owner']:\n",
        "    return ownsership\n",
        "  else:\n",
        "    return 'None'"
      ],
      "metadata": {
        "id": "DBMSrdh-WaiK"
      },
      "execution_count": null,
      "outputs": []
    },
    {
      "cell_type": "code",
      "source": [
        "df['ownsership_tratado'] = df.ownsership.apply(tratamento_ownsership)"
      ],
      "metadata": {
        "colab": {
          "base_uri": "https://localhost:8080/"
        },
        "id": "fctGp36HWqOT",
        "outputId": "6a198e9c-1297-4eb4-92d7-febbccc8a3b4"
      },
      "execution_count": null,
      "outputs": [
        {
          "output_type": "stream",
          "name": "stderr",
          "text": [
            "<ipython-input-142-a47263883644>:1: SettingWithCopyWarning: \n",
            "A value is trying to be set on a copy of a slice from a DataFrame.\n",
            "Try using .loc[row_indexer,col_indexer] = value instead\n",
            "\n",
            "See the caveats in the documentation: https://pandas.pydata.org/pandas-docs/stable/user_guide/indexing.html#returning-a-view-versus-a-copy\n",
            "  df['ownsership_tratado'] = df.ownsership.apply(tratamento_ownsership)\n"
          ]
        }
      ]
    },
    {
      "cell_type": "code",
      "source": [
        "df[var_cat[3]].value_counts()"
      ],
      "metadata": {
        "colab": {
          "base_uri": "https://localhost:8080/"
        },
        "id": "OUjUmQnmWx29",
        "outputId": "0342da43-827c-4627-ed1a-a1ad7044715d"
      },
      "execution_count": null,
      "outputs": [
        {
          "output_type": "execute_result",
          "data": {
            "text/plain": [
              "Manual       835\n",
              "Automatic    668\n",
              "2017          28\n",
              "2014           5\n",
              "2011           3\n",
              "2023           2\n",
              "2020           2\n",
              "2021           2\n",
              "2022           2\n",
              "2018           2\n",
              "2015           1\n",
              "2016           1\n",
              "Name: transmission, dtype: int64"
            ]
          },
          "metadata": {},
          "execution_count": 143
        }
      ]
    },
    {
      "cell_type": "code",
      "source": [
        "df['transmission_tratado'] = df[var_cat[3]].apply(lambda x: x if x in ['Manual', 'Automatic'] else 'None')"
      ],
      "metadata": {
        "colab": {
          "base_uri": "https://localhost:8080/"
        },
        "id": "LSpWDZwGW4Qr",
        "outputId": "d59a9f1d-8d8c-465e-b170-a859ae397f06"
      },
      "execution_count": null,
      "outputs": [
        {
          "output_type": "stream",
          "name": "stderr",
          "text": [
            "<ipython-input-144-a322d8ddd534>:1: SettingWithCopyWarning: \n",
            "A value is trying to be set on a copy of a slice from a DataFrame.\n",
            "Try using .loc[row_indexer,col_indexer] = value instead\n",
            "\n",
            "See the caveats in the documentation: https://pandas.pydata.org/pandas-docs/stable/user_guide/indexing.html#returning-a-view-versus-a-copy\n",
            "  df['transmission_tratado'] = df[var_cat[3]].apply(lambda x: x if x in ['Manual', 'Automatic'] else 'None')\n"
          ]
        }
      ]
    },
    {
      "cell_type": "code",
      "source": [
        "var_cat = ['registration_tratada',\n",
        "           'fuel_type',\n",
        "           'ownsership_tratado',\n",
        "           'transmission_tratado']"
      ],
      "metadata": {
        "id": "g6hZVOHmXnh8"
      },
      "execution_count": null,
      "outputs": []
    },
    {
      "cell_type": "code",
      "source": [
        "df_dummy = pd.get_dummies(df[var_cat + var_numerica],drop_first=True)"
      ],
      "metadata": {
        "id": "9O_MmC0xXvwd"
      },
      "execution_count": null,
      "outputs": []
    },
    {
      "cell_type": "code",
      "source": [
        "df_dummy.head()"
      ],
      "metadata": {
        "colab": {
          "base_uri": "https://localhost:8080/",
          "height": 243
        },
        "id": "g22XrRADXzLY",
        "outputId": "0c4c583c-dfd3-4972-8edb-f580d97377ca"
      },
      "execution_count": null,
      "outputs": [
        {
          "output_type": "execute_result",
          "data": {
            "text/plain": [
              "   seats  kms_driven  mileage  engine  max_power   torque  \\\n",
              "0      5       56000     7.81  2996.0     2996.0    333.0   \n",
              "1      5       30615    17.40   999.0      999.0   9863.0   \n",
              "2      5       24000    20.68  1995.0     1995.0    188.0   \n",
              "3      5       18378    16.50  1353.0     1353.0  13808.0   \n",
              "4      5       44900    14.67  1798.0     1798.0  17746.0   \n",
              "\n",
              "   registration_tratada_antes_2010  registration_tratada_depois 2020  \\\n",
              "0                                0                                 0   \n",
              "1                                0                                 1   \n",
              "2                                0                                 0   \n",
              "3                                0                                 0   \n",
              "4                                0                                 0   \n",
              "\n",
              "   fuel_type_Diesel  fuel_type_Petrol  ownsership_tratado_First Owner  \\\n",
              "0                 0                 1                               1   \n",
              "1                 0                 1                               1   \n",
              "2                 1                 0                               1   \n",
              "3                 0                 1                               1   \n",
              "4                 0                 1                               1   \n",
              "\n",
              "   ownsership_tratado_None  ownsership_tratado_Second Owner  \\\n",
              "0                        0                                0   \n",
              "1                        0                                0   \n",
              "2                        0                                0   \n",
              "3                        0                                0   \n",
              "4                        0                                0   \n",
              "\n",
              "   ownsership_tratado_Third Owner  transmission_tratado_Manual  \\\n",
              "0                               0                            0   \n",
              "1                               0                            0   \n",
              "2                               0                            0   \n",
              "3                               0                            1   \n",
              "4                               0                            0   \n",
              "\n",
              "   transmission_tratado_None  \n",
              "0                          0  \n",
              "1                          0  \n",
              "2                          0  \n",
              "3                          0  \n",
              "4                          0  "
            ],
            "text/html": [
              "\n",
              "  <div id=\"df-33ab5019-a897-4f3d-97fc-e312754b3ad6\" class=\"colab-df-container\">\n",
              "    <div>\n",
              "<style scoped>\n",
              "    .dataframe tbody tr th:only-of-type {\n",
              "        vertical-align: middle;\n",
              "    }\n",
              "\n",
              "    .dataframe tbody tr th {\n",
              "        vertical-align: top;\n",
              "    }\n",
              "\n",
              "    .dataframe thead th {\n",
              "        text-align: right;\n",
              "    }\n",
              "</style>\n",
              "<table border=\"1\" class=\"dataframe\">\n",
              "  <thead>\n",
              "    <tr style=\"text-align: right;\">\n",
              "      <th></th>\n",
              "      <th>seats</th>\n",
              "      <th>kms_driven</th>\n",
              "      <th>mileage</th>\n",
              "      <th>engine</th>\n",
              "      <th>max_power</th>\n",
              "      <th>torque</th>\n",
              "      <th>registration_tratada_antes_2010</th>\n",
              "      <th>registration_tratada_depois 2020</th>\n",
              "      <th>fuel_type_Diesel</th>\n",
              "      <th>fuel_type_Petrol</th>\n",
              "      <th>ownsership_tratado_First Owner</th>\n",
              "      <th>ownsership_tratado_None</th>\n",
              "      <th>ownsership_tratado_Second Owner</th>\n",
              "      <th>ownsership_tratado_Third Owner</th>\n",
              "      <th>transmission_tratado_Manual</th>\n",
              "      <th>transmission_tratado_None</th>\n",
              "    </tr>\n",
              "  </thead>\n",
              "  <tbody>\n",
              "    <tr>\n",
              "      <th>0</th>\n",
              "      <td>5</td>\n",
              "      <td>56000</td>\n",
              "      <td>7.81</td>\n",
              "      <td>2996.0</td>\n",
              "      <td>2996.0</td>\n",
              "      <td>333.0</td>\n",
              "      <td>0</td>\n",
              "      <td>0</td>\n",
              "      <td>0</td>\n",
              "      <td>1</td>\n",
              "      <td>1</td>\n",
              "      <td>0</td>\n",
              "      <td>0</td>\n",
              "      <td>0</td>\n",
              "      <td>0</td>\n",
              "      <td>0</td>\n",
              "    </tr>\n",
              "    <tr>\n",
              "      <th>1</th>\n",
              "      <td>5</td>\n",
              "      <td>30615</td>\n",
              "      <td>17.40</td>\n",
              "      <td>999.0</td>\n",
              "      <td>999.0</td>\n",
              "      <td>9863.0</td>\n",
              "      <td>0</td>\n",
              "      <td>1</td>\n",
              "      <td>0</td>\n",
              "      <td>1</td>\n",
              "      <td>1</td>\n",
              "      <td>0</td>\n",
              "      <td>0</td>\n",
              "      <td>0</td>\n",
              "      <td>0</td>\n",
              "      <td>0</td>\n",
              "    </tr>\n",
              "    <tr>\n",
              "      <th>2</th>\n",
              "      <td>5</td>\n",
              "      <td>24000</td>\n",
              "      <td>20.68</td>\n",
              "      <td>1995.0</td>\n",
              "      <td>1995.0</td>\n",
              "      <td>188.0</td>\n",
              "      <td>0</td>\n",
              "      <td>0</td>\n",
              "      <td>1</td>\n",
              "      <td>0</td>\n",
              "      <td>1</td>\n",
              "      <td>0</td>\n",
              "      <td>0</td>\n",
              "      <td>0</td>\n",
              "      <td>0</td>\n",
              "      <td>0</td>\n",
              "    </tr>\n",
              "    <tr>\n",
              "      <th>3</th>\n",
              "      <td>5</td>\n",
              "      <td>18378</td>\n",
              "      <td>16.50</td>\n",
              "      <td>1353.0</td>\n",
              "      <td>1353.0</td>\n",
              "      <td>13808.0</td>\n",
              "      <td>0</td>\n",
              "      <td>0</td>\n",
              "      <td>0</td>\n",
              "      <td>1</td>\n",
              "      <td>1</td>\n",
              "      <td>0</td>\n",
              "      <td>0</td>\n",
              "      <td>0</td>\n",
              "      <td>1</td>\n",
              "      <td>0</td>\n",
              "    </tr>\n",
              "    <tr>\n",
              "      <th>4</th>\n",
              "      <td>5</td>\n",
              "      <td>44900</td>\n",
              "      <td>14.67</td>\n",
              "      <td>1798.0</td>\n",
              "      <td>1798.0</td>\n",
              "      <td>17746.0</td>\n",
              "      <td>0</td>\n",
              "      <td>0</td>\n",
              "      <td>0</td>\n",
              "      <td>1</td>\n",
              "      <td>1</td>\n",
              "      <td>0</td>\n",
              "      <td>0</td>\n",
              "      <td>0</td>\n",
              "      <td>0</td>\n",
              "      <td>0</td>\n",
              "    </tr>\n",
              "  </tbody>\n",
              "</table>\n",
              "</div>\n",
              "    <div class=\"colab-df-buttons\">\n",
              "\n",
              "  <div class=\"colab-df-container\">\n",
              "    <button class=\"colab-df-convert\" onclick=\"convertToInteractive('df-33ab5019-a897-4f3d-97fc-e312754b3ad6')\"\n",
              "            title=\"Convert this dataframe to an interactive table.\"\n",
              "            style=\"display:none;\">\n",
              "\n",
              "  <svg xmlns=\"http://www.w3.org/2000/svg\" height=\"24px\" viewBox=\"0 -960 960 960\">\n",
              "    <path d=\"M120-120v-720h720v720H120Zm60-500h600v-160H180v160Zm220 220h160v-160H400v160Zm0 220h160v-160H400v160ZM180-400h160v-160H180v160Zm440 0h160v-160H620v160ZM180-180h160v-160H180v160Zm440 0h160v-160H620v160Z\"/>\n",
              "  </svg>\n",
              "    </button>\n",
              "\n",
              "  <style>\n",
              "    .colab-df-container {\n",
              "      display:flex;\n",
              "      gap: 12px;\n",
              "    }\n",
              "\n",
              "    .colab-df-convert {\n",
              "      background-color: #E8F0FE;\n",
              "      border: none;\n",
              "      border-radius: 50%;\n",
              "      cursor: pointer;\n",
              "      display: none;\n",
              "      fill: #1967D2;\n",
              "      height: 32px;\n",
              "      padding: 0 0 0 0;\n",
              "      width: 32px;\n",
              "    }\n",
              "\n",
              "    .colab-df-convert:hover {\n",
              "      background-color: #E2EBFA;\n",
              "      box-shadow: 0px 1px 2px rgba(60, 64, 67, 0.3), 0px 1px 3px 1px rgba(60, 64, 67, 0.15);\n",
              "      fill: #174EA6;\n",
              "    }\n",
              "\n",
              "    .colab-df-buttons div {\n",
              "      margin-bottom: 4px;\n",
              "    }\n",
              "\n",
              "    [theme=dark] .colab-df-convert {\n",
              "      background-color: #3B4455;\n",
              "      fill: #D2E3FC;\n",
              "    }\n",
              "\n",
              "    [theme=dark] .colab-df-convert:hover {\n",
              "      background-color: #434B5C;\n",
              "      box-shadow: 0px 1px 3px 1px rgba(0, 0, 0, 0.15);\n",
              "      filter: drop-shadow(0px 1px 2px rgba(0, 0, 0, 0.3));\n",
              "      fill: #FFFFFF;\n",
              "    }\n",
              "  </style>\n",
              "\n",
              "    <script>\n",
              "      const buttonEl =\n",
              "        document.querySelector('#df-33ab5019-a897-4f3d-97fc-e312754b3ad6 button.colab-df-convert');\n",
              "      buttonEl.style.display =\n",
              "        google.colab.kernel.accessAllowed ? 'block' : 'none';\n",
              "\n",
              "      async function convertToInteractive(key) {\n",
              "        const element = document.querySelector('#df-33ab5019-a897-4f3d-97fc-e312754b3ad6');\n",
              "        const dataTable =\n",
              "          await google.colab.kernel.invokeFunction('convertToInteractive',\n",
              "                                                    [key], {});\n",
              "        if (!dataTable) return;\n",
              "\n",
              "        const docLinkHtml = 'Like what you see? Visit the ' +\n",
              "          '<a target=\"_blank\" href=https://colab.research.google.com/notebooks/data_table.ipynb>data table notebook</a>'\n",
              "          + ' to learn more about interactive tables.';\n",
              "        element.innerHTML = '';\n",
              "        dataTable['output_type'] = 'display_data';\n",
              "        await google.colab.output.renderOutput(dataTable, element);\n",
              "        const docLink = document.createElement('div');\n",
              "        docLink.innerHTML = docLinkHtml;\n",
              "        element.appendChild(docLink);\n",
              "      }\n",
              "    </script>\n",
              "  </div>\n",
              "\n",
              "\n",
              "<div id=\"df-df8a75e3-0946-4eeb-b436-bad0580e00fc\">\n",
              "  <button class=\"colab-df-quickchart\" onclick=\"quickchart('df-df8a75e3-0946-4eeb-b436-bad0580e00fc')\"\n",
              "            title=\"Suggest charts\"\n",
              "            style=\"display:none;\">\n",
              "\n",
              "<svg xmlns=\"http://www.w3.org/2000/svg\" height=\"24px\"viewBox=\"0 0 24 24\"\n",
              "     width=\"24px\">\n",
              "    <g>\n",
              "        <path d=\"M19 3H5c-1.1 0-2 .9-2 2v14c0 1.1.9 2 2 2h14c1.1 0 2-.9 2-2V5c0-1.1-.9-2-2-2zM9 17H7v-7h2v7zm4 0h-2V7h2v10zm4 0h-2v-4h2v4z\"/>\n",
              "    </g>\n",
              "</svg>\n",
              "  </button>\n",
              "\n",
              "<style>\n",
              "  .colab-df-quickchart {\n",
              "      --bg-color: #E8F0FE;\n",
              "      --fill-color: #1967D2;\n",
              "      --hover-bg-color: #E2EBFA;\n",
              "      --hover-fill-color: #174EA6;\n",
              "      --disabled-fill-color: #AAA;\n",
              "      --disabled-bg-color: #DDD;\n",
              "  }\n",
              "\n",
              "  [theme=dark] .colab-df-quickchart {\n",
              "      --bg-color: #3B4455;\n",
              "      --fill-color: #D2E3FC;\n",
              "      --hover-bg-color: #434B5C;\n",
              "      --hover-fill-color: #FFFFFF;\n",
              "      --disabled-bg-color: #3B4455;\n",
              "      --disabled-fill-color: #666;\n",
              "  }\n",
              "\n",
              "  .colab-df-quickchart {\n",
              "    background-color: var(--bg-color);\n",
              "    border: none;\n",
              "    border-radius: 50%;\n",
              "    cursor: pointer;\n",
              "    display: none;\n",
              "    fill: var(--fill-color);\n",
              "    height: 32px;\n",
              "    padding: 0;\n",
              "    width: 32px;\n",
              "  }\n",
              "\n",
              "  .colab-df-quickchart:hover {\n",
              "    background-color: var(--hover-bg-color);\n",
              "    box-shadow: 0 1px 2px rgba(60, 64, 67, 0.3), 0 1px 3px 1px rgba(60, 64, 67, 0.15);\n",
              "    fill: var(--button-hover-fill-color);\n",
              "  }\n",
              "\n",
              "  .colab-df-quickchart-complete:disabled,\n",
              "  .colab-df-quickchart-complete:disabled:hover {\n",
              "    background-color: var(--disabled-bg-color);\n",
              "    fill: var(--disabled-fill-color);\n",
              "    box-shadow: none;\n",
              "  }\n",
              "\n",
              "  .colab-df-spinner {\n",
              "    border: 2px solid var(--fill-color);\n",
              "    border-color: transparent;\n",
              "    border-bottom-color: var(--fill-color);\n",
              "    animation:\n",
              "      spin 1s steps(1) infinite;\n",
              "  }\n",
              "\n",
              "  @keyframes spin {\n",
              "    0% {\n",
              "      border-color: transparent;\n",
              "      border-bottom-color: var(--fill-color);\n",
              "      border-left-color: var(--fill-color);\n",
              "    }\n",
              "    20% {\n",
              "      border-color: transparent;\n",
              "      border-left-color: var(--fill-color);\n",
              "      border-top-color: var(--fill-color);\n",
              "    }\n",
              "    30% {\n",
              "      border-color: transparent;\n",
              "      border-left-color: var(--fill-color);\n",
              "      border-top-color: var(--fill-color);\n",
              "      border-right-color: var(--fill-color);\n",
              "    }\n",
              "    40% {\n",
              "      border-color: transparent;\n",
              "      border-right-color: var(--fill-color);\n",
              "      border-top-color: var(--fill-color);\n",
              "    }\n",
              "    60% {\n",
              "      border-color: transparent;\n",
              "      border-right-color: var(--fill-color);\n",
              "    }\n",
              "    80% {\n",
              "      border-color: transparent;\n",
              "      border-right-color: var(--fill-color);\n",
              "      border-bottom-color: var(--fill-color);\n",
              "    }\n",
              "    90% {\n",
              "      border-color: transparent;\n",
              "      border-bottom-color: var(--fill-color);\n",
              "    }\n",
              "  }\n",
              "</style>\n",
              "\n",
              "  <script>\n",
              "    async function quickchart(key) {\n",
              "      const quickchartButtonEl =\n",
              "        document.querySelector('#' + key + ' button');\n",
              "      quickchartButtonEl.disabled = true;  // To prevent multiple clicks.\n",
              "      quickchartButtonEl.classList.add('colab-df-spinner');\n",
              "      try {\n",
              "        const charts = await google.colab.kernel.invokeFunction(\n",
              "            'suggestCharts', [key], {});\n",
              "      } catch (error) {\n",
              "        console.error('Error during call to suggestCharts:', error);\n",
              "      }\n",
              "      quickchartButtonEl.classList.remove('colab-df-spinner');\n",
              "      quickchartButtonEl.classList.add('colab-df-quickchart-complete');\n",
              "    }\n",
              "    (() => {\n",
              "      let quickchartButtonEl =\n",
              "        document.querySelector('#df-df8a75e3-0946-4eeb-b436-bad0580e00fc button');\n",
              "      quickchartButtonEl.style.display =\n",
              "        google.colab.kernel.accessAllowed ? 'block' : 'none';\n",
              "    })();\n",
              "  </script>\n",
              "</div>\n",
              "\n",
              "    </div>\n",
              "  </div>\n"
            ],
            "application/vnd.google.colaboratory.intrinsic+json": {
              "type": "dataframe",
              "variable_name": "df_dummy",
              "summary": "{\n  \"name\": \"df_dummy\",\n  \"rows\": 1551,\n  \"fields\": [\n    {\n      \"column\": \"seats\",\n      \"properties\": {\n        \"dtype\": \"number\",\n        \"std\": 0,\n        \"min\": 4,\n        \"max\": 8,\n        \"num_unique_values\": 5,\n        \"samples\": [\n          6,\n          8,\n          7\n        ],\n        \"semantic_type\": \"\",\n        \"description\": \"\"\n      }\n    },\n    {\n      \"column\": \"kms_driven\",\n      \"properties\": {\n        \"dtype\": \"number\",\n        \"std\": 40051,\n        \"min\": 620,\n        \"max\": 810000,\n        \"num_unique_values\": 709,\n        \"samples\": [\n          50900,\n          44275,\n          51123\n        ],\n        \"semantic_type\": \"\",\n        \"description\": \"\"\n      }\n    },\n    {\n      \"column\": \"mileage\",\n      \"properties\": {\n        \"dtype\": \"number\",\n        \"std\": 585.8510266876515,\n        \"min\": 7.81,\n        \"max\": 3996.0,\n        \"num_unique_values\": 331,\n        \"samples\": [\n          16.8,\n          16.78,\n          15.04\n        ],\n        \"semantic_type\": \"\",\n        \"description\": \"\"\n      }\n    },\n    {\n      \"column\": \"engine\",\n      \"properties\": {\n        \"dtype\": \"number\",\n        \"std\": 218492751827.27084,\n        \"min\": 5.0,\n        \"max\": 3258640000000.0,\n        \"num_unique_values\": 146,\n        \"samples\": [\n          1991.0,\n          3456.0,\n          2179.0\n        ],\n        \"semantic_type\": \"\",\n        \"description\": \"\"\n      }\n    },\n    {\n      \"column\": \"max_power\",\n      \"properties\": {\n        \"dtype\": \"number\",\n        \"std\": 218492751827.27084,\n        \"min\": 5.0,\n        \"max\": 3258640000000.0,\n        \"num_unique_values\": 146,\n        \"samples\": [\n          1991.0,\n          3456.0,\n          2179.0\n        ],\n        \"semantic_type\": \"\",\n        \"description\": \"\"\n      }\n    },\n    {\n      \"column\": \"torque\",\n      \"properties\": {\n        \"dtype\": \"number\",\n        \"std\": 96600.95069436067,\n        \"min\": 17.0,\n        \"max\": 1464800.0,\n        \"num_unique_values\": 280,\n        \"samples\": [\n          1144.0,\n          240.0,\n          30843.0\n        ],\n        \"semantic_type\": \"\",\n        \"description\": \"\"\n      }\n    },\n    {\n      \"column\": \"registration_tratada_antes_2010\",\n      \"properties\": {\n        \"dtype\": \"uint8\",\n        \"num_unique_values\": 2,\n        \"samples\": [\n          1,\n          0\n        ],\n        \"semantic_type\": \"\",\n        \"description\": \"\"\n      }\n    },\n    {\n      \"column\": \"registration_tratada_depois 2020\",\n      \"properties\": {\n        \"dtype\": \"uint8\",\n        \"num_unique_values\": 2,\n        \"samples\": [\n          1,\n          0\n        ],\n        \"semantic_type\": \"\",\n        \"description\": \"\"\n      }\n    },\n    {\n      \"column\": \"fuel_type_Diesel\",\n      \"properties\": {\n        \"dtype\": \"uint8\",\n        \"num_unique_values\": 2,\n        \"samples\": [\n          1,\n          0\n        ],\n        \"semantic_type\": \"\",\n        \"description\": \"\"\n      }\n    },\n    {\n      \"column\": \"fuel_type_Petrol\",\n      \"properties\": {\n        \"dtype\": \"uint8\",\n        \"num_unique_values\": 2,\n        \"samples\": [\n          0,\n          1\n        ],\n        \"semantic_type\": \"\",\n        \"description\": \"\"\n      }\n    },\n    {\n      \"column\": \"ownsership_tratado_First Owner\",\n      \"properties\": {\n        \"dtype\": \"uint8\",\n        \"num_unique_values\": 2,\n        \"samples\": [\n          0,\n          1\n        ],\n        \"semantic_type\": \"\",\n        \"description\": \"\"\n      }\n    },\n    {\n      \"column\": \"ownsership_tratado_None\",\n      \"properties\": {\n        \"dtype\": \"uint8\",\n        \"num_unique_values\": 2,\n        \"samples\": [\n          1,\n          0\n        ],\n        \"semantic_type\": \"\",\n        \"description\": \"\"\n      }\n    },\n    {\n      \"column\": \"ownsership_tratado_Second Owner\",\n      \"properties\": {\n        \"dtype\": \"uint8\",\n        \"num_unique_values\": 2,\n        \"samples\": [\n          1,\n          0\n        ],\n        \"semantic_type\": \"\",\n        \"description\": \"\"\n      }\n    },\n    {\n      \"column\": \"ownsership_tratado_Third Owner\",\n      \"properties\": {\n        \"dtype\": \"uint8\",\n        \"num_unique_values\": 2,\n        \"samples\": [\n          1,\n          0\n        ],\n        \"semantic_type\": \"\",\n        \"description\": \"\"\n      }\n    },\n    {\n      \"column\": \"transmission_tratado_Manual\",\n      \"properties\": {\n        \"dtype\": \"uint8\",\n        \"num_unique_values\": 2,\n        \"samples\": [\n          1,\n          0\n        ],\n        \"semantic_type\": \"\",\n        \"description\": \"\"\n      }\n    },\n    {\n      \"column\": \"transmission_tratado_None\",\n      \"properties\": {\n        \"dtype\": \"uint8\",\n        \"num_unique_values\": 2,\n        \"samples\": [\n          1,\n          0\n        ],\n        \"semantic_type\": \"\",\n        \"description\": \"\"\n      }\n    }\n  ]\n}"
            }
          },
          "metadata": {},
          "execution_count": 147
        }
      ]
    },
    {
      "cell_type": "code",
      "source": [
        "var_numerica.append('price')\n",
        "df_dummy = pd.get_dummies(df[var_cat + var_numerica],drop_first=True)\n",
        "df_dummy.to_csv('dado_tratado.csv')"
      ],
      "metadata": {
        "id": "by7086zZbmPA"
      },
      "execution_count": null,
      "outputs": []
    },
    {
      "cell_type": "markdown",
      "source": [
        "### Variáveis one hot\n",
        "\n",
        "Variáveis one hot encoding é uma representação de uma variável categórica com k categorias em k variáveis, todas as novas variáveis são binárias.\n",
        "\n",
        "Exemplo:\n",
        "Variável faixa de idade\n",
        "\n",
        "|Variável original|0-18|18-30|30-50|50+|\n",
        "|---|---|---|---|---|\n",
        "|0-18|1|0|0|0|\n",
        "|18-30|0|1|0|0|\n",
        "|30-50|0|0|1|0|\n",
        "|50+|0|0|0|1|\n",
        "\n",
        "Para criar variáveis dummy iremos utilizar a função get_dummy do pacote Pandas\n",
        "\n",
        "Exemplo:\n",
        "``` python\n",
        "import pandas as pd\n",
        "df_dummy = pd.get_dummy(df)\n",
        "```\n",
        "\n",
        "Exercícios:\n",
        "\n",
        "Crie uma variável dummy com representação one-hot encoding para o dado tratado."
      ],
      "metadata": {
        "id": "CZBHPoCXX03m"
      }
    },
    {
      "cell_type": "code",
      "source": [],
      "metadata": {
        "id": "Ir3_6UqqZvGi"
      },
      "execution_count": null,
      "outputs": []
    }
  ]
}