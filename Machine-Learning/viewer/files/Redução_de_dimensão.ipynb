{
  "cells": [
    {
      "cell_type": "markdown",
      "metadata": {
        "id": "5qs2p2eCb6ur"
      },
      "source": [
        "# Redução de dimensão\n",
        "---\n",
        "**Aula Prática 11**: Componentes principais (PCA)\n",
        "\n",
        "**Objetivo**: Reduzir o número de features de um dataset\n",
        "\n",
        "Banco de dados:\n",
        "\n",
        "\n",
        "**Breast cancer wisconsin dataset**\n",
        "\n",
        "\n",
        "Disponível via sklearn\n",
        "\n",
        "\n",
        "> Features are computed from a digitized image of a fine needle aspirate (FNA) of a breast mass.  They describe characteristics of the cell nuclei present in the image.\n",
        ">\n",
        "> 1) ID number\n",
        ">\n",
        "> 2) Diagnosis (0 = malignant, 1 = benign)\n",
        ">\n",
        "> 3-32)\n",
        ">\n",
        "> Ten real-valued features are computed for each cell nucleus:\n",
        ">\n",
        "> a) radius (mean of distances from center to points on the perimeter)\n",
        ">\n",
        "> b) texture (standard deviation of gray-scale values)\n",
        ">\n",
        "> c) perimeter\n",
        ">\n",
        "> d) area\n",
        ">\n",
        "> e) smoothness (local variation in radius lengths)\n",
        ">\n",
        "> f) compactness (perimeter^2 / area - 1.0)\n",
        ">\n",
        "> g) concavity (severity of concave portions of the contour)\n",
        ">\n",
        "> h) concave points (number of concave portions of the contour)\n",
        ">\n",
        "> i) symmetry\n",
        ">\n",
        "> j) fractal dimension (\"coastline approximation\" - 1)\n",
        "\n",
        "\n",
        "--------------------------------------------------------------\n",
        "## PCA\n",
        "\n",
        "Para realizar a decomposição com PCA utilizaremos o modulo PCA do sklearn\n",
        "\n",
        "```python\n",
        "from sklearn.decomposition import PCA\n",
        "pca = PCA(n_components=2)\n",
        "pca.fit(X)\n",
        "\n",
        "X_pac = pca.transform(X)\n",
        "```\n",
        "\n",
        "O unico parâmetro que necessitamos é o n_components número de componentes (nova dimensão) que teremos ao aplicar o PCA.\n",
        "\n",
        "Para se obter os vetores com os pesos de cada variável que gera a componente podemos acessar utilizando o seguinte comando:\n",
        "\n",
        "```python\n",
        "pac.components_\n",
        "```\n",
        "\n",
        "Cada componente explica uma variabilidade dos dados, quanto mais componentes maior será a variabilidade explicada, para se obter o percentual de variabilidade explicada por cada componente utilize o seguinte comando:\n",
        "```python\n",
        "pca.explained_variance_ratio_\n",
        "```"
      ]
    },
    {
      "cell_type": "code",
      "execution_count": null,
      "metadata": {
        "id": "ynpAXpWtHI9C"
      },
      "outputs": [],
      "source": [
        "from sklearn.datasets import load_breast_cancer"
      ]
    },
    {
      "cell_type": "code",
      "execution_count": null,
      "metadata": {
        "id": "mqRlRDi0Miz0"
      },
      "outputs": [],
      "source": [
        "cancer = load_breast_cancer()"
      ]
    },
    {
      "cell_type": "code",
      "execution_count": null,
      "metadata": {
        "id": "rLo8MyZCNM37"
      },
      "outputs": [],
      "source": [
        "##modulo para fazer a normalização dos dados\n",
        "from sklearn.preprocessing import StandardScaler"
      ]
    },
    {
      "cell_type": "code",
      "execution_count": null,
      "metadata": {
        "id": "hEVFN0uEMnMd"
      },
      "outputs": [],
      "source": [
        "scaler = StandardScaler()\n",
        "scaler.fit(cancer.data)\n",
        "X_scaled = scaler.transform(cancer.data)"
      ]
    },
    {
      "cell_type": "code",
      "execution_count": null,
      "metadata": {
        "id": "mzi7aVNQ7JWC"
      },
      "outputs": [],
      "source": [
        "cancer.data[:, 0]"
      ]
    },
    {
      "cell_type": "code",
      "execution_count": null,
      "metadata": {
        "id": "Bx7hjYEu7G9U"
      },
      "outputs": [],
      "source": [
        "X_scaled[:, 0]"
      ]
    },
    {
      "cell_type": "code",
      "execution_count": null,
      "metadata": {
        "id": "pnK59yXQMtnC"
      },
      "outputs": [],
      "source": [
        "###modulo para realizar a decomposição via PCA\n",
        "from sklearn.decomposition import PCA"
      ]
    },
    {
      "cell_type": "code",
      "execution_count": null,
      "metadata": {
        "id": "xs-8_0V8Mwtn"
      },
      "outputs": [],
      "source": [
        "pca = PCA(n_components=2) ##n_components define o número de componentes que teremos"
      ]
    },
    {
      "cell_type": "code",
      "execution_count": null,
      "metadata": {
        "id": "WaG2ThRVMzJi"
      },
      "outputs": [],
      "source": [
        "pca.fit(X_scaled)"
      ]
    },
    {
      "cell_type": "code",
      "execution_count": null,
      "metadata": {
        "id": "IyUJD-KQM1DD"
      },
      "outputs": [],
      "source": [
        "X_pca = pca.transform(X_scaled)"
      ]
    },
    {
      "cell_type": "code",
      "execution_count": null,
      "metadata": {
        "id": "LxtLxCiZ7YeH"
      },
      "outputs": [],
      "source": [
        "X_scaled.shape"
      ]
    },
    {
      "cell_type": "code",
      "execution_count": null,
      "metadata": {
        "id": "kfrppok57WX3"
      },
      "outputs": [],
      "source": [
        "X_pca"
      ]
    },
    {
      "cell_type": "markdown",
      "metadata": {
        "id": "MM5Ntfc7ctXL"
      },
      "source": [
        "## Visualizações"
      ]
    },
    {
      "cell_type": "code",
      "execution_count": null,
      "metadata": {
        "id": "tqu-F5aHM59r"
      },
      "outputs": [],
      "source": [
        "import plotly.express as px"
      ]
    },
    {
      "cell_type": "code",
      "execution_count": null,
      "metadata": {
        "id": "d1H1I2GlNiLt"
      },
      "outputs": [],
      "source": [
        "target = ['benigno' if v else 'maligno' for v in cancer.target]"
      ]
    },
    {
      "cell_type": "code",
      "execution_count": null,
      "metadata": {
        "id": "s5euGAZSM9_u"
      },
      "outputs": [],
      "source": [
        "px.scatter(x=X_pca[:, 0], y=X_pca[:, 1], color=target)"
      ]
    },
    {
      "cell_type": "code",
      "execution_count": null,
      "metadata": {
        "id": "mHYmOy4cORfz"
      },
      "outputs": [],
      "source": [
        "pca.components_"
      ]
    },
    {
      "cell_type": "code",
      "execution_count": null,
      "metadata": {
        "id": "tNsbA8LjOn3p"
      },
      "outputs": [],
      "source": [
        "sum(pca.explained_variance_ratio_)"
      ]
    },
    {
      "cell_type": "code",
      "execution_count": null,
      "metadata": {
        "id": "_TrAkjUYO0m3"
      },
      "outputs": [],
      "source": [
        "px.imshow(pca.components_,\n",
        "          x=cancer.feature_names,\n",
        "          y=['primeira_componente', 'segunda_componente'],\n",
        "          color_continuous_scale='RdBu_r')"
      ]
    }
  ],
  "metadata": {
    "colab": {
      "provenance": []
    },
    "kernelspec": {
      "display_name": "Python 3",
      "name": "python3"
    },
    "language_info": {
      "name": "python"
    }
  },
  "nbformat": 4,
  "nbformat_minor": 0
}
