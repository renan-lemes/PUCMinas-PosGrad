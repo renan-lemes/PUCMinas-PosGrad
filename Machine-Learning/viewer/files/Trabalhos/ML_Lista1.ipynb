{
 "cells": [
  {
   "cell_type": "markdown",
   "metadata": {},
   "source": [
    "## Lista1 - Machine Learning\n",
    "### Aluno: Valdiclei Costa Marinho\n",
    "### Aluno: Renan Lemes Leepkaln\n"
   ]
  },
  {
   "cell_type": "markdown",
   "metadata": {
    "id": "e9yTIwo6WDBU"
   },
   "source": [
    "Objetivo: treinar um modelo de classificação utilizando o modelo de regressão Logística e árvore de decisão.\n",
    "\n",
    "\n",
    "Banco utilizado: Detecção de doenças no fígado.\n",
    "\n",
    "\n",
    "[Link](https://drive.google.com/file/d/1jnLwuv4e_ZeCqluMXs3Mar2TGetumtVv/view?usp=drive_link) para o banco\n",
    "\n",
    "\n",
    "Descrição do banco:\n",
    "> Este banco contém registro de 416 pacientes diagnosticados com doença no fígado e 167 pacientes sem. Esta informação está na coluna Selector.\n",
    ">\n",
    "> Há 10 variáveis no banco:\n",
    ">\n",
    "> * age: idade\n",
    "> * Gender: gênero do paciente\n",
    "> * TB: Bilirrubina total\n",
    "> * DB: Bilirrubina direta\n",
    "> * Alkphos: fosfatase alcalina.\n",
    "> * Sgpt: transaminase glutâmico-pirúvica sérica (TGP)\n",
    "> * Sgot: transaminase glutâmico-oxalacética sérica (TGO)\n",
    "> * TP: Proteína total\n",
    "> * ALB: Albumina\n",
    "> * A/G Ratio: Relação Albumina:Globulina\n",
    "\n",
    "\n",
    "Exercício:\n",
    "\n",
    "\n",
    "1. Carregue o banco de dados e analise suas features. Transforme a feature sexo em uma variavel dummy.\n",
    "\n",
    "2. Separe o banco em 80% para treino e 20% para teste.\n",
    "\n",
    "3. Treine um modelo de regressão logística.    \n",
    "    3.1 Interprete dois coeficientes.\n",
    "    \n",
    "4. Treine um modelo de árvore de decisão. Utilize max_depth de 4.    \n",
    "    4.1 Quais são as duas features mais importantes?\n",
    "  \n",
    "5. Construa um relatório dos dois modelos. \n",
    "    5.1 Tomando como decisão a precisão para detectar doença no fígado qual é o melhor modelo?    \n",
    "    5.2 Tomando como decisão o f1 score do rótulo de pacientes com doença no fígado qual é o melhor modelo?\n",
    "\n",
    "\n",
    "Obs.: Utilize o **mesmo** banco de treino e de teste para construir e avaliar os dois modelos."
   ]
  },
  {
   "cell_type": "code",
   "execution_count": 27,
   "metadata": {},
   "outputs": [],
   "source": [
    "import pandas as pd\n",
    "import numpy as np\n",
    "import seaborn as sns\n",
    "import matplotlib.pyplot as plt\n",
    "from sklearn.model_selection import train_test_split\n",
    "from sklearn.linear_model import LogisticRegression\n",
    "from sklearn.tree import DecisionTreeClassifier, plot_tree\n",
    "from sklearn.metrics import accuracy_score, confusion_matrix, classification_report, log_loss, mean_squared_error, precision_recall_curve\n",
    "from sklearn.preprocessing import StandardScaler\n",
    "from sklearn.impute import SimpleImputer\n",
    "import math"
   ]
  },
  {
   "cell_type": "markdown",
   "metadata": {
    "id": "407ENJcYYaQN"
   },
   "source": [
    "## 1. Carga do banco\n",
    "--------------------"
   ]
  },
  {
   "cell_type": "code",
   "execution_count": 2,
   "metadata": {
    "id": "4zQuqod4V-Wp"
   },
   "outputs": [
    {
     "data": {
      "text/html": [
       "<div>\n",
       "<style scoped>\n",
       "    .dataframe tbody tr th:only-of-type {\n",
       "        vertical-align: middle;\n",
       "    }\n",
       "\n",
       "    .dataframe tbody tr th {\n",
       "        vertical-align: top;\n",
       "    }\n",
       "\n",
       "    .dataframe thead th {\n",
       "        text-align: right;\n",
       "    }\n",
       "</style>\n",
       "<table border=\"1\" class=\"dataframe\">\n",
       "  <thead>\n",
       "    <tr style=\"text-align: right;\">\n",
       "      <th></th>\n",
       "      <th>Age</th>\n",
       "      <th>Gender</th>\n",
       "      <th>TB</th>\n",
       "      <th>DB</th>\n",
       "      <th>Alkphos</th>\n",
       "      <th>Sgpt</th>\n",
       "      <th>Sgot</th>\n",
       "      <th>TP</th>\n",
       "      <th>ALB</th>\n",
       "      <th>A/G Ratio</th>\n",
       "      <th>Selector</th>\n",
       "    </tr>\n",
       "  </thead>\n",
       "  <tbody>\n",
       "    <tr>\n",
       "      <th>0</th>\n",
       "      <td>65</td>\n",
       "      <td>Female</td>\n",
       "      <td>0.7</td>\n",
       "      <td>0.1</td>\n",
       "      <td>187</td>\n",
       "      <td>16</td>\n",
       "      <td>18</td>\n",
       "      <td>6.8</td>\n",
       "      <td>3.3</td>\n",
       "      <td>0.90</td>\n",
       "      <td>1</td>\n",
       "    </tr>\n",
       "    <tr>\n",
       "      <th>1</th>\n",
       "      <td>62</td>\n",
       "      <td>Male</td>\n",
       "      <td>10.9</td>\n",
       "      <td>5.5</td>\n",
       "      <td>699</td>\n",
       "      <td>64</td>\n",
       "      <td>100</td>\n",
       "      <td>7.5</td>\n",
       "      <td>3.2</td>\n",
       "      <td>0.74</td>\n",
       "      <td>1</td>\n",
       "    </tr>\n",
       "    <tr>\n",
       "      <th>2</th>\n",
       "      <td>62</td>\n",
       "      <td>Male</td>\n",
       "      <td>7.3</td>\n",
       "      <td>4.1</td>\n",
       "      <td>490</td>\n",
       "      <td>60</td>\n",
       "      <td>68</td>\n",
       "      <td>7.0</td>\n",
       "      <td>3.3</td>\n",
       "      <td>0.89</td>\n",
       "      <td>1</td>\n",
       "    </tr>\n",
       "    <tr>\n",
       "      <th>3</th>\n",
       "      <td>58</td>\n",
       "      <td>Male</td>\n",
       "      <td>1.0</td>\n",
       "      <td>0.4</td>\n",
       "      <td>182</td>\n",
       "      <td>14</td>\n",
       "      <td>20</td>\n",
       "      <td>6.8</td>\n",
       "      <td>3.4</td>\n",
       "      <td>1.00</td>\n",
       "      <td>1</td>\n",
       "    </tr>\n",
       "    <tr>\n",
       "      <th>4</th>\n",
       "      <td>72</td>\n",
       "      <td>Male</td>\n",
       "      <td>3.9</td>\n",
       "      <td>2.0</td>\n",
       "      <td>195</td>\n",
       "      <td>27</td>\n",
       "      <td>59</td>\n",
       "      <td>7.3</td>\n",
       "      <td>2.4</td>\n",
       "      <td>0.40</td>\n",
       "      <td>1</td>\n",
       "    </tr>\n",
       "  </tbody>\n",
       "</table>\n",
       "</div>"
      ],
      "text/plain": [
       "   Age  Gender    TB   DB  Alkphos  Sgpt  Sgot   TP  ALB  A/G Ratio  Selector\n",
       "0   65  Female   0.7  0.1      187    16    18  6.8  3.3       0.90         1\n",
       "1   62    Male  10.9  5.5      699    64   100  7.5  3.2       0.74         1\n",
       "2   62    Male   7.3  4.1      490    60    68  7.0  3.3       0.89         1\n",
       "3   58    Male   1.0  0.4      182    14    20  6.8  3.4       1.00         1\n",
       "4   72    Male   3.9  2.0      195    27    59  7.3  2.4       0.40         1"
      ]
     },
     "execution_count": 2,
     "metadata": {},
     "output_type": "execute_result"
    }
   ],
   "source": [
    "df = pd.read_csv('Indian Liver Patient Dataset (ILPD).csv')\n",
    "df.head()"
   ]
  },
  {
   "cell_type": "code",
   "execution_count": 3,
   "metadata": {},
   "outputs": [
    {
     "data": {
      "text/html": [
       "<div>\n",
       "<style scoped>\n",
       "    .dataframe tbody tr th:only-of-type {\n",
       "        vertical-align: middle;\n",
       "    }\n",
       "\n",
       "    .dataframe tbody tr th {\n",
       "        vertical-align: top;\n",
       "    }\n",
       "\n",
       "    .dataframe thead th {\n",
       "        text-align: right;\n",
       "    }\n",
       "</style>\n",
       "<table border=\"1\" class=\"dataframe\">\n",
       "  <thead>\n",
       "    <tr style=\"text-align: right;\">\n",
       "      <th></th>\n",
       "      <th>Age</th>\n",
       "      <th>TB</th>\n",
       "      <th>DB</th>\n",
       "      <th>Alkphos</th>\n",
       "      <th>Sgpt</th>\n",
       "      <th>Sgot</th>\n",
       "      <th>TP</th>\n",
       "      <th>ALB</th>\n",
       "      <th>A/G Ratio</th>\n",
       "      <th>Selector</th>\n",
       "    </tr>\n",
       "  </thead>\n",
       "  <tbody>\n",
       "    <tr>\n",
       "      <th>count</th>\n",
       "      <td>583.0</td>\n",
       "      <td>583.0</td>\n",
       "      <td>583.0</td>\n",
       "      <td>583.0</td>\n",
       "      <td>583.0</td>\n",
       "      <td>583.0</td>\n",
       "      <td>583.0</td>\n",
       "      <td>583.0</td>\n",
       "      <td>579.0</td>\n",
       "      <td>583.0</td>\n",
       "    </tr>\n",
       "    <tr>\n",
       "      <th>mean</th>\n",
       "      <td>45.0</td>\n",
       "      <td>3.0</td>\n",
       "      <td>1.0</td>\n",
       "      <td>291.0</td>\n",
       "      <td>81.0</td>\n",
       "      <td>110.0</td>\n",
       "      <td>6.0</td>\n",
       "      <td>3.0</td>\n",
       "      <td>1.0</td>\n",
       "      <td>1.0</td>\n",
       "    </tr>\n",
       "    <tr>\n",
       "      <th>std</th>\n",
       "      <td>16.0</td>\n",
       "      <td>6.0</td>\n",
       "      <td>3.0</td>\n",
       "      <td>243.0</td>\n",
       "      <td>183.0</td>\n",
       "      <td>289.0</td>\n",
       "      <td>1.0</td>\n",
       "      <td>1.0</td>\n",
       "      <td>0.0</td>\n",
       "      <td>0.0</td>\n",
       "    </tr>\n",
       "    <tr>\n",
       "      <th>min</th>\n",
       "      <td>4.0</td>\n",
       "      <td>0.0</td>\n",
       "      <td>0.0</td>\n",
       "      <td>63.0</td>\n",
       "      <td>10.0</td>\n",
       "      <td>10.0</td>\n",
       "      <td>3.0</td>\n",
       "      <td>1.0</td>\n",
       "      <td>0.0</td>\n",
       "      <td>1.0</td>\n",
       "    </tr>\n",
       "    <tr>\n",
       "      <th>25%</th>\n",
       "      <td>33.0</td>\n",
       "      <td>1.0</td>\n",
       "      <td>0.0</td>\n",
       "      <td>176.0</td>\n",
       "      <td>23.0</td>\n",
       "      <td>25.0</td>\n",
       "      <td>6.0</td>\n",
       "      <td>3.0</td>\n",
       "      <td>1.0</td>\n",
       "      <td>1.0</td>\n",
       "    </tr>\n",
       "    <tr>\n",
       "      <th>50%</th>\n",
       "      <td>45.0</td>\n",
       "      <td>1.0</td>\n",
       "      <td>0.0</td>\n",
       "      <td>208.0</td>\n",
       "      <td>35.0</td>\n",
       "      <td>42.0</td>\n",
       "      <td>7.0</td>\n",
       "      <td>3.0</td>\n",
       "      <td>1.0</td>\n",
       "      <td>1.0</td>\n",
       "    </tr>\n",
       "    <tr>\n",
       "      <th>75%</th>\n",
       "      <td>58.0</td>\n",
       "      <td>3.0</td>\n",
       "      <td>1.0</td>\n",
       "      <td>298.0</td>\n",
       "      <td>60.0</td>\n",
       "      <td>87.0</td>\n",
       "      <td>7.0</td>\n",
       "      <td>4.0</td>\n",
       "      <td>1.0</td>\n",
       "      <td>2.0</td>\n",
       "    </tr>\n",
       "    <tr>\n",
       "      <th>max</th>\n",
       "      <td>90.0</td>\n",
       "      <td>75.0</td>\n",
       "      <td>20.0</td>\n",
       "      <td>2110.0</td>\n",
       "      <td>2000.0</td>\n",
       "      <td>4929.0</td>\n",
       "      <td>10.0</td>\n",
       "      <td>6.0</td>\n",
       "      <td>3.0</td>\n",
       "      <td>2.0</td>\n",
       "    </tr>\n",
       "  </tbody>\n",
       "</table>\n",
       "</div>"
      ],
      "text/plain": [
       "         Age     TB     DB  Alkphos    Sgpt    Sgot     TP    ALB  A/G Ratio  \\\n",
       "count  583.0  583.0  583.0    583.0   583.0   583.0  583.0  583.0      579.0   \n",
       "mean    45.0    3.0    1.0    291.0    81.0   110.0    6.0    3.0        1.0   \n",
       "std     16.0    6.0    3.0    243.0   183.0   289.0    1.0    1.0        0.0   \n",
       "min      4.0    0.0    0.0     63.0    10.0    10.0    3.0    1.0        0.0   \n",
       "25%     33.0    1.0    0.0    176.0    23.0    25.0    6.0    3.0        1.0   \n",
       "50%     45.0    1.0    0.0    208.0    35.0    42.0    7.0    3.0        1.0   \n",
       "75%     58.0    3.0    1.0    298.0    60.0    87.0    7.0    4.0        1.0   \n",
       "max     90.0   75.0   20.0   2110.0  2000.0  4929.0   10.0    6.0        3.0   \n",
       "\n",
       "       Selector  \n",
       "count     583.0  \n",
       "mean        1.0  \n",
       "std         0.0  \n",
       "min         1.0  \n",
       "25%         1.0  \n",
       "50%         1.0  \n",
       "75%         2.0  \n",
       "max         2.0  "
      ]
     },
     "execution_count": 3,
     "metadata": {},
     "output_type": "execute_result"
    }
   ],
   "source": [
    "df.describe().round()"
   ]
  },
  {
   "cell_type": "code",
   "execution_count": 4,
   "metadata": {},
   "outputs": [
    {
     "name": "stdout",
     "output_type": "stream",
     "text": [
      "total de linhas: 583\n"
     ]
    }
   ],
   "source": [
    "print(\"total de linhas:\", df.shape[0])"
   ]
  },
  {
   "cell_type": "code",
   "execution_count": 5,
   "metadata": {},
   "outputs": [
    {
     "name": "stdout",
     "output_type": "stream",
     "text": [
      "total de colunas: 11\n"
     ]
    }
   ],
   "source": [
    "print(\"total de colunas:\", df.shape[1])"
   ]
  },
  {
   "cell_type": "markdown",
   "metadata": {},
   "source": [
    "#### Verifica valores ausentes"
   ]
  },
  {
   "cell_type": "code",
   "execution_count": 6,
   "metadata": {},
   "outputs": [
    {
     "data": {
      "text/html": [
       "<div>\n",
       "<style scoped>\n",
       "    .dataframe tbody tr th:only-of-type {\n",
       "        vertical-align: middle;\n",
       "    }\n",
       "\n",
       "    .dataframe tbody tr th {\n",
       "        vertical-align: top;\n",
       "    }\n",
       "\n",
       "    .dataframe thead th {\n",
       "        text-align: right;\n",
       "    }\n",
       "</style>\n",
       "<table border=\"1\" class=\"dataframe\">\n",
       "  <thead>\n",
       "    <tr style=\"text-align: right;\">\n",
       "      <th></th>\n",
       "      <th>Age</th>\n",
       "      <th>Gender</th>\n",
       "      <th>TB</th>\n",
       "      <th>DB</th>\n",
       "      <th>Alkphos</th>\n",
       "      <th>Sgpt</th>\n",
       "      <th>Sgot</th>\n",
       "      <th>TP</th>\n",
       "      <th>ALB</th>\n",
       "      <th>A/G Ratio</th>\n",
       "      <th>Selector</th>\n",
       "    </tr>\n",
       "  </thead>\n",
       "  <tbody>\n",
       "    <tr>\n",
       "      <th>209</th>\n",
       "      <td>45</td>\n",
       "      <td>Female</td>\n",
       "      <td>0.9</td>\n",
       "      <td>0.3</td>\n",
       "      <td>189</td>\n",
       "      <td>23</td>\n",
       "      <td>33</td>\n",
       "      <td>6.6</td>\n",
       "      <td>3.9</td>\n",
       "      <td>NaN</td>\n",
       "      <td>1</td>\n",
       "    </tr>\n",
       "    <tr>\n",
       "      <th>241</th>\n",
       "      <td>51</td>\n",
       "      <td>Male</td>\n",
       "      <td>0.8</td>\n",
       "      <td>0.2</td>\n",
       "      <td>230</td>\n",
       "      <td>24</td>\n",
       "      <td>46</td>\n",
       "      <td>6.5</td>\n",
       "      <td>3.1</td>\n",
       "      <td>NaN</td>\n",
       "      <td>1</td>\n",
       "    </tr>\n",
       "    <tr>\n",
       "      <th>253</th>\n",
       "      <td>35</td>\n",
       "      <td>Female</td>\n",
       "      <td>0.6</td>\n",
       "      <td>0.2</td>\n",
       "      <td>180</td>\n",
       "      <td>12</td>\n",
       "      <td>15</td>\n",
       "      <td>5.2</td>\n",
       "      <td>2.7</td>\n",
       "      <td>NaN</td>\n",
       "      <td>2</td>\n",
       "    </tr>\n",
       "    <tr>\n",
       "      <th>312</th>\n",
       "      <td>27</td>\n",
       "      <td>Male</td>\n",
       "      <td>1.3</td>\n",
       "      <td>0.6</td>\n",
       "      <td>106</td>\n",
       "      <td>25</td>\n",
       "      <td>54</td>\n",
       "      <td>8.5</td>\n",
       "      <td>4.8</td>\n",
       "      <td>NaN</td>\n",
       "      <td>2</td>\n",
       "    </tr>\n",
       "  </tbody>\n",
       "</table>\n",
       "</div>"
      ],
      "text/plain": [
       "     Age  Gender   TB   DB  Alkphos  Sgpt  Sgot   TP  ALB  A/G Ratio  Selector\n",
       "209   45  Female  0.9  0.3      189    23    33  6.6  3.9        NaN         1\n",
       "241   51    Male  0.8  0.2      230    24    46  6.5  3.1        NaN         1\n",
       "253   35  Female  0.6  0.2      180    12    15  5.2  2.7        NaN         2\n",
       "312   27    Male  1.3  0.6      106    25    54  8.5  4.8        NaN         2"
      ]
     },
     "execution_count": 6,
     "metadata": {},
     "output_type": "execute_result"
    }
   ],
   "source": [
    "df[df.isna().any(axis=1)]"
   ]
  },
  {
   "cell_type": "code",
   "execution_count": 7,
   "metadata": {},
   "outputs": [
    {
     "data": {
      "text/plain": [
       "A/G Ratio    0.006861\n",
       "dtype: float64"
      ]
     },
     "execution_count": 7,
     "metadata": {},
     "output_type": "execute_result"
    }
   ],
   "source": [
    "df[['A/G Ratio']].isna().sum().sort_index()/len(df)"
   ]
  },
  {
   "cell_type": "code",
   "execution_count": 8,
   "metadata": {},
   "outputs": [],
   "source": [
    "df = df.dropna(how='any')"
   ]
  },
  {
   "cell_type": "markdown",
   "metadata": {},
   "source": [
    "#### Criar variáveis dummy para 'Gender'"
   ]
  },
  {
   "cell_type": "code",
   "execution_count": 9,
   "metadata": {},
   "outputs": [
    {
     "data": {
      "text/plain": [
       "array(['Female', 'Male'], dtype=object)"
      ]
     },
     "execution_count": 9,
     "metadata": {},
     "output_type": "execute_result"
    }
   ],
   "source": [
    "df['Gender'].unique()"
   ]
  },
  {
   "cell_type": "code",
   "execution_count": 10,
   "metadata": {},
   "outputs": [],
   "source": [
    "df['Gender'] = df['Gender'].map({'Male': 0, 'Female': 1})"
   ]
  },
  {
   "cell_type": "markdown",
   "metadata": {},
   "source": [
    "#### Lista columns por dtype"
   ]
  },
  {
   "cell_type": "code",
   "execution_count": 11,
   "metadata": {},
   "outputs": [
    {
     "name": "stdout",
     "output_type": "stream",
     "text": [
      "int64: ['Age', 'Gender', 'Alkphos', 'Sgpt', 'Sgot', 'Selector']\n",
      "\n",
      "float64: ['TB', 'DB', 'TP', 'ALB', 'A/G Ratio']\n",
      "\n"
     ]
    }
   ],
   "source": [
    "columns_by_dtype = {}\n",
    "for col, dtype in df.dtypes.items():\n",
    "    if dtype not in columns_by_dtype:\n",
    "        columns_by_dtype[dtype] = [col]\n",
    "    else:\n",
    "        columns_by_dtype[dtype].append(col)\n",
    "\n",
    "# Imprimir as colunas agrupadas por tipo de dados\n",
    "for dtype, columns in columns_by_dtype.items():\n",
    "    print(f\"{dtype}: {columns}\")\n",
    "    print()"
   ]
  },
  {
   "cell_type": "markdown",
   "metadata": {},
   "source": [
    "### Matrix de Correlação\n",
    "- Como as variáveis comportamentais estão relacionadas com a detecção de doenças no fígado?\n",
    "- Como as variáveis de comportamento estão relacionadas entre si?"
   ]
  },
  {
   "cell_type": "code",
   "execution_count": 12,
   "metadata": {},
   "outputs": [],
   "source": [
    "behavioral_vars = df\n",
    "correlation_matrix = behavioral_vars.corr()"
   ]
  },
  {
   "cell_type": "code",
   "execution_count": 13,
   "metadata": {},
   "outputs": [
    {
     "data": {
      "image/png": "[encoded data removed]",
      "text/plain": [
       "<Figure size 1000x600 with 2 Axes>"
      ]
     },
     "metadata": {},
     "output_type": "display_data"
    }
   ],
   "source": [
    "plt.figure(figsize=(10, 6))\n",
    "sns.heatmap(correlation_matrix, annot=True, cmap='coolwarm', fmt=\".2f\", annot_kws={\"size\": 12})\n",
    "plt.title('Matriz de Correlação das Variáveis Independentes')\n",
    "plt.show()"
   ]
  },
  {
   "cell_type": "markdown",
   "metadata": {},
   "source": [
    "#### Classificação das correlações em relação a variável dependente"
   ]
  },
  {
   "cell_type": "code",
   "execution_count": 14,
   "metadata": {},
   "outputs": [],
   "source": [
    "def classificar_correlacao(correlacao):\n",
    "    if abs(correlacao) >= 0.7:\n",
    "        return 'Forte'\n",
    "    elif abs(correlacao) >= 0.3:\n",
    "        return 'Moderada'\n",
    "    else:\n",
    "        return 'Fraca' "
   ]
  },
  {
   "cell_type": "code",
   "execution_count": 15,
   "metadata": {},
   "outputs": [
    {
     "name": "stdout",
     "output_type": "stream",
     "text": [
      "Selector: 1.000000 - Forte\n",
      "A/G Ratio: 0.163131 - Fraca\n",
      "ALB: 0.159770 - Fraca\n",
      "Gender: 0.081349 - Fraca\n",
      "TP: 0.033614 - Fraca\n",
      "Age: -0.133164 - Fraca\n",
      "Sgot: -0.151834 - Fraca\n",
      "Sgpt: -0.163117 - Fraca\n",
      "Alkphos: -0.183363 - Fraca\n",
      "TB: -0.220218 - Fraca\n",
      "DB: -0.246273 - Fraca\n"
     ]
    }
   ],
   "source": [
    "corr_matrix = df.corr(numeric_only=True)\n",
    "    \n",
    "for variavel, correlacao in corr_matrix['Selector'].sort_values(ascending=False).items():\n",
    "    classificacao = classificar_correlacao(correlacao)\n",
    "    print(f'{variavel}: {correlacao:.6f} - {classificacao}')"
   ]
  },
  {
   "cell_type": "markdown",
   "metadata": {},
   "source": [
    "- **A/G Ratio (0.163131) e ALB (0.159770):**\n",
    "Ambas têm correlações fracas, mas positivas, com Selector. A correlação positiva indica que, à medida que uma dessas variáveis aumenta, a probabilidade do resultado (ou a classificação em Selector) também aumenta. No entanto, com correlações abaixo de 0.2, é improvável que esses valores tenham uma influência significativa no resultado.\n",
    "\n",
    "- **Gender (0.081349), TP (0.033614):**\n",
    "Correlações muito fracas ou quase inexistentes, indicando que essas variáveis provavelmente não têm uma influência significativa no resultado.\n",
    "\n",
    "- **Age (-0.133164):**\n",
    "Uma correlação fraca e negativa com Selector. Isso sugere que, à medida que a idade aumenta, a probabilidade do resultado (ou a classificação) diminui. No entanto, a correlação é fraca, indicando uma influência leve.\n",
    "\n",
    "- **Sgot (-0.151834), Sgpt (-0.163117), Alkphos (-0.183363), TB (-0.220218), DB (-0.246273):**\n",
    "Estas variáveis apresentam correlações negativas e fracas com Selector, indicando que aumentos nessas variáveis estão associados a uma redução na probabilidade do resultado (ou mudança na classificação). Como a correlação é fraca, a influência não é significativa.\n",
    "\n",
    "Como todas as correlações (exceto a do próprio Selector) são fracas, isso pode indicar que essas variáveis têm pouca influência significativa sobre a variável alvo."
   ]
  },
  {
   "cell_type": "markdown",
   "metadata": {},
   "source": [
    "#### Separar recursos e variável alvo"
   ]
  },
  {
   "cell_type": "code",
   "execution_count": 16,
   "metadata": {},
   "outputs": [],
   "source": [
    "X = df.drop('Selector', axis=1)\n",
    "y = df['Selector']"
   ]
  },
  {
   "cell_type": "markdown",
   "metadata": {},
   "source": [
    "#### Transformação em valores binários"
   ]
  },
  {
   "cell_type": "code",
   "execution_count": 17,
   "metadata": {},
   "outputs": [],
   "source": [
    "y = (y == 1).astype(int)  # Transforma em 0 ou 1"
   ]
  },
  {
   "cell_type": "markdown",
   "metadata": {},
   "source": [
    "#### Verificar a distribuição das classes"
   ]
  },
  {
   "cell_type": "code",
   "execution_count": 18,
   "metadata": {},
   "outputs": [
    {
     "name": "stdout",
     "output_type": "stream",
     "text": [
      "Distribuição das classes:\n",
      "Selector\n",
      "1    414\n",
      "0    165\n",
      "Name: count, dtype: int64\n"
     ]
    }
   ],
   "source": [
    "class_counts = y.value_counts()\n",
    "print(\"Distribuição das classes:\")\n",
    "print(class_counts)"
   ]
  },
  {
   "cell_type": "markdown",
   "metadata": {},
   "source": [
    "Conjunto de dados desequilibrado, resultado uma acurácia enganosa. Desta forma, usaremos métricas como precisão, recall, F1-Score e matriz de confusão para entender melhor o desempenho do modelo em cada classe."
   ]
  },
  {
   "cell_type": "markdown",
   "metadata": {},
   "source": [
    "#### Dividir em conjuntos de treinamento e teste (80% para treino e 20% para teste)"
   ]
  },
  {
   "cell_type": "code",
   "execution_count": 20,
   "metadata": {},
   "outputs": [],
   "source": [
    "X_train, X_test, y_train, y_test = train_test_split(X, y, test_size=0.2, random_state=42)"
   ]
  },
  {
   "cell_type": "markdown",
   "metadata": {},
   "source": [
    "### 2. Treinamento do Modelo de Regressão Logística\n",
    "--------------------"
   ]
  },
  {
   "cell_type": "code",
   "execution_count": 21,
   "metadata": {},
   "outputs": [
    {
     "name": "stdout",
     "output_type": "stream",
     "text": [
      "Optimization terminated successfully.\n",
      "         Current function value: 0.490445\n",
      "         Iterations 9\n",
      "                           Logit Regression Results                           \n",
      "==============================================================================\n",
      "Dep. Variable:               Selector   No. Observations:                  579\n",
      "Model:                          Logit   Df Residuals:                      568\n",
      "Method:                           MLE   Df Model:                           10\n",
      "Date:                Mon, 29 Apr 2024   Pseudo R-squ.:                  0.1793\n",
      "Time:                        00:12:15   Log-Likelihood:                -283.97\n",
      "converged:                       True   LL-Null:                       -346.00\n",
      "Covariance Type:            nonrobust   LLR p-value:                 7.525e-22\n",
      "==============================================================================\n",
      "                 coef    std err          z      P>|z|      [0.025      0.975]\n",
      "------------------------------------------------------------------------------\n",
      "const         -3.5737      1.333     -2.681      0.007      -6.186      -0.961\n",
      "Age            0.0183      0.006      2.868      0.004       0.006       0.031\n",
      "Gender        -0.0310      0.233     -0.133      0.894      -0.487       0.425\n",
      "TB             0.0112      0.087      0.129      0.897      -0.159       0.182\n",
      "DB             0.4497      0.241      1.862      0.063      -0.024       0.923\n",
      "Alkphos        0.0013      0.001      1.572      0.116      -0.000       0.003\n",
      "Sgpt           0.0119      0.005      2.339      0.019       0.002       0.022\n",
      "Sgot           0.0025      0.003      0.793      0.428      -0.004       0.009\n",
      "TP             0.9274      0.381      2.431      0.015       0.180       1.675\n",
      "ALB           -1.6951      0.748     -2.266      0.023      -3.161      -0.229\n",
      "A/G Ratio      1.8081      1.141      1.585      0.113      -0.428       4.044\n",
      "==============================================================================\n"
     ]
    }
   ],
   "source": [
    "import statsmodels.api as sm\n",
    "# Adiciona uma constante à matriz de características para calcular o termo de interceptação do modelo\n",
    "X = sm.add_constant(X)\n",
    "\n",
    "# Ajusta o modelo de regressão logística\n",
    "model = sm.Logit(y, X)\n",
    "result = model.fit()\n",
    "\n",
    "# Imprime os coeficientes de regressão e os valores p associados\n",
    "print(result.summary())"
   ]
  },
  {
   "cell_type": "markdown",
   "metadata": {},
   "source": [
    "#### Extrair os coeficientes do resumo"
   ]
  },
  {
   "cell_type": "code",
   "execution_count": 22,
   "metadata": {},
   "outputs": [
    {
     "data": {
      "text/plain": [
       "A/G Ratio    1.808051\n",
       "TP           0.927382\n",
       "DB           0.449684\n",
       "Age          0.018292\n",
       "Sgpt         0.011930\n",
       "TB           0.011227\n",
       "Sgot         0.002473\n",
       "Alkphos      0.001270\n",
       "Gender      -0.030993\n",
       "ALB         -1.695139\n",
       "const       -3.573650\n",
       "dtype: float64"
      ]
     },
     "execution_count": 22,
     "metadata": {},
     "output_type": "execute_result"
    }
   ],
   "source": [
    "coeficients = result.params\n",
    "coeficients.sort_values(ascending=False)"
   ]
  },
  {
   "cell_type": "markdown",
   "metadata": {},
   "source": [
    "#### Extrair os valores P (p-values) do resumo"
   ]
  },
  {
   "cell_type": "code",
   "execution_count": 23,
   "metadata": {},
   "outputs": [
    {
     "data": {
      "text/plain": [
       "Age          0.004132\n",
       "const        0.007343\n",
       "TP           0.015043\n",
       "Sgpt         0.019334\n",
       "ALB          0.023452\n",
       "DB           0.062592\n",
       "A/G Ratio    0.113017\n",
       "Alkphos      0.115941\n",
       "Sgot         0.428009\n",
       "Gender       0.894111\n",
       "TB           0.897243\n",
       "dtype: float64"
      ]
     },
     "execution_count": 23,
     "metadata": {},
     "output_type": "execute_result"
    }
   ],
   "source": [
    "p_values = result.pvalues\n",
    "p_values.sort_values(ascending=True)"
   ]
  },
  {
   "cell_type": "code",
   "execution_count": 24,
   "metadata": {},
   "outputs": [],
   "source": [
    "def avaliar_significancia(p_values, alpha=0.05):\n",
    "    significativos = []\n",
    "    nao_significativos = []\n",
    "    \n",
    "    # Iterar sobre os valores P\n",
    "    for variavel, p_valor in p_values.items():\n",
    "        # Verificar se o p-valor é menor que o nível de significância (alpha)\n",
    "        if p_valor < alpha:\n",
    "            significativos.append(variavel)\n",
    "        else:\n",
    "            nao_significativos.append(variavel)\n",
    "    \n",
    "    return significativos, nao_significativos"
   ]
  },
  {
   "cell_type": "code",
   "execution_count": 25,
   "metadata": {},
   "outputs": [
    {
     "name": "stdout",
     "output_type": "stream",
     "text": [
      "Variáveis com p-values significativos: ['const', 'Age', 'Sgpt', 'TP', 'ALB']\n",
      "\n",
      "Variáveis com p-values não significativos: ['Gender', 'TB', 'DB', 'Alkphos', 'Sgot', 'A/G Ratio']\n"
     ]
    }
   ],
   "source": [
    "significativos, nao_significativos = avaliar_significancia(p_values)\n",
    "print(\"Variáveis com p-values significativos:\", significativos)\n",
    "print()\n",
    "print(\"Variáveis com p-values não significativos:\", nao_significativos)"
   ]
  },
  {
   "cell_type": "markdown",
   "metadata": {},
   "source": [
    "### Simplificação do Modelo"
   ]
  },
  {
   "cell_type": "code",
   "execution_count": 28,
   "metadata": {},
   "outputs": [
    {
     "name": "stdout",
     "output_type": "stream",
     "text": [
      "Acurácia do modelo: 0.6293103448275862\n",
      "\n",
      "Mean Squared Error: 0.3706896551724138\n",
      "\n",
      "Root Mean Squared Error: 0.608842882172744\n",
      "\n",
      "Matriz de Confusão:\n",
      "[[71  2]\n",
      " [41  2]]\n",
      "\n",
      "Relatório de Classificação:\n",
      "              precision    recall  f1-score   support\n",
      "\n",
      "           1       0.63      0.97      0.77        73\n",
      "           2       0.50      0.05      0.09        43\n",
      "\n",
      "    accuracy                           0.63       116\n",
      "   macro avg       0.57      0.51      0.43       116\n",
      "weighted avg       0.58      0.63      0.51       116\n",
      "\n",
      "\n"
     ]
    }
   ],
   "source": [
    "# Dividir os dados em variáveis independentes (X) e variável dependente (y)\n",
    "X = df[['Age', 'Sgpt', 'TP', 'ALB']]\n",
    "y = df['Selector']\n",
    "\n",
    "# Dividir os dados em conjuntos de treinamento e teste\n",
    "X_train, X_test, y_train, y_test = train_test_split(X, y, test_size=0.2, random_state=42)\n",
    "\n",
    "# Padroniza os dados\n",
    "scaler = StandardScaler()\n",
    "X_train_scaled = scaler.fit_transform(X_train)\n",
    "X_test_scaled = scaler.transform(X_test)\n",
    "\n",
    "# Cria e ajusta o modelo de regressão multinomial\n",
    "model = LogisticRegression(multi_class='multinomial', solver='lbfgs')\n",
    "model.fit(X_train_scaled, y_train)\n",
    "\n",
    "# Probabilidades do conjunto de teste\n",
    "y_pred_proba = model.predict_proba(X_test_scaled)\n",
    "\n",
    "# Predição dos resultados do conjunto de teste\n",
    "y_pred = model.predict(X_test_scaled)\n",
    "\n",
    "# Avaliação da precisão do modelo\n",
    "accuracy = accuracy_score(y_test, y_pred)\n",
    "print(\"Acurácia do modelo:\", accuracy)\n",
    "print()\n",
    "\n",
    "# Calcular o MSE\n",
    "mse = mean_squared_error(y_test, y_pred)\n",
    "print(\"Mean Squared Error:\", mse)\n",
    "print()\n",
    "\n",
    "# Calcular o RMSE\n",
    "rmse = math.sqrt(mse)\n",
    "print(\"Root Mean Squared Error:\", rmse)\n",
    "print()\n",
    "\n",
    "# Matriz de Confusão\n",
    "conf_matrix = confusion_matrix(y_test, y_pred)\n",
    "print(\"Matriz de Confusão:\")\n",
    "print(conf_matrix)\n",
    "print()\n",
    "\n",
    "# Relatório de Classificação\n",
    "class_report = classification_report(y_test, y_pred)\n",
    "print(\"Relatório de Classificação:\")\n",
    "print(class_report)\n",
    "print()\n",
    "\n",
    "# Identificar os índices onde o modelo errou\n",
    "error_indices = np.where(y_test != y_pred)[0]\n",
    "\n",
    "#Coeficientes do modelo\n",
    "coeficientes = model.coef_\n",
    "intercepto = model.intercept_"
   ]
  },
  {
   "cell_type": "markdown",
   "metadata": {},
   "source": [
    "### Interpretação dois coeficientes."
   ]
  },
  {
   "cell_type": "markdown",
   "metadata": {},
   "source": [
    "**Acurácia**: A acurácia (accuracy) é a proporção de previsões corretas em relação ao total de previsões. A acurácia do modelo é cerca de 0.629, ou seja, 62,93%. Isso significa que o modelo está acertando aproximadamente 63% das previsões.\n",
    "\n",
    "**Matriz de Confusão**: A matriz de confusão ajuda a visualizar como o modelo se saiu para cada classe:\n",
    "\n",
    "- True Positives (TP): Previsões corretas para a classe 1 (71).\n",
    "- True Negatives (TN): Previsões corretas para a classe 2 (2).\n",
    "- False Positives (FP): Previsões erradas para a classe 1 que deveriam ser classe 2 (2).\n",
    "- False Negatives (FN): Previsões erradas para a classe 2 que deveriam ser classe 1 (41).\n",
    "\n",
    "A matriz mostra que o modelo está identificando bem a classe 1, mas não está identificando corretamente a classe 2.\n",
    "\n",
    "**Relatório de Classificação**\n",
    "O relatório de classificação fornece métricas mais detalhadas para cada classe:\n",
    "\n",
    "-**Precision**: A precisão para a classe 1 é 0.63, significando que das previsões feitas para essa classe, 63% estavam corretas. Para a classe 2, a precisão é 0.50.\n",
    "\n",
    "-**Recall**: O recall para a classe 1 é 0.97, indicando que o modelo identifica 97% dos verdadeiros exemplos da classe 1. Para a classe 2, o recall é apenas 0.05, indicando que apenas 5% dos verdadeiros exemplos dessa classe foram identificados corretamente.\n",
    "\n",
    "-**F1-Score**:\n",
    "O F1-Score é a média harmônica entre precisão e recall. O F1-Score para a classe 1 é 0.77, e para a classe 2 é 0.09, indicando que o modelo tem dificuldade em lidar com a classe 2.\n",
    "\n",
    "-**Macro e Weighted Average**:\n",
    "O macro average calcula a média entre as classes, tratando cada classe igualmente, enquanto o weighted average considera o tamanho de cada classe. Os valores baixos para essas métricas indicam uma discrepância entre o desempenho nas diferentes classes.\n",
    "\n",
    "**Conclusões**\n",
    "O modelo parece ter bom desempenho para a classe 1, mas um desempenho fraco para a classe 2. Isso pode ser devido a um desequilíbrio nas classes, problemas de overfitting ou características inadequadas para separar as classes.\n",
    "\n",
    "Para melhorar o desempenho do modelo, você pode considerar:\n",
    "\n",
    "Rebalanceamento das Classes: Usar técnicas como sobremostragem ou subamostragem para equilibrar as classes.\n",
    "Ajuste de Hiperparâmetros: Experimentar com diferentes configurações do modelo.\n",
    "Recursos Adicionais: Incluir mais variáveis relevantes para ajudar o modelo a distinguir entre as classes."
   ]
  },
  {
   "cell_type": "markdown",
   "metadata": {},
   "source": [
    "#### Log Loss"
   ]
  },
  {
   "cell_type": "code",
   "execution_count": 29,
   "metadata": {},
   "outputs": [
    {
     "name": "stdout",
     "output_type": "stream",
     "text": [
      "Log Loss: 0.5958\n",
      "\n"
     ]
    }
   ],
   "source": [
    "logloss = log_loss(y_test, y_pred_proba)\n",
    "print(\"Log Loss:\", round(logloss, 4))\n",
    "print()"
   ]
  },
  {
   "cell_type": "code",
   "execution_count": 30,
   "metadata": {},
   "outputs": [
    {
     "name": "stdout",
     "output_type": "stream",
     "text": [
      "Coeficientes do modelo:\n",
      "[[-0.14 -1.56 -0.3   0.34]]\n",
      "Intercepto do modelo:\n",
      "[-0.85]\n",
      "\n"
     ]
    }
   ],
   "source": [
    "print(\"Coeficientes do modelo:\")\n",
    "print(model.coef_.round(2))\n",
    "print(\"Intercepto do modelo:\")\n",
    "print(model.intercept_.round(2))\n",
    "print()"
   ]
  },
  {
   "cell_type": "markdown",
   "metadata": {},
   "source": [
    "Quanto cada variável contribui para o log-odds de 'Seletor' ocorrer?\n",
    "\n",
    "- **Coeficiente** -0.14:\n",
    "Indica uma relação inversa com a variável alvo. Aumentos nesta variável estão associados a uma diminuição na probabilidade do resultado.\n",
    "\n",
    "- **Coeficiente** -1.56:\n",
    "Sugere uma relação inversa significativa.\n",
    "\n",
    "- **Coeficiente** -0.3:\n",
    "Indica uma relação inversa com menor efeito.\n",
    "\n",
    "- **Coeficiente** 0.34:\n",
    "Este coeficiente positivo sugere uma relação direta com a variável alvo. À medida que a variável aumenta, a probabilidade do resultado também aumenta.\n",
    "\n",
    "- **Intercepto**\n",
    "Um intercepto negativo como [-0.85] sugere uma baixa probabilidade do resultado quando todas as variáveis estão zeradas."
   ]
  },
  {
   "cell_type": "markdown",
   "metadata": {},
   "source": [
    "#### Interpretando os coeficientes em termos de odds"
   ]
  },
  {
   "cell_type": "code",
   "execution_count": 31,
   "metadata": {},
   "outputs": [
    {
     "name": "stdout",
     "output_type": "stream",
     "text": [
      "Interpretação dos Coeficientes em termos de Odds:\n",
      "Intercepto (Constante):\n",
      "Odds Basais: 0.427081205144902\n",
      "\n",
      "Coeficiente para 'Age':\n",
      "Odds Ratio: 0.87\n",
      "\n",
      "Coeficiente para 'Sgpt':\n",
      "Odds Ratio: 0.21\n",
      "\n",
      "Coeficiente para 'TP':\n",
      "Odds Ratio: 0.74\n",
      "\n",
      "Coeficiente para 'ALB':\n",
      "Odds Ratio: 1.41\n",
      "\n"
     ]
    }
   ],
   "source": [
    "print(\"Interpretação dos Coeficientes em termos de Odds:\")\n",
    "print(\"Intercepto (Constante):\")\n",
    "print(\"Odds Basais:\", np.exp(model.intercept_)[0])\n",
    "print()\n",
    "\n",
    "for i, feature in enumerate(X.columns):\n",
    "    print(f\"Coeficiente para '{feature}':\")\n",
    "    print(f\"Odds Ratio: {np.exp(model.coef_[0][i]):.2f}\")\n",
    "    print()"
   ]
  },
  {
   "cell_type": "markdown",
   "metadata": {},
   "source": [
    "#### Razão entre probabilidade de sucesso e probabilidade de fracasso"
   ]
  },
  {
   "cell_type": "markdown",
   "metadata": {},
   "source": [
    "- **Intercepto (Constante)**\n",
    "Odds Basais: 0.427221171000031\n",
    "Isso significa que, quando todas as outras variáveis são mantidas constantes (ou seja, quando todos os valores são zero), a chance do resultado positivo (como a presença de doença hepática) é de aproximadamente 0.427. \n",
    "\n",
    "- **Coeficiente para 'Age'**\n",
    "Odds Ratio: 0.87\n",
    "Um odds ratio de 0.87 sugere que, para cada unidade adicional de idade, a chance de o resultado ser positivo é cerca de 0.87 vezes a chance anterior. Em outras palavras, cada ano a mais na idade reduz as chances do resultado positivo em 13%. Portanto, à medida que a idade aumenta, a probabilidade de o resultado ser positivo diminui.\n",
    "\n",
    "- **Coeficiente para 'Sgpt'**\n",
    "Odds Ratio: 0.21\n",
    "Um odds ratio de 0.21 indica que, para cada unidade de aumento em Sgpt, a chance de o resultado ser positivo é reduzida para 21% da chance anterior. Isso sugere que, se o nível de Sgpt aumenta, a chance de um resultado positivo cai significativamente, indicando uma relação inversa forte entre Sgpt e o resultado.\n",
    "\n",
    "- **Coeficiente para 'TP'**\n",
    "Odds Ratio: 0.74\n",
    "Um odds ratio de 0.74 significa que, para cada unidade adicional de proteína total (TP), a chance do resultado positivo é aproximadamente 74% da chance anterior. Isso implica que um aumento nos níveis de proteína total reduz ligeiramente a probabilidade do resultado positivo.\n",
    "\n",
    "- **Coeficiente para 'ALB'**\n",
    "Odds Ratio: 1.41\n",
    "Um odds ratio de 1.41 significa que, para cada unidade adicional de albumina (ALB), a chance do resultado positivo é 1.41 vezes a chance anterior. Isso sugere uma relação direta entre os níveis de albumina e a probabilidade do resultado positivo, indicando que níveis mais altos de albumina aumentam a chance do resultado positivo.\n",
    "\n",
    "- **Conclusões**\n",
    "Odds Ratios Menores que 1: Indicariam que a variável está associada a uma redução nas chances do resultado positivo. Por exemplo, Age, Sgpt, e TP estão nessa categoria.\n",
    "Odds Ratios Maiores que 1: Indicariam que a variável está associada a um aumento nas chances do resultado positivo. ALB é um exemplo."
   ]
  },
  {
   "cell_type": "markdown",
   "metadata": {},
   "source": [
    "#### Função para calcular as probabilidades de classe"
   ]
  },
  {
   "cell_type": "code",
   "execution_count": 32,
   "metadata": {},
   "outputs": [
    {
     "name": "stdout",
     "output_type": "stream",
     "text": [
      "\n",
      "Probabilidades de classe para os dados de teste:\n",
      "\n",
      "A classe 0 (classe negativa ou Não-evento)\n",
      "A classe 1 (classe positiva ou Evento)\n"
     ]
    },
    {
     "data": {
      "text/html": [
       "<div>\n",
       "<style scoped>\n",
       "    .dataframe tbody tr th:only-of-type {\n",
       "        vertical-align: middle;\n",
       "    }\n",
       "\n",
       "    .dataframe tbody tr th {\n",
       "        vertical-align: top;\n",
       "    }\n",
       "\n",
       "    .dataframe thead th {\n",
       "        text-align: right;\n",
       "    }\n",
       "</style>\n",
       "<table border=\"1\" class=\"dataframe\">\n",
       "  <thead>\n",
       "    <tr style=\"text-align: right;\">\n",
       "      <th></th>\n",
       "      <th>prob_1</th>\n",
       "      <th>prob_2</th>\n",
       "    </tr>\n",
       "  </thead>\n",
       "  <tbody>\n",
       "    <tr>\n",
       "      <th>0</th>\n",
       "      <td>0.751057</td>\n",
       "      <td>0.248943</td>\n",
       "    </tr>\n",
       "    <tr>\n",
       "      <th>1</th>\n",
       "      <td>0.810367</td>\n",
       "      <td>0.189633</td>\n",
       "    </tr>\n",
       "    <tr>\n",
       "      <th>2</th>\n",
       "      <td>0.612649</td>\n",
       "      <td>0.387351</td>\n",
       "    </tr>\n",
       "    <tr>\n",
       "      <th>3</th>\n",
       "      <td>0.714409</td>\n",
       "      <td>0.285591</td>\n",
       "    </tr>\n",
       "    <tr>\n",
       "      <th>4</th>\n",
       "      <td>0.729840</td>\n",
       "      <td>0.270160</td>\n",
       "    </tr>\n",
       "  </tbody>\n",
       "</table>\n",
       "</div>"
      ],
      "text/plain": [
       "     prob_1    prob_2\n",
       "0  0.751057  0.248943\n",
       "1  0.810367  0.189633\n",
       "2  0.612649  0.387351\n",
       "3  0.714409  0.285591\n",
       "4  0.729840  0.270160"
      ]
     },
     "execution_count": 32,
     "metadata": {},
     "output_type": "execute_result"
    }
   ],
   "source": [
    "def calculate_probabilities(model, X):\n",
    "    probabilities = model.predict_proba(X)\n",
    "    classes = model.classes_\n",
    "    result = pd.DataFrame(probabilities, columns=[f'prob_{class_}' for class_ in classes])\n",
    "    return result\n",
    "\n",
    "# Probabilidades de classe para os dados de teste\n",
    "probabilities = calculate_probabilities(model, X_test_scaled)\n",
    "print(\"\\nProbabilidades de classe para os dados de teste:\")\n",
    "print(\"\\nA classe 0 (classe negativa ou Não-evento)\")\n",
    "print(\"A classe 1 (classe positiva ou Evento)\")\n",
    "probabilities.head()"
   ]
  },
  {
   "cell_type": "markdown",
   "metadata": {},
   "source": [
    "- **Linha 0:**\n",
    "Com uma probabilidade de 0.750977 para a classe 1 e 0.249023 para a classe 2, o modelo prevê que há uma chance de cerca de 75% de ser da classe 1 e 25% de ser da classe 2. Com uma diferença significativa, essa previsão parece relativamente segura em relação à classe 1.\n",
    "\n",
    "- **Linha 1:**\n",
    "Com uma probabilidade de 0.810337 para a classe 1 e 0.189663 para a classe 2, a previsão é mais forte para a classe 1, com uma probabilidade de 81% contra 19%. Novamente, parece uma previsão confiável para a classe 1.\n",
    "\n",
    "- **Linha 2:**\n",
    "As probabilidades são 0.612777 para a classe 1 e 0.387223 para a classe 2. Aqui, a diferença entre as probabilidades é menor, indicando que o modelo está um pouco menos certo em sua previsão, mas ainda favorece a classe 1.\n",
    "\n",
    "- **Linha 3:**\n",
    "Com uma probabilidade de 0.714364 para a classe 1 e 0.285636 para a classe 2, o modelo prevê uma maior chance de ser da classe 1, mas com menos confiança do que a Linha 1.\n",
    "\n",
    "- **Linha 4:**\n",
    "As probabilidades são 0.729783 para a classe 1 e 0.270217 para a classe 2. A diferença é significativa, indicando que o modelo prevê uma maior probabilidade para a classe 1, mas com uma margem de incerteza maior do que em algumas previsões anteriores."
   ]
  },
  {
   "cell_type": "markdown",
   "metadata": {},
   "source": [
    "### 4. Treinamento do Modelo de Árvore de Decisão com max_depth de 4\n",
    "--------------------"
   ]
  },
  {
   "cell_type": "markdown",
   "metadata": {},
   "source": [
    "#### Dividir em conjuntos de treinamento e teste (80% para treino e 20% para teste)"
   ]
  },
  {
   "cell_type": "code",
   "execution_count": 35,
   "metadata": {},
   "outputs": [],
   "source": [
    "#sc_X = StandardScaler()\n",
    "#X_train = sc_X.fit_transform(X_train)\n",
    "#X_test = sc_X.transform(X_test)"
   ]
  },
  {
   "cell_type": "markdown",
   "metadata": {},
   "source": [
    "#### Treinar modelo de Árvore de Decisão com max_depth=4"
   ]
  },
  {
   "cell_type": "code",
   "execution_count": 33,
   "metadata": {},
   "outputs": [
    {
     "data": {
      "text/html": [
       "<style>#sk-container-id-1 {\n",
       "  /* Definition of color scheme common for light and dark mode */\n",
       "  --sklearn-color-text: black;\n",
       "  --sklearn-color-line: gray;\n",
       "  /* Definition of color scheme for unfitted estimators */\n",
       "  --sklearn-color-unfitted-level-0: #fff5e6;\n",
       "  --sklearn-color-unfitted-level-1: #f6e4d2;\n",
       "  --sklearn-color-unfitted-level-2: #ffe0b3;\n",
       "  --sklearn-color-unfitted-level-3: chocolate;\n",
       "  /* Definition of color scheme for fitted estimators */\n",
       "  --sklearn-color-fitted-level-0: #f0f8ff;\n",
       "  --sklearn-color-fitted-level-1: #d4ebff;\n",
       "  --sklearn-color-fitted-level-2: #b3dbfd;\n",
       "  --sklearn-color-fitted-level-3: cornflowerblue;\n",
       "\n",
       "  /* Specific color for light theme */\n",
       "  --sklearn-color-text-on-default-background: var(--sg-text-color, var(--theme-code-foreground, var(--jp-content-font-color1, black)));\n",
       "  --sklearn-color-background: var(--sg-background-color, var(--theme-background, var(--jp-layout-color0, white)));\n",
       "  --sklearn-color-border-box: var(--sg-text-color, var(--theme-code-foreground, var(--jp-content-font-color1, black)));\n",
       "  --sklearn-color-icon: #696969;\n",
       "\n",
       "  @media (prefers-color-scheme: dark) {\n",
       "    /* Redefinition of color scheme for dark theme */\n",
       "    --sklearn-color-text-on-default-background: var(--sg-text-color, var(--theme-code-foreground, var(--jp-content-font-color1, white)));\n",
       "    --sklearn-color-background: var(--sg-background-color, var(--theme-background, var(--jp-layout-color0, #111)));\n",
       "    --sklearn-color-border-box: var(--sg-text-color, var(--theme-code-foreground, var(--jp-content-font-color1, white)));\n",
       "    --sklearn-color-icon: #878787;\n",
       "  }\n",
       "}\n",
       "\n",
       "#sk-container-id-1 {\n",
       "  color: var(--sklearn-color-text);\n",
       "}\n",
       "\n",
       "#sk-container-id-1 pre {\n",
       "  padding: 0;\n",
       "}\n",
       "\n",
       "#sk-container-id-1 input.sk-hidden--visually {\n",
       "  border: 0;\n",
       "  clip: rect(1px 1px 1px 1px);\n",
       "  clip: rect(1px, 1px, 1px, 1px);\n",
       "  height: 1px;\n",
       "  margin: -1px;\n",
       "  overflow: hidden;\n",
       "  padding: 0;\n",
       "  position: absolute;\n",
       "  width: 1px;\n",
       "}\n",
       "\n",
       "#sk-container-id-1 div.sk-dashed-wrapped {\n",
       "  border: 1px dashed var(--sklearn-color-line);\n",
       "  margin: 0 0.4em 0.5em 0.4em;\n",
       "  box-sizing: border-box;\n",
       "  padding-bottom: 0.4em;\n",
       "  background-color: var(--sklearn-color-background);\n",
       "}\n",
       "\n",
       "#sk-container-id-1 div.sk-container {\n",
       "  /* jupyter's `normalize.less` sets `[hidden] { display: none; }`\n",
       "     but bootstrap.min.css set `[hidden] { display: none !important; }`\n",
       "     so we also need the `!important` here to be able to override the\n",
       "     default hidden behavior on the sphinx rendered scikit-learn.org.\n",
       "     See: https://github.com/scikit-learn/scikit-learn/issues/21755 */\n",
       "  display: inline-block !important;\n",
       "  position: relative;\n",
       "}\n",
       "\n",
       "#sk-container-id-1 div.sk-text-repr-fallback {\n",
       "  display: none;\n",
       "}\n",
       "\n",
       "div.sk-parallel-item,\n",
       "div.sk-serial,\n",
       "div.sk-item {\n",
       "  /* draw centered vertical line to link estimators */\n",
       "  background-image: linear-gradient(var(--sklearn-color-text-on-default-background), var(--sklearn-color-text-on-default-background));\n",
       "  background-size: 2px 100%;\n",
       "  background-repeat: no-repeat;\n",
       "  background-position: center center;\n",
       "}\n",
       "\n",
       "/* Parallel-specific style estimator block */\n",
       "\n",
       "#sk-container-id-1 div.sk-parallel-item::after {\n",
       "  content: \"\";\n",
       "  width: 100%;\n",
       "  border-bottom: 2px solid var(--sklearn-color-text-on-default-background);\n",
       "  flex-grow: 1;\n",
       "}\n",
       "\n",
       "#sk-container-id-1 div.sk-parallel {\n",
       "  display: flex;\n",
       "  align-items: stretch;\n",
       "  justify-content: center;\n",
       "  background-color: var(--sklearn-color-background);\n",
       "  position: relative;\n",
       "}\n",
       "\n",
       "#sk-container-id-1 div.sk-parallel-item {\n",
       "  display: flex;\n",
       "  flex-direction: column;\n",
       "}\n",
       "\n",
       "#sk-container-id-1 div.sk-parallel-item:first-child::after {\n",
       "  align-self: flex-end;\n",
       "  width: 50%;\n",
       "}\n",
       "\n",
       "#sk-container-id-1 div.sk-parallel-item:last-child::after {\n",
       "  align-self: flex-start;\n",
       "  width: 50%;\n",
       "}\n",
       "\n",
       "#sk-container-id-1 div.sk-parallel-item:only-child::after {\n",
       "  width: 0;\n",
       "}\n",
       "\n",
       "/* Serial-specific style estimator block */\n",
       "\n",
       "#sk-container-id-1 div.sk-serial {\n",
       "  display: flex;\n",
       "  flex-direction: column;\n",
       "  align-items: center;\n",
       "  background-color: var(--sklearn-color-background);\n",
       "  padding-right: 1em;\n",
       "  padding-left: 1em;\n",
       "}\n",
       "\n",
       "\n",
       "/* Toggleable style: style used for estimator/Pipeline/ColumnTransformer box that is\n",
       "clickable and can be expanded/collapsed.\n",
       "- Pipeline and ColumnTransformer use this feature and define the default style\n",
       "- Estimators will overwrite some part of the style using the `sk-estimator` class\n",
       "*/\n",
       "\n",
       "/* Pipeline and ColumnTransformer style (default) */\n",
       "\n",
       "#sk-container-id-1 div.sk-toggleable {\n",
       "  /* Default theme specific background. It is overwritten whether we have a\n",
       "  specific estimator or a Pipeline/ColumnTransformer */\n",
       "  background-color: var(--sklearn-color-background);\n",
       "}\n",
       "\n",
       "/* Toggleable label */\n",
       "#sk-container-id-1 label.sk-toggleable__label {\n",
       "  cursor: pointer;\n",
       "  display: block;\n",
       "  width: 100%;\n",
       "  margin-bottom: 0;\n",
       "  padding: 0.5em;\n",
       "  box-sizing: border-box;\n",
       "  text-align: center;\n",
       "}\n",
       "\n",
       "#sk-container-id-1 label.sk-toggleable__label-arrow:before {\n",
       "  /* Arrow on the left of the label */\n",
       "  content: \"▸\";\n",
       "  float: left;\n",
       "  margin-right: 0.25em;\n",
       "  color: var(--sklearn-color-icon);\n",
       "}\n",
       "\n",
       "#sk-container-id-1 label.sk-toggleable__label-arrow:hover:before {\n",
       "  color: var(--sklearn-color-text);\n",
       "}\n",
       "\n",
       "/* Toggleable content - dropdown */\n",
       "\n",
       "#sk-container-id-1 div.sk-toggleable__content {\n",
       "  max-height: 0;\n",
       "  max-width: 0;\n",
       "  overflow: hidden;\n",
       "  text-align: left;\n",
       "  /* unfitted */\n",
       "  background-color: var(--sklearn-color-unfitted-level-0);\n",
       "}\n",
       "\n",
       "#sk-container-id-1 div.sk-toggleable__content.fitted {\n",
       "  /* fitted */\n",
       "  background-color: var(--sklearn-color-fitted-level-0);\n",
       "}\n",
       "\n",
       "#sk-container-id-1 div.sk-toggleable__content pre {\n",
       "  margin: 0.2em;\n",
       "  border-radius: 0.25em;\n",
       "  color: var(--sklearn-color-text);\n",
       "  /* unfitted */\n",
       "  background-color: var(--sklearn-color-unfitted-level-0);\n",
       "}\n",
       "\n",
       "#sk-container-id-1 div.sk-toggleable__content.fitted pre {\n",
       "  /* unfitted */\n",
       "  background-color: var(--sklearn-color-fitted-level-0);\n",
       "}\n",
       "\n",
       "#sk-container-id-1 input.sk-toggleable__control:checked~div.sk-toggleable__content {\n",
       "  /* Expand drop-down */\n",
       "  max-height: 200px;\n",
       "  max-width: 100%;\n",
       "  overflow: auto;\n",
       "}\n",
       "\n",
       "#sk-container-id-1 input.sk-toggleable__control:checked~label.sk-toggleable__label-arrow:before {\n",
       "  content: \"▾\";\n",
       "}\n",
       "\n",
       "/* Pipeline/ColumnTransformer-specific style */\n",
       "\n",
       "#sk-container-id-1 div.sk-label input.sk-toggleable__control:checked~label.sk-toggleable__label {\n",
       "  color: var(--sklearn-color-text);\n",
       "  background-color: var(--sklearn-color-unfitted-level-2);\n",
       "}\n",
       "\n",
       "#sk-container-id-1 div.sk-label.fitted input.sk-toggleable__control:checked~label.sk-toggleable__label {\n",
       "  background-color: var(--sklearn-color-fitted-level-2);\n",
       "}\n",
       "\n",
       "/* Estimator-specific style */\n",
       "\n",
       "/* Colorize estimator box */\n",
       "#sk-container-id-1 div.sk-estimator input.sk-toggleable__control:checked~label.sk-toggleable__label {\n",
       "  /* unfitted */\n",
       "  background-color: var(--sklearn-color-unfitted-level-2);\n",
       "}\n",
       "\n",
       "#sk-container-id-1 div.sk-estimator.fitted input.sk-toggleable__control:checked~label.sk-toggleable__label {\n",
       "  /* fitted */\n",
       "  background-color: var(--sklearn-color-fitted-level-2);\n",
       "}\n",
       "\n",
       "#sk-container-id-1 div.sk-label label.sk-toggleable__label,\n",
       "#sk-container-id-1 div.sk-label label {\n",
       "  /* The background is the default theme color */\n",
       "  color: var(--sklearn-color-text-on-default-background);\n",
       "}\n",
       "\n",
       "/* On hover, darken the color of the background */\n",
       "#sk-container-id-1 div.sk-label:hover label.sk-toggleable__label {\n",
       "  color: var(--sklearn-color-text);\n",
       "  background-color: var(--sklearn-color-unfitted-level-2);\n",
       "}\n",
       "\n",
       "/* Label box, darken color on hover, fitted */\n",
       "#sk-container-id-1 div.sk-label.fitted:hover label.sk-toggleable__label.fitted {\n",
       "  color: var(--sklearn-color-text);\n",
       "  background-color: var(--sklearn-color-fitted-level-2);\n",
       "}\n",
       "\n",
       "/* Estimator label */\n",
       "\n",
       "#sk-container-id-1 div.sk-label label {\n",
       "  font-family: monospace;\n",
       "  font-weight: bold;\n",
       "  display: inline-block;\n",
       "  line-height: 1.2em;\n",
       "}\n",
       "\n",
       "#sk-container-id-1 div.sk-label-container {\n",
       "  text-align: center;\n",
       "}\n",
       "\n",
       "/* Estimator-specific */\n",
       "#sk-container-id-1 div.sk-estimator {\n",
       "  font-family: monospace;\n",
       "  border: 1px dotted var(--sklearn-color-border-box);\n",
       "  border-radius: 0.25em;\n",
       "  box-sizing: border-box;\n",
       "  margin-bottom: 0.5em;\n",
       "  /* unfitted */\n",
       "  background-color: var(--sklearn-color-unfitted-level-0);\n",
       "}\n",
       "\n",
       "#sk-container-id-1 div.sk-estimator.fitted {\n",
       "  /* fitted */\n",
       "  background-color: var(--sklearn-color-fitted-level-0);\n",
       "}\n",
       "\n",
       "/* on hover */\n",
       "#sk-container-id-1 div.sk-estimator:hover {\n",
       "  /* unfitted */\n",
       "  background-color: var(--sklearn-color-unfitted-level-2);\n",
       "}\n",
       "\n",
       "#sk-container-id-1 div.sk-estimator.fitted:hover {\n",
       "  /* fitted */\n",
       "  background-color: var(--sklearn-color-fitted-level-2);\n",
       "}\n",
       "\n",
       "/* Specification for estimator info (e.g. \"i\" and \"?\") */\n",
       "\n",
       "/* Common style for \"i\" and \"?\" */\n",
       "\n",
       ".sk-estimator-doc-link,\n",
       "a:link.sk-estimator-doc-link,\n",
       "a:visited.sk-estimator-doc-link {\n",
       "  float: right;\n",
       "  font-size: smaller;\n",
       "  line-height: 1em;\n",
       "  font-family: monospace;\n",
       "  background-color: var(--sklearn-color-background);\n",
       "  border-radius: 1em;\n",
       "  height: 1em;\n",
       "  width: 1em;\n",
       "  text-decoration: none !important;\n",
       "  margin-left: 1ex;\n",
       "  /* unfitted */\n",
       "  border: var(--sklearn-color-unfitted-level-1) 1pt solid;\n",
       "  color: var(--sklearn-color-unfitted-level-1);\n",
       "}\n",
       "\n",
       ".sk-estimator-doc-link.fitted,\n",
       "a:link.sk-estimator-doc-link.fitted,\n",
       "a:visited.sk-estimator-doc-link.fitted {\n",
       "  /* fitted */\n",
       "  border: var(--sklearn-color-fitted-level-1) 1pt solid;\n",
       "  color: var(--sklearn-color-fitted-level-1);\n",
       "}\n",
       "\n",
       "/* On hover */\n",
       "div.sk-estimator:hover .sk-estimator-doc-link:hover,\n",
       ".sk-estimator-doc-link:hover,\n",
       "div.sk-label-container:hover .sk-estimator-doc-link:hover,\n",
       ".sk-estimator-doc-link:hover {\n",
       "  /* unfitted */\n",
       "  background-color: var(--sklearn-color-unfitted-level-3);\n",
       "  color: var(--sklearn-color-background);\n",
       "  text-decoration: none;\n",
       "}\n",
       "\n",
       "div.sk-estimator.fitted:hover .sk-estimator-doc-link.fitted:hover,\n",
       ".sk-estimator-doc-link.fitted:hover,\n",
       "div.sk-label-container:hover .sk-estimator-doc-link.fitted:hover,\n",
       ".sk-estimator-doc-link.fitted:hover {\n",
       "  /* fitted */\n",
       "  background-color: var(--sklearn-color-fitted-level-3);\n",
       "  color: var(--sklearn-color-background);\n",
       "  text-decoration: none;\n",
       "}\n",
       "\n",
       "/* Span, style for the box shown on hovering the info icon */\n",
       ".sk-estimator-doc-link span {\n",
       "  display: none;\n",
       "  z-index: 9999;\n",
       "  position: relative;\n",
       "  font-weight: normal;\n",
       "  right: .2ex;\n",
       "  padding: .5ex;\n",
       "  margin: .5ex;\n",
       "  width: min-content;\n",
       "  min-width: 20ex;\n",
       "  max-width: 50ex;\n",
       "  color: var(--sklearn-color-text);\n",
       "  box-shadow: 2pt 2pt 4pt #999;\n",
       "  /* unfitted */\n",
       "  background: var(--sklearn-color-unfitted-level-0);\n",
       "  border: .5pt solid var(--sklearn-color-unfitted-level-3);\n",
       "}\n",
       "\n",
       ".sk-estimator-doc-link.fitted span {\n",
       "  /* fitted */\n",
       "  background: var(--sklearn-color-fitted-level-0);\n",
       "  border: var(--sklearn-color-fitted-level-3);\n",
       "}\n",
       "\n",
       ".sk-estimator-doc-link:hover span {\n",
       "  display: block;\n",
       "}\n",
       "\n",
       "/* \"?\"-specific style due to the `<a>` HTML tag */\n",
       "\n",
       "#sk-container-id-1 a.estimator_doc_link {\n",
       "  float: right;\n",
       "  font-size: 1rem;\n",
       "  line-height: 1em;\n",
       "  font-family: monospace;\n",
       "  background-color: var(--sklearn-color-background);\n",
       "  border-radius: 1rem;\n",
       "  height: 1rem;\n",
       "  width: 1rem;\n",
       "  text-decoration: none;\n",
       "  /* unfitted */\n",
       "  color: var(--sklearn-color-unfitted-level-1);\n",
       "  border: var(--sklearn-color-unfitted-level-1) 1pt solid;\n",
       "}\n",
       "\n",
       "#sk-container-id-1 a.estimator_doc_link.fitted {\n",
       "  /* fitted */\n",
       "  border: var(--sklearn-color-fitted-level-1) 1pt solid;\n",
       "  color: var(--sklearn-color-fitted-level-1);\n",
       "}\n",
       "\n",
       "/* On hover */\n",
       "#sk-container-id-1 a.estimator_doc_link:hover {\n",
       "  /* unfitted */\n",
       "  background-color: var(--sklearn-color-unfitted-level-3);\n",
       "  color: var(--sklearn-color-background);\n",
       "  text-decoration: none;\n",
       "}\n",
       "\n",
       "#sk-container-id-1 a.estimator_doc_link.fitted:hover {\n",
       "  /* fitted */\n",
       "  background-color: var(--sklearn-color-fitted-level-3);\n",
       "}\n",
       "</style><div id=\"sk-container-id-1\" class=\"sk-top-container\"><div class=\"sk-text-repr-fallback\"><pre>DecisionTreeClassifier(max_depth=4, random_state=42)</pre><b>In a Jupyter environment, please rerun this cell to show the HTML representation or trust the notebook. <br />On GitHub, the HTML representation is unable to render, please try loading this page with nbviewer.org.</b></div><div class=\"sk-container\" hidden><div class=\"sk-item\"><div class=\"sk-estimator fitted sk-toggleable\"><input class=\"sk-toggleable__control sk-hidden--visually\" id=\"sk-estimator-id-1\" type=\"checkbox\" checked><label for=\"sk-estimator-id-1\" class=\"sk-toggleable__label fitted sk-toggleable__label-arrow fitted\">&nbsp;&nbsp;DecisionTreeClassifier<a class=\"sk-estimator-doc-link fitted\" rel=\"noreferrer\" target=\"_blank\" href=\"https://scikit-learn.org/1.4/modules/generated/sklearn.tree.DecisionTreeClassifier.html\">?<span>Documentation for DecisionTreeClassifier</span></a><span class=\"sk-estimator-doc-link fitted\">i<span>Fitted</span></span></label><div class=\"sk-toggleable__content fitted\"><pre>DecisionTreeClassifier(max_depth=4, random_state=42)</pre></div> </div></div></div></div>"
      ],
      "text/plain": [
       "DecisionTreeClassifier(max_depth=4, random_state=42)"
      ]
     },
     "execution_count": 33,
     "metadata": {},
     "output_type": "execute_result"
    }
   ],
   "source": [
    "tree_clf = DecisionTreeClassifier(max_depth=4, random_state=42)\n",
    "tree_clf.fit(X_train, y_train)"
   ]
  },
  {
   "cell_type": "markdown",
   "metadata": {},
   "source": [
    "#### Pegando a importância das features"
   ]
  },
  {
   "cell_type": "code",
   "execution_count": 36,
   "metadata": {},
   "outputs": [
    {
     "data": {
      "text/plain": [
       "Index(['Age', 'Sgpt', 'TP', 'ALB'], dtype='object')"
      ]
     },
     "execution_count": 36,
     "metadata": {},
     "output_type": "execute_result"
    }
   ],
   "source": [
    "feature_importances = tree_clf.feature_importances_\n",
    "\n",
    "feature_names = X_train.columns\n",
    "feature_names"
   ]
  },
  {
   "cell_type": "markdown",
   "metadata": {},
   "source": [
    "#### Cria um dataframe para visualizar a importância das features"
   ]
  },
  {
   "cell_type": "code",
   "execution_count": 37,
   "metadata": {},
   "outputs": [
    {
     "data": {
      "text/html": [
       "<div>\n",
       "<style scoped>\n",
       "    .dataframe tbody tr th:only-of-type {\n",
       "        vertical-align: middle;\n",
       "    }\n",
       "\n",
       "    .dataframe tbody tr th {\n",
       "        vertical-align: top;\n",
       "    }\n",
       "\n",
       "    .dataframe thead th {\n",
       "        text-align: right;\n",
       "    }\n",
       "</style>\n",
       "<table border=\"1\" class=\"dataframe\">\n",
       "  <thead>\n",
       "    <tr style=\"text-align: right;\">\n",
       "      <th></th>\n",
       "      <th>Feature</th>\n",
       "      <th>Importance</th>\n",
       "    </tr>\n",
       "  </thead>\n",
       "  <tbody>\n",
       "    <tr>\n",
       "      <th>1</th>\n",
       "      <td>Sgpt</td>\n",
       "      <td>0.606658</td>\n",
       "    </tr>\n",
       "    <tr>\n",
       "      <th>3</th>\n",
       "      <td>ALB</td>\n",
       "      <td>0.201784</td>\n",
       "    </tr>\n",
       "    <tr>\n",
       "      <th>0</th>\n",
       "      <td>Age</td>\n",
       "      <td>0.160251</td>\n",
       "    </tr>\n",
       "    <tr>\n",
       "      <th>2</th>\n",
       "      <td>TP</td>\n",
       "      <td>0.031307</td>\n",
       "    </tr>\n",
       "  </tbody>\n",
       "</table>\n",
       "</div>"
      ],
      "text/plain": [
       "  Feature  Importance\n",
       "1    Sgpt    0.606658\n",
       "3     ALB    0.201784\n",
       "0     Age    0.160251\n",
       "2      TP    0.031307"
      ]
     },
     "execution_count": 37,
     "metadata": {},
     "output_type": "execute_result"
    }
   ],
   "source": [
    "importance_df = pd.DataFrame({'Feature': feature_names, 'Importance': feature_importances})\n",
    "\n",
    "# Ordenar por importância para ver quais são as mais importantes\n",
    "importance_df = importance_df.sort_values(by='Importance', ascending=False)\n",
    "importance_df"
   ]
  },
  {
   "cell_type": "markdown",
   "metadata": {},
   "source": [
    "#### Plotar a árvore para visualizar a estrutura"
   ]
  },
  {
   "cell_type": "code",
   "execution_count": 38,
   "metadata": {},
   "outputs": [
    {
     "data": {
      "image/png": "[encoded data removed]",
      "text/plain": [
       "<Figure size 1200x800 with 1 Axes>"
      ]
     },
     "metadata": {},
     "output_type": "display_data"
    }
   ],
   "source": [
    "plt.figure(figsize=(12, 8))\n",
    "plot_tree(tree_clf, feature_names=feature_names, filled=True)\n",
    "plt.show()"
   ]
  },
  {
   "cell_type": "markdown",
   "metadata": {},
   "source": [
    "#### Avaliação do desempenho no conjunto de teste para Árvore de Decisão"
   ]
  },
  {
   "cell_type": "code",
   "execution_count": 39,
   "metadata": {},
   "outputs": [
    {
     "name": "stdout",
     "output_type": "stream",
     "text": [
      "Desempenho do modelo de árvore de decisão:\n",
      "              precision    recall  f1-score   support\n",
      "\n",
      "           1       0.65      0.97      0.78        73\n",
      "           2       0.67      0.09      0.16        43\n",
      "\n",
      "    accuracy                           0.65       116\n",
      "   macro avg       0.66      0.53      0.47       116\n",
      "weighted avg       0.65      0.65      0.55       116\n",
      "\n",
      "Matriz de Confusão da Árvore de Decisão:\n",
      "[[71  2]\n",
      " [39  4]]\n"
     ]
    }
   ],
   "source": [
    "y_pred_tree_clf = tree_clf.predict(X_test)\n",
    "print(\"Desempenho do modelo de árvore de decisão:\")\n",
    "print(classification_report(y_test, y_pred_tree_clf))\n",
    "print(\"Matriz de Confusão da Árvore de Decisão:\")\n",
    "print(confusion_matrix(y_test, y_pred_tree_clf))"
   ]
  },
  {
   "cell_type": "markdown",
   "metadata": {},
   "source": [
    "#### Desempenho do Modelo:"
   ]
  },
  {
   "cell_type": "markdown",
   "metadata": {},
   "source": [
    "**Precisão (precision):** Proporção de previsões corretas dentro das classificações positivas que o modelo fez.\n",
    "- Classe 1: 0.65\n",
    "- Classe 2: 0.67\n",
    "\n",
    "O modelo é relativamente preciso para ambas as classes, mas a precisão pode ser enganosa se a distribuição dos dados for desequilibrada.\n",
    "\n",
    "**Recall:** Mede a capacidade do modelo de identificar todas as amostras positivas.\n",
    "- Classe 1: 0.97\n",
    "- Classe 2: 0.09\n",
    "\n",
    "O recall para a Classe 1 é muito alto, indicando que o modelo conseguiu identificar a maioria das amostras desta classe. No entanto, para a Classe 2, o recall é muito baixo, o que sugere que muitas amostras desta classe não foram identificadas pelo modelo.\n",
    "\n",
    "**F1-score:** A média harmônica entre precisão e recall.\n",
    "- Classe 1: 0.78\n",
    "- Classe 2: 0.16\n",
    "O f1-score para a Classe 1 é bom, mas para a Classe 2 é bastante baixo, indicando que a capacidade do modelo para a classe 2 é bem inferior.\n",
    "\n",
    "**Acurácia (accuracy):** Reflete a proporção total de previsões corretas.\n",
    "A acurácia geral é 0.65, sugerindo que o modelo está acertando 65% das vezes.\n",
    "Matriz de Confusão:\n",
    "- Classe 1: O modelo previu 71 corretos e 2 incorretos, indicando um desempenho forte para esta classe.\n",
    "- Classe 2: O modelo teve 39 falsos negativos e apenas 4 verdadeiros positivos, indicando um desempenho muito fraco para esta classe.\n",
    "\n",
    "\n",
    "**Análise Geral:**\n",
    "O desempenho do modelo está bastante enviesado para a Classe 1, possivelmente devido ao desequilíbrio de dados ou à escolha do critério de divisão da árvore. O baixo recall para a Classe 2 é um problema significativo, pois indica que o modelo tem dificuldade em identificar corretamente as instâncias dessa classe."
   ]
  },
  {
   "cell_type": "markdown",
   "metadata": {
    "id": "y98QDkPAZGjP"
   },
   "source": [
    "## 5.1 Qual modelo escolhido olhando para a precisão de detecção de doença no fígado?\n",
    "--------------------"
   ]
  },
  {
   "cell_type": "markdown",
   "metadata": {},
   "source": [
    "**Análise:**\n",
    "\n",
    "- **Classe 1:**\n",
    "A árvore de decisão apresenta uma precisão mais alta (0.65) em comparação com a regressão logística (0.63).\n",
    "\n",
    "- **Classe 2:**\n",
    "A árvore de decisão também mostra uma precisão superior (0.67) em relação à regressão logística (0.50).\n",
    "\n",
    "**Considerações:**\n",
    "\n",
    "O modelo que parece ter maior precisão global é a Árvore de Decisão. Com base nas informações, ela demonstra melhor desempenho tanto para a Classe 1 quanto para a Classe 2. Porém é essencial considerar outros aspectos além da precisão, como recall, F1-score, e as implicações dos falsos positivos e falsos negativos.\n",
    "\n",
    "Como os dados são desbalanceados, a precisão por si só pode ser enganosa, sendo necessário avaliar a performance do modelo com outras métricas ou até com validação cruzada."
   ]
  },
  {
   "cell_type": "markdown",
   "metadata": {
    "id": "val9nAmnZPyB"
   },
   "source": [
    "## 5.2 Qual modelo escolhido olhando para o f1-score do rótulo de doença do fígado?\n",
    "--------------------"
   ]
  },
  {
   "cell_type": "markdown",
   "metadata": {},
   "source": [
    "**Análise**\n",
    "Ambos os modelos têm um desempenho ruim para a Classe 2, apresentando um F1-score muito baixo (0.09). Portanto, nenhum deles é realmente eficaz em predizer a Classe 2.\n",
    "\n",
    "No entanto, há uma diferença significativa para a Classe 1:\n",
    "\n",
    "Modelo 1 tem um F1-score de 0.77 para a Classe 1.\n",
    "Modelo 2 tem um F1-score de 0.97 para a Classe 1.\n",
    "Isso indica que o Modelo 2 é mais eficiente para a Classe 1, alcançando quase a pontuação perfeita, enquanto o Modelo 1 tem um desempenho consideravelmente menor para a mesma classe. Assim, se a classe 1 for a principal preocupação, o Modelo 2 seria a escolha superior.\n",
    "\n",
    "**Considerações**\n",
    "\n",
    "Como há um desequilíbrio entre as classes, o  F1-score pode refletir essa discrepância. \n",
    "\n",
    "As baixas pontuações para a Classe 2 em ambos os modelos indicam que talvez seja necessário reequilibrar os dados ou usar técnicas como amostragem, pesos de classe ou algoritmos que lidam melhor com desbalanceamento.\n",
    "\n",
    "**Necessidade de melhorias:** Dado que ambos os modelos apresentam desempenho muito baixo para a Classe 2, pode ser necessário:\n",
    "- Revisar a abordagem de modelagem\n",
    "- Coletar mais dados para melhorar o aprendizado do modelo para essa classe.\n"
   ]
  },
  {
   "cell_type": "code",
   "execution_count": null,
   "metadata": {},
   "outputs": [],
   "source": []
  }
 ],
 "metadata": {
  "colab": {
   "provenance": []
  },
  "kernelspec": {
   "display_name": "Python 3 (ipykernel)",
   "language": "python",
   "name": "python3"
  },
  "language_info": {
   "codemirror_mode": {
    "name": "ipython",
    "version": 3
   },
   "file_extension": ".py",
   "mimetype": "text/x-python",
   "name": "python",
   "nbconvert_exporter": "python",
   "pygments_lexer": "ipython3",
   "version": "3.11.5"
  }
 },
 "nbformat": 4,
 "nbformat_minor": 1
}
