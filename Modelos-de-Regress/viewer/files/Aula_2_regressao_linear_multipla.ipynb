{
 "cells": [
  {
   "cell_type": "markdown",
   "metadata": {
    "id": "LG3riz6Ut5X0"
   },
   "source": [
    "# **Regressão Linear Múltipla**"
   ]
  },
  {
   "cell_type": "code",
   "execution_count": 1,
   "metadata": {
    "id": "PGFJHjk0tttU"
   },
   "outputs": [],
   "source": [
    "import numpy as np\n",
    "import pandas as pd"
   ]
  },
  {
   "cell_type": "code",
   "execution_count": 2,
   "metadata": {
    "id": "wLMmk6o8uEae"
   },
   "outputs": [],
   "source": [
    "enem = pd.read_csv('enem_2019_tratado.csv', sep=',', encoding='iso-8859-1')"
   ]
  },
  {
   "cell_type": "markdown",
   "metadata": {
    "id": "FyUUGTpzykQ7"
   },
   "source": [
    "## Análise inicial"
   ]
  },
  {
   "cell_type": "markdown",
   "metadata": {
    "id": "wUPKG1w8vAzH"
   },
   "source": [
    "**Queremos criar um modelo matemático de regressão linear múltipla para prever a nota de redação tendo como variáveis independentes as notas de seus componentes.**"
   ]
  },
  {
   "cell_type": "code",
   "execution_count": 3,
   "metadata": {
    "id": "O2qdSFaowdol"
   },
   "outputs": [
    {
     "data": {
      "text/html": [
       "<div>\n",
       "<style scoped>\n",
       "    .dataframe tbody tr th:only-of-type {\n",
       "        vertical-align: middle;\n",
       "    }\n",
       "\n",
       "    .dataframe tbody tr th {\n",
       "        vertical-align: top;\n",
       "    }\n",
       "\n",
       "    .dataframe thead th {\n",
       "        text-align: right;\n",
       "    }\n",
       "</style>\n",
       "<table border=\"1\" class=\"dataframe\">\n",
       "  <thead>\n",
       "    <tr style=\"text-align: right;\">\n",
       "      <th></th>\n",
       "      <th>NU_INSCRICAO</th>\n",
       "      <th>NO_MUNICIPIO_RESIDENCIA</th>\n",
       "      <th>IDADE</th>\n",
       "      <th>SEXO</th>\n",
       "      <th>TP_ESTADO_CIVIL</th>\n",
       "      <th>RACA</th>\n",
       "      <th>TP_NACIONALIDADE</th>\n",
       "      <th>TP_ST_CONCLUSAO</th>\n",
       "      <th>ESCOLA</th>\n",
       "      <th>CO_ESCOLA</th>\n",
       "      <th>...</th>\n",
       "      <th>NOTA_MT</th>\n",
       "      <th>TP_LINGUA</th>\n",
       "      <th>TP_STATUS_REDACAO</th>\n",
       "      <th>COMP1</th>\n",
       "      <th>COMP2</th>\n",
       "      <th>COMP3</th>\n",
       "      <th>COMP4</th>\n",
       "      <th>COMP5</th>\n",
       "      <th>NOTA_REDACAO</th>\n",
       "      <th>INTERNET</th>\n",
       "    </tr>\n",
       "  </thead>\n",
       "  <tbody>\n",
       "    <tr>\n",
       "      <th>0</th>\n",
       "      <td>1,90E+11</td>\n",
       "      <td>Santa Isabel</td>\n",
       "      <td>22</td>\n",
       "      <td>M</td>\n",
       "      <td>1</td>\n",
       "      <td>parda</td>\n",
       "      <td>1</td>\n",
       "      <td>1</td>\n",
       "      <td>não_respondeu</td>\n",
       "      <td>NaN</td>\n",
       "      <td>...</td>\n",
       "      <td>600.2</td>\n",
       "      <td>Inglês</td>\n",
       "      <td>1.0</td>\n",
       "      <td>160.0</td>\n",
       "      <td>200.0</td>\n",
       "      <td>180.0</td>\n",
       "      <td>200.0</td>\n",
       "      <td>200.0</td>\n",
       "      <td>940.0</td>\n",
       "      <td>Sim</td>\n",
       "    </tr>\n",
       "    <tr>\n",
       "      <th>1</th>\n",
       "      <td>1,90E+11</td>\n",
       "      <td>São Paulo</td>\n",
       "      <td>17</td>\n",
       "      <td>F</td>\n",
       "      <td>1</td>\n",
       "      <td>parda</td>\n",
       "      <td>1</td>\n",
       "      <td>2</td>\n",
       "      <td>privada</td>\n",
       "      <td>15567761.0</td>\n",
       "      <td>...</td>\n",
       "      <td>731.8</td>\n",
       "      <td>Inglês</td>\n",
       "      <td>1.0</td>\n",
       "      <td>160.0</td>\n",
       "      <td>120.0</td>\n",
       "      <td>200.0</td>\n",
       "      <td>200.0</td>\n",
       "      <td>200.0</td>\n",
       "      <td>880.0</td>\n",
       "      <td>Não</td>\n",
       "    </tr>\n",
       "    <tr>\n",
       "      <th>2</th>\n",
       "      <td>1,90E+11</td>\n",
       "      <td>São Bernardo do Campo</td>\n",
       "      <td>19</td>\n",
       "      <td>M</td>\n",
       "      <td>1</td>\n",
       "      <td>parda</td>\n",
       "      <td>1</td>\n",
       "      <td>2</td>\n",
       "      <td>pública</td>\n",
       "      <td>35904958.0</td>\n",
       "      <td>...</td>\n",
       "      <td>393.2</td>\n",
       "      <td>Espanhol</td>\n",
       "      <td>1.0</td>\n",
       "      <td>80.0</td>\n",
       "      <td>160.0</td>\n",
       "      <td>120.0</td>\n",
       "      <td>100.0</td>\n",
       "      <td>100.0</td>\n",
       "      <td>560.0</td>\n",
       "      <td>Sim</td>\n",
       "    </tr>\n",
       "    <tr>\n",
       "      <th>3</th>\n",
       "      <td>1,90E+11</td>\n",
       "      <td>Embu-Guaçu</td>\n",
       "      <td>17</td>\n",
       "      <td>F</td>\n",
       "      <td>1</td>\n",
       "      <td>parda</td>\n",
       "      <td>1</td>\n",
       "      <td>2</td>\n",
       "      <td>pública</td>\n",
       "      <td>NaN</td>\n",
       "      <td>...</td>\n",
       "      <td>419.2</td>\n",
       "      <td>Inglês</td>\n",
       "      <td>1.0</td>\n",
       "      <td>120.0</td>\n",
       "      <td>120.0</td>\n",
       "      <td>120.0</td>\n",
       "      <td>120.0</td>\n",
       "      <td>80.0</td>\n",
       "      <td>560.0</td>\n",
       "      <td>Sim</td>\n",
       "    </tr>\n",
       "    <tr>\n",
       "      <th>4</th>\n",
       "      <td>1,90E+11</td>\n",
       "      <td>Guarulhos</td>\n",
       "      <td>23</td>\n",
       "      <td>F</td>\n",
       "      <td>1</td>\n",
       "      <td>branca</td>\n",
       "      <td>1</td>\n",
       "      <td>1</td>\n",
       "      <td>não_respondeu</td>\n",
       "      <td>NaN</td>\n",
       "      <td>...</td>\n",
       "      <td>796.1</td>\n",
       "      <td>Inglês</td>\n",
       "      <td>1.0</td>\n",
       "      <td>160.0</td>\n",
       "      <td>200.0</td>\n",
       "      <td>180.0</td>\n",
       "      <td>180.0</td>\n",
       "      <td>160.0</td>\n",
       "      <td>880.0</td>\n",
       "      <td>Sim</td>\n",
       "    </tr>\n",
       "    <tr>\n",
       "      <th>5</th>\n",
       "      <td>1,90E+11</td>\n",
       "      <td>São José do Rio Preto</td>\n",
       "      <td>18</td>\n",
       "      <td>F</td>\n",
       "      <td>1</td>\n",
       "      <td>branca</td>\n",
       "      <td>1</td>\n",
       "      <td>2</td>\n",
       "      <td>pública</td>\n",
       "      <td>35028927.0</td>\n",
       "      <td>...</td>\n",
       "      <td>612.8</td>\n",
       "      <td>Espanhol</td>\n",
       "      <td>1.0</td>\n",
       "      <td>120.0</td>\n",
       "      <td>160.0</td>\n",
       "      <td>120.0</td>\n",
       "      <td>80.0</td>\n",
       "      <td>100.0</td>\n",
       "      <td>580.0</td>\n",
       "      <td>Não</td>\n",
       "    </tr>\n",
       "    <tr>\n",
       "      <th>6</th>\n",
       "      <td>1,90E+11</td>\n",
       "      <td>Franca</td>\n",
       "      <td>32</td>\n",
       "      <td>M</td>\n",
       "      <td>1</td>\n",
       "      <td>parda</td>\n",
       "      <td>1</td>\n",
       "      <td>1</td>\n",
       "      <td>não_respondeu</td>\n",
       "      <td>NaN</td>\n",
       "      <td>...</td>\n",
       "      <td>584.1</td>\n",
       "      <td>Espanhol</td>\n",
       "      <td>1.0</td>\n",
       "      <td>120.0</td>\n",
       "      <td>120.0</td>\n",
       "      <td>120.0</td>\n",
       "      <td>120.0</td>\n",
       "      <td>100.0</td>\n",
       "      <td>580.0</td>\n",
       "      <td>Sim</td>\n",
       "    </tr>\n",
       "    <tr>\n",
       "      <th>7</th>\n",
       "      <td>1,90E+11</td>\n",
       "      <td>Santo André</td>\n",
       "      <td>20</td>\n",
       "      <td>F</td>\n",
       "      <td>1</td>\n",
       "      <td>parda</td>\n",
       "      <td>1</td>\n",
       "      <td>1</td>\n",
       "      <td>não_respondeu</td>\n",
       "      <td>NaN</td>\n",
       "      <td>...</td>\n",
       "      <td>508.5</td>\n",
       "      <td>Espanhol</td>\n",
       "      <td>1.0</td>\n",
       "      <td>120.0</td>\n",
       "      <td>120.0</td>\n",
       "      <td>120.0</td>\n",
       "      <td>100.0</td>\n",
       "      <td>80.0</td>\n",
       "      <td>540.0</td>\n",
       "      <td>Sim</td>\n",
       "    </tr>\n",
       "    <tr>\n",
       "      <th>8</th>\n",
       "      <td>1,90E+11</td>\n",
       "      <td>São Paulo</td>\n",
       "      <td>26</td>\n",
       "      <td>M</td>\n",
       "      <td>1</td>\n",
       "      <td>branca</td>\n",
       "      <td>1</td>\n",
       "      <td>1</td>\n",
       "      <td>não_respondeu</td>\n",
       "      <td>NaN</td>\n",
       "      <td>...</td>\n",
       "      <td>681.2</td>\n",
       "      <td>Espanhol</td>\n",
       "      <td>1.0</td>\n",
       "      <td>180.0</td>\n",
       "      <td>200.0</td>\n",
       "      <td>200.0</td>\n",
       "      <td>200.0</td>\n",
       "      <td>120.0</td>\n",
       "      <td>900.0</td>\n",
       "      <td>Sim</td>\n",
       "    </tr>\n",
       "    <tr>\n",
       "      <th>9</th>\n",
       "      <td>1,90E+11</td>\n",
       "      <td>Santo André</td>\n",
       "      <td>44</td>\n",
       "      <td>F</td>\n",
       "      <td>2</td>\n",
       "      <td>parda</td>\n",
       "      <td>1</td>\n",
       "      <td>1</td>\n",
       "      <td>não_respondeu</td>\n",
       "      <td>NaN</td>\n",
       "      <td>...</td>\n",
       "      <td>488.1</td>\n",
       "      <td>Espanhol</td>\n",
       "      <td>1.0</td>\n",
       "      <td>120.0</td>\n",
       "      <td>120.0</td>\n",
       "      <td>120.0</td>\n",
       "      <td>120.0</td>\n",
       "      <td>40.0</td>\n",
       "      <td>520.0</td>\n",
       "      <td>Sim</td>\n",
       "    </tr>\n",
       "  </tbody>\n",
       "</table>\n",
       "<p>10 rows × 28 columns</p>\n",
       "</div>"
      ],
      "text/plain": [
       "  NU_INSCRICAO NO_MUNICIPIO_RESIDENCIA  IDADE SEXO  TP_ESTADO_CIVIL    RACA  \\\n",
       "0     1,90E+11            Santa Isabel     22    M                1   parda   \n",
       "1     1,90E+11               São Paulo     17    F                1   parda   \n",
       "2     1,90E+11   São Bernardo do Campo     19    M                1   parda   \n",
       "3     1,90E+11              Embu-Guaçu     17    F                1   parda   \n",
       "4     1,90E+11               Guarulhos     23    F                1  branca   \n",
       "5     1,90E+11   São José do Rio Preto     18    F                1  branca   \n",
       "6     1,90E+11                  Franca     32    M                1   parda   \n",
       "7     1,90E+11             Santo André     20    F                1   parda   \n",
       "8     1,90E+11               São Paulo     26    M                1  branca   \n",
       "9     1,90E+11             Santo André     44    F                2   parda   \n",
       "\n",
       "   TP_NACIONALIDADE  TP_ST_CONCLUSAO         ESCOLA   CO_ESCOLA  ... NOTA_MT  \\\n",
       "0                 1                1  não_respondeu         NaN  ...   600.2   \n",
       "1                 1                2        privada  15567761.0  ...   731.8   \n",
       "2                 1                2        pública  35904958.0  ...   393.2   \n",
       "3                 1                2        pública         NaN  ...   419.2   \n",
       "4                 1                1  não_respondeu         NaN  ...   796.1   \n",
       "5                 1                2        pública  35028927.0  ...   612.8   \n",
       "6                 1                1  não_respondeu         NaN  ...   584.1   \n",
       "7                 1                1  não_respondeu         NaN  ...   508.5   \n",
       "8                 1                1  não_respondeu         NaN  ...   681.2   \n",
       "9                 1                1  não_respondeu         NaN  ...   488.1   \n",
       "\n",
       "   TP_LINGUA  TP_STATUS_REDACAO  COMP1  COMP2  COMP3  COMP4  COMP5  \\\n",
       "0     Inglês                1.0  160.0  200.0  180.0  200.0  200.0   \n",
       "1     Inglês                1.0  160.0  120.0  200.0  200.0  200.0   \n",
       "2   Espanhol                1.0   80.0  160.0  120.0  100.0  100.0   \n",
       "3     Inglês                1.0  120.0  120.0  120.0  120.0   80.0   \n",
       "4     Inglês                1.0  160.0  200.0  180.0  180.0  160.0   \n",
       "5   Espanhol                1.0  120.0  160.0  120.0   80.0  100.0   \n",
       "6   Espanhol                1.0  120.0  120.0  120.0  120.0  100.0   \n",
       "7   Espanhol                1.0  120.0  120.0  120.0  100.0   80.0   \n",
       "8   Espanhol                1.0  180.0  200.0  200.0  200.0  120.0   \n",
       "9   Espanhol                1.0  120.0  120.0  120.0  120.0   40.0   \n",
       "\n",
       "   NOTA_REDACAO INTERNET  \n",
       "0         940.0      Sim  \n",
       "1         880.0      Não  \n",
       "2         560.0      Sim  \n",
       "3         560.0      Sim  \n",
       "4         880.0      Sim  \n",
       "5         580.0      Não  \n",
       "6         580.0      Sim  \n",
       "7         540.0      Sim  \n",
       "8         900.0      Sim  \n",
       "9         520.0      Sim  \n",
       "\n",
       "[10 rows x 28 columns]"
      ]
     },
     "execution_count": 3,
     "metadata": {},
     "output_type": "execute_result"
    }
   ],
   "source": [
    "enem.head(10)"
   ]
  },
  {
   "cell_type": "code",
   "execution_count": 4,
   "metadata": {
    "id": "M9ZTDermwdol"
   },
   "outputs": [
    {
     "data": {
      "text/plain": [
       "Index(['NU_INSCRICAO', 'NO_MUNICIPIO_RESIDENCIA', 'IDADE', 'SEXO',\n",
       "       'TP_ESTADO_CIVIL', 'RACA', 'TP_NACIONALIDADE', 'TP_ST_CONCLUSAO',\n",
       "       'ESCOLA', 'CO_ESCOLA', 'NO_MUNICIPIO_ESC', 'TP_PRESENCA_CN',\n",
       "       'TP_PRESENCA_CH', 'TP_PRESENCA_LC', 'TP_PRESENCA_MT', 'NOTA_CN',\n",
       "       'NOTA_CH', 'NOTA_LC', 'NOTA_MT', 'TP_LINGUA', 'TP_STATUS_REDACAO',\n",
       "       'COMP1', 'COMP2', 'COMP3', 'COMP4', 'COMP5', 'NOTA_REDACAO',\n",
       "       'INTERNET'],\n",
       "      dtype='object')"
      ]
     },
     "execution_count": 4,
     "metadata": {},
     "output_type": "execute_result"
    }
   ],
   "source": [
    "enem.columns"
   ]
  },
  {
   "cell_type": "code",
   "execution_count": 5,
   "metadata": {
    "id": "uvP1RFL4wdol"
   },
   "outputs": [
    {
     "data": {
      "text/plain": [
       "(499940, 28)"
      ]
     },
     "execution_count": 5,
     "metadata": {},
     "output_type": "execute_result"
    }
   ],
   "source": [
    "enem.shape"
   ]
  },
  {
   "cell_type": "markdown",
   "metadata": {
    "id": "AD2_7k4TwLbK"
   },
   "source": [
    "**Selecionando apenas um dos colégios**"
   ]
  },
  {
   "cell_type": "code",
   "execution_count": 8,
   "metadata": {
    "id": "tGOXMQyywdom"
   },
   "outputs": [],
   "source": [
    "colegiox = enem.loc[enem.CO_ESCOLA == 35132287]"
   ]
  },
  {
   "cell_type": "code",
   "execution_count": 9,
   "metadata": {
    "id": "U6wIQMunwdon"
   },
   "outputs": [
    {
     "data": {
      "text/html": [
       "<div>\n",
       "<style scoped>\n",
       "    .dataframe tbody tr th:only-of-type {\n",
       "        vertical-align: middle;\n",
       "    }\n",
       "\n",
       "    .dataframe tbody tr th {\n",
       "        vertical-align: top;\n",
       "    }\n",
       "\n",
       "    .dataframe thead th {\n",
       "        text-align: right;\n",
       "    }\n",
       "</style>\n",
       "<table border=\"1\" class=\"dataframe\">\n",
       "  <thead>\n",
       "    <tr style=\"text-align: right;\">\n",
       "      <th></th>\n",
       "      <th>NU_INSCRICAO</th>\n",
       "      <th>NO_MUNICIPIO_RESIDENCIA</th>\n",
       "      <th>IDADE</th>\n",
       "      <th>SEXO</th>\n",
       "      <th>TP_ESTADO_CIVIL</th>\n",
       "      <th>RACA</th>\n",
       "      <th>TP_NACIONALIDADE</th>\n",
       "      <th>TP_ST_CONCLUSAO</th>\n",
       "      <th>ESCOLA</th>\n",
       "      <th>CO_ESCOLA</th>\n",
       "      <th>...</th>\n",
       "      <th>NOTA_MT</th>\n",
       "      <th>TP_LINGUA</th>\n",
       "      <th>TP_STATUS_REDACAO</th>\n",
       "      <th>COMP1</th>\n",
       "      <th>COMP2</th>\n",
       "      <th>COMP3</th>\n",
       "      <th>COMP4</th>\n",
       "      <th>COMP5</th>\n",
       "      <th>NOTA_REDACAO</th>\n",
       "      <th>INTERNET</th>\n",
       "    </tr>\n",
       "  </thead>\n",
       "  <tbody>\n",
       "    <tr>\n",
       "      <th>17</th>\n",
       "      <td>1,90E+11</td>\n",
       "      <td>São Paulo</td>\n",
       "      <td>18</td>\n",
       "      <td>F</td>\n",
       "      <td>1</td>\n",
       "      <td>branca</td>\n",
       "      <td>1</td>\n",
       "      <td>2</td>\n",
       "      <td>privada</td>\n",
       "      <td>35132287.0</td>\n",
       "      <td>...</td>\n",
       "      <td>49.1</td>\n",
       "      <td>Inglês</td>\n",
       "      <td>1.0</td>\n",
       "      <td>160.0</td>\n",
       "      <td>140.0</td>\n",
       "      <td>140.0</td>\n",
       "      <td>160.0</td>\n",
       "      <td>160.0</td>\n",
       "      <td>760.0</td>\n",
       "      <td>Sim</td>\n",
       "    </tr>\n",
       "    <tr>\n",
       "      <th>10760</th>\n",
       "      <td>1,90E+11</td>\n",
       "      <td>São Paulo</td>\n",
       "      <td>17</td>\n",
       "      <td>M</td>\n",
       "      <td>1</td>\n",
       "      <td>parda</td>\n",
       "      <td>1</td>\n",
       "      <td>2</td>\n",
       "      <td>privada</td>\n",
       "      <td>35132287.0</td>\n",
       "      <td>...</td>\n",
       "      <td>930.5</td>\n",
       "      <td>Inglês</td>\n",
       "      <td>1.0</td>\n",
       "      <td>180.0</td>\n",
       "      <td>200.0</td>\n",
       "      <td>200.0</td>\n",
       "      <td>200.0</td>\n",
       "      <td>140.0</td>\n",
       "      <td>920.0</td>\n",
       "      <td>Sim</td>\n",
       "    </tr>\n",
       "    <tr>\n",
       "      <th>13315</th>\n",
       "      <td>1,90E+11</td>\n",
       "      <td>São Paulo</td>\n",
       "      <td>17</td>\n",
       "      <td>F</td>\n",
       "      <td>1</td>\n",
       "      <td>branca</td>\n",
       "      <td>1</td>\n",
       "      <td>2</td>\n",
       "      <td>privada</td>\n",
       "      <td>35132287.0</td>\n",
       "      <td>...</td>\n",
       "      <td>663.9</td>\n",
       "      <td>Inglês</td>\n",
       "      <td>1.0</td>\n",
       "      <td>160.0</td>\n",
       "      <td>140.0</td>\n",
       "      <td>160.0</td>\n",
       "      <td>200.0</td>\n",
       "      <td>120.0</td>\n",
       "      <td>780.0</td>\n",
       "      <td>Sim</td>\n",
       "    </tr>\n",
       "    <tr>\n",
       "      <th>20006</th>\n",
       "      <td>1,90E+11</td>\n",
       "      <td>São Paulo</td>\n",
       "      <td>17</td>\n",
       "      <td>F</td>\n",
       "      <td>1</td>\n",
       "      <td>branca</td>\n",
       "      <td>1</td>\n",
       "      <td>2</td>\n",
       "      <td>privada</td>\n",
       "      <td>35132287.0</td>\n",
       "      <td>...</td>\n",
       "      <td>771.9</td>\n",
       "      <td>Inglês</td>\n",
       "      <td>1.0</td>\n",
       "      <td>140.0</td>\n",
       "      <td>180.0</td>\n",
       "      <td>160.0</td>\n",
       "      <td>180.0</td>\n",
       "      <td>140.0</td>\n",
       "      <td>800.0</td>\n",
       "      <td>Sim</td>\n",
       "    </tr>\n",
       "    <tr>\n",
       "      <th>26697</th>\n",
       "      <td>1,90E+11</td>\n",
       "      <td>São Paulo</td>\n",
       "      <td>18</td>\n",
       "      <td>F</td>\n",
       "      <td>1</td>\n",
       "      <td>branca</td>\n",
       "      <td>1</td>\n",
       "      <td>2</td>\n",
       "      <td>privada</td>\n",
       "      <td>35132287.0</td>\n",
       "      <td>...</td>\n",
       "      <td>663.1</td>\n",
       "      <td>Inglês</td>\n",
       "      <td>1.0</td>\n",
       "      <td>160.0</td>\n",
       "      <td>200.0</td>\n",
       "      <td>200.0</td>\n",
       "      <td>200.0</td>\n",
       "      <td>200.0</td>\n",
       "      <td>960.0</td>\n",
       "      <td>Sim</td>\n",
       "    </tr>\n",
       "  </tbody>\n",
       "</table>\n",
       "<p>5 rows × 28 columns</p>\n",
       "</div>"
      ],
      "text/plain": [
       "      NU_INSCRICAO NO_MUNICIPIO_RESIDENCIA  IDADE SEXO  TP_ESTADO_CIVIL  \\\n",
       "17        1,90E+11               São Paulo     18    F                1   \n",
       "10760     1,90E+11               São Paulo     17    M                1   \n",
       "13315     1,90E+11               São Paulo     17    F                1   \n",
       "20006     1,90E+11               São Paulo     17    F                1   \n",
       "26697     1,90E+11               São Paulo     18    F                1   \n",
       "\n",
       "         RACA  TP_NACIONALIDADE  TP_ST_CONCLUSAO   ESCOLA   CO_ESCOLA  ...  \\\n",
       "17     branca                 1                2  privada  35132287.0  ...   \n",
       "10760   parda                 1                2  privada  35132287.0  ...   \n",
       "13315  branca                 1                2  privada  35132287.0  ...   \n",
       "20006  branca                 1                2  privada  35132287.0  ...   \n",
       "26697  branca                 1                2  privada  35132287.0  ...   \n",
       "\n",
       "      NOTA_MT  TP_LINGUA  TP_STATUS_REDACAO  COMP1  COMP2  COMP3  COMP4  \\\n",
       "17       49.1     Inglês                1.0  160.0  140.0  140.0  160.0   \n",
       "10760   930.5     Inglês                1.0  180.0  200.0  200.0  200.0   \n",
       "13315   663.9     Inglês                1.0  160.0  140.0  160.0  200.0   \n",
       "20006   771.9     Inglês                1.0  140.0  180.0  160.0  180.0   \n",
       "26697   663.1     Inglês                1.0  160.0  200.0  200.0  200.0   \n",
       "\n",
       "       COMP5  NOTA_REDACAO INTERNET  \n",
       "17     160.0         760.0      Sim  \n",
       "10760  140.0         920.0      Sim  \n",
       "13315  120.0         780.0      Sim  \n",
       "20006  140.0         800.0      Sim  \n",
       "26697  200.0         960.0      Sim  \n",
       "\n",
       "[5 rows x 28 columns]"
      ]
     },
     "execution_count": 9,
     "metadata": {},
     "output_type": "execute_result"
    }
   ],
   "source": [
    "colegiox.head()"
   ]
  },
  {
   "cell_type": "code",
   "execution_count": 10,
   "metadata": {
    "id": "bV4eDiT6wdon"
   },
   "outputs": [
    {
     "data": {
      "text/plain": [
       "(130, 28)"
      ]
     },
     "execution_count": 10,
     "metadata": {},
     "output_type": "execute_result"
    }
   ],
   "source": [
    "colegiox.shape"
   ]
  },
  {
   "cell_type": "markdown",
   "metadata": {},
   "source": [
    "**Análise descritiva**"
   ]
  },
  {
   "cell_type": "code",
   "execution_count": 71,
   "metadata": {},
   "outputs": [
    {
     "data": {
      "text/html": [
       "<div>\n",
       "<style scoped>\n",
       "    .dataframe tbody tr th:only-of-type {\n",
       "        vertical-align: middle;\n",
       "    }\n",
       "\n",
       "    .dataframe tbody tr th {\n",
       "        vertical-align: top;\n",
       "    }\n",
       "\n",
       "    .dataframe thead th {\n",
       "        text-align: right;\n",
       "    }\n",
       "</style>\n",
       "<table border=\"1\" class=\"dataframe\">\n",
       "  <thead>\n",
       "    <tr style=\"text-align: right;\">\n",
       "      <th></th>\n",
       "      <th>IDADE</th>\n",
       "      <th>TP_ESTADO_CIVIL</th>\n",
       "      <th>TP_NACIONALIDADE</th>\n",
       "      <th>TP_ST_CONCLUSAO</th>\n",
       "      <th>CO_ESCOLA</th>\n",
       "      <th>TP_PRESENCA_CN</th>\n",
       "      <th>TP_PRESENCA_CH</th>\n",
       "      <th>TP_PRESENCA_LC</th>\n",
       "      <th>TP_PRESENCA_MT</th>\n",
       "      <th>NOTA_CN</th>\n",
       "      <th>...</th>\n",
       "      <th>NOTA_MT</th>\n",
       "      <th>TP_STATUS_REDACAO</th>\n",
       "      <th>COMP1</th>\n",
       "      <th>COMP2</th>\n",
       "      <th>COMP3</th>\n",
       "      <th>COMP4</th>\n",
       "      <th>COMP5</th>\n",
       "      <th>NOTA_REDACAO</th>\n",
       "      <th>previsao</th>\n",
       "      <th>previsao2</th>\n",
       "    </tr>\n",
       "  </thead>\n",
       "  <tbody>\n",
       "    <tr>\n",
       "      <th>count</th>\n",
       "      <td>130.000000</td>\n",
       "      <td>130.000000</td>\n",
       "      <td>130.000000</td>\n",
       "      <td>130.0</td>\n",
       "      <td>130.0</td>\n",
       "      <td>130.0</td>\n",
       "      <td>130.0</td>\n",
       "      <td>130.0</td>\n",
       "      <td>130.0</td>\n",
       "      <td>130.000000</td>\n",
       "      <td>...</td>\n",
       "      <td>130.000000</td>\n",
       "      <td>130.0</td>\n",
       "      <td>130.000000</td>\n",
       "      <td>130.000000</td>\n",
       "      <td>130.000000</td>\n",
       "      <td>130.000000</td>\n",
       "      <td>130.000000</td>\n",
       "      <td>130.000000</td>\n",
       "      <td>130.000000</td>\n",
       "      <td>130.000000</td>\n",
       "    </tr>\n",
       "    <tr>\n",
       "      <th>mean</th>\n",
       "      <td>17.246154</td>\n",
       "      <td>1.007692</td>\n",
       "      <td>1.046154</td>\n",
       "      <td>2.0</td>\n",
       "      <td>35132287.0</td>\n",
       "      <td>1.0</td>\n",
       "      <td>1.0</td>\n",
       "      <td>1.0</td>\n",
       "      <td>1.0</td>\n",
       "      <td>566.729231</td>\n",
       "      <td>...</td>\n",
       "      <td>667.336154</td>\n",
       "      <td>1.0</td>\n",
       "      <td>157.384615</td>\n",
       "      <td>172.307692</td>\n",
       "      <td>170.461538</td>\n",
       "      <td>176.307692</td>\n",
       "      <td>171.538462</td>\n",
       "      <td>848.000000</td>\n",
       "      <td>848.000000</td>\n",
       "      <td>848.000000</td>\n",
       "    </tr>\n",
       "    <tr>\n",
       "      <th>std</th>\n",
       "      <td>0.499015</td>\n",
       "      <td>0.196723</td>\n",
       "      <td>0.301457</td>\n",
       "      <td>0.0</td>\n",
       "      <td>0.0</td>\n",
       "      <td>0.0</td>\n",
       "      <td>0.0</td>\n",
       "      <td>0.0</td>\n",
       "      <td>0.0</td>\n",
       "      <td>157.603806</td>\n",
       "      <td>...</td>\n",
       "      <td>204.128434</td>\n",
       "      <td>0.0</td>\n",
       "      <td>15.629124</td>\n",
       "      <td>31.928662</td>\n",
       "      <td>25.053788</td>\n",
       "      <td>25.000417</td>\n",
       "      <td>25.983344</td>\n",
       "      <td>91.722534</td>\n",
       "      <td>88.145656</td>\n",
       "      <td>83.656801</td>\n",
       "    </tr>\n",
       "    <tr>\n",
       "      <th>min</th>\n",
       "      <td>16.000000</td>\n",
       "      <td>0.000000</td>\n",
       "      <td>1.000000</td>\n",
       "      <td>2.0</td>\n",
       "      <td>35132287.0</td>\n",
       "      <td>1.0</td>\n",
       "      <td>1.0</td>\n",
       "      <td>1.0</td>\n",
       "      <td>1.0</td>\n",
       "      <td>49.000000</td>\n",
       "      <td>...</td>\n",
       "      <td>49.100000</td>\n",
       "      <td>1.0</td>\n",
       "      <td>100.000000</td>\n",
       "      <td>80.000000</td>\n",
       "      <td>80.000000</td>\n",
       "      <td>120.000000</td>\n",
       "      <td>100.000000</td>\n",
       "      <td>540.000000</td>\n",
       "      <td>597.683137</td>\n",
       "      <td>635.666249</td>\n",
       "    </tr>\n",
       "    <tr>\n",
       "      <th>25%</th>\n",
       "      <td>17.000000</td>\n",
       "      <td>1.000000</td>\n",
       "      <td>1.000000</td>\n",
       "      <td>2.0</td>\n",
       "      <td>35132287.0</td>\n",
       "      <td>1.0</td>\n",
       "      <td>1.0</td>\n",
       "      <td>1.0</td>\n",
       "      <td>1.0</td>\n",
       "      <td>556.725000</td>\n",
       "      <td>...</td>\n",
       "      <td>654.550000</td>\n",
       "      <td>1.0</td>\n",
       "      <td>160.000000</td>\n",
       "      <td>145.000000</td>\n",
       "      <td>160.000000</td>\n",
       "      <td>160.000000</td>\n",
       "      <td>160.000000</td>\n",
       "      <td>800.000000</td>\n",
       "      <td>797.838058</td>\n",
       "      <td>808.354107</td>\n",
       "    </tr>\n",
       "    <tr>\n",
       "      <th>50%</th>\n",
       "      <td>17.000000</td>\n",
       "      <td>1.000000</td>\n",
       "      <td>1.000000</td>\n",
       "      <td>2.0</td>\n",
       "      <td>35132287.0</td>\n",
       "      <td>1.0</td>\n",
       "      <td>1.0</td>\n",
       "      <td>1.0</td>\n",
       "      <td>1.0</td>\n",
       "      <td>601.850000</td>\n",
       "      <td>...</td>\n",
       "      <td>721.550000</td>\n",
       "      <td>1.0</td>\n",
       "      <td>160.000000</td>\n",
       "      <td>180.000000</td>\n",
       "      <td>180.000000</td>\n",
       "      <td>180.000000</td>\n",
       "      <td>180.000000</td>\n",
       "      <td>860.000000</td>\n",
       "      <td>858.515496</td>\n",
       "      <td>860.268202</td>\n",
       "    </tr>\n",
       "    <tr>\n",
       "      <th>75%</th>\n",
       "      <td>17.000000</td>\n",
       "      <td>1.000000</td>\n",
       "      <td>1.000000</td>\n",
       "      <td>2.0</td>\n",
       "      <td>35132287.0</td>\n",
       "      <td>1.0</td>\n",
       "      <td>1.0</td>\n",
       "      <td>1.0</td>\n",
       "      <td>1.0</td>\n",
       "      <td>640.000000</td>\n",
       "      <td>...</td>\n",
       "      <td>771.825000</td>\n",
       "      <td>1.0</td>\n",
       "      <td>160.000000</td>\n",
       "      <td>200.000000</td>\n",
       "      <td>195.000000</td>\n",
       "      <td>200.000000</td>\n",
       "      <td>200.000000</td>\n",
       "      <td>920.000000</td>\n",
       "      <td>910.677230</td>\n",
       "      <td>932.530837</td>\n",
       "    </tr>\n",
       "    <tr>\n",
       "      <th>max</th>\n",
       "      <td>19.000000</td>\n",
       "      <td>3.000000</td>\n",
       "      <td>4.000000</td>\n",
       "      <td>2.0</td>\n",
       "      <td>35132287.0</td>\n",
       "      <td>1.0</td>\n",
       "      <td>1.0</td>\n",
       "      <td>1.0</td>\n",
       "      <td>1.0</td>\n",
       "      <td>769.300000</td>\n",
       "      <td>...</td>\n",
       "      <td>930.500000</td>\n",
       "      <td>1.0</td>\n",
       "      <td>200.000000</td>\n",
       "      <td>200.000000</td>\n",
       "      <td>200.000000</td>\n",
       "      <td>200.000000</td>\n",
       "      <td>200.000000</td>\n",
       "      <td>980.000000</td>\n",
       "      <td>958.650406</td>\n",
       "      <td>939.726164</td>\n",
       "    </tr>\n",
       "  </tbody>\n",
       "</table>\n",
       "<p>8 rows × 22 columns</p>\n",
       "</div>"
      ],
      "text/plain": [
       "            IDADE  TP_ESTADO_CIVIL  TP_NACIONALIDADE  TP_ST_CONCLUSAO  \\\n",
       "count  130.000000       130.000000        130.000000            130.0   \n",
       "mean    17.246154         1.007692          1.046154              2.0   \n",
       "std      0.499015         0.196723          0.301457              0.0   \n",
       "min     16.000000         0.000000          1.000000              2.0   \n",
       "25%     17.000000         1.000000          1.000000              2.0   \n",
       "50%     17.000000         1.000000          1.000000              2.0   \n",
       "75%     17.000000         1.000000          1.000000              2.0   \n",
       "max     19.000000         3.000000          4.000000              2.0   \n",
       "\n",
       "        CO_ESCOLA  TP_PRESENCA_CN  TP_PRESENCA_CH  TP_PRESENCA_LC  \\\n",
       "count       130.0           130.0           130.0           130.0   \n",
       "mean   35132287.0             1.0             1.0             1.0   \n",
       "std           0.0             0.0             0.0             0.0   \n",
       "min    35132287.0             1.0             1.0             1.0   \n",
       "25%    35132287.0             1.0             1.0             1.0   \n",
       "50%    35132287.0             1.0             1.0             1.0   \n",
       "75%    35132287.0             1.0             1.0             1.0   \n",
       "max    35132287.0             1.0             1.0             1.0   \n",
       "\n",
       "       TP_PRESENCA_MT     NOTA_CN  ...     NOTA_MT  TP_STATUS_REDACAO  \\\n",
       "count           130.0  130.000000  ...  130.000000              130.0   \n",
       "mean              1.0  566.729231  ...  667.336154                1.0   \n",
       "std               0.0  157.603806  ...  204.128434                0.0   \n",
       "min               1.0   49.000000  ...   49.100000                1.0   \n",
       "25%               1.0  556.725000  ...  654.550000                1.0   \n",
       "50%               1.0  601.850000  ...  721.550000                1.0   \n",
       "75%               1.0  640.000000  ...  771.825000                1.0   \n",
       "max               1.0  769.300000  ...  930.500000                1.0   \n",
       "\n",
       "            COMP1       COMP2       COMP3       COMP4       COMP5  \\\n",
       "count  130.000000  130.000000  130.000000  130.000000  130.000000   \n",
       "mean   157.384615  172.307692  170.461538  176.307692  171.538462   \n",
       "std     15.629124   31.928662   25.053788   25.000417   25.983344   \n",
       "min    100.000000   80.000000   80.000000  120.000000  100.000000   \n",
       "25%    160.000000  145.000000  160.000000  160.000000  160.000000   \n",
       "50%    160.000000  180.000000  180.000000  180.000000  180.000000   \n",
       "75%    160.000000  200.000000  195.000000  200.000000  200.000000   \n",
       "max    200.000000  200.000000  200.000000  200.000000  200.000000   \n",
       "\n",
       "       NOTA_REDACAO    previsao   previsao2  \n",
       "count    130.000000  130.000000  130.000000  \n",
       "mean     848.000000  848.000000  848.000000  \n",
       "std       91.722534   88.145656   83.656801  \n",
       "min      540.000000  597.683137  635.666249  \n",
       "25%      800.000000  797.838058  808.354107  \n",
       "50%      860.000000  858.515496  860.268202  \n",
       "75%      920.000000  910.677230  932.530837  \n",
       "max      980.000000  958.650406  939.726164  \n",
       "\n",
       "[8 rows x 22 columns]"
      ]
     },
     "execution_count": 71,
     "metadata": {},
     "output_type": "execute_result"
    }
   ],
   "source": [
    "colegiox.describe()"
   ]
  },
  {
   "cell_type": "markdown",
   "metadata": {
    "id": "eKnouWHjwaLq"
   },
   "source": [
    "**Valores Missing**"
   ]
  },
  {
   "cell_type": "code",
   "execution_count": 11,
   "metadata": {
    "id": "MbJ1Ft4Qwdoo"
   },
   "outputs": [
    {
     "data": {
      "text/plain": [
       "NU_INSCRICAO               0\n",
       "NO_MUNICIPIO_RESIDENCIA    0\n",
       "IDADE                      0\n",
       "SEXO                       0\n",
       "TP_ESTADO_CIVIL            0\n",
       "RACA                       0\n",
       "TP_NACIONALIDADE           0\n",
       "TP_ST_CONCLUSAO            0\n",
       "ESCOLA                     0\n",
       "CO_ESCOLA                  0\n",
       "NO_MUNICIPIO_ESC           0\n",
       "TP_PRESENCA_CN             0\n",
       "TP_PRESENCA_CH             0\n",
       "TP_PRESENCA_LC             0\n",
       "TP_PRESENCA_MT             0\n",
       "NOTA_CN                    0\n",
       "NOTA_CH                    0\n",
       "NOTA_LC                    0\n",
       "NOTA_MT                    0\n",
       "TP_LINGUA                  0\n",
       "TP_STATUS_REDACAO          0\n",
       "COMP1                      0\n",
       "COMP2                      0\n",
       "COMP3                      0\n",
       "COMP4                      0\n",
       "COMP5                      0\n",
       "NOTA_REDACAO               0\n",
       "INTERNET                   0\n",
       "dtype: int64"
      ]
     },
     "execution_count": 11,
     "metadata": {},
     "output_type": "execute_result"
    }
   ],
   "source": [
    "colegiox.isnull().sum()"
   ]
  },
  {
   "cell_type": "code",
   "execution_count": 12,
   "metadata": {
    "id": "x5YwR7m9wdoo"
   },
   "outputs": [
    {
     "data": {
      "text/plain": [
       "NU_INSCRICAO                object\n",
       "NO_MUNICIPIO_RESIDENCIA     object\n",
       "IDADE                        int64\n",
       "SEXO                        object\n",
       "TP_ESTADO_CIVIL              int64\n",
       "RACA                        object\n",
       "TP_NACIONALIDADE             int64\n",
       "TP_ST_CONCLUSAO              int64\n",
       "ESCOLA                      object\n",
       "CO_ESCOLA                  float64\n",
       "NO_MUNICIPIO_ESC            object\n",
       "TP_PRESENCA_CN               int64\n",
       "TP_PRESENCA_CH               int64\n",
       "TP_PRESENCA_LC               int64\n",
       "TP_PRESENCA_MT               int64\n",
       "NOTA_CN                    float64\n",
       "NOTA_CH                    float64\n",
       "NOTA_LC                    float64\n",
       "NOTA_MT                    float64\n",
       "TP_LINGUA                   object\n",
       "TP_STATUS_REDACAO          float64\n",
       "COMP1                      float64\n",
       "COMP2                      float64\n",
       "COMP3                      float64\n",
       "COMP4                      float64\n",
       "COMP5                      float64\n",
       "NOTA_REDACAO               float64\n",
       "INTERNET                    object\n",
       "dtype: object"
      ]
     },
     "execution_count": 12,
     "metadata": {},
     "output_type": "execute_result"
    }
   ],
   "source": [
    "colegiox.dtypes"
   ]
  },
  {
   "cell_type": "markdown",
   "metadata": {
    "id": "txfVfpIMmFtp"
   },
   "source": [
    "## **Regressão múltipla com statsmodel**"
   ]
  },
  {
   "cell_type": "markdown",
   "metadata": {
    "id": "t4GdpiA0yOyh"
   },
   "source": [
    "## **MODELO 1**"
   ]
  },
  {
   "cell_type": "code",
   "execution_count": 13,
   "metadata": {
    "id": "33t6bYgdy7LC"
   },
   "outputs": [],
   "source": [
    "import statsmodels.formula.api as smf\n",
    "import statsmodels.stats.api as sms"
   ]
  },
  {
   "cell_type": "code",
   "execution_count": 75,
   "metadata": {
    "id": "oqUnK41-wdoq"
   },
   "outputs": [],
   "source": [
    "variaveis = colegiox[['NOTA_REDACAO', 'COMP2', 'COMP4', 'COMP5']]"
   ]
  },
  {
   "cell_type": "code",
   "execution_count": 76,
   "metadata": {},
   "outputs": [
    {
     "data": {
      "image/png": "[encoded data removed]",
      "text/plain": [
       "<Figure size 1000x1000 with 20 Axes>"
      ]
     },
     "metadata": {},
     "output_type": "display_data"
    }
   ],
   "source": [
    "# Análise gráfica - Pairplot\n",
    "import seaborn as sns\n",
    "sns.pairplot(variaveis)\n",
    "plt.suptitle(\"Análise Gráfica dos Dados Notas Enem\", y=1.02)\n",
    "plt.show()"
   ]
  },
  {
   "cell_type": "code",
   "execution_count": 15,
   "metadata": {
    "id": "UOtcngWawdoq"
   },
   "outputs": [
    {
     "data": {
      "text/html": [
       "<div>\n",
       "<style scoped>\n",
       "    .dataframe tbody tr th:only-of-type {\n",
       "        vertical-align: middle;\n",
       "    }\n",
       "\n",
       "    .dataframe tbody tr th {\n",
       "        vertical-align: top;\n",
       "    }\n",
       "\n",
       "    .dataframe thead th {\n",
       "        text-align: right;\n",
       "    }\n",
       "</style>\n",
       "<table border=\"1\" class=\"dataframe\">\n",
       "  <thead>\n",
       "    <tr style=\"text-align: right;\">\n",
       "      <th></th>\n",
       "      <th>NOTA_REDACAO</th>\n",
       "      <th>COMP2</th>\n",
       "      <th>COMP4</th>\n",
       "      <th>COMP5</th>\n",
       "    </tr>\n",
       "  </thead>\n",
       "  <tbody>\n",
       "    <tr>\n",
       "      <th>NOTA_REDACAO</th>\n",
       "      <td>1.000000</td>\n",
       "      <td>0.725277</td>\n",
       "      <td>0.785098</td>\n",
       "      <td>0.675253</td>\n",
       "    </tr>\n",
       "    <tr>\n",
       "      <th>COMP2</th>\n",
       "      <td>0.725277</td>\n",
       "      <td>1.000000</td>\n",
       "      <td>0.375906</td>\n",
       "      <td>0.298434</td>\n",
       "    </tr>\n",
       "    <tr>\n",
       "      <th>COMP4</th>\n",
       "      <td>0.785098</td>\n",
       "      <td>0.375906</td>\n",
       "      <td>1.000000</td>\n",
       "      <td>0.428872</td>\n",
       "    </tr>\n",
       "    <tr>\n",
       "      <th>COMP5</th>\n",
       "      <td>0.675253</td>\n",
       "      <td>0.298434</td>\n",
       "      <td>0.428872</td>\n",
       "      <td>1.000000</td>\n",
       "    </tr>\n",
       "  </tbody>\n",
       "</table>\n",
       "</div>"
      ],
      "text/plain": [
       "              NOTA_REDACAO     COMP2     COMP4     COMP5\n",
       "NOTA_REDACAO      1.000000  0.725277  0.785098  0.675253\n",
       "COMP2             0.725277  1.000000  0.375906  0.298434\n",
       "COMP4             0.785098  0.375906  1.000000  0.428872\n",
       "COMP5             0.675253  0.298434  0.428872  1.000000"
      ]
     },
     "execution_count": 15,
     "metadata": {},
     "output_type": "execute_result"
    }
   ],
   "source": [
    "variaveis.corr()"
   ]
  },
  {
   "cell_type": "code",
   "execution_count": 77,
   "metadata": {},
   "outputs": [
    {
     "data": {
      "image/png": "[encoded data removed]",
      "text/plain": [
       "<Figure size 1000x800 with 2 Axes>"
      ]
     },
     "metadata": {},
     "output_type": "display_data"
    }
   ],
   "source": [
    "correlation_matrix = variaveis.corr()\n",
    "plt.figure(figsize=(10, 8))\n",
    "sns.heatmap(correlation_matrix, annot=True, cmap=\"RdYlGn\", fmt=\".2f\")\n",
    "plt.title(\"Matriz de Correlação\")\n",
    "plt.show()"
   ]
  },
  {
   "cell_type": "markdown",
   "metadata": {
    "id": "3laOQ2Dvwdoq"
   },
   "source": [
    "Criando o Modelo "
   ]
  },
  {
   "cell_type": "code",
   "execution_count": null,
   "metadata": {},
   "outputs": [],
   "source": [
    "modelo = smf.ols('NOTA_REDACAO ~ COMP2 + COMP4 + COMP5', data = colegiox).fit()"
   ]
  },
  {
   "cell_type": "markdown",
   "metadata": {},
   "source": [
    "Criando um vetor com os resíduos"
   ]
  },
  {
   "cell_type": "code",
   "execution_count": 17,
   "metadata": {
    "id": "9ifjFjXJwdor"
   },
   "outputs": [
    {
     "data": {
      "text/plain": [
       "17        -4.498054\n",
       "10760     33.309358\n",
       "13315     -5.718021\n",
       "20006    -26.432059\n",
       "26697      1.349594\n",
       "            ...    \n",
       "426829    35.760528\n",
       "428241   -17.683137\n",
       "443242   -17.497499\n",
       "462446   -56.783460\n",
       "483420    34.529325\n",
       "Length: 130, dtype: float64"
      ]
     },
     "execution_count": 17,
     "metadata": {},
     "output_type": "execute_result"
    }
   ],
   "source": [
    "residuos = modelo.resid\n",
    "residuos"
   ]
  },
  {
   "cell_type": "markdown",
   "metadata": {},
   "source": [
    "### Verificando os pressupostos"
   ]
  },
  {
   "cell_type": "markdown",
   "metadata": {
    "id": "eAHuUe4jbiP7"
   },
   "source": [
    "### Teste de Normalidade dos resíduos"
   ]
  },
  {
   "cell_type": "markdown",
   "metadata": {
    "id": "Kwk129HhZNtv"
   },
   "source": [
    "Ho = distribuição normal : p > 0.05\n",
    "\n",
    "Ha = distribuição != normal : p <= 0.05"
   ]
  },
  {
   "cell_type": "code",
   "execution_count": 18,
   "metadata": {
    "id": "U56YLUoi0kSu"
   },
   "outputs": [],
   "source": [
    "import scipy.stats as stats"
   ]
  },
  {
   "cell_type": "code",
   "execution_count": 19,
   "metadata": {
    "id": "wXOfWQAKwdor"
   },
   "outputs": [],
   "source": [
    "estatistica, p = stats.shapiro(residuos)"
   ]
  },
  {
   "cell_type": "code",
   "execution_count": 22,
   "metadata": {
    "colab": {
     "base_uri": "https://localhost:8080/"
    },
    "id": "2Y7GnCSBwdos",
    "outputId": "dc28d8fb-009e-435a-fa59-873f55ad2476"
   },
   "outputs": [
    {
     "name": "stdout",
     "output_type": "stream",
     "text": [
      "Estatística de teste: 0.9847341775894165\n",
      "p-valor: 0.15436169505119324\n"
     ]
    }
   ],
   "source": [
    "print('Estatística de teste: {}'.format(estatistica))\n",
    "print('p-valor: {}'.format(p))"
   ]
  },
  {
   "cell_type": "markdown",
   "metadata": {
    "id": "KDwhdjoWwdos"
   },
   "source": [
    "Resíduos possuem distribuição normal!"
   ]
  },
  {
   "cell_type": "code",
   "execution_count": 23,
   "metadata": {
    "id": "4z9-xkujwdos"
   },
   "outputs": [],
   "source": [
    "import matplotlib.pyplot as plt"
   ]
  },
  {
   "cell_type": "code",
   "execution_count": 24,
   "metadata": {
    "id": "v1RiMU7Zwdos"
   },
   "outputs": [
    {
     "data": {
      "image/png": "[encoded data removed]",
      "text/plain": [
       "<Figure size 640x480 with 1 Axes>"
      ]
     },
     "metadata": {},
     "output_type": "display_data"
    }
   ],
   "source": [
    "stats.probplot(residuos, dist='norm', plot=plt)\n",
    "plt.show()"
   ]
  },
  {
   "cell_type": "markdown",
   "metadata": {
    "id": "xVnnlrFqr2ws"
   },
   "source": [
    "### Análise da Homocedasticidade dos resíduos\n",
    "(resíduos com variação constante)"
   ]
  },
  {
   "cell_type": "code",
   "execution_count": 27,
   "metadata": {
    "id": "CF0Yrv_owdos"
   },
   "outputs": [
    {
     "data": {
      "image/png": "[encoded data removed]",
      "text/plain": [
       "<Figure size 640x480 with 1 Axes>"
      ]
     },
     "metadata": {},
     "output_type": "display_data"
    }
   ],
   "source": [
    "plt.scatter(y=residuos, x=modelo.predict(), color='red')\n",
    "plt.hlines(y=0, xmin=550, xmax=1000, color='orange')\n",
    "plt.ylabel('Resíduos')\n",
    "plt.xlabel('Valores Preditos')\n",
    "plt.show()"
   ]
  },
  {
   "cell_type": "markdown",
   "metadata": {},
   "source": [
    "Aparentemente os residuos tem uma variação constante"
   ]
  },
  {
   "cell_type": "markdown",
   "metadata": {
    "id": "9zkKh9XQcZrJ"
   },
   "source": [
    "**Teste Breusch-Pagan (Homocedasticidade ou heterocedasticidade)**"
   ]
  },
  {
   "cell_type": "markdown",
   "metadata": {
    "id": "74rj-ZfvcYYO"
   },
   "source": [
    "Ho = existe homocedasticidade : p > 0.05\n",
    "\n",
    "Ha = não existe homocedasticidade : p <= 0.05"
   ]
  },
  {
   "cell_type": "code",
   "execution_count": 28,
   "metadata": {
    "id": "2RScGd9LYt83"
   },
   "outputs": [],
   "source": [
    "from statsmodels.compat import lzip"
   ]
  },
  {
   "cell_type": "code",
   "execution_count": 29,
   "metadata": {
    "id": "a9iuzsNJwdot"
   },
   "outputs": [],
   "source": [
    "estatistica, p, f, fp = sms.het_breuschpagan(modelo.resid, modelo.model.exog)"
   ]
  },
  {
   "cell_type": "code",
   "execution_count": 31,
   "metadata": {
    "colab": {
     "base_uri": "https://localhost:8080/"
    },
    "id": "HZlmYo3Rwdot",
    "outputId": "9d939c16-101e-4b0f-9beb-56078ff4c9ea"
   },
   "outputs": [
    {
     "name": "stdout",
     "output_type": "stream",
     "text": [
      "Estatística de teste: 7.9398325686941575\n",
      "p-valor: 0.047271689874475095\n"
     ]
    }
   ],
   "source": [
    "print('Estatística de teste: {}'.format(estatistica))\n",
    "print('p-valor: {}'.format(p))"
   ]
  },
  {
   "cell_type": "markdown",
   "metadata": {},
   "source": [
    "Pelo teste os resíduos não são homocedásticos - E agora?"
   ]
  },
  {
   "cell_type": "markdown",
   "metadata": {},
   "source": [
    "**Outiliers nos resíduos**\n",
    "\n",
    "(Entre -3 e 3)"
   ]
  },
  {
   "cell_type": "code",
   "execution_count": 35,
   "metadata": {},
   "outputs": [],
   "source": [
    "outliers = modelo.outlier_test()"
   ]
  },
  {
   "cell_type": "code",
   "execution_count": 36,
   "metadata": {},
   "outputs": [
    {
     "data": {
      "text/plain": [
       "student_resid    2.466219\n",
       "unadj_p          0.957876\n",
       "bonf(p)          1.000000\n",
       "dtype: float64"
      ]
     },
     "execution_count": 36,
     "metadata": {},
     "output_type": "execute_result"
    }
   ],
   "source": [
    "outliers.max()"
   ]
  },
  {
   "cell_type": "code",
   "execution_count": 37,
   "metadata": {},
   "outputs": [
    {
     "data": {
      "text/plain": [
       "student_resid   -3.260297\n",
       "unadj_p          0.001434\n",
       "bonf(p)          0.186452\n",
       "dtype: float64"
      ]
     },
     "execution_count": 37,
     "metadata": {},
     "output_type": "execute_result"
    }
   ],
   "source": [
    "outliers.min()"
   ]
  },
  {
   "cell_type": "markdown",
   "metadata": {
    "id": "OFTGh67R6Xiv"
   },
   "source": [
    "### **Ausência de Multicolinearidade**"
   ]
  },
  {
   "cell_type": "markdown",
   "metadata": {
    "id": "SUI8Dj6A6wCr"
   },
   "source": [
    "Somente entre as variáveis **independentes**.\n",
    "Atenção a valores com r > 0,7\n",
    "Considerada multicolinearidade quando r > 0.9."
   ]
  },
  {
   "cell_type": "code",
   "execution_count": 38,
   "metadata": {
    "id": "k-0exSGawdov"
   },
   "outputs": [],
   "source": [
    "variaveis = colegiox[['COMP2', 'COMP4', 'COMP5']]"
   ]
  },
  {
   "cell_type": "code",
   "execution_count": 39,
   "metadata": {
    "id": "Mdud7jDywdow"
   },
   "outputs": [],
   "source": [
    "correlacoes = variaveis.corr()"
   ]
  },
  {
   "cell_type": "code",
   "execution_count": 40,
   "metadata": {
    "id": "T_A0LtZtwdow"
   },
   "outputs": [
    {
     "data": {
      "text/html": [
       "<div>\n",
       "<style scoped>\n",
       "    .dataframe tbody tr th:only-of-type {\n",
       "        vertical-align: middle;\n",
       "    }\n",
       "\n",
       "    .dataframe tbody tr th {\n",
       "        vertical-align: top;\n",
       "    }\n",
       "\n",
       "    .dataframe thead th {\n",
       "        text-align: right;\n",
       "    }\n",
       "</style>\n",
       "<table border=\"1\" class=\"dataframe\">\n",
       "  <thead>\n",
       "    <tr style=\"text-align: right;\">\n",
       "      <th></th>\n",
       "      <th>COMP2</th>\n",
       "      <th>COMP4</th>\n",
       "      <th>COMP5</th>\n",
       "    </tr>\n",
       "  </thead>\n",
       "  <tbody>\n",
       "    <tr>\n",
       "      <th>COMP2</th>\n",
       "      <td>1.000000</td>\n",
       "      <td>0.375906</td>\n",
       "      <td>0.298434</td>\n",
       "    </tr>\n",
       "    <tr>\n",
       "      <th>COMP4</th>\n",
       "      <td>0.375906</td>\n",
       "      <td>1.000000</td>\n",
       "      <td>0.428872</td>\n",
       "    </tr>\n",
       "    <tr>\n",
       "      <th>COMP5</th>\n",
       "      <td>0.298434</td>\n",
       "      <td>0.428872</td>\n",
       "      <td>1.000000</td>\n",
       "    </tr>\n",
       "  </tbody>\n",
       "</table>\n",
       "</div>"
      ],
      "text/plain": [
       "          COMP2     COMP4     COMP5\n",
       "COMP2  1.000000  0.375906  0.298434\n",
       "COMP4  0.375906  1.000000  0.428872\n",
       "COMP5  0.298434  0.428872  1.000000"
      ]
     },
     "execution_count": 40,
     "metadata": {},
     "output_type": "execute_result"
    }
   ],
   "source": [
    "correlacoes"
   ]
  },
  {
   "cell_type": "markdown",
   "metadata": {
    "id": "c0grRJC_AQHv"
   },
   "source": [
    "Usando Fator de Inflação de Variância (VIF)"
   ]
  },
  {
   "cell_type": "markdown",
   "metadata": {
    "id": "EFXVpJ-lVRPn"
   },
   "source": [
    "![VIF.png](data:image/png;base64,iVBORw0KGgoAAAANSUhEUgAAAH0AAAA3CAIAAACuIdJ4AAAAAXNSR0IArs4c6QAAAARnQU1BAACxjwv8YQUAAAAJcEhZcwAADsMAAA7DAcdvqGQAAARDSURBVHhe7ZpBS+NAFID3P+WUQ6EgFDz01Fw6UDB42LJgQNhQMCdlQbKXImzpYelhCUKDsMSDVFgiCApLPSwRhAiSgpCDEBACHgKF7kw6rTVN0tY1zmrfRw+dtE3Sb2bezJvJhwHAAvDOBvDOBvDOBvDOBvDOBvDOBvDOBvCeQN+3D9Vq0wpo+YUB71N45k4FoVKB5zhu9wy8vy53hgTeGQDe2QDe2QDe2QDe2QDe2QDe2QDeXxuaN+Wxdo7LC/h9BllrgvcrTawI9MolJB+6w8PukVzI0YPqqT88aO+LqBxmd8O7/Nald3mpIXoSvlBGCH9UQcIKKXMV3Rl+Z1lJae+u8REbkow7Wg4JznZ5qW37fVqm9HSEv1vr0KoY07fquJ6K9ccG0/fN7Qz771shxbtvbmGXSO/RMuG6JWxozgMtjfGOSDCUDj1aHnPdKuLW/tSydyih/SVv7qnx3drDMjn1fCSt7+hrYutquqXiTkBqaPojrPixPnxLP7Bwh7CavHwc7RjLRpr3J9bCorAXO8JYjUgwodAeo92QgnckF+N/voykeQ/OVaxNGMaEe1MpqWdTgYSQHtzpoEoG2Klm7mhlnt8yY87qmvUtRUl5td92FaZ5H1w2RmvQOJLkleNY6zOCO62PvqNVIkM0IfD9IDJE/xv4gv8n9P5GpHof5g5run1RFzYNN17QfMF9YGmfNXviK955Q96WxRVRD6PQspHqvd+tY3MFUSxLei+pW6cHd/HJdGjMvbnzSXdw7OL4nZO4MXap48zADiMFJ+07iX9y/pn7NCSOxQSfZSDdu2ds4DjTsqcm7IS7joJT0NUwUc0VUEXpjLLaztZcebbTRlxJe28z+Qdbq8nqbrWwKqon8SMiJt37wL/pWrcZdWivs8nxX0eLCu8Fa48X26QtOW2R46oGbYtRZnjPkOBMTQrubxjf3Ob5ctiJ/5DBUTqKb/IMvAc9U2t2rFOVz0mdTIN7Rs/AkEVDFK4Pjtb7VvOFsty6eKLYPRC5FTnpDzLw7v6s8lwRrUdv9CXJ/BmYcMYxMWtwD8ikWRl3X9eQVsXWn8Qrs4szr0B2exeuUY2s912QqEKv9WA11hXjFr9JzArB+3Pwfyn4xJMpuv2dLLwquL0/WPU1Sb/0/HvXqCXOksH7c8CTlsmU0P9dF7i8/MPyyO5COLGmSJ2EUAren0EY3HNCtYYzZ0nEGcxmq9tbbGK2zN4D57jRaCa9tG7SqB+edhzcg4s6roWYZcFUoL0vTDS4h2PsolcB74syXH+dCO7HMi5P7Vwmby2EgPdFic7crSYZSFHbGfT0au1xHE3fWnin3jN5BsYzv6CJJ1ZGaZFrqusFvlSVNneMG3Jknq2Fd93emTBzayEEvGfDrK0F8J4JM7cWwHsWzN5aAO8ZMMfWAnh/SebfWgDvL8n8WwvgnQ3gnQ3gnQ3gnQ3gnQWDwV97LF1+tIZTywAAAABJRU5ErkJggg==)"
   ]
  },
  {
   "cell_type": "markdown",
   "metadata": {
    "id": "hgExtxwpwdow"
   },
   "source": [
    "Esse valor deve ser menor que 5!"
   ]
  },
  {
   "cell_type": "code",
   "execution_count": 41,
   "metadata": {
    "id": "idIQ8e5T-963"
   },
   "outputs": [],
   "source": [
    "from statsmodels.stats.outliers_influence import variance_inflation_factor\n",
    "from statsmodels.tools.tools import add_constant"
   ]
  },
  {
   "cell_type": "code",
   "execution_count": 42,
   "metadata": {
    "id": "IqRFkM7Rwdox"
   },
   "outputs": [
    {
     "data": {
      "text/plain": [
       "const    72.466982\n",
       "COMP2     1.196714\n",
       "COMP4     1.335832\n",
       "COMP5     1.259221\n",
       "dtype: float64"
      ]
     },
     "execution_count": 42,
     "metadata": {},
     "output_type": "execute_result"
    }
   ],
   "source": [
    "vif = add_constant(variaveis) # função espera a presença de uma constante na matriz de variáveis ​​explicativas\n",
    "pd.Series([variance_inflation_factor(vif.values, j) for j in range(vif.shape[1])], index=vif.columns)"
   ]
  },
  {
   "cell_type": "code",
   "execution_count": 43,
   "metadata": {
    "id": "mb9op0FQwdox"
   },
   "outputs": [
    {
     "data": {
      "text/html": [
       "<div>\n",
       "<style scoped>\n",
       "    .dataframe tbody tr th:only-of-type {\n",
       "        vertical-align: middle;\n",
       "    }\n",
       "\n",
       "    .dataframe tbody tr th {\n",
       "        vertical-align: top;\n",
       "    }\n",
       "\n",
       "    .dataframe thead th {\n",
       "        text-align: right;\n",
       "    }\n",
       "</style>\n",
       "<table border=\"1\" class=\"dataframe\">\n",
       "  <thead>\n",
       "    <tr style=\"text-align: right;\">\n",
       "      <th></th>\n",
       "      <th>const</th>\n",
       "      <th>COMP2</th>\n",
       "      <th>COMP4</th>\n",
       "      <th>COMP5</th>\n",
       "    </tr>\n",
       "  </thead>\n",
       "  <tbody>\n",
       "    <tr>\n",
       "      <th>17</th>\n",
       "      <td>1.0</td>\n",
       "      <td>140.0</td>\n",
       "      <td>160.0</td>\n",
       "      <td>160.0</td>\n",
       "    </tr>\n",
       "    <tr>\n",
       "      <th>10760</th>\n",
       "      <td>1.0</td>\n",
       "      <td>200.0</td>\n",
       "      <td>200.0</td>\n",
       "      <td>140.0</td>\n",
       "    </tr>\n",
       "    <tr>\n",
       "      <th>13315</th>\n",
       "      <td>1.0</td>\n",
       "      <td>140.0</td>\n",
       "      <td>200.0</td>\n",
       "      <td>120.0</td>\n",
       "    </tr>\n",
       "    <tr>\n",
       "      <th>20006</th>\n",
       "      <td>1.0</td>\n",
       "      <td>180.0</td>\n",
       "      <td>180.0</td>\n",
       "      <td>140.0</td>\n",
       "    </tr>\n",
       "    <tr>\n",
       "      <th>26697</th>\n",
       "      <td>1.0</td>\n",
       "      <td>200.0</td>\n",
       "      <td>200.0</td>\n",
       "      <td>200.0</td>\n",
       "    </tr>\n",
       "    <tr>\n",
       "      <th>...</th>\n",
       "      <td>...</td>\n",
       "      <td>...</td>\n",
       "      <td>...</td>\n",
       "      <td>...</td>\n",
       "    </tr>\n",
       "    <tr>\n",
       "      <th>426829</th>\n",
       "      <td>1.0</td>\n",
       "      <td>120.0</td>\n",
       "      <td>140.0</td>\n",
       "      <td>160.0</td>\n",
       "    </tr>\n",
       "    <tr>\n",
       "      <th>428241</th>\n",
       "      <td>1.0</td>\n",
       "      <td>120.0</td>\n",
       "      <td>120.0</td>\n",
       "      <td>100.0</td>\n",
       "    </tr>\n",
       "    <tr>\n",
       "      <th>443242</th>\n",
       "      <td>1.0</td>\n",
       "      <td>200.0</td>\n",
       "      <td>160.0</td>\n",
       "      <td>140.0</td>\n",
       "    </tr>\n",
       "    <tr>\n",
       "      <th>462446</th>\n",
       "      <td>1.0</td>\n",
       "      <td>160.0</td>\n",
       "      <td>180.0</td>\n",
       "      <td>120.0</td>\n",
       "    </tr>\n",
       "    <tr>\n",
       "      <th>483420</th>\n",
       "      <td>1.0</td>\n",
       "      <td>200.0</td>\n",
       "      <td>160.0</td>\n",
       "      <td>180.0</td>\n",
       "    </tr>\n",
       "  </tbody>\n",
       "</table>\n",
       "<p>130 rows × 4 columns</p>\n",
       "</div>"
      ],
      "text/plain": [
       "        const  COMP2  COMP4  COMP5\n",
       "17        1.0  140.0  160.0  160.0\n",
       "10760     1.0  200.0  200.0  140.0\n",
       "13315     1.0  140.0  200.0  120.0\n",
       "20006     1.0  180.0  180.0  140.0\n",
       "26697     1.0  200.0  200.0  200.0\n",
       "...       ...    ...    ...    ...\n",
       "426829    1.0  120.0  140.0  160.0\n",
       "428241    1.0  120.0  120.0  100.0\n",
       "443242    1.0  200.0  160.0  140.0\n",
       "462446    1.0  160.0  180.0  120.0\n",
       "483420    1.0  200.0  160.0  180.0\n",
       "\n",
       "[130 rows x 4 columns]"
      ]
     },
     "execution_count": 43,
     "metadata": {},
     "output_type": "execute_result"
    }
   ],
   "source": [
    "vif"
   ]
  },
  {
   "cell_type": "markdown",
   "metadata": {
    "id": "BmNV4E9bRkrA"
   },
   "source": [
    "### **Análise do Modelo**"
   ]
  },
  {
   "cell_type": "markdown",
   "metadata": {
    "id": "sQiLvdd-IF64"
   },
   "source": [
    "Análise do modelo\n",
    "\n",
    "- Intercept e Coeficiente\n",
    "\n",
    "- p_valor para cada coeficiente < 0,05 (estatisticamente significativos).\n",
    "\n",
    "- Adjusted R-squared (explicação do modelo através dos dados).\n",
    "\n",
    "- p_valor da estatística F < 0.05 (valida o modelo de regressão)."
   ]
  },
  {
   "cell_type": "code",
   "execution_count": 44,
   "metadata": {
    "id": "Gl6sQEg6wdoy"
   },
   "outputs": [
    {
     "name": "stdout",
     "output_type": "stream",
     "text": [
      "                            OLS Regression Results                            \n",
      "==============================================================================\n",
      "Dep. Variable:           NOTA_REDACAO   R-squared:                       0.924\n",
      "Model:                            OLS   Adj. R-squared:                  0.922\n",
      "Method:                 Least Squares   F-statistic:                     507.2\n",
      "Date:                Sat, 17 Feb 2024   Prob (F-statistic):           3.97e-70\n",
      "Time:                        18:51:01   Log-Likelihood:                -604.30\n",
      "No. Observations:                 130   AIC:                             1217.\n",
      "Df Residuals:                     126   BIC:                             1228.\n",
      "Df Model:                           3                                         \n",
      "Covariance Type:            nonrobust                                         \n",
      "==============================================================================\n",
      "                 coef    std err          t      P>|t|      [0.025      0.975]\n",
      "------------------------------------------------------------------------------\n",
      "Intercept    116.1987     19.162      6.064      0.000      78.278     154.119\n",
      "COMP2          1.2831      0.077     16.573      0.000       1.130       1.436\n",
      "COMP4          1.7298      0.104     16.559      0.000       1.523       1.937\n",
      "COMP5          1.1993      0.098     12.290      0.000       1.006       1.392\n",
      "==============================================================================\n",
      "Omnibus:                        5.200   Durbin-Watson:                   2.081\n",
      "Prob(Omnibus):                  0.074   Jarque-Bera (JB):                4.794\n",
      "Skew:                          -0.369   Prob(JB):                       0.0910\n",
      "Kurtosis:                       3.584   Cond. No.                     2.58e+03\n",
      "==============================================================================\n",
      "\n",
      "Notes:\n",
      "[1] Standard Errors assume that the covariance matrix of the errors is correctly specified.\n",
      "[2] The condition number is large, 2.58e+03. This might indicate that there are\n",
      "strong multicollinearity or other numerical problems.\n"
     ]
    }
   ],
   "source": [
    "print(modelo.summary())"
   ]
  },
  {
   "cell_type": "markdown",
   "metadata": {
    "id": "vntw35adIwwO"
   },
   "source": [
    "\n",
    "**Equação:** Nota Redação = 116,1987 + 1,2831.COMP2 + 1,7298.COMP4 + 1,1993.COMP5"
   ]
  },
  {
   "cell_type": "code",
   "execution_count": 46,
   "metadata": {
    "id": "WW3tyrvSwdoy"
   },
   "outputs": [
    {
     "name": "stderr",
     "output_type": "stream",
     "text": [
      "C:\\Users\\anail\\AppData\\Local\\Temp\\ipykernel_20428\\684249874.py:2: SettingWithCopyWarning: \n",
      "A value is trying to be set on a copy of a slice from a DataFrame.\n",
      "Try using .loc[row_indexer,col_indexer] = value instead\n",
      "\n",
      "See the caveats in the documentation: https://pandas.pydata.org/pandas-docs/stable/user_guide/indexing.html#returning-a-view-versus-a-copy\n",
      "  colegiox['previsao'] = modelo.fittedvalues\n"
     ]
    }
   ],
   "source": [
    "# Criando uma coluna de previsão\n",
    "colegiox['previsao'] = modelo.fittedvalues"
   ]
  },
  {
   "cell_type": "code",
   "execution_count": 47,
   "metadata": {
    "id": "SCK6OJlqwdoy"
   },
   "outputs": [
    {
     "data": {
      "text/html": [
       "<div>\n",
       "<style scoped>\n",
       "    .dataframe tbody tr th:only-of-type {\n",
       "        vertical-align: middle;\n",
       "    }\n",
       "\n",
       "    .dataframe tbody tr th {\n",
       "        vertical-align: top;\n",
       "    }\n",
       "\n",
       "    .dataframe thead th {\n",
       "        text-align: right;\n",
       "    }\n",
       "</style>\n",
       "<table border=\"1\" class=\"dataframe\">\n",
       "  <thead>\n",
       "    <tr style=\"text-align: right;\">\n",
       "      <th></th>\n",
       "      <th>NU_INSCRICAO</th>\n",
       "      <th>NO_MUNICIPIO_RESIDENCIA</th>\n",
       "      <th>IDADE</th>\n",
       "      <th>SEXO</th>\n",
       "      <th>TP_ESTADO_CIVIL</th>\n",
       "      <th>RACA</th>\n",
       "      <th>TP_NACIONALIDADE</th>\n",
       "      <th>TP_ST_CONCLUSAO</th>\n",
       "      <th>ESCOLA</th>\n",
       "      <th>CO_ESCOLA</th>\n",
       "      <th>...</th>\n",
       "      <th>TP_LINGUA</th>\n",
       "      <th>TP_STATUS_REDACAO</th>\n",
       "      <th>COMP1</th>\n",
       "      <th>COMP2</th>\n",
       "      <th>COMP3</th>\n",
       "      <th>COMP4</th>\n",
       "      <th>COMP5</th>\n",
       "      <th>NOTA_REDACAO</th>\n",
       "      <th>INTERNET</th>\n",
       "      <th>previsao</th>\n",
       "    </tr>\n",
       "  </thead>\n",
       "  <tbody>\n",
       "    <tr>\n",
       "      <th>17</th>\n",
       "      <td>1,90E+11</td>\n",
       "      <td>São Paulo</td>\n",
       "      <td>18</td>\n",
       "      <td>F</td>\n",
       "      <td>1</td>\n",
       "      <td>branca</td>\n",
       "      <td>1</td>\n",
       "      <td>2</td>\n",
       "      <td>privada</td>\n",
       "      <td>35132287.0</td>\n",
       "      <td>...</td>\n",
       "      <td>Inglês</td>\n",
       "      <td>1.0</td>\n",
       "      <td>160.0</td>\n",
       "      <td>140.0</td>\n",
       "      <td>140.0</td>\n",
       "      <td>160.0</td>\n",
       "      <td>160.0</td>\n",
       "      <td>760.0</td>\n",
       "      <td>Sim</td>\n",
       "      <td>764.498054</td>\n",
       "    </tr>\n",
       "    <tr>\n",
       "      <th>10760</th>\n",
       "      <td>1,90E+11</td>\n",
       "      <td>São Paulo</td>\n",
       "      <td>17</td>\n",
       "      <td>M</td>\n",
       "      <td>1</td>\n",
       "      <td>parda</td>\n",
       "      <td>1</td>\n",
       "      <td>2</td>\n",
       "      <td>privada</td>\n",
       "      <td>35132287.0</td>\n",
       "      <td>...</td>\n",
       "      <td>Inglês</td>\n",
       "      <td>1.0</td>\n",
       "      <td>180.0</td>\n",
       "      <td>200.0</td>\n",
       "      <td>200.0</td>\n",
       "      <td>200.0</td>\n",
       "      <td>140.0</td>\n",
       "      <td>920.0</td>\n",
       "      <td>Sim</td>\n",
       "      <td>886.690642</td>\n",
       "    </tr>\n",
       "    <tr>\n",
       "      <th>13315</th>\n",
       "      <td>1,90E+11</td>\n",
       "      <td>São Paulo</td>\n",
       "      <td>17</td>\n",
       "      <td>F</td>\n",
       "      <td>1</td>\n",
       "      <td>branca</td>\n",
       "      <td>1</td>\n",
       "      <td>2</td>\n",
       "      <td>privada</td>\n",
       "      <td>35132287.0</td>\n",
       "      <td>...</td>\n",
       "      <td>Inglês</td>\n",
       "      <td>1.0</td>\n",
       "      <td>160.0</td>\n",
       "      <td>140.0</td>\n",
       "      <td>160.0</td>\n",
       "      <td>200.0</td>\n",
       "      <td>120.0</td>\n",
       "      <td>780.0</td>\n",
       "      <td>Sim</td>\n",
       "      <td>785.718021</td>\n",
       "    </tr>\n",
       "    <tr>\n",
       "      <th>20006</th>\n",
       "      <td>1,90E+11</td>\n",
       "      <td>São Paulo</td>\n",
       "      <td>17</td>\n",
       "      <td>F</td>\n",
       "      <td>1</td>\n",
       "      <td>branca</td>\n",
       "      <td>1</td>\n",
       "      <td>2</td>\n",
       "      <td>privada</td>\n",
       "      <td>35132287.0</td>\n",
       "      <td>...</td>\n",
       "      <td>Inglês</td>\n",
       "      <td>1.0</td>\n",
       "      <td>140.0</td>\n",
       "      <td>180.0</td>\n",
       "      <td>160.0</td>\n",
       "      <td>180.0</td>\n",
       "      <td>140.0</td>\n",
       "      <td>800.0</td>\n",
       "      <td>Sim</td>\n",
       "      <td>826.432059</td>\n",
       "    </tr>\n",
       "    <tr>\n",
       "      <th>26697</th>\n",
       "      <td>1,90E+11</td>\n",
       "      <td>São Paulo</td>\n",
       "      <td>18</td>\n",
       "      <td>F</td>\n",
       "      <td>1</td>\n",
       "      <td>branca</td>\n",
       "      <td>1</td>\n",
       "      <td>2</td>\n",
       "      <td>privada</td>\n",
       "      <td>35132287.0</td>\n",
       "      <td>...</td>\n",
       "      <td>Inglês</td>\n",
       "      <td>1.0</td>\n",
       "      <td>160.0</td>\n",
       "      <td>200.0</td>\n",
       "      <td>200.0</td>\n",
       "      <td>200.0</td>\n",
       "      <td>200.0</td>\n",
       "      <td>960.0</td>\n",
       "      <td>Sim</td>\n",
       "      <td>958.650406</td>\n",
       "    </tr>\n",
       "  </tbody>\n",
       "</table>\n",
       "<p>5 rows × 29 columns</p>\n",
       "</div>"
      ],
      "text/plain": [
       "      NU_INSCRICAO NO_MUNICIPIO_RESIDENCIA  IDADE SEXO  TP_ESTADO_CIVIL  \\\n",
       "17        1,90E+11               São Paulo     18    F                1   \n",
       "10760     1,90E+11               São Paulo     17    M                1   \n",
       "13315     1,90E+11               São Paulo     17    F                1   \n",
       "20006     1,90E+11               São Paulo     17    F                1   \n",
       "26697     1,90E+11               São Paulo     18    F                1   \n",
       "\n",
       "         RACA  TP_NACIONALIDADE  TP_ST_CONCLUSAO   ESCOLA   CO_ESCOLA  ...  \\\n",
       "17     branca                 1                2  privada  35132287.0  ...   \n",
       "10760   parda                 1                2  privada  35132287.0  ...   \n",
       "13315  branca                 1                2  privada  35132287.0  ...   \n",
       "20006  branca                 1                2  privada  35132287.0  ...   \n",
       "26697  branca                 1                2  privada  35132287.0  ...   \n",
       "\n",
       "      TP_LINGUA  TP_STATUS_REDACAO  COMP1  COMP2  COMP3  COMP4  COMP5  \\\n",
       "17       Inglês                1.0  160.0  140.0  140.0  160.0  160.0   \n",
       "10760    Inglês                1.0  180.0  200.0  200.0  200.0  140.0   \n",
       "13315    Inglês                1.0  160.0  140.0  160.0  200.0  120.0   \n",
       "20006    Inglês                1.0  140.0  180.0  160.0  180.0  140.0   \n",
       "26697    Inglês                1.0  160.0  200.0  200.0  200.0  200.0   \n",
       "\n",
       "       NOTA_REDACAO  INTERNET    previsao  \n",
       "17            760.0       Sim  764.498054  \n",
       "10760         920.0       Sim  886.690642  \n",
       "13315         780.0       Sim  785.718021  \n",
       "20006         800.0       Sim  826.432059  \n",
       "26697         960.0       Sim  958.650406  \n",
       "\n",
       "[5 rows x 29 columns]"
      ]
     },
     "execution_count": 47,
     "metadata": {},
     "output_type": "execute_result"
    }
   ],
   "source": [
    "colegiox.head()"
   ]
  },
  {
   "cell_type": "markdown",
   "metadata": {
    "id": "fA_8YAhnReGk"
   },
   "source": [
    "## **MODELO 2**"
   ]
  },
  {
   "cell_type": "code",
   "execution_count": 48,
   "metadata": {
    "id": "b5I4W58vReG8"
   },
   "outputs": [],
   "source": [
    "import statsmodels.formula.api as smf\n",
    "import statsmodels.stats.api as sms"
   ]
  },
  {
   "cell_type": "code",
   "execution_count": 49,
   "metadata": {
    "id": "3viFrBC9ReG9"
   },
   "outputs": [],
   "source": [
    "# Criação do modelo\n",
    "modelo2 = smf.ols('NOTA_REDACAO ~ COMP2 + COMP4', data = colegiox).fit()"
   ]
  },
  {
   "cell_type": "code",
   "execution_count": 50,
   "metadata": {
    "id": "lCl5qlucReG-"
   },
   "outputs": [
    {
     "data": {
      "text/plain": [
       "17         -5.800864\n",
       "10760     -19.726164\n",
       "13315     -73.382235\n",
       "20006     -67.154169\n",
       "26697      20.273836\n",
       "             ...    \n",
       "426829     46.771131\n",
       "428241    -69.438183\n",
       "443242    -52.144793\n",
       "462446   -118.372859\n",
       "483420     47.855207\n",
       "Length: 130, dtype: float64"
      ]
     },
     "execution_count": 50,
     "metadata": {},
     "output_type": "execute_result"
    }
   ],
   "source": [
    "residuos2 = modelo2.resid\n",
    "residuos2"
   ]
  },
  {
   "cell_type": "markdown",
   "metadata": {
    "id": "wfaWj0ciReG_"
   },
   "source": [
    "### Teste de Normalidade dos resíduos"
   ]
  },
  {
   "cell_type": "code",
   "execution_count": 51,
   "metadata": {
    "id": "M-_Vs-dHReG_"
   },
   "outputs": [],
   "source": [
    "import scipy.stats as stats"
   ]
  },
  {
   "cell_type": "markdown",
   "metadata": {
    "id": "yFKFMRghReG_"
   },
   "source": [
    "Ho = distribuição normal : p > 0.05\n",
    "\n",
    "Ha = distribuição != normal : p <= 0.05"
   ]
  },
  {
   "cell_type": "code",
   "execution_count": 52,
   "metadata": {
    "id": "qn9g5b1qReHA"
   },
   "outputs": [
    {
     "name": "stdout",
     "output_type": "stream",
     "text": [
      "Estatística de teste: 0.9847795367240906\n",
      "p-valor: 0.15595780313014984\n"
     ]
    }
   ],
   "source": [
    "estatistica, p = stats.shapiro(residuos2)\n",
    "print('Estatística de teste: {}'.format(estatistica))\n",
    "print('p-valor: {}'.format(p))"
   ]
  },
  {
   "cell_type": "code",
   "execution_count": 53,
   "metadata": {
    "id": "z3arm23oReHA"
   },
   "outputs": [],
   "source": [
    "import matplotlib.pyplot as plt"
   ]
  },
  {
   "cell_type": "code",
   "execution_count": 54,
   "metadata": {
    "id": "r4Z3mnM7ReHB"
   },
   "outputs": [
    {
     "data": {
      "image/png": "[encoded data removed]",
      "text/plain": [
       "<Figure size 640x480 with 1 Axes>"
      ]
     },
     "metadata": {},
     "output_type": "display_data"
    }
   ],
   "source": [
    "stats.probplot(residuos2, dist=\"norm\", plot=plt)\n",
    "plt.title(\"Normal Q-Q plot - Resíduos\")\n",
    "plt.show()"
   ]
  },
  {
   "cell_type": "markdown",
   "metadata": {
    "id": "jZN8cEGLXMLs"
   },
   "source": [
    "### Análise da Homocedasticidade dos resíduos\n",
    "(resíduos com variação constante)"
   ]
  },
  {
   "cell_type": "code",
   "execution_count": 56,
   "metadata": {
    "id": "CqrLYnx-XMMI"
   },
   "outputs": [
    {
     "data": {
      "image/png": "[encoded data removed]",
      "text/plain": [
       "<Figure size 640x480 with 1 Axes>"
      ]
     },
     "metadata": {},
     "output_type": "display_data"
    }
   ],
   "source": [
    "plt.scatter(y=residuos2, x=modelo2.predict(), color='red')\n",
    "plt.hlines(y=0, xmin=550, xmax=1000, color='orange')\n",
    "plt.ylabel('Resíduos')\n",
    "plt.xlabel('Valores Preditos')\n",
    "plt.show()"
   ]
  },
  {
   "cell_type": "markdown",
   "metadata": {
    "id": "8twBXcYjXMMJ"
   },
   "source": [
    "**Teste Breusch-Pagan (Homocedasticidade ou heterocedasticidade)**"
   ]
  },
  {
   "cell_type": "markdown",
   "metadata": {
    "id": "x5Rz7dlwXMMK"
   },
   "source": [
    "Ho = existe homocedasticidade : p > 0.05\n",
    "\n",
    "Ha = não existe homocedasticidade : p <= 0.05"
   ]
  },
  {
   "cell_type": "code",
   "execution_count": 57,
   "metadata": {
    "id": "fwq59bFvXMMK"
   },
   "outputs": [],
   "source": [
    "from statsmodels.compat import lzip\n",
    "import statsmodels.stats.api as sms"
   ]
  },
  {
   "cell_type": "code",
   "execution_count": 58,
   "metadata": {
    "id": "2YKirf2JXMMM"
   },
   "outputs": [
    {
     "name": "stdout",
     "output_type": "stream",
     "text": [
      "Estatística de teste: 15.042745745701554\n",
      "p-valor: 0.0005413887974309888\n",
      "f-valor: 8.309300366021327\n",
      "f_p-valor: 0.00040612282224008583\n"
     ]
    }
   ],
   "source": [
    "estatistica, p, f, fp = sms.het_breuschpagan (modelo2.resid, modelo2.model.exog)\n",
    "print('Estatística de teste: {}'.format(estatistica))\n",
    "print('p-valor: {}'.format(p))\n",
    "print('f-valor: {}'.format(f))\n",
    "print('f_p-valor: {}'.format(fp))"
   ]
  },
  {
   "cell_type": "markdown",
   "metadata": {},
   "source": [
    "**Outiliers nos resíduos**\n",
    "\n",
    "(Entre -3 e 3)"
   ]
  },
  {
   "cell_type": "code",
   "execution_count": 64,
   "metadata": {},
   "outputs": [],
   "source": [
    "outliers = modelo2.outlier_test()"
   ]
  },
  {
   "cell_type": "code",
   "execution_count": 65,
   "metadata": {},
   "outputs": [
    {
     "data": {
      "text/plain": [
       "student_resid    2.521846\n",
       "unadj_p          0.994221\n",
       "bonf(p)          1.000000\n",
       "dtype: float64"
      ]
     },
     "execution_count": 65,
     "metadata": {},
     "output_type": "execute_result"
    }
   ],
   "source": [
    "outliers.max()"
   ]
  },
  {
   "cell_type": "code",
   "execution_count": 66,
   "metadata": {},
   "outputs": [
    {
     "data": {
      "text/plain": [
       "student_resid   -3.254277\n",
       "unadj_p          0.001460\n",
       "bonf(p)          0.189769\n",
       "dtype: float64"
      ]
     },
     "execution_count": 66,
     "metadata": {},
     "output_type": "execute_result"
    }
   ],
   "source": [
    "outliers.min()"
   ]
  },
  {
   "cell_type": "markdown",
   "metadata": {
    "id": "HmtmizrCXMMQ"
   },
   "source": [
    "### **Ausência de Multicolinearidade**"
   ]
  },
  {
   "cell_type": "markdown",
   "metadata": {
    "id": "q1nQ066CXMMQ"
   },
   "source": [
    "Somente entre as variáveis independentes.\n",
    "\n",
    "Considerada multicolinearidade quando r > 0.9."
   ]
  },
  {
   "cell_type": "code",
   "execution_count": 59,
   "metadata": {
    "id": "iuYhkcF9XMMR"
   },
   "outputs": [],
   "source": [
    "variaveis2 = colegiox[['COMP2','COMP4']]"
   ]
  },
  {
   "cell_type": "code",
   "execution_count": 60,
   "metadata": {
    "id": "EirLoBbMXMMR"
   },
   "outputs": [
    {
     "data": {
      "text/html": [
       "<div>\n",
       "<style scoped>\n",
       "    .dataframe tbody tr th:only-of-type {\n",
       "        vertical-align: middle;\n",
       "    }\n",
       "\n",
       "    .dataframe tbody tr th {\n",
       "        vertical-align: top;\n",
       "    }\n",
       "\n",
       "    .dataframe thead th {\n",
       "        text-align: right;\n",
       "    }\n",
       "</style>\n",
       "<table border=\"1\" class=\"dataframe\">\n",
       "  <thead>\n",
       "    <tr style=\"text-align: right;\">\n",
       "      <th></th>\n",
       "      <th>COMP2</th>\n",
       "      <th>COMP4</th>\n",
       "    </tr>\n",
       "  </thead>\n",
       "  <tbody>\n",
       "    <tr>\n",
       "      <th>17</th>\n",
       "      <td>140.0</td>\n",
       "      <td>160.0</td>\n",
       "    </tr>\n",
       "    <tr>\n",
       "      <th>10760</th>\n",
       "      <td>200.0</td>\n",
       "      <td>200.0</td>\n",
       "    </tr>\n",
       "    <tr>\n",
       "      <th>13315</th>\n",
       "      <td>140.0</td>\n",
       "      <td>200.0</td>\n",
       "    </tr>\n",
       "    <tr>\n",
       "      <th>20006</th>\n",
       "      <td>180.0</td>\n",
       "      <td>180.0</td>\n",
       "    </tr>\n",
       "    <tr>\n",
       "      <th>26697</th>\n",
       "      <td>200.0</td>\n",
       "      <td>200.0</td>\n",
       "    </tr>\n",
       "  </tbody>\n",
       "</table>\n",
       "</div>"
      ],
      "text/plain": [
       "       COMP2  COMP4\n",
       "17     140.0  160.0\n",
       "10760  200.0  200.0\n",
       "13315  140.0  200.0\n",
       "20006  180.0  180.0\n",
       "26697  200.0  200.0"
      ]
     },
     "execution_count": 60,
     "metadata": {},
     "output_type": "execute_result"
    }
   ],
   "source": [
    "variaveis2.head()"
   ]
  },
  {
   "cell_type": "code",
   "execution_count": 61,
   "metadata": {
    "id": "Tsv7MNodXMMR"
   },
   "outputs": [
    {
     "data": {
      "text/html": [
       "<div>\n",
       "<style scoped>\n",
       "    .dataframe tbody tr th:only-of-type {\n",
       "        vertical-align: middle;\n",
       "    }\n",
       "\n",
       "    .dataframe tbody tr th {\n",
       "        vertical-align: top;\n",
       "    }\n",
       "\n",
       "    .dataframe thead th {\n",
       "        text-align: right;\n",
       "    }\n",
       "</style>\n",
       "<table border=\"1\" class=\"dataframe\">\n",
       "  <thead>\n",
       "    <tr style=\"text-align: right;\">\n",
       "      <th></th>\n",
       "      <th>COMP2</th>\n",
       "      <th>COMP4</th>\n",
       "    </tr>\n",
       "  </thead>\n",
       "  <tbody>\n",
       "    <tr>\n",
       "      <th>COMP2</th>\n",
       "      <td>1.000000</td>\n",
       "      <td>0.375906</td>\n",
       "    </tr>\n",
       "    <tr>\n",
       "      <th>COMP4</th>\n",
       "      <td>0.375906</td>\n",
       "      <td>1.000000</td>\n",
       "    </tr>\n",
       "  </tbody>\n",
       "</table>\n",
       "</div>"
      ],
      "text/plain": [
       "          COMP2     COMP4\n",
       "COMP2  1.000000  0.375906\n",
       "COMP4  0.375906  1.000000"
      ]
     },
     "execution_count": 61,
     "metadata": {},
     "output_type": "execute_result"
    }
   ],
   "source": [
    "correlacoes = variaveis2.corr(method='pearson')\n",
    "correlacoes"
   ]
  },
  {
   "cell_type": "markdown",
   "metadata": {
    "id": "MxbK2y5TXMMS"
   },
   "source": [
    "Usando Fator de Inflação de Variância (VIF)"
   ]
  },
  {
   "cell_type": "markdown",
   "metadata": {
    "id": "iRUNfmRbXMMS"
   },
   "source": [
    "![VIF.png](data:image/png;base64,iVBORw0KGgoAAAANSUhEUgAAAH0AAAA3CAIAAACuIdJ4AAAAAXNSR0IArs4c6QAAAARnQU1BAACxjwv8YQUAAAAJcEhZcwAADsMAAA7DAcdvqGQAAARDSURBVHhe7ZpBS+NAFID3P+WUQ6EgFDz01Fw6UDB42LJgQNhQMCdlQbKXImzpYelhCUKDsMSDVFgiCApLPSwRhAiSgpCDEBACHgKF7kw6rTVN0tY1zmrfRw+dtE3Sb2bezJvJhwHAAvDOBvDOBvDOBvDOBvDOBvDOBvDOBvCeQN+3D9Vq0wpo+YUB71N45k4FoVKB5zhu9wy8vy53hgTeGQDe2QDe2QDe2QDe2QDe2QDe2QDeXxuaN+Wxdo7LC/h9BllrgvcrTawI9MolJB+6w8PukVzI0YPqqT88aO+LqBxmd8O7/Nald3mpIXoSvlBGCH9UQcIKKXMV3Rl+Z1lJae+u8REbkow7Wg4JznZ5qW37fVqm9HSEv1vr0KoY07fquJ6K9ccG0/fN7Qz771shxbtvbmGXSO/RMuG6JWxozgMtjfGOSDCUDj1aHnPdKuLW/tSydyih/SVv7qnx3drDMjn1fCSt7+hrYutquqXiTkBqaPojrPixPnxLP7Bwh7CavHwc7RjLRpr3J9bCorAXO8JYjUgwodAeo92QgnckF+N/voykeQ/OVaxNGMaEe1MpqWdTgYSQHtzpoEoG2Klm7mhlnt8yY87qmvUtRUl5td92FaZ5H1w2RmvQOJLkleNY6zOCO62PvqNVIkM0IfD9IDJE/xv4gv8n9P5GpHof5g5run1RFzYNN17QfMF9YGmfNXviK955Q96WxRVRD6PQspHqvd+tY3MFUSxLei+pW6cHd/HJdGjMvbnzSXdw7OL4nZO4MXap48zADiMFJ+07iX9y/pn7NCSOxQSfZSDdu2ds4DjTsqcm7IS7joJT0NUwUc0VUEXpjLLaztZcebbTRlxJe28z+Qdbq8nqbrWwKqon8SMiJt37wL/pWrcZdWivs8nxX0eLCu8Fa48X26QtOW2R46oGbYtRZnjPkOBMTQrubxjf3Ob5ctiJ/5DBUTqKb/IMvAc9U2t2rFOVz0mdTIN7Rs/AkEVDFK4Pjtb7VvOFsty6eKLYPRC5FTnpDzLw7v6s8lwRrUdv9CXJ/BmYcMYxMWtwD8ikWRl3X9eQVsXWn8Qrs4szr0B2exeuUY2s912QqEKv9WA11hXjFr9JzArB+3Pwfyn4xJMpuv2dLLwquL0/WPU1Sb/0/HvXqCXOksH7c8CTlsmU0P9dF7i8/MPyyO5COLGmSJ2EUAren0EY3HNCtYYzZ0nEGcxmq9tbbGK2zN4D57jRaCa9tG7SqB+edhzcg4s6roWYZcFUoL0vTDS4h2PsolcB74syXH+dCO7HMi5P7Vwmby2EgPdFic7crSYZSFHbGfT0au1xHE3fWnin3jN5BsYzv6CJJ1ZGaZFrqusFvlSVNneMG3Jknq2Fd93emTBzayEEvGfDrK0F8J4JM7cWwHsWzN5aAO8ZMMfWAnh/SebfWgDvL8n8WwvgnQ3gnQ3gnQ3gnQ3gnQWDwV97LF1+tIZTywAAAABJRU5ErkJggg==)"
   ]
  },
  {
   "cell_type": "code",
   "execution_count": 62,
   "metadata": {
    "id": "qrtABUnLXMMT"
   },
   "outputs": [],
   "source": [
    "from statsmodels.stats.outliers_influence import variance_inflation_factor\n",
    "from statsmodels.tools.tools import add_constant"
   ]
  },
  {
   "cell_type": "code",
   "execution_count": 63,
   "metadata": {
    "id": "1ULcb9BPXMMT"
   },
   "outputs": [
    {
     "data": {
      "text/plain": [
       "const    59.966319\n",
       "COMP2     1.164559\n",
       "COMP4     1.164559\n",
       "dtype: float64"
      ]
     },
     "execution_count": 63,
     "metadata": {},
     "output_type": "execute_result"
    }
   ],
   "source": [
    "vif = add_constant(variaveis2) # função espera a presença de uma constante na matriz de variáveis ​​explicativas\n",
    "pd.Series([variance_inflation_factor(vif.values, i) for i in range(vif.shape[1])], index=vif.columns)"
   ]
  },
  {
   "cell_type": "markdown",
   "metadata": {
    "id": "ZtQOnCITXMMT"
   },
   "source": [
    "### **Análise do Modelo**"
   ]
  },
  {
   "cell_type": "markdown",
   "metadata": {
    "id": "qzYVTTgoXMMU"
   },
   "source": [
    "Análise do modelo\n",
    "\n",
    "- Intercept\n",
    "\n",
    "- p_valor para cada coeficiente < 0,05 (estatisticamente significativos).\n",
    "\n",
    "- Adjusted R-squared (explicação do modelo através dos dados).\n",
    "\n",
    "- p_valor da estatística F < 0.05 (valida o modelo de regressão)."
   ]
  },
  {
   "cell_type": "code",
   "execution_count": 67,
   "metadata": {
    "id": "3Kie-Y_9XMMU"
   },
   "outputs": [
    {
     "name": "stdout",
     "output_type": "stream",
     "text": [
      "                            OLS Regression Results                            \n",
      "==============================================================================\n",
      "Dep. Variable:           NOTA_REDACAO   R-squared:                       0.832\n",
      "Model:                            OLS   Adj. R-squared:                  0.829\n",
      "Method:                 Least Squares   F-statistic:                     314.2\n",
      "Date:                Sat, 17 Feb 2024   Prob (F-statistic):           6.76e-50\n",
      "Time:                        18:58:50   Log-Likelihood:                -655.51\n",
      "No. Observations:                 130   AIC:                             1317.\n",
      "Df Residuals:                     127   BIC:                             1326.\n",
      "Df Model:                           2                                         \n",
      "Covariance Type:            nonrobust                                         \n",
      "==============================================================================\n",
      "                 coef    std err          t      P>|t|      [0.025      0.975]\n",
      "------------------------------------------------------------------------------\n",
      "Intercept    214.0062     25.745      8.313      0.000     163.062     264.950\n",
      "COMP2          1.4391      0.113     12.758      0.000       1.216       1.662\n",
      "COMP4          2.1895      0.144     15.199      0.000       1.904       2.475\n",
      "==============================================================================\n",
      "Omnibus:                        4.492   Durbin-Watson:                   1.731\n",
      "Prob(Omnibus):                  0.106   Jarque-Bera (JB):                3.927\n",
      "Skew:                          -0.378   Prob(JB):                        0.140\n",
      "Kurtosis:                       3.390   Cond. No.                     1.93e+03\n",
      "==============================================================================\n",
      "\n",
      "Notes:\n",
      "[1] Standard Errors assume that the covariance matrix of the errors is correctly specified.\n",
      "[2] The condition number is large, 1.93e+03. This might indicate that there are\n",
      "strong multicollinearity or other numerical problems.\n"
     ]
    }
   ],
   "source": [
    "print(modelo2.summary())"
   ]
  },
  {
   "cell_type": "markdown",
   "metadata": {
    "id": "qQchPC3hXMMU"
   },
   "source": [
    "**Equação:** Nota Redação = 214,0062 + 1,4391.COMP2 + 2,1895.COMP4"
   ]
  },
  {
   "cell_type": "code",
   "execution_count": 68,
   "metadata": {
    "id": "hPczdNUNXMMV"
   },
   "outputs": [
    {
     "name": "stderr",
     "output_type": "stream",
     "text": [
      "C:\\Users\\anail\\AppData\\Local\\Temp\\ipykernel_20428\\3604984769.py:2: SettingWithCopyWarning: \n",
      "A value is trying to be set on a copy of a slice from a DataFrame.\n",
      "Try using .loc[row_indexer,col_indexer] = value instead\n",
      "\n",
      "See the caveats in the documentation: https://pandas.pydata.org/pandas-docs/stable/user_guide/indexing.html#returning-a-view-versus-a-copy\n",
      "  colegiox['previsao2'] = modelo2.fittedvalues\n"
     ]
    }
   ],
   "source": [
    "# Criando uma coluna com previsão\n",
    "colegiox['previsao2'] = modelo2.fittedvalues"
   ]
  },
  {
   "cell_type": "code",
   "execution_count": 69,
   "metadata": {
    "id": "dQ4cqkzAY-oN"
   },
   "outputs": [
    {
     "data": {
      "text/html": [
       "<div>\n",
       "<style scoped>\n",
       "    .dataframe tbody tr th:only-of-type {\n",
       "        vertical-align: middle;\n",
       "    }\n",
       "\n",
       "    .dataframe tbody tr th {\n",
       "        vertical-align: top;\n",
       "    }\n",
       "\n",
       "    .dataframe thead th {\n",
       "        text-align: right;\n",
       "    }\n",
       "</style>\n",
       "<table border=\"1\" class=\"dataframe\">\n",
       "  <thead>\n",
       "    <tr style=\"text-align: right;\">\n",
       "      <th></th>\n",
       "      <th>NU_INSCRICAO</th>\n",
       "      <th>NO_MUNICIPIO_RESIDENCIA</th>\n",
       "      <th>IDADE</th>\n",
       "      <th>SEXO</th>\n",
       "      <th>TP_ESTADO_CIVIL</th>\n",
       "      <th>RACA</th>\n",
       "      <th>TP_NACIONALIDADE</th>\n",
       "      <th>TP_ST_CONCLUSAO</th>\n",
       "      <th>ESCOLA</th>\n",
       "      <th>CO_ESCOLA</th>\n",
       "      <th>...</th>\n",
       "      <th>TP_STATUS_REDACAO</th>\n",
       "      <th>COMP1</th>\n",
       "      <th>COMP2</th>\n",
       "      <th>COMP3</th>\n",
       "      <th>COMP4</th>\n",
       "      <th>COMP5</th>\n",
       "      <th>NOTA_REDACAO</th>\n",
       "      <th>INTERNET</th>\n",
       "      <th>previsao</th>\n",
       "      <th>previsao2</th>\n",
       "    </tr>\n",
       "  </thead>\n",
       "  <tbody>\n",
       "    <tr>\n",
       "      <th>17</th>\n",
       "      <td>1,90E+11</td>\n",
       "      <td>São Paulo</td>\n",
       "      <td>18</td>\n",
       "      <td>F</td>\n",
       "      <td>1</td>\n",
       "      <td>branca</td>\n",
       "      <td>1</td>\n",
       "      <td>2</td>\n",
       "      <td>privada</td>\n",
       "      <td>35132287.0</td>\n",
       "      <td>...</td>\n",
       "      <td>1.0</td>\n",
       "      <td>160.0</td>\n",
       "      <td>140.0</td>\n",
       "      <td>140.0</td>\n",
       "      <td>160.0</td>\n",
       "      <td>160.0</td>\n",
       "      <td>760.0</td>\n",
       "      <td>Sim</td>\n",
       "      <td>764.498054</td>\n",
       "      <td>765.800864</td>\n",
       "    </tr>\n",
       "    <tr>\n",
       "      <th>10760</th>\n",
       "      <td>1,90E+11</td>\n",
       "      <td>São Paulo</td>\n",
       "      <td>17</td>\n",
       "      <td>M</td>\n",
       "      <td>1</td>\n",
       "      <td>parda</td>\n",
       "      <td>1</td>\n",
       "      <td>2</td>\n",
       "      <td>privada</td>\n",
       "      <td>35132287.0</td>\n",
       "      <td>...</td>\n",
       "      <td>1.0</td>\n",
       "      <td>180.0</td>\n",
       "      <td>200.0</td>\n",
       "      <td>200.0</td>\n",
       "      <td>200.0</td>\n",
       "      <td>140.0</td>\n",
       "      <td>920.0</td>\n",
       "      <td>Sim</td>\n",
       "      <td>886.690642</td>\n",
       "      <td>939.726164</td>\n",
       "    </tr>\n",
       "    <tr>\n",
       "      <th>13315</th>\n",
       "      <td>1,90E+11</td>\n",
       "      <td>São Paulo</td>\n",
       "      <td>17</td>\n",
       "      <td>F</td>\n",
       "      <td>1</td>\n",
       "      <td>branca</td>\n",
       "      <td>1</td>\n",
       "      <td>2</td>\n",
       "      <td>privada</td>\n",
       "      <td>35132287.0</td>\n",
       "      <td>...</td>\n",
       "      <td>1.0</td>\n",
       "      <td>160.0</td>\n",
       "      <td>140.0</td>\n",
       "      <td>160.0</td>\n",
       "      <td>200.0</td>\n",
       "      <td>120.0</td>\n",
       "      <td>780.0</td>\n",
       "      <td>Sim</td>\n",
       "      <td>785.718021</td>\n",
       "      <td>853.382235</td>\n",
       "    </tr>\n",
       "    <tr>\n",
       "      <th>20006</th>\n",
       "      <td>1,90E+11</td>\n",
       "      <td>São Paulo</td>\n",
       "      <td>17</td>\n",
       "      <td>F</td>\n",
       "      <td>1</td>\n",
       "      <td>branca</td>\n",
       "      <td>1</td>\n",
       "      <td>2</td>\n",
       "      <td>privada</td>\n",
       "      <td>35132287.0</td>\n",
       "      <td>...</td>\n",
       "      <td>1.0</td>\n",
       "      <td>140.0</td>\n",
       "      <td>180.0</td>\n",
       "      <td>160.0</td>\n",
       "      <td>180.0</td>\n",
       "      <td>140.0</td>\n",
       "      <td>800.0</td>\n",
       "      <td>Sim</td>\n",
       "      <td>826.432059</td>\n",
       "      <td>867.154169</td>\n",
       "    </tr>\n",
       "    <tr>\n",
       "      <th>26697</th>\n",
       "      <td>1,90E+11</td>\n",
       "      <td>São Paulo</td>\n",
       "      <td>18</td>\n",
       "      <td>F</td>\n",
       "      <td>1</td>\n",
       "      <td>branca</td>\n",
       "      <td>1</td>\n",
       "      <td>2</td>\n",
       "      <td>privada</td>\n",
       "      <td>35132287.0</td>\n",
       "      <td>...</td>\n",
       "      <td>1.0</td>\n",
       "      <td>160.0</td>\n",
       "      <td>200.0</td>\n",
       "      <td>200.0</td>\n",
       "      <td>200.0</td>\n",
       "      <td>200.0</td>\n",
       "      <td>960.0</td>\n",
       "      <td>Sim</td>\n",
       "      <td>958.650406</td>\n",
       "      <td>939.726164</td>\n",
       "    </tr>\n",
       "  </tbody>\n",
       "</table>\n",
       "<p>5 rows × 30 columns</p>\n",
       "</div>"
      ],
      "text/plain": [
       "      NU_INSCRICAO NO_MUNICIPIO_RESIDENCIA  IDADE SEXO  TP_ESTADO_CIVIL  \\\n",
       "17        1,90E+11               São Paulo     18    F                1   \n",
       "10760     1,90E+11               São Paulo     17    M                1   \n",
       "13315     1,90E+11               São Paulo     17    F                1   \n",
       "20006     1,90E+11               São Paulo     17    F                1   \n",
       "26697     1,90E+11               São Paulo     18    F                1   \n",
       "\n",
       "         RACA  TP_NACIONALIDADE  TP_ST_CONCLUSAO   ESCOLA   CO_ESCOLA  ...  \\\n",
       "17     branca                 1                2  privada  35132287.0  ...   \n",
       "10760   parda                 1                2  privada  35132287.0  ...   \n",
       "13315  branca                 1                2  privada  35132287.0  ...   \n",
       "20006  branca                 1                2  privada  35132287.0  ...   \n",
       "26697  branca                 1                2  privada  35132287.0  ...   \n",
       "\n",
       "      TP_STATUS_REDACAO  COMP1  COMP2  COMP3  COMP4  COMP5  NOTA_REDACAO  \\\n",
       "17                  1.0  160.0  140.0  140.0  160.0  160.0         760.0   \n",
       "10760               1.0  180.0  200.0  200.0  200.0  140.0         920.0   \n",
       "13315               1.0  160.0  140.0  160.0  200.0  120.0         780.0   \n",
       "20006               1.0  140.0  180.0  160.0  180.0  140.0         800.0   \n",
       "26697               1.0  160.0  200.0  200.0  200.0  200.0         960.0   \n",
       "\n",
       "       INTERNET    previsao   previsao2  \n",
       "17          Sim  764.498054  765.800864  \n",
       "10760       Sim  886.690642  939.726164  \n",
       "13315       Sim  785.718021  853.382235  \n",
       "20006       Sim  826.432059  867.154169  \n",
       "26697       Sim  958.650406  939.726164  \n",
       "\n",
       "[5 rows x 30 columns]"
      ]
     },
     "execution_count": 69,
     "metadata": {},
     "output_type": "execute_result"
    }
   ],
   "source": [
    "colegiox.head()"
   ]
  },
  {
   "cell_type": "markdown",
   "metadata": {
    "id": "j23duykPmjZb"
   },
   "source": [
    "***Exercício 1***\n",
    "\n",
    "Realize a análise para escola 35005368"
   ]
  }
 ],
 "metadata": {
  "colab": {
   "provenance": []
  },
  "kernelspec": {
   "display_name": "Python 3 (ipykernel)",
   "language": "python",
   "name": "python3"
  },
  "language_info": {
   "codemirror_mode": {
    "name": "ipython",
    "version": 3
   },
   "file_extension": ".py",
   "mimetype": "text/x-python",
   "name": "python",
   "nbconvert_exporter": "python",
   "pygments_lexer": "ipython3",
   "version": "3.11.3"
  }
 },
 "nbformat": 4,
 "nbformat_minor": 1
}
