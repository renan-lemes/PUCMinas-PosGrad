{
 "cells": [
  {
   "cell_type": "markdown",
   "metadata": {
    "id": "yR3yRWWwZu5-"
   },
   "source": [
    "# Regressão Polinomial"
   ]
  },
  {
   "cell_type": "code",
   "execution_count": null,
   "metadata": {
    "id": "tIeK-GTYZu6E"
   },
   "outputs": [],
   "source": [
    "import numpy as np\n",
    "import pandas as pd\n",
    "import matplotlib.pyplot as plt\n",
    "import seaborn as sns\n",
    "import statsmodels.stats.api as sms"
   ]
  },
  {
   "cell_type": "code",
   "execution_count": null,
   "metadata": {
    "id": "BTyi6Gd6Zu6G"
   },
   "outputs": [],
   "source": [
    "dados = pd.read_csv('Regressao_Polinomial.csv')"
   ]
  },
  {
   "cell_type": "code",
   "execution_count": null,
   "metadata": {
    "id": "dq3HCw2VZu6H"
   },
   "outputs": [],
   "source": [
    "dados.head()"
   ]
  },
  {
   "cell_type": "code",
   "execution_count": null,
   "metadata": {
    "id": "-Sn081HiZu6J"
   },
   "outputs": [],
   "source": [
    "X = dados['X'].values\n",
    "Y = dados['Y'].values"
   ]
  },
  {
   "cell_type": "code",
   "execution_count": null,
   "metadata": {
    "id": "CykEQ5LNZu6K"
   },
   "outputs": [],
   "source": [
    "plt.scatter(X,Y,label='Y(X)');\n",
    "plt.xlabel('X');\n",
    "plt.ylabel('Y');\n",
    "plt.legend();"
   ]
  },
  {
   "cell_type": "markdown",
   "metadata": {},
   "source": [
    "# Análise descritiva"
   ]
  },
  {
   "cell_type": "code",
   "execution_count": null,
   "metadata": {},
   "outputs": [],
   "source": [
    "pd.options.display.float_format = '{:.2f}'.format"
   ]
  },
  {
   "cell_type": "code",
   "execution_count": null,
   "metadata": {},
   "outputs": [],
   "source": [
    "dados.describe()"
   ]
  },
  {
   "cell_type": "code",
   "execution_count": null,
   "metadata": {},
   "outputs": [],
   "source": [
    "dados.info()"
   ]
  },
  {
   "cell_type": "code",
   "execution_count": null,
   "metadata": {},
   "outputs": [],
   "source": [
    "# Análise gráfica - Pairplot\n",
    "import seaborn as sns\n",
    "sns.pairplot(dados)\n",
    "plt.suptitle(\"Análise Gráfica dos Dados\", y=1.02)\n",
    "plt.show()"
   ]
  },
  {
   "cell_type": "code",
   "execution_count": null,
   "metadata": {
    "scrolled": true
   },
   "outputs": [],
   "source": [
    "# Correlação entre variáveis\n",
    "correlation_matrix = dados.corr()\n",
    "plt.figure(figsize=(10, 8))\n",
    "sns.heatmap(correlation_matrix, annot=True, cmap=\"RdYlGn\", fmt=\".2f\")\n",
    "plt.title(\"Matriz de Correlação\")\n",
    "plt.show()"
   ]
  },
  {
   "cell_type": "code",
   "execution_count": null,
   "metadata": {
    "id": "ZRmZDGN3Zu6M"
   },
   "outputs": [],
   "source": [
    "modelo2 = np.poly1d(np.polyfit(X, Y, 2))\n",
    "modelo3 = np.poly1d(np.polyfit(X, Y, 3))\n",
    "modelo4 = np.poly1d(np.polyfit(X, Y, 4))\n",
    "modelo5 = np.poly1d(np.polyfit(X, Y, 5))"
   ]
  },
  {
   "cell_type": "code",
   "execution_count": null,
   "metadata": {
    "id": "60HaT2ccZu6N"
   },
   "outputs": [],
   "source": [
    "y2 = modelo2(X)\n",
    "y3 = modelo3(X)\n",
    "y4 = modelo4(X)\n",
    "y5 = modelo5(X)"
   ]
  },
  {
   "cell_type": "code",
   "execution_count": null,
   "metadata": {},
   "outputs": [],
   "source": [
    "residuos2 = Y - y2\n",
    "residuos3 = Y - y3\n",
    "residuos4 = Y - y4\n",
    "residuos5 = Y - y5"
   ]
  },
  {
   "cell_type": "code",
   "execution_count": null,
   "metadata": {
    "id": "DFd1KFdQZu6N",
    "scrolled": false
   },
   "outputs": [],
   "source": [
    "fig, ax = plt.subplots(2, 2)\n",
    "ax[0,0].scatter(X,Y);\n",
    "ax[0,0].plot(X,y2,color='red');\n",
    "ax[0,0].set_title('Grau 2');\n",
    "\n",
    "ax[0,1].scatter(X,Y);\n",
    "ax[0,1].plot(X,y3,color='red');\n",
    "ax[0,1].set_title('Grau 3');\n",
    "\n",
    "ax[1,0].scatter(X,Y);\n",
    "ax[1,0].plot(X,y4,color='red');\n",
    "ax[1,0].set_title('Grau 4');\n",
    "\n",
    "ax[1,1].scatter(X,Y);\n",
    "ax[1,1].plot(X,y5,color='red');\n",
    "ax[1,1].set_title('Grau 5');\n",
    "plt.tight_layout();"
   ]
  },
  {
   "cell_type": "markdown",
   "metadata": {},
   "source": [
    "### Verificando os pressupostos"
   ]
  },
  {
   "cell_type": "markdown",
   "metadata": {},
   "source": [
    "### Teste de Normalidade dos resíduos"
   ]
  },
  {
   "cell_type": "markdown",
   "metadata": {},
   "source": [
    "Ho = distribuição normal : p > 0.05\n",
    "\n",
    "Ha = distribuição != normal : p <= 0.05"
   ]
  },
  {
   "cell_type": "code",
   "execution_count": null,
   "metadata": {},
   "outputs": [],
   "source": [
    "import scipy.stats as stats"
   ]
  },
  {
   "cell_type": "code",
   "execution_count": null,
   "metadata": {},
   "outputs": [],
   "source": [
    "# Calcular o teste de Shapiro-Wilk para cada conjunto de resíduos\n",
    "estatistica2, p2 = stats.shapiro(residuos2)\n",
    "estatistica3, p3 = stats.shapiro(residuos3)\n",
    "estatistica4, p4 = stats.shapiro(residuos4)\n",
    "estatistica5, p5 = stats.shapiro(residuos5)\n",
    "\n",
    "# Imprimir os resultados\n",
    "print('Resíduos do Modelo Polinomial de Grau 2:')\n",
    "print('Estatística de teste: {}'.format(estatistica2))\n",
    "print('p-valor: {}'.format(p2))\n",
    "print()\n",
    "print('Resíduos do Modelo Polinomial de Grau 3:')\n",
    "print('Estatística de teste: {}'.format(estatistica3))\n",
    "print('p-valor: {}'.format(p3))\n",
    "print()\n",
    "print('Resíduos do Modelo Polinomial de Grau 4:')\n",
    "print('Estatística de teste: {}'.format(estatistica4))\n",
    "print('p-valor: {}'.format(p4))\n",
    "print()\n",
    "print('Resíduos do Modelo Polinomial de Grau 5:')\n",
    "print('Estatística de teste: {}'.format(estatistica5))\n",
    "print('p-valor: {}'.format(p5))"
   ]
  },
  {
   "cell_type": "code",
   "execution_count": null,
   "metadata": {
    "scrolled": true
   },
   "outputs": [],
   "source": [
    "# Definir os modelos polinomiais e calcular os resíduos para cada modelo\n",
    "modelos = [y2, y3, y4, y5]\n",
    "residuos = [residuos2, residuos3, residuos4, residuos5]\n",
    "\n",
    "# Configurar a plotagem de subplots\n",
    "fig, axs = plt.subplots(2, 2, figsize=(12, 10))\n",
    "\n",
    "# Iterar sobre os modelos e resíduos para plotar os gráficos Q-Q\n",
    "for i, (modelo, residuo) in enumerate(zip(modelos, residuos)):\n",
    "    ax = axs[i//2, i%2]  # Selecionar o subplot correspondente\n",
    "    stats.probplot(residuo, dist='norm', plot=ax)\n",
    "    ax.set_title(f'Modelo Polinomial de Grau {i+2}')\n",
    "    ax.set_xlabel('Quantis teóricos')\n",
    "    ax.set_ylabel('Quantis observados')\n",
    "\n",
    "# Ajustar o layout e mostrar os gráficos\n",
    "plt.tight_layout()\n",
    "plt.show()"
   ]
  },
  {
   "cell_type": "markdown",
   "metadata": {},
   "source": [
    "### Análise da Homocedasticidade dos resíduos\n",
    "(resíduos com variação constante)"
   ]
  },
  {
   "cell_type": "markdown",
   "metadata": {},
   "source": [
    "**Teste Breusch-Pagan (Homocedasticidade ou heterocedasticidade)**"
   ]
  },
  {
   "cell_type": "markdown",
   "metadata": {},
   "source": [
    "Ho = existe homocedasticidade : p > 0.05\n",
    "\n",
    "Ha = não existe homocedasticidade : p <= 0.05"
   ]
  },
  {
   "cell_type": "code",
   "execution_count": null,
   "metadata": {},
   "outputs": [],
   "source": [
    "from statsmodels.stats.diagnostic import het_breuschpagan"
   ]
  },
  {
   "cell_type": "code",
   "execution_count": null,
   "metadata": {},
   "outputs": [],
   "source": [
    "import statsmodels.api as sm\n",
    "\n",
    "# Adicionar uma coluna de 1s para representar a constante\n",
    "X_with_constant = sm.add_constant(X)\n",
    "\n",
    "# Calcular o teste de Breusch-Pagan para cada conjunto de resíduos\n",
    "statistic2, p_value2, f_value2, f_p_value2 = het_breuschpagan(residuos2, X_with_constant)\n",
    "statistic3, p_value3, f_value3, f_p_value3 = het_breuschpagan(residuos3, X_with_constant)\n",
    "statistic4, p_value4, f_value4, f_p_value4 = het_breuschpagan(residuos4, X_with_constant)\n",
    "statistic5, p_value5, f_value5, f_p_value5 = het_breuschpagan(residuos5, X_with_constant)\n",
    "\n",
    "# Imprimir os resultados\n",
    "print('Teste de Breusch-Pagan para o Modelo Polinomial de Grau 2:')\n",
    "print('Estatística de teste:', statistic2)\n",
    "print('Valor p:', p_value2)\n",
    "print('Estatística F:', f_value2)\n",
    "print('Valor p (F):', f_p_value2)\n",
    "print()\n",
    "print('Teste de Breusch-Pagan para o Modelo Polinomial de Grau 3:')\n",
    "print('Estatística de teste:', statistic3)\n",
    "print('Valor p:', p_value3)\n",
    "print('Estatística F:', f_value3)\n",
    "print('Valor p (F):', f_p_value3)\n",
    "print()\n",
    "print('Teste de Breusch-Pagan para o Modelo Polinomial de Grau 4:')\n",
    "print('Estatística de teste:', statistic4)\n",
    "print('Valor p:', p_value4)\n",
    "print('Estatística F:', f_value4)\n",
    "print('Valor p (F):', f_p_value4)\n",
    "print()\n",
    "print('Teste de Breusch-Pagan para o Modelo Polinomial de Grau 5:')\n",
    "print('Estatística de teste:', statistic5)\n",
    "print('Valor p:', p_value5)\n",
    "print('Estatística F:', f_value5)\n",
    "print('Valor p (F):', f_p_value5)\n"
   ]
  },
  {
   "cell_type": "code",
   "execution_count": null,
   "metadata": {
    "id": "d6R4VxEoZu6O"
   },
   "outputs": [],
   "source": [
    "from sklearn.metrics import mean_squared_error, mean_absolute_error, r2_score"
   ]
  },
  {
   "cell_type": "code",
   "execution_count": null,
   "metadata": {
    "id": "E8mcNm7kZu6P"
   },
   "outputs": [],
   "source": [
    "MAE2 = mean_absolute_error(Y,y2)\n",
    "MAE3 = mean_absolute_error(Y,y3)\n",
    "MAE4 = mean_absolute_error(Y,y4)\n",
    "MAE5 = mean_absolute_error(Y,y5)\n",
    "\n",
    "MSE2 = np.sqrt(mean_squared_error(Y,y2))\n",
    "MSE3 = np.sqrt(mean_squared_error(Y,y3))\n",
    "MSE4 = np.sqrt(mean_squared_error(Y,y4))\n",
    "MSE5 = np.sqrt(mean_squared_error(Y,y5))\n",
    "\n",
    "r_squared2 = r2_score(Y,y2)\n",
    "r_squared3 = r2_score(Y,y3)\n",
    "r_squared4 = r2_score(Y,y4)\n",
    "r_squared5 = r2_score(Y,y5)\n",
    "\n",
    "# Imprimir as métricas\n",
    "print(\"Métricas para o Modelo Polinomial de Grau 2:\")\n",
    "print(\"MAE (grau=2) = {:0.4f}\".format(MAE2))\n",
    "print(\"MSE (grau=2) = {:0.4f}\".format(MSE2))\n",
    "print(\"R² (grau=2) = {:0.4f}\".format(r_squared2))\n",
    "print()\n",
    "\n",
    "print(\"Métricas para o Modelo Polinomial de Grau 3:\")\n",
    "print(\"MAE (grau=3) = {:0.4f}\".format(MAE3))\n",
    "print(\"MSE (grau=3) = {:0.4f}\".format(MSE3))\n",
    "print(\"R² (grau=3) = {:0.4f}\".format(r_squared3))\n",
    "print()\n",
    "\n",
    "print(\"Métricas para o Modelo Polinomial de Grau 4:\")\n",
    "print(\"MAE (grau=4) = {:0.4f}\".format(MAE4))\n",
    "print(\"MSE (grau=4) = {:0.4f}\".format(MSE4))\n",
    "print(\"R² (grau=4) = {:0.4f}\".format(r_squared4))\n",
    "print()\n",
    "\n",
    "print(\"Métricas para o Modelo Polinomial de Grau 5:\")\n",
    "print(\"MAE (grau=5) = {:0.4f}\".format(MAE5))\n",
    "print(\"MSE (grau=5) = {:0.4f}\".format(MSE5))\n",
    "print(\"R² (grau=5) = {:0.4f}\".format(r_squared5))"
   ]
  },
  {
   "cell_type": "markdown",
   "metadata": {
    "id": "nmz2cnybAm9r"
   },
   "source": [
    "# Regressão Polinomial - SciKit Learn"
   ]
  },
  {
   "cell_type": "code",
   "execution_count": null,
   "metadata": {
    "id": "LDUhZSzwAzWi"
   },
   "outputs": [],
   "source": [
    "from sklearn.preprocessing import PolynomialFeatures\n",
    "from sklearn.linear_model import LinearRegression"
   ]
  },
  {
   "cell_type": "markdown",
   "metadata": {
    "id": "x-sR-OSrA1xd"
   },
   "source": [
    "# GRAU 2"
   ]
  },
  {
   "cell_type": "code",
   "execution_count": null,
   "metadata": {
    "id": "tUKhAOgMA3ns"
   },
   "outputs": [],
   "source": [
    "caracteristicas_2= PolynomialFeatures(degree=2)\n",
    "X = X.reshape(-1, 1)\n",
    "X_Polinomio_2 = caracteristicas_2.fit_transform(X)"
   ]
  },
  {
   "cell_type": "code",
   "execution_count": null,
   "metadata": {
    "id": "wWOiDIKMA5pa"
   },
   "outputs": [],
   "source": [
    "modelo2 = LinearRegression()\n",
    "modelo2.fit(X_Polinomio_2, Y)\n",
    "Y_Polinomio_2 = modelo2.predict(X_Polinomio_2)"
   ]
  },
  {
   "cell_type": "code",
   "execution_count": null,
   "metadata": {
    "id": "AtEj_o4QA7Qy"
   },
   "outputs": [],
   "source": [
    "plt.scatter(X,Y,label='Y(X)');\n",
    "plt.plot(X,Y_Polinomio_2,color='red',label='Ajuste');\n",
    "plt.xlabel('X');\n",
    "plt.ylabel('Y');\n",
    "plt.legend();"
   ]
  },
  {
   "cell_type": "markdown",
   "metadata": {
    "id": "9KALg_iDA9WT"
   },
   "source": [
    "# Grau 3"
   ]
  },
  {
   "cell_type": "code",
   "execution_count": null,
   "metadata": {
    "id": "UDSp9Z8WA_Xz"
   },
   "outputs": [],
   "source": [
    "caracteristicas_3= PolynomialFeatures(degree=3)\n",
    "X = X.reshape(-1, 1)\n",
    "X_Polinomio_3 = caracteristicas_3.fit_transform(X)"
   ]
  },
  {
   "cell_type": "code",
   "execution_count": null,
   "metadata": {
    "id": "AOJLICRtBBID"
   },
   "outputs": [],
   "source": [
    "modelo3 = LinearRegression()\n",
    "modelo3.fit(X_Polinomio_3, Y)\n",
    "Y_Polinomio_3 = modelo3.predict(X_Polinomio_3)"
   ]
  },
  {
   "cell_type": "code",
   "execution_count": null,
   "metadata": {
    "id": "0aX2vZeVBCqC"
   },
   "outputs": [],
   "source": [
    "plt.scatter(X,Y,label='Y(X)');\n",
    "plt.plot(X,Y_Polinomio_3,color='red',label='Ajuste');\n",
    "plt.xlabel('X');\n",
    "plt.ylabel('Y');\n",
    "plt.legend();"
   ]
  },
  {
   "cell_type": "markdown",
   "metadata": {
    "id": "JKo3NdAxBFLC"
   },
   "source": [
    "# Grau 4"
   ]
  },
  {
   "cell_type": "code",
   "execution_count": null,
   "metadata": {
    "id": "5fvAhNCpBM2a"
   },
   "outputs": [],
   "source": [
    "caracteristicas_4= PolynomialFeatures(degree=4)\n",
    "X = X.reshape(-1, 1)\n",
    "X_Polinomio_4 = caracteristicas_4.fit_transform(X)"
   ]
  },
  {
   "cell_type": "code",
   "execution_count": null,
   "metadata": {
    "id": "L6rVWeXFBOta"
   },
   "outputs": [],
   "source": [
    "modelo4 = LinearRegression()\n",
    "modelo4.fit(X_Polinomio_4, Y)\n",
    "Y_Polinomio_4 = modelo4.predict(X_Polinomio_4)"
   ]
  },
  {
   "cell_type": "code",
   "execution_count": null,
   "metadata": {
    "id": "6hd2xMxgBQhS"
   },
   "outputs": [],
   "source": [
    "plt.scatter(X,Y,label='Y(X)');\n",
    "plt.plot(X,Y_Polinomio_4,color='red',label='Ajuste');\n",
    "plt.xlabel('X');\n",
    "plt.ylabel('Y');\n",
    "plt.legend();"
   ]
  },
  {
   "cell_type": "markdown",
   "metadata": {
    "id": "wQJvcOXjBWtv"
   },
   "source": [
    "# Grau 5"
   ]
  },
  {
   "cell_type": "code",
   "execution_count": null,
   "metadata": {
    "id": "5oD8tqOBBYsS"
   },
   "outputs": [],
   "source": [
    "caracteristicas_5= PolynomialFeatures(degree=5)\n",
    "X = X.reshape(-1, 1)\n",
    "X_Polinomio_5 = caracteristicas_5.fit_transform(X)"
   ]
  },
  {
   "cell_type": "code",
   "execution_count": null,
   "metadata": {
    "id": "GnW4JQbEBbex"
   },
   "outputs": [],
   "source": [
    "modelo5 = LinearRegression()\n",
    "modelo5.fit(X_Polinomio_5, Y)\n",
    "Y_Polinomio_5 = modelo5.predict(X_Polinomio_5)"
   ]
  },
  {
   "cell_type": "code",
   "execution_count": null,
   "metadata": {
    "id": "qgg3LJWkBdsi"
   },
   "outputs": [],
   "source": [
    "plt.scatter(X,Y,label='Y(X)');\n",
    "plt.plot(X,Y_Polinomio_5,color='red',label='Ajuste');\n",
    "plt.xlabel('X');\n",
    "plt.ylabel('Y');\n",
    "plt.legend();"
   ]
  },
  {
   "cell_type": "markdown",
   "metadata": {
    "id": "pBQ7XpLzBhKp"
   },
   "source": [
    "# Calculando erros"
   ]
  },
  {
   "cell_type": "code",
   "execution_count": null,
   "metadata": {
    "colab": {
     "base_uri": "https://localhost:8080/"
    },
    "id": "SrYXjz2HBh8C",
    "outputId": "c77c1920-0ad5-4626-e54f-c488b0b5489d"
   },
   "outputs": [],
   "source": [
    "MAE2 = mean_absolute_error(Y,y2)\n",
    "MAE3 = mean_absolute_error(Y,y3)\n",
    "MAE4 = mean_absolute_error(Y,y4)\n",
    "MAE5 = mean_absolute_error(Y,y5)\n",
    "\n",
    "MSE2 = np.sqrt(mean_squared_error(Y,y2))\n",
    "MSE3 = np.sqrt(mean_squared_error(Y,y3))\n",
    "MSE4 = np.sqrt(mean_squared_error(Y,y4))\n",
    "MSE5 = np.sqrt(mean_squared_error(Y,y5))\n",
    "\n",
    "r_squared2 = r2_score(Y,y2)\n",
    "r_squared3 = r2_score(Y,y3)\n",
    "r_squared4 = r2_score(Y,y4)\n",
    "r_squared5 = r2_score(Y,y5)\n",
    "\n",
    "# Imprimir as métricas\n",
    "print(\"Métricas para o Modelo Polinomial de Grau 2:\")\n",
    "print(\"MAE (grau=2) = {:0.4f}\".format(MAE2))\n",
    "print(\"MSE (grau=2) = {:0.4f}\".format(MSE2))\n",
    "print(\"R² (grau=2) = {:0.4f}\".format(r_squared2))\n",
    "print()\n",
    "\n",
    "print(\"Métricas para o Modelo Polinomial de Grau 3:\")\n",
    "print(\"MAE (grau=3) = {:0.4f}\".format(MAE3))\n",
    "print(\"MSE (grau=3) = {:0.4f}\".format(MSE3))\n",
    "print(\"R² (grau=3) = {:0.4f}\".format(r_squared3))\n",
    "print()\n",
    "\n",
    "print(\"Métricas para o Modelo Polinomial de Grau 4:\")\n",
    "print(\"MAE (grau=4) = {:0.4f}\".format(MAE4))\n",
    "print(\"MSE (grau=4) = {:0.4f}\".format(MSE4))\n",
    "print(\"R² (grau=4) = {:0.4f}\".format(r_squared4))\n",
    "print()\n",
    "\n",
    "print(\"Métricas para o Modelo Polinomial de Grau 5:\")\n",
    "print(\"MAE (grau=5) = {:0.4f}\".format(MAE5))\n",
    "print(\"MSE (grau=5) = {:0.4f}\".format(MSE5))\n",
    "print(\"R² (grau=5) = {:0.4f}\".format(r_squared5))"
   ]
  }
 ],
 "metadata": {
  "colab": {
   "provenance": []
  },
  "kernelspec": {
   "display_name": "Python 3 (ipykernel)",
   "language": "python",
   "name": "python3"
  },
  "language_info": {
   "codemirror_mode": {
    "name": "ipython",
    "version": 3
   },
   "file_extension": ".py",
   "mimetype": "text/x-python",
   "name": "python",
   "nbconvert_exporter": "python",
   "pygments_lexer": "ipython3",
   "version": "3.11.5"
  }
 },
 "nbformat": 4,
 "nbformat_minor": 1
}
