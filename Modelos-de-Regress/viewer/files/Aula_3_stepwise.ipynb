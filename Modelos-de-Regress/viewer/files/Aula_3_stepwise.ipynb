{
 "cells": [
  {
   "cell_type": "markdown",
   "id": "1d7e2643",
   "metadata": {},
   "source": [
    "#### SELEÇÃO DO MELHOR MODELO PELO AIC - STEPWISE"
   ]
  },
  {
   "cell_type": "code",
   "execution_count": null,
   "id": "cdffaeba",
   "metadata": {},
   "outputs": [],
   "source": [
    "import numpy as np\n",
    "import pandas as pd\n",
    "from sklearn.linear_model import LinearRegression\n",
    "from sklearn.metrics import mean_squared_error"
   ]
  },
  {
   "cell_type": "markdown",
   "id": "2eab38bc",
   "metadata": {},
   "source": [
    "Cálculo do Critério de Informação de Akaike (AIC)"
   ]
  },
  {
   "cell_type": "code",
   "execution_count": null,
   "id": "15bd8337",
   "metadata": {},
   "outputs": [],
   "source": [
    "def calculate_aic(model, X, y):\n",
    "    n = len(y)\n",
    "    k = X.shape[1] + 1  # número de parâmetros, incluindo o intercepto\n",
    "    y_pred = model.predict(X)\n",
    "    mse = mean_squared_error(y, y_pred)\n",
    "    aic = n * np.log(mse) + 2 * k\n",
    "    return aic"
   ]
  },
  {
   "cell_type": "markdown",
   "id": "1ecbf6c0",
   "metadata": {},
   "source": [
    "Realizando a seleção de variáveis STEPWISE bidireicional (forward-backward stepwise selection)"
   ]
  },
  {
   "cell_type": "code",
   "execution_count": 3,
   "id": "9206f369",
   "metadata": {},
   "outputs": [],
   "source": [
    "def forward_backward_stepwise_selection(X, y):\n",
    "    selected_features = [] # lista vazia que armazenará as variáveis selecionadas\n",
    "    stepwise_model = LinearRegression() # modelo de regressão a ser usado\n",
    "    best_aic = float('inf') # variável que armazenará o melhor AIC\n",
    "    #(lembrando que quanto menor o AIC, melhor o modelo)\n",
    "    \n",
    "    # Passo Forward\n",
    "    while True: #Este loop continua até que não haja mais variáveis para serem testadas.\n",
    "        features_to_test = [feature for feature in X.columns if feature not in selected_features]\n",
    "        if not features_to_test: #Lista das variáveis que ainda não foram selecionadas.\n",
    "            break\n",
    "        \n",
    "        best_feature = None\n",
    "        best_model = None\n",
    "        best_aic_with_new_feature = float('inf')\n",
    "        \n",
    "        #Para cada variável em features_to_test, o modelo linear é ajustado utilizando essa variável em \n",
    "        #conjunto com as variáveis já selecionadas.\n",
    "        for feature in features_to_test:\n",
    "            # Ajusta o modelo com a nova variável adicionada\n",
    "            features_selected = selected_features + [feature]\n",
    "            stepwise_model.fit(X[features_selected], y)\n",
    "            # Calcula o AIC\n",
    "            aic = calculate_aic(stepwise_model, X[features_selected], y)\n",
    "            # Seleciona a variável com menor AIC\n",
    "            if aic < best_aic_with_new_feature:\n",
    "                best_aic_with_new_feature = aic\n",
    "                best_feature = feature\n",
    "                best_model = stepwise_model\n",
    "                \n",
    "        if best_aic_with_new_feature >= best_aic:\n",
    "            break\n",
    "        \n",
    "        selected_features.append(best_feature)\n",
    "        best_aic = best_aic_with_new_feature\n",
    "    \n",
    "    # Passo Backward\n",
    "    while True:\n",
    "        if not selected_features:\n",
    "            break\n",
    "        \n",
    "        worst_feature = None\n",
    "        worst_model = None\n",
    "        best_aic_without_feature = float('inf')\n",
    "        \n",
    "        for feature in selected_features:\n",
    "            # Ajusta o modelo sem a variável atual\n",
    "            features_removed = [f for f in selected_features if f != feature]\n",
    "            stepwise_model.fit(X[features_removed], y)\n",
    "            # Calcula o AIC\n",
    "            aic = calculate_aic(stepwise_model, X[features_removed], y)\n",
    "            # Seleciona a variável com menor AIC\n",
    "            if aic < best_aic_without_feature:\n",
    "                best_aic_without_feature = aic\n",
    "                worst_feature = feature\n",
    "                worst_model = stepwise_model\n",
    "        \n",
    "        if best_aic_without_feature >= best_aic:\n",
    "            break\n",
    "        \n",
    "        selected_features.remove(worst_feature)\n",
    "        best_aic = best_aic_without_feature\n",
    "    \n",
    "    return selected_features"
   ]
  },
  {
   "cell_type": "code",
   "execution_count": 2,
   "id": "ee550f11",
   "metadata": {},
   "outputs": [
    {
     "name": "stdout",
     "output_type": "stream",
     "text": [
      "Variáveis Selecionadas: ['bmi', 's5', 'bp', 's1', 'sex', 's2']\n"
     ]
    }
   ],
   "source": [
    "# Load the data\n",
    "df = pd.read_excel(\"diabetes_dataset.xlsx\")\n",
    "\n",
    "# Define the dependent and independent variables\n",
    "y = df[\"progressao\"]\n",
    "X = df.drop(\"progressao\", axis=1)\n",
    "\n",
    "# Inicializa o modelo de regressão linear\n",
    "stepwise_model = LinearRegression()\n",
    "\n",
    "# Realiza a seleção de variáveis\n",
    "selected_features = forward_backward_stepwise_selection(X, y)\n",
    "\n",
    "# Exibe as variáveis selecionadas\n",
    "print(\"Variáveis Selecionadas:\", selected_features)"
   ]
  },
  {
   "cell_type": "code",
   "execution_count": null,
   "id": "cc7766e2",
   "metadata": {},
   "outputs": [],
   "source": []
  }
 ],
 "metadata": {
  "kernelspec": {
   "display_name": "Python 3 (ipykernel)",
   "language": "python",
   "name": "python3"
  },
  "language_info": {
   "codemirror_mode": {
    "name": "ipython",
    "version": 3
   },
   "file_extension": ".py",
   "mimetype": "text/x-python",
   "name": "python",
   "nbconvert_exporter": "python",
   "pygments_lexer": "ipython3",
   "version": "3.11.5"
  }
 },
 "nbformat": 4,
 "nbformat_minor": 5
}
