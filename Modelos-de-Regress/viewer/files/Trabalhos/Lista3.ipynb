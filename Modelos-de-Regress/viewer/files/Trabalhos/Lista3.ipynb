{
 "cells": [
  {
   "cell_type": "code",
   "execution_count": 32,
   "metadata": {},
   "outputs": [],
   "source": [
    "import pandas as pd\n",
    "import numpy as np\n",
    "\n",
    "\n",
    "import seaborn as sns\n",
    "import matplotlib.pyplot as plt\n",
    "import scipy.stats as st\n",
    "\n",
    "import math\n",
    "\n",
    "import statsmodels.api as sm\n",
    "from statsmodels.compat import lzip\n",
    "import warnings\n",
    "\n",
    "warnings.filterwarnings(\"ignore\")"
   ]
  },
  {
   "cell_type": "code",
   "execution_count": 3,
   "metadata": {},
   "outputs": [],
   "source": [
    "df = pd.read_csv(\"RIKZ.txt\", sep=\"\\t\")"
   ]
  },
  {
   "cell_type": "code",
   "execution_count": 4,
   "metadata": {},
   "outputs": [
    {
     "data": {
      "text/html": [
       "<div>\n",
       "<style scoped>\n",
       "    .dataframe tbody tr th:only-of-type {\n",
       "        vertical-align: middle;\n",
       "    }\n",
       "\n",
       "    .dataframe tbody tr th {\n",
       "        vertical-align: top;\n",
       "    }\n",
       "\n",
       "    .dataframe thead th {\n",
       "        text-align: right;\n",
       "    }\n",
       "</style>\n",
       "<table border=\"1\" class=\"dataframe\">\n",
       "  <thead>\n",
       "    <tr style=\"text-align: right;\">\n",
       "      <th></th>\n",
       "      <th>Richness</th>\n",
       "      <th>Exposure</th>\n",
       "      <th>NAP</th>\n",
       "      <th>Beach</th>\n",
       "      <th>Site</th>\n",
       "    </tr>\n",
       "  </thead>\n",
       "  <tbody>\n",
       "    <tr>\n",
       "      <th>0</th>\n",
       "      <td>11</td>\n",
       "      <td>10</td>\n",
       "      <td>0.045</td>\n",
       "      <td>1</td>\n",
       "      <td>1</td>\n",
       "    </tr>\n",
       "    <tr>\n",
       "      <th>1</th>\n",
       "      <td>10</td>\n",
       "      <td>10</td>\n",
       "      <td>-1.036</td>\n",
       "      <td>1</td>\n",
       "      <td>2</td>\n",
       "    </tr>\n",
       "    <tr>\n",
       "      <th>2</th>\n",
       "      <td>13</td>\n",
       "      <td>10</td>\n",
       "      <td>-1.336</td>\n",
       "      <td>1</td>\n",
       "      <td>3</td>\n",
       "    </tr>\n",
       "    <tr>\n",
       "      <th>3</th>\n",
       "      <td>11</td>\n",
       "      <td>10</td>\n",
       "      <td>0.616</td>\n",
       "      <td>1</td>\n",
       "      <td>4</td>\n",
       "    </tr>\n",
       "    <tr>\n",
       "      <th>4</th>\n",
       "      <td>10</td>\n",
       "      <td>10</td>\n",
       "      <td>-0.684</td>\n",
       "      <td>1</td>\n",
       "      <td>5</td>\n",
       "    </tr>\n",
       "  </tbody>\n",
       "</table>\n",
       "</div>"
      ],
      "text/plain": [
       "   Richness  Exposure    NAP  Beach  Site\n",
       "0        11        10  0.045      1     1\n",
       "1        10        10 -1.036      1     2\n",
       "2        13        10 -1.336      1     3\n",
       "3        11        10  0.616      1     4\n",
       "4        10        10 -0.684      1     5"
      ]
     },
     "execution_count": 4,
     "metadata": {},
     "output_type": "execute_result"
    }
   ],
   "source": [
    "df.head()"
   ]
  },
  {
   "cell_type": "code",
   "execution_count": 5,
   "metadata": {},
   "outputs": [
    {
     "name": "stdout",
     "output_type": "stream",
     "text": [
      "<class 'pandas.core.frame.DataFrame'>\n",
      "RangeIndex: 45 entries, 0 to 44\n",
      "Data columns (total 5 columns):\n",
      " #   Column    Non-Null Count  Dtype  \n",
      "---  ------    --------------  -----  \n",
      " 0   Richness  45 non-null     int64  \n",
      " 1   Exposure  45 non-null     int64  \n",
      " 2   NAP       45 non-null     float64\n",
      " 3   Beach     45 non-null     int64  \n",
      " 4   Site      45 non-null     int64  \n",
      "dtypes: float64(1), int64(4)\n",
      "memory usage: 1.9 KB\n"
     ]
    }
   ],
   "source": [
    "df.info()"
   ]
  },
  {
   "cell_type": "code",
   "execution_count": 6,
   "metadata": {},
   "outputs": [
    {
     "data": {
      "text/html": [
       "<div>\n",
       "<style scoped>\n",
       "    .dataframe tbody tr th:only-of-type {\n",
       "        vertical-align: middle;\n",
       "    }\n",
       "\n",
       "    .dataframe tbody tr th {\n",
       "        vertical-align: top;\n",
       "    }\n",
       "\n",
       "    .dataframe thead th {\n",
       "        text-align: right;\n",
       "    }\n",
       "</style>\n",
       "<table border=\"1\" class=\"dataframe\">\n",
       "  <thead>\n",
       "    <tr style=\"text-align: right;\">\n",
       "      <th></th>\n",
       "      <th>Richness</th>\n",
       "      <th>Exposure</th>\n",
       "      <th>NAP</th>\n",
       "      <th>Beach</th>\n",
       "      <th>Site</th>\n",
       "    </tr>\n",
       "  </thead>\n",
       "  <tbody>\n",
       "    <tr>\n",
       "      <th>count</th>\n",
       "      <td>45.000000</td>\n",
       "      <td>45.000000</td>\n",
       "      <td>45.000000</td>\n",
       "      <td>45.000000</td>\n",
       "      <td>45.000000</td>\n",
       "    </tr>\n",
       "    <tr>\n",
       "      <th>mean</th>\n",
       "      <td>5.688889</td>\n",
       "      <td>10.222222</td>\n",
       "      <td>0.347689</td>\n",
       "      <td>5.000000</td>\n",
       "      <td>3.000000</td>\n",
       "    </tr>\n",
       "    <tr>\n",
       "      <th>std</th>\n",
       "      <td>5.003736</td>\n",
       "      <td>0.926599</td>\n",
       "      <td>0.994315</td>\n",
       "      <td>2.611165</td>\n",
       "      <td>1.430194</td>\n",
       "    </tr>\n",
       "    <tr>\n",
       "      <th>min</th>\n",
       "      <td>0.000000</td>\n",
       "      <td>8.000000</td>\n",
       "      <td>-1.336000</td>\n",
       "      <td>1.000000</td>\n",
       "      <td>1.000000</td>\n",
       "    </tr>\n",
       "    <tr>\n",
       "      <th>25%</th>\n",
       "      <td>3.000000</td>\n",
       "      <td>10.000000</td>\n",
       "      <td>-0.375000</td>\n",
       "      <td>3.000000</td>\n",
       "      <td>2.000000</td>\n",
       "    </tr>\n",
       "    <tr>\n",
       "      <th>50%</th>\n",
       "      <td>4.000000</td>\n",
       "      <td>10.000000</td>\n",
       "      <td>0.167000</td>\n",
       "      <td>5.000000</td>\n",
       "      <td>3.000000</td>\n",
       "    </tr>\n",
       "    <tr>\n",
       "      <th>75%</th>\n",
       "      <td>8.000000</td>\n",
       "      <td>11.000000</td>\n",
       "      <td>1.117000</td>\n",
       "      <td>7.000000</td>\n",
       "      <td>4.000000</td>\n",
       "    </tr>\n",
       "    <tr>\n",
       "      <th>max</th>\n",
       "      <td>22.000000</td>\n",
       "      <td>11.000000</td>\n",
       "      <td>2.255000</td>\n",
       "      <td>9.000000</td>\n",
       "      <td>5.000000</td>\n",
       "    </tr>\n",
       "  </tbody>\n",
       "</table>\n",
       "</div>"
      ],
      "text/plain": [
       "        Richness   Exposure        NAP      Beach       Site\n",
       "count  45.000000  45.000000  45.000000  45.000000  45.000000\n",
       "mean    5.688889  10.222222   0.347689   5.000000   3.000000\n",
       "std     5.003736   0.926599   0.994315   2.611165   1.430194\n",
       "min     0.000000   8.000000  -1.336000   1.000000   1.000000\n",
       "25%     3.000000  10.000000  -0.375000   3.000000   2.000000\n",
       "50%     4.000000  10.000000   0.167000   5.000000   3.000000\n",
       "75%     8.000000  11.000000   1.117000   7.000000   4.000000\n",
       "max    22.000000  11.000000   2.255000   9.000000   5.000000"
      ]
     },
     "execution_count": 6,
     "metadata": {},
     "output_type": "execute_result"
    }
   ],
   "source": [
    "df.describe()"
   ]
  },
  {
   "cell_type": "code",
   "execution_count": 7,
   "metadata": {},
   "outputs": [],
   "source": [
    "df.Beach = pd.Categorical(df.Beach)"
   ]
  },
  {
   "cell_type": "code",
   "execution_count": 8,
   "metadata": {},
   "outputs": [
    {
     "data": {
      "text/plain": [
       "Richness    0\n",
       "Exposure    0\n",
       "NAP         0\n",
       "Beach       0\n",
       "Site        0\n",
       "dtype: int64"
      ]
     },
     "execution_count": 8,
     "metadata": {},
     "output_type": "execute_result"
    }
   ],
   "source": [
    "df.isnull().sum()"
   ]
  },
  {
   "cell_type": "code",
   "execution_count": 9,
   "metadata": {},
   "outputs": [
    {
     "data": {
      "text/plain": [
       "Richness    0\n",
       "Exposure    0\n",
       "NAP         0\n",
       "Beach       0\n",
       "Site        0\n",
       "dtype: int64"
      ]
     },
     "execution_count": 9,
     "metadata": {},
     "output_type": "execute_result"
    }
   ],
   "source": [
    "df.isna().sum()"
   ]
  },
  {
   "cell_type": "code",
   "execution_count": 10,
   "metadata": {},
   "outputs": [
    {
     "data": {
      "text/html": [
       "<div>\n",
       "<style scoped>\n",
       "    .dataframe tbody tr th:only-of-type {\n",
       "        vertical-align: middle;\n",
       "    }\n",
       "\n",
       "    .dataframe tbody tr th {\n",
       "        vertical-align: top;\n",
       "    }\n",
       "\n",
       "    .dataframe thead th {\n",
       "        text-align: right;\n",
       "    }\n",
       "</style>\n",
       "<table border=\"1\" class=\"dataframe\">\n",
       "  <thead>\n",
       "    <tr style=\"text-align: right;\">\n",
       "      <th></th>\n",
       "      <th>Richness</th>\n",
       "      <th>Exposure</th>\n",
       "      <th>NAP</th>\n",
       "      <th>Beach</th>\n",
       "      <th>Site</th>\n",
       "    </tr>\n",
       "  </thead>\n",
       "  <tbody>\n",
       "    <tr>\n",
       "      <th>0</th>\n",
       "      <td>11</td>\n",
       "      <td>10</td>\n",
       "      <td>0.045</td>\n",
       "      <td>1</td>\n",
       "      <td>1</td>\n",
       "    </tr>\n",
       "    <tr>\n",
       "      <th>1</th>\n",
       "      <td>10</td>\n",
       "      <td>10</td>\n",
       "      <td>-1.036</td>\n",
       "      <td>1</td>\n",
       "      <td>2</td>\n",
       "    </tr>\n",
       "    <tr>\n",
       "      <th>2</th>\n",
       "      <td>13</td>\n",
       "      <td>10</td>\n",
       "      <td>-1.336</td>\n",
       "      <td>1</td>\n",
       "      <td>3</td>\n",
       "    </tr>\n",
       "    <tr>\n",
       "      <th>3</th>\n",
       "      <td>11</td>\n",
       "      <td>10</td>\n",
       "      <td>0.616</td>\n",
       "      <td>1</td>\n",
       "      <td>4</td>\n",
       "    </tr>\n",
       "    <tr>\n",
       "      <th>4</th>\n",
       "      <td>10</td>\n",
       "      <td>10</td>\n",
       "      <td>-0.684</td>\n",
       "      <td>1</td>\n",
       "      <td>5</td>\n",
       "    </tr>\n",
       "  </tbody>\n",
       "</table>\n",
       "</div>"
      ],
      "text/plain": [
       "   Richness  Exposure    NAP Beach  Site\n",
       "0        11        10  0.045     1     1\n",
       "1        10        10 -1.036     1     2\n",
       "2        13        10 -1.336     1     3\n",
       "3        11        10  0.616     1     4\n",
       "4        10        10 -0.684     1     5"
      ]
     },
     "execution_count": 10,
     "metadata": {},
     "output_type": "execute_result"
    }
   ],
   "source": [
    "df.head()"
   ]
  },
  {
   "cell_type": "code",
   "execution_count": 11,
   "metadata": {},
   "outputs": [
    {
     "data": {
      "text/plain": [
       "0     11\n",
       "1     10\n",
       "2     13\n",
       "3     11\n",
       "4     10\n",
       "5      8\n",
       "6      9\n",
       "7      8\n",
       "8     19\n",
       "9     17\n",
       "10     6\n",
       "11     1\n",
       "12     4\n",
       "13     3\n",
       "14     3\n",
       "15     1\n",
       "16     3\n",
       "17     3\n",
       "18     1\n",
       "19     4\n",
       "20     3\n",
       "21    22\n",
       "22     6\n",
       "23     0\n",
       "24     6\n",
       "25     5\n",
       "26     4\n",
       "27     1\n",
       "28     6\n",
       "29     4\n",
       "30     2\n",
       "31     1\n",
       "32     1\n",
       "33     3\n",
       "34     4\n",
       "35     3\n",
       "36     5\n",
       "37     7\n",
       "38     5\n",
       "39     0\n",
       "40     7\n",
       "41    11\n",
       "42     3\n",
       "43     0\n",
       "44     2\n",
       "Name: Richness, dtype: int64"
      ]
     },
     "execution_count": 11,
     "metadata": {},
     "output_type": "execute_result"
    }
   ],
   "source": [
    "df.Richness"
   ]
  },
  {
   "cell_type": "code",
   "execution_count": 12,
   "metadata": {},
   "outputs": [
    {
     "data": {
      "text/plain": [
       "pandas.core.frame.DataFrame"
      ]
     },
     "execution_count": 12,
     "metadata": {},
     "output_type": "execute_result"
    }
   ],
   "source": [
    "type(df)"
   ]
  },
  {
   "cell_type": "code",
   "execution_count": 13,
   "metadata": {},
   "outputs": [
    {
     "data": {
      "image/png": "[encoded data removed]",
      "text/plain": [
       "<Figure size 864x720 with 1 Axes>"
      ]
     },
     "metadata": {},
     "output_type": "display_data"
    }
   ],
   "source": [
    "## \n",
    "plt.figure(figsize=(12, 10))\n",
    "plt.hist(df[\"Richness\"], bins=20, density=False, color=\"skyblue\", edgecolor=\"black\")\n",
    "# Adiciona título e rótulos dos eixos\n",
    "plt.title(\"Distribuição da Riqueza das Espécies\")\n",
    "plt.xlabel(\"Riqueza\")\n",
    "plt.ylabel(\"Frequência\")\n",
    "\n",
    "# Exibe o histograma\n",
    "plt.show()"
   ]
  },
  {
   "cell_type": "markdown",
   "metadata": {},
   "source": [
    "Análisando a distribuição dos dados, aparentemente ela tem uma dustribuição a esqueda. Bem semelhante a distribuição de poisson."
   ]
  },
  {
   "cell_type": "code",
   "execution_count": 14,
   "metadata": {},
   "outputs": [],
   "source": [
    "df[\"Nap_Beach\"] = df['NAP'] * df['Beach'].cat.codes"
   ]
  },
  {
   "cell_type": "code",
   "execution_count": 15,
   "metadata": {},
   "outputs": [],
   "source": [
    "## Inicializando o modelo de poison\n",
    "model_P = sm.GLM(\n",
    "    df[\"Richness\"],\n",
    "    sm.add_constant(df[[\"NAP\", \"Beach\", \"Nap_Beach\"]]),\n",
    "    family=sm.families.Poisson(),\n",
    ").fit()"
   ]
  },
  {
   "cell_type": "code",
   "execution_count": 16,
   "metadata": {},
   "outputs": [
    {
     "name": "stdout",
     "output_type": "stream",
     "text": [
      "                 Generalized Linear Model Regression Results                  \n",
      "==============================================================================\n",
      "Dep. Variable:               Richness   No. Observations:                   45\n",
      "Model:                            GLM   Df Residuals:                       41\n",
      "Model Family:                 Poisson   Df Model:                            3\n",
      "Link Function:                    Log   Scale:                          1.0000\n",
      "Method:                          IRLS   Log-Likelihood:                -115.83\n",
      "Date:                Sat, 30 Mar 2024   Deviance:                       89.663\n",
      "Time:                        00:06:43   Pearson chi2:                     100.\n",
      "No. Iterations:                     5   Pseudo R-squ. (CS):             0.8649\n",
      "Covariance Type:            nonrobust                                         \n",
      "==============================================================================\n",
      "                 coef    std err          z      P>|z|      [0.025      0.975]\n",
      "------------------------------------------------------------------------------\n",
      "const          2.3369      0.126     18.578      0.000       2.090       2.583\n",
      "NAP           -0.2086      0.117     -1.775      0.076      -0.439       0.022\n",
      "Beach         -0.1148      0.026     -4.403      0.000      -0.166      -0.064\n",
      "Nap_Beach     -0.0866      0.032     -2.740      0.006      -0.149      -0.025\n",
      "==============================================================================\n"
     ]
    }
   ],
   "source": [
    "print(model_P.summary())"
   ]
  },
  {
   "cell_type": "markdown",
   "metadata": {},
   "source": [
    "* O R ao quadrado indica que o modelo explica aproximadamente 86% da variação observada.\n",
    "* Neste caso, a constante (const) e a variável Beach têm valores P muito baixos (próximos de zero), o que indica que elas são estatisticamente significativas."
   ]
  },
  {
   "cell_type": "markdown",
   "metadata": {},
   "source": [
    "Agora vamos avaliar o modelo sem Nap_Beach sem interação."
   ]
  },
  {
   "cell_type": "code",
   "execution_count": 17,
   "metadata": {},
   "outputs": [],
   "source": [
    "# Ajuste o modelo de Poisson sem interação\n",
    "model_P_n = sm.GLM(\n",
    "    df[\"Richness\"],\n",
    "    sm.add_constant(df[[\"NAP\", \"Beach\"]]),\n",
    "    family=sm.families.Poisson(),\n",
    ").fit()"
   ]
  },
  {
   "cell_type": "code",
   "execution_count": 18,
   "metadata": {},
   "outputs": [
    {
     "name": "stdout",
     "output_type": "stream",
     "text": [
      "                 Generalized Linear Model Regression Results                  \n",
      "==============================================================================\n",
      "Dep. Variable:               Richness   No. Observations:                   45\n",
      "Model:                            GLM   Df Residuals:                       42\n",
      "Model Family:                 Poisson   Df Model:                            2\n",
      "Link Function:                    Log   Scale:                          1.0000\n",
      "Method:                          IRLS   Log-Likelihood:                -119.86\n",
      "Date:                Sat, 30 Mar 2024   Deviance:                       97.712\n",
      "Time:                        00:06:43   Pearson chi2:                     110.\n",
      "No. Iterations:                     5   Pseudo R-squ. (CS):             0.8385\n",
      "Covariance Type:            nonrobust                                         \n",
      "==============================================================================\n",
      "                 coef    std err          z      P>|z|      [0.025      0.975]\n",
      "------------------------------------------------------------------------------\n",
      "const          2.2321      0.124     18.019      0.000       1.989       2.475\n",
      "NAP           -0.4678      0.074     -6.353      0.000      -0.612      -0.323\n",
      "Beach         -0.0996      0.026     -3.857      0.000      -0.150      -0.049\n",
      "==============================================================================\n"
     ]
    }
   ],
   "source": [
    "print(model_P_n.summary())"
   ]
  },
  {
   "cell_type": "markdown",
   "metadata": {},
   "source": [
    "* O R quadrado também muito bom indicando 83% dos nossos dados.\n",
    "* O teste de significancia também menor que 0.05 o que indica uma boa significância."
   ]
  },
  {
   "cell_type": "markdown",
   "metadata": {},
   "source": [
    "Para ter mais certezas vamos aplicar algumas análises de pressupostos comparando os modelos.\n",
    "* Verifique a homogeneidade da variância dos resíduos.\n",
    "* Verifique a normalidade dos resíduos.\n",
    "* Avalie a significância dos coeficientes e a qualidade de ajuste dos modelos.\n",
    "* Compare os modelos utilizando critérios como AIC ou BIC."
   ]
  },
  {
   "cell_type": "code",
   "execution_count": 19,
   "metadata": {},
   "outputs": [],
   "source": [
    "resid = model_P.resid_pearson\n",
    "X = sm.add_constant(df[[\"NAP\", \"Beach\", \"Nap_Beach\"]])\n",
    "\n",
    "result_bptest = sm.stats.diagnostic.het_breuschpagan(resid, X)\n"
   ]
  },
  {
   "cell_type": "code",
   "execution_count": 20,
   "metadata": {},
   "outputs": [
    {
     "name": "stdout",
     "output_type": "stream",
     "text": [
      "Modelo 1 - com interações\n",
      "[('LM Statistic', 1.291377059367933), ('LM-Test p-value', 0.7311816905544806), ('F-Statistic', 0.40378347849882096), ('F-Test p-value', 0.7510436641305898)]\n"
     ]
    }
   ],
   "source": [
    "label = [\"LM Statistic\", \"LM-Test p-value\", \"F-Statistic\", \"F-Test p-value\"]\n",
    "print(\"Modelo 1 - com interações\")\n",
    "print(lzip(label, result_bptest))"
   ]
  },
  {
   "cell_type": "code",
   "execution_count": 21,
   "metadata": {},
   "outputs": [],
   "source": [
    "resid = model_P_n.resid_pearson\n",
    "X = sm.add_constant(df[[\"NAP\", \"Beach\"]])\n",
    "\n",
    "result_bptest = sm.stats.diagnostic.het_breuschpagan(resid, X)"
   ]
  },
  {
   "cell_type": "code",
   "execution_count": 22,
   "metadata": {},
   "outputs": [
    {
     "name": "stdout",
     "output_type": "stream",
     "text": [
      "Modelo 2 - sem interações\n",
      "[('LM Statistic', 0.7737677072678051), ('LM-Test p-value', 0.6791699734702012), ('F-Statistic', 0.36740913729823044), ('F-Test p-value', 0.6947299258188568)]\n"
     ]
    }
   ],
   "source": [
    "label = [\"LM Statistic\", \"LM-Test p-value\", \"F-Statistic\", \"F-Test p-value\"]\n",
    "print(\"Modelo 2 - sem interações\")\n",
    "print(lzip(label, result_bptest))"
   ]
  },
  {
   "cell_type": "markdown",
   "metadata": {},
   "source": [
    "Para ambos os modelos os p valores do teste LM e F são maiores que 0.05, assim concluimos que há evidências suficientes para rejeitar a hipótese nula de homocedasticidade para ambos os modelos."
   ]
  },
  {
   "cell_type": "code",
   "execution_count": 23,
   "metadata": {},
   "outputs": [],
   "source": [
    "resid = model_P.resid_pearson"
   ]
  },
  {
   "cell_type": "code",
   "execution_count": 24,
   "metadata": {},
   "outputs": [
    {
     "data": {
      "image/png": "[encoded data removed]",
      "text/plain": [
       "<Figure size 432x288 with 1 Axes>"
      ]
     },
     "metadata": {},
     "output_type": "display_data"
    }
   ],
   "source": [
    "st.probplot(resid, dist=\"norm\", plot=plt)\n",
    "plt.title(\"Gráfico Q-Q dos Resíduos do modelo 1\")\n",
    "plt.xlabel(\"Quantis Teóricos\")\n",
    "plt.ylabel(\"Quantis dos Resíduos\")\n",
    "plt.show()"
   ]
  },
  {
   "cell_type": "code",
   "execution_count": 25,
   "metadata": {},
   "outputs": [],
   "source": [
    "resid = model_P_n.resid_pearson"
   ]
  },
  {
   "cell_type": "code",
   "execution_count": 26,
   "metadata": {},
   "outputs": [
    {
     "data": {
      "image/png": "[encoded data removed]",
      "text/plain": [
       "<Figure size 432x288 with 1 Axes>"
      ]
     },
     "metadata": {},
     "output_type": "display_data"
    }
   ],
   "source": [
    "st.probplot(resid, dist=\"norm\", plot=plt)\n",
    "plt.title(\"Gráfico Q-Q dos Resíduos do modelo 2\")\n",
    "plt.xlabel(\"Quantis Teóricos\")\n",
    "plt.ylabel(\"Quantis dos Resíduos\")\n",
    "plt.show()"
   ]
  },
  {
   "cell_type": "markdown",
   "metadata": {},
   "source": [
    "Conseguimos identificar o modelo dois aparentemente no gráfico temos uma distancia maior entre 1 e -1."
   ]
  },
  {
   "cell_type": "markdown",
   "metadata": {},
   "source": [
    "Isso nos indica que o modelo 1 explica melhor nossos dados."
   ]
  },
  {
   "cell_type": "code",
   "execution_count": 27,
   "metadata": {},
   "outputs": [],
   "source": [
    "resid = model_P.resid_pearson"
   ]
  },
  {
   "cell_type": "code",
   "execution_count": 28,
   "metadata": {},
   "outputs": [
    {
     "name": "stdout",
     "output_type": "stream",
     "text": [
      "Estatística de Teste do modelo 1: 0.8548638684080951\n",
      "p-valor: 4.895942589690391e-05\n"
     ]
    }
   ],
   "source": [
    "# Teste de Shapiro-Wilk\n",
    "\n",
    "stat, p_valor = st.shapiro(resid)\n",
    "print(\"Estatística de Teste do modelo 1:\", stat)\n",
    "print(\"p-valor:\", p_valor)"
   ]
  },
  {
   "cell_type": "code",
   "execution_count": 29,
   "metadata": {},
   "outputs": [],
   "source": [
    "resid = model_P_n.resid_pearson"
   ]
  },
  {
   "cell_type": "code",
   "execution_count": 30,
   "metadata": {},
   "outputs": [
    {
     "name": "stdout",
     "output_type": "stream",
     "text": [
      "Estatística de Teste do modelo 2: 0.8335282239414797\n",
      "p-valor: 1.4172651879433216e-05\n"
     ]
    }
   ],
   "source": [
    "# Teste de Shapiro-Wilk\n",
    "\n",
    "stat, p_valor = st.shapiro(resid)\n",
    "print(\"Estatística de Teste do modelo 2:\", stat)\n",
    "print(\"p-valor:\", p_valor)"
   ]
  },
  {
   "cell_type": "markdown",
   "metadata": {},
   "source": [
    "Ambos os modelos apresentam um p valor pequeno."
   ]
  },
  {
   "cell_type": "code",
   "execution_count": 33,
   "metadata": {},
   "outputs": [],
   "source": [
    "\n",
    "n = len(df)\n",
    "AIC_model_P = 2 * len(model_P.params) - 2*model_P.llf\n",
    "BIC_model_P = model_P.params * math.log(n)  - 2 * model_P.llf"
   ]
  },
  {
   "cell_type": "code",
   "execution_count": 34,
   "metadata": {},
   "outputs": [],
   "source": [
    "AIC_model_P_n = 2 * len(model_P_n.params) - 2 * model_P_n.llf\n",
    "BIC_model_P_n = model_P_n.params * math.log(n) - 2 * model_P_n.llf"
   ]
  },
  {
   "cell_type": "code",
   "execution_count": 36,
   "metadata": {},
   "outputs": [
    {
     "name": "stdout",
     "output_type": "stream",
     "text": [
      "---------------Modelo 1---------------\n",
      "AIC:  239.6617704229625\n",
      "BIC:  const        240.557522\n",
      "NAP          230.867870\n",
      "Beach        231.224797\n",
      "Nap_Beach    231.331995\n",
      "dtype: float64\n",
      "---------------Modelo 2---------------\n",
      "AIC:  245.71041415489273\n",
      "BIC:  const    248.207343\n",
      "NAP      237.929658\n",
      "Beach    239.331440\n",
      "dtype: float64\n"
     ]
    }
   ],
   "source": [
    "print(\"---------------Modelo 1---------------\")\n",
    "print(\"AIC: \", AIC_model_P)\n",
    "print(\"BIC: \", BIC_model_P)\n",
    "\n",
    "print(\"---------------Modelo 2---------------\")\n",
    "print(\"AIC: \", AIC_model_P_n)\n",
    "print(\"BIC: \", BIC_model_P_n)"
   ]
  },
  {
   "cell_type": "markdown",
   "metadata": {},
   "source": [
    "Com base no AIC e BIC podemos então notar que o modelo 1 é melhor que o modelo 2."
   ]
  }
 ],
 "metadata": {
  "kernelspec": {
   "display_name": "base",
   "language": "python",
   "name": "python3"
  },
  "language_info": {
   "codemirror_mode": {
    "name": "ipython",
    "version": 3
   },
   "file_extension": ".py",
   "mimetype": "text/x-python",
   "name": "python",
   "nbconvert_exporter": "python",
   "pygments_lexer": "ipython3",
   "version": "3.9.12"
  }
 },
 "nbformat": 4,
 "nbformat_minor": 2
}
