{
 "cells": [
  {
   "cell_type": "markdown",
   "id": "f8dcc957e96d2dcf",
   "metadata": {},
   "source": [
    "# Exercício 1 \n",
    "#### A partir da base de dados propaganda.csv faça três modelos de regressão simples para comparar as propagandas de TV, rádio e jornal. É imprescindível realizar:\n",
    "\n",
    "1 – Análise descritiva\n",
    "\n",
    "2 – Análise de correlação\n",
    "\n",
    "3 – Modelo de regressão\n",
    "\n",
    "4 – Analise de resíduos\n",
    "\n",
    "5 – Análise do Modelo"
   ]
  },
  {
   "cell_type": "code",
   "execution_count": null,
   "id": "initial_id",
   "metadata": {
    "ExecuteTime": {
     "end_time": "2023-11-24T00:14:13.665534800Z",
     "start_time": "2023-11-24T00:14:13.635188600Z"
    }
   },
   "outputs": [],
   "source": [
    "import numpy as np\n",
    "import pandas as pd\n",
    "import seaborn as sns\n",
    "import matplotlib.pyplot as plt\n",
    "import statsmodels.api as sm\n",
    "from statsmodels.stats.diagnostic import het_breuschpagan\n",
    "from statsmodels.stats.outliers_influence import variance_inflation_factor\n",
    "from statsmodels.stats.diagnostic import lilliefors\n",
    "import scipy.stats as stats\n",
    "\n"
   ]
  },
  {
   "cell_type": "markdown",
   "id": "20d07bc9781d7c2a",
   "metadata": {},
   "source": [
    "### 1 – Análise descritiva"
   ]
  },
  {
   "cell_type": "markdown",
   "id": "8faeddcc",
   "metadata": {},
   "source": [
    "Carregando a base de dados"
   ]
  },
  {
   "cell_type": "code",
   "execution_count": null,
   "id": "668dc597c533ec",
   "metadata": {
    "ExecuteTime": {
     "end_time": "2023-11-21T19:21:49.127519400Z",
     "start_time": "2023-11-21T19:21:49.108027200Z"
    }
   },
   "outputs": [],
   "source": [
    "dados = pd.read_csv('propaganda.csv')"
   ]
  },
  {
   "cell_type": "markdown",
   "id": "e9a05da5",
   "metadata": {},
   "source": [
    "Analise descritiva das medidas de tendencia central via tabela"
   ]
  },
  {
   "cell_type": "code",
   "execution_count": null,
   "id": "1d481945ecbac902",
   "metadata": {
    "ExecuteTime": {
     "end_time": "2023-11-21T19:21:50.277351Z",
     "start_time": "2023-11-21T19:21:50.241153100Z"
    }
   },
   "outputs": [],
   "source": [
    "dados.describe()"
   ]
  },
  {
   "cell_type": "markdown",
   "id": "c989eafc",
   "metadata": {},
   "source": [
    "Verificação do tamanho da base de dados"
   ]
  },
  {
   "cell_type": "code",
   "execution_count": null,
   "id": "b52f25ccd8dd5a01",
   "metadata": {
    "ExecuteTime": {
     "end_time": "2023-11-21T19:47:03.770521500Z",
     "start_time": "2023-11-21T19:47:03.740271200Z"
    }
   },
   "outputs": [],
   "source": [
    "dados.shape"
   ]
  },
  {
   "cell_type": "markdown",
   "id": "2962360a",
   "metadata": {},
   "source": [
    "Visualização das 5 primeiras linhas "
   ]
  },
  {
   "cell_type": "code",
   "execution_count": null,
   "id": "f9408f5d47efe15b",
   "metadata": {
    "ExecuteTime": {
     "end_time": "2023-11-21T19:47:16.428916600Z",
     "start_time": "2023-11-21T19:47:16.389552200Z"
    }
   },
   "outputs": [],
   "source": [
    "dados.head()"
   ]
  },
  {
   "cell_type": "markdown",
   "id": "c64be3a7",
   "metadata": {},
   "source": [
    "Verificação do tipo das variáveis"
   ]
  },
  {
   "cell_type": "code",
   "execution_count": null,
   "id": "a5aec426f2bd3097",
   "metadata": {
    "ExecuteTime": {
     "end_time": "2023-11-21T19:47:28.294226600Z",
     "start_time": "2023-11-21T19:47:28.285567400Z"
    }
   },
   "outputs": [],
   "source": [
    "dados.dtypes"
   ]
  },
  {
   "cell_type": "markdown",
   "id": "e4cc59db",
   "metadata": {},
   "source": [
    "Verificação de valores ausentes e nulos"
   ]
  },
  {
   "cell_type": "code",
   "execution_count": null,
   "id": "1d5d64eaeb3725ed",
   "metadata": {
    "ExecuteTime": {
     "end_time": "2023-11-21T19:48:04.007526200Z",
     "start_time": "2023-11-21T19:48:03.980899100Z"
    }
   },
   "outputs": [],
   "source": [
    "dados.isnull().sum()"
   ]
  },
  {
   "cell_type": "markdown",
   "id": "24c12b60286d17b5",
   "metadata": {},
   "source": [
    "A base de dados não possui dados faltantes ou nulos e todos os dados são do mesmo tipo."
   ]
  },
  {
   "cell_type": "code",
   "execution_count": null,
   "id": "43616d26",
   "metadata": {},
   "outputs": [],
   "source": [
    "# Análise gráfica - Pairplot\n",
    "sns.pairplot(dados, corner=True) # corner corta metade do gráfico pois é simetrico.\n",
    "plt.suptitle(\"Análise Gráfica dos Dados de Propagandas\")\n",
    "plt.show()"
   ]
  },
  {
   "cell_type": "markdown",
   "id": "a97f27ce",
   "metadata": {},
   "source": [
    "Analise grafica para verificar a disposição dos dados e relação entre as variáveis"
   ]
  },
  {
   "cell_type": "markdown",
   "id": "504d645705edace5",
   "metadata": {},
   "source": [
    "### 2 – Calculo de correlação\n"
   ]
  },
  {
   "cell_type": "code",
   "execution_count": null,
   "id": "c5de3c0ebc6e982c",
   "metadata": {
    "ExecuteTime": {
     "end_time": "2023-11-21T19:57:50.449164Z",
     "start_time": "2023-11-21T19:57:50.247428600Z"
    }
   },
   "outputs": [],
   "source": [
    "# Calcula a matriz de correlação\n",
    "correlation_matrix = dados.corr()\n",
    "plt.figure(figsize=(10, 8))\n",
    "sns.heatmap(correlation_matrix, annot=True, cmap=\"crest\", fmt=\".2f\")\n",
    "plt.title(\"Matriz de Correlação\")\n",
    "plt.show()\n"
   ]
  },
  {
   "cell_type": "markdown",
   "id": "9e5875829eedadd9",
   "metadata": {},
   "source": [
    "Podemos ver claramente que a correlacão de Vendas com propagandas em TV é maior que na Radio que é maior que no Jornal"
   ]
  },
  {
   "cell_type": "markdown",
   "id": "3f405a1674b8746f",
   "metadata": {},
   "source": [
    "### 3 – Faça o modelo de regressão"
   ]
  },
  {
   "cell_type": "code",
   "execution_count": null,
   "id": "1bd43e0dd1e0e108",
   "metadata": {
    "ExecuteTime": {
     "end_time": "2023-11-24T00:21:06.811763500Z",
     "start_time": "2023-11-24T00:21:06.784348600Z"
    }
   },
   "outputs": [],
   "source": [
    "# Definindo a variável dependente (Vendas) e independente (TV)\n",
    "X = dados['TV']  # Variável independente (TV)\n",
    "X_radio = dados['Radio']\n",
    "X_jornal = dados['Jornal']\n",
    "y = dados['Vendas']  # Variável dependente (Vendas)\n",
    "\n",
    "# Adicionando uma constante à variável independente\n",
    "X = sm.add_constant(X)\n",
    "X_radio = sm.add_constant(X_radio)\n",
    "X_jornal = sm.add_constant(X_jornal)\n",
    "\n",
    "# Ajustando o modelo de regressão linear\n",
    "modelo_tv = sm.OLS(y, X).fit()\n",
    "modelo_radio = sm.OLS(y, X_radio).fit()\n",
    "modelo_jornal = sm.OLS(y, X_jornal).fit()\n",
    "\n",
    "# Sumário do modelo\n",
    "modelo_tv_summary = modelo_tv.summary()\n",
    "modelo_radio_summary = modelo_radio.summary()\n",
    "modelo_jornal_summary = modelo_jornal.summary()\n",
    "\n",
    "\n",
    "# sm.OLS() é usado para ajustar o modelo de regressão linear ordinária.\n",
    "# sm.add_constant() é necessário pois o OLS não adiciona automaticamente a constante (intercepto).\n"
   ]
  },
  {
   "cell_type": "markdown",
   "id": "57a7455ab62b0c10",
   "metadata": {},
   "source": [
    "### 4 – realize a analise de resíduos\n"
   ]
  },
  {
   "cell_type": "code",
   "execution_count": null,
   "id": "74ad04a6",
   "metadata": {},
   "outputs": [],
   "source": [
    "# Resíduos dos modelos\n",
    "residuos_tv = modelo_tv.resid\n",
    "residuos_radio = modelo_radio.resid\n",
    "residuos_jornal = modelo_jornal.resid\n",
    "\n",
    "# Gráfico de homocedasticidade\n",
    "plt.figure(figsize=(10, 6))\n",
    "\n",
    "plt.subplot(1, 3, 1)\n",
    "sns.scatterplot(x=modelo_tv.fittedvalues, y=residuos_tv)\n",
    "plt.axhline(y=0, color='red', linestyle='--')\n",
    "plt.title('Homocedasticidade - TV')\n",
    "\n",
    "plt.subplot(1, 3, 2)\n",
    "sns.scatterplot(x=modelo_radio.fittedvalues, y=residuos_radio)\n",
    "plt.axhline(y=0, color='red', linestyle='--')\n",
    "plt.title('Homocedasticidade - Rádio')\n",
    "\n",
    "plt.subplot(1, 3, 3)\n",
    "sns.scatterplot(x=modelo_jornal.fittedvalues, y=residuos_jornal)\n",
    "plt.axhline(y=0, color='red', linestyle='--')\n",
    "plt.title('Homocedasticidade - Jornal')\n",
    "\n",
    "plt.tight_layout()\n",
    "plt.show()"
   ]
  },
  {
   "cell_type": "markdown",
   "id": "01cae72b",
   "metadata": {},
   "source": [
    "No grafico 3, observa-se que os pontos estão aleatoriamente espalhados em torno da linha zero, com uma faixa constante de dispersão, isso pode inficar homocedasticidade. \n",
    "Já nos gráficos 1 e 2, existe um padrão claro e uma ampla dispersão, podendo indicar heterocedasticidade."
   ]
  },
  {
   "cell_type": "markdown",
   "id": "d84d86330ba1df5",
   "metadata": {},
   "source": [
    "#### Teste de Homocedasticidade com Breusch-Pagan"
   ]
  },
  {
   "cell_type": "code",
   "execution_count": null,
   "id": "1d8d769fc8c6a952",
   "metadata": {
    "ExecuteTime": {
     "end_time": "2023-11-22T20:17:33.312148300Z",
     "start_time": "2023-11-22T20:17:33.266138400Z"
    }
   },
   "outputs": [],
   "source": [
    "# Calcula os resíduos do modelo\n",
    "# Criação de uma lista de tuplas com os modelos e seus respectivos nomes\n",
    "modelos = [\n",
    "    (\"modelo_tv\", modelo_tv, dados['TV']),\n",
    "    (\"modelo_radio\", modelo_radio, dados['Radio']),\n",
    "    (\"modelo_jornal\", modelo_jornal, dados['Jornal'])\n",
    "]\n",
    "\n",
    "for nome, modelo,dados in modelos:\n",
    "    estatistica, p, f, fp = het_breuschpagan(modelo.resid, modelo.model.exog)\n",
    "    print(f'Estatísticas de teste para {nome}: {format(estatistica)}')\n",
    "    print(f'p-valor: {p}')\n",
    "    print(f'f-valor: {fp}')\n",
    "    print(f'f_p-valor: {f}')\n"
   ]
  },
  {
   "cell_type": "markdown",
   "id": "c1eb37e1824bd49e",
   "metadata": {},
   "source": [
    "#### Breusch-Pagan:\n",
    "Se o p-valor do teste menor que 0.05, indica a presença de heterocedasticidade e pode ser necessário ajustar o modelo ou usar métodos robustos para estimativa de variância.\n",
    "modelo_tv     p-valor < 0.05\n",
    "modelo_radio  p-valor < 0.05\n",
    "modelo_jornal p-valor > 0.05"
   ]
  },
  {
   "cell_type": "markdown",
   "id": "5531ca356ae333a3",
   "metadata": {},
   "source": [
    "#### Teste de Normalidade dos Resíduos com Shapiro-Wilk"
   ]
  },
  {
   "cell_type": "code",
   "execution_count": null,
   "id": "1623aaa31fe34ce7",
   "metadata": {
    "ExecuteTime": {
     "end_time": "2023-11-22T20:24:27.432702700Z",
     "start_time": "2023-11-22T20:24:27.417672800Z"
    }
   },
   "outputs": [],
   "source": [
    "for nome, modelo,dados in modelos:\n",
    "    estatistica_shapiro,p_shapiro = stats.shapiro(modelo.resid)\n",
    "    print(f'Estatísticas de teste {nome}: {format(estatistica_shapiro)}')\n",
    "    print('p-valor: {}'.format(p_shapiro))"
   ]
  },
  {
   "cell_type": "markdown",
   "id": "3cb17587a962c7bd",
   "metadata": {},
   "source": [
    "#### Shapiro:\n",
    "Se p-valor do shapiro é superior a 0.05,isso indica que os resíduos seguem aproximadamente uma distribuição normal.\n",
    "\n",
    "- modelo_tv     p-valor > 0.05\n",
    "- modelo_radio  p-valor > 0.05\n",
    "- modelo_jornal p-valor < 0.05"
   ]
  },
  {
   "cell_type": "markdown",
   "id": "d63d5eb4a11ece47",
   "metadata": {},
   "source": [
    "#### Análise de normalidade QQ-plot"
   ]
  },
  {
   "cell_type": "code",
   "execution_count": null,
   "id": "922ed5cd27b43d1d",
   "metadata": {
    "ExecuteTime": {
     "end_time": "2023-11-22T20:18:32.284687400Z",
     "start_time": "2023-11-22T20:18:31.871335400Z"
    }
   },
   "outputs": [],
   "source": [
    " for nome, modelo, dados in modelos:\n",
    "    stats.probplot(modelo.resid,dist=\"norm\", plot=plt)\n",
    "    plt.title(f\"Normal Q-Q plot - {nome}\")\n",
    "    plt.show()"
   ]
  },
  {
   "cell_type": "markdown",
   "id": "383e08b8d657eda4",
   "metadata": {},
   "source": [
    "Aparentemente todos se aproximam da reta e parecem ser normais."
   ]
  },
  {
   "cell_type": "markdown",
   "id": "537257110648b2ce",
   "metadata": {},
   "source": [
    "\n"
   ]
  },
  {
   "cell_type": "code",
   "execution_count": null,
   "id": "7c80b4c13f22dbe2",
   "metadata": {
    "ExecuteTime": {
     "end_time": "2023-11-22T20:20:06.253243200Z",
     "start_time": "2023-11-22T20:20:05.815526400Z"
    }
   },
   "outputs": [],
   "source": [
    " for nome, modelo, dados in modelos:\n",
    "    residuos_padronizados = modelo.get_influence().resid_studentized_internal\n",
    "    \n",
    "    # Cria um gráfico de resíduos\n",
    "    plt.figure(figsize=(8, 6))\n",
    "    plt.scatter(dados, residuos_padronizados)\n",
    "    plt.axhline(y=3, color='r', linestyle='--')\n",
    "    plt.axhline(y=-3, color='r', linestyle='--')\n",
    "    plt.title(f'Gráfico de Resíduos Padronizados para {nome}')\n",
    "    plt.xlabel('Investimento em ' + nome.split(\"_\")[1].capitalize())\n",
    "    plt.ylabel('Resíduos Padronizados')\n",
    "    \n",
    "    # Mostrar o gráfico\n",
    "    plt.show()"
   ]
  },
  {
   "cell_type": "markdown",
   "id": "a80f19de8f2da081",
   "metadata": {},
   "source": [
    "Nenhum dos residuos apresenta um outlier além de 3 e -3"
   ]
  },
  {
   "cell_type": "markdown",
   "id": "139856b382fbc498",
   "metadata": {},
   "source": [
    "#### Análise geral dos residuos: \n",
    "| Modelo  | Breusch-Pagan (Homocedasticidade) | Shapiro-Wilk (Normalidade) | QQ-Plot | Outliers |\n",
    "|---------|----------------------------------|----------------------------|---------|----------|\n",
    "| TV      | ❌                                | ✅                          | ✅       | ✅        |\n",
    "| Rádio   | ❌                                | ❌                          | ✅       | ✅        |\n",
    "| Jornal  | ✅                                | ❌                          | ✅       | ✅        |"
   ]
  },
  {
   "cell_type": "markdown",
   "id": "43363d28f7bd892a",
   "metadata": {},
   "source": [
    "### 5 – Análise do Modelo"
   ]
  },
  {
   "cell_type": "code",
   "execution_count": null,
   "id": "a33f3a9b3993425c",
   "metadata": {
    "ExecuteTime": {
     "end_time": "2023-11-24T00:38:56.931571300Z",
     "start_time": "2023-11-24T00:38:56.911230500Z"
    }
   },
   "outputs": [],
   "source": [
    "for nome, modelo, dados in modelos:\n",
    "    print(str(modelo.summary()))"
   ]
  },
  {
   "cell_type": "markdown",
   "id": "97203239400dbc54",
   "metadata": {},
   "source": [
    "| Modelo  | Teste T (Significância dos Coeficientes) | Teste F (Significância Global) | R² Ajustado |\n",
    "|---------|-----------------------------------------|--------------------------------|-------------|\n",
    "| TV      | ✅                                        | ✅                              | 0.610       |\n",
    "| Rádio   | ✅                                        | ✅                              | 0.329       |\n",
    "| Jornal  | ✅                                        | ✅                              | 0.047       |\n",
    "\n",
    "#### Teste T:\n",
    "O Teste T avalia a significância estatística de cada coeficiente no modelo. Um p-valor baixo (< 0.05) indica que o coeficiente é significativo. Nos resultados fornecidos, todos os modelos mostraram coeficientes significativos (p-valor < 0.05 para os coeficientes de TV, Rádio e Jornal).\n",
    "\n",
    "#### Teste F:\n",
    "O Teste F avalia a significância global do modelo. Um p-valor baixo (< 0.05) sugere que o modelo, como um todo, é significativo. Todos os modelos (TV, Rádio e Jornal) apresentaram p-valores baixos no Teste F, indicando que são estatisticamente significativos.\n",
    "\n",
    "#### R² Ajustado:\n",
    "O R² Ajustado reflete a porcentagem da variabilidade da variável dependente explicada pelo modelo, ajustada pelo número de preditores. Valores mais altos indicam um melhor ajuste. No caso, o modelo de TV tem um R² Ajustado de 0.610, indicando que cerca de 61% da variabilidade em Vendas é explicada pelo modelo. Os modelos de Rádio e Jornal têm R² Ajustado mais baixos, indicando um ajuste menos eficaz."
   ]
  },
  {
   "cell_type": "markdown",
   "id": "efc50183",
   "metadata": {},
   "source": [
    "### Grafico dos medelos ajustados"
   ]
  },
  {
   "cell_type": "code",
   "execution_count": null,
   "id": "1cd54696",
   "metadata": {},
   "outputs": [],
   "source": [
    "fig = sm.graphics.plot_ccpr(modelo_tv, \"TV\")\n",
    "fig.tight_layout(pad=1.0)"
   ]
  },
  {
   "cell_type": "code",
   "execution_count": null,
   "id": "8af6f992",
   "metadata": {},
   "outputs": [],
   "source": [
    "fig = sm.graphics.plot_ccpr(modelo_radio, \"Radio\")\n",
    "fig.tight_layout(pad=1.0)"
   ]
  },
  {
   "cell_type": "code",
   "execution_count": null,
   "id": "ba8b0dff",
   "metadata": {},
   "outputs": [],
   "source": [
    "fig = sm.graphics.plot_ccpr(modelo_jornal, \"Jornal\")\n",
    "fig.tight_layout(pad=1.0)"
   ]
  }
 ],
 "metadata": {
  "kernelspec": {
   "display_name": "Python 3 (ipykernel)",
   "language": "python",
   "name": "python3"
  },
  "language_info": {
   "codemirror_mode": {
    "name": "ipython",
    "version": 3
   },
   "file_extension": ".py",
   "mimetype": "text/x-python",
   "name": "python",
   "nbconvert_exporter": "python",
   "pygments_lexer": "ipython3",
   "version": "3.11.5"
  }
 },
 "nbformat": 4,
 "nbformat_minor": 5
}
