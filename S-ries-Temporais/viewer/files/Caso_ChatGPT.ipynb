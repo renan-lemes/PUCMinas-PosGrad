{
  "nbformat": 4,
  "nbformat_minor": 0,
  "metadata": {
    "colab": {
      "provenance": []
    },
    "kernelspec": {
      "name": "python3",
      "display_name": "Python 3"
    },
    "language_info": {
      "name": "python"
    }
  },
  "cells": [
    {
      "cell_type": "markdown",
      "source": [
        "# Caso ChatGPT\n",
        "\n",
        "É preciso ter uma certa cautela ao se trabalhar com modelos de linguagem de grande escala, como o GPT-3.\n",
        "\n",
        "\n",
        "\n",
        "**Dica**: revisão crítica das respostas. Apesar de serem poderosos, sempre revise criticamente as respostas geradas para garantir adequação ao contexto solicitado.\n",
        "\n",
        "\n",
        "\n",
        "No exemplo a seguir, oriento ao ChatGPT que elabore um script em python que classifique as séries temporais das vendas de itens de um comércio em regular, irregular, intermitente e errático.\n",
        "\n",
        "\n",
        "\n",
        "**PERGUNTA:**\n",
        "Em Python, elabore um script que classifique as séries temporais das vendas de itens de um comércio em regular, irregular, intermitente e errático.\n",
        "\n",
        "\n",
        "\n",
        "**RESPOSTA:**\n",
        "\n",
        "Para classificar séries temporais de vendas em Python, você pode utilizar métodos estatísticos e heurísticas para identificar padrões. Vou fornecer um exemplo simples usando a biblioteca pandas para manipulação de dados e algumas métricas básicas. Note que a classificação pode variar dependendo dos critérios específicos do seu comércio. Aqui, assumirei as seguintes definições:\n",
        "\n",
        "\n",
        "\n",
        "*Regular*: Vendas estáveis com pouca variação.\n",
        "\n",
        "*Irregular*: Variação significativa, mas sem padrões claros.\n",
        "\n",
        "*Intermitente*: Vendas ocorrem em padrões intermitentes, com períodos de alta e baixa atividade.\n",
        "\n",
        "*Errático*: Vendas imprevisíveis, sem padrões discerníveis.\n",
        "Certifique-se de instalar a biblioteca pandas antes de executar o script.\n",
        "\n",
        "\n",
        "\n",
        "Aqui está um exemplo de script em Python:\n",
        "\n",
        "```\n",
        "import pandas as pd\n",
        "\n",
        "# Carregando dados de vendas (substitua isso pelos seus próprios dados)\n",
        "# Vamos supor que você tenha um DataFrame com coluna 'data' e 'vendas'.\n",
        "# Certifique-se de ajustar conforme necessário.\n",
        "\n",
        "# Exemplo de dados fictícios:\n",
        "data = pd.date_range(start='2022-01-01', end='2022-12-31', freq='D')\n",
        "vendas = [30, 35, 40, 32, 28, 36, 45, 55, 60, 30, 25, 70, 80, 22, 45, 50, 28, 30, 40, 55, 20, 18, 65, 70, 75]\n",
        "df = pd.DataFrame({'data': data, 'vendas': vendas})\n",
        "\n",
        "# Calcular a média e o desvio padrão\n",
        "media_vendas = df['vendas'].mean()\n",
        "desvio_padrao_vendas = df['vendas'].std()\n",
        "\n",
        "# Classificar as séries temporais\n",
        "if desvio_padrao_vendas < 0.1 * media_vendas:\n",
        "    classificacao = 'Regular'\n",
        "elif desvio_padrao_vendas < 0.3 * media_vendas:\n",
        "    classificacao = 'Irregular'\n",
        "elif desvio_padrao_vendas < 0.6 * media_vendas:\n",
        "    classificacao = 'Intermitente'\n",
        "else:\n",
        "    classificacao = 'Errático'\n",
        "\n",
        "# Exibir a classificação\n",
        "print(f'A série temporal de vendas é classificada como: {classificacao}')\n",
        "```\n",
        "\n"
      ],
      "metadata": {
        "id": "KZnu7Ty6Nuak"
      }
    },
    {
      "cell_type": "code",
      "source": [
        "import pandas as pd\n",
        "import numpy as np\n"
      ],
      "metadata": {
        "id": "-AJLaVlFN035"
      },
      "execution_count": 30,
      "outputs": []
    },
    {
      "cell_type": "code",
      "source": [
        "data = pd.date_range(start='2022-01-01', end='2022-12-31', freq='D')\n",
        "\n"
      ],
      "metadata": {
        "id": "mk9hIrXxN5VA"
      },
      "execution_count": 6,
      "outputs": []
    },
    {
      "cell_type": "code",
      "source": [
        "vendas = [\n",
        "    58, 71, 48, 34, 62, 27, 0, 58, 77, 38, 42, 30, 30, 0, 72, 55, 59, 43, 22, 41,\n",
        "    0, 21, 43, 63, 49, 57, 21, 0, 40, 52, 31, 77, 41, 63, 0, 68, 46, 78, 61, 47,\n",
        "    79, 0, 34, 66, 70, 63, 74, 71, 0, 22, 56, 70, 26, 40, 28, 0, 37, 23, 44, 79,\n",
        "    33, 69, 0, 28, 45, 72, 21, 39, 47, 0, 79, 26, 63, 27, 66, 54, 0, 36, 55, 69,\n",
        "    59, 23, 21, 0, 73, 61, 23, 73, 48, 37, 0, 63, 53, 29, 55, 33, 50, 0, 34, 27,\n",
        "    33, 42, 79, 76, 0, 40, 35, 64, 37, 66, 72, 0, 45, 44, 79, 79, 79, 64, 0, 48,\n",
        "    34, 64, 20, 44, 26, 0, 43, 20, 63, 27, 43, 30, 0, 36, 27, 54, 54, 52, 78, 0,\n",
        "    61, 58, 77, 60, 47, 26, 0, 27, 31, 53, 52, 67, 74, 0, 43, 56, 54, 63, 59, 41,\n",
        "    0, 54, 20, 54, 56, 66, 33, 0, 20, 24, 45, 74, 33, 58, 0, 28, 34, 34, 45, 61,\n",
        "    79, 0, 70, 51, 58, 68, 71, 51, 0, 49, 56, 42, 58, 64, 34, 0, 48, 55, 32, 51,\n",
        "    26, 78, 0, 41, 47, 21, 61, 64, 76, 0, 25, 47, 47, 63, 63, 39, 0, 30, 77, 74,\n",
        "    47, 44, 58, 0, 20, 76, 46, 76, 71, 32, 0, 22, 58, 25, 27, 46, 28, 0, 52, 70,\n",
        "    61, 63, 43, 34, 0, 73, 51, 51, 43, 60, 71, 0, 68, 77, 71, 31, 58, 21, 0, 68,\n",
        "    56, 68, 75, 36, 78, 0, 21, 21, 47, 73, 42, 56, 0, 52, 20, 38, 21, 72, 63, 0,\n",
        "    51, 25, 51, 74, 23, 74, 0, 75, 78, 36, 57, 43, 24, 0, 53, 25, 41, 30, 67, 35,\n",
        "    0, 28, 79, 78, 25, 35, 48, 0, 39, 79, 78, 55, 38, 45, 0, 38, 39, 51, 26, 71,\n",
        "    60, 0, 59, 58, 37, 59, 20, 30, 0, 76, 44, 69, 42, 50, 49, 0, 54, 26, 79, 35,\n",
        "    45, 67, 0, 71, 79, 68, 21, 20, 67, 0, 24, 56, 51, 78, 74, 28, 0, 54, 38, 67,\n",
        "    35, 22, 39, 0, 73\n",
        "]\n"
      ],
      "metadata": {
        "id": "mgs9dQxtOM3e"
      },
      "execution_count": 13,
      "outputs": []
    },
    {
      "cell_type": "code",
      "source": [
        "len(vendas)\n"
      ],
      "metadata": {
        "colab": {
          "base_uri": "https://localhost:8080/"
        },
        "id": "tAXSifryOyfc",
        "outputId": "994ab953-c87a-418b-d8ad-4693c9328db0"
      },
      "execution_count": 14,
      "outputs": [
        {
          "output_type": "execute_result",
          "data": {
            "text/plain": [
              "365"
            ]
          },
          "metadata": {},
          "execution_count": 14
        }
      ]
    },
    {
      "cell_type": "code",
      "source": [
        "len(data)"
      ],
      "metadata": {
        "colab": {
          "base_uri": "https://localhost:8080/"
        },
        "id": "qXZrRuXbO0mu",
        "outputId": "b6b54e76-a139-48fb-c136-20c0edbd3c29"
      },
      "execution_count": 15,
      "outputs": [
        {
          "output_type": "execute_result",
          "data": {
            "text/plain": [
              "365"
            ]
          },
          "metadata": {},
          "execution_count": 15
        }
      ]
    },
    {
      "cell_type": "code",
      "source": [
        "df = pd.DataFrame({'data': data, 'vendas': vendas})"
      ],
      "metadata": {
        "id": "3TN85ezROSEO"
      },
      "execution_count": 16,
      "outputs": []
    },
    {
      "cell_type": "code",
      "source": [
        "df.head()"
      ],
      "metadata": {
        "colab": {
          "base_uri": "https://localhost:8080/",
          "height": 206
        },
        "id": "KNFoqTwXOlC1",
        "outputId": "8cf21a1f-ad35-421f-f1c2-1602a34d13da"
      },
      "execution_count": 17,
      "outputs": [
        {
          "output_type": "execute_result",
          "data": {
            "text/plain": [
              "        data  vendas\n",
              "0 2022-01-01      58\n",
              "1 2022-01-02      71\n",
              "2 2022-01-03      48\n",
              "3 2022-01-04      34\n",
              "4 2022-01-05      62"
            ],
            "text/html": [
              "\n",
              "  <div id=\"df-b5f04c07-e41f-4023-ae07-dda253ada47f\" class=\"colab-df-container\">\n",
              "    <div>\n",
              "<style scoped>\n",
              "    .dataframe tbody tr th:only-of-type {\n",
              "        vertical-align: middle;\n",
              "    }\n",
              "\n",
              "    .dataframe tbody tr th {\n",
              "        vertical-align: top;\n",
              "    }\n",
              "\n",
              "    .dataframe thead th {\n",
              "        text-align: right;\n",
              "    }\n",
              "</style>\n",
              "<table border=\"1\" class=\"dataframe\">\n",
              "  <thead>\n",
              "    <tr style=\"text-align: right;\">\n",
              "      <th></th>\n",
              "      <th>data</th>\n",
              "      <th>vendas</th>\n",
              "    </tr>\n",
              "  </thead>\n",
              "  <tbody>\n",
              "    <tr>\n",
              "      <th>0</th>\n",
              "      <td>2022-01-01</td>\n",
              "      <td>58</td>\n",
              "    </tr>\n",
              "    <tr>\n",
              "      <th>1</th>\n",
              "      <td>2022-01-02</td>\n",
              "      <td>71</td>\n",
              "    </tr>\n",
              "    <tr>\n",
              "      <th>2</th>\n",
              "      <td>2022-01-03</td>\n",
              "      <td>48</td>\n",
              "    </tr>\n",
              "    <tr>\n",
              "      <th>3</th>\n",
              "      <td>2022-01-04</td>\n",
              "      <td>34</td>\n",
              "    </tr>\n",
              "    <tr>\n",
              "      <th>4</th>\n",
              "      <td>2022-01-05</td>\n",
              "      <td>62</td>\n",
              "    </tr>\n",
              "  </tbody>\n",
              "</table>\n",
              "</div>\n",
              "    <div class=\"colab-df-buttons\">\n",
              "\n",
              "  <div class=\"colab-df-container\">\n",
              "    <button class=\"colab-df-convert\" onclick=\"convertToInteractive('df-b5f04c07-e41f-4023-ae07-dda253ada47f')\"\n",
              "            title=\"Convert this dataframe to an interactive table.\"\n",
              "            style=\"display:none;\">\n",
              "\n",
              "  <svg xmlns=\"http://www.w3.org/2000/svg\" height=\"24px\" viewBox=\"0 -960 960 960\">\n",
              "    <path d=\"M120-120v-720h720v720H120Zm60-500h600v-160H180v160Zm220 220h160v-160H400v160Zm0 220h160v-160H400v160ZM180-400h160v-160H180v160Zm440 0h160v-160H620v160ZM180-180h160v-160H180v160Zm440 0h160v-160H620v160Z\"/>\n",
              "  </svg>\n",
              "    </button>\n",
              "\n",
              "  <style>\n",
              "    .colab-df-container {\n",
              "      display:flex;\n",
              "      gap: 12px;\n",
              "    }\n",
              "\n",
              "    .colab-df-convert {\n",
              "      background-color: #E8F0FE;\n",
              "      border: none;\n",
              "      border-radius: 50%;\n",
              "      cursor: pointer;\n",
              "      display: none;\n",
              "      fill: #1967D2;\n",
              "      height: 32px;\n",
              "      padding: 0 0 0 0;\n",
              "      width: 32px;\n",
              "    }\n",
              "\n",
              "    .colab-df-convert:hover {\n",
              "      background-color: #E2EBFA;\n",
              "      box-shadow: 0px 1px 2px rgba(60, 64, 67, 0.3), 0px 1px 3px 1px rgba(60, 64, 67, 0.15);\n",
              "      fill: #174EA6;\n",
              "    }\n",
              "\n",
              "    .colab-df-buttons div {\n",
              "      margin-bottom: 4px;\n",
              "    }\n",
              "\n",
              "    [theme=dark] .colab-df-convert {\n",
              "      background-color: #3B4455;\n",
              "      fill: #D2E3FC;\n",
              "    }\n",
              "\n",
              "    [theme=dark] .colab-df-convert:hover {\n",
              "      background-color: #434B5C;\n",
              "      box-shadow: 0px 1px 3px 1px rgba(0, 0, 0, 0.15);\n",
              "      filter: drop-shadow(0px 1px 2px rgba(0, 0, 0, 0.3));\n",
              "      fill: #FFFFFF;\n",
              "    }\n",
              "  </style>\n",
              "\n",
              "    <script>\n",
              "      const buttonEl =\n",
              "        document.querySelector('#df-b5f04c07-e41f-4023-ae07-dda253ada47f button.colab-df-convert');\n",
              "      buttonEl.style.display =\n",
              "        google.colab.kernel.accessAllowed ? 'block' : 'none';\n",
              "\n",
              "      async function convertToInteractive(key) {\n",
              "        const element = document.querySelector('#df-b5f04c07-e41f-4023-ae07-dda253ada47f');\n",
              "        const dataTable =\n",
              "          await google.colab.kernel.invokeFunction('convertToInteractive',\n",
              "                                                    [key], {});\n",
              "        if (!dataTable) return;\n",
              "\n",
              "        const docLinkHtml = 'Like what you see? Visit the ' +\n",
              "          '<a target=\"_blank\" href=https://colab.research.google.com/notebooks/data_table.ipynb>data table notebook</a>'\n",
              "          + ' to learn more about interactive tables.';\n",
              "        element.innerHTML = '';\n",
              "        dataTable['output_type'] = 'display_data';\n",
              "        await google.colab.output.renderOutput(dataTable, element);\n",
              "        const docLink = document.createElement('div');\n",
              "        docLink.innerHTML = docLinkHtml;\n",
              "        element.appendChild(docLink);\n",
              "      }\n",
              "    </script>\n",
              "  </div>\n",
              "\n",
              "\n",
              "<div id=\"df-88bfc598-596e-44e8-a2ae-08421529887c\">\n",
              "  <button class=\"colab-df-quickchart\" onclick=\"quickchart('df-88bfc598-596e-44e8-a2ae-08421529887c')\"\n",
              "            title=\"Suggest charts\"\n",
              "            style=\"display:none;\">\n",
              "\n",
              "<svg xmlns=\"http://www.w3.org/2000/svg\" height=\"24px\"viewBox=\"0 0 24 24\"\n",
              "     width=\"24px\">\n",
              "    <g>\n",
              "        <path d=\"M19 3H5c-1.1 0-2 .9-2 2v14c0 1.1.9 2 2 2h14c1.1 0 2-.9 2-2V5c0-1.1-.9-2-2-2zM9 17H7v-7h2v7zm4 0h-2V7h2v10zm4 0h-2v-4h2v4z\"/>\n",
              "    </g>\n",
              "</svg>\n",
              "  </button>\n",
              "\n",
              "<style>\n",
              "  .colab-df-quickchart {\n",
              "      --bg-color: #E8F0FE;\n",
              "      --fill-color: #1967D2;\n",
              "      --hover-bg-color: #E2EBFA;\n",
              "      --hover-fill-color: #174EA6;\n",
              "      --disabled-fill-color: #AAA;\n",
              "      --disabled-bg-color: #DDD;\n",
              "  }\n",
              "\n",
              "  [theme=dark] .colab-df-quickchart {\n",
              "      --bg-color: #3B4455;\n",
              "      --fill-color: #D2E3FC;\n",
              "      --hover-bg-color: #434B5C;\n",
              "      --hover-fill-color: #FFFFFF;\n",
              "      --disabled-bg-color: #3B4455;\n",
              "      --disabled-fill-color: #666;\n",
              "  }\n",
              "\n",
              "  .colab-df-quickchart {\n",
              "    background-color: var(--bg-color);\n",
              "    border: none;\n",
              "    border-radius: 50%;\n",
              "    cursor: pointer;\n",
              "    display: none;\n",
              "    fill: var(--fill-color);\n",
              "    height: 32px;\n",
              "    padding: 0;\n",
              "    width: 32px;\n",
              "  }\n",
              "\n",
              "  .colab-df-quickchart:hover {\n",
              "    background-color: var(--hover-bg-color);\n",
              "    box-shadow: 0 1px 2px rgba(60, 64, 67, 0.3), 0 1px 3px 1px rgba(60, 64, 67, 0.15);\n",
              "    fill: var(--button-hover-fill-color);\n",
              "  }\n",
              "\n",
              "  .colab-df-quickchart-complete:disabled,\n",
              "  .colab-df-quickchart-complete:disabled:hover {\n",
              "    background-color: var(--disabled-bg-color);\n",
              "    fill: var(--disabled-fill-color);\n",
              "    box-shadow: none;\n",
              "  }\n",
              "\n",
              "  .colab-df-spinner {\n",
              "    border: 2px solid var(--fill-color);\n",
              "    border-color: transparent;\n",
              "    border-bottom-color: var(--fill-color);\n",
              "    animation:\n",
              "      spin 1s steps(1) infinite;\n",
              "  }\n",
              "\n",
              "  @keyframes spin {\n",
              "    0% {\n",
              "      border-color: transparent;\n",
              "      border-bottom-color: var(--fill-color);\n",
              "      border-left-color: var(--fill-color);\n",
              "    }\n",
              "    20% {\n",
              "      border-color: transparent;\n",
              "      border-left-color: var(--fill-color);\n",
              "      border-top-color: var(--fill-color);\n",
              "    }\n",
              "    30% {\n",
              "      border-color: transparent;\n",
              "      border-left-color: var(--fill-color);\n",
              "      border-top-color: var(--fill-color);\n",
              "      border-right-color: var(--fill-color);\n",
              "    }\n",
              "    40% {\n",
              "      border-color: transparent;\n",
              "      border-right-color: var(--fill-color);\n",
              "      border-top-color: var(--fill-color);\n",
              "    }\n",
              "    60% {\n",
              "      border-color: transparent;\n",
              "      border-right-color: var(--fill-color);\n",
              "    }\n",
              "    80% {\n",
              "      border-color: transparent;\n",
              "      border-right-color: var(--fill-color);\n",
              "      border-bottom-color: var(--fill-color);\n",
              "    }\n",
              "    90% {\n",
              "      border-color: transparent;\n",
              "      border-bottom-color: var(--fill-color);\n",
              "    }\n",
              "  }\n",
              "</style>\n",
              "\n",
              "  <script>\n",
              "    async function quickchart(key) {\n",
              "      const quickchartButtonEl =\n",
              "        document.querySelector('#' + key + ' button');\n",
              "      quickchartButtonEl.disabled = true;  // To prevent multiple clicks.\n",
              "      quickchartButtonEl.classList.add('colab-df-spinner');\n",
              "      try {\n",
              "        const charts = await google.colab.kernel.invokeFunction(\n",
              "            'suggestCharts', [key], {});\n",
              "      } catch (error) {\n",
              "        console.error('Error during call to suggestCharts:', error);\n",
              "      }\n",
              "      quickchartButtonEl.classList.remove('colab-df-spinner');\n",
              "      quickchartButtonEl.classList.add('colab-df-quickchart-complete');\n",
              "    }\n",
              "    (() => {\n",
              "      let quickchartButtonEl =\n",
              "        document.querySelector('#df-88bfc598-596e-44e8-a2ae-08421529887c button');\n",
              "      quickchartButtonEl.style.display =\n",
              "        google.colab.kernel.accessAllowed ? 'block' : 'none';\n",
              "    })();\n",
              "  </script>\n",
              "</div>\n",
              "\n",
              "    </div>\n",
              "  </div>\n"
            ],
            "application/vnd.google.colaboratory.intrinsic+json": {
              "type": "dataframe",
              "variable_name": "df",
              "summary": "{\n  \"name\": \"df\",\n  \"rows\": 365,\n  \"fields\": [\n    {\n      \"column\": \"data\",\n      \"properties\": {\n        \"dtype\": \"date\",\n        \"min\": \"2022-01-01 00:00:00\",\n        \"max\": \"2022-12-31 00:00:00\",\n        \"num_unique_values\": 365,\n        \"samples\": [\n          \"2022-07-13 00:00:00\",\n          \"2022-02-03 00:00:00\",\n          \"2022-01-16 00:00:00\"\n        ],\n        \"semantic_type\": \"\",\n        \"description\": \"\"\n      }\n    },\n    {\n      \"column\": \"vendas\",\n      \"properties\": {\n        \"dtype\": \"number\",\n        \"std\": 24,\n        \"min\": 0,\n        \"max\": 79,\n        \"num_unique_values\": 60,\n        \"samples\": [\n          58,\n          27,\n          37\n        ],\n        \"semantic_type\": \"\",\n        \"description\": \"\"\n      }\n    }\n  ]\n}"
            }
          },
          "metadata": {},
          "execution_count": 17
        }
      ]
    },
    {
      "cell_type": "code",
      "source": [
        "media_vendas = df['vendas'].mean()\n",
        "desvio_padrao_vendas = df['vendas'].std()\n"
      ],
      "metadata": {
        "id": "aOYRBtO_P_7z"
      },
      "execution_count": 18,
      "outputs": []
    },
    {
      "cell_type": "code",
      "source": [
        "media_vendas"
      ],
      "metadata": {
        "colab": {
          "base_uri": "https://localhost:8080/"
        },
        "id": "pv0qg45JQD62",
        "outputId": "00cb0f0d-b625-459d-f42b-cda9a8327e0e"
      },
      "execution_count": 19,
      "outputs": [
        {
          "output_type": "execute_result",
          "data": {
            "text/plain": [
              "42.78904109589041"
            ]
          },
          "metadata": {},
          "execution_count": 19
        }
      ]
    },
    {
      "cell_type": "code",
      "source": [
        "desvio_padrao_vendas"
      ],
      "metadata": {
        "colab": {
          "base_uri": "https://localhost:8080/"
        },
        "id": "Sy11U1qEQFNt",
        "outputId": "649cacbb-292a-4282-f8e2-605e0a072387"
      },
      "execution_count": 20,
      "outputs": [
        {
          "output_type": "execute_result",
          "data": {
            "text/plain": [
              "24.129273872092803"
            ]
          },
          "metadata": {},
          "execution_count": 20
        }
      ]
    },
    {
      "cell_type": "code",
      "source": [
        "# Classificar as séries temporais\n",
        "if desvio_padrao_vendas < 0.1 * media_vendas:\n",
        "    classificacao = 'Regular'\n",
        "elif desvio_padrao_vendas < 0.3 * media_vendas:\n",
        "    classificacao = 'Irregular'\n",
        "elif desvio_padrao_vendas < 0.6 * media_vendas:\n",
        "    classificacao = 'Intermitente'\n",
        "else:\n",
        "    classificacao = 'Errático'"
      ],
      "metadata": {
        "id": "jvSYpm7rQG5m"
      },
      "execution_count": 21,
      "outputs": []
    },
    {
      "cell_type": "code",
      "source": [
        "len(classificacao)"
      ],
      "metadata": {
        "colab": {
          "base_uri": "https://localhost:8080/"
        },
        "id": "n_QPOKrcQelZ",
        "outputId": "8d81a1b0-08d0-4d1c-a96a-c3ad78d2cffc"
      },
      "execution_count": 22,
      "outputs": [
        {
          "output_type": "execute_result",
          "data": {
            "text/plain": [
              "12"
            ]
          },
          "metadata": {},
          "execution_count": 22
        }
      ]
    },
    {
      "cell_type": "code",
      "source": [
        "classificacao"
      ],
      "metadata": {
        "colab": {
          "base_uri": "https://localhost:8080/",
          "height": 35
        },
        "id": "TCw7hMpZQkJT",
        "outputId": "85e63a75-8440-41e8-a883-23b20e7942cf"
      },
      "execution_count": 23,
      "outputs": [
        {
          "output_type": "execute_result",
          "data": {
            "text/plain": [
              "'Intermitente'"
            ],
            "application/vnd.google.colaboratory.intrinsic+json": {
              "type": "string"
            }
          },
          "metadata": {},
          "execution_count": 23
        }
      ]
    },
    {
      "cell_type": "code",
      "source": [
        "## Agora vou analisar esses padroes em 3 meses recorrentes\n",
        "\n",
        "trimestre = [vendas [i:i+90] for i in range(0, len(vendas), 90)]\n",
        "\n"
      ],
      "metadata": {
        "id": "w-Ch6qOaQZWj"
      },
      "execution_count": 25,
      "outputs": []
    },
    {
      "cell_type": "code",
      "source": [
        "classificacoes = []\n"
      ],
      "metadata": {
        "id": "72XUlZ_RS6jm"
      },
      "execution_count": 28,
      "outputs": []
    },
    {
      "cell_type": "code",
      "source": [
        "trimestres = [\n",
        "    vendas[:91],   # Janeiro - Março (91 dias)\n",
        "    vendas[91:182],  # Abril - Junho (91 dias)\n",
        "    vendas[182:273],  # Julho - Setembro (91 dias)\n",
        "    vendas[273:],   # Outubro - Dezembro (92 dias)\n",
        "]\n",
        "\n",
        "# Lista para armazenar classificações\n",
        "classificacoes = []\n",
        "\n",
        "# Avaliar cada trimestre\n",
        "for i, trimestre in enumerate(trimestres):\n",
        "    media_vendas = np.mean(trimestre)\n",
        "    desvio_padrao_vendas = np.std(trimestre)\n",
        "\n",
        "    # Determinar a classificação\n",
        "    if desvio_padrao_vendas < 0.1 * media_vendas:\n",
        "        classificacao = 'Regular'\n",
        "    elif desvio_padrao_vendas < 0.3 * media_vendas:\n",
        "        classificacao = 'Irregular'\n",
        "    elif desvio_padrao_vendas < 0.6 * media_vendas:\n",
        "        classificacao = 'Intermitente'\n",
        "    else:\n",
        "        classificacao = 'Errático'\n",
        "\n",
        "    classificacoes.append((f'Trimestre {i + 1}', classificacao))\n",
        "\n",
        "# Exibir resultados\n",
        "for trimestre, classificacao in classificacoes:\n",
        "    print(f'{trimestre}: {classificacao}')"
      ],
      "metadata": {
        "colab": {
          "base_uri": "https://localhost:8080/"
        },
        "id": "Y1JWxqLDS9aZ",
        "outputId": "f179979f-bf94-48a0-842b-de1be93c74f6"
      },
      "execution_count": 34,
      "outputs": [
        {
          "output_type": "stream",
          "name": "stdout",
          "text": [
            "Trimestre 1: Intermitente\n",
            "Trimestre 2: Intermitente\n",
            "Trimestre 3: Intermitente\n",
            "Trimestre 4: Intermitente\n"
          ]
        }
      ]
    },
    {
      "cell_type": "markdown",
      "source": [
        "Ocorre que, na literatura (livros e artigos científicos), a classificação das séries temporais das vendas de materiais é descrita de outra forma. O\n",
        "cálculo é baseado nos conceitos de coeficiente de variação e ADI, intervalo médio entre dois períodos de vendas. Nos links a seguir, é possível verificar o passo a passo para a classificação.\n",
        "* https://www.ias.ac.in/article/fulltext/sadh/045/0051\n",
        "* https://statusneo.com/how-to-determine-forecastability-of-demand/\n",
        "* https://bdm.unb.br/bitstream/10483/35099/1/2022_SergioRobertoJosinoDeAlmeida_tcc.pdf\n",
        "* https://periodicos.utfpr.edu.br/revistagi/article/download/1267/1096"
      ],
      "metadata": {
        "id": "oBrreEPVVdo3"
      }
    },
    {
      "cell_type": "markdown",
      "source": [
        "* https://www.ias.ac.in/article/fulltext/sadh/045/0051\n",
        "\n",
        "#### O primeiro artigo fala\n",
        "\n",
        "Abstrair. A demanda intermitente apresenta padrão irregular que a diferencia de todos os outros tipos de demanda. É\n",
        "difícil de prever a demanda intermitente devido a ocorrências irregulares e variabilidade do tamanho da demanda. Devido a isso\n",
        "razão, os pesquisadores desenvolveram métodos de previsão de demanda intermitente ad hoc. Uma vez que a demanda intermitente tem\n",
        "características peculiares, é agrupado em categorias para melhor gestão. Neste artigo, métodos especializados\n",
        "com foco na seleção de métodos para cada categoria de demanda intermitente. Este trabalho simplifica o\n",
        "previsão de demanda intermitente e fornece orientação aos participantes do mercado, liderando o caminho para a seleção de métodos\n",
        "com base na categorização da demanda. Ao fazer isso, o artigo servirá como uma ferramenta útil para os profissionais gerenciarem\n",
        "demanda intermitente com mais facilidade\n",
        "\n"
      ],
      "metadata": {
        "id": "jTtoemVqVsRz"
      }
    },
    {
      "cell_type": "code",
      "source": [],
      "metadata": {
        "id": "LcqUTJ3fV6I4"
      },
      "execution_count": null,
      "outputs": []
    }
  ]
}