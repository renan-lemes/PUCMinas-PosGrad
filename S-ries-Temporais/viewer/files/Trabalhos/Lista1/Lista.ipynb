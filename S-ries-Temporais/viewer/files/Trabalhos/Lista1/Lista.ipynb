{
 "cells": [
  {
   "cell_type": "code",
   "execution_count": 16,
   "metadata": {},
   "outputs": [],
   "source": [
    "import pandas as pd \n",
    "import numpy as np\n",
    "import matplotlib.pyplot as plt"
   ]
  },
  {
   "cell_type": "markdown",
   "metadata": {},
   "source": [
    "#### 3 - Exercicio "
   ]
  },
  {
   "cell_type": "code",
   "execution_count": 17,
   "metadata": {},
   "outputs": [],
   "source": [
    "df = pd.read_excel(\"dados_questao_2_5.xlsx\", index_col=0)"
   ]
  },
  {
   "cell_type": "code",
   "execution_count": 18,
   "metadata": {},
   "outputs": [
    {
     "data": {
      "text/html": [
       "<div>\n",
       "<style scoped>\n",
       "    .dataframe tbody tr th:only-of-type {\n",
       "        vertical-align: middle;\n",
       "    }\n",
       "\n",
       "    .dataframe tbody tr th {\n",
       "        vertical-align: top;\n",
       "    }\n",
       "\n",
       "    .dataframe thead th {\n",
       "        text-align: right;\n",
       "    }\n",
       "</style>\n",
       "<table border=\"1\" class=\"dataframe\">\n",
       "  <thead>\n",
       "    <tr style=\"text-align: right;\">\n",
       "      <th></th>\n",
       "      <th>61.32</th>\n",
       "      <th>55.29</th>\n",
       "      <th>52.83</th>\n",
       "      <th>57.94</th>\n",
       "      <th>53.31</th>\n",
       "      <th>51.32</th>\n",
       "      <th>52.18</th>\n",
       "      <th>52.37</th>\n",
       "      <th>57.91</th>\n",
       "      <th>53.93</th>\n",
       "      <th>47.88</th>\n",
       "      <th>47.41</th>\n",
       "      <th>47.17</th>\n",
       "      <th>51.05</th>\n",
       "    </tr>\n",
       "    <tr>\n",
       "      <th>X</th>\n",
       "      <th></th>\n",
       "      <th></th>\n",
       "      <th></th>\n",
       "      <th></th>\n",
       "      <th></th>\n",
       "      <th></th>\n",
       "      <th></th>\n",
       "      <th></th>\n",
       "      <th></th>\n",
       "      <th></th>\n",
       "      <th></th>\n",
       "      <th></th>\n",
       "      <th></th>\n",
       "      <th></th>\n",
       "    </tr>\n",
       "  </thead>\n",
       "  <tbody>\n",
       "    <tr>\n",
       "      <th>Y</th>\n",
       "      <td>39.37</td>\n",
       "      <td>39.8</td>\n",
       "      <td>40.03</td>\n",
       "      <td>41.32</td>\n",
       "      <td>42.03</td>\n",
       "      <td>42.37</td>\n",
       "      <td>43.93</td>\n",
       "      <td>44.9</td>\n",
       "      <td>44.9</td>\n",
       "      <td>45.12</td>\n",
       "      <td>45.6</td>\n",
       "      <td>46.03</td>\n",
       "      <td>47.83</td>\n",
       "      <td>48.55</td>\n",
       "    </tr>\n",
       "  </tbody>\n",
       "</table>\n",
       "</div>"
      ],
      "text/plain": [
       "   61.32  55.29  52.83  57.94  53.31  51.32  52.18  52.37  57.91  53.93  \\\n",
       "X                                                                         \n",
       "Y  39.37   39.8  40.03  41.32  42.03  42.37  43.93   44.9   44.9  45.12   \n",
       "\n",
       "   47.88  47.41  47.17  51.05  \n",
       "X                              \n",
       "Y   45.6  46.03  47.83  48.55  "
      ]
     },
     "execution_count": 18,
     "metadata": {},
     "output_type": "execute_result"
    }
   ],
   "source": [
    "df"
   ]
  },
  {
   "cell_type": "code",
   "execution_count": 19,
   "metadata": {},
   "outputs": [],
   "source": [
    "x = dict()\n",
    "y = dict()\n"
   ]
  },
  {
   "cell_type": "code",
   "execution_count": 20,
   "metadata": {},
   "outputs": [],
   "source": [
    "array_y = []\n",
    "array_x = []\n",
    "\n",
    "for i in df.T.Y:\n",
    "    array_y.append(float(i))\n",
    "\n",
    "for i in df:\n",
    "    array_x.append(float(i))\n",
    "\n",
    "x[\"array\"] = array_x\n",
    "y[\"array\"] = array_y\n",
    "\n",
    "## Calculando a media\n",
    "x[\"mean\"] = sum(x[\"array\"]) / len(x[\"array\"])\n",
    "y[\"mean\"] = sum(y[\"array\"]) / len(y[\"array\"])\n",
    "\n",
    "\n",
    "new_df = pd.DataFrame({\n",
    "    \"X\": array_x,\n",
    "    \"Y\": array_y\n",
    "})\n"
   ]
  },
  {
   "cell_type": "code",
   "execution_count": 21,
   "metadata": {},
   "outputs": [
    {
     "data": {
      "text/plain": [
       "X    52.993571\n",
       "Y    43.698571\n",
       "dtype: float64"
      ]
     },
     "execution_count": 21,
     "metadata": {},
     "output_type": "execute_result"
    }
   ],
   "source": [
    "new_df.mean()"
   ]
  },
  {
   "cell_type": "code",
   "execution_count": 22,
   "metadata": {},
   "outputs": [
    {
     "data": {
      "text/plain": [
       "X    52.600\n",
       "Y    44.415\n",
       "dtype: float64"
      ]
     },
     "execution_count": 22,
     "metadata": {},
     "output_type": "execute_result"
    }
   ],
   "source": [
    "new_df.median()"
   ]
  },
  {
   "cell_type": "code",
   "execution_count": 23,
   "metadata": {},
   "outputs": [
    {
     "data": {
      "text/plain": [
       "X    4.142771\n",
       "Y    2.938047\n",
       "dtype: float64"
      ]
     },
     "execution_count": 23,
     "metadata": {},
     "output_type": "execute_result"
    }
   ],
   "source": [
    "new_df.std()"
   ]
  },
  {
   "cell_type": "code",
   "execution_count": 24,
   "metadata": {},
   "outputs": [
    {
     "name": "stdout",
     "output_type": "stream",
     "text": [
      "2.12\n",
      "2.215\n"
     ]
    }
   ],
   "source": [
    "### Calculando o MAD \n",
    "\n",
    "\n",
    "MAD_X = np.median(np.abs(new_df.X - np.median(new_df.X)))\n",
    "MAD_Y = np.median(np.abs(new_df.Y - np.median(new_df.Y)))\n",
    "print(round(MAD_X, 4))\n",
    "print(round(MAD_Y, 4))\n"
   ]
  },
  {
   "cell_type": "code",
   "execution_count": 25,
   "metadata": {},
   "outputs": [
    {
     "name": "stdout",
     "output_type": "stream",
     "text": [
      "125.2626\n"
     ]
    }
   ],
   "source": [
    "### Calculando MSD \n",
    "\n",
    "modulo = (new_df.X - new_df.Y)**2\n",
    "MSD = modulo.mean()\n",
    "print(round(MSD, 4))"
   ]
  },
  {
   "cell_type": "code",
   "execution_count": 26,
   "metadata": {},
   "outputs": [
    {
     "name": "stdout",
     "output_type": "stream",
     "text": [
      "-0.6597511749991717\n"
     ]
    }
   ],
   "source": [
    "correlacao = new_df.X.corr(new_df.Y)\n",
    "\n",
    "print(correlacao)"
   ]
  },
  {
   "cell_type": "code",
   "execution_count": 27,
   "metadata": {},
   "outputs": [
    {
     "data": {
      "image/png": "[encoded data removed]",
      "text/plain": [
       "<Figure size 864x576 with 1 Axes>"
      ]
     },
     "metadata": {},
     "output_type": "display_data"
    }
   ],
   "source": [
    "plt.figure(figsize=(12, 8))\n",
    "plt.scatter(new_df.X, new_df.Y)\n",
    "plt.xlabel(\"X\")\n",
    "plt.ylabel(\"Y\")\n",
    "plt.title(\"Gráfico de Dispersão de Y em relação a X\")\n",
    "plt.grid(True)\n",
    "plt.show()"
   ]
  },
  {
   "cell_type": "markdown",
   "metadata": {},
   "source": [
    "-----"
   ]
  },
  {
   "cell_type": "code",
   "execution_count": 28,
   "metadata": {},
   "outputs": [],
   "source": [
    "df = pd.read_excel(\"dados_questao_2_8.xlsx\", index_col=0)"
   ]
  },
  {
   "cell_type": "code",
   "execution_count": 29,
   "metadata": {},
   "outputs": [
    {
     "data": {
      "text/html": [
       "<div>\n",
       "<style scoped>\n",
       "    .dataframe tbody tr th:only-of-type {\n",
       "        vertical-align: middle;\n",
       "    }\n",
       "\n",
       "    .dataframe tbody tr th {\n",
       "        vertical-align: top;\n",
       "    }\n",
       "\n",
       "    .dataframe thead th {\n",
       "        text-align: right;\n",
       "    }\n",
       "</style>\n",
       "<table border=\"1\" class=\"dataframe\">\n",
       "  <thead>\n",
       "    <tr style=\"text-align: right;\">\n",
       "      <th></th>\n",
       "      <th>Valor</th>\n",
       "    </tr>\n",
       "    <tr>\n",
       "      <th>Ano</th>\n",
       "      <th></th>\n",
       "    </tr>\n",
       "  </thead>\n",
       "  <tbody>\n",
       "    <tr>\n",
       "      <th>1947</th>\n",
       "      <td>11</td>\n",
       "    </tr>\n",
       "    <tr>\n",
       "      <th>1948</th>\n",
       "      <td>20</td>\n",
       "    </tr>\n",
       "    <tr>\n",
       "      <th>1949</th>\n",
       "      <td>29</td>\n",
       "    </tr>\n",
       "    <tr>\n",
       "      <th>1950</th>\n",
       "      <td>32</td>\n",
       "    </tr>\n",
       "    <tr>\n",
       "      <th>1951</th>\n",
       "      <td>38</td>\n",
       "    </tr>\n",
       "  </tbody>\n",
       "</table>\n",
       "</div>"
      ],
      "text/plain": [
       "      Valor\n",
       "Ano        \n",
       "1947     11\n",
       "1948     20\n",
       "1949     29\n",
       "1950     32\n",
       "1951     38"
      ]
     },
     "execution_count": 29,
     "metadata": {},
     "output_type": "execute_result"
    }
   ],
   "source": [
    "df.head()"
   ]
  },
  {
   "cell_type": "code",
   "execution_count": 30,
   "metadata": {},
   "outputs": [
    {
     "data": {
      "text/plain": [
       "Int64Index([1947, 1948, 1949, 1950, 1951, 1952, 1953, 1954, 1955, 1956, 1957,\n",
       "            1958, 1959, 1960, 1961, 1962, 1963, 1964, 1965, 1966, 1967, 1968,\n",
       "            1969, 1970, 1971, 1972, 1973, 1974, 1975, 1976, 1977, 1978, 1979,\n",
       "            1980, 1981, 1982, 1983, 1984, 1985, 1986, 1987, 1988, 1989],\n",
       "           dtype='int64', name='Ano')"
      ]
     },
     "execution_count": 30,
     "metadata": {},
     "output_type": "execute_result"
    }
   ],
   "source": [
    "df.index"
   ]
  },
  {
   "cell_type": "code",
   "execution_count": 31,
   "metadata": {},
   "outputs": [
    {
     "data": {
      "image/png": "[encoded data removed]",
      "text/plain": [
       "<Figure size 864x576 with 1 Axes>"
      ]
     },
     "metadata": {},
     "output_type": "display_data"
    }
   ],
   "source": [
    "plt.figure(figsize=(12,8))\n",
    "plt.plot(df.index, df.Valor, marker='o', linestyle='-')\n",
    "plt.title(\"Produção Japonesa de Automóveis\")\n",
    "plt.xlabel(\"Ano\")\n",
    "plt.ylabel(\"Valor\")\n",
    "plt.show()"
   ]
  },
  {
   "cell_type": "code",
   "execution_count": 32,
   "metadata": {},
   "outputs": [
    {
     "data": {
      "text/html": [
       "<div>\n",
       "<style scoped>\n",
       "    .dataframe tbody tr th:only-of-type {\n",
       "        vertical-align: middle;\n",
       "    }\n",
       "\n",
       "    .dataframe tbody tr th {\n",
       "        vertical-align: top;\n",
       "    }\n",
       "\n",
       "    .dataframe thead th {\n",
       "        text-align: right;\n",
       "    }\n",
       "</style>\n",
       "<table border=\"1\" class=\"dataframe\">\n",
       "  <thead>\n",
       "    <tr style=\"text-align: right;\">\n",
       "      <th></th>\n",
       "      <th>Valor</th>\n",
       "    </tr>\n",
       "    <tr>\n",
       "      <th>Ano</th>\n",
       "      <th></th>\n",
       "    </tr>\n",
       "  </thead>\n",
       "  <tbody>\n",
       "  </tbody>\n",
       "</table>\n",
       "</div>"
      ],
      "text/plain": [
       "Empty DataFrame\n",
       "Columns: [Valor]\n",
       "Index: []"
      ]
     },
     "execution_count": 32,
     "metadata": {},
     "output_type": "execute_result"
    }
   ],
   "source": [
    "## Verificando se existe valor igual a zero\n",
    "df[df.Valor == 0]"
   ]
  },
  {
   "cell_type": "code",
   "execution_count": 33,
   "metadata": {},
   "outputs": [
    {
     "data": {
      "image/png": "[encoded data removed]",
      "text/plain": [
       "<Figure size 864x576 with 1 Axes>"
      ]
     },
     "metadata": {},
     "output_type": "display_data"
    }
   ],
   "source": [
    "df_log = df\n",
    "df_log.Valor = np.log(df_log.Valor)\n",
    "\n",
    "plt.figure(figsize=(12, 8))\n",
    "plt.plot(df_log.index, df_log.Valor, marker='o', linestyle='-')\n",
    "plt.title('Produção japonesa de automóveis - Transforção de Log')\n",
    "plt.xlabel('Ano')\n",
    "plt.ylabel('Valor - LOG')\n",
    "plt.show()"
   ]
  },
  {
   "cell_type": "code",
   "execution_count": 34,
   "metadata": {},
   "outputs": [
    {
     "name": "stdout",
     "output_type": "stream",
     "text": [
      "previsões para o ano 1949: 2.3978952727983707\n",
      "previsões para o ano 1950: 2.995732273553991\n",
      "previsões para o ano 1951: 3.367295829986474\n",
      "previsões para o ano 1952: 3.4657359027997265\n",
      "previsões para o ano 1953: 3.6375861597263857\n",
      "previsões para o ano 1954: 3.6635616461296463\n",
      "previsões para o ano 1955: 3.912023005428146\n",
      "previsões para o ano 1956: 4.248495242049359\n",
      "previsões para o ano 1957: 4.23410650459726\n",
      "previsões para o ano 1958: 4.709530201312334\n",
      "previsões para o ano 1959: 5.204006687076795\n",
      "previsões para o ano 1960: 5.236441962829949\n",
      "previsões para o ano 1961: 5.572154032177765\n",
      "previsões para o ano 1962: 6.1779441140506\n",
      "previsões para o ano 1963: 6.70196036600254\n",
      "previsões para o ano 1964: 6.898714534329988\n",
      "previsões para o ano 1965: 7.157735484249907\n",
      "previsões para o ano 1966: 7.43955930913332\n",
      "previsões para o ano 1967: 7.53689712956617\n",
      "previsões para o ano 1968: 7.734558844354756\n",
      "previsões para o ano 1969: 8.053887083618223\n",
      "previsões para o ano 1970: 8.315321775377567\n",
      "previsões para o ano 1971: 8.449984441722787\n",
      "previsões para o ano 1972: 8.57338447106598\n",
      "previsões para o ano 1973: 8.667507952075105\n",
      "previsões para o ano 1974: 8.747352077624353\n",
      "previsões para o ano 1975: 8.865452825753623\n",
      "previsões para o ano 1976: 8.787525625532906\n",
      "previsões para o ano 1977: 8.845345196421732\n",
      "previsões para o ano 1978: 8.967249182852276\n",
      "previsões para o ano 1979: 9.049467146388098\n",
      "previsões para o ano 1980: 9.134430777875833\n",
      "previsões para o ano 1981: 9.173261363734762\n",
      "previsões para o ano 1982: 9.30955202204713\n",
      "previsões para o ano 1983: 9.32188174670909\n",
      "previsões para o ano 1984: 9.280985211545515\n",
      "previsões para o ano 1985: 9.31578088443418\n",
      "previsões para o ano 1986: 9.347054195292005\n",
      "previsões para o ano 1987: 9.414994033976548\n",
      "previsões para o ano 1988: 9.414097209490203\n",
      "previsões para o ano 1989: 9.413199579987685\n",
      "previsões para o ano 1990: 9.449357272446683\n",
      "previsões para o ano 1991: 9.474702639106347\n"
     ]
    }
   ],
   "source": [
    "## array para adicionar as privisoes para a média movel simples\n",
    "array_naive = []\n",
    "## Andando pelo df_log durante os anos 1948 ate 1991\n",
    "for i in range(1948, 1991):\n",
    "    periodo_obs = df_log.loc[i-1, \"Valor\"]\n",
    "    array_naive.append(periodo_obs)\n",
    "\n",
    "for i, prev in zip(range(1948, 1991), array_naive):\n",
    "    print(f\"previsões para o ano {i+1}: {prev}\")"
   ]
  },
  {
   "cell_type": "code",
   "execution_count": 35,
   "metadata": {},
   "outputs": [
    {
     "name": "stdout",
     "output_type": "stream",
     "text": [
      "43\n"
     ]
    }
   ],
   "source": [
    "print(len(array_naive))"
   ]
  },
  {
   "cell_type": "code",
   "execution_count": 36,
   "metadata": {},
   "outputs": [
    {
     "name": "stdout",
     "output_type": "stream",
     "text": [
      "[ 0.597837    0.37156356  0.09844007  0.17185026  0.02597549  0.24846136\n",
      "  0.33647224 -0.01438874  0.4754237   0.49447649  0.03243528  0.33571207\n",
      "  0.60579008  0.52401625  0.19675417  0.25902095  0.28182382  0.09733782\n",
      "  0.19766171  0.31932824  0.26143469  0.13466267  0.12340003  0.09412348\n",
      "  0.07984413  0.11810075 -0.0779272   0.05781957  0.12190399  0.08221796\n",
      "  0.08496363  0.03883059  0.13629066  0.01232972 -0.04089654  0.03479567\n",
      "  0.03127331  0.06793984 -0.00089682 -0.00089763  0.03615769  0.02534537]\n"
     ]
    }
   ],
   "source": [
    "## Calculando os erros \n",
    "array_naive.pop()\n",
    "Err = df_log.loc[1948:1990, \"Valor\"].values - array_naive\n",
    "print(Err)"
   ]
  },
  {
   "cell_type": "code",
   "execution_count": 37,
   "metadata": {},
   "outputs": [
    {
     "name": "stdout",
     "output_type": "stream",
     "text": [
      "o erro medio é 0.05885566984344235\n"
     ]
    }
   ],
   "source": [
    "square = Err**2\n",
    "mse = np.mean(square)\n",
    "print(f\"o erro medio é {mse}\")"
   ]
  },
  {
   "cell_type": "code",
   "execution_count": 38,
   "metadata": {},
   "outputs": [
    {
     "name": "stdout",
     "output_type": "stream",
     "text": [
      "Erro parcial absoluto medio 3.2051749502199676\n"
     ]
    }
   ],
   "source": [
    "mape = np.mean(np.abs(Err / df_log.loc[1948:1990, \"Valor\"].values)) * 100\n",
    "print(f\"Erro parcial absoluto medio {mape}\")"
   ]
  },
  {
   "cell_type": "code",
   "execution_count": 39,
   "metadata": {},
   "outputs": [],
   "source": [
    "## Transformando a previsao para a escala original\n",
    "prev_1990 = np.exp(array_naive[-1])\n"
   ]
  },
  {
   "cell_type": "code",
   "execution_count": 40,
   "metadata": {},
   "outputs": [
    {
     "name": "stderr",
     "output_type": "stream",
     "text": [
      "C:\\Users\\RENANL~1\\AppData\\Local\\Temp/ipykernel_14768/2476207913.py:2: FutureWarning: The frame.append method is deprecated and will be removed from pandas in a future version. Use pandas.concat instead.\n",
      "  df_pred = df_pred.append({\"Ano\":1990, \"Valor\": prev_1990}, ignore_index=True)\n"
     ]
    }
   ],
   "source": [
    "df_pred = pd.read_excel(\"dados_questao_2_8.xlsx\")\n",
    "df_pred = df_pred.append({\"Ano\":1990, \"Valor\": prev_1990}, ignore_index=True)"
   ]
  },
  {
   "cell_type": "code",
   "execution_count": 41,
   "metadata": {},
   "outputs": [],
   "source": [
    "df_pred.Ano = df_pred.Ano.astype(int)"
   ]
  },
  {
   "cell_type": "code",
   "execution_count": 42,
   "metadata": {},
   "outputs": [
    {
     "data": {
      "text/html": [
       "<div>\n",
       "<style scoped>\n",
       "    .dataframe tbody tr th:only-of-type {\n",
       "        vertical-align: middle;\n",
       "    }\n",
       "\n",
       "    .dataframe tbody tr th {\n",
       "        vertical-align: top;\n",
       "    }\n",
       "\n",
       "    .dataframe thead th {\n",
       "        text-align: right;\n",
       "    }\n",
       "</style>\n",
       "<table border=\"1\" class=\"dataframe\">\n",
       "  <thead>\n",
       "    <tr style=\"text-align: right;\">\n",
       "      <th></th>\n",
       "      <th>Ano</th>\n",
       "      <th>Valor</th>\n",
       "    </tr>\n",
       "  </thead>\n",
       "  <tbody>\n",
       "    <tr>\n",
       "      <th>0</th>\n",
       "      <td>1947</td>\n",
       "      <td>11.0</td>\n",
       "    </tr>\n",
       "    <tr>\n",
       "      <th>1</th>\n",
       "      <td>1948</td>\n",
       "      <td>20.0</td>\n",
       "    </tr>\n",
       "    <tr>\n",
       "      <th>2</th>\n",
       "      <td>1949</td>\n",
       "      <td>29.0</td>\n",
       "    </tr>\n",
       "    <tr>\n",
       "      <th>3</th>\n",
       "      <td>1950</td>\n",
       "      <td>32.0</td>\n",
       "    </tr>\n",
       "    <tr>\n",
       "      <th>4</th>\n",
       "      <td>1951</td>\n",
       "      <td>38.0</td>\n",
       "    </tr>\n",
       "  </tbody>\n",
       "</table>\n",
       "</div>"
      ],
      "text/plain": [
       "    Ano  Valor\n",
       "0  1947   11.0\n",
       "1  1948   20.0\n",
       "2  1949   29.0\n",
       "3  1950   32.0\n",
       "4  1951   38.0"
      ]
     },
     "execution_count": 42,
     "metadata": {},
     "output_type": "execute_result"
    }
   ],
   "source": [
    "df_pred.head()"
   ]
  },
  {
   "cell_type": "code",
   "execution_count": 43,
   "metadata": {},
   "outputs": [
    {
     "data": {
      "text/html": [
       "<div>\n",
       "<style scoped>\n",
       "    .dataframe tbody tr th:only-of-type {\n",
       "        vertical-align: middle;\n",
       "    }\n",
       "\n",
       "    .dataframe tbody tr th {\n",
       "        vertical-align: top;\n",
       "    }\n",
       "\n",
       "    .dataframe thead th {\n",
       "        text-align: right;\n",
       "    }\n",
       "</style>\n",
       "<table border=\"1\" class=\"dataframe\">\n",
       "  <thead>\n",
       "    <tr style=\"text-align: right;\">\n",
       "      <th></th>\n",
       "      <th>Valor</th>\n",
       "    </tr>\n",
       "    <tr>\n",
       "      <th>Ano</th>\n",
       "      <th></th>\n",
       "    </tr>\n",
       "  </thead>\n",
       "  <tbody>\n",
       "    <tr>\n",
       "      <th>1947</th>\n",
       "      <td>2.397895</td>\n",
       "    </tr>\n",
       "    <tr>\n",
       "      <th>1948</th>\n",
       "      <td>2.995732</td>\n",
       "    </tr>\n",
       "    <tr>\n",
       "      <th>1949</th>\n",
       "      <td>3.367296</td>\n",
       "    </tr>\n",
       "    <tr>\n",
       "      <th>1950</th>\n",
       "      <td>3.465736</td>\n",
       "    </tr>\n",
       "    <tr>\n",
       "      <th>1951</th>\n",
       "      <td>3.637586</td>\n",
       "    </tr>\n",
       "  </tbody>\n",
       "</table>\n",
       "</div>"
      ],
      "text/plain": [
       "         Valor\n",
       "Ano           \n",
       "1947  2.397895\n",
       "1948  2.995732\n",
       "1949  3.367296\n",
       "1950  3.465736\n",
       "1951  3.637586"
      ]
     },
     "execution_count": 43,
     "metadata": {},
     "output_type": "execute_result"
    }
   ],
   "source": [
    "df.head()"
   ]
  },
  {
   "cell_type": "code",
   "execution_count": 44,
   "metadata": {},
   "outputs": [
    {
     "data": {
      "image/png": "[encoded data removed]",
      "text/plain": [
       "<Figure size 864x576 with 1 Axes>"
      ]
     },
     "metadata": {},
     "output_type": "display_data"
    }
   ],
   "source": [
    "plt.figure(figsize=(12, 8))\n",
    "plt.plot(df_pred.Ano, df_pred.Valor, marker='o', linestyle=\"-\")\n",
    "plt.title(\"Produ;'ao Japonesa de Automoveis com previsão\")\n",
    "plt.xlabel('Ano')\n",
    "plt.ylabel('Valor')\n",
    "plt.show()"
   ]
  },
  {
   "cell_type": "markdown",
   "metadata": {},
   "source": [
    "----"
   ]
  },
  {
   "cell_type": "code",
   "execution_count": 45,
   "metadata": {},
   "outputs": [
    {
     "data": {
      "text/html": [
       "<div>\n",
       "<style scoped>\n",
       "    .dataframe tbody tr th:only-of-type {\n",
       "        vertical-align: middle;\n",
       "    }\n",
       "\n",
       "    .dataframe tbody tr th {\n",
       "        vertical-align: top;\n",
       "    }\n",
       "\n",
       "    .dataframe thead th {\n",
       "        text-align: right;\n",
       "    }\n",
       "</style>\n",
       "<table border=\"1\" class=\"dataframe\">\n",
       "  <thead>\n",
       "    <tr style=\"text-align: right;\">\n",
       "      <th></th>\n",
       "      <th>Actual Demand</th>\n",
       "      <th>Method 1 Forecast</th>\n",
       "      <th>Method 2 Forecast</th>\n",
       "    </tr>\n",
       "    <tr>\n",
       "      <th>Period</th>\n",
       "      <th></th>\n",
       "      <th></th>\n",
       "      <th></th>\n",
       "    </tr>\n",
       "  </thead>\n",
       "  <tbody>\n",
       "    <tr>\n",
       "      <th>1</th>\n",
       "      <td>139</td>\n",
       "      <td>157</td>\n",
       "      <td>170</td>\n",
       "    </tr>\n",
       "    <tr>\n",
       "      <th>2</th>\n",
       "      <td>137</td>\n",
       "      <td>145</td>\n",
       "      <td>162</td>\n",
       "    </tr>\n",
       "    <tr>\n",
       "      <th>3</th>\n",
       "      <td>174</td>\n",
       "      <td>140</td>\n",
       "      <td>157</td>\n",
       "    </tr>\n",
       "    <tr>\n",
       "      <th>4</th>\n",
       "      <td>142</td>\n",
       "      <td>162</td>\n",
       "      <td>173</td>\n",
       "    </tr>\n",
       "    <tr>\n",
       "      <th>5</th>\n",
       "      <td>141</td>\n",
       "      <td>149</td>\n",
       "      <td>164</td>\n",
       "    </tr>\n",
       "  </tbody>\n",
       "</table>\n",
       "</div>"
      ],
      "text/plain": [
       "        Actual Demand  Method 1 Forecast  Method 2 Forecast\n",
       "Period                                                     \n",
       "1                 139                157                170\n",
       "2                 137                145                162\n",
       "3                 174                140                157\n",
       "4                 142                162                173\n",
       "5                 141                149                164"
      ]
     },
     "execution_count": 45,
     "metadata": {},
     "output_type": "execute_result"
    }
   ],
   "source": [
    "df = pd.read_excel(\"dados_questao_2_6.xlsx\", index_col=0)\n",
    "df.head()"
   ]
  },
  {
   "cell_type": "code",
   "execution_count": 46,
   "metadata": {},
   "outputs": [
    {
     "data": {
      "text/plain": [
       "Period\n",
       "1     139\n",
       "2     137\n",
       "3     174\n",
       "4     142\n",
       "5     141\n",
       "6     162\n",
       "7     180\n",
       "8     164\n",
       "9     171\n",
       "10    206\n",
       "11    193\n",
       "12    207\n",
       "13    218\n",
       "14    229\n",
       "15    225\n",
       "16    204\n",
       "17    227\n",
       "18    223\n",
       "19    242\n",
       "20    239\n",
       "Name: Actual Demand, dtype: int64"
      ]
     },
     "execution_count": 46,
     "metadata": {},
     "output_type": "execute_result"
    }
   ],
   "source": [
    "df.iloc[:, 0]"
   ]
  },
  {
   "cell_type": "code",
   "execution_count": 47,
   "metadata": {},
   "outputs": [
    {
     "data": {
      "image/png": "[encoded data removed]",
      "text/plain": [
       "<Figure size 864x576 with 1 Axes>"
      ]
     },
     "metadata": {},
     "output_type": "display_data"
    }
   ],
   "source": [
    "real = df.iloc[:, 0]\n",
    "method_1 = df.iloc[:, 1]\n",
    "method_2 = df.iloc[:, 2]\n",
    "\n",
    "plt.figure(figsize=(12, 8))\n",
    "plt.plot(real, label=\"Real\", marker=\"o\")\n",
    "plt.plot(method_1, label=\"Metodo 1\", marker=\"x\", linestyle=\"--\")\n",
    "plt.plot(method_2, label=\"Metodo 2\", marker=\"s\", linestyle=\"-.\")\n",
    "plt.title(\"Demanda com os metodos utilizados\")\n",
    "plt.xlabel(\"Meses\")\n",
    "plt.ylabel(\"Valores\")\n",
    "plt.xticks(range(len(df)), df.index)\n",
    "plt.legend()\n",
    "plt.show()"
   ]
  },
  {
   "cell_type": "code",
   "execution_count": 48,
   "metadata": {},
   "outputs": [
    {
     "name": "stdout",
     "output_type": "stream",
     "text": [
      "-----Metricas de erro para o metodo 1 -----\n",
      "Erro medio 6.25\n",
      "Erro absoluto medio 14.45\n",
      "Erro Quadratico medio 307.25\n",
      "Erro percentual medio 2.54588365965346\n",
      "Erro percentual absoluto medio 7.868812919931557\n",
      "\n",
      "-----Metricas de erro para o metodo 2 -----\n",
      "Erro medio -4.8\n",
      "Erro absoluto medio 14.0\n",
      "Erro Quadratico medio 294.0\n",
      "Erro percentual medio -3.605781538460878\n",
      "Erro percentual absoluto medio 8.241618655704006\n"
     ]
    }
   ],
   "source": [
    "## Calculando o erros do metodo 1\n",
    "erro_1 = real - method_1\n",
    "erro_abs_1 = np.abs(erro_1)\n",
    "erro_square_1 = erro_1**2\n",
    "erro_percent_1 = (erro_1 / real) * 100\n",
    "erro_percent_1_abs = np.abs(erro_percent_1)\n",
    "## Calculando as medias\n",
    "erro_mean_1 = np.mean(erro_1)\n",
    "erro_abs_mean_1 = np.mean(erro_abs_1)\n",
    "erro_square_1_mean = np.mean(erro_square_1)\n",
    "erro_percent_1_mean = np.mean(erro_percent_1)\n",
    "erro_percent_1_abs_mean = np.mean(erro_percent_1_abs)\n",
    "\n",
    "\n",
    "## Calculando o erro do metodo 2\n",
    "erro_2 = real - method_2\n",
    "erro_abs_2 = np.abs(erro_2)\n",
    "erro_square_2 = erro_2**2\n",
    "erro_percent_2 = (erro_2 / real) * 100\n",
    "erro_percent_2_abs = np.abs(erro_percent_2)\n",
    "erro_mean_2 = np.mean(erro_2)\n",
    "## Calculando as medias\n",
    "erro_mean_2 = np.mean(erro_2)\n",
    "erro_abs_mean_2 = np.mean(erro_abs_2)\n",
    "erro_square_2_mean = np.mean(erro_square_2)\n",
    "erro_percent_2_mean = np.mean(erro_percent_2)\n",
    "erro_percent_2_abs_mean = np.mean(erro_percent_2_abs)\n",
    "\n",
    "\n",
    "print(\"-----Metricas de erro para o metodo 1 -----\")\n",
    "print(f\"Erro medio {erro_mean_1}\")\n",
    "print(f\"Erro absoluto medio {erro_abs_mean_1}\")\n",
    "print(f\"Erro Quadratico medio {erro_square_1_mean}\")\n",
    "print(f\"Erro percentual medio {erro_percent_1_mean}\")\n",
    "print(f\"Erro percentual absoluto medio {erro_percent_1_abs_mean}\")\n",
    "print()\n",
    "print(\"-----Metricas de erro para o metodo 2 -----\")\n",
    "print(f\"Erro medio {erro_mean_2}\")\n",
    "print(f\"Erro absoluto medio {erro_abs_mean_2}\")\n",
    "print(f\"Erro Quadratico medio {erro_square_2_mean}\")\n",
    "print(f\"Erro percentual medio {erro_percent_2_mean}\")\n",
    "print(f\"Erro percentual absoluto medio {erro_percent_2_abs_mean}\")"
   ]
  },
  {
   "cell_type": "code",
   "execution_count": null,
   "metadata": {},
   "outputs": [],
   "source": []
  }
 ],
 "metadata": {
  "kernelspec": {
   "display_name": "base",
   "language": "python",
   "name": "python3"
  },
  "language_info": {
   "codemirror_mode": {
    "name": "ipython",
    "version": 3
   },
   "file_extension": ".py",
   "mimetype": "text/x-python",
   "name": "python",
   "nbconvert_exporter": "python",
   "pygments_lexer": "ipython3",
   "version": "3.9.12"
  }
 },
 "nbformat": 4,
 "nbformat_minor": 2
}
