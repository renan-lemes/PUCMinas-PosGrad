{
  "nbformat": 4,
  "nbformat_minor": 0,
  "metadata": {
    "colab": {
      "provenance": []
    },
    "kernelspec": {
      "name": "python3",
      "display_name": "Python 3"
    },
    "language_info": {
      "name": "python"
    }
  },
  "cells": [
    {
      "cell_type": "markdown",
      "source": [
        "### Imports Necessários"
      ],
      "metadata": {
        "id": "FiN6BhLTq2OU"
      }
    },
    {
      "cell_type": "code",
      "source": [
        "# @title\n",
        "import pandas as pd\n",
        "import matplotlib.pyplot as plt\n",
        "from statsmodels.graphics.tsaplots import plot_acf, plot_pacf\n",
        "from statsmodels.tsa.stattools import adfuller"
      ],
      "metadata": {
        "cellView": "form",
        "id": "UbFseoa9eLPo"
      },
      "execution_count": null,
      "outputs": []
    },
    {
      "cell_type": "markdown",
      "source": [
        "### Funções úteis"
      ],
      "metadata": {
        "id": "r5dw-M0qeFuq"
      }
    },
    {
      "cell_type": "code",
      "source": [
        "# @title\n",
        "def adf_test(timeseries):\n",
        "    print(\"Results of Dickey-Fuller Test:\")\n",
        "    dftest = adfuller(timeseries, autolag=\"AIC\")\n",
        "    dfoutput = pd.Series(\n",
        "        dftest[0:4],\n",
        "        index=[\n",
        "            \"Test Statistic\",\n",
        "            \"p-value\",\n",
        "            \"#Lags Used\",\n",
        "            \"Number of Observations Used\",\n",
        "        ],\n",
        "    )\n",
        "    for key, value in dftest[4].items():\n",
        "        dfoutput[\"Critical Value (%s)\" % key] = value\n",
        "    print(dfoutput)"
      ],
      "metadata": {
        "cellView": "form",
        "id": "hDtrmXMIeEYb"
      },
      "execution_count": null,
      "outputs": []
    },
    {
      "cell_type": "markdown",
      "source": [
        "**Q.1 **Considere a Tabela 7-11, que apresenta o número de greves nos Estados Unidos de 1951 a 1980.\n",
        "\n",
        "(a) Estudando os gráficos apropriados da série, explique por que um modelo ARIMA(0,1,1) parece apropriado.\n",
        "\n",
        "...\n",
        "\n",
        "(b) Deve-se incluir uma constante no modelo? Explique.\n",
        "\n",
        "...\n",
        "\n",
        "(c) Ajuste o modelo utilizando um pacote informático e examine os resíduos. O modelo é satisfatório?\n",
        "\n",
        "..."
      ],
      "metadata": {
        "id": "rddS4kJTS6xQ"
      }
    },
    {
      "cell_type": "code",
      "source": [],
      "metadata": {
        "id": "4mOR5KQyenpg"
      },
      "execution_count": null,
      "outputs": []
    },
    {
      "cell_type": "markdown",
      "source": [
        "**Q.2** Produção anual de carvão betuminoso nos Estados Unidos de 1920 a 1968. Decide-se pelo seguinte modelo para a série. Mais especificamente, um modelo autoregressivo com 4 termos.\n",
        "\n",
        "(a) Que tipo de modelo ARIMA é este (i.e., quais são p, d, e q)?\n",
        "\n",
        "...\n",
        "\n",
        "(b) Explique por que razão foi escolhido este modelo.\n",
        "\n",
        "..."
      ],
      "metadata": {
        "id": "BTr_bfWNV4pR"
      }
    },
    {
      "cell_type": "code",
      "source": [],
      "metadata": {
        "id": "kUrYbm88eoFY"
      },
      "execution_count": null,
      "outputs": []
    }
  ]
}