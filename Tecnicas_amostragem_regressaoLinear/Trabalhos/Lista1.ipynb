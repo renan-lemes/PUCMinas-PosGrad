{
 "cells": [
  {
   "cell_type": "code",
   "execution_count": 3,
   "metadata": {},
   "outputs": [],
   "source": [
    "import pandas as pd\n",
    "import numpy as np\n",
    "import scipy.stats as st"
   ]
  },
  {
   "cell_type": "markdown",
   "metadata": {},
   "source": [
    "1. Se uma amostra aleatória n=25, tem uma média amostral de 51,3 e uma desvio padrão populacional de σ=2. Construa o intervalo com 95% de confiança para a média populacional µ."
   ]
  },
  {
   "cell_type": "markdown",
   "metadata": {},
   "source": [
    "#### Formula usada:\n",
    "$$IC = \\overline{X} \\pm Z \\cdot \\frac{\\sigma}{\\sqrt{n}}$$\n"
   ]
  },
  {
   "cell_type": "code",
   "execution_count": 8,
   "metadata": {},
   "outputs": [
    {
     "name": "stdout",
     "output_type": "stream",
     "text": [
      "Intervalo de confianca (95%) (50.51601440618398, 52.08398559381602)\n"
     ]
    }
   ],
   "source": [
    "media_amost = 51.3\n",
    "desvio_pad_pop = 2\n",
    "n = 25\n",
    "confianca = 0.95\n",
    "\n",
    "delta = desvio_pad_pop / (n**0.5)  ## aqui e sigma dividido por raiz de n\n",
    "\n",
    "IC = st.norm.interval(confianca, loc=media_amost, scale=delta)\n",
    "\n",
    "print(f\"Intervalo de confianca (95%) {IC}\")"
   ]
  },
  {
   "cell_type": "markdown",
   "metadata": {},
   "source": [
    "2. Sabe-se que a vida em horas de um bulbo de lâmpada de 75W é distribuída de forma aproximadamente normal com desvio padrão de σ=25. Uma amostra aleatória de 20 bulbos tem uma vida media de 1.014 horas. Construa um intervalo de confiança de 95% para a vida média. "
   ]
  },
  {
   "cell_type": "markdown",
   "metadata": {},
   "source": [
    "#### Formula usada:\n",
    "$$IC = \\overline{X} \\pm Z \\cdot \\frac{\\sigma}{\\sqrt{n}}$$\n"
   ]
  },
  {
   "cell_type": "code",
   "execution_count": 9,
   "metadata": {},
   "outputs": [
    {
     "name": "stdout",
     "output_type": "stream",
     "text": [
      "Intervalo de confianca (95%): (1013.0434682427928, 1034.9565317572074)\n"
     ]
    }
   ],
   "source": [
    "media_amostral = 1024\n",
    "std_padrao_pop = 25\n",
    "n = 20\n",
    "confianca = 0.95\n",
    "\n",
    "delta = std_padrao_pop / (n ** 0.5)\n",
    "\n",
    "IC = st.norm.interval(confianca, loc = media_amostral, scale = delta)\n",
    "\n",
    "print(f\"Intervalo de confianca (95%): {IC}\")"
   ]
  },
  {
   "cell_type": "markdown",
   "metadata": {},
   "source": [
    "3. Qual deve ser o tamanho da amostra para que o intervalo com 99,5% de confiança para a média populacional tenha uma semi amplitude não superior a 1,5? Sabe-se que a variância populacional é de 23."
   ]
  },
  {
   "cell_type": "markdown",
   "metadata": {},
   "source": [
    "#### Formula usada:\n",
    "$$ n = (\\frac{Z \\cdot \\sigma}{\\Delta})^2$$ "
   ]
  },
  {
   "cell_type": "code",
   "execution_count": 10,
   "metadata": {},
   "outputs": [
    {
     "name": "stdout",
     "output_type": "stream",
     "text": [
      "Tamanho da amostra 9\n"
     ]
    }
   ],
   "source": [
    "amplitude = 1.5\n",
    "confianca = 0.995\n",
    "desvio_padrao_pop = 23**0.5  ## sabemos que a variancia e de 23\n",
    "\n",
    "prob = ((1+confianca)/ 2)\n",
    "\n",
    "Z = st.norm.ppf(prob)\n",
    "\n",
    "n = (Z * desvio_padrao_pop) / amplitude\n",
    "\n",
    "print(f\"Tamanho da amostra {round(n)}\")"
   ]
  },
  {
   "cell_type": "markdown",
   "metadata": {},
   "source": [
    "4. Calcular o intervalo de confiança de 95% para a seguinte amostra, com variância populacional desconhecida:   19,8  18,5 17,6 16,7 15,8 15,4 14,1 13,6 11,9 11,4 11,4 8,8 7,5 15,4 15,4 19,5 14,9 12,7 11,9 11,4 10,1 7,9 "
   ]
  },
  {
   "cell_type": "code",
   "execution_count": 11,
   "metadata": {},
   "outputs": [
    {
     "name": "stdout",
     "output_type": "stream",
     "text": [
      "o Intervalo de confianca e (12.138069152904343, 15.289203574368383)\n"
     ]
    }
   ],
   "source": [
    "amostra = [\n",
    "    19.8,\n",
    "    18.5,\n",
    "    17.6,\n",
    "    16.7,\n",
    "    15.8,\n",
    "    15.4,\n",
    "    14.1,\n",
    "    13.6,\n",
    "    11.9,\n",
    "    11.4,\n",
    "    11.4,\n",
    "    8.8,\n",
    "    7.5,\n",
    "    15.4,\n",
    "    15.4,\n",
    "    19.5,\n",
    "    14.9,\n",
    "    12.7,\n",
    "    11.9,\n",
    "    11.4,\n",
    "    10.1,\n",
    "    7.9,\n",
    "]\n",
    "\n",
    "confianca = 0.95 \n",
    "\n",
    "media_amostral = np.mean(amostra) ## media amostral\n",
    "\n",
    "desvio_padrao_amost = np.std(amostra, ddof=1)  ## ddof para usar N-1\n",
    "\n",
    "prob = (1 + confianca) / 2 ## \n",
    "\n",
    "t = st.t.ppf(prob, df= len(amostra) - 1) ## calculando na tabela T ja que temos so o desvio padrao amostral\n",
    "\n",
    "\n",
    "IC = (\n",
    "    media_amostral - t * (desvio_padrao_amost / np.sqrt(len(amostra))),\n",
    "    media_amostral + t * (desvio_padrao_amost / np.sqrt(len(amostra))),\n",
    ") ## aqui n poderiamos multiplicar por meio como fizemos antes\n",
    "\n",
    "print(f\"o Intervalo de confianca e {IC}\")"
   ]
  },
  {
   "cell_type": "markdown",
   "metadata": {},
   "source": [
    "5. Uma marca particular de margarina diet foi analisada para determinar o nível em porcentagem de ácidos graxos insaturados. Uma amostra de seis pacotes resultou nos seguintes dados: 16,8; 17,2; 17,4; 16,9; 16,5 e 17,1. Encontre o intervalo de confiança de 99% para a amostra. "
   ]
  },
  {
   "cell_type": "markdown",
   "metadata": {},
   "source": [
    "#### Formula usada:\n",
    "$$IC = \\overline{X} \\pm t \\cdot \\frac{s}{\\sqrt{n}}$$"
   ]
  },
  {
   "cell_type": "code",
   "execution_count": 12,
   "metadata": {},
   "outputs": [
    {
     "name": "stdout",
     "output_type": "stream",
     "text": [
      "o Intervalo de confianca e (16.336115841883306, 17.46388415811669)\n"
     ]
    }
   ],
   "source": [
    "amostra = [16.8, 17.2, 16.9, 16.5, 17.1]\n",
    "\n",
    "confianca = 0.99\n",
    "\n",
    "media_amostral = np.mean(amostra)\n",
    "\n",
    "desvio_padrao_amost = np.std(amostra, ddof=1)\n",
    "\n",
    "prob = (1 + confianca) / 2\n",
    "\n",
    "t = st.t.ppf(prob, df=len(amostra) - 1)\n",
    "\n",
    "IC = (\n",
    "    ## len(amostra) devolve o n\n",
    "    media_amostral - t * (desvio_padrao_amost / np.sqrt(len(amostra))),\n",
    "    media_amostral + t * (desvio_padrao_amost / np.sqrt(len(amostra))),\n",
    ")\n",
    "\n",
    "print(f\"o Intervalo de confianca e {IC}\")"
   ]
  },
  {
   "cell_type": "markdown",
   "metadata": {},
   "source": [
    "6. Uma amostra piloto com 12 elementos tece média de 6,7 e desvio padrão de 1,7. Qual deve ser o tamanho da amostra para que a semi amplitude do intervalo de 99,5% de confiança da média populacional não seja superior a 0,8 ."
   ]
  },
  {
   "cell_type": "markdown",
   "metadata": {},
   "source": [
    "#### Formula usada\n",
    "* $\\Delta$ se o semi-Amplitude\n",
    "* $\\sigma$ desvio padrão populacional\n",
    "$$n = (\\frac{Z \\cdot s }{\\Delta})^2$$"
   ]
  },
  {
   "cell_type": "code",
   "execution_count": 15,
   "metadata": {},
   "outputs": [
    {
     "name": "stdout",
     "output_type": "stream",
     "text": [
      "O tamanho amostra necessário 36\n"
     ]
    }
   ],
   "source": [
    "media_amostral = 6.7 \n",
    "\n",
    "desvio_padrao_amost = 1.7\n",
    "\n",
    "Delta = 0.8\n",
    "\n",
    "confianca = 0.995\n",
    "\n",
    "prob = (1+confianca)/2\n",
    "\n",
    "Z = st.norm.ppf(prob)\n",
    "\n",
    "n = ((Z * desvio_padrao_amost) / Delta)**2\n",
    "\n",
    "print(f\"O tamanho amostra necessário {round(n)}\")"
   ]
  },
  {
   "cell_type": "markdown",
   "metadata": {},
   "source": [
    "7. Em uma amostra aleatória de 85 mancais de eixos de manivelas de motores de automóveis, 10 têm um acabamento superficial mais rugoso do que as especificações permitidas. Calcule um intervalo de confiança para o 95% da proporção. "
   ]
  },
  {
   "cell_type": "markdown",
   "metadata": {},
   "source": [
    "#### Formula usada :\n",
    "$$IC = \\hat{p} \\pm Z \\cdot \\sqrt{ \\frac{\\hat{p}(1 - \\hat{p}) }{n} }$$\n"
   ]
  },
  {
   "cell_type": "code",
   "execution_count": 17,
   "metadata": {},
   "outputs": [
    {
     "name": "stdout",
     "output_type": "stream",
     "text": [
      "O intervalo de confiança é  : (0.04915340504887858, 0.18614071259818024)\n"
     ]
    }
   ],
   "source": [
    "amostras = 10\n",
    "\n",
    "n = 85\n",
    "\n",
    "confianca = 0.95\n",
    "\n",
    "p_amostral = amostras / n\n",
    "\n",
    "prob = (1 + confianca) / 2\n",
    "\n",
    "Z = st.norm.ppf(prob)\n",
    "\n",
    "\n",
    "\n",
    "IC = (\n",
    "    p_amostral - Z * np.sqrt((p_amostral * (1 - p_amostral))/ n), \n",
    "    p_amostral + Z * np.sqrt((p_amostral * (1 - p_amostral))/ n)\n",
    ")\n",
    "\n",
    "print(f\"O intervalo de confiança é  : {IC}\")"
   ]
  },
  {
   "cell_type": "markdown",
   "metadata": {},
   "source": [
    "8. De 1.000 casos selecionados de aleatoriamente de câncer de pulmão, 823 resultaram em morte. Construa um intervalo de confiança de 95% para a taxa de morte de câncer de pulmão. "
   ]
  },
  {
   "cell_type": "markdown",
   "metadata": {},
   "source": [
    "#### Formula usada :\n",
    "$$IC = \\hat{p} \\pm Z \\cdot \\sqrt{ \\frac{\\hat{p}(1 - \\hat{p}) }{n} }$$\n"
   ]
  },
  {
   "cell_type": "code",
   "execution_count": 19,
   "metadata": {},
   "outputs": [
    {
     "name": "stdout",
     "output_type": "stream",
     "text": [
      "O intervalo de confiança é  : (0.7993443632960485, 0.8466556367039514) para (95%)\n"
     ]
    }
   ],
   "source": [
    "casos_t = 1000\n",
    "casos_m = 823\n",
    "\n",
    "confianca = 0.95\n",
    "\n",
    "p_amostral = casos_m / casos_t\n",
    "\n",
    "prob = (1 + confianca) / 2\n",
    "\n",
    "Z = st.norm.ppf(prob)\n",
    "\n",
    "IC = (\n",
    "    p_amostral - Z * np.sqrt((p_amostral * (1 - p_amostral)) / casos_t),\n",
    "    p_amostral + Z * np.sqrt((p_amostral * (1 - p_amostral)) / casos_t),\n",
    ")\n",
    "\n",
    "print(f\"O intervalo de confiança é  : {IC} para (95%)\")"
   ]
  },
  {
   "cell_type": "markdown",
   "metadata": {},
   "source": [
    "9. Sabe-se que a proporção de animais contaminados com uma determinada doença não é superior a 10%. Qual deve o tamanho da amostra para que a semi amplitude do intervalo com 92% de confiança para a fração populacional não seja superior a 2%? "
   ]
  },
  {
   "cell_type": "markdown",
   "metadata": {},
   "source": [
    "#### A formula usada :\n",
    "$$n = (\\frac{Z \\cdot \\sqrt{\\hat{p}(1 - \\hat{p})}}{\\Delta})$$\n",
    "* $\\hat{p}$ estimativa de proporção populacional.\n",
    "* $\\Delta$ Semi amplitude\n",
    "\n"
   ]
  },
  {
   "cell_type": "code",
   "execution_count": 21,
   "metadata": {},
   "outputs": [
    {
     "name": "stdout",
     "output_type": "stream",
     "text": [
      "O tamanho da amostra e: 690\n"
     ]
    }
   ],
   "source": [
    "prop_est = 0.10\n",
    "confianca = 0.92\n",
    "Delta = 0.02\n",
    "\n",
    "prob = (1 + confianca) / 2\n",
    "\n",
    "Z = st.norm.ppf(prob)\n",
    "\n",
    "n = (\n",
    "    (Z * (prop_est * (1 - prop_est)) ** 0.5)\n",
    "    / Delta\n",
    ") ** 2\n",
    "\n",
    "print(f\"O tamanho da amostra e: {round(n)}\")"
   ]
  }
 ],
 "metadata": {
  "kernelspec": {
   "display_name": "base",
   "language": "python",
   "name": "python3"
  },
  "language_info": {
   "codemirror_mode": {
    "name": "ipython",
    "version": 3
   },
   "file_extension": ".py",
   "mimetype": "text/x-python",
   "name": "python",
   "nbconvert_exporter": "python",
   "pygments_lexer": "ipython3",
   "version": "3.9.12"
  }
 },
 "nbformat": 4,
 "nbformat_minor": 2
}
