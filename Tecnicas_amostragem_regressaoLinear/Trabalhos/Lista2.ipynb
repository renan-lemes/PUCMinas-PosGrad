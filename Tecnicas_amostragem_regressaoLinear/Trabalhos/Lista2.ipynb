{
 "cells": [
  {
   "cell_type": "markdown",
   "metadata": {},
   "source": [
    "##### Importando as libs"
   ]
  },
  {
   "cell_type": "code",
   "execution_count": 81,
   "metadata": {},
   "outputs": [],
   "source": [
    "## Libs para tratamento de dados\n",
    "from scipy.stats import shapiro, kstest\n",
    "import pandas as pd\n",
    "\n",
    "import numpy as np\n",
    "\n",
    "##\n",
    "import warnings\n",
    "\n",
    "warnings.filterwarnings(\"ignore\", category=DeprecationWarning)\n",
    "\n",
    "## Libs para plotar os graficos\n",
    "import matplotlib.pyplot as plt\n",
    "import plotly.express as px\n",
    "import seaborn as sns\n",
    "import plotly.graph_objects as go\n",
    "\n",
    "## Libs Modelos de machine learning\n",
    "from sklearn.linear_model import LinearRegression\n",
    "from sklearn.model_selection import train_test_split\n",
    "from sklearn.metrics import mean_squared_error\n",
    "\n",
    "## Libs Modelos estatisticos\n",
    "import statsmodels.formula.api as smf\n",
    "import statsmodels.stats.api as sms"
   ]
  },
  {
   "cell_type": "code",
   "execution_count": 40,
   "metadata": {},
   "outputs": [
    {
     "data": {
      "text/html": [
       "<div>\n",
       "<style scoped>\n",
       "    .dataframe tbody tr th:only-of-type {\n",
       "        vertical-align: middle;\n",
       "    }\n",
       "\n",
       "    .dataframe tbody tr th {\n",
       "        vertical-align: top;\n",
       "    }\n",
       "\n",
       "    .dataframe thead th {\n",
       "        text-align: right;\n",
       "    }\n",
       "</style>\n",
       "<table border=\"1\" class=\"dataframe\">\n",
       "  <thead>\n",
       "    <tr style=\"text-align: right;\">\n",
       "      <th></th>\n",
       "      <th>TV</th>\n",
       "      <th>Radio</th>\n",
       "      <th>Jornal</th>\n",
       "      <th>Vendas</th>\n",
       "    </tr>\n",
       "  </thead>\n",
       "  <tbody>\n",
       "    <tr>\n",
       "      <th>0</th>\n",
       "      <td>230.1</td>\n",
       "      <td>37.8</td>\n",
       "      <td>69.2</td>\n",
       "      <td>22.1</td>\n",
       "    </tr>\n",
       "    <tr>\n",
       "      <th>1</th>\n",
       "      <td>44.5</td>\n",
       "      <td>39.3</td>\n",
       "      <td>45.1</td>\n",
       "      <td>10.4</td>\n",
       "    </tr>\n",
       "    <tr>\n",
       "      <th>2</th>\n",
       "      <td>17.2</td>\n",
       "      <td>45.9</td>\n",
       "      <td>69.3</td>\n",
       "      <td>9.3</td>\n",
       "    </tr>\n",
       "    <tr>\n",
       "      <th>3</th>\n",
       "      <td>151.5</td>\n",
       "      <td>41.3</td>\n",
       "      <td>58.5</td>\n",
       "      <td>18.5</td>\n",
       "    </tr>\n",
       "    <tr>\n",
       "      <th>4</th>\n",
       "      <td>180.8</td>\n",
       "      <td>10.8</td>\n",
       "      <td>58.4</td>\n",
       "      <td>12.9</td>\n",
       "    </tr>\n",
       "  </tbody>\n",
       "</table>\n",
       "</div>"
      ],
      "text/plain": [
       "      TV  Radio  Jornal  Vendas\n",
       "0  230.1   37.8    69.2    22.1\n",
       "1   44.5   39.3    45.1    10.4\n",
       "2   17.2   45.9    69.3     9.3\n",
       "3  151.5   41.3    58.5    18.5\n",
       "4  180.8   10.8    58.4    12.9"
      ]
     },
     "execution_count": 40,
     "metadata": {},
     "output_type": "execute_result"
    }
   ],
   "source": [
    "df = pd.read_csv(\"./data/propaganda.csv\", sep=\",\")\n",
    "df.head()"
   ]
  },
  {
   "cell_type": "code",
   "execution_count": 41,
   "metadata": {},
   "outputs": [
    {
     "name": "stdout",
     "output_type": "stream",
     "text": [
      "<class 'pandas.core.frame.DataFrame'>\n",
      "RangeIndex: 200 entries, 0 to 199\n",
      "Data columns (total 4 columns):\n",
      " #   Column  Non-Null Count  Dtype  \n",
      "---  ------  --------------  -----  \n",
      " 0   TV      200 non-null    float64\n",
      " 1   Radio   200 non-null    float64\n",
      " 2   Jornal  200 non-null    float64\n",
      " 3   Vendas  200 non-null    float64\n",
      "dtypes: float64(4)\n",
      "memory usage: 6.4 KB\n"
     ]
    }
   ],
   "source": [
    "df.info()"
   ]
  },
  {
   "cell_type": "markdown",
   "metadata": {},
   "source": [
    "#### Descrição do Dataframe\n",
    "Podemos notar que se tratam de dados pontos flutuantes (float), ou seja todos são dados continuos."
   ]
  },
  {
   "cell_type": "markdown",
   "metadata": {},
   "source": [
    "Acredito que são dados relacionados a vendas de algum produto especifico em que teve apresentação em diferentes canais, assim temos suas respectivas vendas porem como pontuação apenas por estar como continua."
   ]
  },
  {
   "cell_type": "code",
   "execution_count": 42,
   "metadata": {},
   "outputs": [
    {
     "data": {
      "text/html": [
       "<div>\n",
       "<style scoped>\n",
       "    .dataframe tbody tr th:only-of-type {\n",
       "        vertical-align: middle;\n",
       "    }\n",
       "\n",
       "    .dataframe tbody tr th {\n",
       "        vertical-align: top;\n",
       "    }\n",
       "\n",
       "    .dataframe thead th {\n",
       "        text-align: right;\n",
       "    }\n",
       "</style>\n",
       "<table border=\"1\" class=\"dataframe\">\n",
       "  <thead>\n",
       "    <tr style=\"text-align: right;\">\n",
       "      <th></th>\n",
       "      <th>TV</th>\n",
       "      <th>Radio</th>\n",
       "      <th>Jornal</th>\n",
       "      <th>Vendas</th>\n",
       "    </tr>\n",
       "  </thead>\n",
       "  <tbody>\n",
       "    <tr>\n",
       "      <th>count</th>\n",
       "      <td>200.000000</td>\n",
       "      <td>200.000000</td>\n",
       "      <td>200.000000</td>\n",
       "      <td>200.000000</td>\n",
       "    </tr>\n",
       "    <tr>\n",
       "      <th>mean</th>\n",
       "      <td>147.042500</td>\n",
       "      <td>23.264000</td>\n",
       "      <td>30.554000</td>\n",
       "      <td>14.022500</td>\n",
       "    </tr>\n",
       "    <tr>\n",
       "      <th>std</th>\n",
       "      <td>85.854236</td>\n",
       "      <td>14.846809</td>\n",
       "      <td>21.778621</td>\n",
       "      <td>5.217457</td>\n",
       "    </tr>\n",
       "    <tr>\n",
       "      <th>min</th>\n",
       "      <td>0.700000</td>\n",
       "      <td>0.000000</td>\n",
       "      <td>0.300000</td>\n",
       "      <td>1.600000</td>\n",
       "    </tr>\n",
       "    <tr>\n",
       "      <th>25%</th>\n",
       "      <td>74.375000</td>\n",
       "      <td>9.975000</td>\n",
       "      <td>12.750000</td>\n",
       "      <td>10.375000</td>\n",
       "    </tr>\n",
       "    <tr>\n",
       "      <th>50%</th>\n",
       "      <td>149.750000</td>\n",
       "      <td>22.900000</td>\n",
       "      <td>25.750000</td>\n",
       "      <td>12.900000</td>\n",
       "    </tr>\n",
       "    <tr>\n",
       "      <th>75%</th>\n",
       "      <td>218.825000</td>\n",
       "      <td>36.525000</td>\n",
       "      <td>45.100000</td>\n",
       "      <td>17.400000</td>\n",
       "    </tr>\n",
       "    <tr>\n",
       "      <th>max</th>\n",
       "      <td>296.400000</td>\n",
       "      <td>49.600000</td>\n",
       "      <td>114.000000</td>\n",
       "      <td>27.000000</td>\n",
       "    </tr>\n",
       "  </tbody>\n",
       "</table>\n",
       "</div>"
      ],
      "text/plain": [
       "               TV       Radio      Jornal      Vendas\n",
       "count  200.000000  200.000000  200.000000  200.000000\n",
       "mean   147.042500   23.264000   30.554000   14.022500\n",
       "std     85.854236   14.846809   21.778621    5.217457\n",
       "min      0.700000    0.000000    0.300000    1.600000\n",
       "25%     74.375000    9.975000   12.750000   10.375000\n",
       "50%    149.750000   22.900000   25.750000   12.900000\n",
       "75%    218.825000   36.525000   45.100000   17.400000\n",
       "max    296.400000   49.600000  114.000000   27.000000"
      ]
     },
     "execution_count": 42,
     "metadata": {},
     "output_type": "execute_result"
    }
   ],
   "source": [
    "df.describe()"
   ]
  },
  {
   "cell_type": "code",
   "execution_count": 43,
   "metadata": {},
   "outputs": [
    {
     "data": {
      "text/plain": [
       "TV        0\n",
       "Radio     0\n",
       "Jornal    0\n",
       "Vendas    0\n",
       "dtype: int64"
      ]
     },
     "execution_count": 43,
     "metadata": {},
     "output_type": "execute_result"
    }
   ],
   "source": [
    "df.isna().sum()"
   ]
  },
  {
   "cell_type": "markdown",
   "metadata": {},
   "source": [
    "-----"
   ]
  },
  {
   "cell_type": "markdown",
   "metadata": {},
   "source": [
    "Aqui coloquei dois grafico de boxplot para analisar se existe algum outliers.\n",
    "E da para notar que existe e na coluna jornal"
   ]
  },
  {
   "cell_type": "code",
   "execution_count": 44,
   "metadata": {},
   "outputs": [
    {
     "data": {
      "image/png": "[encoded data removed]",
      "text/plain": [
       "<Figure size 1080x576 with 1 Axes>"
      ]
     },
     "metadata": {},
     "output_type": "display_data"
    }
   ],
   "source": [
    "plt.figure(figsize=(15, 8))\n",
    "sns.boxplot(data=df[[\"TV\", \"Radio\", \"Jornal\"]])\n",
    "plt.title(\"Boxplot para Gastos em Publicidade\")\n",
    "plt.show()"
   ]
  },
  {
   "cell_type": "code",
   "execution_count": 46,
   "metadata": {},
   "outputs": [
    {
     "data": {
      "image/png": "[encoded data removed]",
      "text/plain": [
       "<Figure size 1080x576 with 1 Axes>"
      ]
     },
     "metadata": {},
     "output_type": "display_data"
    }
   ],
   "source": [
    "## mesmo grafico porem visão diferente\n",
    "plt.figure(figsize=(15, 8))\n",
    "sns.boxplot(data=df[[\"TV\", \"Radio\", \"Jornal\"]], palette=\"vlag\")\n",
    "sns.stripplot(data=df[[\"TV\", \"Radio\", \"Jornal\"]], size=4)\n",
    "plt.title(\"Boxplot para Gastos em Publicidade\")\n",
    "plt.show()"
   ]
  },
  {
   "cell_type": "code",
   "execution_count": 33,
   "metadata": {},
   "outputs": [
    {
     "data": {
      "text/plain": [
       "<Figure size 1080x576 with 0 Axes>"
      ]
     },
     "metadata": {},
     "output_type": "display_data"
    },
    {
     "data": {
      "image/png": "[encoded data removed]",
      "text/plain": [
       "<Figure size 756x360 with 3 Axes>"
      ]
     },
     "metadata": {},
     "output_type": "display_data"
    }
   ],
   "source": [
    "## Verificando as relacoes entre os dados\n",
    "plt.figure(figsize=(15, 8))\n",
    "sns.pairplot(\n",
    "    df,\n",
    "    x_vars=[\"TV\", \"Radio\", \"Jornal\"],\n",
    "    y_vars=\"Vendas\",\n",
    "    height=5,\n",
    "    aspect=0.7,\n",
    ")\n",
    "plt.show()"
   ]
  },
  {
   "cell_type": "code",
   "execution_count": 27,
   "metadata": {},
   "outputs": [
    {
     "data": {
      "image/png": "[encoded data removed]",
      "text/plain": [
       "<Figure size 1080x576 with 1 Axes>"
      ]
     },
     "metadata": {},
     "output_type": "display_data"
    }
   ],
   "source": [
    "plt.figure(figsize=(15, 8))\n",
    "plt.plot(df[\"TV\"], label=\"TV\")\n",
    "plt.plot(df[\"Radio\"], label=\"Rádio\")\n",
    "plt.plot(df[\"Jornal\"], label=\"Jornal\")\n",
    "plt.title(\"Gastos em Publicidade ao Longo do Tempo\")\n",
    "plt.xlabel(\"Amostra\")\n",
    "plt.ylabel(\"Gastos em Publicidade\")\n",
    "plt.legend()\n",
    "plt.show()"
   ]
  },
  {
   "cell_type": "markdown",
   "metadata": {},
   "source": [
    "Analisando os graficos de densidade conseguimos ver que teve muito mais gastos em Tv. E em Jornal e Radio teve um pico maior significa que teve maior implicação de vendas em determinado momento."
   ]
  },
  {
   "cell_type": "code",
   "execution_count": 59,
   "metadata": {},
   "outputs": [
    {
     "data": {
      "image/png": "[encoded data removed]",
      "text/plain": [
       "<Figure size 1080x576 with 1 Axes>"
      ]
     },
     "metadata": {},
     "output_type": "display_data"
    }
   ],
   "source": [
    "## Gráfico de densidade\n",
    "plt.figure(figsize=(15, 8))\n",
    "sns.kdeplot(df[\"TV\"], label=\"TV\", shade=True)\n",
    "sns.kdeplot(df[\"Radio\"], label=\"Rádio\", shade=True)\n",
    "sns.kdeplot(df[\"Jornal\"], label=\"Jornal\", shade=True)\n",
    "plt.title(\"Distribuição de Publicidade\")\n",
    "plt.xlabel(\"Gastos em Publicidade\")\n",
    "plt.ylabel(\"Densidade\")\n",
    "plt.legend()\n",
    "plt.show()"
   ]
  },
  {
   "cell_type": "markdown",
   "metadata": {},
   "source": [
    "Optando por isso resolvi colocar as três variaveis uma em relação a outra para analizar seus respectivos planos."
   ]
  },
  {
   "cell_type": "code",
   "execution_count": 65,
   "metadata": {},
   "outputs": [
    {
     "data": {
      "application/vnd.plotly.v1+json": {
       "config": {
        "plotlyServerURL": "https://plot.ly"
       },
       "data": [
        {
         "hoverinfo": "text+x+y+z",
         "marker": {
          "color": [
           22.1,
           10.4,
           9.3,
           18.5,
           12.9,
           7.2,
           11.8,
           13.2,
           4.8,
           10.6,
           8.6,
           17.4,
           9.2,
           9.7,
           19,
           22.4,
           12.5,
           24.4,
           11.3,
           14.6,
           18,
           12.5,
           5.6,
           15.5,
           9.7,
           12,
           15,
           15.9,
           18.9,
           10.5,
           21.4,
           11.9,
           9.6,
           17.4,
           9.5,
           12.8,
           25.4,
           14.7,
           10.1,
           21.5,
           16.6,
           17.1,
           20.7,
           12.9,
           8.5,
           14.9,
           10.6,
           23.2,
           14.8,
           9.7,
           11.4,
           10.7,
           22.6,
           21.2,
           20.2,
           23.7,
           5.5,
           13.2,
           23.8,
           18.4,
           8.1,
           24.2,
           15.7,
           14,
           18,
           9.3,
           9.5,
           13.4,
           18.9,
           22.3,
           18.3,
           12.4,
           8.8,
           11,
           17,
           8.7,
           6.9,
           14.2,
           5.3,
           11,
           11.8,
           12.3,
           11.3,
           13.6,
           21.7,
           15.2,
           12,
           16,
           12.9,
           16.7,
           11.2,
           7.3,
           19.4,
           22.2,
           11.5,
           16.9,
           11.7,
           15.5,
           25.4,
           17.2,
           11.7,
           23.8,
           14.8,
           14.7,
           20.7,
           19.2,
           7.2,
           8.7,
           5.3,
           19.8,
           13.4,
           21.8,
           14.1,
           15.9,
           14.6,
           12.6,
           12.2,
           9.4,
           15.9,
           6.6,
           15.5,
           7,
           11.6,
           15.2,
           19.7,
           10.6,
           6.6,
           8.8,
           24.7,
           9.7,
           1.6,
           12.7,
           5.7,
           19.6,
           10.8,
           11.6,
           9.5,
           20.8,
           9.6,
           20.7,
           10.9,
           19.2,
           20.1,
           10.4,
           11.4,
           10.3,
           13.2,
           25.4,
           10.9,
           10.1,
           16.1,
           11.6,
           16.6,
           19,
           15.6,
           3.2,
           15.3,
           10.1,
           7.3,
           12.9,
           14.4,
           13.3,
           14.9,
           18,
           11.9,
           11.9,
           8,
           12.2,
           17.1,
           15,
           8.4,
           14.5,
           7.6,
           11.7,
           11.5,
           27,
           20.2,
           11.7,
           11.8,
           12.6,
           10.5,
           12.2,
           8.7,
           26.2,
           17.6,
           22.6,
           10.3,
           17.3,
           15.9,
           6.7,
           10.8,
           9.9,
           5.9,
           19.6,
           17.3,
           7.6,
           9.7,
           12.8,
           25.5,
           13.4
          ],
          "colorscale": [
           [
            0,
            "#440154"
           ],
           [
            0.1111111111111111,
            "#482878"
           ],
           [
            0.2222222222222222,
            "#3e4989"
           ],
           [
            0.3333333333333333,
            "#31688e"
           ],
           [
            0.4444444444444444,
            "#26828e"
           ],
           [
            0.5555555555555556,
            "#1f9e89"
           ],
           [
            0.6666666666666666,
            "#35b779"
           ],
           [
            0.7777777777777778,
            "#6ece58"
           ],
           [
            0.8888888888888888,
            "#b5de2b"
           ],
           [
            1,
            "#fde725"
           ]
          ],
          "opacity": 0.9,
          "size": 15
         },
         "mode": "markers",
         "text": [
          22.1,
          10.4,
          9.3,
          18.5,
          12.9,
          7.2,
          11.8,
          13.2,
          4.8,
          10.6,
          8.6,
          17.4,
          9.2,
          9.7,
          19,
          22.4,
          12.5,
          24.4,
          11.3,
          14.6,
          18,
          12.5,
          5.6,
          15.5,
          9.7,
          12,
          15,
          15.9,
          18.9,
          10.5,
          21.4,
          11.9,
          9.6,
          17.4,
          9.5,
          12.8,
          25.4,
          14.7,
          10.1,
          21.5,
          16.6,
          17.1,
          20.7,
          12.9,
          8.5,
          14.9,
          10.6,
          23.2,
          14.8,
          9.7,
          11.4,
          10.7,
          22.6,
          21.2,
          20.2,
          23.7,
          5.5,
          13.2,
          23.8,
          18.4,
          8.1,
          24.2,
          15.7,
          14,
          18,
          9.3,
          9.5,
          13.4,
          18.9,
          22.3,
          18.3,
          12.4,
          8.8,
          11,
          17,
          8.7,
          6.9,
          14.2,
          5.3,
          11,
          11.8,
          12.3,
          11.3,
          13.6,
          21.7,
          15.2,
          12,
          16,
          12.9,
          16.7,
          11.2,
          7.3,
          19.4,
          22.2,
          11.5,
          16.9,
          11.7,
          15.5,
          25.4,
          17.2,
          11.7,
          23.8,
          14.8,
          14.7,
          20.7,
          19.2,
          7.2,
          8.7,
          5.3,
          19.8,
          13.4,
          21.8,
          14.1,
          15.9,
          14.6,
          12.6,
          12.2,
          9.4,
          15.9,
          6.6,
          15.5,
          7,
          11.6,
          15.2,
          19.7,
          10.6,
          6.6,
          8.8,
          24.7,
          9.7,
          1.6,
          12.7,
          5.7,
          19.6,
          10.8,
          11.6,
          9.5,
          20.8,
          9.6,
          20.7,
          10.9,
          19.2,
          20.1,
          10.4,
          11.4,
          10.3,
          13.2,
          25.4,
          10.9,
          10.1,
          16.1,
          11.6,
          16.6,
          19,
          15.6,
          3.2,
          15.3,
          10.1,
          7.3,
          12.9,
          14.4,
          13.3,
          14.9,
          18,
          11.9,
          11.9,
          8,
          12.2,
          17.1,
          15,
          8.4,
          14.5,
          7.6,
          11.7,
          11.5,
          27,
          20.2,
          11.7,
          11.8,
          12.6,
          10.5,
          12.2,
          8.7,
          26.2,
          17.6,
          22.6,
          10.3,
          17.3,
          15.9,
          6.7,
          10.8,
          9.9,
          5.9,
          19.6,
          17.3,
          7.6,
          9.7,
          12.8,
          25.5,
          13.4
         ],
         "type": "scatter3d",
         "x": [
          230.1,
          44.5,
          17.2,
          151.5,
          180.8,
          8.7,
          57.5,
          120.2,
          8.6,
          199.8,
          66.1,
          214.7,
          23.8,
          97.5,
          204.1,
          195.4,
          67.8,
          281.4,
          69.2,
          147.3,
          218.4,
          237.4,
          13.2,
          228.3,
          62.3,
          262.9,
          142.9,
          240.1,
          248.8,
          70.6,
          292.9,
          112.9,
          97.2,
          265.6,
          95.7,
          290.7,
          266.9,
          74.7,
          43.1,
          228,
          202.5,
          177,
          293.6,
          206.9,
          25.1,
          175.1,
          89.7,
          239.9,
          227.2,
          66.9,
          199.8,
          100.4,
          216.4,
          182.6,
          262.7,
          198.9,
          7.3,
          136.2,
          210.8,
          210.7,
          53.5,
          261.3,
          239.3,
          102.7,
          131.1,
          69,
          31.5,
          139.3,
          237.4,
          216.8,
          199.1,
          109.8,
          26.8,
          129.4,
          213.4,
          16.9,
          27.5,
          120.5,
          5.4,
          116,
          76.4,
          239.8,
          75.3,
          68.4,
          213.5,
          193.2,
          76.3,
          110.7,
          88.3,
          109.8,
          134.3,
          28.6,
          217.7,
          250.9,
          107.4,
          163.3,
          197.6,
          184.9,
          289.7,
          135.2,
          222.4,
          296.4,
          280.2,
          187.9,
          238.2,
          137.9,
          25,
          90.4,
          13.1,
          255.4,
          225.8,
          241.7,
          175.7,
          209.6,
          78.2,
          75.1,
          139.2,
          76.4,
          125.7,
          19.4,
          141.3,
          18.8,
          224,
          123.1,
          229.5,
          87.2,
          7.8,
          80.2,
          220.3,
          59.6,
          0.7,
          265.2,
          8.4,
          219.8,
          36.9,
          48.3,
          25.6,
          273.7,
          43,
          184.9,
          73.4,
          193.7,
          220.5,
          104.6,
          96.2,
          140.3,
          240.1,
          243.2,
          38,
          44.7,
          280.7,
          121,
          197.6,
          171.3,
          187.8,
          4.1,
          93.9,
          149.8,
          11.7,
          131.7,
          172.5,
          85.7,
          188.4,
          163.5,
          117.2,
          234.5,
          17.9,
          206.8,
          215.4,
          284.3,
          50,
          164.5,
          19.6,
          168.4,
          222.4,
          276.9,
          248.4,
          170.2,
          276.7,
          165.6,
          156.6,
          218.5,
          56.2,
          287.6,
          253.8,
          205,
          139.5,
          191.1,
          286,
          18.7,
          39.5,
          75.5,
          17.2,
          166.8,
          149.7,
          38.2,
          94.2,
          177,
          283.6,
          232.1
         ],
         "y": [
          22.1,
          10.4,
          9.3,
          18.5,
          12.9,
          7.2,
          11.8,
          13.2,
          4.8,
          10.6,
          8.6,
          17.4,
          9.2,
          9.7,
          19,
          22.4,
          12.5,
          24.4,
          11.3,
          14.6,
          18,
          12.5,
          5.6,
          15.5,
          9.7,
          12,
          15,
          15.9,
          18.9,
          10.5,
          21.4,
          11.9,
          9.6,
          17.4,
          9.5,
          12.8,
          25.4,
          14.7,
          10.1,
          21.5,
          16.6,
          17.1,
          20.7,
          12.9,
          8.5,
          14.9,
          10.6,
          23.2,
          14.8,
          9.7,
          11.4,
          10.7,
          22.6,
          21.2,
          20.2,
          23.7,
          5.5,
          13.2,
          23.8,
          18.4,
          8.1,
          24.2,
          15.7,
          14,
          18,
          9.3,
          9.5,
          13.4,
          18.9,
          22.3,
          18.3,
          12.4,
          8.8,
          11,
          17,
          8.7,
          6.9,
          14.2,
          5.3,
          11,
          11.8,
          12.3,
          11.3,
          13.6,
          21.7,
          15.2,
          12,
          16,
          12.9,
          16.7,
          11.2,
          7.3,
          19.4,
          22.2,
          11.5,
          16.9,
          11.7,
          15.5,
          25.4,
          17.2,
          11.7,
          23.8,
          14.8,
          14.7,
          20.7,
          19.2,
          7.2,
          8.7,
          5.3,
          19.8,
          13.4,
          21.8,
          14.1,
          15.9,
          14.6,
          12.6,
          12.2,
          9.4,
          15.9,
          6.6,
          15.5,
          7,
          11.6,
          15.2,
          19.7,
          10.6,
          6.6,
          8.8,
          24.7,
          9.7,
          1.6,
          12.7,
          5.7,
          19.6,
          10.8,
          11.6,
          9.5,
          20.8,
          9.6,
          20.7,
          10.9,
          19.2,
          20.1,
          10.4,
          11.4,
          10.3,
          13.2,
          25.4,
          10.9,
          10.1,
          16.1,
          11.6,
          16.6,
          19,
          15.6,
          3.2,
          15.3,
          10.1,
          7.3,
          12.9,
          14.4,
          13.3,
          14.9,
          18,
          11.9,
          11.9,
          8,
          12.2,
          17.1,
          15,
          8.4,
          14.5,
          7.6,
          11.7,
          11.5,
          27,
          20.2,
          11.7,
          11.8,
          12.6,
          10.5,
          12.2,
          8.7,
          26.2,
          17.6,
          22.6,
          10.3,
          17.3,
          15.9,
          6.7,
          10.8,
          9.9,
          5.9,
          19.6,
          17.3,
          7.6,
          9.7,
          12.8,
          25.5,
          13.4
         ],
         "z": [
          37.8,
          39.3,
          45.9,
          41.3,
          10.8,
          48.9,
          32.8,
          19.6,
          2.1,
          2.6,
          5.8,
          24,
          35.1,
          7.6,
          32.9,
          47.7,
          36.6,
          39.6,
          20.5,
          23.9,
          27.7,
          5.1,
          15.9,
          16.9,
          12.6,
          3.5,
          29.3,
          16.7,
          27.1,
          16,
          28.3,
          17.4,
          1.5,
          20,
          1.4,
          4.1,
          43.8,
          49.4,
          26.7,
          37.7,
          22.3,
          33.4,
          27.7,
          8.4,
          25.7,
          22.5,
          9.9,
          41.5,
          15.8,
          11.7,
          3.1,
          9.6,
          41.7,
          46.2,
          28.8,
          49.4,
          28.1,
          19.2,
          49.6,
          29.5,
          2,
          42.7,
          15.5,
          29.6,
          42.8,
          9.3,
          24.6,
          14.5,
          27.5,
          43.9,
          30.6,
          14.3,
          33,
          5.7,
          24.6,
          43.7,
          1.6,
          28.5,
          29.9,
          7.7,
          26.7,
          4.1,
          20.3,
          44.5,
          43,
          18.4,
          27.5,
          40.6,
          25.5,
          47.8,
          4.9,
          1.5,
          33.5,
          36.5,
          14,
          31.6,
          3.5,
          21,
          42.3,
          41.7,
          4.3,
          36.3,
          10.1,
          17.2,
          34.3,
          46.4,
          11,
          0.3,
          0.4,
          26.9,
          8.2,
          38,
          15.4,
          20.6,
          46.8,
          35,
          14.3,
          0.8,
          36.9,
          16,
          26.8,
          21.7,
          2.4,
          34.6,
          32.3,
          11.8,
          38.9,
          0,
          49,
          12,
          39.6,
          2.9,
          27.2,
          33.5,
          38.6,
          47,
          39,
          28.9,
          25.9,
          43.9,
          17,
          35.4,
          33.2,
          5.7,
          14.8,
          1.9,
          7.3,
          49,
          40.3,
          25.8,
          13.9,
          8.4,
          23.3,
          39.7,
          21.1,
          11.6,
          43.5,
          1.3,
          36.9,
          18.4,
          18.1,
          35.8,
          18.1,
          36.8,
          14.7,
          3.4,
          37.6,
          5.2,
          23.6,
          10.6,
          11.6,
          20.9,
          20.1,
          7.1,
          3.4,
          48.9,
          30.2,
          7.8,
          2.3,
          10,
          2.6,
          5.4,
          5.7,
          43,
          21.3,
          45.1,
          2.1,
          28.7,
          13.9,
          12.1,
          41.1,
          10.8,
          4.1,
          42,
          35.6,
          3.7,
          4.9,
          9.3,
          42,
          8.6
         ]
        }
       ],
       "layout": {
        "scene": {
         "xaxis": {
          "title": {
           "text": "TV"
          }
         },
         "yaxis": {
          "title": {
           "text": "Vendas"
          }
         },
         "zaxis": {
          "title": {
           "text": "Radio"
          }
         }
        },
        "template": {
         "data": {
          "bar": [
           {
            "error_x": {
             "color": "#2a3f5f"
            },
            "error_y": {
             "color": "#2a3f5f"
            },
            "marker": {
             "line": {
              "color": "#E5ECF6",
              "width": 0.5
             },
             "pattern": {
              "fillmode": "overlay",
              "size": 10,
              "solidity": 0.2
             }
            },
            "type": "bar"
           }
          ],
          "barpolar": [
           {
            "marker": {
             "line": {
              "color": "#E5ECF6",
              "width": 0.5
             },
             "pattern": {
              "fillmode": "overlay",
              "size": 10,
              "solidity": 0.2
             }
            },
            "type": "barpolar"
           }
          ],
          "carpet": [
           {
            "aaxis": {
             "endlinecolor": "#2a3f5f",
             "gridcolor": "white",
             "linecolor": "white",
             "minorgridcolor": "white",
             "startlinecolor": "#2a3f5f"
            },
            "baxis": {
             "endlinecolor": "#2a3f5f",
             "gridcolor": "white",
             "linecolor": "white",
             "minorgridcolor": "white",
             "startlinecolor": "#2a3f5f"
            },
            "type": "carpet"
           }
          ],
          "choropleth": [
           {
            "colorbar": {
             "outlinewidth": 0,
             "ticks": ""
            },
            "type": "choropleth"
           }
          ],
          "contour": [
           {
            "colorbar": {
             "outlinewidth": 0,
             "ticks": ""
            },
            "colorscale": [
             [
              0,
              "#0d0887"
             ],
             [
              0.1111111111111111,
              "#46039f"
             ],
             [
              0.2222222222222222,
              "#7201a8"
             ],
             [
              0.3333333333333333,
              "#9c179e"
             ],
             [
              0.4444444444444444,
              "#bd3786"
             ],
             [
              0.5555555555555556,
              "#d8576b"
             ],
             [
              0.6666666666666666,
              "#ed7953"
             ],
             [
              0.7777777777777778,
              "#fb9f3a"
             ],
             [
              0.8888888888888888,
              "#fdca26"
             ],
             [
              1,
              "#f0f921"
             ]
            ],
            "type": "contour"
           }
          ],
          "contourcarpet": [
           {
            "colorbar": {
             "outlinewidth": 0,
             "ticks": ""
            },
            "type": "contourcarpet"
           }
          ],
          "heatmap": [
           {
            "colorbar": {
             "outlinewidth": 0,
             "ticks": ""
            },
            "colorscale": [
             [
              0,
              "#0d0887"
             ],
             [
              0.1111111111111111,
              "#46039f"
             ],
             [
              0.2222222222222222,
              "#7201a8"
             ],
             [
              0.3333333333333333,
              "#9c179e"
             ],
             [
              0.4444444444444444,
              "#bd3786"
             ],
             [
              0.5555555555555556,
              "#d8576b"
             ],
             [
              0.6666666666666666,
              "#ed7953"
             ],
             [
              0.7777777777777778,
              "#fb9f3a"
             ],
             [
              0.8888888888888888,
              "#fdca26"
             ],
             [
              1,
              "#f0f921"
             ]
            ],
            "type": "heatmap"
           }
          ],
          "heatmapgl": [
           {
            "colorbar": {
             "outlinewidth": 0,
             "ticks": ""
            },
            "colorscale": [
             [
              0,
              "#0d0887"
             ],
             [
              0.1111111111111111,
              "#46039f"
             ],
             [
              0.2222222222222222,
              "#7201a8"
             ],
             [
              0.3333333333333333,
              "#9c179e"
             ],
             [
              0.4444444444444444,
              "#bd3786"
             ],
             [
              0.5555555555555556,
              "#d8576b"
             ],
             [
              0.6666666666666666,
              "#ed7953"
             ],
             [
              0.7777777777777778,
              "#fb9f3a"
             ],
             [
              0.8888888888888888,
              "#fdca26"
             ],
             [
              1,
              "#f0f921"
             ]
            ],
            "type": "heatmapgl"
           }
          ],
          "histogram": [
           {
            "marker": {
             "pattern": {
              "fillmode": "overlay",
              "size": 10,
              "solidity": 0.2
             }
            },
            "type": "histogram"
           }
          ],
          "histogram2d": [
           {
            "colorbar": {
             "outlinewidth": 0,
             "ticks": ""
            },
            "colorscale": [
             [
              0,
              "#0d0887"
             ],
             [
              0.1111111111111111,
              "#46039f"
             ],
             [
              0.2222222222222222,
              "#7201a8"
             ],
             [
              0.3333333333333333,
              "#9c179e"
             ],
             [
              0.4444444444444444,
              "#bd3786"
             ],
             [
              0.5555555555555556,
              "#d8576b"
             ],
             [
              0.6666666666666666,
              "#ed7953"
             ],
             [
              0.7777777777777778,
              "#fb9f3a"
             ],
             [
              0.8888888888888888,
              "#fdca26"
             ],
             [
              1,
              "#f0f921"
             ]
            ],
            "type": "histogram2d"
           }
          ],
          "histogram2dcontour": [
           {
            "colorbar": {
             "outlinewidth": 0,
             "ticks": ""
            },
            "colorscale": [
             [
              0,
              "#0d0887"
             ],
             [
              0.1111111111111111,
              "#46039f"
             ],
             [
              0.2222222222222222,
              "#7201a8"
             ],
             [
              0.3333333333333333,
              "#9c179e"
             ],
             [
              0.4444444444444444,
              "#bd3786"
             ],
             [
              0.5555555555555556,
              "#d8576b"
             ],
             [
              0.6666666666666666,
              "#ed7953"
             ],
             [
              0.7777777777777778,
              "#fb9f3a"
             ],
             [
              0.8888888888888888,
              "#fdca26"
             ],
             [
              1,
              "#f0f921"
             ]
            ],
            "type": "histogram2dcontour"
           }
          ],
          "mesh3d": [
           {
            "colorbar": {
             "outlinewidth": 0,
             "ticks": ""
            },
            "type": "mesh3d"
           }
          ],
          "parcoords": [
           {
            "line": {
             "colorbar": {
              "outlinewidth": 0,
              "ticks": ""
             }
            },
            "type": "parcoords"
           }
          ],
          "pie": [
           {
            "automargin": true,
            "type": "pie"
           }
          ],
          "scatter": [
           {
            "marker": {
             "colorbar": {
              "outlinewidth": 0,
              "ticks": ""
             }
            },
            "type": "scatter"
           }
          ],
          "scatter3d": [
           {
            "line": {
             "colorbar": {
              "outlinewidth": 0,
              "ticks": ""
             }
            },
            "marker": {
             "colorbar": {
              "outlinewidth": 0,
              "ticks": ""
             }
            },
            "type": "scatter3d"
           }
          ],
          "scattercarpet": [
           {
            "marker": {
             "colorbar": {
              "outlinewidth": 0,
              "ticks": ""
             }
            },
            "type": "scattercarpet"
           }
          ],
          "scattergeo": [
           {
            "marker": {
             "colorbar": {
              "outlinewidth": 0,
              "ticks": ""
             }
            },
            "type": "scattergeo"
           }
          ],
          "scattergl": [
           {
            "marker": {
             "colorbar": {
              "outlinewidth": 0,
              "ticks": ""
             }
            },
            "type": "scattergl"
           }
          ],
          "scattermapbox": [
           {
            "marker": {
             "colorbar": {
              "outlinewidth": 0,
              "ticks": ""
             }
            },
            "type": "scattermapbox"
           }
          ],
          "scatterpolar": [
           {
            "marker": {
             "colorbar": {
              "outlinewidth": 0,
              "ticks": ""
             }
            },
            "type": "scatterpolar"
           }
          ],
          "scatterpolargl": [
           {
            "marker": {
             "colorbar": {
              "outlinewidth": 0,
              "ticks": ""
             }
            },
            "type": "scatterpolargl"
           }
          ],
          "scatterternary": [
           {
            "marker": {
             "colorbar": {
              "outlinewidth": 0,
              "ticks": ""
             }
            },
            "type": "scatterternary"
           }
          ],
          "surface": [
           {
            "colorbar": {
             "outlinewidth": 0,
             "ticks": ""
            },
            "colorscale": [
             [
              0,
              "#0d0887"
             ],
             [
              0.1111111111111111,
              "#46039f"
             ],
             [
              0.2222222222222222,
              "#7201a8"
             ],
             [
              0.3333333333333333,
              "#9c179e"
             ],
             [
              0.4444444444444444,
              "#bd3786"
             ],
             [
              0.5555555555555556,
              "#d8576b"
             ],
             [
              0.6666666666666666,
              "#ed7953"
             ],
             [
              0.7777777777777778,
              "#fb9f3a"
             ],
             [
              0.8888888888888888,
              "#fdca26"
             ],
             [
              1,
              "#f0f921"
             ]
            ],
            "type": "surface"
           }
          ],
          "table": [
           {
            "cells": {
             "fill": {
              "color": "#EBF0F8"
             },
             "line": {
              "color": "white"
             }
            },
            "header": {
             "fill": {
              "color": "#C8D4E3"
             },
             "line": {
              "color": "white"
             }
            },
            "type": "table"
           }
          ]
         },
         "layout": {
          "annotationdefaults": {
           "arrowcolor": "#2a3f5f",
           "arrowhead": 0,
           "arrowwidth": 1
          },
          "autotypenumbers": "strict",
          "coloraxis": {
           "colorbar": {
            "outlinewidth": 0,
            "ticks": ""
           }
          },
          "colorscale": {
           "diverging": [
            [
             0,
             "#8e0152"
            ],
            [
             0.1,
             "#c51b7d"
            ],
            [
             0.2,
             "#de77ae"
            ],
            [
             0.3,
             "#f1b6da"
            ],
            [
             0.4,
             "#fde0ef"
            ],
            [
             0.5,
             "#f7f7f7"
            ],
            [
             0.6,
             "#e6f5d0"
            ],
            [
             0.7,
             "#b8e186"
            ],
            [
             0.8,
             "#7fbc41"
            ],
            [
             0.9,
             "#4d9221"
            ],
            [
             1,
             "#276419"
            ]
           ],
           "sequential": [
            [
             0,
             "#0d0887"
            ],
            [
             0.1111111111111111,
             "#46039f"
            ],
            [
             0.2222222222222222,
             "#7201a8"
            ],
            [
             0.3333333333333333,
             "#9c179e"
            ],
            [
             0.4444444444444444,
             "#bd3786"
            ],
            [
             0.5555555555555556,
             "#d8576b"
            ],
            [
             0.6666666666666666,
             "#ed7953"
            ],
            [
             0.7777777777777778,
             "#fb9f3a"
            ],
            [
             0.8888888888888888,
             "#fdca26"
            ],
            [
             1,
             "#f0f921"
            ]
           ],
           "sequentialminus": [
            [
             0,
             "#0d0887"
            ],
            [
             0.1111111111111111,
             "#46039f"
            ],
            [
             0.2222222222222222,
             "#7201a8"
            ],
            [
             0.3333333333333333,
             "#9c179e"
            ],
            [
             0.4444444444444444,
             "#bd3786"
            ],
            [
             0.5555555555555556,
             "#d8576b"
            ],
            [
             0.6666666666666666,
             "#ed7953"
            ],
            [
             0.7777777777777778,
             "#fb9f3a"
            ],
            [
             0.8888888888888888,
             "#fdca26"
            ],
            [
             1,
             "#f0f921"
            ]
           ]
          },
          "colorway": [
           "#636efa",
           "#EF553B",
           "#00cc96",
           "#ab63fa",
           "#FFA15A",
           "#19d3f3",
           "#FF6692",
           "#B6E880",
           "#FF97FF",
           "#FECB52"
          ],
          "font": {
           "color": "#2a3f5f"
          },
          "geo": {
           "bgcolor": "white",
           "lakecolor": "white",
           "landcolor": "#E5ECF6",
           "showlakes": true,
           "showland": true,
           "subunitcolor": "white"
          },
          "hoverlabel": {
           "align": "left"
          },
          "hovermode": "closest",
          "mapbox": {
           "style": "light"
          },
          "paper_bgcolor": "white",
          "plot_bgcolor": "#E5ECF6",
          "polar": {
           "angularaxis": {
            "gridcolor": "white",
            "linecolor": "white",
            "ticks": ""
           },
           "bgcolor": "#E5ECF6",
           "radialaxis": {
            "gridcolor": "white",
            "linecolor": "white",
            "ticks": ""
           }
          },
          "scene": {
           "xaxis": {
            "backgroundcolor": "#E5ECF6",
            "gridcolor": "white",
            "gridwidth": 2,
            "linecolor": "white",
            "showbackground": true,
            "ticks": "",
            "zerolinecolor": "white"
           },
           "yaxis": {
            "backgroundcolor": "#E5ECF6",
            "gridcolor": "white",
            "gridwidth": 2,
            "linecolor": "white",
            "showbackground": true,
            "ticks": "",
            "zerolinecolor": "white"
           },
           "zaxis": {
            "backgroundcolor": "#E5ECF6",
            "gridcolor": "white",
            "gridwidth": 2,
            "linecolor": "white",
            "showbackground": true,
            "ticks": "",
            "zerolinecolor": "white"
           }
          },
          "shapedefaults": {
           "line": {
            "color": "#2a3f5f"
           }
          },
          "ternary": {
           "aaxis": {
            "gridcolor": "white",
            "linecolor": "white",
            "ticks": ""
           },
           "baxis": {
            "gridcolor": "white",
            "linecolor": "white",
            "ticks": ""
           },
           "bgcolor": "#E5ECF6",
           "caxis": {
            "gridcolor": "white",
            "linecolor": "white",
            "ticks": ""
           }
          },
          "title": {
           "x": 0.05
          },
          "xaxis": {
           "automargin": true,
           "gridcolor": "white",
           "linecolor": "white",
           "ticks": "",
           "title": {
            "standoff": 15
           },
           "zerolinecolor": "white",
           "zerolinewidth": 2
          },
          "yaxis": {
           "automargin": true,
           "gridcolor": "white",
           "linecolor": "white",
           "ticks": "",
           "title": {
            "standoff": 15
           },
           "zerolinecolor": "white",
           "zerolinewidth": 2
          }
         }
        },
        "title": {
         "text": "Gráfico 3D de Vendas, TV, Rádio e Jornal"
        }
       }
      }
     },
     "metadata": {},
     "output_type": "display_data"
    }
   ],
   "source": [
    "# Crie um gráfico 3D\n",
    "fig = go.Figure(\n",
    "    data=[\n",
    "        go.Scatter3d(\n",
    "            x=df[\"TV\"],\n",
    "            y=df[\"Vendas\"],\n",
    "            z=df[\"Radio\"],\n",
    "            mode=\"markers\",\n",
    "            marker=dict(size=15, color=df[\"Vendas\"], colorscale=\"Viridis\", opacity=0.9),\n",
    "            text=df[\"Vendas\"],\n",
    "            hoverinfo=\"text+x+y+z\",\n",
    "        )\n",
    "    ]\n",
    ")\n",
    "\n",
    "\n",
    "fig.update_layout(\n",
    "    scene=dict(\n",
    "        xaxis=dict(title=\"TV\"),\n",
    "        yaxis=dict(title=\"Vendas\"),\n",
    "        zaxis=dict(title=\"Radio\"),\n",
    "    ),\n",
    "    title=\"Gráfico 3D de Vendas, TV, Rádio e Jornal\",\n",
    ")\n",
    "\n",
    "\n",
    "fig.show()"
   ]
  },
  {
   "cell_type": "markdown",
   "metadata": {},
   "source": [
    "Conseguimos notar um plano significativo para essas variaveis, que seria otima para fazer uma regressão multiplas."
   ]
  },
  {
   "cell_type": "markdown",
   "metadata": {},
   "source": [
    "------"
   ]
  },
  {
   "cell_type": "markdown",
   "metadata": {},
   "source": [
    "#### Calculando as correlações"
   ]
  },
  {
   "cell_type": "code",
   "execution_count": 66,
   "metadata": {},
   "outputs": [
    {
     "data": {
      "text/html": [
       "<div>\n",
       "<style scoped>\n",
       "    .dataframe tbody tr th:only-of-type {\n",
       "        vertical-align: middle;\n",
       "    }\n",
       "\n",
       "    .dataframe tbody tr th {\n",
       "        vertical-align: top;\n",
       "    }\n",
       "\n",
       "    .dataframe thead th {\n",
       "        text-align: right;\n",
       "    }\n",
       "</style>\n",
       "<table border=\"1\" class=\"dataframe\">\n",
       "  <thead>\n",
       "    <tr style=\"text-align: right;\">\n",
       "      <th></th>\n",
       "      <th>TV</th>\n",
       "      <th>Radio</th>\n",
       "      <th>Jornal</th>\n",
       "      <th>Vendas</th>\n",
       "    </tr>\n",
       "  </thead>\n",
       "  <tbody>\n",
       "    <tr>\n",
       "      <th>TV</th>\n",
       "      <td>1.000000</td>\n",
       "      <td>0.054809</td>\n",
       "      <td>0.056648</td>\n",
       "      <td>0.782224</td>\n",
       "    </tr>\n",
       "    <tr>\n",
       "      <th>Radio</th>\n",
       "      <td>0.054809</td>\n",
       "      <td>1.000000</td>\n",
       "      <td>0.354104</td>\n",
       "      <td>0.576223</td>\n",
       "    </tr>\n",
       "    <tr>\n",
       "      <th>Jornal</th>\n",
       "      <td>0.056648</td>\n",
       "      <td>0.354104</td>\n",
       "      <td>1.000000</td>\n",
       "      <td>0.228299</td>\n",
       "    </tr>\n",
       "    <tr>\n",
       "      <th>Vendas</th>\n",
       "      <td>0.782224</td>\n",
       "      <td>0.576223</td>\n",
       "      <td>0.228299</td>\n",
       "      <td>1.000000</td>\n",
       "    </tr>\n",
       "  </tbody>\n",
       "</table>\n",
       "</div>"
      ],
      "text/plain": [
       "              TV     Radio    Jornal    Vendas\n",
       "TV      1.000000  0.054809  0.056648  0.782224\n",
       "Radio   0.054809  1.000000  0.354104  0.576223\n",
       "Jornal  0.056648  0.354104  1.000000  0.228299\n",
       "Vendas  0.782224  0.576223  0.228299  1.000000"
      ]
     },
     "execution_count": 66,
     "metadata": {},
     "output_type": "execute_result"
    }
   ],
   "source": [
    "correlacoes = df.corr(method=\"pearson\")\n",
    "correlacoes"
   ]
  },
  {
   "cell_type": "code",
   "execution_count": 67,
   "metadata": {},
   "outputs": [
    {
     "data": {
      "text/html": [
       "<div>\n",
       "<style scoped>\n",
       "    .dataframe tbody tr th:only-of-type {\n",
       "        vertical-align: middle;\n",
       "    }\n",
       "\n",
       "    .dataframe tbody tr th {\n",
       "        vertical-align: top;\n",
       "    }\n",
       "\n",
       "    .dataframe thead th {\n",
       "        text-align: right;\n",
       "    }\n",
       "</style>\n",
       "<table border=\"1\" class=\"dataframe\">\n",
       "  <thead>\n",
       "    <tr style=\"text-align: right;\">\n",
       "      <th></th>\n",
       "      <th>TV</th>\n",
       "      <th>Radio</th>\n",
       "      <th>Jornal</th>\n",
       "      <th>Vendas</th>\n",
       "    </tr>\n",
       "  </thead>\n",
       "  <tbody>\n",
       "    <tr>\n",
       "      <th>TV</th>\n",
       "      <td>1.000000</td>\n",
       "      <td>NaN</td>\n",
       "      <td>NaN</td>\n",
       "      <td>0.782224</td>\n",
       "    </tr>\n",
       "    <tr>\n",
       "      <th>Radio</th>\n",
       "      <td>NaN</td>\n",
       "      <td>1.0</td>\n",
       "      <td>NaN</td>\n",
       "      <td>NaN</td>\n",
       "    </tr>\n",
       "    <tr>\n",
       "      <th>Jornal</th>\n",
       "      <td>NaN</td>\n",
       "      <td>NaN</td>\n",
       "      <td>1.0</td>\n",
       "      <td>NaN</td>\n",
       "    </tr>\n",
       "    <tr>\n",
       "      <th>Vendas</th>\n",
       "      <td>0.782224</td>\n",
       "      <td>NaN</td>\n",
       "      <td>NaN</td>\n",
       "      <td>1.000000</td>\n",
       "    </tr>\n",
       "  </tbody>\n",
       "</table>\n",
       "</div>"
      ],
      "text/plain": [
       "              TV  Radio  Jornal    Vendas\n",
       "TV      1.000000    NaN     NaN  0.782224\n",
       "Radio        NaN    1.0     NaN       NaN\n",
       "Jornal       NaN    NaN     1.0       NaN\n",
       "Vendas  0.782224    NaN     NaN  1.000000"
      ]
     },
     "execution_count": 67,
     "metadata": {},
     "output_type": "execute_result"
    }
   ],
   "source": [
    "correlacoes[correlacoes > 0.6]"
   ]
  },
  {
   "cell_type": "code",
   "execution_count": 70,
   "metadata": {},
   "outputs": [
    {
     "data": {
      "text/plain": [
       "<AxesSubplot:>"
      ]
     },
     "execution_count": 70,
     "metadata": {},
     "output_type": "execute_result"
    },
    {
     "data": {
      "image/png": "[encoded data removed]",
      "text/plain": [
       "<Figure size 864x576 with 2 Axes>"
      ]
     },
     "metadata": {},
     "output_type": "display_data"
    }
   ],
   "source": [
    "plt.figure(figsize=(12, 8))\n",
    "sns.heatmap(correlacoes, annot=True)"
   ]
  },
  {
   "cell_type": "markdown",
   "metadata": {},
   "source": [
    "Conseguimos notar que aonde tem maior correlação e nas vendas e Tv"
   ]
  },
  {
   "cell_type": "code",
   "execution_count": 75,
   "metadata": {},
   "outputs": [
    {
     "name": "stdout",
     "output_type": "stream",
     "text": [
      "Covariancia da TV e Vendas e : 350.3901947236182\n",
      "Covariancia da Jornal e Vendas e : 25.941391959799002\n",
      "Covariancia da Radio e Vendas e : 44.635688442211055\n"
     ]
    }
   ],
   "source": [
    "cov_TV = df[\"TV\"].cov(df[\"Vendas\"])\n",
    "cov_Jornal = df[\"Jornal\"].cov(df[\"Vendas\"])\n",
    "cov_Radio = df[\"Radio\"].cov(df[\"Vendas\"])\n",
    "\n",
    "print(f\"Covariancia da TV e Vendas e : {cov_TV}\")\n",
    "print(f\"Covariancia da Jornal e Vendas e : {cov_Jornal}\")\n",
    "print(f\"Covariancia da Radio e Vendas e : {cov_Radio}\")"
   ]
  },
  {
   "cell_type": "markdown",
   "metadata": {},
   "source": [
    "-----"
   ]
  },
  {
   "cell_type": "code",
   "execution_count": 88,
   "metadata": {},
   "outputs": [],
   "source": [
    "dict_save = {}"
   ]
  },
  {
   "cell_type": "code",
   "execution_count": 93,
   "metadata": {},
   "outputs": [
    {
     "name": "stdout",
     "output_type": "stream",
     "text": [
      "TV\n",
      "Radio\n",
      "Jornal\n"
     ]
    }
   ],
   "source": [
    "for i in df[[\"TV\", \"Radio\", \"Jornal\"]]:\n",
    "    print(i)"
   ]
  },
  {
   "cell_type": "code",
   "execution_count": 106,
   "metadata": {},
   "outputs": [],
   "source": [
    "## Dividindo os dados para fazer a regressao para cada coluna\n",
    "\n",
    "\n",
    "dict_save = dict()\n",
    "\n",
    "for i in df[[\"TV\", \"Radio\", \"Jornal\"]]:\n",
    "    X = df[[i]]\n",
    "    y = df[\"Vendas\"]\n",
    "\n",
    "    X_train, X_test, y_train, y_test = train_test_split(\n",
    "        X, y, test_size=0.2, random_state=42\n",
    "    )\n",
    "\n",
    "    dict_save[i] = {\n",
    "        \"X_train\": X_train,\n",
    "        \"X_test\": X_test,\n",
    "        \"y_train\": y_train,\n",
    "        \"y_test\": y_test,\n",
    "    }"
   ]
  },
  {
   "cell_type": "code",
   "execution_count": 113,
   "metadata": {},
   "outputs": [
    {
     "data": {
      "text/html": [
       "<div>\n",
       "<style scoped>\n",
       "    .dataframe tbody tr th:only-of-type {\n",
       "        vertical-align: middle;\n",
       "    }\n",
       "\n",
       "    .dataframe tbody tr th {\n",
       "        vertical-align: top;\n",
       "    }\n",
       "\n",
       "    .dataframe thead th {\n",
       "        text-align: right;\n",
       "    }\n",
       "</style>\n",
       "<table border=\"1\" class=\"dataframe\">\n",
       "  <thead>\n",
       "    <tr style=\"text-align: right;\">\n",
       "      <th></th>\n",
       "      <th>Radio</th>\n",
       "    </tr>\n",
       "  </thead>\n",
       "  <tbody>\n",
       "    <tr>\n",
       "      <th>79</th>\n",
       "      <td>7.7</td>\n",
       "    </tr>\n",
       "    <tr>\n",
       "      <th>197</th>\n",
       "      <td>9.3</td>\n",
       "    </tr>\n",
       "    <tr>\n",
       "      <th>38</th>\n",
       "      <td>26.7</td>\n",
       "    </tr>\n",
       "    <tr>\n",
       "      <th>24</th>\n",
       "      <td>12.6</td>\n",
       "    </tr>\n",
       "    <tr>\n",
       "      <th>122</th>\n",
       "      <td>2.4</td>\n",
       "    </tr>\n",
       "    <tr>\n",
       "      <th>...</th>\n",
       "      <td>...</td>\n",
       "    </tr>\n",
       "    <tr>\n",
       "      <th>106</th>\n",
       "      <td>11.0</td>\n",
       "    </tr>\n",
       "    <tr>\n",
       "      <th>14</th>\n",
       "      <td>32.9</td>\n",
       "    </tr>\n",
       "    <tr>\n",
       "      <th>92</th>\n",
       "      <td>33.5</td>\n",
       "    </tr>\n",
       "    <tr>\n",
       "      <th>179</th>\n",
       "      <td>10.0</td>\n",
       "    </tr>\n",
       "    <tr>\n",
       "      <th>102</th>\n",
       "      <td>10.1</td>\n",
       "    </tr>\n",
       "  </tbody>\n",
       "</table>\n",
       "<p>160 rows × 1 columns</p>\n",
       "</div>"
      ],
      "text/plain": [
       "     Radio\n",
       "79     7.7\n",
       "197    9.3\n",
       "38    26.7\n",
       "24    12.6\n",
       "122    2.4\n",
       "..     ...\n",
       "106   11.0\n",
       "14    32.9\n",
       "92    33.5\n",
       "179   10.0\n",
       "102   10.1\n",
       "\n",
       "[160 rows x 1 columns]"
      ]
     },
     "execution_count": 113,
     "metadata": {},
     "output_type": "execute_result"
    }
   ],
   "source": [
    "dict_save[\"Radio\"][\"X_train\"]"
   ]
  },
  {
   "cell_type": "code",
   "execution_count": 116,
   "metadata": {},
   "outputs": [
    {
     "name": "stdout",
     "output_type": "stream",
     "text": [
      "{'X_train':         TV\n",
      "79   116.0\n",
      "197  177.0\n",
      "38    43.1\n",
      "24    62.3\n",
      "122  224.0\n",
      "..     ...\n",
      "106   25.0\n",
      "14   204.1\n",
      "92   217.7\n",
      "179  165.6\n",
      "102  280.2\n",
      "\n",
      "[160 rows x 1 columns], 'X_test':         TV\n",
      "95   163.3\n",
      "15   195.4\n",
      "30   292.9\n",
      "158   11.7\n",
      "128  220.3\n",
      "115   75.1\n",
      "69   216.8\n",
      "170   50.0\n",
      "174  222.4\n",
      "45   175.1\n",
      "66    31.5\n",
      "182   56.2\n",
      "165  234.5\n",
      "78     5.4\n",
      "186  139.5\n",
      "177  170.2\n",
      "56     7.3\n",
      "152  197.6\n",
      "82    75.3\n",
      "68   237.4\n",
      "124  229.5\n",
      "16    67.8\n",
      "148   38.0\n",
      "93   250.9\n",
      "65    69.0\n",
      "60    53.5\n",
      "84   213.5\n",
      "67   139.3\n",
      "125   87.2\n",
      "132    8.4\n",
      "9    199.8\n",
      "18    69.2\n",
      "55   198.9\n",
      "75    16.9\n",
      "150  280.7\n",
      "104  238.2\n",
      "135   48.3\n",
      "137  273.7\n",
      "164  117.2\n",
      "76    27.5, 'y_train': 79     11.0\n",
      "197    12.8\n",
      "38     10.1\n",
      "24      9.7\n",
      "122    11.6\n",
      "       ... \n",
      "106     7.2\n",
      "14     19.0\n",
      "92     19.4\n",
      "179    12.6\n",
      "102    14.8\n",
      "Name: Vendas, Length: 160, dtype: float64, 'y_test': 95     16.9\n",
      "15     22.4\n",
      "30     21.4\n",
      "158     7.3\n",
      "128    24.7\n",
      "115    12.6\n",
      "69     22.3\n",
      "170     8.4\n",
      "174    11.5\n",
      "45     14.9\n",
      "66      9.5\n",
      "182     8.7\n",
      "165    11.9\n",
      "78      5.3\n",
      "186    10.3\n",
      "177    11.7\n",
      "56      5.5\n",
      "152    16.6\n",
      "82     11.3\n",
      "68     18.9\n",
      "124    19.7\n",
      "16     12.5\n",
      "148    10.9\n",
      "93     22.2\n",
      "65      9.3\n",
      "60      8.1\n",
      "84     21.7\n",
      "67     13.4\n",
      "125    10.6\n",
      "132     5.7\n",
      "9      10.6\n",
      "18     11.3\n",
      "55     23.7\n",
      "75      8.7\n",
      "150    16.1\n",
      "104    20.7\n",
      "135    11.6\n",
      "137    20.8\n",
      "164    11.9\n",
      "76      6.9\n",
      "Name: Vendas, dtype: float64}\n",
      "{'X_train':      Radio\n",
      "79     7.7\n",
      "197    9.3\n",
      "38    26.7\n",
      "24    12.6\n",
      "122    2.4\n",
      "..     ...\n",
      "106   11.0\n",
      "14    32.9\n",
      "92    33.5\n",
      "179   10.0\n",
      "102   10.1\n",
      "\n",
      "[160 rows x 1 columns], 'X_test':      Radio\n",
      "95    31.6\n",
      "15    47.7\n",
      "30    28.3\n",
      "158   36.9\n",
      "128   49.0\n",
      "115   35.0\n",
      "69    43.9\n",
      "170   11.6\n",
      "174    3.4\n",
      "45    22.5\n",
      "66    24.6\n",
      "182    5.7\n",
      "165    3.4\n",
      "78    29.9\n",
      "186    2.1\n",
      "177    7.8\n",
      "56    28.1\n",
      "152   23.3\n",
      "82    20.3\n",
      "68    27.5\n",
      "124   32.3\n",
      "16    36.6\n",
      "148   40.3\n",
      "93    36.5\n",
      "65     9.3\n",
      "60     2.0\n",
      "84    43.0\n",
      "67    14.5\n",
      "125   11.8\n",
      "132   27.2\n",
      "9      2.6\n",
      "18    20.5\n",
      "55    49.4\n",
      "75    43.7\n",
      "150   13.9\n",
      "104   34.3\n",
      "135   47.0\n",
      "137   28.9\n",
      "164   14.7\n",
      "76     1.6, 'y_train': 79     11.0\n",
      "197    12.8\n",
      "38     10.1\n",
      "24      9.7\n",
      "122    11.6\n",
      "       ... \n",
      "106     7.2\n",
      "14     19.0\n",
      "92     19.4\n",
      "179    12.6\n",
      "102    14.8\n",
      "Name: Vendas, Length: 160, dtype: float64, 'y_test': 95     16.9\n",
      "15     22.4\n",
      "30     21.4\n",
      "158     7.3\n",
      "128    24.7\n",
      "115    12.6\n",
      "69     22.3\n",
      "170     8.4\n",
      "174    11.5\n",
      "45     14.9\n",
      "66      9.5\n",
      "182     8.7\n",
      "165    11.9\n",
      "78      5.3\n",
      "186    10.3\n",
      "177    11.7\n",
      "56      5.5\n",
      "152    16.6\n",
      "82     11.3\n",
      "68     18.9\n",
      "124    19.7\n",
      "16     12.5\n",
      "148    10.9\n",
      "93     22.2\n",
      "65      9.3\n",
      "60      8.1\n",
      "84     21.7\n",
      "67     13.4\n",
      "125    10.6\n",
      "132     5.7\n",
      "9      10.6\n",
      "18     11.3\n",
      "55     23.7\n",
      "75      8.7\n",
      "150    16.1\n",
      "104    20.7\n",
      "135    11.6\n",
      "137    20.8\n",
      "164    11.9\n",
      "76      6.9\n",
      "Name: Vendas, dtype: float64}\n",
      "{'X_train':      Jornal\n",
      "79     23.1\n",
      "197     6.4\n",
      "38     35.1\n",
      "24     18.3\n",
      "122    15.6\n",
      "..      ...\n",
      "106    29.7\n",
      "14     46.0\n",
      "92     59.0\n",
      "179    17.6\n",
      "102    21.4\n",
      "\n",
      "[160 rows x 1 columns], 'X_test':      Jornal\n",
      "95     52.9\n",
      "15     52.9\n",
      "30     43.2\n",
      "158    45.2\n",
      "128     3.2\n",
      "115    52.7\n",
      "69     27.2\n",
      "170    18.4\n",
      "174    13.1\n",
      "45     31.5\n",
      "66      2.2\n",
      "182    29.7\n",
      "165    84.8\n",
      "78      9.4\n",
      "186    26.6\n",
      "177    35.2\n",
      "56     41.4\n",
      "152    14.2\n",
      "82     32.5\n",
      "68     11.0\n",
      "124    74.2\n",
      "16    114.0\n",
      "148    11.9\n",
      "93     72.3\n",
      "65      0.9\n",
      "60     21.4\n",
      "84     33.8\n",
      "67     10.2\n",
      "125    25.9\n",
      "132     2.1\n",
      "9      21.2\n",
      "18     18.3\n",
      "55     60.0\n",
      "75     89.4\n",
      "150    37.0\n",
      "104     5.3\n",
      "135     8.5\n",
      "137    59.7\n",
      "164     5.4\n",
      "76     20.7, 'y_train': 79     11.0\n",
      "197    12.8\n",
      "38     10.1\n",
      "24      9.7\n",
      "122    11.6\n",
      "       ... \n",
      "106     7.2\n",
      "14     19.0\n",
      "92     19.4\n",
      "179    12.6\n",
      "102    14.8\n",
      "Name: Vendas, Length: 160, dtype: float64, 'y_test': 95     16.9\n",
      "15     22.4\n",
      "30     21.4\n",
      "158     7.3\n",
      "128    24.7\n",
      "115    12.6\n",
      "69     22.3\n",
      "170     8.4\n",
      "174    11.5\n",
      "45     14.9\n",
      "66      9.5\n",
      "182     8.7\n",
      "165    11.9\n",
      "78      5.3\n",
      "186    10.3\n",
      "177    11.7\n",
      "56      5.5\n",
      "152    16.6\n",
      "82     11.3\n",
      "68     18.9\n",
      "124    19.7\n",
      "16     12.5\n",
      "148    10.9\n",
      "93     22.2\n",
      "65      9.3\n",
      "60      8.1\n",
      "84     21.7\n",
      "67     13.4\n",
      "125    10.6\n",
      "132     5.7\n",
      "9      10.6\n",
      "18     11.3\n",
      "55     23.7\n",
      "75      8.7\n",
      "150    16.1\n",
      "104    20.7\n",
      "135    11.6\n",
      "137    20.8\n",
      "164    11.9\n",
      "76      6.9\n",
      "Name: Vendas, dtype: float64}\n"
     ]
    }
   ],
   "source": [
    "for i in dict_save:\n",
    "    print(dict_save[i])"
   ]
  },
  {
   "cell_type": "markdown",
   "metadata": {},
   "source": [
    "Fazendo os modelos usando sklearn"
   ]
  },
  {
   "cell_type": "code",
   "execution_count": 118,
   "metadata": {},
   "outputs": [
    {
     "name": "stdout",
     "output_type": "stream",
     "text": [
      "Modelo de Regressão para TV:\n",
      "Coeficiente: 0.04652973370544335\n",
      "Intercepto: 7.1196384305929525\n",
      "Erro Quadrático Médio: 10.204654118800956\n",
      "\n",
      "Residuo 95     2.182056\n",
      "15     6.188452\n",
      "30     0.651803\n",
      "158   -0.364036\n",
      "128    7.329861\n",
      "115    1.985979\n",
      "69     5.092715\n",
      "170   -1.046125\n",
      "174   -5.967851\n",
      "45    -0.366995\n",
      "66     0.914675\n",
      "182   -1.034609\n",
      "165   -6.130861\n",
      "78    -2.070899\n",
      "186   -3.310536\n",
      "177   -3.338999\n",
      "56    -1.959305\n",
      "152    0.286086\n",
      "82     0.676673\n",
      "68     0.734203\n",
      "124    1.901788\n",
      "16     2.225646\n",
      "148    2.012232\n",
      "93     3.406051\n",
      "65    -1.030190\n",
      "60    -1.508979\n",
      "84     4.646263\n",
      "67    -0.201230\n",
      "125   -0.577031\n",
      "132   -1.810488\n",
      "9     -5.816279\n",
      "18     0.960504\n",
      "55     7.325598\n",
      "75     0.794009\n",
      "150   -4.080535\n",
      "104    2.496979\n",
      "135    2.232975\n",
      "137    0.945173\n",
      "164   -0.672923\n",
      "76    -1.499206\n",
      "Name: Vendas, dtype: float64:\n",
      "Modelo de Regressão para Radio:\n",
      "Coeficiente: 0.20440684572929288\n",
      "Intercepto: 9.424065649663843\n",
      "Erro Quadrático Médio: 23.248766588129108\n",
      "\n",
      "Residuo 95      1.016678\n",
      "15      3.225728\n",
      "30      6.191221\n",
      "158    -9.666678\n",
      "128     5.259999\n",
      "115    -3.978305\n",
      "69      3.902474\n",
      "170    -3.395185\n",
      "174     1.380951\n",
      "45      0.876780\n",
      "66     -4.952474\n",
      "182    -1.889185\n",
      "165     1.780951\n",
      "78    -10.235830\n",
      "186     0.446680\n",
      "177     0.681561\n",
      "56     -9.667898\n",
      "152     2.413255\n",
      "82     -2.273525\n",
      "68      3.854746\n",
      "124     3.673593\n",
      "16     -4.405356\n",
      "148    -6.761662\n",
      "93      5.315084\n",
      "65     -2.025049\n",
      "60     -1.732879\n",
      "84      3.486440\n",
      "67      1.012035\n",
      "125    -1.236066\n",
      "132    -9.283932\n",
      "9       0.644477\n",
      "18     -2.314406\n",
      "55      4.178236\n",
      "75     -9.656645\n",
      "150     3.834679\n",
      "104     4.264780\n",
      "135    -7.431187\n",
      "137     5.468577\n",
      "164    -0.528846\n",
      "76     -2.851117\n",
      "Name: Vendas, dtype: float64:\n",
      "Modelo de Regressão para Jornal:\n",
      "Coeficiente: 0.05975669788026562\n",
      "Intercepto: 12.31054833403927\n",
      "Erro Quadrático Médio: 30.620733995242563\n",
      "\n",
      "Residuo 95      1.428322\n",
      "15      6.928322\n",
      "30      6.507962\n",
      "158    -7.711551\n",
      "128    12.198230\n",
      "115    -2.859726\n",
      "69      8.364069\n",
      "170    -5.010072\n",
      "174    -1.593361\n",
      "45      0.707116\n",
      "66     -2.942013\n",
      "182    -5.385322\n",
      "165    -5.477916\n",
      "78     -7.572261\n",
      "186    -3.600076\n",
      "177    -2.713984\n",
      "56     -9.284476\n",
      "152     3.440907\n",
      "82     -2.952641\n",
      "68      5.932128\n",
      "124     2.955505\n",
      "16     -6.622812\n",
      "148    -2.121653\n",
      "93      5.569042\n",
      "65     -3.064329\n",
      "60     -5.489342\n",
      "84      7.369675\n",
      "67      0.479933\n",
      "125    -3.258247\n",
      "132    -6.736037\n",
      "9      -2.977390\n",
      "18     -2.104096\n",
      "55      7.804050\n",
      "75     -8.952797\n",
      "150     1.578454\n",
      "104     8.072741\n",
      "135    -1.218480\n",
      "137     4.921977\n",
      "164    -0.733235\n",
      "76     -6.647512\n",
      "Name: Vendas, dtype: float64:\n"
     ]
    }
   ],
   "source": [
    "\n",
    "def fit_linear_regression(dict_save):\n",
    "    for feature in dict_save:\n",
    "        X_train = dict_save[feature][\"X_train\"]\n",
    "        y_train = dict_save[feature][\"y_train\"]\n",
    "        X_test = dict_save[feature][\"X_test\"]\n",
    "        y_test = dict_save[feature][\"y_test\"]\n",
    "\n",
    "        model = LinearRegression()\n",
    "        model.fit(X_train, y_train)\n",
    "\n",
    "        y_pred = model.predict(X_test)\n",
    "\n",
    "        residuo = y_test - y_pred\n",
    "\n",
    "        sqr_error = mean_squared_error(y_test, y_pred)\n",
    "\n",
    "        dict_save[feature][\"y_pred\"] = y_pred\n",
    "        dict_save[feature][\"residuo\"] = residuo\n",
    "        dict_save[feature][\"mean_squared_error\"] = sqr_error\n",
    "        dict_save[feature][\"intercept\"] = model.intercept_\n",
    "        dict_save[feature][\"coef\"] = model.coef_[0]\n",
    "\n",
    "        print(f\"Modelo de Regressão para {feature}:\")\n",
    "        print(f\"Coeficiente: {model.coef_[0]}\")\n",
    "        print(f\"Intercepto: {model.intercept_}\")\n",
    "        print(f\"Erro Quadrático Médio: {sqr_error}\\n\")\n",
    "        print(f\"Residuo {residuo}:\")\n",
    "\n",
    "    return dict_save\n",
    "\n",
    "\n",
    "dict_result = fit_linear_regression(dict_save)"
   ]
  },
  {
   "cell_type": "code",
   "execution_count": 120,
   "metadata": {},
   "outputs": [
    {
     "data": {
      "text/plain": [
       "{'TV': {'X_train':         TV\n",
       "  79   116.0\n",
       "  197  177.0\n",
       "  38    43.1\n",
       "  24    62.3\n",
       "  122  224.0\n",
       "  ..     ...\n",
       "  106   25.0\n",
       "  14   204.1\n",
       "  92   217.7\n",
       "  179  165.6\n",
       "  102  280.2\n",
       "  \n",
       "  [160 rows x 1 columns],\n",
       "  'X_test':         TV\n",
       "  95   163.3\n",
       "  15   195.4\n",
       "  30   292.9\n",
       "  158   11.7\n",
       "  128  220.3\n",
       "  115   75.1\n",
       "  69   216.8\n",
       "  170   50.0\n",
       "  174  222.4\n",
       "  45   175.1\n",
       "  66    31.5\n",
       "  182   56.2\n",
       "  165  234.5\n",
       "  78     5.4\n",
       "  186  139.5\n",
       "  177  170.2\n",
       "  56     7.3\n",
       "  152  197.6\n",
       "  82    75.3\n",
       "  68   237.4\n",
       "  124  229.5\n",
       "  16    67.8\n",
       "  148   38.0\n",
       "  93   250.9\n",
       "  65    69.0\n",
       "  60    53.5\n",
       "  84   213.5\n",
       "  67   139.3\n",
       "  125   87.2\n",
       "  132    8.4\n",
       "  9    199.8\n",
       "  18    69.2\n",
       "  55   198.9\n",
       "  75    16.9\n",
       "  150  280.7\n",
       "  104  238.2\n",
       "  135   48.3\n",
       "  137  273.7\n",
       "  164  117.2\n",
       "  76    27.5,\n",
       "  'y_train': 79     11.0\n",
       "  197    12.8\n",
       "  38     10.1\n",
       "  24      9.7\n",
       "  122    11.6\n",
       "         ... \n",
       "  106     7.2\n",
       "  14     19.0\n",
       "  92     19.4\n",
       "  179    12.6\n",
       "  102    14.8\n",
       "  Name: Vendas, Length: 160, dtype: float64,\n",
       "  'y_test': 95     16.9\n",
       "  15     22.4\n",
       "  30     21.4\n",
       "  158     7.3\n",
       "  128    24.7\n",
       "  115    12.6\n",
       "  69     22.3\n",
       "  170     8.4\n",
       "  174    11.5\n",
       "  45     14.9\n",
       "  66      9.5\n",
       "  182     8.7\n",
       "  165    11.9\n",
       "  78      5.3\n",
       "  186    10.3\n",
       "  177    11.7\n",
       "  56      5.5\n",
       "  152    16.6\n",
       "  82     11.3\n",
       "  68     18.9\n",
       "  124    19.7\n",
       "  16     12.5\n",
       "  148    10.9\n",
       "  93     22.2\n",
       "  65      9.3\n",
       "  60      8.1\n",
       "  84     21.7\n",
       "  67     13.4\n",
       "  125    10.6\n",
       "  132     5.7\n",
       "  9      10.6\n",
       "  18     11.3\n",
       "  55     23.7\n",
       "  75      8.7\n",
       "  150    16.1\n",
       "  104    20.7\n",
       "  135    11.6\n",
       "  137    20.8\n",
       "  164    11.9\n",
       "  76      6.9\n",
       "  Name: Vendas, dtype: float64,\n",
       "  'y_pred': array([14.71794394, 16.2115484 , 20.74819743,  7.66403631, 17.37013877,\n",
       "         10.61402143, 17.2072847 ,  9.44612512, 17.46785121, 15.2669948 ,\n",
       "          8.58532504,  9.73460946, 18.03086098,  7.37089899, 13.61053628,\n",
       "         15.03899911,  7.45930549, 16.31391381, 10.62332738, 18.16579721,\n",
       "         17.79821232, 10.27435438,  8.88776831, 18.79394862, 10.33019006,\n",
       "          9.60897918, 17.05373658, 13.60123034, 11.17703121,  7.51048819,\n",
       "         16.41627922, 10.339496  , 16.37440246,  7.90599093, 20.18053468,\n",
       "         18.203021  ,  9.36702457, 19.85482655, 12.57292322,  8.39920611]),\n",
       "  'residuo': 95     2.182056\n",
       "  15     6.188452\n",
       "  30     0.651803\n",
       "  158   -0.364036\n",
       "  128    7.329861\n",
       "  115    1.985979\n",
       "  69     5.092715\n",
       "  170   -1.046125\n",
       "  174   -5.967851\n",
       "  45    -0.366995\n",
       "  66     0.914675\n",
       "  182   -1.034609\n",
       "  165   -6.130861\n",
       "  78    -2.070899\n",
       "  186   -3.310536\n",
       "  177   -3.338999\n",
       "  56    -1.959305\n",
       "  152    0.286086\n",
       "  82     0.676673\n",
       "  68     0.734203\n",
       "  124    1.901788\n",
       "  16     2.225646\n",
       "  148    2.012232\n",
       "  93     3.406051\n",
       "  65    -1.030190\n",
       "  60    -1.508979\n",
       "  84     4.646263\n",
       "  67    -0.201230\n",
       "  125   -0.577031\n",
       "  132   -1.810488\n",
       "  9     -5.816279\n",
       "  18     0.960504\n",
       "  55     7.325598\n",
       "  75     0.794009\n",
       "  150   -4.080535\n",
       "  104    2.496979\n",
       "  135    2.232975\n",
       "  137    0.945173\n",
       "  164   -0.672923\n",
       "  76    -1.499206\n",
       "  Name: Vendas, dtype: float64,\n",
       "  'mean_squared_error': 10.204654118800956,\n",
       "  'intercept': 7.1196384305929525,\n",
       "  'coef': 0.04652973370544335},\n",
       " 'Radio': {'X_train':      Radio\n",
       "  79     7.7\n",
       "  197    9.3\n",
       "  38    26.7\n",
       "  24    12.6\n",
       "  122    2.4\n",
       "  ..     ...\n",
       "  106   11.0\n",
       "  14    32.9\n",
       "  92    33.5\n",
       "  179   10.0\n",
       "  102   10.1\n",
       "  \n",
       "  [160 rows x 1 columns],\n",
       "  'X_test':      Radio\n",
       "  95    31.6\n",
       "  15    47.7\n",
       "  30    28.3\n",
       "  158   36.9\n",
       "  128   49.0\n",
       "  115   35.0\n",
       "  69    43.9\n",
       "  170   11.6\n",
       "  174    3.4\n",
       "  45    22.5\n",
       "  66    24.6\n",
       "  182    5.7\n",
       "  165    3.4\n",
       "  78    29.9\n",
       "  186    2.1\n",
       "  177    7.8\n",
       "  56    28.1\n",
       "  152   23.3\n",
       "  82    20.3\n",
       "  68    27.5\n",
       "  124   32.3\n",
       "  16    36.6\n",
       "  148   40.3\n",
       "  93    36.5\n",
       "  65     9.3\n",
       "  60     2.0\n",
       "  84    43.0\n",
       "  67    14.5\n",
       "  125   11.8\n",
       "  132   27.2\n",
       "  9      2.6\n",
       "  18    20.5\n",
       "  55    49.4\n",
       "  75    43.7\n",
       "  150   13.9\n",
       "  104   34.3\n",
       "  135   47.0\n",
       "  137   28.9\n",
       "  164   14.7\n",
       "  76     1.6,\n",
       "  'y_train': 79     11.0\n",
       "  197    12.8\n",
       "  38     10.1\n",
       "  24      9.7\n",
       "  122    11.6\n",
       "         ... \n",
       "  106     7.2\n",
       "  14     19.0\n",
       "  92     19.4\n",
       "  179    12.6\n",
       "  102    14.8\n",
       "  Name: Vendas, Length: 160, dtype: float64,\n",
       "  'y_test': 95     16.9\n",
       "  15     22.4\n",
       "  30     21.4\n",
       "  158     7.3\n",
       "  128    24.7\n",
       "  115    12.6\n",
       "  69     22.3\n",
       "  170     8.4\n",
       "  174    11.5\n",
       "  45     14.9\n",
       "  66      9.5\n",
       "  182     8.7\n",
       "  165    11.9\n",
       "  78      5.3\n",
       "  186    10.3\n",
       "  177    11.7\n",
       "  56      5.5\n",
       "  152    16.6\n",
       "  82     11.3\n",
       "  68     18.9\n",
       "  124    19.7\n",
       "  16     12.5\n",
       "  148    10.9\n",
       "  93     22.2\n",
       "  65      9.3\n",
       "  60      8.1\n",
       "  84     21.7\n",
       "  67     13.4\n",
       "  125    10.6\n",
       "  132     5.7\n",
       "  9      10.6\n",
       "  18     11.3\n",
       "  55     23.7\n",
       "  75      8.7\n",
       "  150    16.1\n",
       "  104    20.7\n",
       "  135    11.6\n",
       "  137    20.8\n",
       "  164    11.9\n",
       "  76      6.9\n",
       "  Name: Vendas, dtype: float64,\n",
       "  'y_pred': array([15.88332197, 19.17427219, 15.20877938, 16.96667826, 19.44000109,\n",
       "         16.57830525, 18.39752618, 11.79518506, 10.11904893, 14.02321968,\n",
       "         14.45247405, 10.58918467, 10.11904893, 15.53583034,  9.85332003,\n",
       "         11.01843905, 15.16789801, 14.18674516, 13.57352462, 15.04525391,\n",
       "         16.02640677, 16.9053562 , 17.66166153, 16.88491552, 11.32504931,\n",
       "          9.83287934, 18.21356002, 12.38796491, 11.83606643, 14.98393185,\n",
       "          9.95552345, 13.61440599, 19.52176383, 18.35664481, 12.26532081,\n",
       "         16.43522046, 19.0311874 , 15.33142349, 12.42884628,  9.7511166 ]),\n",
       "  'residuo': 95      1.016678\n",
       "  15      3.225728\n",
       "  30      6.191221\n",
       "  158    -9.666678\n",
       "  128     5.259999\n",
       "  115    -3.978305\n",
       "  69      3.902474\n",
       "  170    -3.395185\n",
       "  174     1.380951\n",
       "  45      0.876780\n",
       "  66     -4.952474\n",
       "  182    -1.889185\n",
       "  165     1.780951\n",
       "  78    -10.235830\n",
       "  186     0.446680\n",
       "  177     0.681561\n",
       "  56     -9.667898\n",
       "  152     2.413255\n",
       "  82     -2.273525\n",
       "  68      3.854746\n",
       "  124     3.673593\n",
       "  16     -4.405356\n",
       "  148    -6.761662\n",
       "  93      5.315084\n",
       "  65     -2.025049\n",
       "  60     -1.732879\n",
       "  84      3.486440\n",
       "  67      1.012035\n",
       "  125    -1.236066\n",
       "  132    -9.283932\n",
       "  9       0.644477\n",
       "  18     -2.314406\n",
       "  55      4.178236\n",
       "  75     -9.656645\n",
       "  150     3.834679\n",
       "  104     4.264780\n",
       "  135    -7.431187\n",
       "  137     5.468577\n",
       "  164    -0.528846\n",
       "  76     -2.851117\n",
       "  Name: Vendas, dtype: float64,\n",
       "  'mean_squared_error': 23.248766588129108,\n",
       "  'intercept': 9.424065649663843,\n",
       "  'coef': 0.20440684572929288},\n",
       " 'Jornal': {'X_train':      Jornal\n",
       "  79     23.1\n",
       "  197     6.4\n",
       "  38     35.1\n",
       "  24     18.3\n",
       "  122    15.6\n",
       "  ..      ...\n",
       "  106    29.7\n",
       "  14     46.0\n",
       "  92     59.0\n",
       "  179    17.6\n",
       "  102    21.4\n",
       "  \n",
       "  [160 rows x 1 columns],\n",
       "  'X_test':      Jornal\n",
       "  95     52.9\n",
       "  15     52.9\n",
       "  30     43.2\n",
       "  158    45.2\n",
       "  128     3.2\n",
       "  115    52.7\n",
       "  69     27.2\n",
       "  170    18.4\n",
       "  174    13.1\n",
       "  45     31.5\n",
       "  66      2.2\n",
       "  182    29.7\n",
       "  165    84.8\n",
       "  78      9.4\n",
       "  186    26.6\n",
       "  177    35.2\n",
       "  56     41.4\n",
       "  152    14.2\n",
       "  82     32.5\n",
       "  68     11.0\n",
       "  124    74.2\n",
       "  16    114.0\n",
       "  148    11.9\n",
       "  93     72.3\n",
       "  65      0.9\n",
       "  60     21.4\n",
       "  84     33.8\n",
       "  67     10.2\n",
       "  125    25.9\n",
       "  132     2.1\n",
       "  9      21.2\n",
       "  18     18.3\n",
       "  55     60.0\n",
       "  75     89.4\n",
       "  150    37.0\n",
       "  104     5.3\n",
       "  135     8.5\n",
       "  137    59.7\n",
       "  164     5.4\n",
       "  76     20.7,\n",
       "  'y_train': 79     11.0\n",
       "  197    12.8\n",
       "  38     10.1\n",
       "  24      9.7\n",
       "  122    11.6\n",
       "         ... \n",
       "  106     7.2\n",
       "  14     19.0\n",
       "  92     19.4\n",
       "  179    12.6\n",
       "  102    14.8\n",
       "  Name: Vendas, Length: 160, dtype: float64,\n",
       "  'y_test': 95     16.9\n",
       "  15     22.4\n",
       "  30     21.4\n",
       "  158     7.3\n",
       "  128    24.7\n",
       "  115    12.6\n",
       "  69     22.3\n",
       "  170     8.4\n",
       "  174    11.5\n",
       "  45     14.9\n",
       "  66      9.5\n",
       "  182     8.7\n",
       "  165    11.9\n",
       "  78      5.3\n",
       "  186    10.3\n",
       "  177    11.7\n",
       "  56      5.5\n",
       "  152    16.6\n",
       "  82     11.3\n",
       "  68     18.9\n",
       "  124    19.7\n",
       "  16     12.5\n",
       "  148    10.9\n",
       "  93     22.2\n",
       "  65      9.3\n",
       "  60      8.1\n",
       "  84     21.7\n",
       "  67     13.4\n",
       "  125    10.6\n",
       "  132     5.7\n",
       "  9      10.6\n",
       "  18     11.3\n",
       "  55     23.7\n",
       "  75      8.7\n",
       "  150    16.1\n",
       "  104    20.7\n",
       "  135    11.6\n",
       "  137    20.8\n",
       "  164    11.9\n",
       "  76      6.9\n",
       "  Name: Vendas, dtype: float64,\n",
       "  'y_pred': array([15.47167765, 15.47167765, 14.89203768, 15.01155108, 12.50176977,\n",
       "         15.45972631, 13.93593052, 13.41007158, 13.09336108, 14.19288432,\n",
       "         12.44201307, 14.08532226, 17.37791631, 12.87226129, 13.9000765 ,\n",
       "         14.4139841 , 14.78447563, 13.15909344, 14.25264102, 12.96787201,\n",
       "         16.74449532, 19.12281189, 13.02165304, 16.63095759, 12.36432936,\n",
       "         13.58934167, 14.33032472, 12.92006665, 13.85824681, 12.4360374 ,\n",
       "         13.57739033, 13.40409591, 15.89595021, 17.65279712, 14.52154616,\n",
       "         12.62725883, 12.81848027, 15.8780232 , 12.6332345 , 13.54751198]),\n",
       "  'residuo': 95      1.428322\n",
       "  15      6.928322\n",
       "  30      6.507962\n",
       "  158    -7.711551\n",
       "  128    12.198230\n",
       "  115    -2.859726\n",
       "  69      8.364069\n",
       "  170    -5.010072\n",
       "  174    -1.593361\n",
       "  45      0.707116\n",
       "  66     -2.942013\n",
       "  182    -5.385322\n",
       "  165    -5.477916\n",
       "  78     -7.572261\n",
       "  186    -3.600076\n",
       "  177    -2.713984\n",
       "  56     -9.284476\n",
       "  152     3.440907\n",
       "  82     -2.952641\n",
       "  68      5.932128\n",
       "  124     2.955505\n",
       "  16     -6.622812\n",
       "  148    -2.121653\n",
       "  93      5.569042\n",
       "  65     -3.064329\n",
       "  60     -5.489342\n",
       "  84      7.369675\n",
       "  67      0.479933\n",
       "  125    -3.258247\n",
       "  132    -6.736037\n",
       "  9      -2.977390\n",
       "  18     -2.104096\n",
       "  55      7.804050\n",
       "  75     -8.952797\n",
       "  150     1.578454\n",
       "  104     8.072741\n",
       "  135    -1.218480\n",
       "  137     4.921977\n",
       "  164    -0.733235\n",
       "  76     -6.647512\n",
       "  Name: Vendas, dtype: float64,\n",
       "  'mean_squared_error': 30.620733995242563,\n",
       "  'intercept': 12.31054833403927,\n",
       "  'coef': 0.05975669788026562}}"
      ]
     },
     "execution_count": 120,
     "metadata": {},
     "output_type": "execute_result"
    }
   ],
   "source": [
    "dict_result ## agora temos um dicionario para todos os modelos para cada coluna"
   ]
  },
  {
   "cell_type": "code",
   "execution_count": 122,
   "metadata": {},
   "outputs": [
    {
     "data": {
      "text/plain": [
       "7.329861234097876"
      ]
     },
     "execution_count": 122,
     "metadata": {},
     "output_type": "execute_result"
    }
   ],
   "source": [
    "dict_result[\"TV\"][\"residuo\"].max()"
   ]
  },
  {
   "cell_type": "code",
   "execution_count": 123,
   "metadata": {},
   "outputs": [
    {
     "data": {
      "text/plain": [
       "-6.130860984519417"
      ]
     },
     "execution_count": 123,
     "metadata": {},
     "output_type": "execute_result"
    }
   ],
   "source": [
    "dict_result[\"TV\"][\"residuo\"].min()"
   ]
  },
  {
   "cell_type": "markdown",
   "metadata": {},
   "source": [
    "Aparentemente o modelo não teve um bom desemprenho"
   ]
  },
  {
   "cell_type": "code",
   "execution_count": null,
   "metadata": {},
   "outputs": [],
   "source": [
    "dict_result"
   ]
  },
  {
   "cell_type": "code",
   "execution_count": 182,
   "metadata": {},
   "outputs": [
    {
     "data": {
      "image/png": "[encoded data removed]",
      "text/plain": [
       "<Figure size 864x576 with 1 Axes>"
      ]
     },
     "metadata": {},
     "output_type": "display_data"
    }
   ],
   "source": [
    "# Resetar os índices para garantir que sejam sequenciais\n",
    "X_test = dict_result[\"TV\"][\"X_test\"].reset_index(drop=True)\n",
    "y_test = dict_result[\"TV\"][\"y_test\"].reset_index(drop=True)\n",
    "\n",
    "# Converter séries para arrays numpy\n",
    "X_test_array = X_test.values\n",
    "y_test_array = y_test.values\n",
    "\n",
    "y_pred = dict_result[\"TV\"][\"y_pred\"]\n",
    "\n",
    "# Plotar os dados\n",
    "plt.figure(figsize=(12, 8))\n",
    "plt.scatter(\n",
    "    x=X_test_array,\n",
    "    y=y_test_array,\n",
    "    color=\"blue\",\n",
    "    s=80,\n",
    "    alpha=0.9,\n",
    ")\n",
    "plt.plot(X_test_array, y_pred, color=\"red\", linewidth=2)\n",
    "plt.title(\"Reta de regressão\")\n",
    "plt.ylabel(\"Vendas\")\n",
    "plt.xlabel(\"TV\")\n",
    "plt.show()"
   ]
  },
  {
   "cell_type": "code",
   "execution_count": 183,
   "metadata": {},
   "outputs": [
    {
     "name": "stdout",
     "output_type": "stream",
     "text": [
      "Estatística de teste: 0.9700982570648193\n",
      "p-valor: 0.3624991476535797\n"
     ]
    }
   ],
   "source": [
    "residuos = dict_result[\"TV\"][\"residuo\"].values\n",
    "\n",
    "estatistica, p = shapiro(residuos)\n",
    "print(\"Estatística de teste: {}\".format(estatistica))\n",
    "print(\"p-valor: {}\".format(p))"
   ]
  },
  {
   "cell_type": "markdown",
   "metadata": {},
   "source": [
    "-----"
   ]
  },
  {
   "cell_type": "code",
   "execution_count": 184,
   "metadata": {},
   "outputs": [
    {
     "data": {
      "text/plain": [
       "array([[163.3],\n",
       "       [195.4],\n",
       "       [292.9],\n",
       "       [ 11.7],\n",
       "       [220.3],\n",
       "       [ 75.1],\n",
       "       [216.8],\n",
       "       [ 50. ],\n",
       "       [222.4],\n",
       "       [175.1],\n",
       "       [ 31.5],\n",
       "       [ 56.2],\n",
       "       [234.5],\n",
       "       [  5.4],\n",
       "       [139.5],\n",
       "       [170.2],\n",
       "       [  7.3],\n",
       "       [197.6],\n",
       "       [ 75.3],\n",
       "       [237.4],\n",
       "       [229.5],\n",
       "       [ 67.8],\n",
       "       [ 38. ],\n",
       "       [250.9],\n",
       "       [ 69. ],\n",
       "       [ 53.5],\n",
       "       [213.5],\n",
       "       [139.3],\n",
       "       [ 87.2],\n",
       "       [  8.4],\n",
       "       [199.8],\n",
       "       [ 69.2],\n",
       "       [198.9],\n",
       "       [ 16.9],\n",
       "       [280.7],\n",
       "       [238.2],\n",
       "       [ 48.3],\n",
       "       [273.7],\n",
       "       [117.2],\n",
       "       [ 27.5]])"
      ]
     },
     "execution_count": 184,
     "metadata": {},
     "output_type": "execute_result"
    }
   ],
   "source": [
    "dict_result[\"TV\"][\"X_test\"].values"
   ]
  },
  {
   "cell_type": "code",
   "execution_count": 185,
   "metadata": {},
   "outputs": [
    {
     "data": {
      "text/plain": [
       "95     16.9\n",
       "15     22.4\n",
       "30     21.4\n",
       "158     7.3\n",
       "128    24.7\n",
       "115    12.6\n",
       "69     22.3\n",
       "170     8.4\n",
       "174    11.5\n",
       "45     14.9\n",
       "66      9.5\n",
       "182     8.7\n",
       "165    11.9\n",
       "78      5.3\n",
       "186    10.3\n",
       "177    11.7\n",
       "56      5.5\n",
       "152    16.6\n",
       "82     11.3\n",
       "68     18.9\n",
       "124    19.7\n",
       "16     12.5\n",
       "148    10.9\n",
       "93     22.2\n",
       "65      9.3\n",
       "60      8.1\n",
       "84     21.7\n",
       "67     13.4\n",
       "125    10.6\n",
       "132     5.7\n",
       "9      10.6\n",
       "18     11.3\n",
       "55     23.7\n",
       "75      8.7\n",
       "150    16.1\n",
       "104    20.7\n",
       "135    11.6\n",
       "137    20.8\n",
       "164    11.9\n",
       "76      6.9\n",
       "Name: Vendas, dtype: float64"
      ]
     },
     "execution_count": 185,
     "metadata": {},
     "output_type": "execute_result"
    }
   ],
   "source": [
    "dict_result[\"TV\"][\"y_test\"].T"
   ]
  },
  {
   "cell_type": "code",
   "execution_count": 204,
   "metadata": {},
   "outputs": [
    {
     "data": {
      "text/html": [
       "<div>\n",
       "<style scoped>\n",
       "    .dataframe tbody tr th:only-of-type {\n",
       "        vertical-align: middle;\n",
       "    }\n",
       "\n",
       "    .dataframe tbody tr th {\n",
       "        vertical-align: top;\n",
       "    }\n",
       "\n",
       "    .dataframe thead th {\n",
       "        text-align: right;\n",
       "    }\n",
       "</style>\n",
       "<table border=\"1\" class=\"dataframe\">\n",
       "  <thead>\n",
       "    <tr style=\"text-align: right;\">\n",
       "      <th></th>\n",
       "      <th>TV</th>\n",
       "    </tr>\n",
       "  </thead>\n",
       "  <tbody>\n",
       "    <tr>\n",
       "      <th>95</th>\n",
       "      <td>163.3</td>\n",
       "    </tr>\n",
       "    <tr>\n",
       "      <th>15</th>\n",
       "      <td>195.4</td>\n",
       "    </tr>\n",
       "    <tr>\n",
       "      <th>30</th>\n",
       "      <td>292.9</td>\n",
       "    </tr>\n",
       "    <tr>\n",
       "      <th>158</th>\n",
       "      <td>11.7</td>\n",
       "    </tr>\n",
       "    <tr>\n",
       "      <th>128</th>\n",
       "      <td>220.3</td>\n",
       "    </tr>\n",
       "    <tr>\n",
       "      <th>115</th>\n",
       "      <td>75.1</td>\n",
       "    </tr>\n",
       "    <tr>\n",
       "      <th>69</th>\n",
       "      <td>216.8</td>\n",
       "    </tr>\n",
       "    <tr>\n",
       "      <th>170</th>\n",
       "      <td>50.0</td>\n",
       "    </tr>\n",
       "    <tr>\n",
       "      <th>174</th>\n",
       "      <td>222.4</td>\n",
       "    </tr>\n",
       "    <tr>\n",
       "      <th>45</th>\n",
       "      <td>175.1</td>\n",
       "    </tr>\n",
       "    <tr>\n",
       "      <th>66</th>\n",
       "      <td>31.5</td>\n",
       "    </tr>\n",
       "    <tr>\n",
       "      <th>182</th>\n",
       "      <td>56.2</td>\n",
       "    </tr>\n",
       "    <tr>\n",
       "      <th>165</th>\n",
       "      <td>234.5</td>\n",
       "    </tr>\n",
       "    <tr>\n",
       "      <th>78</th>\n",
       "      <td>5.4</td>\n",
       "    </tr>\n",
       "    <tr>\n",
       "      <th>186</th>\n",
       "      <td>139.5</td>\n",
       "    </tr>\n",
       "    <tr>\n",
       "      <th>177</th>\n",
       "      <td>170.2</td>\n",
       "    </tr>\n",
       "    <tr>\n",
       "      <th>56</th>\n",
       "      <td>7.3</td>\n",
       "    </tr>\n",
       "    <tr>\n",
       "      <th>152</th>\n",
       "      <td>197.6</td>\n",
       "    </tr>\n",
       "    <tr>\n",
       "      <th>82</th>\n",
       "      <td>75.3</td>\n",
       "    </tr>\n",
       "    <tr>\n",
       "      <th>68</th>\n",
       "      <td>237.4</td>\n",
       "    </tr>\n",
       "    <tr>\n",
       "      <th>124</th>\n",
       "      <td>229.5</td>\n",
       "    </tr>\n",
       "    <tr>\n",
       "      <th>16</th>\n",
       "      <td>67.8</td>\n",
       "    </tr>\n",
       "    <tr>\n",
       "      <th>148</th>\n",
       "      <td>38.0</td>\n",
       "    </tr>\n",
       "    <tr>\n",
       "      <th>93</th>\n",
       "      <td>250.9</td>\n",
       "    </tr>\n",
       "    <tr>\n",
       "      <th>65</th>\n",
       "      <td>69.0</td>\n",
       "    </tr>\n",
       "    <tr>\n",
       "      <th>60</th>\n",
       "      <td>53.5</td>\n",
       "    </tr>\n",
       "    <tr>\n",
       "      <th>84</th>\n",
       "      <td>213.5</td>\n",
       "    </tr>\n",
       "    <tr>\n",
       "      <th>67</th>\n",
       "      <td>139.3</td>\n",
       "    </tr>\n",
       "    <tr>\n",
       "      <th>125</th>\n",
       "      <td>87.2</td>\n",
       "    </tr>\n",
       "    <tr>\n",
       "      <th>132</th>\n",
       "      <td>8.4</td>\n",
       "    </tr>\n",
       "    <tr>\n",
       "      <th>9</th>\n",
       "      <td>199.8</td>\n",
       "    </tr>\n",
       "    <tr>\n",
       "      <th>18</th>\n",
       "      <td>69.2</td>\n",
       "    </tr>\n",
       "    <tr>\n",
       "      <th>55</th>\n",
       "      <td>198.9</td>\n",
       "    </tr>\n",
       "    <tr>\n",
       "      <th>75</th>\n",
       "      <td>16.9</td>\n",
       "    </tr>\n",
       "    <tr>\n",
       "      <th>150</th>\n",
       "      <td>280.7</td>\n",
       "    </tr>\n",
       "    <tr>\n",
       "      <th>104</th>\n",
       "      <td>238.2</td>\n",
       "    </tr>\n",
       "    <tr>\n",
       "      <th>135</th>\n",
       "      <td>48.3</td>\n",
       "    </tr>\n",
       "    <tr>\n",
       "      <th>137</th>\n",
       "      <td>273.7</td>\n",
       "    </tr>\n",
       "    <tr>\n",
       "      <th>164</th>\n",
       "      <td>117.2</td>\n",
       "    </tr>\n",
       "    <tr>\n",
       "      <th>76</th>\n",
       "      <td>27.5</td>\n",
       "    </tr>\n",
       "  </tbody>\n",
       "</table>\n",
       "</div>"
      ],
      "text/plain": [
       "        TV\n",
       "95   163.3\n",
       "15   195.4\n",
       "30   292.9\n",
       "158   11.7\n",
       "128  220.3\n",
       "115   75.1\n",
       "69   216.8\n",
       "170   50.0\n",
       "174  222.4\n",
       "45   175.1\n",
       "66    31.5\n",
       "182   56.2\n",
       "165  234.5\n",
       "78     5.4\n",
       "186  139.5\n",
       "177  170.2\n",
       "56     7.3\n",
       "152  197.6\n",
       "82    75.3\n",
       "68   237.4\n",
       "124  229.5\n",
       "16    67.8\n",
       "148   38.0\n",
       "93   250.9\n",
       "65    69.0\n",
       "60    53.5\n",
       "84   213.5\n",
       "67   139.3\n",
       "125   87.2\n",
       "132    8.4\n",
       "9    199.8\n",
       "18    69.2\n",
       "55   198.9\n",
       "75    16.9\n",
       "150  280.7\n",
       "104  238.2\n",
       "135   48.3\n",
       "137  273.7\n",
       "164  117.2\n",
       "76    27.5"
      ]
     },
     "execution_count": 204,
     "metadata": {},
     "output_type": "execute_result"
    }
   ],
   "source": [
    "df_t = pd.DataFrame(dict_result)\n",
    "df_t.TV.X_test"
   ]
  },
  {
   "cell_type": "code",
   "execution_count": 205,
   "metadata": {},
   "outputs": [
    {
     "data": {
      "text/plain": [
       "95     16.9\n",
       "15     22.4\n",
       "30     21.4\n",
       "158     7.3\n",
       "128    24.7\n",
       "115    12.6\n",
       "69     22.3\n",
       "170     8.4\n",
       "174    11.5\n",
       "45     14.9\n",
       "66      9.5\n",
       "182     8.7\n",
       "165    11.9\n",
       "78      5.3\n",
       "186    10.3\n",
       "177    11.7\n",
       "56      5.5\n",
       "152    16.6\n",
       "82     11.3\n",
       "68     18.9\n",
       "124    19.7\n",
       "16     12.5\n",
       "148    10.9\n",
       "93     22.2\n",
       "65      9.3\n",
       "60      8.1\n",
       "84     21.7\n",
       "67     13.4\n",
       "125    10.6\n",
       "132     5.7\n",
       "9      10.6\n",
       "18     11.3\n",
       "55     23.7\n",
       "75      8.7\n",
       "150    16.1\n",
       "104    20.7\n",
       "135    11.6\n",
       "137    20.8\n",
       "164    11.9\n",
       "76      6.9\n",
       "Name: Vendas, dtype: float64"
      ]
     },
     "execution_count": 205,
     "metadata": {},
     "output_type": "execute_result"
    }
   ],
   "source": [
    "df_t.TV.y_test"
   ]
  },
  {
   "cell_type": "code",
   "execution_count": 214,
   "metadata": {},
   "outputs": [
    {
     "data": {
      "text/html": [
       "<div>\n",
       "<style scoped>\n",
       "    .dataframe tbody tr th:only-of-type {\n",
       "        vertical-align: middle;\n",
       "    }\n",
       "\n",
       "    .dataframe tbody tr th {\n",
       "        vertical-align: top;\n",
       "    }\n",
       "\n",
       "    .dataframe thead th {\n",
       "        text-align: right;\n",
       "    }\n",
       "</style>\n",
       "<table border=\"1\" class=\"dataframe\">\n",
       "  <thead>\n",
       "    <tr style=\"text-align: right;\">\n",
       "      <th></th>\n",
       "      <th>TV</th>\n",
       "      <th>Radio</th>\n",
       "      <th>Jornal</th>\n",
       "      <th>Vendas</th>\n",
       "    </tr>\n",
       "  </thead>\n",
       "  <tbody>\n",
       "    <tr>\n",
       "      <th>0</th>\n",
       "      <td>230.1</td>\n",
       "      <td>37.8</td>\n",
       "      <td>69.2</td>\n",
       "      <td>22.1</td>\n",
       "    </tr>\n",
       "    <tr>\n",
       "      <th>1</th>\n",
       "      <td>44.5</td>\n",
       "      <td>39.3</td>\n",
       "      <td>45.1</td>\n",
       "      <td>10.4</td>\n",
       "    </tr>\n",
       "    <tr>\n",
       "      <th>2</th>\n",
       "      <td>17.2</td>\n",
       "      <td>45.9</td>\n",
       "      <td>69.3</td>\n",
       "      <td>9.3</td>\n",
       "    </tr>\n",
       "    <tr>\n",
       "      <th>3</th>\n",
       "      <td>151.5</td>\n",
       "      <td>41.3</td>\n",
       "      <td>58.5</td>\n",
       "      <td>18.5</td>\n",
       "    </tr>\n",
       "    <tr>\n",
       "      <th>4</th>\n",
       "      <td>180.8</td>\n",
       "      <td>10.8</td>\n",
       "      <td>58.4</td>\n",
       "      <td>12.9</td>\n",
       "    </tr>\n",
       "    <tr>\n",
       "      <th>...</th>\n",
       "      <td>...</td>\n",
       "      <td>...</td>\n",
       "      <td>...</td>\n",
       "      <td>...</td>\n",
       "    </tr>\n",
       "    <tr>\n",
       "      <th>195</th>\n",
       "      <td>38.2</td>\n",
       "      <td>3.7</td>\n",
       "      <td>13.8</td>\n",
       "      <td>7.6</td>\n",
       "    </tr>\n",
       "    <tr>\n",
       "      <th>196</th>\n",
       "      <td>94.2</td>\n",
       "      <td>4.9</td>\n",
       "      <td>8.1</td>\n",
       "      <td>9.7</td>\n",
       "    </tr>\n",
       "    <tr>\n",
       "      <th>197</th>\n",
       "      <td>177.0</td>\n",
       "      <td>9.3</td>\n",
       "      <td>6.4</td>\n",
       "      <td>12.8</td>\n",
       "    </tr>\n",
       "    <tr>\n",
       "      <th>198</th>\n",
       "      <td>283.6</td>\n",
       "      <td>42.0</td>\n",
       "      <td>66.2</td>\n",
       "      <td>25.5</td>\n",
       "    </tr>\n",
       "    <tr>\n",
       "      <th>199</th>\n",
       "      <td>232.1</td>\n",
       "      <td>8.6</td>\n",
       "      <td>8.7</td>\n",
       "      <td>13.4</td>\n",
       "    </tr>\n",
       "  </tbody>\n",
       "</table>\n",
       "<p>200 rows × 4 columns</p>\n",
       "</div>"
      ],
      "text/plain": [
       "        TV  Radio  Jornal  Vendas\n",
       "0    230.1   37.8    69.2    22.1\n",
       "1     44.5   39.3    45.1    10.4\n",
       "2     17.2   45.9    69.3     9.3\n",
       "3    151.5   41.3    58.5    18.5\n",
       "4    180.8   10.8    58.4    12.9\n",
       "..     ...    ...     ...     ...\n",
       "195   38.2    3.7    13.8     7.6\n",
       "196   94.2    4.9     8.1     9.7\n",
       "197  177.0    9.3     6.4    12.8\n",
       "198  283.6   42.0    66.2    25.5\n",
       "199  232.1    8.6     8.7    13.4\n",
       "\n",
       "[200 rows x 4 columns]"
      ]
     },
     "execution_count": 214,
     "metadata": {},
     "output_type": "execute_result"
    }
   ],
   "source": [
    "df"
   ]
  },
  {
   "cell_type": "code",
   "execution_count": 215,
   "metadata": {},
   "outputs": [],
   "source": [
    "df_treino, df_test = train_test_split(df, test_size=0.2, random_state=42)\n",
    "\n",
    "regressao = smf.ols(\"TV ~ Vendas\", data=df_treino).fit()\n"
   ]
  },
  {
   "cell_type": "code",
   "execution_count": 216,
   "metadata": {},
   "outputs": [
    {
     "data": {
      "text/plain": [
       "79       5.366559\n",
       "197     43.497307\n",
       "38     -56.098815\n",
       "24     -31.816759\n",
       "122    105.743475\n",
       "          ...    \n",
       "106    -37.353909\n",
       "14      -8.174561\n",
       "92       0.343383\n",
       "179     34.638335\n",
       "102    121.287027\n",
       "Length: 160, dtype: float64"
      ]
     },
     "execution_count": 216,
     "metadata": {},
     "output_type": "execute_result"
    }
   ],
   "source": [
    "residuos = regressao.resid\n",
    "residuos"
   ]
  },
  {
   "cell_type": "code",
   "execution_count": 217,
   "metadata": {},
   "outputs": [
    {
     "name": "stdout",
     "output_type": "stream",
     "text": [
      "Estatística de teste: 0.9369369149208069\n",
      "p-valor: 1.58428542818001e-06\n"
     ]
    }
   ],
   "source": [
    "estatistica, p = shapiro(residuos)\n",
    "print(\"Estatística de teste: {}\".format(estatistica))\n",
    "print(\"p-valor: {}\".format(p))"
   ]
  },
  {
   "cell_type": "code",
   "execution_count": 218,
   "metadata": {},
   "outputs": [],
   "source": [
    "outliers = regressao.outlier_test()"
   ]
  },
  {
   "cell_type": "code",
   "execution_count": 219,
   "metadata": {},
   "outputs": [
    {
     "data": {
      "text/plain": [
       "student_resid    2.984831\n",
       "unadj_p          0.998773\n",
       "bonf(p)          1.000000\n",
       "dtype: float64"
      ]
     },
     "execution_count": 219,
     "metadata": {},
     "output_type": "execute_result"
    }
   ],
   "source": [
    "outliers.max()"
   ]
  },
  {
   "cell_type": "code",
   "execution_count": 220,
   "metadata": {},
   "outputs": [
    {
     "data": {
      "text/plain": [
       "student_resid   -1.543355\n",
       "unadj_p          0.003292\n",
       "bonf(p)          0.526705\n",
       "dtype: float64"
      ]
     },
     "execution_count": 220,
     "metadata": {},
     "output_type": "execute_result"
    }
   ],
   "source": [
    "outliers.min()"
   ]
  },
  {
   "cell_type": "code",
   "execution_count": 221,
   "metadata": {},
   "outputs": [
    {
     "name": "stdout",
     "output_type": "stream",
     "text": [
      "                            OLS Regression Results                            \n",
      "==============================================================================\n",
      "Dep. Variable:                     TV   R-squared:                       0.591\n",
      "Model:                            OLS   Adj. R-squared:                  0.589\n",
      "Method:                 Least Squares   F-statistic:                     228.5\n",
      "Date:                Mon, 11 Dec 2023   Prob (F-statistic):           1.68e-32\n",
      "Time:                        20:45:12   Log-Likelihood:                -864.70\n",
      "No. Observations:                 160   AIC:                             1733.\n",
      "Df Residuals:                     158   BIC:                             1740.\n",
      "Df Model:                           1                                         \n",
      "Covariance Type:            nonrobust                                         \n",
      "==============================================================================\n",
      "                 coef    std err          t      P>|t|      [0.025      0.975]\n",
      "------------------------------------------------------------------------------\n",
      "Intercept    -29.1231     12.601     -2.311      0.022     -54.012      -4.234\n",
      "Vendas        12.7051      0.841     15.115      0.000      11.045      14.365\n",
      "==============================================================================\n",
      "Omnibus:                       17.126   Durbin-Watson:                   2.111\n",
      "Prob(Omnibus):                  0.000   Jarque-Bera (JB):               19.748\n",
      "Skew:                           0.856   Prob(JB):                     5.15e-05\n",
      "Kurtosis:                       3.176   Cond. No.                         44.3\n",
      "==============================================================================\n",
      "\n",
      "Notes:\n",
      "[1] Standard Errors assume that the covariance matrix of the errors is correctly specified.\n"
     ]
    }
   ],
   "source": [
    "print(regressao.summary())"
   ]
  },
  {
   "cell_type": "code",
   "execution_count": 224,
   "metadata": {},
   "outputs": [
    {
     "data": {
      "image/png": "[encoded data removed]",
      "text/plain": [
       "<Figure size 864x576 with 1 Axes>"
      ]
     },
     "metadata": {},
     "output_type": "display_data"
    }
   ],
   "source": [
    "plt.figure(figsize=(12, 8))\n",
    "plt.scatter(y=df_test.TV, x=df_test.Vendas, color=\"blue\", s=80, alpha=0.9)\n",
    "X_plot = np.linspace(0, 27)\n",
    "plt.plot(X_plot, X_plot * regressao.params[1] + regressao.params[0], color=\"r\")\n",
    "plt.title(\"Reta de regressão\")\n",
    "plt.ylabel(\"TV\")\n",
    "plt.xlabel(\"Vendas\")\n",
    "plt.show()"
   ]
  },
  {
   "cell_type": "markdown",
   "metadata": {},
   "source": [
    "Dividi os dados nos mesmo 20% para treino e 80% teste porem aparentemente para esses dados fazendo a regressão estatistica e a regressão de machine learning a de estatistica teve menos residuos "
   ]
  }
 ],
 "metadata": {
  "kernelspec": {
   "display_name": "base",
   "language": "python",
   "name": "python3"
  },
  "language_info": {
   "codemirror_mode": {
    "name": "ipython",
    "version": 3
   },
   "file_extension": ".py",
   "mimetype": "text/x-python",
   "name": "python",
   "nbconvert_exporter": "python",
   "pygments_lexer": "ipython3",
   "version": "3.9.12"
  }
 },
 "nbformat": 4,
 "nbformat_minor": 2
}
