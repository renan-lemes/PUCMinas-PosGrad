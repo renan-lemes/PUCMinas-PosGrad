{
 "cells": [
  {
   "cell_type": "code",
   "execution_count": null,
   "metadata": {
    "id": "8oKI973OBhVj"
   },
   "outputs": [],
   "source": [
    "%pip install seaborn==0.12.2"
   ]
  },
  {
   "cell_type": "markdown",
   "metadata": {
    "id": "c2zB7Q7-BmZH"
   },
   "source": [
    "# Carregando o dado\n",
    "\n",
    "  * method — método que o planeta foi descoberto.\n",
    "  * orbital period - periodo necessário para uma volta completa do seu centro.\n",
    "  * massa - peso relativo do planeta\n",
    "  * distancia - distancia em anos-luz da Terra"
   ]
  },
  {
   "cell_type": "code",
   "execution_count": null,
   "metadata": {
    "id": "sN6zFn6Vxyot"
   },
   "outputs": [],
   "source": [
    "import pandas as pd\n",
    "import seaborn as sns\n",
    "import numpy as np\n",
    "planets = sns.load_dataset('planets')"
   ]
  },
  {
   "cell_type": "code",
   "execution_count": null,
   "metadata": {
    "id": "EOgyz5V2x0rb"
   },
   "outputs": [],
   "source": [
    "planets.head()"
   ]
  },
  {
   "cell_type": "code",
   "execution_count": null,
   "metadata": {
    "id": "eXstgCeRx9bQ"
   },
   "outputs": [],
   "source": [
    "##quantidade de vazios\n",
    "planets.isnull().sum()"
   ]
  },
  {
   "cell_type": "code",
   "execution_count": null,
   "metadata": {
    "id": "WG8iWfE2x86j"
   },
   "outputs": [],
   "source": [
    "planets.describe()"
   ]
  },
  {
   "cell_type": "code",
   "execution_count": null,
   "metadata": {
    "id": "3xnU6Ov8yEr7"
   },
   "outputs": [],
   "source": [
    "planets.dropna().describe()"
   ]
  },
  {
   "cell_type": "markdown",
   "metadata": {
    "id": "AWp9gBwcBshn"
   },
   "source": [
    "# Agrupamento"
   ]
  },
  {
   "cell_type": "code",
   "execution_count": null,
   "metadata": {
    "id": "_fzsRWCVyOSy"
   },
   "outputs": [],
   "source": [
    "planets.groupby('method')['distance']"
   ]
  },
  {
   "cell_type": "code",
   "execution_count": null,
   "metadata": {
    "id": "2OjfgntcyUit"
   },
   "outputs": [],
   "source": [
    "planets.groupby('method')['distance'].sum()"
   ]
  },
  {
   "cell_type": "code",
   "execution_count": null,
   "metadata": {
    "id": "L_UnkpSzyYE6"
   },
   "outputs": [],
   "source": [
    "planets.groupby('method')['distance'].describe()"
   ]
  },
  {
   "cell_type": "markdown",
   "metadata": {
    "id": "Nl0lFOziy7XZ"
   },
   "source": [
    "## Iterando em método agrupado"
   ]
  },
  {
   "cell_type": "code",
   "execution_count": null,
   "metadata": {
    "id": "Khr5YWZlyjBi"
   },
   "outputs": [],
   "source": [
    "for method, group in planets.groupby('method'):\n",
    "  print(f'Metodo: {method}')\n",
    "  print(group.head())\n",
    "  print('--------------')"
   ]
  },
  {
   "cell_type": "markdown",
   "metadata": {
    "id": "ZN72HZ1yzMD_"
   },
   "source": [
    "## Agregação"
   ]
  },
  {
   "cell_type": "code",
   "execution_count": null,
   "metadata": {
    "id": "-RaxQM7xzYXJ"
   },
   "outputs": [],
   "source": [
    "def calcula_cv(series):\n",
    "  std = series.std()\n",
    "  if np.isnan(std) or std == 0:\n",
    "    return np.nan\n",
    "  else:\n",
    "    return series.mean()/series.std()"
   ]
  },
  {
   "cell_type": "code",
   "execution_count": null,
   "metadata": {
    "id": "euagVQp1zOz-"
   },
   "outputs": [],
   "source": [
    "planets.groupby('method')['distance'].agg(['min', 'max', calcula_cv])"
   ]
  },
  {
   "cell_type": "code",
   "execution_count": null,
   "metadata": {
    "id": "cwLQPBRPz-Hh"
   },
   "outputs": [],
   "source": [
    "planets.groupby('method').agg(['min', 'max', calcula_cv])"
   ]
  },
  {
   "cell_type": "code",
   "execution_count": null,
   "metadata": {
    "id": "_ryrmkbW0FHL"
   },
   "outputs": [],
   "source": [
    "planets.columns"
   ]
  },
  {
   "cell_type": "code",
   "execution_count": null,
   "metadata": {
    "id": "-fe4-2tb0B4J"
   },
   "outputs": [],
   "source": [
    "planets.groupby('method').agg({'orbital_period': min,\n",
    "                               'mass': calcula_cv})"
   ]
  },
  {
   "cell_type": "markdown",
   "metadata": {
    "id": "75_yUUvk0Rd0"
   },
   "source": [
    "## Filtro"
   ]
  },
  {
   "cell_type": "code",
   "execution_count": null,
   "metadata": {
    "id": "ZsLHwUOA0crd"
   },
   "outputs": [],
   "source": [
    "def filtra_desvio(df):\n",
    "  return df['orbital_period'].std() > 10000"
   ]
  },
  {
   "cell_type": "code",
   "execution_count": null,
   "metadata": {
    "id": "zrQ7QceA0n4W"
   },
   "outputs": [],
   "source": [
    "planets.groupby('method').orbital_period.std()"
   ]
  },
  {
   "cell_type": "code",
   "execution_count": null,
   "metadata": {
    "id": "dYL4vWar0uSt"
   },
   "outputs": [],
   "source": [
    "planets.groupby('method').filter(filtra_desvio)"
   ]
  },
  {
   "cell_type": "markdown",
   "metadata": {
    "id": "OYmqF6hI1FTY"
   },
   "source": [
    "## Transform"
   ]
  },
  {
   "cell_type": "code",
   "execution_count": null,
   "metadata": {
    "id": "yTdR96OY1N9g"
   },
   "outputs": [],
   "source": [
    "planets.groupby('method').transform(lambda x: x -x.mean())"
   ]
  },
  {
   "cell_type": "markdown",
   "metadata": {
    "id": "eWK1lOP91V9c"
   },
   "source": [
    "## Apply"
   ]
  },
  {
   "cell_type": "code",
   "execution_count": null,
   "metadata": {
    "id": "9tj-7t9-17jI"
   },
   "outputs": [],
   "source": [
    "planets[['mass', 'distance']]"
   ]
  },
  {
   "cell_type": "code",
   "execution_count": null,
   "metadata": {
    "id": "l6dpBgs02Auz"
   },
   "outputs": [],
   "source": [
    "planets[['mass', 'distance']].sum(axis=0)"
   ]
  },
  {
   "cell_type": "code",
   "execution_count": null,
   "metadata": {
    "id": "Dsn-8cbh1e3l"
   },
   "outputs": [],
   "source": [
    "planets[['mass', 'distance']].apply(lambda x: x - x.sum(), axis=0)"
   ]
  },
  {
   "cell_type": "code",
   "execution_count": null,
   "metadata": {
    "id": "ypxxPsdM2FRZ"
   },
   "outputs": [],
   "source": [
    "planets[['mass', 'distance']].apply(lambda x: x - x.sum(), axis=1)"
   ]
  },
  {
   "cell_type": "code",
   "execution_count": null,
   "metadata": {
    "id": "MLBTxXqT2s8X"
   },
   "outputs": [],
   "source": [
    "planets.groupby('method').distance.mean()"
   ]
  },
  {
   "cell_type": "code",
   "execution_count": null,
   "metadata": {
    "id": "GB4wWBCZ4XZk"
   },
   "outputs": [],
   "source": [
    "planets.groupby('method').apply(lambda x: x/x.sum())\n",
    "\n"
   ]
  },
  {
   "cell_type": "code",
   "execution_count": null,
   "metadata": {
    "id": "Xccg7XFz3qLS"
   },
   "outputs": [],
   "source": [
    "planets.groupby('method', group_keys=True).apply(lambda x: x/x.sum())"
   ]
  },
  {
   "cell_type": "markdown",
   "metadata": {
    "id": "sqWQKy9F4fva"
   },
   "source": [
    "## Diff"
   ]
  },
  {
   "cell_type": "code",
   "execution_count": null,
   "metadata": {
    "id": "1uWT5YZg4hRO"
   },
   "outputs": [],
   "source": [
    "planets.groupby('method').diff()"
   ]
  },
  {
   "cell_type": "code",
   "execution_count": null,
   "metadata": {
    "id": "LVB8PBvf4nwr"
   },
   "outputs": [],
   "source": [
    "planets['diff'] = planets.groupby('method').distance.diff()"
   ]
  },
  {
   "cell_type": "code",
   "execution_count": null,
   "metadata": {
    "id": "ud-itI6B4tBT"
   },
   "outputs": [],
   "source": [
    "planets[['method', 'diff', 'distance']]"
   ]
  }
 ],
 "metadata": {
  "colab": {
   "provenance": []
  },
  "kernelspec": {
   "display_name": "Python 3 (ipykernel)",
   "language": "python",
   "name": "python3"
  },
  "language_info": {
   "codemirror_mode": {
    "name": "ipython",
    "version": 3
   },
   "file_extension": ".py",
   "mimetype": "text/x-python",
   "name": "python",
   "nbconvert_exporter": "python",
   "pygments_lexer": "ipython3",
   "version": "3.10.8"
  }
 },
 "nbformat": 4,
 "nbformat_minor": 1
}
