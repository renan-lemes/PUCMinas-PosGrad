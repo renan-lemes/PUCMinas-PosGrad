{
 "cells": [
  {
   "cell_type": "code",
   "execution_count": null,
   "metadata": {
    "id": "sVDe2CQ1ax2-"
   },
   "outputs": [],
   "source": [
    "import pandas as pd\n",
    "import numpy as np"
   ]
  },
  {
   "cell_type": "markdown",
   "metadata": {
    "id": "xzQkiJnPa2ZD"
   },
   "source": [
    "# Objetos em Pandas\n",
    "## Series"
   ]
  },
  {
   "cell_type": "code",
   "execution_count": null,
   "metadata": {
    "colab": {
     "base_uri": "https://localhost:8080/"
    },
    "id": "IlIHB3qQa4Y0",
    "outputId": "ddf8c186-7c87-47af-d494-bdd7def98247"
   },
   "outputs": [],
   "source": [
    "series = pd.Series(np.arange(0, 1, 0.25))\n",
    "series"
   ]
  },
  {
   "cell_type": "code",
   "execution_count": null,
   "metadata": {
    "colab": {
     "base_uri": "https://localhost:8080/"
    },
    "id": "9bqpNNObbEFJ",
    "outputId": "a4fb32d3-9b2f-4339-affe-1727b653eeaa"
   },
   "outputs": [],
   "source": [
    "series.values"
   ]
  },
  {
   "cell_type": "code",
   "execution_count": null,
   "metadata": {
    "colab": {
     "base_uri": "https://localhost:8080/"
    },
    "id": "z5uaLk8JbHIz",
    "outputId": "c9cb662f-32ac-4f64-a079-ec6a44a6c92b"
   },
   "outputs": [],
   "source": [
    "series.index"
   ]
  },
  {
   "cell_type": "code",
   "execution_count": null,
   "metadata": {
    "colab": {
     "base_uri": "https://localhost:8080/"
    },
    "id": "pa5yBIIQbLjr",
    "outputId": "99fad89b-ea2f-4e97-ec22-3715a2505f01"
   },
   "outputs": [],
   "source": [
    "series[0]"
   ]
  },
  {
   "cell_type": "code",
   "execution_count": null,
   "metadata": {
    "colab": {
     "base_uri": "https://localhost:8080/"
    },
    "id": "sJp1xv8zbNBv",
    "outputId": "636776fd-c6c1-4de3-ad2f-efba7f594e76"
   },
   "outputs": [],
   "source": [
    "series[0:2]"
   ]
  },
  {
   "cell_type": "code",
   "execution_count": null,
   "metadata": {
    "colab": {
     "base_uri": "https://localhost:8080/"
    },
    "id": "6nd6hGFObR-q",
    "outputId": "273448ed-162d-4c1b-c460-90dc641d5c7f"
   },
   "outputs": [],
   "source": [
    "##Indexação da serie\n",
    "series = pd.Series(np.arange(0, 1, 0.25),\n",
    "                   index=['a', 'b', 'c', 'd'])\n",
    "series"
   ]
  },
  {
   "cell_type": "code",
   "execution_count": null,
   "metadata": {
    "colab": {
     "base_uri": "https://localhost:8080/"
    },
    "id": "5e4NCEnHbZEa",
    "outputId": "d8a83e6a-fbf9-4c7b-a776-baac7fc01604"
   },
   "outputs": [],
   "source": [
    "series[0:2]"
   ]
  },
  {
   "cell_type": "code",
   "execution_count": null,
   "metadata": {
    "colab": {
     "base_uri": "https://localhost:8080/"
    },
    "id": "ZLMa7nIPbblJ",
    "outputId": "ff59299c-c0f2-4d64-cc75-8db63ac92153"
   },
   "outputs": [],
   "source": [
    "series['b']"
   ]
  },
  {
   "cell_type": "code",
   "execution_count": null,
   "metadata": {
    "colab": {
     "base_uri": "https://localhost:8080/"
    },
    "id": "AlSIsx6_bgaR",
    "outputId": "1caa6586-6fc0-4b94-aee9-be7fdcccdf76"
   },
   "outputs": [],
   "source": [
    "series = pd.Series(np.arange(0, 1, 0.25),\n",
    "                   index=[2, 3, 4, 5])\n",
    "series"
   ]
  },
  {
   "cell_type": "code",
   "execution_count": null,
   "metadata": {
    "colab": {
     "base_uri": "https://localhost:8080/"
    },
    "id": "BCoEv5MMbjSR",
    "outputId": "ef30f4ed-058c-485d-e26e-0520630b161b"
   },
   "outputs": [],
   "source": [
    "series[0:2]"
   ]
  },
  {
   "cell_type": "code",
   "execution_count": null,
   "metadata": {
    "colab": {
     "base_uri": "https://localhost:8080/"
    },
    "id": "iprnTyPEbolI",
    "outputId": "63c4c765-154d-40af-f704-08ddea93d93c"
   },
   "outputs": [],
   "source": [
    "series[4]"
   ]
  },
  {
   "cell_type": "code",
   "execution_count": null,
   "metadata": {
    "colab": {
     "base_uri": "https://localhost:8080/"
    },
    "id": "K0DDdZVNblI4",
    "outputId": "fedd28f5-548f-428a-f6f6-cef9b73dda18"
   },
   "outputs": [],
   "source": [
    "series[2]"
   ]
  },
  {
   "cell_type": "code",
   "execution_count": null,
   "metadata": {
    "colab": {
     "base_uri": "https://localhost:8080/"
    },
    "id": "tw9eUpWob-8B",
    "outputId": "f73bd045-7f5c-4542-ea7d-c1a1ae375a94"
   },
   "outputs": [],
   "source": [
    "##podemos criar a partir de um dicionário\n",
    "populacao_dict = {'California': 38332521,\n",
    "'Texas': 26448193,\n",
    "'New York': 19651127,\n",
    "'Florida': 19552860,\n",
    "'Illinois': 12882135}\n",
    "populacao = pd.Series(populacao_dict)\n",
    "populacao"
   ]
  },
  {
   "cell_type": "code",
   "execution_count": null,
   "metadata": {
    "colab": {
     "base_uri": "https://localhost:8080/"
    },
    "id": "GF-W2mCPcD6H",
    "outputId": "f1c775d4-0001-446d-a593-ce833bdcdde5"
   },
   "outputs": [],
   "source": [
    "pd.Series({2:'a', 1:'b', 3:'c'})"
   ]
  },
  {
   "cell_type": "code",
   "execution_count": null,
   "metadata": {
    "colab": {
     "base_uri": "https://localhost:8080/"
    },
    "id": "QDyVHKercN58",
    "outputId": "b5bfee6d-56b6-447f-dc4a-5b7264ae1e83"
   },
   "outputs": [],
   "source": [
    "pd.Series({2:'a', 1:'b', 3:'c'}, index=[2,1])"
   ]
  },
  {
   "cell_type": "markdown",
   "metadata": {
    "id": "28U01EHDfEQp"
   },
   "source": [
    "## DataFrame"
   ]
  },
  {
   "cell_type": "code",
   "execution_count": null,
   "metadata": {
    "colab": {
     "base_uri": "https://localhost:8080/"
    },
    "id": "hqh6_T1nfFl0",
    "outputId": "fb3ce093-d92a-4cb2-a176-96e0c23573d0"
   },
   "outputs": [],
   "source": [
    "area_dict = {'California': 423967, 'Texas': 695662, 'New York': 141297,\n",
    "'Florida': 170312, 'Illinois': 149995}\n",
    "area = pd.Series(area_dict)\n",
    "area"
   ]
  },
  {
   "cell_type": "code",
   "execution_count": null,
   "metadata": {
    "colab": {
     "base_uri": "https://localhost:8080/",
     "height": 206
    },
    "id": "i0bikn5kfQKe",
    "outputId": "b1045373-b2e5-412e-96f4-b131804bec22"
   },
   "outputs": [],
   "source": [
    "estados = pd.DataFrame({'populacao': populacao,\n",
    "'area': area})\n",
    "estados"
   ]
  },
  {
   "cell_type": "code",
   "execution_count": null,
   "metadata": {
    "colab": {
     "base_uri": "https://localhost:8080/"
    },
    "id": "71BJ-0u-fWng",
    "outputId": "7609b6a8-ee00-4364-e986-3d455e975097"
   },
   "outputs": [],
   "source": [
    "estados['area']"
   ]
  },
  {
   "cell_type": "code",
   "execution_count": null,
   "metadata": {
    "colab": {
     "base_uri": "https://localhost:8080/"
    },
    "id": "atQURA3ZfSRn",
    "outputId": "d840b0b8-a0cc-43d9-a8b3-1fd1c27d1703"
   },
   "outputs": [],
   "source": [
    "estados.index"
   ]
  },
  {
   "cell_type": "code",
   "execution_count": null,
   "metadata": {
    "colab": {
     "base_uri": "https://localhost:8080/"
    },
    "id": "7CmU1_l9fTMm",
    "outputId": "d281d915-c6ea-4340-c047-5b2e2318c631"
   },
   "outputs": [],
   "source": [
    "estados.columns"
   ]
  },
  {
   "cell_type": "code",
   "execution_count": null,
   "metadata": {
    "colab": {
     "base_uri": "https://localhost:8080/"
    },
    "id": "JjaXlZEnftW3",
    "outputId": "8ea23cf2-1cb7-4d10-f174-f5582b8be982"
   },
   "outputs": [],
   "source": [
    "estados.columns.to_list()"
   ]
  },
  {
   "cell_type": "code",
   "execution_count": null,
   "metadata": {
    "colab": {
     "base_uri": "https://localhost:8080/",
     "height": 206
    },
    "id": "l6MG8aJ8fyFK",
    "outputId": "461bab85-7c5f-4563-915e-bec036fff965"
   },
   "outputs": [],
   "source": [
    "##Criando DataFrame de uma série\n",
    "pd.DataFrame(populacao)"
   ]
  },
  {
   "cell_type": "code",
   "execution_count": null,
   "metadata": {
    "colab": {
     "base_uri": "https://localhost:8080/",
     "height": 206
    },
    "id": "uTm_wS8zgN-u",
    "outputId": "49b4d467-dc38-4e9d-ece0-4983759e084e"
   },
   "outputs": [],
   "source": [
    "pd.DataFrame(populacao, columns=['pop'])"
   ]
  },
  {
   "cell_type": "code",
   "execution_count": null,
   "metadata": {
    "colab": {
     "base_uri": "https://localhost:8080/"
    },
    "id": "ppoF7zEegRel",
    "outputId": "8f189710-10b5-4532-a751-e6865cf68c7b"
   },
   "outputs": [],
   "source": [
    "## Lista de dicionários\n",
    "\n",
    "dados = [{'col_1': i, 'col_2': 3*i} for i in range(5)]\n",
    "dados"
   ]
  },
  {
   "cell_type": "code",
   "execution_count": null,
   "metadata": {
    "colab": {
     "base_uri": "https://localhost:8080/",
     "height": 206
    },
    "id": "kO0j9UGUgc1l",
    "outputId": "b0ff4c0f-70ae-41dd-de0b-7f9a3c89a007"
   },
   "outputs": [],
   "source": [
    "pd.DataFrame(dados)"
   ]
  },
  {
   "cell_type": "code",
   "execution_count": null,
   "metadata": {
    "colab": {
     "base_uri": "https://localhost:8080/",
     "height": 112
    },
    "id": "hN3IzJKpgnvV",
    "outputId": "908e35ba-3972-41c8-8397-511e59463619"
   },
   "outputs": [],
   "source": [
    "dados = [{'col_1': 2, 'col_2': 4}, {'col_2': 5, 'col_3': 1}]\n",
    "df = pd.DataFrame(dados)\n",
    "df"
   ]
  },
  {
   "cell_type": "code",
   "execution_count": null,
   "metadata": {
    "colab": {
     "base_uri": "https://localhost:8080/"
    },
    "id": "AeBSonhbgxvM",
    "outputId": "5b435b30-fea3-4742-b3a3-d265d0b0fd69"
   },
   "outputs": [],
   "source": [
    "df['col_2']"
   ]
  },
  {
   "cell_type": "code",
   "execution_count": null,
   "metadata": {
    "colab": {
     "base_uri": "https://localhost:8080/"
    },
    "id": "vsiTD8GdyI6U",
    "outputId": "87599ef6-36dd-40ef-cc62-c08984c7d14c"
   },
   "outputs": [],
   "source": [
    "##De um array de duas dimensões\n",
    "dados = np.random.rand(3, 2)\n",
    "dados"
   ]
  },
  {
   "cell_type": "code",
   "execution_count": null,
   "metadata": {
    "colab": {
     "base_uri": "https://localhost:8080/",
     "height": 143
    },
    "id": "OMbI9SGNyPNi",
    "outputId": "6b30b268-316a-4cab-8573-7ded18d3e545"
   },
   "outputs": [],
   "source": [
    "pd.DataFrame(dados,\n",
    "columns=['col_1', 'col_2'],\n",
    "index=['a', 'b', 'c'])"
   ]
  },
  {
   "cell_type": "code",
   "execution_count": null,
   "metadata": {
    "colab": {
     "base_uri": "https://localhost:8080/",
     "height": 143
    },
    "id": "3TDsVd7nyYHy",
    "outputId": "970fd002-8d48-49b3-d66d-fbe6ac6edd26"
   },
   "outputs": [],
   "source": [
    "##De um dado estruturado\n",
    "dados = np.array([('Gabriel', 30, 6),\n",
    "                  ('Ana', 25, 4),\n",
    "                  ('Amanda', 27, 3.5)], dtype={'names': ('nome', 'idade', 'notas'), 'formats': ('U10', 'i4', 'f8')})\n",
    "\n",
    "pd.DataFrame(dados)"
   ]
  },
  {
   "cell_type": "markdown",
   "metadata": {
    "id": "x3IxKCg8yhBc"
   },
   "source": [
    "## Index"
   ]
  },
  {
   "cell_type": "code",
   "execution_count": null,
   "metadata": {
    "colab": {
     "base_uri": "https://localhost:8080/"
    },
    "id": "FMnbCB3iyh-T",
    "outputId": "9e1159db-9b06-4423-f47d-b8fd11740b7e"
   },
   "outputs": [],
   "source": [
    "ind = pd.Index([2, 3, 5, 7, 11])\n",
    "ind[:2]"
   ]
  },
  {
   "cell_type": "code",
   "execution_count": null,
   "metadata": {
    "colab": {
     "base_uri": "https://localhost:8080/"
    },
    "id": "4r1fczFhyqTc",
    "outputId": "cbe41184-3fe5-416c-95b3-d1f27598c619"
   },
   "outputs": [],
   "source": [
    "indA = pd.Index([1, 3, 5, 7, 9])\n",
    "indB = pd.Index([2, 3, 5, 7, 11])\n",
    "indA.intersection(indB)"
   ]
  },
  {
   "cell_type": "code",
   "execution_count": null,
   "metadata": {
    "colab": {
     "base_uri": "https://localhost:8080/"
    },
    "id": "083MZdx6zAdl",
    "outputId": "a462ee65-0e7a-4af9-831d-21378d0d89b5"
   },
   "outputs": [],
   "source": [
    "indA.union(indB)"
   ]
  },
  {
   "cell_type": "code",
   "execution_count": null,
   "metadata": {
    "colab": {
     "base_uri": "https://localhost:8080/"
    },
    "id": "qJ2Ai3YQzC1L",
    "outputId": "eb2072ea-b988-491a-fea7-67eaa27ab568"
   },
   "outputs": [],
   "source": [
    "indA.symmetric_difference(indB)"
   ]
  },
  {
   "cell_type": "markdown",
   "metadata": {
    "id": "G2XuzpN3zTRy"
   },
   "source": [
    "# Selecionando Valores em uma Serie"
   ]
  },
  {
   "cell_type": "code",
   "execution_count": null,
   "metadata": {
    "id": "TFe1dl3MzWpM"
   },
   "outputs": [],
   "source": [
    "series = pd.Series(np.arange(0, 1, 0.25),\n",
    "                   index=['a', 'b', 'c', 'd'])"
   ]
  },
  {
   "cell_type": "code",
   "execution_count": null,
   "metadata": {
    "colab": {
     "base_uri": "https://localhost:8080/"
    },
    "id": "eMnRV8DEzlqd",
    "outputId": "166086bf-c12b-40da-c993-782aa3c8cf57"
   },
   "outputs": [],
   "source": [
    "'e' in series"
   ]
  },
  {
   "cell_type": "code",
   "execution_count": null,
   "metadata": {
    "colab": {
     "base_uri": "https://localhost:8080/"
    },
    "id": "3bxjYHtUznu8",
    "outputId": "bb8c9e30-c0b3-46d9-89bc-3e49b8df2f37"
   },
   "outputs": [],
   "source": [
    "series.keys()"
   ]
  },
  {
   "cell_type": "code",
   "execution_count": null,
   "metadata": {
    "colab": {
     "base_uri": "https://localhost:8080/"
    },
    "id": "D1cblUCdzqLh",
    "outputId": "cd7978e2-2653-4351-c6b6-55d449189e88"
   },
   "outputs": [],
   "source": [
    "list(series.items())"
   ]
  },
  {
   "cell_type": "code",
   "execution_count": null,
   "metadata": {
    "colab": {
     "base_uri": "https://localhost:8080/"
    },
    "id": "5wzPSEYzztll",
    "outputId": "110462c5-35c7-4de0-aa5a-8acd03dfb5cd"
   },
   "outputs": [],
   "source": [
    "series['e'] = 1\n",
    "series"
   ]
  },
  {
   "cell_type": "code",
   "execution_count": null,
   "metadata": {
    "colab": {
     "base_uri": "https://localhost:8080/"
    },
    "id": "RdsjjooQz0Da",
    "outputId": "a1a9cd49-eeba-4a5a-c59a-47b1c4486b57"
   },
   "outputs": [],
   "source": [
    "series[0:2]"
   ]
  },
  {
   "cell_type": "code",
   "execution_count": null,
   "metadata": {
    "colab": {
     "base_uri": "https://localhost:8080/"
    },
    "id": "5orBZEYoz2Wu",
    "outputId": "504f00bf-28fd-49d0-d30a-ac1dc7bb2f2b"
   },
   "outputs": [],
   "source": [
    "series[(series>0.3) & (series<1)]"
   ]
  },
  {
   "cell_type": "code",
   "execution_count": null,
   "metadata": {
    "colab": {
     "base_uri": "https://localhost:8080/"
    },
    "id": "L0m_30Kbz85j",
    "outputId": "060ac4dd-a0d8-4683-b859-01a267c71129"
   },
   "outputs": [],
   "source": [
    "series[['a', 'b']]"
   ]
  },
  {
   "cell_type": "markdown",
   "metadata": {
    "id": "8-ow7hJt0I2-"
   },
   "source": [
    "##loc\n",
    "\n",
    "Referente ao indice explicito"
   ]
  },
  {
   "cell_type": "code",
   "execution_count": null,
   "metadata": {
    "colab": {
     "base_uri": "https://localhost:8080/"
    },
    "id": "_I0r17Nq0J2H",
    "outputId": "8b67a4fc-7310-49a7-d398-19b8cf85320c"
   },
   "outputs": [],
   "source": [
    "series = pd.Series(np.arange(0, 1, 0.25),\n",
    "                   index=[2, 3, 4, 5])\n",
    "series"
   ]
  },
  {
   "cell_type": "code",
   "execution_count": null,
   "metadata": {
    "colab": {
     "base_uri": "https://localhost:8080/"
    },
    "id": "W7hu7avl0QY4",
    "outputId": "162fe864-be4f-4ab6-b19b-8e70369534d2"
   },
   "outputs": [],
   "source": [
    "series[2]"
   ]
  },
  {
   "cell_type": "code",
   "execution_count": null,
   "metadata": {
    "colab": {
     "base_uri": "https://localhost:8080/"
    },
    "id": "I4R-oapf0R2M",
    "outputId": "75a4c8d2-3e48-4994-d2ba-87464bbd1814"
   },
   "outputs": [],
   "source": [
    "series[2:]"
   ]
  },
  {
   "cell_type": "code",
   "execution_count": null,
   "metadata": {
    "colab": {
     "base_uri": "https://localhost:8080/"
    },
    "id": "7dZf93Zh0dVz",
    "outputId": "07b9f210-edf6-44af-ddfd-bc8797a7e823"
   },
   "outputs": [],
   "source": [
    "series.loc[2]"
   ]
  },
  {
   "cell_type": "code",
   "execution_count": null,
   "metadata": {
    "colab": {
     "base_uri": "https://localhost:8080/"
    },
    "id": "an2-qVrp0fJW",
    "outputId": "3479a3da-bc2c-4255-b218-fe118b6ea9d3"
   },
   "outputs": [],
   "source": [
    "series.loc[2:]"
   ]
  },
  {
   "cell_type": "markdown",
   "metadata": {
    "id": "_FhOu5MO0hTv"
   },
   "source": [
    "## iloc\n",
    "Referente ao indice implicito"
   ]
  },
  {
   "cell_type": "code",
   "execution_count": null,
   "metadata": {
    "colab": {
     "base_uri": "https://localhost:8080/"
    },
    "id": "fOKO6uN20lKk",
    "outputId": "e56930fa-24ed-4aee-fbfa-e443c64243ae"
   },
   "outputs": [],
   "source": [
    "series.iloc[2]"
   ]
  },
  {
   "cell_type": "code",
   "execution_count": null,
   "metadata": {
    "colab": {
     "base_uri": "https://localhost:8080/"
    },
    "id": "UwHUd01X0moh",
    "outputId": "d5cb2f5e-59dd-47ee-8f73-e69161765f23"
   },
   "outputs": [],
   "source": [
    "series.iloc[2:]"
   ]
  },
  {
   "cell_type": "markdown",
   "metadata": {
    "id": "AQJwdr890teG"
   },
   "source": [
    "# Selecionando valor em um DataFrame"
   ]
  },
  {
   "cell_type": "code",
   "execution_count": null,
   "metadata": {
    "colab": {
     "base_uri": "https://localhost:8080/",
     "height": 206
    },
    "id": "vHZbZguP0xHy",
    "outputId": "166996ad-9884-4bce-b5e0-981603582ff5"
   },
   "outputs": [],
   "source": [
    "area = pd.Series({'California': 423967, 'Texas': 695662,\n",
    "'New York': 141297, 'Florida': 170312,\n",
    "'Illinois': 149995})\n",
    "pop = pd.Series({'California': 38332521, 'Texas': 26448193,\n",
    "'New York': 19651127, 'Florida': 19552860,\n",
    "'Illinois': 12882135})\n",
    "data = pd.DataFrame({'area':area, 'pop':pop})\n",
    "data"
   ]
  },
  {
   "cell_type": "code",
   "execution_count": null,
   "metadata": {
    "id": "FxTWb8Um2MRT"
   },
   "outputs": [],
   "source": [
    "data['densidade'] = data['pop']/data['area']"
   ]
  },
  {
   "cell_type": "code",
   "execution_count": null,
   "metadata": {
    "colab": {
     "base_uri": "https://localhost:8080/",
     "height": 206
    },
    "id": "tr6kGbs2DRIw",
    "outputId": "e3dd963d-8bf1-47b3-a9e9-783aee76c874"
   },
   "outputs": [],
   "source": [
    "data"
   ]
  },
  {
   "cell_type": "code",
   "execution_count": null,
   "metadata": {
    "colab": {
     "base_uri": "https://localhost:8080/"
    },
    "id": "S10Vd_7F016d",
    "outputId": "61be9c52-99dd-41ce-a44e-e39444386ae8"
   },
   "outputs": [],
   "source": [
    "data['area']"
   ]
  },
  {
   "cell_type": "code",
   "execution_count": null,
   "metadata": {
    "colab": {
     "base_uri": "https://localhost:8080/"
    },
    "id": "OCpO9p4x029O",
    "outputId": "22b9c1ae-586d-4c68-b256-919ee9e1b73d"
   },
   "outputs": [],
   "source": [
    "data.area"
   ]
  },
  {
   "cell_type": "code",
   "execution_count": null,
   "metadata": {
    "colab": {
     "base_uri": "https://localhost:8080/"
    },
    "id": "dGpAHKh_0_si",
    "outputId": "9c773956-b37c-4937-e871-21949b965cd4"
   },
   "outputs": [],
   "source": [
    "data.pop is data['pop'] #pois pop é método de dataframe"
   ]
  },
  {
   "cell_type": "code",
   "execution_count": null,
   "metadata": {
    "colab": {
     "base_uri": "https://localhost:8080/"
    },
    "id": "_l1tp_A91Ijn",
    "outputId": "f9722c58-cb98-495b-a800-8d49626c875e"
   },
   "outputs": [],
   "source": [
    "data.values"
   ]
  },
  {
   "cell_type": "code",
   "execution_count": null,
   "metadata": {
    "colab": {
     "base_uri": "https://localhost:8080/",
     "height": 143
    },
    "id": "iZtS4kj31QnB",
    "outputId": "4c5a7eac-0dc2-4511-c2a5-1d5cca95fdec"
   },
   "outputs": [],
   "source": [
    "data.T"
   ]
  },
  {
   "cell_type": "code",
   "execution_count": null,
   "metadata": {
    "colab": {
     "base_uri": "https://localhost:8080/"
    },
    "id": "_Kcp6e_-1UwY",
    "outputId": "24ea673c-a6ae-4711-c513-1c075319291f"
   },
   "outputs": [],
   "source": [
    "data.values[0]"
   ]
  },
  {
   "cell_type": "code",
   "execution_count": null,
   "metadata": {
    "colab": {
     "base_uri": "https://localhost:8080/",
     "height": 206
    },
    "id": "nZ_v1y5tDn-_",
    "outputId": "ca2c7aa6-d8c9-4098-8f84-f4edf232f9de"
   },
   "outputs": [],
   "source": [
    "data"
   ]
  },
  {
   "cell_type": "code",
   "execution_count": null,
   "metadata": {
    "colab": {
     "base_uri": "https://localhost:8080/",
     "height": 174
    },
    "id": "d5EecTVG1Z5p",
    "outputId": "b0fed68c-dc05-46da-c21c-2a3e46610139"
   },
   "outputs": [],
   "source": [
    "data.loc[:'Florida', :'pop']"
   ]
  },
  {
   "cell_type": "code",
   "execution_count": null,
   "metadata": {
    "colab": {
     "base_uri": "https://localhost:8080/",
     "height": 174
    },
    "id": "2_50mEva1gyl",
    "outputId": "38d296b5-01d9-4ab6-8156-23d4ea728786"
   },
   "outputs": [],
   "source": [
    "data.loc[:'Florida', :]"
   ]
  },
  {
   "cell_type": "code",
   "execution_count": null,
   "metadata": {
    "colab": {
     "base_uri": "https://localhost:8080/"
    },
    "id": "VNPx_qf_1i04",
    "outputId": "5352ce05-df18-4099-b85f-4e8dc14fe4f2"
   },
   "outputs": [],
   "source": [
    "data.loc[:'Florida', 'area']"
   ]
  },
  {
   "cell_type": "code",
   "execution_count": null,
   "metadata": {
    "colab": {
     "base_uri": "https://localhost:8080/",
     "height": 143
    },
    "id": "hrfQaNU51kiH",
    "outputId": "6d36b42b-c696-4b66-9cf9-20e69087dfc3"
   },
   "outputs": [],
   "source": [
    "data.iloc[:3, :1]"
   ]
  },
  {
   "cell_type": "code",
   "execution_count": null,
   "metadata": {
    "colab": {
     "base_uri": "https://localhost:8080/",
     "height": 112
    },
    "id": "p-IiJaKM1o6m",
    "outputId": "e453e893-31dc-42ad-9f91-b0d221c22c95"
   },
   "outputs": [],
   "source": [
    "data.loc[data.area> 400000, ['pop', 'area']]"
   ]
  },
  {
   "cell_type": "code",
   "execution_count": null,
   "metadata": {
    "colab": {
     "base_uri": "https://localhost:8080/",
     "height": 112
    },
    "id": "eseMHdS018ji",
    "outputId": "4a1bb771-fa3f-455d-dc5d-5d941e7f7a0d"
   },
   "outputs": [],
   "source": [
    "data['Florida':'Illinois']"
   ]
  },
  {
   "cell_type": "code",
   "execution_count": null,
   "metadata": {
    "colab": {
     "base_uri": "https://localhost:8080/",
     "height": 206
    },
    "id": "kZnkQDP62DQn",
    "outputId": "8cd33259-8ae3-47cd-ab6f-a992fcd73073"
   },
   "outputs": [],
   "source": [
    "data[['area', 'pop']]"
   ]
  },
  {
   "cell_type": "code",
   "execution_count": null,
   "metadata": {
    "colab": {
     "base_uri": "https://localhost:8080/",
     "height": 112
    },
    "id": "plbUKydC2FFB",
    "outputId": "ecaefe89-3405-4ef3-85ee-d977b47f77b6"
   },
   "outputs": [],
   "source": [
    "data[1:3]"
   ]
  },
  {
   "cell_type": "code",
   "execution_count": null,
   "metadata": {
    "colab": {
     "base_uri": "https://localhost:8080/",
     "height": 112
    },
    "id": "sjDQ0Uxz2KoC",
    "outputId": "e9b02292-2ba1-42d6-a5d6-d1a2b7b9bf3b"
   },
   "outputs": [],
   "source": [
    "data[data.densidade > 100]"
   ]
  },
  {
   "cell_type": "markdown",
   "metadata": {
    "id": "Umhk9BmX3TAh"
   },
   "source": [
    "# Operações em objetos Pandas"
   ]
  },
  {
   "cell_type": "code",
   "execution_count": null,
   "metadata": {
    "id": "t-x0wq2D3WGw"
   },
   "outputs": [],
   "source": [
    "rng = np.random.RandomState(42)\n",
    "serie = pd.Series(rng.randint(0, 10, 4))\n",
    "serie"
   ]
  },
  {
   "cell_type": "code",
   "execution_count": null,
   "metadata": {
    "id": "NLinaOza3Y1Q"
   },
   "outputs": [],
   "source": [
    "df = pd.DataFrame(rng.randint(0, 10, (3, 4)),\n",
    "columns=['A', 'B', 'C', 'D'])\n",
    "df"
   ]
  },
  {
   "cell_type": "code",
   "execution_count": null,
   "metadata": {
    "id": "OX3PTYCm3c-c"
   },
   "outputs": [],
   "source": [
    "np.exp(serie)"
   ]
  },
  {
   "cell_type": "code",
   "execution_count": null,
   "metadata": {
    "id": "hUivEq2a3eVP"
   },
   "outputs": [],
   "source": [
    "np.log(df)"
   ]
  },
  {
   "cell_type": "markdown",
   "metadata": {
    "id": "KA7zDDvN4DQ6"
   },
   "source": [
    "## Preservação da indexação em series"
   ]
  },
  {
   "cell_type": "code",
   "execution_count": null,
   "metadata": {
    "id": "88sVH5Fg3jmo"
   },
   "outputs": [],
   "source": [
    "area = pd.Series({'Alaska': 1723337, 'Texas': 695662,\n",
    "'California': 423967}, name='area')\n",
    "populacao = pd.Series({'California': 38332521, 'Texas': 26448193,\n",
    "'New York': 19651127}, name='populacao')"
   ]
  },
  {
   "cell_type": "code",
   "execution_count": null,
   "metadata": {
    "id": "EyTfgOZA3khC"
   },
   "outputs": [],
   "source": [
    "populacao/area"
   ]
  },
  {
   "cell_type": "code",
   "execution_count": null,
   "metadata": {
    "id": "WXPSRQaf3wqP"
   },
   "outputs": [],
   "source": [
    "ser1 = pd.Series([2, 4, 6], index=[0, 1, 2])\n",
    "ser2 = pd.Series([1, 3, 5], index=[1, 2, 3])\n",
    "ser1 + ser2"
   ]
  },
  {
   "cell_type": "code",
   "execution_count": null,
   "metadata": {
    "id": "G_CVF0j030o-"
   },
   "outputs": [],
   "source": [
    "ser1.add(ser2, fill_value=0)"
   ]
  },
  {
   "cell_type": "markdown",
   "metadata": {
    "id": "Vw3rP4fN4GzM"
   },
   "source": [
    "## Preservação dos indices em DataFrame"
   ]
  },
  {
   "cell_type": "code",
   "execution_count": null,
   "metadata": {
    "id": "BFLfe0wJ4J6C"
   },
   "outputs": [],
   "source": [
    "df1 = pd.DataFrame(rng.randint(0, 20, (2, 2)),\n",
    "                   columns=list('AB'))\n",
    "df1"
   ]
  },
  {
   "cell_type": "code",
   "execution_count": null,
   "metadata": {
    "id": "jjg9HPnq4Pav"
   },
   "outputs": [],
   "source": [
    "df2 = pd.DataFrame(rng.randint(0, 10, (3, 3)),\n",
    "                   columns=list('BAC'))\n",
    "df2"
   ]
  },
  {
   "cell_type": "code",
   "execution_count": null,
   "metadata": {
    "id": "C70JwARq4VH-"
   },
   "outputs": [],
   "source": [
    "df1 + df2"
   ]
  },
  {
   "cell_type": "code",
   "execution_count": null,
   "metadata": {
    "id": "2z6JCROa4WyX"
   },
   "outputs": [],
   "source": [
    "df1.add(df, fill_value=5)"
   ]
  },
  {
   "cell_type": "code",
   "execution_count": null,
   "metadata": {
    "id": "e3q-ufWjXcLg"
   },
   "outputs": [],
   "source": [
    "df2"
   ]
  },
  {
   "cell_type": "code",
   "execution_count": null,
   "metadata": {
    "id": "xsQJ28gX4yAb"
   },
   "outputs": [],
   "source": [
    "df2 - df2.iloc[0]"
   ]
  },
  {
   "cell_type": "code",
   "execution_count": null,
   "metadata": {
    "id": "Mv4j9fHQXd-2"
   },
   "outputs": [],
   "source": [
    "df2 - df2.loc[0, ['B', 'C']]"
   ]
  },
  {
   "cell_type": "markdown",
   "metadata": {
    "id": "M0c0XRF3XrUr"
   },
   "source": [
    "# Leitura de arquivo"
   ]
  },
  {
   "cell_type": "code",
   "execution_count": null,
   "metadata": {
    "id": "wxfK5XijpuKU"
   },
   "outputs": [],
   "source": [
    "path = 'Sales_Transactions_Dataset_Weekly.csv'\n",
    "\n",
    "df_csv = pd.read_csv(path)\n",
    "df_csv.head()"
   ]
  },
  {
   "cell_type": "markdown",
   "metadata": {
    "id": "b9byLxDUX0uk"
   },
   "source": [
    "# Modificando nomes de coluna/index"
   ]
  },
  {
   "cell_type": "code",
   "execution_count": null,
   "metadata": {
    "id": "uA_KFb6ckcHC"
   },
   "outputs": [],
   "source": [
    "df1 = pd.DataFrame(rng.randint(0, 20, (2, 2)),\n",
    "                   columns=list('AB'))"
   ]
  },
  {
   "cell_type": "code",
   "execution_count": null,
   "metadata": {
    "id": "rkUdppYIkr1x"
   },
   "outputs": [],
   "source": [
    "df1.rename(columns={'A': 'a', 'B': 'b'})"
   ]
  },
  {
   "cell_type": "code",
   "execution_count": null,
   "metadata": {
    "id": "W378fkbtkye2"
   },
   "outputs": [],
   "source": [
    "df1.rename(index={0: 'a', 1:'b'})"
   ]
  },
  {
   "cell_type": "code",
   "execution_count": null,
   "metadata": {
    "id": "1Zfw65GHk4C0"
   },
   "outputs": [],
   "source": [
    "df1.rename(index=str).index"
   ]
  },
  {
   "cell_type": "code",
   "execution_count": null,
   "metadata": {
    "id": "iDAJ8ZHvk-XY"
   },
   "outputs": [],
   "source": [
    "df1.rename(str.lower, axis='columns')"
   ]
  },
  {
   "cell_type": "code",
   "execution_count": null,
   "metadata": {
    "id": "XtsvnW3FlEnB"
   },
   "outputs": [],
   "source": [
    "df1.rename(lambda x: x+1, axis='index')"
   ]
  },
  {
   "cell_type": "markdown",
   "metadata": {
    "id": "8QdlURbzX3s_"
   },
   "source": [
    "# Criando colunas novas"
   ]
  },
  {
   "cell_type": "code",
   "execution_count": null,
   "metadata": {
    "id": "iFjE8cBFlOPZ"
   },
   "outputs": [],
   "source": [
    "data"
   ]
  },
  {
   "cell_type": "code",
   "execution_count": null,
   "metadata": {
    "id": "p7lHmTdzlcuG"
   },
   "outputs": [],
   "source": [
    "data['density'] = data['pop']/data['area']"
   ]
  },
  {
   "cell_type": "code",
   "execution_count": null,
   "metadata": {
    "id": "RECMILX1lidJ"
   },
   "outputs": [],
   "source": [
    "data.loc[data.density < 100, 'marcacao'] = 1\n",
    "data"
   ]
  },
  {
   "cell_type": "markdown",
   "metadata": {
    "id": "4d4MbohuX7y_"
   },
   "source": [
    "# Removendo duplicatas"
   ]
  },
  {
   "cell_type": "code",
   "execution_count": null,
   "metadata": {
    "id": "-9zL53UIl-ri"
   },
   "outputs": [],
   "source": [
    "df = pd.DataFrame({'col_1': [1, 1, 2, 2, 3, 4],\n",
    "                   'col_2': [1, 2, 2, 2, 5, 7]})\n",
    "df"
   ]
  },
  {
   "cell_type": "code",
   "execution_count": null,
   "metadata": {
    "id": "1b4h61M-mWiD"
   },
   "outputs": [],
   "source": [
    "df.drop_duplicates()"
   ]
  },
  {
   "cell_type": "code",
   "execution_count": null,
   "metadata": {
    "id": "FPyNgoNdmZEy"
   },
   "outputs": [],
   "source": [
    "df.drop_duplicates(subset=['col_1'])"
   ]
  },
  {
   "cell_type": "code",
   "execution_count": null,
   "metadata": {
    "id": "0HioVZxZmc9G"
   },
   "outputs": [],
   "source": [
    "df.drop_duplicates(subset=['col_1'], keep='last')"
   ]
  },
  {
   "cell_type": "code",
   "execution_count": null,
   "metadata": {
    "id": "_Vng-IinmgG2"
   },
   "outputs": [],
   "source": [
    "df.drop_duplicates(subset=['col_1'], keep='last', ignore_index=True)"
   ]
  },
  {
   "cell_type": "markdown",
   "metadata": {
    "id": "R4GqFlwHYJ8_"
   },
   "source": [
    "# Funcionalidade básica"
   ]
  },
  {
   "cell_type": "code",
   "execution_count": null,
   "metadata": {
    "id": "D_K5-UeLmuxw"
   },
   "outputs": [],
   "source": [
    "data"
   ]
  },
  {
   "cell_type": "code",
   "execution_count": null,
   "metadata": {
    "id": "p520ywOszGFj"
   },
   "outputs": [],
   "source": [
    "data.shape"
   ]
  },
  {
   "cell_type": "code",
   "execution_count": null,
   "metadata": {
    "id": "-jxSQtb-mwGw"
   },
   "outputs": [],
   "source": [
    "data.drop('marcacao', axis='columns', inplace=True)\n",
    "data"
   ]
  },
  {
   "cell_type": "code",
   "execution_count": null,
   "metadata": {
    "id": "xhtc0GUDm6Ym"
   },
   "outputs": [],
   "source": [
    "data.head(2)"
   ]
  },
  {
   "cell_type": "code",
   "execution_count": null,
   "metadata": {
    "id": "rxDjX4Gnm-Fc"
   },
   "outputs": [],
   "source": [
    "data.tail(2)"
   ]
  },
  {
   "cell_type": "markdown",
   "metadata": {
    "id": "SlC8o-kInO2Z"
   },
   "source": [
    "## Descritivas"
   ]
  },
  {
   "cell_type": "code",
   "execution_count": null,
   "metadata": {
    "id": "wX0zKKH-nAUG"
   },
   "outputs": [],
   "source": [
    "data.mean()"
   ]
  },
  {
   "cell_type": "code",
   "execution_count": null,
   "metadata": {
    "id": "7QVbTBv4nTUi"
   },
   "outputs": [],
   "source": [
    "data.mean(1)"
   ]
  },
  {
   "cell_type": "code",
   "execution_count": null,
   "metadata": {
    "id": "sYMTwYNinW3o"
   },
   "outputs": [],
   "source": [
    "data.sum(axis=0)"
   ]
  },
  {
   "cell_type": "code",
   "execution_count": null,
   "metadata": {
    "id": "9Li6tIxonY22"
   },
   "outputs": [],
   "source": [
    "data.sum(axis=1)"
   ]
  },
  {
   "cell_type": "code",
   "execution_count": null,
   "metadata": {
    "id": "R6sC0MHwncG6"
   },
   "outputs": [],
   "source": [
    "data.std()"
   ]
  },
  {
   "cell_type": "code",
   "execution_count": null,
   "metadata": {
    "id": "gZ0Gz8R-nfvQ"
   },
   "outputs": [],
   "source": [
    "data.cumsum()"
   ]
  },
  {
   "cell_type": "code",
   "execution_count": null,
   "metadata": {
    "id": "wkeCcZAgS8T4"
   },
   "outputs": [],
   "source": [
    "data.quantile([0.1, 0.25, 0.5])"
   ]
  },
  {
   "cell_type": "markdown",
   "metadata": {
    "id": "bDmaAPGZnmjb"
   },
   "source": [
    "### Funções\n",
    "\n",
    "|Função|Descrição|\n",
    "|-------|---------|\n",
    "|count|Conta o número de observações (remove o NA)|\n",
    "|sum|Soma dos valores|\n",
    "|mean|Média dos valores|\n",
    "|median|Mediana dos valores|\n",
    "|min|Minimo dos valores|\n",
    "|max|Maximo dos valores|\n",
    "|mode|Moda dos valores|\n",
    "|abs|Valor absoluto|\n",
    "|prod|Produto dos valores|\n",
    "|std|Desvio-padrão|\n",
    "|var|Variância|\n",
    "|quantile|Quantil dos dados|\n",
    "|cumsum|Soma acumulado|\n",
    "|cumprod|Produto acumulado|\n",
    "|cummax|Máximo acumulado|\n",
    "|cummin|Minimo acumulado|"
   ]
  },
  {
   "cell_type": "code",
   "execution_count": null,
   "metadata": {
    "id": "6ciMcZtToRqX"
   },
   "outputs": [],
   "source": [
    "data.describe()"
   ]
  },
  {
   "cell_type": "code",
   "execution_count": null,
   "metadata": {
    "id": "u5K2QW2voX5I"
   },
   "outputs": [],
   "source": [
    "data.idxmin()"
   ]
  },
  {
   "cell_type": "code",
   "execution_count": null,
   "metadata": {
    "id": "qiI9uADPoaYY"
   },
   "outputs": [],
   "source": [
    "data.idxmax()"
   ]
  },
  {
   "cell_type": "code",
   "execution_count": null,
   "metadata": {
    "id": "qMMSf8YMohAK"
   },
   "outputs": [],
   "source": [
    "df3 = pd.DataFrame({'col_1': [1, 1, 1, 2], 'col_2': ['a', 'a', 'b', 'b']})\n",
    "\n",
    "df3.value_counts()"
   ]
  },
  {
   "cell_type": "code",
   "execution_count": null,
   "metadata": {
    "id": "tKn2GsCeoyKq"
   },
   "outputs": [],
   "source": [
    "df3.value_counts(normalize=True)"
   ]
  },
  {
   "cell_type": "code",
   "execution_count": null,
   "metadata": {
    "id": "aaV5iicUo4WN"
   },
   "outputs": [],
   "source": [
    "df3.col_1.value_counts(normalize=True)"
   ]
  },
  {
   "cell_type": "code",
   "execution_count": null,
   "metadata": {
    "id": "nck-gOhsTLa_"
   },
   "outputs": [],
   "source": [
    "##Criando intervalo dos dados\n",
    "\n",
    "pd.cut(data.area, 2)"
   ]
  },
  {
   "cell_type": "code",
   "execution_count": null,
   "metadata": {
    "id": "KvY1TfNQTmhm"
   },
   "outputs": [],
   "source": [
    "data.quantile([0, 0.25, 0.5, 0.75, 1])"
   ]
  },
  {
   "cell_type": "code",
   "execution_count": null,
   "metadata": {
    "id": "oSU0Hp_9TX9L"
   },
   "outputs": [],
   "source": [
    "pd.qcut(data.area, [0, 0.25, 0.5, 0.75, 1])"
   ]
  },
  {
   "cell_type": "code",
   "execution_count": null,
   "metadata": {
    "id": "5L9eN_yZTwD8"
   },
   "outputs": [],
   "source": [
    "data_q = data.copy()\n",
    "\n",
    "data_q['quantil'] = pd.qcut(data.area, [0, 0.25, 0.5, 0.75, 1])\n",
    "data_q"
   ]
  },
  {
   "cell_type": "code",
   "execution_count": null,
   "metadata": {
    "id": "LzdGv_iFpLkM"
   },
   "outputs": [],
   "source": [
    "data.sort_index()"
   ]
  },
  {
   "cell_type": "code",
   "execution_count": null,
   "metadata": {
    "id": "vrR6X6cLpAcT"
   },
   "outputs": [],
   "source": [
    "data.sort_values('area')"
   ]
  },
  {
   "cell_type": "code",
   "execution_count": null,
   "metadata": {
    "id": "KqJeU-JcpdnR"
   },
   "outputs": [],
   "source": [
    "data.reset_index()"
   ]
  },
  {
   "cell_type": "code",
   "execution_count": null,
   "metadata": {
    "id": "UqNDZaOxpTIb"
   },
   "outputs": [],
   "source": [
    "data.dtypes"
   ]
  },
  {
   "cell_type": "code",
   "execution_count": null,
   "metadata": {
    "id": "2z7L_JYopgG2"
   },
   "outputs": [],
   "source": [
    "data.reset_index().dtypes"
   ]
  },
  {
   "cell_type": "markdown",
   "metadata": {
    "id": "fIb9MAWYXtgU"
   },
   "source": [
    "# Dados faltante"
   ]
  },
  {
   "cell_type": "code",
   "execution_count": null,
   "metadata": {
    "id": "5FVDaOkhqXJV"
   },
   "outputs": [],
   "source": [
    "df_none = pd.Series([1, 2, None])\n",
    "df_none"
   ]
  },
  {
   "cell_type": "code",
   "execution_count": null,
   "metadata": {
    "id": "YZjU_Y8jqgtJ"
   },
   "outputs": [],
   "source": [
    "df_none = pd.Series([1, 2])\n",
    "df_none"
   ]
  },
  {
   "cell_type": "code",
   "execution_count": null,
   "metadata": {
    "id": "mymJyjWIqmYq"
   },
   "outputs": [],
   "source": [
    "df_none[0] = None\n",
    "df_none"
   ]
  },
  {
   "cell_type": "code",
   "execution_count": null,
   "metadata": {
    "id": "1iURbizvqq_E"
   },
   "outputs": [],
   "source": [
    "df_none = pd.Series(['a', 'b', None])\n",
    "df_none"
   ]
  },
  {
   "cell_type": "code",
   "execution_count": null,
   "metadata": {
    "id": "cKpb7EgYqvav"
   },
   "outputs": [],
   "source": [
    "df_none = pd.Series(['a', 'b', float('nan')])\n",
    "df_none"
   ]
  },
  {
   "cell_type": "code",
   "execution_count": null,
   "metadata": {
    "id": "6noq330pqz58"
   },
   "outputs": [],
   "source": [
    "df_none.isnull()"
   ]
  },
  {
   "cell_type": "code",
   "execution_count": null,
   "metadata": {
    "id": "u9tPJPwfq2zF"
   },
   "outputs": [],
   "source": [
    "df_none.notnull()"
   ]
  },
  {
   "cell_type": "code",
   "execution_count": null,
   "metadata": {
    "id": "enkXajwXq5qf"
   },
   "outputs": [],
   "source": [
    "df_none.dropna()"
   ]
  },
  {
   "cell_type": "code",
   "execution_count": null,
   "metadata": {
    "id": "KgKpDnSmq7QA"
   },
   "outputs": [],
   "source": [
    "df = pd.DataFrame([[1, np.nan, 2],\n",
    "                   [2, 3, 4],\n",
    "                   [np.nan, 5, 6]])\n",
    "df"
   ]
  },
  {
   "cell_type": "code",
   "execution_count": null,
   "metadata": {
    "id": "d0R9FhWUq7fD"
   },
   "outputs": [],
   "source": [
    "df.dropna()"
   ]
  },
  {
   "cell_type": "code",
   "execution_count": null,
   "metadata": {
    "id": "owvslGG9rIWj"
   },
   "outputs": [],
   "source": [
    "df.dropna(axis='columns')"
   ]
  },
  {
   "cell_type": "code",
   "execution_count": null,
   "metadata": {
    "id": "dfVjFy2ArLP9"
   },
   "outputs": [],
   "source": [
    "df.dropna(axis='columns', how='all')"
   ]
  },
  {
   "cell_type": "code",
   "execution_count": null,
   "metadata": {
    "id": "HtqLwE1NrQIM"
   },
   "outputs": [],
   "source": [
    "df[3] = np.nan\n",
    "df"
   ]
  },
  {
   "cell_type": "code",
   "execution_count": null,
   "metadata": {
    "id": "oP8e33VhrS0s"
   },
   "outputs": [],
   "source": [
    "df.dropna(axis='columns', how='all')"
   ]
  },
  {
   "cell_type": "code",
   "execution_count": null,
   "metadata": {
    "id": "DS83cfUurT0E"
   },
   "outputs": [],
   "source": [
    "df.dropna(axis='columns', thresh=2)"
   ]
  },
  {
   "cell_type": "code",
   "execution_count": null,
   "metadata": {
    "id": "HCD9FdEKra8M"
   },
   "outputs": [],
   "source": [
    "df.dropna(axis='rows', thresh=3) #numero minimo de não nulo"
   ]
  },
  {
   "cell_type": "code",
   "execution_count": null,
   "metadata": {
    "id": "XctJufAarpjd"
   },
   "outputs": [],
   "source": [
    "df.fillna(0)"
   ]
  },
  {
   "cell_type": "code",
   "execution_count": null,
   "metadata": {
    "id": "gFkcfzDursJ8"
   },
   "outputs": [],
   "source": [
    "df.fillna(method='ffill')"
   ]
  },
  {
   "cell_type": "code",
   "execution_count": null,
   "metadata": {
    "id": "ShXkvVpDrvNI"
   },
   "outputs": [],
   "source": [
    "df.fillna(method='bfill')"
   ]
  },
  {
   "cell_type": "code",
   "execution_count": null,
   "metadata": {
    "id": "ZTfjrKhlrzCy"
   },
   "outputs": [],
   "source": [
    "df.fillna(method='ffill', axis=1)"
   ]
  },
  {
   "cell_type": "markdown",
   "metadata": {
    "id": "LJlqoOhbX_IS"
   },
   "source": [
    "# Multi Index"
   ]
  },
  {
   "cell_type": "code",
   "execution_count": null,
   "metadata": {
    "id": "p_FPeY03umid"
   },
   "outputs": [],
   "source": [
    "index = [('California', 2000), ('California', 2010),\n",
    "('New York', 2000), ('New York', 2010),\n",
    "('Texas', 2000), ('Texas', 2010)]\n",
    "populacao = [33871648, 37253956,\n",
    "18976457, 19378102,\n",
    "20851820, 25145561]\n",
    "pop = pd.Series(populacao, index=index)\n",
    "pop"
   ]
  },
  {
   "cell_type": "code",
   "execution_count": null,
   "metadata": {
    "id": "gsz7wdw2unq8"
   },
   "outputs": [],
   "source": [
    "pop[('California', 2000)]"
   ]
  },
  {
   "cell_type": "code",
   "execution_count": null,
   "metadata": {
    "id": "Qs5t3v7Kusji"
   },
   "outputs": [],
   "source": [
    "pop[[idx for idx in pop.index if idx[1]== 2010]]"
   ]
  },
  {
   "cell_type": "code",
   "execution_count": null,
   "metadata": {
    "id": "-R0dmicHvSXN"
   },
   "outputs": [],
   "source": [
    "pop.reindex()"
   ]
  },
  {
   "cell_type": "code",
   "execution_count": null,
   "metadata": {
    "id": "lL6chwCju1_h"
   },
   "outputs": [],
   "source": [
    "index = [('California', 2000), ('California', 2010),\n",
    "('New York', 2000), ('New York', 2010),\n",
    "('Texas', 2000), ('Texas', 2010)]\n",
    "index = pd.MultiIndex.from_tuples(index)"
   ]
  },
  {
   "cell_type": "code",
   "execution_count": null,
   "metadata": {
    "id": "R5O8qa4avhJi"
   },
   "outputs": [],
   "source": [
    "pop = pop.reindex(index)"
   ]
  },
  {
   "cell_type": "code",
   "execution_count": null,
   "metadata": {
    "id": "3IwGwhIMvkKT"
   },
   "outputs": [],
   "source": [
    "pop"
   ]
  },
  {
   "cell_type": "code",
   "execution_count": null,
   "metadata": {
    "id": "JKEzTg2lvoCz"
   },
   "outputs": [],
   "source": [
    "pop[:, 2010]"
   ]
  },
  {
   "cell_type": "code",
   "execution_count": null,
   "metadata": {
    "id": "geRnUJy6vqtc"
   },
   "outputs": [],
   "source": [
    "pop['New York', :]"
   ]
  },
  {
   "cell_type": "code",
   "execution_count": null,
   "metadata": {
    "id": "RSPpG80Nvy9W"
   },
   "outputs": [],
   "source": [
    "pop_df = pop.unstack()\n",
    "pop_df"
   ]
  },
  {
   "cell_type": "code",
   "execution_count": null,
   "metadata": {
    "id": "bc5fdfkhv2i2"
   },
   "outputs": [],
   "source": [
    "pop_df.stack()"
   ]
  },
  {
   "cell_type": "code",
   "execution_count": null,
   "metadata": {
    "id": "hEbYeaoEwGoU"
   },
   "outputs": [],
   "source": [
    "df = pd.DataFrame(np.random.rand(4, 2),\n",
    "index=[['a', 'a', 'b', 'b'], [1, 2, 1, 2]],\n",
    "columns=['data1', 'data2'])\n",
    "df"
   ]
  },
  {
   "cell_type": "code",
   "execution_count": null,
   "metadata": {
    "id": "fFmDDR1awIQg"
   },
   "outputs": [],
   "source": [
    "pop"
   ]
  },
  {
   "cell_type": "code",
   "execution_count": null,
   "metadata": {
    "id": "8GjnLifgwLMK"
   },
   "outputs": [],
   "source": [
    "pop.index.names = ['estado', 'ano']\n",
    "pop"
   ]
  },
  {
   "cell_type": "code",
   "execution_count": null,
   "metadata": {
    "id": "7H1VzLZMwfdb"
   },
   "outputs": [],
   "source": [
    "pop.unstack()"
   ]
  },
  {
   "cell_type": "code",
   "execution_count": null,
   "metadata": {
    "id": "sgmartTAwbn9"
   },
   "outputs": [],
   "source": [
    "pop.unstack(level=0)"
   ]
  },
  {
   "cell_type": "code",
   "execution_count": null,
   "metadata": {
    "id": "Ek7mz3EzwprY"
   },
   "outputs": [],
   "source": [
    "pop.unstack(level=0).loc[2000]"
   ]
  },
  {
   "cell_type": "code",
   "execution_count": null,
   "metadata": {
    "id": "S8MgqjIqwhhI"
   },
   "outputs": [],
   "source": [
    "pop.unstack(level=1)"
   ]
  },
  {
   "cell_type": "code",
   "execution_count": null,
   "metadata": {
    "id": "mOkLx3jEwlBB"
   },
   "outputs": [],
   "source": [
    "pop.unstack(level=1).loc['California']"
   ]
  },
  {
   "cell_type": "code",
   "execution_count": null,
   "metadata": {
    "id": "9MDe8XVgwuHK"
   },
   "outputs": [],
   "source": [
    "df_reset = pop.reset_index(name='populacao')\n",
    "df_reset"
   ]
  },
  {
   "cell_type": "code",
   "execution_count": null,
   "metadata": {
    "id": "8TY168v3wxdt"
   },
   "outputs": [],
   "source": [
    "df_reset.set_index(['estado'])"
   ]
  },
  {
   "cell_type": "code",
   "execution_count": null,
   "metadata": {
    "id": "7Rc5LNevw712"
   },
   "outputs": [],
   "source": [
    "df_reset.set_index(['ano', 'estado'])"
   ]
  },
  {
   "cell_type": "code",
   "execution_count": null,
   "metadata": {
    "id": "P8mzmC-0xKPf"
   },
   "outputs": [],
   "source": [
    "df_reset.set_index(['ano', 'estado']).loc[2010, :]"
   ]
  },
  {
   "cell_type": "code",
   "execution_count": null,
   "metadata": {
    "id": "vjGzz_u6xFa_"
   },
   "outputs": [],
   "source": [
    "df_reset.sort_values('ano').set_index(['ano', 'estado'])"
   ]
  },
  {
   "cell_type": "code",
   "execution_count": null,
   "metadata": {
    "id": "wvyTzsH7xPLV"
   },
   "outputs": [],
   "source": [
    "pop.groupby(level=1).mean()"
   ]
  }
 ],
 "metadata": {
  "colab": {
   "provenance": []
  },
  "kernelspec": {
   "display_name": "Python 3 (ipykernel)",
   "language": "python",
   "name": "python3"
  },
  "language_info": {
   "codemirror_mode": {
    "name": "ipython",
    "version": 3
   },
   "file_extension": ".py",
   "mimetype": "text/x-python",
   "name": "python",
   "nbconvert_exporter": "python",
   "pygments_lexer": "ipython3",
   "version": "3.10.8"
  }
 },
 "nbformat": 4,
 "nbformat_minor": 1
}
