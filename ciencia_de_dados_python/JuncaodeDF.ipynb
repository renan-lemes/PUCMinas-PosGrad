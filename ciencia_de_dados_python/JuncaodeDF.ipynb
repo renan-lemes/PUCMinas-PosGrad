{
 "cells": [
  {
   "cell_type": "code",
   "execution_count": null,
   "metadata": {
    "id": "VTEdjK107G7o"
   },
   "outputs": [],
   "source": [
    "import pandas as pd\n",
    "import numpy as np"
   ]
  },
  {
   "cell_type": "markdown",
   "metadata": {
    "id": "alqmlVmg71g5"
   },
   "source": [
    "# Concat"
   ]
  },
  {
   "cell_type": "code",
   "execution_count": null,
   "metadata": {
    "id": "UKhToM8S7IYB"
   },
   "outputs": [],
   "source": [
    "ser1 = pd.Series(['A', 'B', 'C'], index=[1, 2, 3])\n",
    "ser2 = pd.Series(['D', 'E', 'F'], index=[4, 5, 6])\n",
    "pd.concat([ser1, ser2])"
   ]
  },
  {
   "cell_type": "code",
   "execution_count": null,
   "metadata": {
    "id": "p2aAW4AP7SbD"
   },
   "outputs": [],
   "source": [
    "ser1 = pd.Series(['A', 'B', 'C'], index=[1, 2, 3])\n",
    "ser2 = pd.Series(['D', 'E', 'F'], index=[3, 4, 5])\n",
    "pd.concat([ser1, ser2])"
   ]
  },
  {
   "cell_type": "code",
   "execution_count": null,
   "metadata": {
    "id": "-vO2thVS7YoS"
   },
   "outputs": [],
   "source": [
    "dados = np.random.rand(3, 2)\n",
    "df1 = pd.DataFrame(dados,\n",
    "columns=['col_1', 'col_2'],\n",
    "index=['a', 'b', 'c'])\n",
    "\n",
    "\n",
    "dados = np.random.rand(3, 2)\n",
    "df2 = pd.DataFrame(dados,\n",
    "columns=['col_1', 'col_2'],\n",
    "index=['d', 'e', 'f'])\n"
   ]
  },
  {
   "cell_type": "code",
   "execution_count": null,
   "metadata": {
    "id": "-lUS86xh75Pn"
   },
   "outputs": [],
   "source": [
    "pd.concat([df1, df2])"
   ]
  },
  {
   "cell_type": "code",
   "execution_count": null,
   "metadata": {
    "id": "foSMUpAw7_kM"
   },
   "outputs": [],
   "source": [
    "df2 = df2.rename(columns={'col_1': 'col_3', 'col_2': 'col_4'})\n",
    "pd.concat([df1, df2])"
   ]
  },
  {
   "cell_type": "code",
   "execution_count": null,
   "metadata": {
    "id": "1nc8e-HA8P1v"
   },
   "outputs": [],
   "source": [
    "df2"
   ]
  },
  {
   "cell_type": "code",
   "execution_count": null,
   "metadata": {
    "id": "VRxzG9W88I5v"
   },
   "outputs": [],
   "source": [
    "df2.index = ['a', 'b', 'c']\n",
    "pd.concat([df1, df2], axis=1)"
   ]
  },
  {
   "cell_type": "markdown",
   "metadata": {
    "id": "s8Y8WqVP8hZ3"
   },
   "source": [
    "## Ignorando index"
   ]
  },
  {
   "cell_type": "code",
   "execution_count": null,
   "metadata": {
    "id": "qcGKEzqW8c_O"
   },
   "outputs": [],
   "source": [
    "pd.concat([df1, df2])"
   ]
  },
  {
   "cell_type": "code",
   "execution_count": null,
   "metadata": {
    "id": "uB7VYG_78d8s"
   },
   "outputs": [],
   "source": [
    "pd.concat([df1, df2], ignore_index=True)"
   ]
  },
  {
   "cell_type": "markdown",
   "metadata": {
    "id": "zQCZ0T-780bK"
   },
   "source": [
    "# Join\n",
    "## 1-1"
   ]
  },
  {
   "cell_type": "code",
   "execution_count": null,
   "metadata": {
    "id": "HQ2j0qPf83kL"
   },
   "outputs": [],
   "source": [
    "df1 = pd.DataFrame({'empregado': ['Bob', 'Jake', 'Lisa', 'Sue'],\n",
    "'area': ['Contabilidade', 'Engenheiro', 'Engenheiro', 'RH']})\n",
    "df2 = pd.DataFrame({'empregado': ['Lisa', 'Bob', 'Jake', 'Sue'],\n",
    "'ano_contrato': [2004, 2008, 2012, 2014]})"
   ]
  },
  {
   "cell_type": "code",
   "execution_count": null,
   "metadata": {
    "id": "dNCzyHv79AaT"
   },
   "outputs": [],
   "source": [
    "df1"
   ]
  },
  {
   "cell_type": "code",
   "execution_count": null,
   "metadata": {
    "id": "hYY1Hs369CG1"
   },
   "outputs": [],
   "source": [
    "df2"
   ]
  },
  {
   "cell_type": "code",
   "execution_count": null,
   "metadata": {
    "id": "IK9BGYNP9DLd"
   },
   "outputs": [],
   "source": [
    "df3 = pd.merge(df1, df2)\n",
    "df3"
   ]
  },
  {
   "cell_type": "markdown",
   "metadata": {
    "id": "HewivyrO9HlS"
   },
   "source": [
    "## Muitos para um"
   ]
  },
  {
   "cell_type": "code",
   "execution_count": null,
   "metadata": {
    "id": "stg5NkQP9J6M"
   },
   "outputs": [],
   "source": [
    "df4 = pd.DataFrame({'area': ['Contabilidade', 'Engenheiro', 'RH'],\n",
    "'supervisor': ['Carly', 'Guido', 'Steve']})"
   ]
  },
  {
   "cell_type": "code",
   "execution_count": null,
   "metadata": {
    "id": "5gZFbjQx9U3y"
   },
   "outputs": [],
   "source": [
    "pd.merge(df3, df4)"
   ]
  },
  {
   "cell_type": "markdown",
   "metadata": {
    "id": "anuCMAxX9jLI"
   },
   "source": [
    "## Muitos para muitos"
   ]
  },
  {
   "cell_type": "code",
   "execution_count": null,
   "metadata": {
    "id": "hN4q1oDY9k08"
   },
   "outputs": [],
   "source": [
    "df5 = pd.DataFrame({'area': ['Contabilidade', 'Contabilidade', 'Engenheiro',\n",
    "                             'Engenheiro', 'RH', 'RH'],\n",
    "                    'habilidade': ['Mat', 'Planilha', 'Programacao', 'Python',\n",
    "                                   'Planilha', 'Organizacao']})\n",
    "\n",
    "pd.merge(df1, df5)"
   ]
  },
  {
   "cell_type": "markdown",
   "metadata": {
    "id": "2H_bBuZw-KW-"
   },
   "source": [
    "## Especificando a chave"
   ]
  },
  {
   "cell_type": "code",
   "execution_count": null,
   "metadata": {
    "id": "yZQNAT5F-OkU"
   },
   "outputs": [],
   "source": [
    "pd.merge(df1, df2, on='empregado')"
   ]
  },
  {
   "cell_type": "code",
   "execution_count": null,
   "metadata": {
    "id": "qDNqjGYs-Tx2"
   },
   "outputs": [],
   "source": [
    "df3 = pd.DataFrame({'nome': ['Bob', 'Jake', 'Lisa', 'Sue'],\n",
    "                    'salario': [7, 8, 12, 9]})"
   ]
  },
  {
   "cell_type": "code",
   "execution_count": null,
   "metadata": {
    "id": "jqLp2MnZ-cJs"
   },
   "outputs": [],
   "source": [
    "pd.merge(df1, df3, left_on = 'empregado', right_on='nome')"
   ]
  },
  {
   "cell_type": "code",
   "execution_count": null,
   "metadata": {
    "id": "CaIl9Q_j-iUA"
   },
   "outputs": [],
   "source": [
    "pd.merge(df1, df3, left_on = 'empregado', right_on='nome').drop('nome', axis=1)"
   ]
  },
  {
   "cell_type": "code",
   "execution_count": null,
   "metadata": {
    "id": "WWoIPsTXJx3u"
   },
   "outputs": [],
   "source": [
    "df1_i = df1.set_index('empregado')\n",
    "df3_i = df3.set_index('nome')\n",
    "pd.merge(df1_i, df3_i, left_index = True, right_index=True)"
   ]
  },
  {
   "cell_type": "code",
   "execution_count": null,
   "metadata": {
    "id": "sXlTKKWpKHU1"
   },
   "outputs": [],
   "source": [
    "df1_i.join(df3_i)"
   ]
  },
  {
   "cell_type": "code",
   "execution_count": null,
   "metadata": {
    "id": "kW9iw-VjKMtF"
   },
   "outputs": [],
   "source": [
    "pd.merge(df1_i, df3, left_index = True, right_on='nome')"
   ]
  },
  {
   "cell_type": "markdown",
   "metadata": {
    "id": "fcx2KjnwKiV8"
   },
   "source": [
    "##Especificando o join"
   ]
  },
  {
   "cell_type": "code",
   "execution_count": null,
   "metadata": {
    "id": "gA-jFaMSKh8Z"
   },
   "outputs": [],
   "source": [
    "df6 = pd.DataFrame({'nome': ['Peter', 'Paul', 'Mary'],\n",
    "'comida': ['peixe', 'feijão', 'pão']})\n",
    "df7 = pd.DataFrame({'nome': ['Mary', 'Joseph'],\n",
    "'bebida': ['vinho', 'cerveja']})"
   ]
  },
  {
   "cell_type": "code",
   "execution_count": null,
   "metadata": {
    "id": "eZEmf_UZK1Z6"
   },
   "outputs": [],
   "source": [
    "pd.merge(df6, df7)"
   ]
  },
  {
   "cell_type": "code",
   "execution_count": null,
   "metadata": {
    "id": "ffcXMZmnK5qW"
   },
   "outputs": [],
   "source": [
    "pd.merge(df6, df7, how='inner')"
   ]
  },
  {
   "cell_type": "code",
   "execution_count": null,
   "metadata": {
    "id": "t4Yb7iM8K8-F"
   },
   "outputs": [],
   "source": [
    "pd.merge(df6, df7, how='outer')"
   ]
  },
  {
   "cell_type": "code",
   "execution_count": null,
   "metadata": {
    "id": "yNHXhJ_iK-38"
   },
   "outputs": [],
   "source": [
    "pd.merge(df6, df7, how='left')"
   ]
  },
  {
   "cell_type": "code",
   "execution_count": null,
   "metadata": {
    "id": "rUAw9waXLArj"
   },
   "outputs": [],
   "source": [
    "pd.merge(df6, df7, how='right')"
   ]
  },
  {
   "cell_type": "code",
   "execution_count": null,
   "metadata": {
    "id": "eStHNRTkLWaA"
   },
   "outputs": [],
   "source": [
    "pd.merge(df6, df7, how='outer', indicator=True)"
   ]
  },
  {
   "cell_type": "code",
   "execution_count": null,
   "metadata": {
    "id": "41hBFPrWLkxu"
   },
   "outputs": [],
   "source": [
    "#left anti, left excluisve\n",
    "df_outer = pd.merge(df6, df7, how='outer', indicator=True)\n",
    "df_outer[df_outer._merge == 'left_only'].drop(columns='_merge')"
   ]
  },
  {
   "cell_type": "code",
   "execution_count": null,
   "metadata": {
    "id": "x6PGF1ECL3Q_"
   },
   "outputs": [],
   "source": [
    "df_outer[df_outer._merge == 'right_only'].drop(columns='_merge')"
   ]
  },
  {
   "cell_type": "code",
   "execution_count": null,
   "metadata": {
    "id": "GVqzMj5sL6B6"
   },
   "outputs": [],
   "source": [
    "#exclusive\n",
    "df_outer[df_outer._merge.isin(['right_only', 'left_only'])].drop(columns='_merge')"
   ]
  },
  {
   "cell_type": "markdown",
   "metadata": {
    "id": "Hj9GZlMKMHbY"
   },
   "source": [
    "# Overlapping"
   ]
  },
  {
   "cell_type": "code",
   "execution_count": null,
   "metadata": {
    "id": "iYTv7TtiMKSa"
   },
   "outputs": [],
   "source": [
    "df8 = pd.DataFrame({'nome': ['Bob', 'Jake', 'Lisa', 'Sue'],\n",
    "'rank': [1, 2, 3, 4]})\n",
    "df9 = pd.DataFrame({'nome': ['Bob', 'Jake', 'Lisa', 'Sue'],\n",
    "'rank': [3, 1, 4, 2]})"
   ]
  },
  {
   "cell_type": "code",
   "execution_count": null,
   "metadata": {
    "id": "R4heviipMQdJ"
   },
   "outputs": [],
   "source": [
    "pd.merge(df8, df9, on='nome')"
   ]
  },
  {
   "cell_type": "code",
   "execution_count": null,
   "metadata": {
    "id": "DNwwj8kIMZAM"
   },
   "outputs": [],
   "source": [
    "pd.merge(df8, df9, on='nome', suffixes=['_L', '_R'])"
   ]
  }
 ],
 "metadata": {
  "colab": {
   "provenance": []
  },
  "kernelspec": {
   "display_name": "Python 3 (ipykernel)",
   "language": "python",
   "name": "python3"
  },
  "language_info": {
   "codemirror_mode": {
    "name": "ipython",
    "version": 3
   },
   "file_extension": ".py",
   "mimetype": "text/x-python",
   "name": "python",
   "nbconvert_exporter": "python",
   "pygments_lexer": "ipython3",
   "version": "3.10.8"
  }
 },
 "nbformat": 4,
 "nbformat_minor": 1
}
