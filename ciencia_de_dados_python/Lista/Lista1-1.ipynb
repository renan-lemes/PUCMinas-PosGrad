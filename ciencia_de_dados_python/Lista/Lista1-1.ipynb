{
  "nbformat": 4,
  "nbformat_minor": 0,
  "metadata": {
    "colab": {
      "provenance": []
    },
    "kernelspec": {
      "name": "python3",
      "display_name": "Python 3"
    },
    "language_info": {
      "name": "python"
    }
  },
  "cells": [
    {
      "cell_type": "markdown",
      "source": [
        "# Exercício 1\n",
        "\n",
        "Escreva uma função que receba uma lista com valores de receita obtidos em x dias e calcule a média móvel de três dias ao longo dos valores.\n",
        "\n",
        "**Entrada**: Lista contendo valores de receita\n",
        "\n",
        "**Saída**: Lista com média móvel\n",
        "\n",
        "Exemplo:\n",
        "\n",
        "Entrada: [1, 4, 6, 8, 10, 11, 15]\n",
        "\n",
        "Operação:\n",
        "* $\\frac{1+4+6}{3}$\n",
        "* $\\frac{4+6+8}{3}$\n",
        "\n",
        "Saída: [3.66, 6, 8, 9.66, 12]"
      ],
      "metadata": {
        "id": "WBa4i5rmVPTK"
      }
    },
    {
      "cell_type": "code",
      "source": [
        "def gerar_dados_ma(size:int) -> list:\n",
        "  \"\"\"Gera dados do exercicio 1 e 2\n",
        "\n",
        "  :param size: Número de observações\n",
        "  :type size: int\n",
        "\n",
        "  :return:\n",
        "    lista: Lista com as observações\n",
        "  \"\"\"\n",
        "\n",
        "  import random\n",
        "  random.seed(15)\n",
        "\n",
        "  if size <= 2:\n",
        "    raise Exception('Tamanho deve ser no minimo 3')\n",
        "\n",
        "  output_list = []\n",
        "  output_list.append(random.gauss(0, 2))\n",
        "\n",
        "  output_list.append(random.gauss(0, 2))\n",
        "  for k in range(2, size):\n",
        "    new_obs = 0.8*output_list[k-1] - 0.5*output_list[k-2] + random.gauss(0, 2)\n",
        "    output_list.append(new_obs)\n",
        "\n",
        "  return output_list"
      ],
      "metadata": {
        "id": "Vc4ihNyAPvqs"
      },
      "execution_count": null,
      "outputs": []
    },
    {
      "cell_type": "code",
      "execution_count": null,
      "metadata": {
        "id": "ZaBBSJHKVNkL"
      },
      "outputs": [],
      "source": [
        "def exercicio_1():\n",
        "  pass"
      ]
    },
    {
      "cell_type": "markdown",
      "source": [
        "# Exercício 2\n",
        "Escreva a função do exercício 1 porém com o parâmetro de dias da média móvel sendo um input.\n",
        "\n",
        "**Entrada**: Dados, parâmetro da média móvel\n",
        "\n",
        "**Saída**: Lista com as médias móveis\n",
        "\n",
        "Observação: o código não deve funcionar caso o volume de dados seja menor que o dias necessários para a média móvel.\n",
        "\n",
        "Exemplo:\n",
        "\n",
        "Entrada: [1, 4, 6, 8, 10, 11, 15] e parâmetro = 4\n",
        "\n",
        "Operação:\n",
        "* $\\frac{1+4+6+8}{4}$\n",
        "* $\\frac{4+6+8+10}{4}$\n",
        "\n",
        "Saída: [4.75, 7, 8.75, 11]"
      ],
      "metadata": {
        "id": "dZuhx8nZXShF"
      }
    },
    {
      "cell_type": "code",
      "source": [
        "def exercicio_2():\n",
        "  pass"
      ],
      "metadata": {
        "id": "XiOMSs-hY38V"
      },
      "execution_count": null,
      "outputs": []
    },
    {
      "cell_type": "markdown",
      "source": [
        "# Exercício 3\n",
        "Desejamos realizar transformações em features a serem utilizadas em um modelo.\n",
        "\n",
        "**Entrada**  receberemos uma lista com os valoers da feature\n",
        "\n",
        "**Saída** uma lista com a feature; a feature utilizando a normalização z-score; feature utilizando a normalização maxmin\n",
        "\n",
        "\n",
        "Z-score: $\\frac{X - \\bar{X}}{DP(X)}$.\n",
        "\n",
        "$\\bar{X}$ é média das features e $DP(X)$ é o desvio-padrão de x.\n",
        "\n",
        "Normalização maxmin: $\\frac{X-min(X)}{max(X)-min(X)}$\n",
        "\n",
        "Exemplo:\n",
        "Entrada: [1 , 2, 3]\n",
        "\n",
        "Saída: [[1, 2, 3], [-1, 0, 1], [0, 0.5, 1]]"
      ],
      "metadata": {
        "id": "UCA9EqWjWKnu"
      }
    },
    {
      "cell_type": "code",
      "source": [
        "def gerar_features(size: int) -> list:\n",
        "  \"\"\"Gera dados do exercicio 3\n",
        "\n",
        "  :param size: Número de observações\n",
        "  :type size: int\n",
        "  :param features: Número de features\n",
        "  :type features: int\n",
        "\n",
        "  :return:\n",
        "    lista: Dicionario com as observações\n",
        "  \"\"\"\n",
        "  import random\n",
        "  random.seed(15)\n",
        "\n",
        "  if size <= 2:\n",
        "    raise Exception('Tamanho deve ser no minimo 3')\n",
        "\n",
        "  output_list = []\n",
        "  for k in range(size):\n",
        "    output_list.append(random.gauss(4, 3))\n",
        "\n",
        "  return output_list"
      ],
      "metadata": {
        "id": "s3CWaKczRjfY"
      },
      "execution_count": null,
      "outputs": []
    },
    {
      "cell_type": "code",
      "source": [
        "def exercicio_3():\n",
        "  pass"
      ],
      "metadata": {
        "id": "SdMdUrqCY5NR"
      },
      "execution_count": null,
      "outputs": []
    },
    {
      "cell_type": "markdown",
      "source": [
        "# Exercício 4\n",
        "Desejamos realizar essa transformação em um dicionário de features, a transformação a ser utilizada sera um input na função. Se o input for z-score a normalização z-score deve ocorrer e caso seja max-min a normalização max-min deve ocorrer.\n",
        "\n",
        "**Entrada** Dicionário com as features e tipo de padronização (string)\n",
        "\n",
        "**Saída** Dicionário com a feature padronizada.\n",
        "\n",
        "Exemplo:\n",
        "\n",
        "Entrada:\n",
        "{'Feature 1': [1, 2, 3],\n",
        "'Feature 2': [1, 4, 10]}\n",
        "\n",
        "Tipo de padronização: max-min\n",
        "\n",
        "Saída:\n",
        "{'Feature 1': [0, 0.5, 1],\n",
        "'Feature 2': [0, 0.4, 1]}"
      ],
      "metadata": {
        "id": "4tEki7mAZDa7"
      }
    },
    {
      "cell_type": "code",
      "source": [
        "def gerar_features_dict(size: int, features: int) -> list:\n",
        "  \"\"\"Gera dados do exercicio 4\n",
        "\n",
        "  :param size: Número de observações\n",
        "  :type size: int\n",
        "  :param features: Número de features\n",
        "  :type features: int\n",
        "\n",
        "  :return:\n",
        "    lista: Dicionario com as observações\n",
        "  \"\"\"\n",
        "  import random\n",
        "  random.seed(15)\n",
        "\n",
        "  if size <= 2:\n",
        "    raise Exception('Tamanho deve ser no minimo 3')\n",
        "\n",
        "  if features <= 1:\n",
        "    raise Exception('Número de features deve ser no minimo 2')\n",
        "\n",
        "  output_dict = {}\n",
        "  mean = 3\n",
        "  sd = 1\n",
        "\n",
        "  for j in range(features):\n",
        "    output_dict[f'feature_{j}'] = []\n",
        "    for k in range(size):\n",
        "      output_dict[f'feature_{j}'].append(random.gauss(mean, sd))\n",
        "    mean += 0.5\n",
        "    sd *= 1.1\n",
        "\n",
        "  return output_dict"
      ],
      "metadata": {
        "id": "C6yX4nf8SbND"
      },
      "execution_count": null,
      "outputs": []
    },
    {
      "cell_type": "code",
      "source": [
        "def exercicio_4():\n",
        "  pass"
      ],
      "metadata": {
        "id": "HJ0UeOOLY_LG"
      },
      "execution_count": null,
      "outputs": []
    },
    {
      "cell_type": "markdown",
      "source": [
        "# Exercício 5\n",
        "Possuímos uma lista com o id do usuário e uma outra lista com o valor das compras realizadas por ele. Considerar que o usuário no indice 0 fez a compra do índice 0.\n",
        "\n",
        "Supondo que o usuário aparece mais de uma vez criar um dicionário com chave id e valor máximo das compras\n",
        "\n",
        "**Entrada**: Lista com id e lista com as compras\n",
        "\n",
        "**Saída**: Dicionário com chave id do usuário e valor o máximo das compras\n",
        "\n",
        "Exemplo:\n",
        "\n",
        "Entrada:\n",
        "\n",
        "Lista_id = [0, 1, 2, 1, 0]\n",
        "\n",
        "Lista_compras = [100, 150, 200, 75, 300]\n",
        "\n",
        "Saída:\n",
        "{0: 300,\n",
        "1: 150,\n",
        "2: 200}\n"
      ],
      "metadata": {
        "id": "ghIM7UyTmEhU"
      }
    },
    {
      "cell_type": "code",
      "source": [
        "from typing import Tuple\n",
        "def gerar_listas(size: int, users: int) -> Tuple[list, list]:\n",
        "  \"\"\"Gera dados do exercicio 4\n",
        "\n",
        "  :param size: Número de observações\n",
        "  :type size: int\n",
        "  :param users: Número de usuários\n",
        "  :type features: int\n",
        "\n",
        "  :return:\n",
        "    Tuple[list, list]: Lista com o identificador dos usuários e lista com o valor da compra.\n",
        "  \"\"\"\n",
        "  import random\n",
        "  random.seed(15)\n",
        "\n",
        "  if size <= users * 4:\n",
        "    raise Exception('Amostra deve ser 4 vezes maior que o número de usuarios')\n",
        "\n",
        "\n",
        "\n",
        "  id_user = []\n",
        "  receita = []\n",
        "\n",
        "  for k in range(size):\n",
        "    id_user.append(random.randint(0, users))\n",
        "    receita.append(random.gammavariate(10, 200))\n",
        "\n",
        "\n",
        "  return id_user, receita"
      ],
      "metadata": {
        "id": "S6Vqj7KNmfzk"
      },
      "execution_count": null,
      "outputs": []
    },
    {
      "cell_type": "code",
      "source": [
        "def exercicio_5():\n",
        "  pass"
      ],
      "metadata": {
        "id": "0bMpWyi_oDcy"
      },
      "execution_count": null,
      "outputs": []
    }
  ]
}