{
  "nbformat": 4,
  "nbformat_minor": 0,
  "metadata": {
    "colab": {
      "provenance": []
    },
    "kernelspec": {
      "name": "python3",
      "display_name": "Python 3"
    },
    "language_info": {
      "name": "python"
    }
  },
  "cells": [
    {
      "cell_type": "markdown",
      "source": [
        "# Exercício 1:\n",
        "\n",
        "Desejamos calcular a correção de um índice (valor entre 0 e 1), a correção é dada por:\n",
        "\n",
        "\n",
        "* Se índice está no intervalo [0.6, 1] então multiplique por 0.8\n",
        "* Se índice está no intervalo [0.2, 0.6) então multiplique por 0.85\n",
        "* Se o índice está no intervalo [0, 0.2) então multiplique por 0.9.\n",
        "\n",
        "Exemplo:\n",
        "\n",
        "Índice = 0.6; índice corrigido 0.48\n",
        "\n",
        "Índice = 0.7; índice corrigido 0.56\n",
        "\n",
        "Índice = 0.2; índice corrigido 0.17\n",
        "\n",
        "Índice = 0.1; índice corrigido 0.09\n",
        "\n",
        "Escreva duas funções para realizar esta transformação, ambas as funções devem ter a mesma entrada e mesma saída, a diferença das funções é:\n",
        "\n",
        "* Em uma função deve ser utilizado apenas condição e loop para realizar a transformação dos dados que será recebido em um array (Função exercicio_1_a)\n",
        "* Na outra função deverá ser utilizada apenas operações com arrays. (Função exercicio_1_b). Obs.: pode ser utilizada operações lógicas com array (array > 1).\n",
        "\n",
        "**Entrada**: array como valor entre 0 e 1\n",
        "\n",
        "**Saída**: array com os valores corrigidos\n"
      ],
      "metadata": {
        "id": "ww7srPbTg8wu"
      }
    },
    {
      "cell_type": "code",
      "source": [
        "import numpy as np\n",
        "#Exemplo\n",
        "entrada = np.array([0.13710655, 0.02993014, 0.34184833, 0.67633817, 0.43331636, 0.43511794, 0.04085725, 0.33685067, 0.1500961 , 0.69869715])\n",
        "saida = np.array([0.1233959 , 0.02693712, 0.29057108, 0.54107053, 0.36831891, 0.36985025, 0.03677152, 0.28632307, 0.13508649, 0.55895772])"
      ],
      "metadata": {
        "id": "6e5hvYglpQAO"
      },
      "execution_count": null,
      "outputs": []
    },
    {
      "cell_type": "code",
      "source": [
        "## Para geração de números aleatorios\n",
        "\n",
        "np.random.seed(15) ##pode definir a semente que quiser\n",
        "np.random.random(10) ##pode definir o tamanho de array que quiser"
      ],
      "metadata": {
        "colab": {
          "base_uri": "https://localhost:8080/"
        },
        "id": "_fMCueA3jNuM",
        "outputId": "b5e18e6d-9a11-4a12-8a41-865826f0a947"
      },
      "execution_count": null,
      "outputs": [
        {
          "output_type": "execute_result",
          "data": {
            "text/plain": [
              "array([0.8488177 , 0.17889592, 0.05436321, 0.36153845, 0.27540093,\n",
              "       0.53000022, 0.30591892, 0.30447436, 0.11174128, 0.24989901])"
            ]
          },
          "metadata": {},
          "execution_count": 25
        }
      ]
    },
    {
      "cell_type": "code",
      "source": [
        "## Utilizar apenas condição e loop\n",
        "def exercicio_1_a():\n",
        "  pass"
      ],
      "metadata": {
        "id": "YZVEHRmHiz7n"
      },
      "execution_count": null,
      "outputs": []
    },
    {
      "cell_type": "code",
      "source": [
        "## Utilizar apenas operações com array\n",
        "def exercicio_1_b():\n",
        "  pass"
      ],
      "metadata": {
        "id": "yMLxTnmojIbA"
      },
      "execution_count": null,
      "outputs": []
    },
    {
      "cell_type": "markdown",
      "source": [
        "# Exercício 2\n",
        "\n",
        "Medidas de similaridades são importantes em diversas aplicações em ciência de dados, como por exemplo algoritmos de clusterização e NLP.\n",
        "\n",
        "Medidas de similaridade são métricas que indicam o quão dois vetores (pontos) são similares entre si, ou o quão dois conjuntos são similares entre si. Alguns exemplos de medidas de similaridade são:\n",
        "\n",
        "Implemente uma função que calcule cada uma das seguintes medidas:\n",
        "\n",
        "## a) Distância euclidiana\n",
        "\n",
        "Calcula-se a distância de dois pontos. Pode ser utilizado em algoritmos de clusterização para identificar observações parecidas.\n",
        "\n",
        "$d(a,b) = \\sqrt{\\sum_{i=1}^n(a_i - bi)^2}$,\n",
        "\n",
        "n é o tamanho do meu espaço (2-dimensões n=2; 3-dimensões n=3) e em algoritmos de clusterização representa o número de features.\n",
        "\n",
        "\n",
        "Exemplo:\n",
        "\n",
        "a = (1, 2)\n",
        "b = (3, 5)\n",
        "\n",
        "\n",
        "$d(a,b) = \\sqrt{(1-3)^2 + (2-5)^2} = \\sqrt{2^2 + 3^2} = \\sqrt{13}$\n",
        "\n",
        "Para a função\n",
        "**Entrada**: dois arrays de dimensão 1 para se calcular a distância. Obs: o formato (tamanho do array) deve ser o mesmo.\n",
        "\n",
        "\n",
        "**Saída**: valor da distância"
      ],
      "metadata": {
        "id": "d_cBwoAOpdmf"
      }
    },
    {
      "cell_type": "code",
      "source": [
        "from typing import Tuple\n",
        "def gera_dados_1(n: int) -> Tuple[np.array, np.array]:\n",
        "  \"\"\"Gera vetores para as letras a, b e c\n",
        "\n",
        "  :param n: Tamanho do array\n",
        "  :type n: int\n",
        "\n",
        "  :return:\n",
        "    Tuple[np.array, np.array]: retorna dois arrays para se calcular a similaridade.\n",
        "\n",
        "  \"\"\"\n",
        "  import numpy as np\n",
        "\n",
        "  np.random.seed(15)\n",
        "\n",
        "  array_1 = np.random.normal(n)\n",
        "  array_2 = np.random.normal(n)\n",
        "\n",
        "  return array_1, array_2"
      ],
      "metadata": {
        "id": "VL7Yi5hzytGx"
      },
      "execution_count": null,
      "outputs": []
    },
    {
      "cell_type": "code",
      "source": [
        "def exercicio_2_a():\n",
        "  pass"
      ],
      "metadata": {
        "id": "l0ttQoQxyqqp"
      },
      "execution_count": null,
      "outputs": []
    },
    {
      "cell_type": "markdown",
      "source": [
        "## b) Distância de Manhattan\n",
        "\n",
        "Outra forma de calcular a distância entre dois pontos. Também pode ser utilizada em algoritmos de clusterização.\n",
        "\n",
        "$d(a,b) = \\sum_{i=1}^n |a_i-b_i|$\n",
        "\n",
        "A interpretação de n para clusterização é a mesma que da distância euclidiana.\n",
        "\n",
        "Exemplo:\n",
        "\n",
        "a = (1, 2)\n",
        "b = (3, 5)\n",
        "\n",
        "$d(a,b) = 5$\n",
        "\n",
        "**Entrada**: dois arrays de dimensão 1 para se calcular a distância. Obs: o formato (tamanho do array) deve ser o mesmo.\n",
        "\n",
        "**Saída**: valor da distância"
      ],
      "metadata": {
        "id": "EQ3gAz16x8gX"
      }
    },
    {
      "cell_type": "code",
      "source": [
        "def exercicio_2_b():\n",
        "  pass"
      ],
      "metadata": {
        "id": "dxUBC1Zbzce2"
      },
      "execution_count": null,
      "outputs": []
    },
    {
      "cell_type": "markdown",
      "source": [
        "## c) Cosseno similaridade\n",
        "\n",
        "Uma métrica muito utilizada, especialmente em NLP, para comparar a similaridade de dois vetores é a cosseno similaridade (calcula o cosseno do ângulo entre os vetores)\n",
        "\n",
        "$sim(a, b) = \\frac{\\sum_{i=1}^n a_i * b_i}{\\sqrt{\\sum_{i=1}^n a_i^2} \\sqrt{\\sum_{i=1}^n b_i^2}}$\n",
        "\n",
        "Obs.: os valores de similaridade estarão entre 1 (muita similaridade) e -1 (vetores opostos)\n",
        "\n",
        "Exemplo:\n",
        "\n",
        "a = (1, 2)\n",
        "b = (3, 5)\n",
        "\n",
        "$sim(a,b) = \\frac{1*3 + 2*5}{\\sqrt{1^2+2^2}\\sqrt{3^2+5^2}}=0.99$\n",
        "\n",
        "**Entrada**: dois arrays de dimensão 1 para se calcular a similaridade. Obs: o formato (tamanho do array) deve ser o mesmo.\n",
        "\n",
        "\n",
        "**Saída**: valor similaridade"
      ],
      "metadata": {
        "id": "cLH_7Bpzzd1z"
      }
    },
    {
      "cell_type": "code",
      "source": [
        "def exercicio_2_c():\n",
        "  pass"
      ],
      "metadata": {
        "id": "KApRXDE70yxR"
      },
      "execution_count": null,
      "outputs": []
    },
    {
      "cell_type": "markdown",
      "source": [
        "## d) Jaccard índice:\n",
        "\n",
        "O índice de Jaccard mede a similaridade de dois conjuntos, possui aplicação em NLP para verificar se duas frases têm vocabulário bem similar. Dado um conjunto A e B o índice de Jaccard é calculado como:\n",
        "\n",
        "$Jaccard = \\frac{|A \\cap B|}{|A \\cup B|}$\n",
        "\n",
        "Em NLP podemos representar uma frase através de um array de dimensão 1 onde cada posição indica se uma palavra apareceu ou não na frase. Exemplo:\n",
        "\n",
        "\n",
        "|Frase|oi|meu|nome|é|gabriel|pedro|\n",
        "|----|---|---|----|---|----|----|\n",
        "|oi meu nome é gabriel|1|1|1|1|1|0|\n",
        "|oi meu nome é pedro|1|1|1|1|0|1|\n",
        "\n",
        "Frase A: \"oi meu nome é gabriel\": [1, 1, 1, 1, 1, 0]\n",
        "\n",
        "Frase B: \"oi meu nome é pedro\": [1, 1, 1, 1, 0, 1]\n",
        "\n",
        "$Jaccard = \\frac{4}{6}$\n",
        "\n",
        "**Entrada**: dois arrays de dimensão 1 para se calcular o índice. Obs: o formato (tamanho do array) deve ser o mesmo e ele deve ser preenchido com apenas zeros e um.\n",
        "\n",
        "**Saída**: valor do índice"
      ],
      "metadata": {
        "id": "TQ7eEU4T042Q"
      }
    },
    {
      "cell_type": "code",
      "source": [
        "from typing import Tuple\n",
        "def gera_dados_2(n: int) -> Tuple[np.array, np.array]:\n",
        "  \"\"\"Gera vetores para a letra d\n",
        "\n",
        "  :param n: Tamanho do array\n",
        "  :type n: int\n",
        "\n",
        "  :return:\n",
        "    Tuple[np.array, np.array]: retorna dois arrays para se calcular a similaridade.\n",
        "\n",
        "  \"\"\"\n",
        "  import numpy as np\n",
        "\n",
        "  np.random.seed(15)\n",
        "\n",
        "  array_1 = np.random.choice([0, 1], size=(n,), p=[0.25, 0.75])\n",
        "\n",
        "  array_2 = np.random.choice([0, 1], size=(n,), p=[0.5, 0.5])\n",
        "  return array_1, array_2"
      ],
      "metadata": {
        "id": "-0iJPmKd4PIR"
      },
      "execution_count": null,
      "outputs": []
    },
    {
      "cell_type": "code",
      "source": [
        "def exercicio_2_d():\n",
        "  pass"
      ],
      "metadata": {
        "id": "5dm9MAId20gN"
      },
      "execution_count": null,
      "outputs": []
    }
  ]
}