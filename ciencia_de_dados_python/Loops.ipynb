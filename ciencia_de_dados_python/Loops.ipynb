{
 "cells": [
  {
   "cell_type": "markdown",
   "metadata": {
    "id": "y9d0LUoZB0A_"
   },
   "source": [
    "# Material complementar aos slides - Loops"
   ]
  },
  {
   "cell_type": "code",
   "execution_count": null,
   "metadata": {
    "id": "A9-aMmJeBv7z"
   },
   "outputs": [],
   "source": [
    "vendas = [10, 20, 30, 50]\n",
    "receita = 0\n",
    "k = 0\n",
    "while receita < 50:\n",
    "  receita += vendas[k]\n",
    "  k += 1\n",
    "print(receita)"
   ]
  },
  {
   "cell_type": "code",
   "execution_count": null,
   "metadata": {
    "id": "VSlTYXvrCDb4"
   },
   "outputs": [],
   "source": [
    "vendas = [10, 20, 30, 50]\n",
    "receita = 0\n",
    "k = 0\n",
    "while receita < 200:\n",
    "  receita += vendas[k]\n",
    "  k += 1\n",
    "print(receita)"
   ]
  },
  {
   "cell_type": "code",
   "execution_count": null,
   "metadata": {
    "id": "jxtulZOYCHlz"
   },
   "outputs": [],
   "source": [
    "vendas = [10, 20, 30, 50]\n",
    "receita = 0\n",
    "k = 0\n",
    "while receita < 200 and k<len(vendas):\n",
    "  receita += vendas[k]\n",
    "  k += 1\n",
    "print(receita)"
   ]
  },
  {
   "cell_type": "markdown",
   "metadata": {
    "id": "Lzqxg_ILCNC8"
   },
   "source": [
    "## Break"
   ]
  },
  {
   "cell_type": "code",
   "execution_count": null,
   "metadata": {
    "id": "-He1LE1yCOq6"
   },
   "outputs": [],
   "source": [
    "n = 0\n",
    "while n < 6:\n",
    "  if n == 4:\n",
    "    break\n",
    "  print(n)\n",
    "  n += 1"
   ]
  },
  {
   "cell_type": "code",
   "execution_count": null,
   "metadata": {
    "id": "84YIsDF6Cd48"
   },
   "outputs": [],
   "source": [
    "n = 0\n",
    "k\n",
    "while n < 6:\n",
    "  print(f'Valor de n: {n}')\n",
    "  if n != 4:\n",
    "    k += n\n",
    "  else:\n",
    "    break\n",
    "  n+=1\n",
    "print(f'Valor de n: {n}')\n",
    "print(k)"
   ]
  },
  {
   "cell_type": "markdown",
   "metadata": {
    "id": "NNqXVMdLCv9-"
   },
   "source": [
    "## Pass"
   ]
  },
  {
   "cell_type": "code",
   "execution_count": null,
   "metadata": {
    "id": "IZOBx7ClC6D9"
   },
   "outputs": [],
   "source": [
    "n = 0\n",
    "while n < 6:\n",
    "  if n == 4:\n",
    "    pass\n",
    "  print(n)\n",
    "  n += 1"
   ]
  },
  {
   "cell_type": "code",
   "execution_count": null,
   "metadata": {
    "id": "0YI2QUTwC8h0"
   },
   "outputs": [],
   "source": [
    "n = 0\n",
    "k = 0\n",
    "while n < 6:\n",
    "  print('-----------------')\n",
    "  print(f'Valor de n: {n}')\n",
    "  if n != 4:\n",
    "    k += n\n",
    "  else:\n",
    "    pass\n",
    "  print(f'Valor de k: {k}')\n",
    "  n+=1\n",
    "print('-----------------')\n",
    "print('Encerrou o while')\n",
    "print(f'Valor de n: {n}')\n",
    "print(f'Valor de k: {k}')"
   ]
  },
  {
   "cell_type": "markdown",
   "metadata": {
    "id": "opC2yyi1DY_W"
   },
   "source": [
    "## Continue"
   ]
  },
  {
   "cell_type": "code",
   "execution_count": null,
   "metadata": {
    "id": "5jO4T41WDcUR"
   },
   "outputs": [],
   "source": [
    "n = 0\n",
    "while n < 6:\n",
    "  if n == 4:\n",
    "    continue\n",
    "  print(n)\n",
    "  n += 1"
   ]
  },
  {
   "cell_type": "code",
   "execution_count": null,
   "metadata": {
    "id": "Cg_E2k9-DjFx"
   },
   "outputs": [],
   "source": [
    "n = 0\n",
    "while n < 6:\n",
    "  if n == 4:\n",
    "    n += 1\n",
    "    continue\n",
    "  print(n)\n",
    "  n += 1"
   ]
  },
  {
   "cell_type": "code",
   "execution_count": null,
   "metadata": {
    "id": "nYbdYeHDDh2i"
   },
   "outputs": [],
   "source": [
    "n = 0\n",
    "k = 0\n",
    "while n < 6:\n",
    "  print('-----------------')\n",
    "  print(f'Valor de n: {n}')\n",
    "  if n != 4:\n",
    "    k += n\n",
    "  else:\n",
    "    n += 1\n",
    "    continue\n",
    "  print(f'Valor de k: {k}')\n",
    "  n+=1\n",
    "print('-----------------')\n",
    "print('Encerrou o while')\n",
    "print(f'Valor de n: {n}')\n",
    "print(f'Valor de k: {k}')"
   ]
  },
  {
   "cell_type": "markdown",
   "metadata": {
    "id": "lLjk66KfDwsI"
   },
   "source": [
    "# For"
   ]
  },
  {
   "cell_type": "code",
   "execution_count": null,
   "metadata": {
    "id": "82Pdp3AtDyMt"
   },
   "outputs": [],
   "source": [
    "contador = 0\n",
    "for nome in ['Gabriel', 'Amanda', 'Ana']:\n",
    "  print(f'Valor de nome: {nome}')\n",
    "  if nome.startswith('A'):\n",
    "    contador += 1\n",
    "print(f'Valor do contador: {contador}')"
   ]
  },
  {
   "cell_type": "code",
   "execution_count": null,
   "metadata": {
    "id": "Nvgu0dGpD_lB"
   },
   "outputs": [],
   "source": [
    "for valor in [1000, 500, 600]:\n",
    "  print(valor)"
   ]
  },
  {
   "cell_type": "code",
   "execution_count": null,
   "metadata": {
    "id": "up4BkGDLEF7b"
   },
   "outputs": [],
   "source": [
    "for valor in (1000, 500, 600):\n",
    "  print(valor)"
   ]
  },
  {
   "cell_type": "code",
   "execution_count": null,
   "metadata": {
    "id": "DHN0Glk8EH_z"
   },
   "outputs": [],
   "source": [
    "valores = set([300, 1000, 500, 1000])\n",
    "for valor in valores:\n",
    "  print(valor)"
   ]
  },
  {
   "cell_type": "code",
   "execution_count": null,
   "metadata": {
    "id": "slyzHXlvEfk0"
   },
   "outputs": [],
   "source": [
    "dict_oferta = {'usuario_1' : {'Venda':  True,\n",
    "     'oferta' : 1000},\n",
    "  'usuario_2': {'Venda': False,\n",
    "   'oferta': 800},\n",
    "  'usuario_3': {'Venda': True,\n",
    "   'oferta': 900}}"
   ]
  },
  {
   "cell_type": "code",
   "execution_count": null,
   "metadata": {
    "id": "ctpq1Z0zEu64"
   },
   "outputs": [],
   "source": [
    "for value in dict_oferta:\n",
    "  print(f'Valor: {value}')"
   ]
  },
  {
   "cell_type": "code",
   "execution_count": null,
   "metadata": {
    "id": "DNzrE04KErv7"
   },
   "outputs": [],
   "source": [
    "for key in dict_oferta.keys():\n",
    "  print(f'Chave: {key}')"
   ]
  },
  {
   "cell_type": "code",
   "execution_count": null,
   "metadata": {
    "id": "M_gMyyDAEyhr"
   },
   "outputs": [],
   "source": [
    "for value in dict_oferta.values():\n",
    "  print(f'Valor: {value}')"
   ]
  },
  {
   "cell_type": "code",
   "execution_count": null,
   "metadata": {
    "id": "drMXl_fwE2IO"
   },
   "outputs": [],
   "source": [
    "for item in dict_oferta.items():\n",
    "  print(f'Item: {item}')"
   ]
  },
  {
   "cell_type": "code",
   "execution_count": null,
   "metadata": {
    "id": "AmHp3xOaE55f"
   },
   "outputs": [],
   "source": [
    "for key, value in dict_oferta.items():\n",
    "  print(f'Chave: {key}')\n",
    "  print(f'Valor: {value}')"
   ]
  },
  {
   "cell_type": "markdown",
   "metadata": {
    "id": "PRbrt6KiFAHJ"
   },
   "source": [
    "## Range"
   ]
  },
  {
   "cell_type": "code",
   "execution_count": null,
   "metadata": {
    "id": "LCkEFF4KFDaQ"
   },
   "outputs": [],
   "source": [
    "range(10)"
   ]
  },
  {
   "cell_type": "code",
   "execution_count": null,
   "metadata": {
    "id": "XpG_qk-bFE4s"
   },
   "outputs": [],
   "source": [
    "list(range(10))"
   ]
  },
  {
   "cell_type": "code",
   "execution_count": null,
   "metadata": {
    "id": "mjZYQUlgFHKv"
   },
   "outputs": [],
   "source": [
    "list(range(-2, 10))"
   ]
  },
  {
   "cell_type": "code",
   "execution_count": null,
   "metadata": {
    "id": "3gZjUzIPFKQ1"
   },
   "outputs": [],
   "source": [
    "list(range(-1, 10, 2))"
   ]
  },
  {
   "cell_type": "code",
   "execution_count": null,
   "metadata": {
    "id": "rxvq51CdFMwl"
   },
   "outputs": [],
   "source": [
    "list(range(-1.5, 10, 2))"
   ]
  },
  {
   "cell_type": "code",
   "execution_count": null,
   "metadata": {
    "id": "CXTivZ-tFP5u"
   },
   "outputs": [],
   "source": [
    "for k in range(10):\n",
    "  print(f'k: {k}')"
   ]
  },
  {
   "cell_type": "markdown",
   "metadata": {
    "id": "QCx_1wv1FSv2"
   },
   "source": [
    "##Enumerate"
   ]
  },
  {
   "cell_type": "code",
   "execution_count": null,
   "metadata": {
    "id": "bO9EY9pfFVYt"
   },
   "outputs": [],
   "source": [
    "for valor in enumerate([1000, 500, 600]):\n",
    "  print(f'Valor: {valor}')"
   ]
  },
  {
   "cell_type": "code",
   "execution_count": null,
   "metadata": {
    "id": "Azs7iJBJFaTG"
   },
   "outputs": [],
   "source": [
    "for ind, valor in enumerate([1000, 500, 600]):\n",
    "  print(f'Indice: {ind}')\n",
    "  print(f'Valor: {valor}')"
   ]
  },
  {
   "cell_type": "markdown",
   "metadata": {
    "id": "GT388FI_G8UH"
   },
   "source": [
    "## Zip"
   ]
  },
  {
   "cell_type": "code",
   "execution_count": null,
   "metadata": {
    "id": "KzkrHFIDG-c7"
   },
   "outputs": [],
   "source": [
    "lista_1 = [1000, 500, 600]\n",
    "lista_2 = ['venda_1', 'venda_1', 'venda_2']\n",
    "for valor, vendedor in zip(lista_1, lista_2):\n",
    "  print(f'Valor: {valor}')\n",
    "  print(f'Vendedor: {vendedor}')\n",
    "  print('------------------')"
   ]
  },
  {
   "cell_type": "code",
   "execution_count": null,
   "metadata": {
    "id": "dKz2tA7GHQHf"
   },
   "outputs": [],
   "source": [
    "lista_1 = [1000, 500, 600, 700]\n",
    "lista_2 = ['venda_1', 'venda_1', 'venda_2']\n",
    "for valor, vendedor in zip(lista_1, lista_2):\n",
    "  print(f'Valor: {valor}')\n",
    "  print(f'Vendedor: {vendedor}')\n",
    "  print('------------------')"
   ]
  },
  {
   "cell_type": "code",
   "execution_count": null,
   "metadata": {
    "id": "SU9ea-CEHRxx"
   },
   "outputs": [],
   "source": [
    "lista_1 = [1000, 500, 600]\n",
    "lista_2 = ['venda_1', 'venda_1', 'venda_2', 'venda_2']\n",
    "for valor, vendedor in zip(lista_1, lista_2):\n",
    "  print(f'Valor: {valor}')\n",
    "  print(f'Vendedor: {vendedor}')\n",
    "  print('------------------')"
   ]
  },
  {
   "cell_type": "code",
   "execution_count": null,
   "metadata": {
    "id": "ZxlBA_yXHVft"
   },
   "outputs": [],
   "source": [
    "lista_1 = [1000, 500, 600]\n",
    "lista_2 = ['venda_1', 'venda_1', 'venda_2', 'venda_2']\n",
    "lista_3 = [True, True, False]\n",
    "for valor, vendedor in zip(lista_1, lista_2, lista_3):\n",
    "  print(f'Valor: {valor}')\n",
    "  print(f'Vendedor: {vendedor}')\n",
    "  print('------------------')"
   ]
  },
  {
   "cell_type": "code",
   "execution_count": null,
   "metadata": {
    "id": "RlAFmE-xHdQz"
   },
   "outputs": [],
   "source": [
    "lista_1 = [1000, 500, 600]\n",
    "lista_2 = ['venda_1', 'venda_1', 'venda_2', 'venda_2']\n",
    "lista_3 = [True, True, False]\n",
    "for valor, vendedor, tipo in zip(lista_1, lista_2, lista_3):\n",
    "  print(f'Valor: {valor}')\n",
    "  print(f'Vendedor: {vendedor}')\n",
    "  print(f'Cliente vip: {tipo}')\n",
    "  print('------------------')"
   ]
  },
  {
   "cell_type": "code",
   "execution_count": null,
   "metadata": {
    "id": "wPXgkX8mHoSs"
   },
   "outputs": [],
   "source": [
    "lista_1 = [1000, 500, 600]\n",
    "lista_2 = ['venda_1', 'venda_1', 'venda_2', 'venda_2']\n",
    "lista_3 = [True, True, False]\n",
    "for valor in zip(lista_1, lista_2, lista_3):\n",
    "  print(f'Valor: {valor}')\n",
    "  print('------------------')"
   ]
  },
  {
   "cell_type": "markdown",
   "metadata": {
    "id": "mH3oTHsCHvq3"
   },
   "source": [
    "## Comprehension"
   ]
  },
  {
   "cell_type": "code",
   "execution_count": null,
   "metadata": {
    "id": "dOVh4hhXHyO8"
   },
   "outputs": [],
   "source": [
    "vendas = [50, 60, 70]\n",
    "novo_valor = [venda + 10 for venda in vendas]\n",
    "print(novo_valor)"
   ]
  },
  {
   "cell_type": "code",
   "execution_count": null,
   "metadata": {
    "id": "8rDaa_kgH5wI"
   },
   "outputs": [],
   "source": [
    "vendas = [50, 60, 70]\n",
    "novo_valor = [venda + 10 for venda in vendas if venda>50]\n",
    "print(novo_valor)"
   ]
  },
  {
   "cell_type": "code",
   "execution_count": null,
   "metadata": {
    "id": "TR1dVT3KH-Jb"
   },
   "outputs": [],
   "source": [
    "oferta_lista = [50, 60, 70]\n",
    "aceita_lista = [True, False, True]\n",
    "receita = [oferta for oferta, aceita in zip(oferta_lista, aceita_lista) if aceita]\n",
    "print(receita)"
   ]
  },
  {
   "cell_type": "code",
   "execution_count": null,
   "metadata": {
    "id": "QVD6W2ITIRgb"
   },
   "outputs": [],
   "source": [
    "receita = [oferta_lista[k] for k in range(len(oferta_lista)) if aceita_lista[k]]\n",
    "print(receita)"
   ]
  },
  {
   "cell_type": "code",
   "execution_count": null,
   "metadata": {
    "id": "xXkovYPPIdDi"
   },
   "outputs": [],
   "source": [
    "receita = [oferta_lista[k] if aceita_lista[k] else 0 for k in range(len(oferta_lista))]\n",
    "print(receita)"
   ]
  },
  {
   "cell_type": "code",
   "execution_count": null,
   "metadata": {
    "id": "QEb2W8XkIrbJ"
   },
   "outputs": [],
   "source": [
    "lista_nota = [50, 60, 70]\n",
    "lista_aluno = ['Aluno1', 'Aluno2', 'Aluno3']\n",
    "dict_aluno = {aluno: nota for aluno, nota in zip(lista_aluno, lista_nota)}\n",
    "print(dict_aluno)"
   ]
  }
 ],
 "metadata": {
  "colab": {
   "authorship_tag": "ABX9TyNOP4r0RoxUMrBpX4ClaEAA",
   "provenance": []
  },
  "kernelspec": {
   "display_name": "Python 3 (ipykernel)",
   "language": "python",
   "name": "python3"
  },
  "language_info": {
   "codemirror_mode": {
    "name": "ipython",
    "version": 3
   },
   "file_extension": ".py",
   "mimetype": "text/x-python",
   "name": "python",
   "nbconvert_exporter": "python",
   "pygments_lexer": "ipython3",
   "version": "3.10.8"
  }
 },
 "nbformat": 4,
 "nbformat_minor": 1
}
