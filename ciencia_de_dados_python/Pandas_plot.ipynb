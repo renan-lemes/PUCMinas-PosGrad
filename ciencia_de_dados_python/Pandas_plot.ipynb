{
 "cells": [
  {
   "cell_type": "code",
   "execution_count": null,
   "id": "8d51dbc7",
   "metadata": {},
   "outputs": [],
   "source": [
    "import pandas as pd\n",
    "import seaborn as sns"
   ]
  },
  {
   "cell_type": "code",
   "execution_count": null,
   "id": "ae269cb8",
   "metadata": {},
   "outputs": [],
   "source": [
    "planets = sns.load_dataset('planets')\n",
    "df = pd.read_csv('all_stocks_5yr.csv')"
   ]
  },
  {
   "cell_type": "markdown",
   "id": "9e8bad30",
   "metadata": {},
   "source": [
    "## Gráfico de linhas "
   ]
  },
  {
   "cell_type": "code",
   "execution_count": null,
   "id": "ca2c0ad7",
   "metadata": {},
   "outputs": [],
   "source": [
    "df.head()"
   ]
  },
  {
   "cell_type": "code",
   "execution_count": null,
   "id": "bea48f53",
   "metadata": {},
   "outputs": [],
   "source": [
    "df.set_index('date')[['open', 'high', 'low']]"
   ]
  },
  {
   "cell_type": "code",
   "execution_count": null,
   "id": "76d73276",
   "metadata": {},
   "outputs": [],
   "source": [
    "df.set_index('date')[['open', 'high', 'low']].plot.line()"
   ]
  },
  {
   "cell_type": "code",
   "execution_count": null,
   "id": "b9bcd458",
   "metadata": {},
   "outputs": [],
   "source": [
    "df.groupby('date')[['open', 'high', 'low']].mean().plot.line()"
   ]
  },
  {
   "cell_type": "code",
   "execution_count": null,
   "id": "0d978275",
   "metadata": {},
   "outputs": [],
   "source": [
    "df.groupby('date')[['open', 'high', 'low']].mean().plot.line(subplots=True)"
   ]
  },
  {
   "cell_type": "code",
   "execution_count": null,
   "id": "f8f91570",
   "metadata": {},
   "outputs": [],
   "source": [
    "df.groupby('date')[['open', 'high', 'low']].mean().plot.line(subplots=True, rot=90)"
   ]
  },
  {
   "cell_type": "code",
   "execution_count": null,
   "id": "4cfb2459",
   "metadata": {},
   "outputs": [],
   "source": [
    "df[['date', 'open']].plot.line(x='date', y='open', subplots=True, rot=90)"
   ]
  },
  {
   "cell_type": "markdown",
   "id": "146fa5cd",
   "metadata": {},
   "source": [
    "## Plot area"
   ]
  },
  {
   "cell_type": "code",
   "execution_count": null,
   "id": "a6456bf8",
   "metadata": {},
   "outputs": [],
   "source": [
    "df.groupby('date')[['open', 'close', 'low']].mean().plot.area(rot=90)"
   ]
  },
  {
   "cell_type": "code",
   "execution_count": null,
   "id": "e8d9e2e3",
   "metadata": {},
   "outputs": [],
   "source": [
    "df_pivot = df[df.Name.isin(['AAL', 'AAP', 'AAPL'])].pivot(index='date', columns='Name', values='open')"
   ]
  },
  {
   "cell_type": "code",
   "execution_count": null,
   "id": "2d9be033",
   "metadata": {},
   "outputs": [],
   "source": [
    "df_pivot.plot.area(rot=90)"
   ]
  },
  {
   "cell_type": "code",
   "execution_count": null,
   "id": "5b15270b",
   "metadata": {},
   "outputs": [],
   "source": [
    "mask = df.Name.isin(['AAL', 'AAP', 'AAPL'])"
   ]
  },
  {
   "cell_type": "code",
   "execution_count": null,
   "id": "d0378e1b",
   "metadata": {},
   "outputs": [],
   "source": [
    "df_2 = df[mask].sort_values(['date', 'Name']).set_index(['date', 'Name'])[['open']]\n",
    "df_2"
   ]
  },
  {
   "cell_type": "code",
   "execution_count": null,
   "id": "ace4548e",
   "metadata": {},
   "outputs": [],
   "source": [
    "df_2.groupby(level=0).open.sum()"
   ]
  },
  {
   "cell_type": "code",
   "execution_count": null,
   "id": "70b6f3b0",
   "metadata": {},
   "outputs": [],
   "source": [
    "df_2['normalized_open'] = df_2.open/df_2.groupby(level=0).open.sum()"
   ]
  },
  {
   "cell_type": "code",
   "execution_count": null,
   "id": "10776018",
   "metadata": {},
   "outputs": [],
   "source": [
    "df_2"
   ]
  },
  {
   "cell_type": "code",
   "execution_count": null,
   "id": "2025be9a",
   "metadata": {},
   "outputs": [],
   "source": [
    "df_2.\\\n",
    "reset_index().\\\n",
    "pivot(index='date', columns='Name', values='normalized_open').\\\n",
    "plot.area(rot=90).legend(bbox_to_anchor=(1,0.5))"
   ]
  },
  {
   "cell_type": "markdown",
   "id": "9146bfbe",
   "metadata": {},
   "source": [
    "## Bar plot"
   ]
  },
  {
   "cell_type": "code",
   "execution_count": null,
   "id": "c470487b",
   "metadata": {},
   "outputs": [],
   "source": [
    "df[mask].groupby('Name')[['open', 'low']].mean()"
   ]
  },
  {
   "cell_type": "code",
   "execution_count": null,
   "id": "3b600982",
   "metadata": {},
   "outputs": [],
   "source": [
    "df[mask].groupby('Name')[['open', 'low']].mean().plot.bar()"
   ]
  },
  {
   "cell_type": "code",
   "execution_count": null,
   "id": "423d6884",
   "metadata": {},
   "outputs": [],
   "source": [
    "df[mask].groupby('Name')[['open', 'low']].mean().plot.barh()"
   ]
  },
  {
   "cell_type": "code",
   "execution_count": null,
   "id": "403ae237",
   "metadata": {},
   "outputs": [],
   "source": [
    "df[mask].groupby('Name')[['open', 'low']].mean().plot.bar(stacked=True)"
   ]
  },
  {
   "cell_type": "code",
   "execution_count": null,
   "id": "9e5ad67a",
   "metadata": {},
   "outputs": [],
   "source": [
    "df[mask].groupby('Name')[['open', 'low']].mean().plot.barh(stacked=True)"
   ]
  },
  {
   "cell_type": "code",
   "execution_count": null,
   "id": "1f657c59",
   "metadata": {},
   "outputs": [],
   "source": [
    "df[mask].groupby('Name')[['open', 'low']].mean().plot.bar(subplots=True)"
   ]
  },
  {
   "cell_type": "code",
   "execution_count": null,
   "id": "20558bba",
   "metadata": {},
   "outputs": [],
   "source": [
    "df[mask].groupby('Name')[['open', 'low']].mean().plot.barh(subplots=True)"
   ]
  },
  {
   "cell_type": "markdown",
   "id": "53c9033d",
   "metadata": {},
   "source": [
    "## Pizza "
   ]
  },
  {
   "cell_type": "code",
   "execution_count": null,
   "id": "6ca78c2b",
   "metadata": {},
   "outputs": [],
   "source": [
    "df[mask].groupby('Name')[['open', 'low']].mean().plot.pie(y='open')"
   ]
  },
  {
   "cell_type": "code",
   "execution_count": null,
   "id": "a9412310",
   "metadata": {},
   "outputs": [],
   "source": [
    "df[mask].groupby('Name')[['open', 'low']].mean().plot.pie(subplots=True)"
   ]
  },
  {
   "cell_type": "markdown",
   "id": "ae038fa4",
   "metadata": {},
   "source": [
    "## Boxplot"
   ]
  },
  {
   "cell_type": "code",
   "execution_count": null,
   "id": "79759991",
   "metadata": {},
   "outputs": [],
   "source": [
    "df[mask][['open', 'high', 'low', 'Name']].plot.box()"
   ]
  },
  {
   "cell_type": "code",
   "execution_count": null,
   "id": "390d9c9d",
   "metadata": {},
   "outputs": [],
   "source": [
    "df[mask][['open', 'high', 'low', 'Name']].plot.box(column='open', by='Name')"
   ]
  },
  {
   "cell_type": "markdown",
   "id": "669a8434",
   "metadata": {},
   "source": [
    "## Densidade"
   ]
  },
  {
   "cell_type": "code",
   "execution_count": null,
   "id": "32d0cf3b",
   "metadata": {},
   "outputs": [],
   "source": [
    "planets.head()"
   ]
  },
  {
   "cell_type": "code",
   "execution_count": null,
   "id": "ab7f97d7",
   "metadata": {},
   "outputs": [],
   "source": [
    "planets.mass.plot.kde()"
   ]
  },
  {
   "cell_type": "code",
   "execution_count": null,
   "id": "9b6f9b4b",
   "metadata": {},
   "outputs": [],
   "source": [
    "planets.mass.plot.density()"
   ]
  },
  {
   "cell_type": "code",
   "execution_count": null,
   "id": "043ff6aa",
   "metadata": {},
   "outputs": [],
   "source": [
    "planets.mass.plot.kde(bw_method=3)"
   ]
  },
  {
   "cell_type": "markdown",
   "id": "208e4e0f",
   "metadata": {},
   "source": [
    "## Histograma"
   ]
  },
  {
   "cell_type": "code",
   "execution_count": null,
   "id": "7e8465d8",
   "metadata": {},
   "outputs": [],
   "source": [
    "planets.mass.plot.hist()"
   ]
  },
  {
   "cell_type": "code",
   "execution_count": null,
   "id": "76a5057d",
   "metadata": {},
   "outputs": [],
   "source": [
    "planets.mass.plot.hist(bins=5)"
   ]
  },
  {
   "cell_type": "code",
   "execution_count": null,
   "id": "b6b4e238",
   "metadata": {},
   "outputs": [],
   "source": [
    "planets.mass.plot.hist(bins=50)"
   ]
  },
  {
   "cell_type": "markdown",
   "id": "44161ace",
   "metadata": {},
   "source": [
    "## Scatter"
   ]
  },
  {
   "cell_type": "code",
   "execution_count": null,
   "id": "bd1e4e49",
   "metadata": {},
   "outputs": [],
   "source": [
    "planets.plot.scatter(x='orbital_period', y='mass')"
   ]
  },
  {
   "cell_type": "code",
   "execution_count": null,
   "id": "f36a1a3f",
   "metadata": {},
   "outputs": [],
   "source": [
    "planets.plot.scatter(x='orbital_period', y='mass', c='distance')"
   ]
  },
  {
   "cell_type": "code",
   "execution_count": null,
   "id": "d262ccb0",
   "metadata": {},
   "outputs": [],
   "source": [
    "planets.plot.scatter(x='orbital_period', y='mass', c='distance', colormap='Blues')"
   ]
  },
  {
   "cell_type": "code",
   "execution_count": null,
   "id": "9b30917a",
   "metadata": {},
   "outputs": [],
   "source": [
    "import numpy as np\n",
    "planets['log_distance'] = np.log(planets.distance)"
   ]
  },
  {
   "cell_type": "code",
   "execution_count": null,
   "id": "bdf5d0c8",
   "metadata": {},
   "outputs": [],
   "source": [
    "planets.plot.scatter(x='orbital_period', y='mass', c='log_distance', colormap='Blues')"
   ]
  }
 ],
 "metadata": {
  "kernelspec": {
   "display_name": "Python 3 (ipykernel)",
   "language": "python",
   "name": "python3"
  },
  "language_info": {
   "codemirror_mode": {
    "name": "ipython",
    "version": 3
   },
   "file_extension": ".py",
   "mimetype": "text/x-python",
   "name": "python",
   "nbconvert_exporter": "python",
   "pygments_lexer": "ipython3",
   "version": "3.10.8"
  }
 },
 "nbformat": 4,
 "nbformat_minor": 5
}
