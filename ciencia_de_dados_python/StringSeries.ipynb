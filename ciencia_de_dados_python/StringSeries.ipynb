{
  "nbformat": 4,
  "nbformat_minor": 0,
  "metadata": {
    "colab": {
      "provenance": []
    },
    "kernelspec": {
      "name": "python3",
      "display_name": "Python 3"
    },
    "language_info": {
      "name": "python"
    }
  },
  "cells": [
    {
      "cell_type": "markdown",
      "source": [
        "#Operação com string em Series"
      ],
      "metadata": {
        "id": "tUJPmyLJSmWE"
      }
    },
    {
      "cell_type": "code",
      "source": [
        "import pandas as pd"
      ],
      "metadata": {
        "id": "N0aEVON2Q0zb"
      },
      "execution_count": null,
      "outputs": []
    },
    {
      "cell_type": "code",
      "source": [
        "nomes = pd.Series(['Gabriel Assuncao', 'ANa Lacerda', 'aMANDA silva', 'Victor seabra', 'tiago oliveira'])"
      ],
      "metadata": {
        "id": "Ka0hhmkgRCMv"
      },
      "execution_count": null,
      "outputs": []
    },
    {
      "cell_type": "code",
      "source": [
        "nomes.str.lower()"
      ],
      "metadata": {
        "id": "F07KnXaxRTcr"
      },
      "execution_count": null,
      "outputs": []
    },
    {
      "cell_type": "code",
      "source": [
        "nomes.str.capitalize()"
      ],
      "metadata": {
        "id": "z3_7AJOSRZgc"
      },
      "execution_count": null,
      "outputs": []
    },
    {
      "cell_type": "code",
      "source": [
        "nomes.str.split()"
      ],
      "metadata": {
        "id": "zAn0ieqbRc9b"
      },
      "execution_count": null,
      "outputs": []
    },
    {
      "cell_type": "code",
      "source": [
        "nomes.str.len()"
      ],
      "metadata": {
        "id": "RjV-UP6ORguq"
      },
      "execution_count": null,
      "outputs": []
    },
    {
      "cell_type": "code",
      "source": [
        "nomes.str.startswith('t')"
      ],
      "metadata": {
        "id": "GUzIgf_HRnBN"
      },
      "execution_count": null,
      "outputs": []
    },
    {
      "cell_type": "code",
      "source": [
        "nomes.str.capitalize().str.findall(r'^[^AEIOU].*') #No começo não começa com AEIOU"
      ],
      "metadata": {
        "id": "THwpMcXrRz3X"
      },
      "execution_count": null,
      "outputs": []
    },
    {
      "cell_type": "code",
      "source": [
        "nomes.str.contains('b').sum()"
      ],
      "metadata": {
        "id": "WPb7Z5CtSb6h"
      },
      "execution_count": null,
      "outputs": []
    },
    {
      "cell_type": "markdown",
      "source": [
        "# Explode"
      ],
      "metadata": {
        "id": "Ju3gQFnOTa7s"
      }
    },
    {
      "cell_type": "code",
      "source": [
        "df = pd.DataFrame({'nomes': nomes.str.split()})"
      ],
      "metadata": {
        "id": "5S1xmyjzS9XV"
      },
      "execution_count": null,
      "outputs": []
    },
    {
      "cell_type": "code",
      "source": [
        "df = df.reset_index()"
      ],
      "metadata": {
        "id": "2AjuzQ3fTF2u"
      },
      "execution_count": null,
      "outputs": []
    },
    {
      "cell_type": "code",
      "source": [
        "df.explode('nomes')"
      ],
      "metadata": {
        "id": "vo7SzfjTTGyN"
      },
      "execution_count": null,
      "outputs": []
    }
  ]
}