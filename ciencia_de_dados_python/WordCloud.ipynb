{
 "cells": [
  {
   "cell_type": "code",
   "execution_count": null,
   "id": "8c60ab5c",
   "metadata": {},
   "outputs": [],
   "source": [
    "%pip install wordcloud"
   ]
  },
  {
   "cell_type": "code",
   "execution_count": null,
   "id": "e732bbe8",
   "metadata": {},
   "outputs": [],
   "source": [
    "import matplotlib.pyplot as plt\n",
    "\n",
    "from wordcloud import WordCloud, STOPWORDS"
   ]
  },
  {
   "cell_type": "code",
   "execution_count": null,
   "id": "d1cf0eaa",
   "metadata": {},
   "outputs": [],
   "source": [
    "text = open('starwars.txt').read()"
   ]
  },
  {
   "cell_type": "code",
   "execution_count": null,
   "id": "7b53a211",
   "metadata": {},
   "outputs": [],
   "source": [
    "text"
   ]
  },
  {
   "cell_type": "code",
   "execution_count": null,
   "id": "5824c130",
   "metadata": {},
   "outputs": [],
   "source": [
    "wc = WordCloud(stopwords=STOPWORDS).generate(text)\n",
    "plt.figure(figsize=[16,16])\n",
    "plt.imshow(wc, interpolation=\"bilinear\")\n",
    "plt.axis(\"off\")\n",
    "plt.show()"
   ]
  },
  {
   "cell_type": "code",
   "execution_count": null,
   "id": "8a003036",
   "metadata": {},
   "outputs": [],
   "source": [
    "text = text.lower()\n",
    "text = text.replace('\\n', '')\n",
    "text = ' '.join(text.split())\n",
    "wc = WordCloud(stopwords=STOPWORDS).generate(text)\n",
    "plt.figure(figsize=[16,16])\n",
    "plt.imshow(wc, interpolation=\"bilinear\")\n",
    "plt.axis(\"off\")\n",
    "plt.show()"
   ]
  },
  {
   "cell_type": "code",
   "execution_count": null,
   "id": "38ea63fc",
   "metadata": {},
   "outputs": [],
   "source": [
    "wc = WordCloud(stopwords=STOPWORDS, background_color='white', max_font_size=50).generate(text)\n",
    "plt.figure(figsize=[16,16])\n",
    "plt.imshow(wc, interpolation=\"bilinear\")\n",
    "plt.axis(\"off\")\n",
    "plt.show()"
   ]
  },
  {
   "cell_type": "code",
   "execution_count": null,
   "id": "1b2c88db",
   "metadata": {},
   "outputs": [],
   "source": [
    "word_dict = {}\n",
    "for word in text.split():\n",
    "    if word in word_dict.keys():\n",
    "        word_dict[word] += 1\n",
    "    else:\n",
    "        word_dict[word] = 1"
   ]
  },
  {
   "cell_type": "code",
   "execution_count": null,
   "id": "5cf7cf40",
   "metadata": {},
   "outputs": [],
   "source": [
    "vocab = dict(sorted(filter(lambda x: len(x[0])>3, word_dict.items()), key=lambda x:x[1], reverse=True))"
   ]
  },
  {
   "cell_type": "code",
   "execution_count": null,
   "id": "9abfc447",
   "metadata": {},
   "outputs": [],
   "source": [
    "wc = WordCloud().generate_from_frequencies(vocab)\n",
    "plt.figure(figsize=[16,16])\n",
    "plt.imshow(wc, interpolation=\"bilinear\")\n",
    "plt.axis(\"off\")\n",
    "plt.show()"
   ]
  },
  {
   "cell_type": "code",
   "execution_count": null,
   "id": "ce522098",
   "metadata": {},
   "outputs": [],
   "source": [
    "import numpy as np\n",
    "from PIL import Image\n",
    "mask = np.array(Image.open('Stormtrooper-Helmet-10.jpg'))"
   ]
  },
  {
   "cell_type": "code",
   "execution_count": null,
   "id": "4f23bf06",
   "metadata": {},
   "outputs": [],
   "source": [
    "mask = (255-mask).astype('uint8')"
   ]
  },
  {
   "cell_type": "code",
   "execution_count": null,
   "id": "2cd743ea",
   "metadata": {},
   "outputs": [],
   "source": [
    "wc = WordCloud(max_words=1500, mask=mask, stopwords=STOPWORDS, margin=10,\n",
    "               random_state=1, background_color='white', \n",
    "               contour_color='black', contour_width=2).generate(text)\n",
    "plt.figure(figsize=[16,16])\n",
    "plt.imshow(wc, interpolation=\"bilinear\")\n",
    "plt.axis(\"off\")\n",
    "plt.show()"
   ]
  }
 ],
 "metadata": {
  "kernelspec": {
   "display_name": "Python 3 (ipykernel)",
   "language": "python",
   "name": "python3"
  },
  "language_info": {
   "codemirror_mode": {
    "name": "ipython",
    "version": 3
   },
   "file_extension": ".py",
   "mimetype": "text/x-python",
   "name": "python",
   "nbconvert_exporter": "python",
   "pygments_lexer": "ipython3",
   "version": "3.10.8"
  }
 },
 "nbformat": 4,
 "nbformat_minor": 5
}
